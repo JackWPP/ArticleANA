{
 "cells": [
  {
   "cell_type": "code",
   "execution_count": 7,
   "id": "initial_id",
   "metadata": {
    "ExecuteTime": {
     "end_time": "2025-02-06T16:10:39.947631Z",
     "start_time": "2025-02-06T16:10:39.036640Z"
    },
    "collapsed": true
   },
   "outputs": [],
   "source": [
    "import re\n",
    "\n",
    "def strip_code_block(content: str) -> str:\n",
    "    \"\"\"\n",
    "    如果字符串以 ``` 或 ```json 开头，并以 ``` 结尾，\n",
    "    则去掉这些 Markdown 代码块标记，只保留中间的 JSON。\n",
    "    \"\"\"\n",
    "    content = content.strip()\n",
    "    content = re.sub(r\"^```(json)?\", \"\", content, flags=re.MULTILINE)\n",
    "    content = re.sub(r\"```$\", \"\", content, flags=re.MULTILINE)\n",
    "    return content.strip()\n",
    "\n",
    "# ========== 1. 基础配置 ==========\n",
    "\n",
    "API_KEY = \"sk-czqjopvpoxqgwfulmuytseopotcottuwxqsdarxqdyqirxof\"  # 请替换为你的真实 API Key\n",
    "INPUT_EXCEL = \"TEXT.xlsx\"       # 输入的 Excel 文件\n",
    "OUTPUT_EXCEL = \"output_file2.xlsx\"   # 输出结果的 Excel 文件\n",
    "\n",
    "BASE_URL = \"https://api.siliconflow.cn/v1/chat/completions\"\n",
    "\n",
    "VALID_CATEGORIES = {\n",
    "    \"奥运\", \"国内政治\", \"国际政治\", \"军事和防御\", \"国内秩序\", \"经济\", \"劳动关系\", \"商务活动\", \"交通\",\n",
    "    \"卫生福利\", \"人口\", \"教育\", \"传播\", \"住房\", \"环境\", \"能源\", \"科技\", \"社会关系\", \"灾害\", \"体育\",\n",
    "    \"文化活动\", \"时尚\", \"庆典\", \"人类爱好\", \"其他\"\n",
    "}\n",
    "VALID_ATTITUDES = {\"positive\", \"negative\", \"hostile\", \"pleasure\", \"pain\"}\n",
    "\n",
    "# 构建基础的 Payload 配置（注意如果有嵌套字典，copy() 只是浅拷贝）\n",
    "BASE_PAYLOAD = {\n",
    "    \"model\": \"Qwen/Qwen2.5-32B-Instruct\",  # 请根据需要修改模型名称\n",
    "    \"stream\": False,\n",
    "    \"max_tokens\": 512,\n",
    "    \"stop\": [\"null\"],\n",
    "    \"temperature\": 0.7,\n",
    "    \"top_p\": 0.7,\n",
    "    \"top_k\": 50,\n",
    "    \"frequency_penalty\": 0.5,\n",
    "    \"n\": 1,\n",
    "    \"response_format\": {\"type\": \"text\"},\n",
    "    \"tools\": [\n",
    "        {\n",
    "            \"type\": \"function\",\n",
    "            \"function\": {\n",
    "                \"description\": \"<string>\",\n",
    "                \"name\": \"<string>\",\n",
    "                \"parameters\": {},\n",
    "                \"strict\": False\n",
    "            }\n",
    "        }\n",
    "    ]\n",
    "}\n",
    "\n",
    "HEADERS = {\n",
    "    \"Authorization\": f\"Bearer {API_KEY}\",\n",
    "    \"Content-Type\": \"application/json\"\n",
    "}"
   ]
  },
  {
   "cell_type": "code",
   "execution_count": 10,
   "id": "8d305a3be8fff902",
   "metadata": {
    "ExecuteTime": {
     "end_time": "2025-02-06T16:18:19.770152Z",
     "start_time": "2025-02-06T16:18:19.597579Z"
    }
   },
   "outputs": [
    {
     "data": {
      "text/plain": [
       "''"
      ]
     },
     "metadata": {},
     "output_type": "display_data"
    }
   ],
   "source": [
    "# ========== 2. 定义辅助函数 ==========\n",
    "import time\n",
    "import json\n",
    "import requests\n",
    "from IPython.display import display, update_display\n",
    "\n",
    "# 全局的调试输出 display id\n",
    "DEBUG_DISPLAY_ID = \"debug_display\"\n",
    "\n",
    "# 创建调试信息输出区域（如果该区域还未创建）\n",
    "display(\"\", display_id=DEBUG_DISPLAY_ID)\n",
    "\n",
    "def update_debug(msg: str):\n",
    "    \"\"\"\n",
    "    更新调试信息显示，不清空其他输出（如 tqdm 进度条）\n",
    "    \"\"\"\n",
    "    update_display(msg, display_id=DEBUG_DISPLAY_ID, clear=True)\n",
    "\n",
    "def normalize_category(raw_category: str) -> str:\n",
    "    \"\"\"\n",
    "    将模型输出的分类修正为预定义的值，不匹配时返回 '其他'\n",
    "    \"\"\"\n",
    "    raw_category = raw_category.strip()\n",
    "    for cat in VALID_CATEGORIES:\n",
    "        if cat in raw_category:\n",
    "            return cat\n",
    "    return \"其他\"\n",
    "\n",
    "def normalize_attitude(raw_attitude: str) -> str:\n",
    "    \"\"\"\n",
    "    将模型输出的情感修正为预定义的值，不匹配时返回 'neutral'\n",
    "    \"\"\"\n",
    "    raw_attitude = raw_attitude.strip().lower()\n",
    "    for att in VALID_ATTITUDES:\n",
    "        if att in raw_attitude:\n",
    "            return att\n",
    "    return \"neutral\"\n",
    "\n",
    "def get_classification_and_sentiment(title: str, text: str) -> (str, str):\n",
    "    \"\"\"\n",
    "    一次 API 请求，获取文章的分类和情感。\n",
    "    内部增加了重试机制，确保在获得完整回复后才返回结果。\n",
    "    \"\"\"\n",
    "    prompt = f\"\"\"\n",
    "请阅读以下文章，并给出以下信息（用JSON格式返回）：\n",
    "1. classification：只能从下列类别中选择：\n",
    "{list(VALID_CATEGORIES)}\n",
    "2. sentiment：只能从 [positive, negative, hostile, pleasure, pain] 中选择\n",
    "\n",
    "请返回 JSON 格式（请注意不要输出任何“```”等多余字符）：\n",
    "{{\n",
    "  \"classification\": \"xxx\",\n",
    "  \"sentiment\": \"xxx\"\n",
    "}}\n",
    "\n",
    "如果无法判断，请将 classification = \"其他\"；sentiment = \"neutral\"。\n",
    "\n",
    "文章标题：{title}\n",
    "文章内容：{text}\n",
    "\"\"\"\n",
    "    # 注意这里用浅拷贝即可，messages 字段会覆盖掉原有的同名字段\n",
    "    payload = BASE_PAYLOAD.copy()\n",
    "    payload[\"messages\"] = [\n",
    "        {\n",
    "            \"role\": \"user\",\n",
    "            \"content\": prompt\n",
    "        }\n",
    "    ]\n",
    "    \n",
    "    max_retries = 5\n",
    "    retry_count = 0\n",
    "    while retry_count < max_retries:\n",
    "        try:\n",
    "            response = requests.post(BASE_URL, json=payload, headers=HEADERS)\n",
    "            if response.status_code == 429:\n",
    "                update_debug(f\"触发速率限制 (HTTP 429)，等待60秒后重试... 剩余重试次数: {max_retries - retry_count}\")\n",
    "                time.sleep(60)\n",
    "                retry_count += 1\n",
    "                continue\n",
    "            elif response.status_code != 200:\n",
    "                update_debug(f\"服务器返回状态码 {response.status_code}，等待10秒后重试... 剩余重试次数: {max_retries - retry_count}\")\n",
    "                time.sleep(10)\n",
    "                retry_count += 1\n",
    "                continue\n",
    "\n",
    "            # 成功获得回复后，更新调试输出区域显示返回信息\n",
    "            debug_message = f\"===== 调试信息：服务器返回 =====\\n{response.text}\\n=============================\"\n",
    "            update_debug(debug_message)\n",
    "\n",
    "            response_json = response.json()\n",
    "            if \"choices\" not in response_json or len(response_json[\"choices\"]) == 0:\n",
    "                update_debug(\"未获得有效的 choices，返回默认值\")\n",
    "                return \"其他\", \"neutral\"\n",
    "\n",
    "            raw_content = response_json[\"choices\"][0][\"message\"][\"content\"]\n",
    "            raw_content = strip_code_block(raw_content)\n",
    "            result = json.loads(raw_content)\n",
    "\n",
    "            raw_cat = result.get(\"classification\", \"其他\")\n",
    "            raw_sen = result.get(\"sentiment\", \"neutral\")\n",
    "            category = normalize_category(raw_cat)\n",
    "            sentiment = normalize_attitude(raw_sen)\n",
    "            return category, sentiment\n",
    "\n",
    "        except Exception as e:\n",
    "            update_debug(f\"请求或解析时出现异常：{e}，等待10秒后重试... 剩余重试次数: {max_retries - retry_count}\")\n",
    "            time.sleep(10)\n",
    "            retry_count += 1\n",
    "\n",
    "    update_debug(\"达到最大重试次数，返回默认值\")\n",
    "    return \"其他\", \"neutral\"\n"
   ]
  },
  {
   "cell_type": "code",
   "execution_count": null,
   "id": "4f89ddc8915bb9a",
   "metadata": {
    "ExecuteTime": {
     "end_time": "2025-02-06T16:59:16.683485Z",
     "start_time": "2025-02-06T16:18:21.635636Z"
    }
   },
   "outputs": [
    {
     "name": "stdout",
     "output_type": "stream",
     "text": [
      "===== 调试信息：服务器返回 =====\n",
      "{\"id\":\"0194dcbeebcea35e91da38e1d5ae77f2\",\"object\":\"chat.completion\",\"created\":1738870287,\"model\":\"Qwen/Qwen2.5-32B-Instruct\",\"choices\":[{\"index\":0,\"message\":{\"role\":\"assistant\",\"content\":\"{\\n  \\\"classification\\\": \\\"经济\\\",\\n  \\\"sentiment\\\": \\\"positive\\\"\\n}\"},\"finish_reason\":\"stop\"}],\"usage\":{\"prompt_tokens\":2035,\"completion_tokens\":17,\"total_tokens\":2052},\"system_fingerprint\":\"\"}\n",
      "=============================\n",
      "\n"
     ]
    },
    {
     "ename": "KeyboardInterrupt",
     "evalue": "",
     "output_type": "error",
     "traceback": [
      "\u001b[1;31m---------------------------------------------------------------------------\u001b[0m",
      "\u001b[1;31mKeyboardInterrupt\u001b[0m                         Traceback (most recent call last)",
      "Cell \u001b[1;32mIn[9], line 23\u001b[0m\n\u001b[0;32m     14\u001b[0m results\u001b[38;5;241m.\u001b[39mappend({\n\u001b[0;32m     15\u001b[0m     \u001b[38;5;124m'\u001b[39m\u001b[38;5;124mid\u001b[39m\u001b[38;5;124m'\u001b[39m: art_id,\n\u001b[0;32m     16\u001b[0m     \u001b[38;5;124m'\u001b[39m\u001b[38;5;124mtitle\u001b[39m\u001b[38;5;124m'\u001b[39m: title,\n\u001b[1;32m   (...)\u001b[0m\n\u001b[0;32m     19\u001b[0m     \u001b[38;5;124m'\u001b[39m\u001b[38;5;124msentiment\u001b[39m\u001b[38;5;124m'\u001b[39m: sentiment\n\u001b[0;32m     20\u001b[0m })\n\u001b[0;32m     22\u001b[0m \u001b[38;5;66;03m# 为了避免频繁请求导致触发速率限制，每次请求间等待一定时间\u001b[39;00m\n\u001b[1;32m---> 23\u001b[0m \u001b[43mtime\u001b[49m\u001b[38;5;241;43m.\u001b[39;49m\u001b[43msleep\u001b[49m\u001b[43m(\u001b[49m\u001b[38;5;241;43m0.5\u001b[39;49m\u001b[43m)\u001b[49m\n",
      "\u001b[1;31mKeyboardInterrupt\u001b[0m: "
     ]
    }
   ],
   "source": [
    "# ========== 3. 主流程 ==========\n",
    "import pandas as pd\n",
    "import time\n",
    "from tqdm.notebook import tqdm  # 使用 notebook 版 tqdm\n",
    "\n",
    "# 建议在本 cell 的开始处创建调试输出区域（如果辅助函数所在 cell 未执行，也可确保该区域存在）\n",
    "from IPython.display import display\n",
    "display(\"\", display_id=DEBUG_DISPLAY_ID)\n",
    "\n",
    "df = pd.read_excel(INPUT_EXCEL)\n",
    "results = []\n",
    "\n",
    "# 使用 tqdm 的 notebook 版本来实现原地刷新进度条\n",
    "with tqdm(total=df.shape[0], desc=\"Processing\") as pbar:\n",
    "    for idx, row in df.iterrows():\n",
    "        art_id = row['id']\n",
    "        title = row['title']\n",
    "        text = row['text']\n",
    "\n",
    "        category, sentiment = get_classification_and_sentiment(title, text)\n",
    "        results.append({\n",
    "            'id': art_id,\n",
    "            'title': title,\n",
    "            'text': text,\n",
    "            'classification': category,\n",
    "            'sentiment': sentiment\n",
    "        })\n",
    "        \n",
    "        pbar.update(1)\n",
    "        time.sleep(0.5)\n"
   ]
  },
  {
   "cell_type": "code",
   "execution_count": 4,
   "id": "02ee9df1",
   "metadata": {},
   "outputs": [
    {
     "name": "stdout",
     "output_type": "stream",
     "text": [
      "处理完成，结果已保存到：output_file.xlsx\n"
     ]
    }
   ],
   "source": [
    "result_df = pd.DataFrame(results).sort_values(by='id')\n",
    "result_df.to_excel(OUTPUT_EXCEL, index=False)\n",
    "print(f\"处理完成，结果已保存到：{OUTPUT_EXCEL}\")"
   ]
  },
  {
   "cell_type": "code",
   "execution_count": null,
   "id": "c9fb1161",
   "metadata": {},
   "outputs": [],
   "source": []
  }
 ],
 "metadata": {
  "kernelspec": {
   "display_name": "ArticleANA",
   "language": "python",
   "name": "python3"
  },
  "language_info": {
   "codemirror_mode": {
    "name": "ipython",
    "version": 3
   },
   "file_extension": ".py",
   "mimetype": "text/x-python",
   "name": "python",
   "nbconvert_exporter": "python",
   "pygments_lexer": "ipython3",
   "version": "3.8.20"
  }
 },
 "nbformat": 4,
 "nbformat_minor": 5
}
