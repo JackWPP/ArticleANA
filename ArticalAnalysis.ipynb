{
 "cells": [
  {
   "cell_type": "code",
   "execution_count": 1,
   "id": "initial_id",
   "metadata": {
    "ExecuteTime": {
     "end_time": "2025-02-06T16:10:39.947631Z",
     "start_time": "2025-02-06T16:10:39.036640Z"
    },
    "collapsed": true
   },
   "outputs": [],
   "source": [
    "import requests\n",
    "import pandas as pd\n",
    "import time\n",
    "import json\n",
    "from tqdm import tqdm\n",
    "import re\n",
    "\n",
    "def strip_code_block(content: str) -> str:\n",
    "    \"\"\"\n",
    "    如果字符串以 ``` 或 ```json 开头，并以 ``` 结尾，\n",
    "    则去掉这些 Markdown 代码块标记，只保留中间的 JSON。\n",
    "    \"\"\"\n",
    "    content = content.strip()\n",
    "    content = re.sub(r\"^```(json)?\", \"\", content, flags=re.MULTILINE)\n",
    "    content = re.sub(r\"```$\", \"\", content, flags=re.MULTILINE)\n",
    "    return content.strip()\n",
    "\n",
    "# ========== 1. 基础配置 ==========\n",
    "\n",
    "API_KEY = \"sk-\"  # 请替换为你的真实 API Key\n",
    "INPUT_EXCEL = \"TEXT.xlsx\"       # 输入的 Excel 文件\n",
    "OUTPUT_EXCEL = \"output_file.xlsx\"   # 输出结果的 Excel 文件\n",
    "\n",
    "BASE_URL = \"https://api.siliconflow.cn/v1/chat/completions\"\n",
    "\n",
    "VALID_CATEGORIES = {\n",
    "    \"奥运\", \"国内政治\", \"国际政治\", \"军事和防御\", \"国内秩序\", \"经济\", \"劳动关系\", \"商务活动\", \"交通\",\n",
    "    \"卫生福利\", \"人口\", \"教育\", \"传播\", \"住房\", \"环境\", \"能源\", \"科技\", \"社会关系\", \"灾害\", \"体育\",\n",
    "    \"文化活动\", \"时尚\", \"庆典\", \"人类爱好\", \"其他\"\n",
    "}\n",
    "VALID_ATTITUDES = {\"positive\", \"negative\", \"hostile\", \"pleasure\", \"pain\"}\n",
    "\n",
    "# 构建基础的 Payload 配置（注意如果有嵌套字典，copy() 只是浅拷贝）\n",
    "BASE_PAYLOAD = {\n",
    "    \"model\": \"Qwen/Qwen2.5-32B-Instruct\",  # 请根据需要修改模型名称\n",
    "    \"stream\": False,\n",
    "    \"max_tokens\": 512,\n",
    "    \"stop\": [\"null\"],\n",
    "    \"temperature\": 0.7,\n",
    "    \"top_p\": 0.7,\n",
    "    \"top_k\": 50,\n",
    "    \"frequency_penalty\": 0.5,\n",
    "    \"n\": 1,\n",
    "    \"response_format\": {\"type\": \"text\"},\n",
    "    \"tools\": [\n",
    "        {\n",
    "            \"type\": \"function\",\n",
    "            \"function\": {\n",
    "                \"description\": \"<string>\",\n",
    "                \"name\": \"<string>\",\n",
    "                \"parameters\": {},\n",
    "                \"strict\": False\n",
    "            }\n",
    "        }\n",
    "    ]\n",
    "}\n",
    "\n",
    "HEADERS = {\n",
    "    \"Authorization\": f\"Bearer {API_KEY}\",\n",
    "    \"Content-Type\": \"application/json\"\n",
    "}"
   ]
  },
  {
   "cell_type": "code",
   "execution_count": 2,
   "id": "8d305a3be8fff902",
   "metadata": {
    "ExecuteTime": {
     "end_time": "2025-02-06T16:18:19.770152Z",
     "start_time": "2025-02-06T16:18:19.597579Z"
    }
   },
   "outputs": [],
   "source": [
    "# ========== 2. 定义辅助函数 ==========\n",
    "\n",
    "def normalize_category(raw_category: str) -> str:\n",
    "    \"\"\"\n",
    "    将模型输出的分类修正为预定义的值，不匹配时返回 '其他'\n",
    "    \"\"\"\n",
    "    raw_category = raw_category.strip()\n",
    "    for cat in VALID_CATEGORIES:\n",
    "        if cat in raw_category:\n",
    "            return cat\n",
    "    return \"其他\"\n",
    "\n",
    "def normalize_attitude(raw_attitude: str) -> str:\n",
    "    \"\"\"\n",
    "    将模型输出的情感修正为预定义的值，不匹配时返回 'neutral'\n",
    "    \"\"\"\n",
    "    raw_attitude = raw_attitude.strip().lower()\n",
    "    for att in VALID_ATTITUDES:\n",
    "        if att in raw_attitude:\n",
    "            return att\n",
    "    return \"neutral\"\n",
    "\n",
    "def get_classification_and_sentiment(title: str, text: str) -> (str, str):\n",
    "    \"\"\"\n",
    "    一次 API 请求，获取文章的分类和情感。\n",
    "    内部增加了重试机制，确保在获得完整回复后才返回结果。\n",
    "    \"\"\"\n",
    "    prompt = f\"\"\"\n",
    "请阅读以下文章，并给出以下信息（用JSON格式返回）：\n",
    "1. classification：只能从下列类别中选择：\n",
    "{list(VALID_CATEGORIES)}\n",
    "2. sentiment：只能从 [positive, negative, hostile, pleasure, pain] 中选择\n",
    "\n",
    "请返回 JSON 格式（请注意不要输出任何“```”等多余字符）：\n",
    "{{\n",
    "  \"classification\": \"xxx\",\n",
    "  \"sentiment\": \"xxx\"\n",
    "}}\n",
    "\n",
    "如果无法判断，请将 classification = \"其他\"；sentiment = \"neutral\"。\n",
    "\n",
    "文章标题：{title}\n",
    "文章内容：{text}\n",
    "\"\"\"\n",
    "    # 注意这里用浅拷贝即可，messages 字段会覆盖掉原有的同名字段\n",
    "    payload = BASE_PAYLOAD.copy()\n",
    "    payload[\"messages\"] = [\n",
    "        {\n",
    "            \"role\": \"user\",\n",
    "            \"content\": prompt\n",
    "        }\n",
    "    ]\n",
    "    \n",
    "    max_retries = 5\n",
    "    retry_count = 0\n",
    "    while retry_count < max_retries:\n",
    "        try:\n",
    "            response = requests.post(BASE_URL, json=payload, headers=HEADERS)\n",
    "            # 如果触发速率限制，通常返回 HTTP 429\n",
    "            if response.status_code == 429:\n",
    "                print(\"触发速率限制 (HTTP 429)，等待60秒后重试...\")\n",
    "                time.sleep(60)\n",
    "                retry_count += 1\n",
    "                continue\n",
    "            elif response.status_code != 200:\n",
    "                print(f\"服务器返回状态码 {response.status_code}，等待10秒后重试...\")\n",
    "                time.sleep(10)\n",
    "                retry_count += 1\n",
    "                continue\n",
    "\n",
    "            # 打印调试信息\n",
    "            print(\"===== 调试信息：服务器返回 =====\")\n",
    "            print(response.text)\n",
    "            print(\"=============================\\n\")\n",
    "\n",
    "            response_json = response.json()\n",
    "            if \"choices\" not in response_json or len(response_json[\"choices\"]) == 0:\n",
    "                print(\"未获得有效的 choices，返回默认值\")\n",
    "                return \"其他\", \"neutral\"\n",
    "\n",
    "            raw_content = response_json[\"choices\"][0][\"message\"][\"content\"]\n",
    "            raw_content = strip_code_block(raw_content)\n",
    "            result = json.loads(raw_content)\n",
    "\n",
    "            raw_cat = result.get(\"classification\", \"其他\")\n",
    "            raw_sen = result.get(\"sentiment\", \"neutral\")\n",
    "            category = normalize_category(raw_cat)\n",
    "            sentiment = normalize_attitude(raw_sen)\n",
    "            return category, sentiment\n",
    "\n",
    "        except Exception as e:\n",
    "            print(f\"请求或解析时出现异常：{e}，等待10秒后重试...\")\n",
    "            time.sleep(10)\n",
    "            retry_count += 1\n",
    "\n",
    "    print(\"达到最大重试次数，返回默认值\")\n",
    "    return \"其他\", \"neutral\""
   ]
  },
  {
   "cell_type": "code",
   "execution_count": 3,
   "id": "4f89ddc8915bb9a",
   "metadata": {
    "ExecuteTime": {
     "end_time": "2025-02-06T16:59:16.683485Z",
     "start_time": "2025-02-06T16:18:21.635636Z"
    }
   },
   "outputs": [
    {
     "name": "stderr",
     "output_type": "stream",
     "text": [
      "Processing:   0%|          | 0/1060 [00:00<?, ?it/s]"
     ]
    },
    {
     "name": "stdout",
     "output_type": "stream",
     "text": [
      "===== 调试信息：服务器返回 =====\n",
      "{\"id\":\"0194dc585546348f0117ea16761d88da\",\"object\":\"chat.completion\",\"created\":1738863564,\"model\":\"Qwen/Qwen2.5-32B-Instruct\",\"choices\":[{\"index\":0,\"message\":{\"role\":\"assistant\",\"content\":\"{\\n  \\\"classification\\\": \\\"商务活动\\\",\\n  \\\"sentiment\\\": \\\"neutral\\\"\\n}\"},\"finish_reason\":\"stop\"}],\"usage\":{\"prompt_tokens\":2105,\"completion_tokens\":18,\"total_tokens\":2123},\"system_fingerprint\":\"\"}\n",
      "=============================\n",
      "\n"
     ]
    },
    {
     "name": "stderr",
     "output_type": "stream",
     "text": [
      "Processing:   0%|          | 1/1060 [00:01<23:30,  1.33s/it]"
     ]
    },
    {
     "name": "stdout",
     "output_type": "stream",
     "text": [
      "===== 调试信息：服务器返回 =====\n",
      "{\"id\":\"0194dc585a70d151c3a0129bbfd987ec\",\"object\":\"chat.completion\",\"created\":1738863565,\"model\":\"Qwen/Qwen2.5-32B-Instruct\",\"choices\":[{\"index\":0,\"message\":{\"role\":\"assistant\",\"content\":\"{\\n  \\\"classification\\\": \\\"国际政治\\\",\\n  \\\"sentiment\\\": \\\"neutral\\\"\\n}\"},\"finish_reason\":\"stop\"}],\"usage\":{\"prompt_tokens\":1456,\"completion_tokens\":18,\"total_tokens\":1474},\"system_fingerprint\":\"\"}\n",
      "=============================\n",
      "\n"
     ]
    },
    {
     "name": "stderr",
     "output_type": "stream",
     "text": [
      "Processing:   0%|          | 2/1060 [00:02<24:15,  1.38s/it]"
     ]
    },
    {
     "name": "stdout",
     "output_type": "stream",
     "text": [
      "===== 调试信息：服务器返回 =====\n",
      "{\"id\":\"0194dc585feedcb3a4233751455bc1a5\",\"object\":\"chat.completion\",\"created\":1738863566,\"model\":\"Qwen/Qwen2.5-32B-Instruct\",\"choices\":[{\"index\":0,\"message\":{\"role\":\"assistant\",\"content\":\"{\\n  \\\"classification\\\": \\\"经济\\\",\\n  \\\"sentiment\\\": \\\"neutral\\\"\\n}\"},\"finish_reason\":\"stop\"}],\"usage\":{\"prompt_tokens\":2339,\"completion_tokens\":17,\"total_tokens\":2356},\"system_fingerprint\":\"\"}\n",
      "=============================\n",
      "\n"
     ]
    },
    {
     "name": "stderr",
     "output_type": "stream",
     "text": [
      "Processing:   0%|          | 3/1060 [00:04<24:42,  1.40s/it]"
     ]
    },
    {
     "name": "stdout",
     "output_type": "stream",
     "text": [
      "===== 调试信息：服务器返回 =====\n",
      "{\"id\":\"0194dc586587d69bcf0b710cc3603ba2\",\"object\":\"chat.completion\",\"created\":1738863568,\"model\":\"Qwen/Qwen2.5-32B-Instruct\",\"choices\":[{\"index\":0,\"message\":{\"role\":\"assistant\",\"content\":\"{\\n  \\\"classification\\\": \\\"文化活动\\\",\\n  \\\"sentiment\\\": \\\"pleasure\\\"\\n}\"},\"finish_reason\":\"stop\"}],\"usage\":{\"prompt_tokens\":2165,\"completion_tokens\":19,\"total_tokens\":2184},\"system_fingerprint\":\"\"}\n",
      "=============================\n",
      "\n"
     ]
    },
    {
     "name": "stderr",
     "output_type": "stream",
     "text": [
      "Processing:   0%|          | 4/1060 [00:05<23:51,  1.36s/it]"
     ]
    },
    {
     "name": "stdout",
     "output_type": "stream",
     "text": [
      "===== 调试信息：服务器返回 =====\n",
      "{\"id\":\"0194dc586a973f63787ae0f306ec8568\",\"object\":\"chat.completion\",\"created\":1738863569,\"model\":\"Qwen/Qwen2.5-32B-Instruct\",\"choices\":[{\"index\":0,\"message\":{\"role\":\"assistant\",\"content\":\"{\\n  \\\"classification\\\": \\\"商务活动\\\",\\n  \\\"sentiment\\\": \\\"negative\\\"\\n}\"},\"finish_reason\":\"stop\"}],\"usage\":{\"prompt_tokens\":1589,\"completion_tokens\":18,\"total_tokens\":1607},\"system_fingerprint\":\"\"}\n",
      "=============================\n",
      "\n"
     ]
    },
    {
     "name": "stderr",
     "output_type": "stream",
     "text": [
      "Processing:   0%|          | 5/1060 [00:06<23:38,  1.34s/it]"
     ]
    },
    {
     "name": "stdout",
     "output_type": "stream",
     "text": [
      "===== 调试信息：服务器返回 =====\n",
      "{\"id\":\"0194dc586fae68b5f7a07812beb2741c\",\"object\":\"chat.completion\",\"created\":1738863570,\"model\":\"Qwen/Qwen2.5-32B-Instruct\",\"choices\":[{\"index\":0,\"message\":{\"role\":\"assistant\",\"content\":\"{\\n  \\\"classification\\\": \\\"能源\\\",\\n  \\\"sentiment\\\": \\\"neutral\\\"\\n}\"},\"finish_reason\":\"stop\"}],\"usage\":{\"prompt_tokens\":1732,\"completion_tokens\":17,\"total_tokens\":1749},\"system_fingerprint\":\"\"}\n",
      "=============================\n",
      "\n"
     ]
    },
    {
     "name": "stderr",
     "output_type": "stream",
     "text": [
      "Processing:   1%|          | 6/1060 [00:07<22:45,  1.30s/it]"
     ]
    },
    {
     "name": "stdout",
     "output_type": "stream",
     "text": [
      "===== 调试信息：服务器返回 =====\n",
      "{\"id\":\"0194dc587466ee8506a04f7629e6e28f\",\"object\":\"chat.completion\",\"created\":1738863572,\"model\":\"Qwen/Qwen2.5-32B-Instruct\",\"choices\":[{\"index\":0,\"message\":{\"role\":\"assistant\",\"content\":\"{\\n  \\\"classification\\\": \\\"商务活动\\\",\\n  \\\"sentiment\\\": \\\"negative\\\"\\n}\"},\"finish_reason\":\"stop\"}],\"usage\":{\"prompt_tokens\":1446,\"completion_tokens\":18,\"total_tokens\":1464},\"system_fingerprint\":\"\"}\n",
      "=============================\n",
      "\n"
     ]
    },
    {
     "name": "stderr",
     "output_type": "stream",
     "text": [
      "Processing:   1%|          | 7/1060 [00:09<22:01,  1.26s/it]"
     ]
    },
    {
     "name": "stdout",
     "output_type": "stream",
     "text": [
      "===== 调试信息：服务器返回 =====\n",
      "{\"id\":\"0194dc5878f01095a56b50062d496aa8\",\"object\":\"chat.completion\",\"created\":1738863573,\"model\":\"Qwen/Qwen2.5-32B-Instruct\",\"choices\":[{\"index\":0,\"message\":{\"role\":\"assistant\",\"content\":\"{\\n  \\\"classification\\\": \\\"经济\\\",\\n  \\\"sentiment\\\": \\\"positive\\\"\\n}\"},\"finish_reason\":\"stop\"}],\"usage\":{\"prompt_tokens\":2035,\"completion_tokens\":17,\"total_tokens\":2052},\"system_fingerprint\":\"\"}\n",
      "=============================\n",
      "\n"
     ]
    },
    {
     "name": "stderr",
     "output_type": "stream",
     "text": [
      "Processing:   1%|          | 8/1060 [00:10<21:47,  1.24s/it]"
     ]
    },
    {
     "name": "stdout",
     "output_type": "stream",
     "text": [
      "===== 调试信息：服务器返回 =====\n",
      "{\"id\":\"0194dc587daf19222866a04ac2f4e1bd\",\"object\":\"chat.completion\",\"created\":1738863574,\"model\":\"Qwen/Qwen2.5-32B-Instruct\",\"choices\":[{\"index\":0,\"message\":{\"role\":\"assistant\",\"content\":\"{\\n  \\\"classification\\\": \\\"国际政治\\\",\\n  \\\"sentiment\\\": \\\"negative\\\"\\n}\"},\"finish_reason\":\"stop\"}],\"usage\":{\"prompt_tokens\":1749,\"completion_tokens\":18,\"total_tokens\":1767},\"system_fingerprint\":\"\"}\n",
      "=============================\n",
      "\n"
     ]
    },
    {
     "name": "stderr",
     "output_type": "stream",
     "text": [
      "Processing:   1%|          | 9/1060 [00:11<22:09,  1.27s/it]"
     ]
    },
    {
     "name": "stdout",
     "output_type": "stream",
     "text": [
      "===== 调试信息：服务器返回 =====\n",
      "{\"id\":\"0194dc5883908cded4a07d43390fc07b\",\"object\":\"chat.completion\",\"created\":1738863575,\"model\":\"Qwen/Qwen2.5-32B-Instruct\",\"choices\":[{\"index\":0,\"message\":{\"role\":\"assistant\",\"content\":\"{\\n  \\\"classification\\\": \\\"国际政治\\\",\\n  \\\"sentiment\\\": \\\"neutral\\\"\\n}\"},\"finish_reason\":\"stop\"}],\"usage\":{\"prompt_tokens\":3753,\"completion_tokens\":18,\"total_tokens\":3771},\"system_fingerprint\":\"\"}\n",
      "=============================\n",
      "\n"
     ]
    },
    {
     "name": "stderr",
     "output_type": "stream",
     "text": [
      "Processing:   1%|          | 10/1060 [00:13<24:49,  1.42s/it]"
     ]
    },
    {
     "name": "stdout",
     "output_type": "stream",
     "text": [
      "===== 调试信息：服务器返回 =====\n",
      "{\"id\":\"0194dc5889dc7a3790dd583f298ab7ff\",\"object\":\"chat.completion\",\"created\":1738863577,\"model\":\"Qwen/Qwen2.5-32B-Instruct\",\"choices\":[{\"index\":0,\"message\":{\"role\":\"assistant\",\"content\":\"{\\n  \\\"classification\\\": \\\"经济\\\",\\n  \\\"sentiment\\\": \\\"negative\\\"\\n}\"},\"finish_reason\":\"stop\"}],\"usage\":{\"prompt_tokens\":1589,\"completion_tokens\":17,\"total_tokens\":1606},\"system_fingerprint\":\"\"}\n",
      "=============================\n",
      "\n"
     ]
    },
    {
     "name": "stderr",
     "output_type": "stream",
     "text": [
      "Processing:   1%|          | 11/1060 [00:14<23:44,  1.36s/it]"
     ]
    },
    {
     "name": "stdout",
     "output_type": "stream",
     "text": [
      "===== 调试信息：服务器返回 =====\n",
      "{\"id\":\"0194dc588efe31e695cfa899ff28c129\",\"object\":\"chat.completion\",\"created\":1738863578,\"model\":\"Qwen/Qwen2.5-32B-Instruct\",\"choices\":[{\"index\":0,\"message\":{\"role\":\"assistant\",\"content\":\"{\\n  \\\"classification\\\": \\\"经济\\\",\\n  \\\"sentiment\\\": \\\"negative\\\"\\n}\"},\"finish_reason\":\"stop\"}],\"usage\":{\"prompt_tokens\":2144,\"completion_tokens\":17,\"total_tokens\":2161},\"system_fingerprint\":\"\"}\n",
      "=============================\n",
      "\n"
     ]
    },
    {
     "name": "stderr",
     "output_type": "stream",
     "text": [
      "Processing:   1%|          | 12/1060 [00:16<24:27,  1.40s/it]"
     ]
    },
    {
     "name": "stdout",
     "output_type": "stream",
     "text": [
      "===== 调试信息：服务器返回 =====\n",
      "{\"id\":\"0194dc5894631cb876e356cd3e0f0fad\",\"object\":\"chat.completion\",\"created\":1738863580,\"model\":\"Qwen/Qwen2.5-32B-Instruct\",\"choices\":[{\"index\":0,\"message\":{\"role\":\"assistant\",\"content\":\"{\\n  \\\"classification\\\": \\\"国际政治\\\",\\n  \\\"sentiment\\\": \\\"positive\\\"\\n}\"},\"finish_reason\":\"stop\"}],\"usage\":{\"prompt_tokens\":1378,\"completion_tokens\":18,\"total_tokens\":1396},\"system_fingerprint\":\"\"}\n",
      "=============================\n",
      "\n"
     ]
    },
    {
     "name": "stderr",
     "output_type": "stream",
     "text": [
      "Processing:   1%|          | 13/1060 [00:17<23:11,  1.33s/it]"
     ]
    },
    {
     "name": "stdout",
     "output_type": "stream",
     "text": [
      "===== 调试信息：服务器返回 =====\n",
      "{\"id\":\"0194dc5898e33c3d5b3162ec30e83b3d\",\"object\":\"chat.completion\",\"created\":1738863581,\"model\":\"Qwen/Qwen2.5-32B-Instruct\",\"choices\":[{\"index\":0,\"message\":{\"role\":\"assistant\",\"content\":\"{\\n  \\\"classification\\\": \\\"商务活动\\\",\\n  \\\"sentiment\\\": \\\"neutral\\\"\\n}\"},\"finish_reason\":\"stop\"}],\"usage\":{\"prompt_tokens\":1596,\"completion_tokens\":18,\"total_tokens\":1614},\"system_fingerprint\":\"\"}\n",
      "=============================\n",
      "\n"
     ]
    },
    {
     "name": "stderr",
     "output_type": "stream",
     "text": [
      "Processing:   1%|▏         | 14/1060 [00:18<22:24,  1.29s/it]"
     ]
    },
    {
     "name": "stdout",
     "output_type": "stream",
     "text": [
      "===== 调试信息：服务器返回 =====\n",
      "{\"id\":\"0194dc589d859d2d9a01d22a8a10fd89\",\"object\":\"chat.completion\",\"created\":1738863582,\"model\":\"Qwen/Qwen2.5-32B-Instruct\",\"choices\":[{\"index\":0,\"message\":{\"role\":\"assistant\",\"content\":\"{\\n  \\\"classification\\\": \\\"科技\\\",\\n  \\\"sentiment\\\": \\\"positive\\\"\\n}\"},\"finish_reason\":\"stop\"}],\"usage\":{\"prompt_tokens\":1752,\"completion_tokens\":17,\"total_tokens\":1769},\"system_fingerprint\":\"\"}\n",
      "=============================\n",
      "\n"
     ]
    },
    {
     "name": "stderr",
     "output_type": "stream",
     "text": [
      "Processing:   1%|▏         | 15/1060 [00:19<21:56,  1.26s/it]"
     ]
    },
    {
     "name": "stdout",
     "output_type": "stream",
     "text": [
      "===== 调试信息：服务器返回 =====\n",
      "{\"id\":\"0194dc58a24f1179bbd78e8bb30aa056\",\"object\":\"chat.completion\",\"created\":1738863583,\"model\":\"Qwen/Qwen2.5-32B-Instruct\",\"choices\":[{\"index\":0,\"message\":{\"role\":\"assistant\",\"content\":\"{\\n  \\\"classification\\\": \\\"人口\\\",\\n  \\\"sentiment\\\": \\\"neutral\\\"\\n}\"},\"finish_reason\":\"stop\"}],\"usage\":{\"prompt_tokens\":2702,\"completion_tokens\":17,\"total_tokens\":2719},\"system_fingerprint\":\"\"}\n",
      "=============================\n",
      "\n"
     ]
    },
    {
     "name": "stderr",
     "output_type": "stream",
     "text": [
      "Processing:   2%|▏         | 16/1060 [00:21<22:50,  1.31s/it]"
     ]
    },
    {
     "name": "stdout",
     "output_type": "stream",
     "text": [
      "===== 调试信息：服务器返回 =====\n",
      "{\"id\":\"0194dc58a807fd9f33730bc9ce441c86\",\"object\":\"chat.completion\",\"created\":1738863585,\"model\":\"Qwen/Qwen2.5-32B-Instruct\",\"choices\":[{\"index\":0,\"message\":{\"role\":\"assistant\",\"content\":\"{\\n  \\\"classification\\\": \\\"军事和防御\\\",\\n  \\\"sentiment\\\": \\\"negative\\\"\\n}\"},\"finish_reason\":\"stop\"}],\"usage\":{\"prompt_tokens\":1812,\"completion_tokens\":19,\"total_tokens\":1831},\"system_fingerprint\":\"\"}\n",
      "=============================\n",
      "\n"
     ]
    },
    {
     "name": "stderr",
     "output_type": "stream",
     "text": [
      "Processing:   2%|▏         | 17/1060 [00:22<22:40,  1.30s/it]"
     ]
    },
    {
     "name": "stdout",
     "output_type": "stream",
     "text": [
      "===== 调试信息：服务器返回 =====\n",
      "{\"id\":\"0194dc58acd1f1d3a62957d3aec17612\",\"object\":\"chat.completion\",\"created\":1738863586,\"model\":\"Qwen/Qwen2.5-32B-Instruct\",\"choices\":[{\"index\":0,\"message\":{\"role\":\"assistant\",\"content\":\"{\\n  \\\"classification\\\": \\\"经济\\\",\\n  \\\"sentiment\\\": \\\"neutral\\\"\\n}\"},\"finish_reason\":\"stop\"}],\"usage\":{\"prompt_tokens\":1656,\"completion_tokens\":17,\"total_tokens\":1673},\"system_fingerprint\":\"\"}\n",
      "=============================\n",
      "\n"
     ]
    },
    {
     "name": "stderr",
     "output_type": "stream",
     "text": [
      "Processing:   2%|▏         | 18/1060 [00:23<22:24,  1.29s/it]"
     ]
    },
    {
     "name": "stdout",
     "output_type": "stream",
     "text": [
      "===== 调试信息：服务器返回 =====\n",
      "{\"id\":\"0194dc58b1bd8d3e4a47d84ca83940ba\",\"object\":\"chat.completion\",\"created\":1738863587,\"model\":\"Qwen/Qwen2.5-32B-Instruct\",\"choices\":[{\"index\":0,\"message\":{\"role\":\"assistant\",\"content\":\"{\\n  \\\"classification\\\": \\\"商务活动\\\",\\n  \\\"sentiment\\\": \\\"negative\\\"\\n}\"},\"finish_reason\":\"stop\"}],\"usage\":{\"prompt_tokens\":1672,\"completion_tokens\":18,\"total_tokens\":1690},\"system_fingerprint\":\"\"}\n",
      "=============================\n",
      "\n"
     ]
    },
    {
     "name": "stderr",
     "output_type": "stream",
     "text": [
      "Processing:   2%|▏         | 19/1060 [00:24<21:57,  1.27s/it]"
     ]
    },
    {
     "name": "stdout",
     "output_type": "stream",
     "text": [
      "===== 调试信息：服务器返回 =====\n",
      "{\"id\":\"0194dc58b684168276af67c57b0800d3\",\"object\":\"chat.completion\",\"created\":1738863589,\"model\":\"Qwen/Qwen2.5-32B-Instruct\",\"choices\":[{\"index\":0,\"message\":{\"role\":\"assistant\",\"content\":\"{\\n  \\\"classification\\\": \\\"国内政治\\\",\\n  \\\"sentiment\\\": \\\"negative\\\"\\n}\"},\"finish_reason\":\"stop\"}],\"usage\":{\"prompt_tokens\":1622,\"completion_tokens\":18,\"total_tokens\":1640},\"system_fingerprint\":\"\"}\n",
      "=============================\n",
      "\n"
     ]
    },
    {
     "name": "stderr",
     "output_type": "stream",
     "text": [
      "Processing:   2%|▏         | 20/1060 [00:26<21:36,  1.25s/it]"
     ]
    },
    {
     "name": "stdout",
     "output_type": "stream",
     "text": [
      "===== 调试信息：服务器返回 =====\n",
      "{\"id\":\"0194dc58bb38988414474777b01fc0fd\",\"object\":\"chat.completion\",\"created\":1738863590,\"model\":\"Qwen/Qwen2.5-32B-Instruct\",\"choices\":[{\"index\":0,\"message\":{\"role\":\"assistant\",\"content\":\"{\\n  \\\"classification\\\": \\\"国际政治\\\",\\n  \\\"sentiment\\\": \\\"negative\\\"\\n}\"},\"finish_reason\":\"stop\"}],\"usage\":{\"prompt_tokens\":2032,\"completion_tokens\":18,\"total_tokens\":2050},\"system_fingerprint\":\"\"}\n",
      "=============================\n",
      "\n"
     ]
    },
    {
     "name": "stderr",
     "output_type": "stream",
     "text": [
      "Processing:   2%|▏         | 21/1060 [00:27<21:50,  1.26s/it]"
     ]
    },
    {
     "name": "stdout",
     "output_type": "stream",
     "text": [
      "===== 调试信息：服务器返回 =====\n",
      "{\"id\":\"0194dc58c054ee95cd54cc69ae63f5f7\",\"object\":\"chat.completion\",\"created\":1738863591,\"model\":\"Qwen/Qwen2.5-32B-Instruct\",\"choices\":[{\"index\":0,\"message\":{\"role\":\"assistant\",\"content\":\"{\\n  \\\"classification\\\": \\\"能源\\\",\\n  \\\"sentiment\\\": \\\"negative\\\"\\n}\"},\"finish_reason\":\"stop\"}],\"usage\":{\"prompt_tokens\":4107,\"completion_tokens\":17,\"total_tokens\":4124},\"system_fingerprint\":\"\"}\n",
      "=============================\n",
      "\n"
     ]
    },
    {
     "name": "stderr",
     "output_type": "stream",
     "text": [
      "Processing:   2%|▏         | 22/1060 [00:29<23:37,  1.37s/it]"
     ]
    },
    {
     "name": "stdout",
     "output_type": "stream",
     "text": [
      "===== 调试信息：服务器返回 =====\n",
      "{\"id\":\"0194dc58c67d3e55d2cc03bfe277ea53\",\"object\":\"chat.completion\",\"created\":1738863593,\"model\":\"Qwen/Qwen2.5-32B-Instruct\",\"choices\":[{\"index\":0,\"message\":{\"role\":\"assistant\",\"content\":\"{\\n  \\\"classification\\\": \\\"经济\\\",\\n  \\\"sentiment\\\": \\\"neutral\\\"\\n}\"},\"finish_reason\":\"stop\"}],\"usage\":{\"prompt_tokens\":1642,\"completion_tokens\":17,\"total_tokens\":1659},\"system_fingerprint\":\"\"}\n",
      "=============================\n",
      "\n"
     ]
    },
    {
     "name": "stderr",
     "output_type": "stream",
     "text": [
      "Processing:   2%|▏         | 23/1060 [00:30<22:39,  1.31s/it]"
     ]
    },
    {
     "name": "stdout",
     "output_type": "stream",
     "text": [
      "===== 调试信息：服务器返回 =====\n",
      "{\"id\":\"0194dc58cb495a2c57c6c68e81611b19\",\"object\":\"chat.completion\",\"created\":1738863594,\"model\":\"Qwen/Qwen2.5-32B-Instruct\",\"choices\":[{\"index\":0,\"message\":{\"role\":\"assistant\",\"content\":\"{\\n  \\\"classification\\\": \\\"文化活动\\\",\\n  \\\"sentiment\\\": \\\"pleasure\\\"\\n}\"},\"finish_reason\":\"stop\"}],\"usage\":{\"prompt_tokens\":1589,\"completion_tokens\":19,\"total_tokens\":1608},\"system_fingerprint\":\"\"}\n",
      "=============================\n",
      "\n"
     ]
    },
    {
     "name": "stderr",
     "output_type": "stream",
     "text": [
      "Processing:   2%|▏         | 24/1060 [00:31<22:23,  1.30s/it]"
     ]
    },
    {
     "name": "stdout",
     "output_type": "stream",
     "text": [
      "===== 调试信息：服务器返回 =====\n",
      "{\"id\":\"0194dc58d01d1baf9b68ea7a90883204\",\"object\":\"chat.completion\",\"created\":1738863595,\"model\":\"Qwen/Qwen2.5-32B-Instruct\",\"choices\":[{\"index\":0,\"message\":{\"role\":\"assistant\",\"content\":\"{\\n  \\\"classification\\\": \\\"人口\\\",\\n  \\\"sentiment\\\": \\\"neutral\\\"\\n}\"},\"finish_reason\":\"stop\"}],\"usage\":{\"prompt_tokens\":784,\"completion_tokens\":17,\"total_tokens\":801},\"system_fingerprint\":\"\"}\n",
      "=============================\n",
      "\n"
     ]
    },
    {
     "name": "stderr",
     "output_type": "stream",
     "text": [
      "Processing:   2%|▏         | 25/1060 [00:32<21:33,  1.25s/it]"
     ]
    },
    {
     "name": "stdout",
     "output_type": "stream",
     "text": [
      "===== 调试信息：服务器返回 =====\n",
      "{\"id\":\"0194dc58d48ff4b57e5e595f4cc1b697\",\"object\":\"chat.completion\",\"created\":1738863596,\"model\":\"Qwen/Qwen2.5-32B-Instruct\",\"choices\":[{\"index\":0,\"message\":{\"role\":\"assistant\",\"content\":\"{\\n  \\\"classification\\\": \\\"经济\\\",\\n  \\\"sentiment\\\": \\\"neutral\\\"\\n}\"},\"finish_reason\":\"stop\"}],\"usage\":{\"prompt_tokens\":2257,\"completion_tokens\":17,\"total_tokens\":2274},\"system_fingerprint\":\"\"}\n",
      "=============================\n",
      "\n"
     ]
    },
    {
     "name": "stderr",
     "output_type": "stream",
     "text": [
      "Processing:   2%|▏         | 26/1060 [00:33<21:37,  1.26s/it]"
     ]
    },
    {
     "name": "stdout",
     "output_type": "stream",
     "text": [
      "===== 调试信息：服务器返回 =====\n",
      "{\"id\":\"0194dc58d97501cf17d813bf02e8fc1f\",\"object\":\"chat.completion\",\"created\":1738863597,\"model\":\"Qwen/Qwen2.5-32B-Instruct\",\"choices\":[{\"index\":0,\"message\":{\"role\":\"assistant\",\"content\":\"{\\n  \\\"classification\\\": \\\"文化活动\\\",\\n  \\\"sentiment\\\": \\\"pleasure\\\"\\n}\"},\"finish_reason\":\"stop\"}],\"usage\":{\"prompt_tokens\":1671,\"completion_tokens\":19,\"total_tokens\":1690},\"system_fingerprint\":\"\"}\n",
      "=============================\n",
      "\n"
     ]
    },
    {
     "name": "stderr",
     "output_type": "stream",
     "text": [
      "Processing:   3%|▎         | 27/1060 [00:35<23:42,  1.38s/it]"
     ]
    },
    {
     "name": "stdout",
     "output_type": "stream",
     "text": [
      "===== 调试信息：服务器返回 =====\n",
      "{\"id\":\"0194dc58dffe07605c39e006a9f0e193\",\"object\":\"chat.completion\",\"created\":1738863599,\"model\":\"Qwen/Qwen2.5-32B-Instruct\",\"choices\":[{\"index\":0,\"message\":{\"role\":\"assistant\",\"content\":\"{\\n  \\\"classification\\\": \\\"经济\\\",\\n  \\\"sentiment\\\": \\\"negative\\\"\\n}\"},\"finish_reason\":\"stop\"}],\"usage\":{\"prompt_tokens\":1565,\"completion_tokens\":17,\"total_tokens\":1582},\"system_fingerprint\":\"\"}\n",
      "=============================\n",
      "\n"
     ]
    },
    {
     "name": "stderr",
     "output_type": "stream",
     "text": [
      "Processing:   3%|▎         | 28/1060 [00:36<22:33,  1.31s/it]"
     ]
    },
    {
     "name": "stdout",
     "output_type": "stream",
     "text": [
      "===== 调试信息：服务器返回 =====\n",
      "{\"id\":\"0194dc58e480130ad75af93b0fdb0295\",\"object\":\"chat.completion\",\"created\":1738863600,\"model\":\"Qwen/Qwen2.5-32B-Instruct\",\"choices\":[{\"index\":0,\"message\":{\"role\":\"assistant\",\"content\":\"{\\n  \\\"classification\\\": \\\"科技\\\",\\n  \\\"sentiment\\\": \\\"positive\\\"\\n}\"},\"finish_reason\":\"stop\"}],\"usage\":{\"prompt_tokens\":1731,\"completion_tokens\":17,\"total_tokens\":1748},\"system_fingerprint\":\"\"}\n",
      "=============================\n",
      "\n"
     ]
    },
    {
     "name": "stderr",
     "output_type": "stream",
     "text": [
      "Processing:   3%|▎         | 29/1060 [00:38<23:36,  1.37s/it]"
     ]
    },
    {
     "name": "stdout",
     "output_type": "stream",
     "text": [
      "===== 调试信息：服务器返回 =====\n",
      "{\"id\":\"0194dc58ea77e6a7167088c4570beac3\",\"object\":\"chat.completion\",\"created\":1738863602,\"model\":\"Qwen/Qwen2.5-32B-Instruct\",\"choices\":[{\"index\":0,\"message\":{\"role\":\"assistant\",\"content\":\"{\\n  \\\"classification\\\": \\\"文化活动\\\",\\n  \\\"sentiment\\\": \\\"negative\\\"\\n}\"},\"finish_reason\":\"stop\"}],\"usage\":{\"prompt_tokens\":575,\"completion_tokens\":18,\"total_tokens\":593},\"system_fingerprint\":\"\"}\n",
      "=============================\n",
      "\n"
     ]
    },
    {
     "name": "stderr",
     "output_type": "stream",
     "text": [
      "Processing:   3%|▎         | 30/1060 [00:39<21:50,  1.27s/it]"
     ]
    },
    {
     "name": "stdout",
     "output_type": "stream",
     "text": [
      "===== 调试信息：服务器返回 =====\n",
      "{\"id\":\"0194dc58eede01d6ee849e5f3fe97e9b\",\"object\":\"chat.completion\",\"created\":1738863603,\"model\":\"Qwen/Qwen2.5-32B-Instruct\",\"choices\":[{\"index\":0,\"message\":{\"role\":\"assistant\",\"content\":\"{\\n  \\\"classification\\\": \\\"文化活动\\\",\\n  \\\"sentiment\\\": \\\"positive\\\"\\n}\"},\"finish_reason\":\"stop\"}],\"usage\":{\"prompt_tokens\":2137,\"completion_tokens\":18,\"total_tokens\":2155},\"system_fingerprint\":\"\"}\n",
      "=============================\n",
      "\n"
     ]
    },
    {
     "name": "stderr",
     "output_type": "stream",
     "text": [
      "Processing:   3%|▎         | 31/1060 [00:40<22:18,  1.30s/it]"
     ]
    },
    {
     "name": "stdout",
     "output_type": "stream",
     "text": [
      "===== 调试信息：服务器返回 =====\n",
      "{\"id\":\"0194dc58f3d14ff05b06e68e7a26a25d\",\"object\":\"chat.completion\",\"created\":1738863604,\"model\":\"Qwen/Qwen2.5-32B-Instruct\",\"choices\":[{\"index\":0,\"message\":{\"role\":\"assistant\",\"content\":\"{\\n  \\\"classification\\\": \\\"经济\\\",\\n  \\\"sentiment\\\": \\\"positive\\\"\\n}\"},\"finish_reason\":\"stop\"}],\"usage\":{\"prompt_tokens\":3152,\"completion_tokens\":17,\"total_tokens\":3169},\"system_fingerprint\":\"\"}\n",
      "=============================\n",
      "\n"
     ]
    },
    {
     "name": "stderr",
     "output_type": "stream",
     "text": [
      "Processing:   3%|▎         | 32/1060 [00:42<22:56,  1.34s/it]"
     ]
    },
    {
     "name": "stdout",
     "output_type": "stream",
     "text": [
      "===== 调试信息：服务器返回 =====\n",
      "{\"id\":\"0194dc58f972098ffa18239a6bf6a3a7\",\"object\":\"chat.completion\",\"created\":1738863606,\"model\":\"Qwen/Qwen2.5-32B-Instruct\",\"choices\":[{\"index\":0,\"message\":{\"role\":\"assistant\",\"content\":\"{\\n  \\\"classification\\\": \\\"商务活动\\\",\\n  \\\"sentiment\\\": \\\"negative\\\"\\n}\"},\"finish_reason\":\"stop\"}],\"usage\":{\"prompt_tokens\":1563,\"completion_tokens\":18,\"total_tokens\":1581},\"system_fingerprint\":\"\"}\n",
      "=============================\n",
      "\n"
     ]
    },
    {
     "name": "stderr",
     "output_type": "stream",
     "text": [
      "Processing:   3%|▎         | 33/1060 [00:43<22:16,  1.30s/it]"
     ]
    },
    {
     "name": "stdout",
     "output_type": "stream",
     "text": [
      "===== 调试信息：服务器返回 =====\n",
      "{\"id\":\"0194dc58fe3c52dd82b6b41973caf548\",\"object\":\"chat.completion\",\"created\":1738863607,\"model\":\"Qwen/Qwen2.5-32B-Instruct\",\"choices\":[{\"index\":0,\"message\":{\"role\":\"assistant\",\"content\":\"{\\n  \\\"classification\\\": \\\"国际政治\\\",\\n  \\\"sentiment\\\": \\\"neutral\\\"\\n}\"},\"finish_reason\":\"stop\"}],\"usage\":{\"prompt_tokens\":2649,\"completion_tokens\":18,\"total_tokens\":2667},\"system_fingerprint\":\"\"}\n",
      "=============================\n",
      "\n"
     ]
    },
    {
     "name": "stderr",
     "output_type": "stream",
     "text": [
      "Processing:   3%|▎         | 34/1060 [00:44<23:39,  1.38s/it]"
     ]
    },
    {
     "name": "stdout",
     "output_type": "stream",
     "text": [
      "===== 调试信息：服务器返回 =====\n",
      "{\"id\":\"0194dc59046fdfe3a4af40daec5046ff\",\"object\":\"chat.completion\",\"created\":1738863608,\"model\":\"Qwen/Qwen2.5-32B-Instruct\",\"choices\":[{\"index\":0,\"message\":{\"role\":\"assistant\",\"content\":\"{\\n  \\\"classification\\\": \\\"社会关系\\\",\\n  \\\"sentiment\\\": \\\"negative\\\"\\n}\"},\"finish_reason\":\"stop\"}],\"usage\":{\"prompt_tokens\":3598,\"completion_tokens\":18,\"total_tokens\":3616},\"system_fingerprint\":\"\"}\n",
      "=============================\n",
      "\n"
     ]
    },
    {
     "name": "stderr",
     "output_type": "stream",
     "text": [
      "Processing:   3%|▎         | 35/1060 [00:46<24:27,  1.43s/it]"
     ]
    },
    {
     "name": "stdout",
     "output_type": "stream",
     "text": [
      "===== 调试信息：服务器返回 =====\n",
      "{\"id\":\"0194dc590a57c46c1088ed15d9fa048f\",\"object\":\"chat.completion\",\"created\":1738863610,\"model\":\"Qwen/Qwen2.5-32B-Instruct\",\"choices\":[{\"index\":0,\"message\":{\"role\":\"assistant\",\"content\":\"{\\n  \\\"classification\\\": \\\"能源\\\",\\n  \\\"sentiment\\\": \\\"negative\\\"\\n}\"},\"finish_reason\":\"stop\"}],\"usage\":{\"prompt_tokens\":1183,\"completion_tokens\":17,\"total_tokens\":1200},\"system_fingerprint\":\"\"}\n",
      "=============================\n",
      "\n"
     ]
    },
    {
     "name": "stderr",
     "output_type": "stream",
     "text": [
      "Processing:   3%|▎         | 36/1060 [00:47<22:51,  1.34s/it]"
     ]
    },
    {
     "name": "stdout",
     "output_type": "stream",
     "text": [
      "===== 调试信息：服务器返回 =====\n",
      "{\"id\":\"0194dc590f2b1ac06353071e144c7d23\",\"object\":\"chat.completion\",\"created\":1738863611,\"model\":\"Qwen/Qwen2.5-32B-Instruct\",\"choices\":[{\"index\":0,\"message\":{\"role\":\"assistant\",\"content\":\"{\\n  \\\"classification\\\": \\\"文化活动\\\",\\n  \\\"sentiment\\\": \\\"pleasure\\\"\\n}\"},\"finish_reason\":\"stop\"}],\"usage\":{\"prompt_tokens\":2078,\"completion_tokens\":19,\"total_tokens\":2097},\"system_fingerprint\":\"\"}\n",
      "=============================\n",
      "\n"
     ]
    },
    {
     "name": "stderr",
     "output_type": "stream",
     "text": [
      "Processing:   3%|▎         | 37/1060 [00:48<23:09,  1.36s/it]"
     ]
    },
    {
     "name": "stdout",
     "output_type": "stream",
     "text": [
      "===== 调试信息：服务器返回 =====\n",
      "{\"id\":\"0194dc59142d00022b188b4816489800\",\"object\":\"chat.completion\",\"created\":1738863612,\"model\":\"Qwen/Qwen2.5-32B-Instruct\",\"choices\":[{\"index\":0,\"message\":{\"role\":\"assistant\",\"content\":\"{\\n  \\\"classification\\\": \\\"国内政治\\\",\\n  \\\"sentiment\\\": \\\"neutral\\\"\\n}\"},\"finish_reason\":\"stop\"}],\"usage\":{\"prompt_tokens\":684,\"completion_tokens\":18,\"total_tokens\":702},\"system_fingerprint\":\"\"}\n",
      "=============================\n",
      "\n"
     ]
    },
    {
     "name": "stderr",
     "output_type": "stream",
     "text": [
      "Processing:   4%|▎         | 38/1060 [00:50<21:57,  1.29s/it]"
     ]
    },
    {
     "name": "stdout",
     "output_type": "stream",
     "text": [
      "===== 调试信息：服务器返回 =====\n",
      "{\"id\":\"0194dc5918b877b0058ccee41feeb032\",\"object\":\"chat.completion\",\"created\":1738863614,\"model\":\"Qwen/Qwen2.5-32B-Instruct\",\"choices\":[{\"index\":0,\"message\":{\"role\":\"assistant\",\"content\":\"{\\n  \\\"classification\\\": \\\"文化活动\\\",\\n  \\\"sentiment\\\": \\\"neutral\\\"\\n}\"},\"finish_reason\":\"stop\"}],\"usage\":{\"prompt_tokens\":1381,\"completion_tokens\":18,\"total_tokens\":1399},\"system_fingerprint\":\"\"}\n",
      "=============================\n",
      "\n"
     ]
    },
    {
     "name": "stderr",
     "output_type": "stream",
     "text": [
      "Processing:   4%|▎         | 39/1060 [00:51<21:29,  1.26s/it]"
     ]
    },
    {
     "name": "stdout",
     "output_type": "stream",
     "text": [
      "===== 调试信息：服务器返回 =====\n",
      "{\"id\":\"0194dc591d436176a26b967a15f02bdd\",\"object\":\"chat.completion\",\"created\":1738863615,\"model\":\"Qwen/Qwen2.5-32B-Instruct\",\"choices\":[{\"index\":0,\"message\":{\"role\":\"assistant\",\"content\":\"{\\n  \\\"classification\\\": \\\"经济\\\",\\n  \\\"sentiment\\\": \\\"negative\\\"\\n}\"},\"finish_reason\":\"stop\"}],\"usage\":{\"prompt_tokens\":1197,\"completion_tokens\":17,\"total_tokens\":1214},\"system_fingerprint\":\"\"}\n",
      "=============================\n",
      "\n"
     ]
    },
    {
     "name": "stderr",
     "output_type": "stream",
     "text": [
      "Processing:   4%|▍         | 40/1060 [00:52<21:15,  1.25s/it]"
     ]
    },
    {
     "name": "stdout",
     "output_type": "stream",
     "text": [
      "===== 调试信息：服务器返回 =====\n",
      "{\"id\":\"0194dc59220c0edf14fabd482f934434\",\"object\":\"chat.completion\",\"created\":1738863616,\"model\":\"Qwen/Qwen2.5-32B-Instruct\",\"choices\":[{\"index\":0,\"message\":{\"role\":\"assistant\",\"content\":\"{\\n  \\\"classification\\\": \\\"商务活动\\\",\\n  \\\"sentiment\\\": \\\"neutral\\\"\\n}\"},\"finish_reason\":\"stop\"}],\"usage\":{\"prompt_tokens\":1364,\"completion_tokens\":18,\"total_tokens\":1382},\"system_fingerprint\":\"\"}\n",
      "=============================\n",
      "\n"
     ]
    },
    {
     "name": "stderr",
     "output_type": "stream",
     "text": [
      "Processing:   4%|▍         | 41/1060 [00:53<20:46,  1.22s/it]"
     ]
    },
    {
     "name": "stdout",
     "output_type": "stream",
     "text": [
      "===== 调试信息：服务器返回 =====\n",
      "{\"id\":\"0194dc59269c5935a76558164dcfa598\",\"object\":\"chat.completion\",\"created\":1738863617,\"model\":\"Qwen/Qwen2.5-32B-Instruct\",\"choices\":[{\"index\":0,\"message\":{\"role\":\"assistant\",\"content\":\"{\\n  \\\"classification\\\": \\\"国际政治\\\",\\n  \\\"sentiment\\\": \\\"negative\\\"\\n}\"},\"finish_reason\":\"stop\"}],\"usage\":{\"prompt_tokens\":1427,\"completion_tokens\":18,\"total_tokens\":1445},\"system_fingerprint\":\"\"}\n",
      "=============================\n",
      "\n"
     ]
    },
    {
     "name": "stderr",
     "output_type": "stream",
     "text": [
      "Processing:   4%|▍         | 42/1060 [00:54<20:25,  1.20s/it]"
     ]
    },
    {
     "name": "stdout",
     "output_type": "stream",
     "text": [
      "===== 调试信息：服务器返回 =====\n",
      "{\"id\":\"0194dc592b14e2008b26e687bab34c91\",\"object\":\"chat.completion\",\"created\":1738863618,\"model\":\"Qwen/Qwen2.5-32B-Instruct\",\"choices\":[{\"index\":0,\"message\":{\"role\":\"assistant\",\"content\":\"{\\n  \\\"classification\\\": \\\"商务活动\\\",\\n  \\\"sentiment\\\": \\\"neutral\\\"\\n}\"},\"finish_reason\":\"stop\"}],\"usage\":{\"prompt_tokens\":2497,\"completion_tokens\":18,\"total_tokens\":2515},\"system_fingerprint\":\"\"}\n",
      "=============================\n",
      "\n"
     ]
    },
    {
     "name": "stderr",
     "output_type": "stream",
     "text": [
      "Processing:   4%|▍         | 43/1060 [00:56<21:04,  1.24s/it]"
     ]
    },
    {
     "name": "stdout",
     "output_type": "stream",
     "text": [
      "===== 调试信息：服务器返回 =====\n",
      "{\"id\":\"0194dc59307400b19a75f07c44a841f1\",\"object\":\"chat.completion\",\"created\":1738863620,\"model\":\"Qwen/Qwen2.5-32B-Instruct\",\"choices\":[{\"index\":0,\"message\":{\"role\":\"assistant\",\"content\":\"{\\n  \\\"classification\\\": \\\"经济\\\",\\n  \\\"sentiment\\\": \\\"neutral\\\"\\n}\"},\"finish_reason\":\"stop\"}],\"usage\":{\"prompt_tokens\":1382,\"completion_tokens\":17,\"total_tokens\":1399},\"system_fingerprint\":\"\"}\n",
      "=============================\n",
      "\n"
     ]
    },
    {
     "name": "stderr",
     "output_type": "stream",
     "text": [
      "Processing:   4%|▍         | 44/1060 [00:57<20:43,  1.22s/it]"
     ]
    },
    {
     "name": "stdout",
     "output_type": "stream",
     "text": [
      "===== 调试信息：服务器返回 =====\n",
      "{\"id\":\"0194dc5934fd20ccc6e561565bb695a4\",\"object\":\"chat.completion\",\"created\":1738863621,\"model\":\"Qwen/Qwen2.5-32B-Instruct\",\"choices\":[{\"index\":0,\"message\":{\"role\":\"assistant\",\"content\":\"{\\n  \\\"classification\\\": \\\"商务活动\\\",\\n  \\\"sentiment\\\": \\\"negative\\\"\\n}\"},\"finish_reason\":\"stop\"}],\"usage\":{\"prompt_tokens\":2042,\"completion_tokens\":18,\"total_tokens\":2060},\"system_fingerprint\":\"\"}\n",
      "=============================\n",
      "\n"
     ]
    },
    {
     "name": "stderr",
     "output_type": "stream",
     "text": [
      "Processing:   4%|▍         | 45/1060 [00:58<21:14,  1.26s/it]"
     ]
    },
    {
     "name": "stdout",
     "output_type": "stream",
     "text": [
      "===== 调试信息：服务器返回 =====\n",
      "{\"id\":\"0194dc593ac5859da32b9e05a678f676\",\"object\":\"chat.completion\",\"created\":1738863622,\"model\":\"Qwen/Qwen2.5-32B-Instruct\",\"choices\":[{\"index\":0,\"message\":{\"role\":\"assistant\",\"content\":\"{\\n  \\\"classification\\\": \\\"国内政治\\\",\\n  \\\"sentiment\\\": \\\"negative\\\"\\n}\"},\"finish_reason\":\"stop\"}],\"usage\":{\"prompt_tokens\":1595,\"completion_tokens\":18,\"total_tokens\":1613},\"system_fingerprint\":\"\"}\n",
      "=============================\n",
      "\n"
     ]
    },
    {
     "name": "stderr",
     "output_type": "stream",
     "text": [
      "Processing:   4%|▍         | 46/1060 [00:59<21:48,  1.29s/it]"
     ]
    },
    {
     "name": "stdout",
     "output_type": "stream",
     "text": [
      "===== 调试信息：服务器返回 =====\n",
      "{\"id\":\"0194dc593f7aeaca46de32ab92ef7016\",\"object\":\"chat.completion\",\"created\":1738863624,\"model\":\"Qwen/Qwen2.5-32B-Instruct\",\"choices\":[{\"index\":0,\"message\":{\"role\":\"assistant\",\"content\":\"{\\n  \\\"classification\\\": \\\"国际政治\\\",\\n  \\\"sentiment\\\": \\\"negative\\\"\\n}\"},\"finish_reason\":\"stop\"}],\"usage\":{\"prompt_tokens\":1339,\"completion_tokens\":18,\"total_tokens\":1357},\"system_fingerprint\":\"\"}\n",
      "=============================\n",
      "\n"
     ]
    },
    {
     "name": "stderr",
     "output_type": "stream",
     "text": [
      "Processing:   4%|▍         | 47/1060 [01:01<21:32,  1.28s/it]"
     ]
    },
    {
     "name": "stdout",
     "output_type": "stream",
     "text": [
      "===== 调试信息：服务器返回 =====\n",
      "{\"id\":\"0194dc5945259b512313ad0c1dcba2dd\",\"object\":\"chat.completion\",\"created\":1738863625,\"model\":\"Qwen/Qwen2.5-32B-Instruct\",\"choices\":[{\"index\":0,\"message\":{\"role\":\"assistant\",\"content\":\"{\\n  \\\"classification\\\": \\\"文化活动\\\",\\n  \\\"sentiment\\\": \\\"neutral\\\"\\n}\"},\"finish_reason\":\"stop\"}],\"usage\":{\"prompt_tokens\":1656,\"completion_tokens\":18,\"total_tokens\":1674},\"system_fingerprint\":\"\"}\n",
      "=============================\n",
      "\n"
     ]
    },
    {
     "name": "stderr",
     "output_type": "stream",
     "text": [
      "Processing:   5%|▍         | 48/1060 [01:02<22:27,  1.33s/it]"
     ]
    },
    {
     "name": "stdout",
     "output_type": "stream",
     "text": [
      "===== 调试信息：服务器返回 =====\n",
      "{\"id\":\"0194dc594abc86e5eb7035873b5eb749\",\"object\":\"chat.completion\",\"created\":1738863626,\"model\":\"Qwen/Qwen2.5-32B-Instruct\",\"choices\":[{\"index\":0,\"message\":{\"role\":\"assistant\",\"content\":\"{\\n  \\\"classification\\\": \\\"国际政治\\\",\\n  \\\"sentiment\\\": \\\"pleasure\\\"\\n}\"},\"finish_reason\":\"stop\"}],\"usage\":{\"prompt_tokens\":1941,\"completion_tokens\":19,\"total_tokens\":1960},\"system_fingerprint\":\"\"}\n",
      "=============================\n",
      "\n"
     ]
    },
    {
     "name": "stderr",
     "output_type": "stream",
     "text": [
      "Processing:   5%|▍         | 49/1060 [01:04<23:13,  1.38s/it]"
     ]
    },
    {
     "name": "stdout",
     "output_type": "stream",
     "text": [
      "===== 调试信息：服务器返回 =====\n",
      "{\"id\":\"0194dc594fe177ccd5c2d4ac2fa1aea4\",\"object\":\"chat.completion\",\"created\":1738863628,\"model\":\"Qwen/Qwen2.5-32B-Instruct\",\"choices\":[{\"index\":0,\"message\":{\"role\":\"assistant\",\"content\":\"{\\n  \\\"classification\\\": \\\"国际政治\\\",\\n  \\\"sentiment\\\": \\\"negative\\\"\\n}\"},\"finish_reason\":\"stop\"}],\"usage\":{\"prompt_tokens\":1114,\"completion_tokens\":18,\"total_tokens\":1132},\"system_fingerprint\":\"\"}\n",
      "=============================\n",
      "\n"
     ]
    },
    {
     "name": "stderr",
     "output_type": "stream",
     "text": [
      "Processing:   5%|▍         | 50/1060 [01:05<21:56,  1.30s/it]"
     ]
    },
    {
     "name": "stdout",
     "output_type": "stream",
     "text": [
      "===== 调试信息：服务器返回 =====\n",
      "{\"id\":\"0194dc595446ce67685702858ed74d2d\",\"object\":\"chat.completion\",\"created\":1738863629,\"model\":\"Qwen/Qwen2.5-32B-Instruct\",\"choices\":[{\"index\":0,\"message\":{\"role\":\"assistant\",\"content\":\"{\\n  \\\"classification\\\": \\\"科技\\\",\\n  \\\"sentiment\\\": \\\"positive\\\"\\n}\"},\"finish_reason\":\"stop\"}],\"usage\":{\"prompt_tokens\":1066,\"completion_tokens\":17,\"total_tokens\":1083},\"system_fingerprint\":\"\"}\n",
      "=============================\n",
      "\n"
     ]
    },
    {
     "name": "stderr",
     "output_type": "stream",
     "text": [
      "Processing:   5%|▍         | 51/1060 [01:06<21:25,  1.27s/it]"
     ]
    },
    {
     "name": "stdout",
     "output_type": "stream",
     "text": [
      "===== 调试信息：服务器返回 =====\n",
      "{\"id\":\"0194dc5959677d496791d68972e90fd3\",\"object\":\"chat.completion\",\"created\":1738863630,\"model\":\"Qwen/Qwen2.5-32B-Instruct\",\"choices\":[{\"index\":0,\"message\":{\"role\":\"assistant\",\"content\":\"{\\n  \\\"classification\\\": \\\"国际政治\\\",\\n  \\\"sentiment\\\": \\\"negative\\\"\\n}\"},\"finish_reason\":\"stop\"}],\"usage\":{\"prompt_tokens\":3705,\"completion_tokens\":18,\"total_tokens\":3723},\"system_fingerprint\":\"\"}\n",
      "=============================\n",
      "\n"
     ]
    },
    {
     "name": "stderr",
     "output_type": "stream",
     "text": [
      "Processing:   5%|▍         | 52/1060 [01:08<23:15,  1.38s/it]"
     ]
    },
    {
     "name": "stdout",
     "output_type": "stream",
     "text": [
      "===== 调试信息：服务器返回 =====\n",
      "{\"id\":\"0194dc595fefd22d7ade6fab4915afa7\",\"object\":\"chat.completion\",\"created\":1738863632,\"model\":\"Qwen/Qwen2.5-32B-Instruct\",\"choices\":[{\"index\":0,\"message\":{\"role\":\"assistant\",\"content\":\"{\\n  \\\"classification\\\": \\\"商务活动\\\",\\n  \\\"sentiment\\\": \\\"negative\\\"\\n}\"},\"finish_reason\":\"stop\"}],\"usage\":{\"prompt_tokens\":2066,\"completion_tokens\":18,\"total_tokens\":2084},\"system_fingerprint\":\"\"}\n",
      "=============================\n",
      "\n"
     ]
    },
    {
     "name": "stderr",
     "output_type": "stream",
     "text": [
      "Processing:   5%|▌         | 53/1060 [01:09<23:15,  1.39s/it]"
     ]
    },
    {
     "name": "stdout",
     "output_type": "stream",
     "text": [
      "===== 调试信息：服务器返回 =====\n",
      "{\"id\":\"0194dc5964c859a9b029c9117d35340f\",\"object\":\"chat.completion\",\"created\":1738863633,\"model\":\"Qwen/Qwen2.5-32B-Instruct\",\"choices\":[{\"index\":0,\"message\":{\"role\":\"assistant\",\"content\":\"{\\n  \\\"classification\\\": \\\"国际政治\\\",\\n  \\\"sentiment\\\": \\\"neutral\\\"\\n}\"},\"finish_reason\":\"stop\"}],\"usage\":{\"prompt_tokens\":2799,\"completion_tokens\":18,\"total_tokens\":2817},\"system_fingerprint\":\"\"}\n",
      "=============================\n",
      "\n"
     ]
    },
    {
     "name": "stderr",
     "output_type": "stream",
     "text": [
      "Processing:   5%|▌         | 54/1060 [01:10<23:17,  1.39s/it]"
     ]
    },
    {
     "name": "stdout",
     "output_type": "stream",
     "text": [
      "===== 调试信息：服务器返回 =====\n",
      "{\"id\":\"0194dc596a502df2ac4f715e5f48aa59\",\"object\":\"chat.completion\",\"created\":1738863635,\"model\":\"Qwen/Qwen2.5-32B-Instruct\",\"choices\":[{\"index\":0,\"message\":{\"role\":\"assistant\",\"content\":\"{\\n  \\\"classification\\\": \\\"国际政治\\\",\\n  \\\"sentiment\\\": \\\"negative\\\"\\n}\"},\"finish_reason\":\"stop\"}],\"usage\":{\"prompt_tokens\":1895,\"completion_tokens\":18,\"total_tokens\":1913},\"system_fingerprint\":\"\"}\n",
      "=============================\n",
      "\n"
     ]
    },
    {
     "name": "stderr",
     "output_type": "stream",
     "text": [
      "Processing:   5%|▌         | 55/1060 [01:12<22:29,  1.34s/it]"
     ]
    },
    {
     "name": "stdout",
     "output_type": "stream",
     "text": [
      "===== 调试信息：服务器返回 =====\n",
      "{\"id\":\"0194dc596f3d8bfe338683f29eef44b0\",\"object\":\"chat.completion\",\"created\":1738863636,\"model\":\"Qwen/Qwen2.5-32B-Instruct\",\"choices\":[{\"index\":0,\"message\":{\"role\":\"assistant\",\"content\":\"{\\n  \\\"classification\\\": \\\"商务活动\\\",\\n  \\\"sentiment\\\": \\\"neutral\\\"\\n}\"},\"finish_reason\":\"stop\"}],\"usage\":{\"prompt_tokens\":2097,\"completion_tokens\":18,\"total_tokens\":2115},\"system_fingerprint\":\"\"}\n",
      "=============================\n",
      "\n"
     ]
    },
    {
     "name": "stderr",
     "output_type": "stream",
     "text": [
      "Processing:   5%|▌         | 56/1060 [01:13<22:18,  1.33s/it]"
     ]
    },
    {
     "name": "stdout",
     "output_type": "stream",
     "text": [
      "===== 调试信息：服务器返回 =====\n",
      "{\"id\":\"0194dc59745bb407c72600702e2f3c11\",\"object\":\"chat.completion\",\"created\":1738863637,\"model\":\"Qwen/Qwen2.5-32B-Instruct\",\"choices\":[{\"index\":0,\"message\":{\"role\":\"assistant\",\"content\":\"{\\n  \\\"classification\\\": \\\"国际政治\\\",\\n  \\\"sentiment\\\": \\\"positive\\\"\\n}\"},\"finish_reason\":\"stop\"}],\"usage\":{\"prompt_tokens\":2678,\"completion_tokens\":18,\"total_tokens\":2696},\"system_fingerprint\":\"\"}\n",
      "=============================\n",
      "\n"
     ]
    },
    {
     "name": "stderr",
     "output_type": "stream",
     "text": [
      "Processing:   5%|▌         | 57/1060 [01:14<22:59,  1.37s/it]"
     ]
    },
    {
     "name": "stdout",
     "output_type": "stream",
     "text": [
      "===== 调试信息：服务器返回 =====\n",
      "{\"id\":\"0194dc5979fdc568df6eedadc7ebb939\",\"object\":\"chat.completion\",\"created\":1738863639,\"model\":\"Qwen/Qwen2.5-32B-Instruct\",\"choices\":[{\"index\":0,\"message\":{\"role\":\"assistant\",\"content\":\"{\\n  \\\"classification\\\": \\\"经济\\\",\\n  \\\"sentiment\\\": \\\"negative\\\"\\n}\"},\"finish_reason\":\"stop\"}],\"usage\":{\"prompt_tokens\":1554,\"completion_tokens\":17,\"total_tokens\":1571},\"system_fingerprint\":\"\"}\n",
      "=============================\n",
      "\n"
     ]
    },
    {
     "name": "stderr",
     "output_type": "stream",
     "text": [
      "Processing:   5%|▌         | 58/1060 [01:16<22:19,  1.34s/it]"
     ]
    },
    {
     "name": "stdout",
     "output_type": "stream",
     "text": [
      "===== 调试信息：服务器返回 =====\n",
      "{\"id\":\"0194dc597ed57d5a04457feba98a3c9f\",\"object\":\"chat.completion\",\"created\":1738863640,\"model\":\"Qwen/Qwen2.5-32B-Instruct\",\"choices\":[{\"index\":0,\"message\":{\"role\":\"assistant\",\"content\":\"{\\n  \\\"classification\\\": \\\"环境\\\",\\n  \\\"sentiment\\\": \\\"neutral\\\"\\n}\"},\"finish_reason\":\"stop\"}],\"usage\":{\"prompt_tokens\":1638,\"completion_tokens\":17,\"total_tokens\":1655},\"system_fingerprint\":\"\"}\n",
      "=============================\n",
      "\n"
     ]
    },
    {
     "name": "stderr",
     "output_type": "stream",
     "text": [
      "Processing:   6%|▌         | 59/1060 [01:17<21:36,  1.30s/it]"
     ]
    },
    {
     "name": "stdout",
     "output_type": "stream",
     "text": [
      "===== 调试信息：服务器返回 =====\n",
      "{\"id\":\"0194dc598383aebfb886ca5d68091552\",\"object\":\"chat.completion\",\"created\":1738863641,\"model\":\"Qwen/Qwen2.5-32B-Instruct\",\"choices\":[{\"index\":0,\"message\":{\"role\":\"assistant\",\"content\":\"{\\n  \\\"classification\\\": \\\"商务活动\\\",\\n  \\\"sentiment\\\": \\\"negative\\\"\\n}\"},\"finish_reason\":\"stop\"}],\"usage\":{\"prompt_tokens\":2215,\"completion_tokens\":18,\"total_tokens\":2233},\"system_fingerprint\":\"\"}\n",
      "=============================\n",
      "\n"
     ]
    },
    {
     "name": "stderr",
     "output_type": "stream",
     "text": [
      "Processing:   6%|▌         | 60/1060 [01:18<21:25,  1.29s/it]"
     ]
    },
    {
     "name": "stdout",
     "output_type": "stream",
     "text": [
      "===== 调试信息：服务器返回 =====\n",
      "{\"id\":\"0194dc598873869622fc7a22502f8a1f\",\"object\":\"chat.completion\",\"created\":1738863642,\"model\":\"Qwen/Qwen2.5-32B-Instruct\",\"choices\":[{\"index\":0,\"message\":{\"role\":\"assistant\",\"content\":\"{\\n  \\\"classification\\\": \\\"体育\\\",\\n  \\\"sentiment\\\": \\\"negative\\\"\\n}\"},\"finish_reason\":\"stop\"}],\"usage\":{\"prompt_tokens\":1806,\"completion_tokens\":17,\"total_tokens\":1823},\"system_fingerprint\":\"\"}\n",
      "=============================\n",
      "\n"
     ]
    },
    {
     "name": "stderr",
     "output_type": "stream",
     "text": [
      "Processing:   6%|▌         | 61/1060 [01:19<21:31,  1.29s/it]"
     ]
    },
    {
     "name": "stdout",
     "output_type": "stream",
     "text": [
      "===== 调试信息：服务器返回 =====\n",
      "{\"id\":\"0194dc598d85b881f0973bb4d6888d4a\",\"object\":\"chat.completion\",\"created\":1738863644,\"model\":\"Qwen/Qwen2.5-32B-Instruct\",\"choices\":[{\"index\":0,\"message\":{\"role\":\"assistant\",\"content\":\"{\\n  \\\"classification\\\": \\\"旅游\\\",\\n  \\\"sentiment\\\": \\\"pleasure\\\"\\n}\\n\\n注：给定的分类列表中没有“旅游”这一项，因此最接近的分类是“庆典”，但考虑到文章内容主要是关于旅游推荐，这里选择“其他”更为合适。\\n\\n{\\n  \\\"classification\\\": \\\"其他\\\",\\n  \\\"sentiment\\\": \\\"pleasure\\\"\\n}\"},\"finish_reason\":\"stop\"}],\"usage\":{\"prompt_tokens\":1442,\"completion_tokens\":77,\"total_tokens\":1519},\"system_fingerprint\":\"\"}\n",
      "=============================\n",
      "\n",
      "请求或解析时出现异常：Extra data: line 6 column 1 (char 57)，等待10秒后重试...\n",
      "===== 调试信息：服务器返回 =====\n",
      "{\"id\":\"0194dc59bc78b1f5e297d65a8a2786f6\",\"object\":\"chat.completion\",\"created\":1738863656,\"model\":\"Qwen/Qwen2.5-32B-Instruct\",\"choices\":[{\"index\":0,\"message\":{\"role\":\"assistant\",\"content\":\"{\\n  \\\"classification\\\": \\\"旅游\\\",\\n  \\\"sentiment\\\": \\\"pleasure\\\"\\n}\\n\\n注：给定的分类选项中没有\\\"旅游\\\"，最接近的是\\\"文化活动\\\"，但考虑到文章内容主要介绍旅游目的地，这里选择\\\"其他\\\"更为合适。\\n\\n{\\n  \\\"classification\\\": \\\"其他\\\",\\n  \\\"sentiment\\\": \\\"pleasure\\\"\\n}\"},\"finish_reason\":\"stop\"}],\"usage\":{\"prompt_tokens\":1442,\"completion_tokens\":74,\"total_tokens\":1516},\"system_fingerprint\":\"\"}\n",
      "=============================\n",
      "\n",
      "请求或解析时出现异常：Extra data: line 6 column 1 (char 57)，等待10秒后重试...\n",
      "===== 调试信息：服务器返回 =====\n",
      "{\"id\":\"0194dc59e9136fb422667a29e1474863\",\"object\":\"chat.completion\",\"created\":1738863667,\"model\":\"Qwen/Qwen2.5-32B-Instruct\",\"choices\":[{\"index\":0,\"message\":{\"role\":\"assistant\",\"content\":\"{\\n  \\\"classification\\\": \\\"旅游\\\",\\n  \\\"sentiment\\\": \\\"pleasure\\\"\\n}\"},\"finish_reason\":\"stop\"}],\"usage\":{\"prompt_tokens\":1442,\"completion_tokens\":18,\"total_tokens\":1460},\"system_fingerprint\":\"\"}\n",
      "=============================\n",
      "\n"
     ]
    },
    {
     "name": "stderr",
     "output_type": "stream",
     "text": [
      "Processing:   6%|▌         | 62/1060 [01:44<2:16:55,  8.23s/it]"
     ]
    },
    {
     "name": "stdout",
     "output_type": "stream",
     "text": [
      "===== 调试信息：服务器返回 =====\n",
      "{\"id\":\"0194dc59ecf485abf4126bfd2ab18ab9\",\"object\":\"chat.completion\",\"created\":1738863668,\"model\":\"Qwen/Qwen2.5-32B-Instruct\",\"choices\":[{\"index\":0,\"message\":{\"role\":\"assistant\",\"content\":\"{\\n  \\\"classification\\\": \\\"人口\\\",\\n  \\\"sentiment\\\": \\\"negative\\\"\\n}\"},\"finish_reason\":\"stop\"}],\"usage\":{\"prompt_tokens\":2085,\"completion_tokens\":17,\"total_tokens\":2102},\"system_fingerprint\":\"\"}\n",
      "=============================\n",
      "\n"
     ]
    },
    {
     "name": "stderr",
     "output_type": "stream",
     "text": [
      "Processing:   6%|▌         | 63/1060 [01:45<1:42:11,  6.15s/it]"
     ]
    },
    {
     "name": "stdout",
     "output_type": "stream",
     "text": [
      "===== 调试信息：服务器返回 =====\n",
      "{\"id\":\"0194dc59f1fcb535f2bbc1575b5f3b2c\",\"object\":\"chat.completion\",\"created\":1738863669,\"model\":\"Qwen/Qwen2.5-32B-Instruct\",\"choices\":[{\"index\":0,\"message\":{\"role\":\"assistant\",\"content\":\"{\\n  \\\"classification\\\": \\\"文化活动\\\",\\n  \\\"sentiment\\\": \\\"pleasure\\\"\\n}\"},\"finish_reason\":\"stop\"}],\"usage\":{\"prompt_tokens\":1269,\"completion_tokens\":19,\"total_tokens\":1288},\"system_fingerprint\":\"\"}\n",
      "=============================\n",
      "\n"
     ]
    },
    {
     "name": "stderr",
     "output_type": "stream",
     "text": [
      "Processing:   6%|▌         | 64/1060 [01:46<1:17:12,  4.65s/it]"
     ]
    },
    {
     "name": "stdout",
     "output_type": "stream",
     "text": [
      "===== 调试信息：服务器返回 =====\n",
      "{\"id\":\"0194dc59f69669322b03239a0e9cb85a\",\"object\":\"chat.completion\",\"created\":1738863670,\"model\":\"Qwen/Qwen2.5-32B-Instruct\",\"choices\":[{\"index\":0,\"message\":{\"role\":\"assistant\",\"content\":\"{\\n  \\\"classification\\\": \\\"经济\\\",\\n  \\\"sentiment\\\": \\\"negative\\\"\\n}\"},\"finish_reason\":\"stop\"}],\"usage\":{\"prompt_tokens\":2133,\"completion_tokens\":17,\"total_tokens\":2150},\"system_fingerprint\":\"\"}\n",
      "=============================\n",
      "\n"
     ]
    },
    {
     "name": "stderr",
     "output_type": "stream",
     "text": [
      "Processing:   6%|▌         | 65/1060 [01:48<1:00:15,  3.63s/it]"
     ]
    },
    {
     "name": "stdout",
     "output_type": "stream",
     "text": [
      "===== 调试信息：服务器返回 =====\n",
      "{\"id\":\"0194dc59fb796b76415c232ddf615e50\",\"object\":\"chat.completion\",\"created\":1738863672,\"model\":\"Qwen/Qwen2.5-32B-Instruct\",\"choices\":[{\"index\":0,\"message\":{\"role\":\"assistant\",\"content\":\"{\\n  \\\"classification\\\": \\\"经济\\\",\\n  \\\"sentiment\\\": \\\"positive\\\"\\n}\"},\"finish_reason\":\"stop\"}],\"usage\":{\"prompt_tokens\":2703,\"completion_tokens\":17,\"total_tokens\":2720},\"system_fingerprint\":\"\"}\n",
      "=============================\n",
      "\n"
     ]
    },
    {
     "name": "stderr",
     "output_type": "stream",
     "text": [
      "Processing:   6%|▌         | 66/1060 [01:49<49:11,  2.97s/it]  "
     ]
    },
    {
     "name": "stdout",
     "output_type": "stream",
     "text": [
      "===== 调试信息：服务器返回 =====\n",
      "{\"id\":\"0194dc5a010158ee74e0c4b11c00d79b\",\"object\":\"chat.completion\",\"created\":1738863673,\"model\":\"Qwen/Qwen2.5-32B-Instruct\",\"choices\":[{\"index\":0,\"message\":{\"role\":\"assistant\",\"content\":\"{\\n  \\\"classification\\\": \\\"科技\\\",\\n  \\\"sentiment\\\": \\\"positive\\\"\\n}\"},\"finish_reason\":\"stop\"}],\"usage\":{\"prompt_tokens\":1525,\"completion_tokens\":17,\"total_tokens\":1542},\"system_fingerprint\":\"\"}\n",
      "=============================\n",
      "\n"
     ]
    },
    {
     "name": "stderr",
     "output_type": "stream",
     "text": [
      "Processing:   6%|▋         | 67/1060 [01:50<40:44,  2.46s/it]"
     ]
    },
    {
     "name": "stdout",
     "output_type": "stream",
     "text": [
      "===== 调试信息：服务器返回 =====\n",
      "{\"id\":\"0194dc5a05faa8950903f2f13c33e959\",\"object\":\"chat.completion\",\"created\":1738863674,\"model\":\"Qwen/Qwen2.5-32B-Instruct\",\"choices\":[{\"index\":0,\"message\":{\"role\":\"assistant\",\"content\":\"{\\n  \\\"classification\\\": \\\"商务活动\\\",\\n  \\\"sentiment\\\": \\\"neutral\\\"\\n}\"},\"finish_reason\":\"stop\"}],\"usage\":{\"prompt_tokens\":2286,\"completion_tokens\":18,\"total_tokens\":2304},\"system_fingerprint\":\"\"}\n",
      "=============================\n",
      "\n"
     ]
    },
    {
     "name": "stderr",
     "output_type": "stream",
     "text": [
      "Processing:   6%|▋         | 68/1060 [01:52<34:49,  2.11s/it]"
     ]
    },
    {
     "name": "stdout",
     "output_type": "stream",
     "text": [
      "===== 调试信息：服务器返回 =====\n",
      "{\"id\":\"0194dc5a0af34a6752e0e85ec1586886\",\"object\":\"chat.completion\",\"created\":1738863676,\"model\":\"Qwen/Qwen2.5-32B-Instruct\",\"choices\":[{\"index\":0,\"message\":{\"role\":\"assistant\",\"content\":\"{\\n  \\\"classification\\\": \\\"国际政治\\\",\\n  \\\"sentiment\\\": \\\"negative\\\"\\n}\"},\"finish_reason\":\"stop\"}],\"usage\":{\"prompt_tokens\":702,\"completion_tokens\":18,\"total_tokens\":720},\"system_fingerprint\":\"\"}\n",
      "=============================\n",
      "\n"
     ]
    },
    {
     "name": "stderr",
     "output_type": "stream",
     "text": [
      "Processing:   7%|▋         | 69/1060 [01:53<29:50,  1.81s/it]"
     ]
    },
    {
     "name": "stdout",
     "output_type": "stream",
     "text": [
      "===== 调试信息：服务器返回 =====\n",
      "{\"id\":\"0194dc5a0f49c00d7b03d49d209ea3aa\",\"object\":\"chat.completion\",\"created\":1738863677,\"model\":\"Qwen/Qwen2.5-32B-Instruct\",\"choices\":[{\"index\":0,\"message\":{\"role\":\"assistant\",\"content\":\"{\\n  \\\"classification\\\": \\\"交通\\\",\\n  \\\"sentiment\\\": \\\"positive\\\"\\n}\"},\"finish_reason\":\"stop\"}],\"usage\":{\"prompt_tokens\":2736,\"completion_tokens\":17,\"total_tokens\":2753},\"system_fingerprint\":\"\"}\n",
      "=============================\n",
      "\n"
     ]
    },
    {
     "name": "stderr",
     "output_type": "stream",
     "text": [
      "Processing:   7%|▋         | 70/1060 [01:54<27:45,  1.68s/it]"
     ]
    },
    {
     "name": "stdout",
     "output_type": "stream",
     "text": [
      "===== 调试信息：服务器返回 =====\n",
      "{\"id\":\"0194dc5a14fdb8e0cfec876c8d594d70\",\"object\":\"chat.completion\",\"created\":1738863678,\"model\":\"Qwen/Qwen2.5-32B-Instruct\",\"choices\":[{\"index\":0,\"message\":{\"role\":\"assistant\",\"content\":\"{\\n  \\\"classification\\\": \\\"国际政治\\\",\\n  \\\"sentiment\\\": \\\"negative\\\"\\n}\"},\"finish_reason\":\"stop\"}],\"usage\":{\"prompt_tokens\":2106,\"completion_tokens\":18,\"total_tokens\":2124},\"system_fingerprint\":\"\"}\n",
      "=============================\n",
      "\n"
     ]
    },
    {
     "name": "stderr",
     "output_type": "stream",
     "text": [
      "Processing:   7%|▋         | 71/1060 [01:55<26:06,  1.58s/it]"
     ]
    },
    {
     "name": "stdout",
     "output_type": "stream",
     "text": [
      "===== 调试信息：服务器返回 =====\n",
      "{\"id\":\"0194dc5a1a033e4c85b8fa2b4e1f8723\",\"object\":\"chat.completion\",\"created\":1738863680,\"model\":\"Qwen/Qwen2.5-32B-Instruct\",\"choices\":[{\"index\":0,\"message\":{\"role\":\"assistant\",\"content\":\"{\\n  \\\"classification\\\": \\\"交通\\\",\\n  \\\"sentiment\\\": \\\"negative\\\"\\n}\"},\"finish_reason\":\"stop\"}],\"usage\":{\"prompt_tokens\":1954,\"completion_tokens\":17,\"total_tokens\":1971},\"system_fingerprint\":\"\"}\n",
      "=============================\n",
      "\n"
     ]
    },
    {
     "name": "stderr",
     "output_type": "stream",
     "text": [
      "Processing:   7%|▋         | 72/1060 [01:57<24:25,  1.48s/it]"
     ]
    },
    {
     "name": "stdout",
     "output_type": "stream",
     "text": [
      "===== 调试信息：服务器返回 =====\n",
      "{\"id\":\"0194dc5a1ee12c386b41348f670866b6\",\"object\":\"chat.completion\",\"created\":1738863681,\"model\":\"Qwen/Qwen2.5-32B-Instruct\",\"choices\":[{\"index\":0,\"message\":{\"role\":\"assistant\",\"content\":\"{\\n  \\\"classification\\\": \\\"交通\\\",\\n  \\\"sentiment\\\": \\\"positive\\\"\\n}\"},\"finish_reason\":\"stop\"}],\"usage\":{\"prompt_tokens\":1448,\"completion_tokens\":17,\"total_tokens\":1465},\"system_fingerprint\":\"\"}\n",
      "=============================\n",
      "\n"
     ]
    },
    {
     "name": "stderr",
     "output_type": "stream",
     "text": [
      "Processing:   7%|▋         | 73/1060 [01:58<22:44,  1.38s/it]"
     ]
    },
    {
     "name": "stdout",
     "output_type": "stream",
     "text": [
      "===== 调试信息：服务器返回 =====\n",
      "{\"id\":\"0194dc5a2398ac4499d75501961ca4a8\",\"object\":\"chat.completion\",\"created\":1738863682,\"model\":\"Qwen/Qwen2.5-32B-Instruct\",\"choices\":[{\"index\":0,\"message\":{\"role\":\"assistant\",\"content\":\"{\\n  \\\"classification\\\": \\\"经济\\\",\\n  \\\"sentiment\\\": \\\"negative\\\"\\n}\"},\"finish_reason\":\"stop\"}],\"usage\":{\"prompt_tokens\":3521,\"completion_tokens\":17,\"total_tokens\":3538},\"system_fingerprint\":\"\"}\n",
      "=============================\n",
      "\n"
     ]
    },
    {
     "name": "stderr",
     "output_type": "stream",
     "text": [
      "Processing:   7%|▋         | 74/1060 [01:59<23:21,  1.42s/it]"
     ]
    },
    {
     "name": "stdout",
     "output_type": "stream",
     "text": [
      "===== 调试信息：服务器返回 =====\n",
      "{\"id\":\"0194dc5a2945ed85daed78f365000e01\",\"object\":\"chat.completion\",\"created\":1738863683,\"model\":\"Qwen/Qwen2.5-32B-Instruct\",\"choices\":[{\"index\":0,\"message\":{\"role\":\"assistant\",\"content\":\"{\\n  \\\"classification\\\": \\\"文化活动\\\",\\n  \\\"sentiment\\\": \\\"negative\\\"\\n}\"},\"finish_reason\":\"stop\"}],\"usage\":{\"prompt_tokens\":2380,\"completion_tokens\":18,\"total_tokens\":2398},\"system_fingerprint\":\"\"}\n",
      "=============================\n",
      "\n"
     ]
    },
    {
     "name": "stderr",
     "output_type": "stream",
     "text": [
      "Processing:   7%|▋         | 75/1060 [02:01<22:48,  1.39s/it]"
     ]
    },
    {
     "name": "stdout",
     "output_type": "stream",
     "text": [
      "===== 调试信息：服务器返回 =====\n",
      "{\"id\":\"0194dc5a2e783b148f0e6222441b8d9b\",\"object\":\"chat.completion\",\"created\":1738863685,\"model\":\"Qwen/Qwen2.5-32B-Instruct\",\"choices\":[{\"index\":0,\"message\":{\"role\":\"assistant\",\"content\":\"{\\n  \\\"classification\\\": \\\"国际政治\\\",\\n  \\\"sentiment\\\": \\\"neutral\\\"\\n}\"},\"finish_reason\":\"stop\"}],\"usage\":{\"prompt_tokens\":2074,\"completion_tokens\":18,\"total_tokens\":2092},\"system_fingerprint\":\"\"}\n",
      "=============================\n",
      "\n"
     ]
    },
    {
     "name": "stderr",
     "output_type": "stream",
     "text": [
      "Processing:   7%|▋         | 76/1060 [02:02<22:05,  1.35s/it]"
     ]
    },
    {
     "name": "stdout",
     "output_type": "stream",
     "text": [
      "===== 调试信息：服务器返回 =====\n",
      "{\"id\":\"0194dc5a33872bc25ff0ab6259cf18d9\",\"object\":\"chat.completion\",\"created\":1738863686,\"model\":\"Qwen/Qwen2.5-32B-Instruct\",\"choices\":[{\"index\":0,\"message\":{\"role\":\"assistant\",\"content\":\"{\\n  \\\"classification\\\": \\\"经济\\\",\\n  \\\"sentiment\\\": \\\"neutral\\\"\\n}\"},\"finish_reason\":\"stop\"}],\"usage\":{\"prompt_tokens\":945,\"completion_tokens\":17,\"total_tokens\":962},\"system_fingerprint\":\"\"}\n",
      "=============================\n",
      "\n"
     ]
    },
    {
     "name": "stderr",
     "output_type": "stream",
     "text": [
      "Processing:   7%|▋         | 77/1060 [02:03<20:59,  1.28s/it]"
     ]
    },
    {
     "name": "stdout",
     "output_type": "stream",
     "text": [
      "===== 调试信息：服务器返回 =====\n",
      "{\"id\":\"0194dc5a37b377914845c23ffa828edc\",\"object\":\"chat.completion\",\"created\":1738863687,\"model\":\"Qwen/Qwen2.5-32B-Instruct\",\"choices\":[{\"index\":0,\"message\":{\"role\":\"assistant\",\"content\":\"{\\n  \\\"classification\\\": \\\"文化活动\\\",\\n  \\\"sentiment\\\": \\\"pleasure\\\"\\n}\"},\"finish_reason\":\"stop\"}],\"usage\":{\"prompt_tokens\":2008,\"completion_tokens\":19,\"total_tokens\":2027},\"system_fingerprint\":\"\"}\n",
      "=============================\n",
      "\n"
     ]
    },
    {
     "name": "stderr",
     "output_type": "stream",
     "text": [
      "Processing:   7%|▋         | 78/1060 [02:04<21:25,  1.31s/it]"
     ]
    },
    {
     "name": "stdout",
     "output_type": "stream",
     "text": [
      "===== 调试信息：服务器返回 =====\n",
      "{\"id\":\"0194dc5a3d313179127ef987650d526c\",\"object\":\"chat.completion\",\"created\":1738863689,\"model\":\"Qwen/Qwen2.5-32B-Instruct\",\"choices\":[{\"index\":0,\"message\":{\"role\":\"assistant\",\"content\":\"{\\n  \\\"classification\\\": \\\"商务活动\\\",\\n  \\\"sentiment\\\": \\\"negative\\\"\\n}\"},\"finish_reason\":\"stop\"}],\"usage\":{\"prompt_tokens\":2171,\"completion_tokens\":18,\"total_tokens\":2189},\"system_fingerprint\":\"\"}\n",
      "=============================\n",
      "\n"
     ]
    },
    {
     "name": "stderr",
     "output_type": "stream",
     "text": [
      "Processing:   7%|▋         | 79/1060 [02:06<23:14,  1.42s/it]"
     ]
    },
    {
     "name": "stdout",
     "output_type": "stream",
     "text": [
      "===== 调试信息：服务器返回 =====\n",
      "{\"id\":\"0194dc5a43a3738813f61da44a2f99e9\",\"object\":\"chat.completion\",\"created\":1738863690,\"model\":\"Qwen/Qwen2.5-32B-Instruct\",\"choices\":[{\"index\":0,\"message\":{\"role\":\"assistant\",\"content\":\"{\\n  \\\"classification\\\": \\\"文化活动\\\",\\n  \\\"sentiment\\\": \\\"pleasure\\\"\\n}\"},\"finish_reason\":\"stop\"}],\"usage\":{\"prompt_tokens\":1784,\"completion_tokens\":19,\"total_tokens\":1803},\"system_fingerprint\":\"\"}\n",
      "=============================\n",
      "\n"
     ]
    },
    {
     "name": "stderr",
     "output_type": "stream",
     "text": [
      "Processing:   8%|▊         | 80/1060 [02:08<23:55,  1.47s/it]"
     ]
    },
    {
     "name": "stdout",
     "output_type": "stream",
     "text": [
      "===== 调试信息：服务器返回 =====\n",
      "{\"id\":\"0194dc5a49e31f8ce769d264a1e5cd49\",\"object\":\"chat.completion\",\"created\":1738863692,\"model\":\"Qwen/Qwen2.5-32B-Instruct\",\"choices\":[{\"index\":0,\"message\":{\"role\":\"assistant\",\"content\":\"{\\n  \\\"classification\\\": \\\"国际政治\\\",\\n  \\\"sentiment\\\": \\\"neutral\\\"\\n}\"},\"finish_reason\":\"stop\"}],\"usage\":{\"prompt_tokens\":1699,\"completion_tokens\":18,\"total_tokens\":1717},\"system_fingerprint\":\"\"}\n",
      "=============================\n",
      "\n"
     ]
    },
    {
     "name": "stderr",
     "output_type": "stream",
     "text": [
      "Processing:   8%|▊         | 81/1060 [02:09<23:27,  1.44s/it]"
     ]
    },
    {
     "name": "stdout",
     "output_type": "stream",
     "text": [
      "===== 调试信息：服务器返回 =====\n",
      "{\"id\":\"0194dc5a4f38cd33a9434a14887ef46e\",\"object\":\"chat.completion\",\"created\":1738863693,\"model\":\"Qwen/Qwen2.5-32B-Instruct\",\"choices\":[{\"index\":0,\"message\":{\"role\":\"assistant\",\"content\":\"{\\n  \\\"classification\\\": \\\"文化活动\\\",\\n  \\\"sentiment\\\": \\\"pleasure\\\"\\n}\"},\"finish_reason\":\"stop\"}],\"usage\":{\"prompt_tokens\":2858,\"completion_tokens\":19,\"total_tokens\":2877},\"system_fingerprint\":\"\"}\n",
      "=============================\n",
      "\n"
     ]
    },
    {
     "name": "stderr",
     "output_type": "stream",
     "text": [
      "Processing:   8%|▊         | 82/1060 [02:10<23:28,  1.44s/it]"
     ]
    },
    {
     "name": "stdout",
     "output_type": "stream",
     "text": [
      "===== 调试信息：服务器返回 =====\n",
      "{\"id\":\"0194dc5a54c95980faf3df8d88faba6f\",\"object\":\"chat.completion\",\"created\":1738863695,\"model\":\"Qwen/Qwen2.5-32B-Instruct\",\"choices\":[{\"index\":0,\"message\":{\"role\":\"assistant\",\"content\":\"{\\n  \\\"classification\\\": \\\"科技\\\",\\n  \\\"sentiment\\\": \\\"neutral\\\"\\n}\"},\"finish_reason\":\"stop\"}],\"usage\":{\"prompt_tokens\":3208,\"completion_tokens\":17,\"total_tokens\":3225},\"system_fingerprint\":\"\"}\n",
      "=============================\n",
      "\n"
     ]
    },
    {
     "name": "stderr",
     "output_type": "stream",
     "text": [
      "Processing:   8%|▊         | 83/1060 [02:12<23:30,  1.44s/it]"
     ]
    },
    {
     "name": "stdout",
     "output_type": "stream",
     "text": [
      "===== 调试信息：服务器返回 =====\n",
      "{\"id\":\"0194dc5a5a9f82f2f53ff4e5986fc74b\",\"object\":\"chat.completion\",\"created\":1738863696,\"model\":\"Qwen/Qwen2.5-32B-Instruct\",\"choices\":[{\"index\":0,\"message\":{\"role\":\"assistant\",\"content\":\"{\\n  \\\"classification\\\": \\\"能源\\\",\\n  \\\"sentiment\\\": \\\"neutral\\\"\\n}\"},\"finish_reason\":\"stop\"}],\"usage\":{\"prompt_tokens\":4653,\"completion_tokens\":17,\"total_tokens\":4670},\"system_fingerprint\":\"\"}\n",
      "=============================\n",
      "\n"
     ]
    },
    {
     "name": "stderr",
     "output_type": "stream",
     "text": [
      "Processing:   8%|▊         | 84/1060 [02:14<25:02,  1.54s/it]"
     ]
    },
    {
     "name": "stdout",
     "output_type": "stream",
     "text": [
      "===== 调试信息：服务器返回 =====\n",
      "{\"id\":\"0194dc5a6161de49c0c806f8a967f723\",\"object\":\"chat.completion\",\"created\":1738863698,\"model\":\"Qwen/Qwen2.5-32B-Instruct\",\"choices\":[{\"index\":0,\"message\":{\"role\":\"assistant\",\"content\":\"{\\n  \\\"classification\\\": \\\"国际政治\\\",\\n  \\\"sentiment\\\": \\\"negative\\\"\\n}\"},\"finish_reason\":\"stop\"}],\"usage\":{\"prompt_tokens\":1753,\"completion_tokens\":18,\"total_tokens\":1771},\"system_fingerprint\":\"\"}\n",
      "=============================\n",
      "\n"
     ]
    },
    {
     "name": "stderr",
     "output_type": "stream",
     "text": [
      "Processing:   8%|▊         | 85/1060 [02:15<23:25,  1.44s/it]"
     ]
    },
    {
     "name": "stdout",
     "output_type": "stream",
     "text": [
      "===== 调试信息：服务器返回 =====\n",
      "{\"id\":\"0194dc5a663d44bb32646c21ca8247f2\",\"object\":\"chat.completion\",\"created\":1738863699,\"model\":\"Qwen/Qwen2.5-32B-Instruct\",\"choices\":[{\"index\":0,\"message\":{\"role\":\"assistant\",\"content\":\"{\\n  \\\"classification\\\": \\\"国际政治\\\",\\n  \\\"sentiment\\\": \\\"neutral\\\"\\n}\"},\"finish_reason\":\"stop\"}],\"usage\":{\"prompt_tokens\":2089,\"completion_tokens\":18,\"total_tokens\":2107},\"system_fingerprint\":\"\"}\n",
      "=============================\n",
      "\n"
     ]
    },
    {
     "name": "stderr",
     "output_type": "stream",
     "text": [
      "Processing:   8%|▊         | 86/1060 [02:16<22:40,  1.40s/it]"
     ]
    },
    {
     "name": "stdout",
     "output_type": "stream",
     "text": [
      "===== 调试信息：服务器返回 =====\n",
      "{\"id\":\"0194dc5a6b33daf9dbcd68cd36c529e5\",\"object\":\"chat.completion\",\"created\":1738863700,\"model\":\"Qwen/Qwen2.5-32B-Instruct\",\"choices\":[{\"index\":0,\"message\":{\"role\":\"assistant\",\"content\":\"{\\n  \\\"classification\\\": \\\"商务活动\\\",\\n  \\\"sentiment\\\": \\\"neutral\\\"\\n}\"},\"finish_reason\":\"stop\"}],\"usage\":{\"prompt_tokens\":2605,\"completion_tokens\":18,\"total_tokens\":2623},\"system_fingerprint\":\"\"}\n",
      "=============================\n",
      "\n"
     ]
    },
    {
     "name": "stderr",
     "output_type": "stream",
     "text": [
      "Processing:   8%|▊         | 87/1060 [02:18<22:41,  1.40s/it]"
     ]
    },
    {
     "name": "stdout",
     "output_type": "stream",
     "text": [
      "===== 调试信息：服务器返回 =====\n",
      "{\"id\":\"0194dc5a718288b4419ec38faed63e3d\",\"object\":\"chat.completion\",\"created\":1738863702,\"model\":\"Qwen/Qwen2.5-32B-Instruct\",\"choices\":[{\"index\":0,\"message\":{\"role\":\"assistant\",\"content\":\"{\\n  \\\"classification\\\": \\\"国际政治\\\",\\n  \\\"sentiment\\\": \\\"negative\\\"\\n}\"},\"finish_reason\":\"stop\"}],\"usage\":{\"prompt_tokens\":769,\"completion_tokens\":18,\"total_tokens\":787},\"system_fingerprint\":\"\"}\n",
      "=============================\n",
      "\n"
     ]
    },
    {
     "name": "stderr",
     "output_type": "stream",
     "text": [
      "Processing:   8%|▊         | 88/1060 [02:19<22:17,  1.38s/it]"
     ]
    },
    {
     "name": "stdout",
     "output_type": "stream",
     "text": [
      "===== 调试信息：服务器返回 =====\n",
      "{\"id\":\"0194dc5a75d221b95cc7be85013cc609\",\"object\":\"chat.completion\",\"created\":1738863703,\"model\":\"Qwen/Qwen2.5-32B-Instruct\",\"choices\":[{\"index\":0,\"message\":{\"role\":\"assistant\",\"content\":\"{\\n  \\\"classification\\\": \\\"体育\\\",\\n  \\\"sentiment\\\": \\\"positive\\\"\\n}\"},\"finish_reason\":\"stop\"}],\"usage\":{\"prompt_tokens\":1431,\"completion_tokens\":17,\"total_tokens\":1448},\"system_fingerprint\":\"\"}\n",
      "=============================\n",
      "\n"
     ]
    },
    {
     "name": "stderr",
     "output_type": "stream",
     "text": [
      "Processing:   8%|▊         | 89/1060 [02:20<21:15,  1.31s/it]"
     ]
    },
    {
     "name": "stdout",
     "output_type": "stream",
     "text": [
      "===== 调试信息：服务器返回 =====\n",
      "{\"id\":\"0194dc5a7a6ade89518c920f77979ec4\",\"object\":\"chat.completion\",\"created\":1738863704,\"model\":\"Qwen/Qwen2.5-32B-Instruct\",\"choices\":[{\"index\":0,\"message\":{\"role\":\"assistant\",\"content\":\"{\\n  \\\"classification\\\": \\\"文化活动\\\",\\n  \\\"sentiment\\\": \\\"pleasure\\\"\\n}\"},\"finish_reason\":\"stop\"}],\"usage\":{\"prompt_tokens\":1820,\"completion_tokens\":19,\"total_tokens\":1839},\"system_fingerprint\":\"\"}\n",
      "=============================\n",
      "\n"
     ]
    },
    {
     "name": "stderr",
     "output_type": "stream",
     "text": [
      "Processing:   8%|▊         | 90/1060 [02:21<20:58,  1.30s/it]"
     ]
    },
    {
     "name": "stdout",
     "output_type": "stream",
     "text": [
      "===== 调试信息：服务器返回 =====\n",
      "{\"id\":\"0194dc5a7f693c334cc6147520974e3c\",\"object\":\"chat.completion\",\"created\":1738863705,\"model\":\"Qwen/Qwen2.5-32B-Instruct\",\"choices\":[{\"index\":0,\"message\":{\"role\":\"assistant\",\"content\":\"{\\n  \\\"classification\\\": \\\"科技\\\",\\n  \\\"sentiment\\\": \\\"pleasure\\\"\\n}\"},\"finish_reason\":\"stop\"}],\"usage\":{\"prompt_tokens\":1615,\"completion_tokens\":18,\"total_tokens\":1633},\"system_fingerprint\":\"\"}\n",
      "=============================\n",
      "\n"
     ]
    },
    {
     "name": "stderr",
     "output_type": "stream",
     "text": [
      "Processing:   9%|▊         | 91/1060 [02:23<20:43,  1.28s/it]"
     ]
    },
    {
     "name": "stdout",
     "output_type": "stream",
     "text": [
      "===== 调试信息：服务器返回 =====\n",
      "{\"id\":\"0194dc5a8424416b6f713454a5b7186d\",\"object\":\"chat.completion\",\"created\":1738863707,\"model\":\"Qwen/Qwen2.5-32B-Instruct\",\"choices\":[{\"index\":0,\"message\":{\"role\":\"assistant\",\"content\":\"{\\n  \\\"classification\\\": \\\"经济\\\",\\n  \\\"sentiment\\\": \\\"negative\\\"\\n}\"},\"finish_reason\":\"stop\"}],\"usage\":{\"prompt_tokens\":1683,\"completion_tokens\":17,\"total_tokens\":1700},\"system_fingerprint\":\"\"}\n",
      "=============================\n",
      "\n"
     ]
    },
    {
     "name": "stderr",
     "output_type": "stream",
     "text": [
      "Processing:   9%|▊         | 92/1060 [02:24<20:11,  1.25s/it]"
     ]
    },
    {
     "name": "stdout",
     "output_type": "stream",
     "text": [
      "===== 调试信息：服务器返回 =====\n",
      "{\"id\":\"0194dc5a88c6ef21697ee3b4807dc63b\",\"object\":\"chat.completion\",\"created\":1738863708,\"model\":\"Qwen/Qwen2.5-32B-Instruct\",\"choices\":[{\"index\":0,\"message\":{\"role\":\"assistant\",\"content\":\"{\\n  \\\"classification\\\": \\\"经济\\\",\\n  \\\"sentiment\\\": \\\"positive\\\"\\n}\"},\"finish_reason\":\"stop\"}],\"usage\":{\"prompt_tokens\":1653,\"completion_tokens\":17,\"total_tokens\":1670},\"system_fingerprint\":\"\"}\n",
      "=============================\n",
      "\n"
     ]
    },
    {
     "name": "stderr",
     "output_type": "stream",
     "text": [
      "Processing:   9%|▉         | 93/1060 [02:25<20:27,  1.27s/it]"
     ]
    },
    {
     "name": "stdout",
     "output_type": "stream",
     "text": [
      "===== 调试信息：服务器返回 =====\n",
      "{\"id\":\"0194dc5a8df5be7a5aea158b4332dbb2\",\"object\":\"chat.completion\",\"created\":1738863709,\"model\":\"Qwen/Qwen2.5-32B-Instruct\",\"choices\":[{\"index\":0,\"message\":{\"role\":\"assistant\",\"content\":\"{\\n  \\\"classification\\\": \\\"商务活动\\\",\\n  \\\"sentiment\\\": \\\"pleasure\\\"\\n}\"},\"finish_reason\":\"stop\"}],\"usage\":{\"prompt_tokens\":1205,\"completion_tokens\":19,\"total_tokens\":1224},\"system_fingerprint\":\"\"}\n",
      "=============================\n",
      "\n"
     ]
    },
    {
     "name": "stderr",
     "output_type": "stream",
     "text": [
      "Processing:   9%|▉         | 94/1060 [02:26<19:52,  1.23s/it]"
     ]
    },
    {
     "name": "stdout",
     "output_type": "stream",
     "text": [
      "===== 调试信息：服务器返回 =====\n",
      "{\"id\":\"0194dc5a92581416e6ed0333b5c66897\",\"object\":\"chat.completion\",\"created\":1738863710,\"model\":\"Qwen/Qwen2.5-32B-Instruct\",\"choices\":[{\"index\":0,\"message\":{\"role\":\"assistant\",\"content\":\"{\\n  \\\"classification\\\": \\\"国际政治\\\",\\n  \\\"sentiment\\\": \\\"negative\\\"\\n}\"},\"finish_reason\":\"stop\"}],\"usage\":{\"prompt_tokens\":2331,\"completion_tokens\":18,\"total_tokens\":2349},\"system_fingerprint\":\"\"}\n",
      "=============================\n",
      "\n"
     ]
    },
    {
     "name": "stderr",
     "output_type": "stream",
     "text": [
      "Processing:   9%|▉         | 95/1060 [02:28<20:03,  1.25s/it]"
     ]
    },
    {
     "name": "stdout",
     "output_type": "stream",
     "text": [
      "===== 调试信息：服务器返回 =====\n",
      "{\"id\":\"0194dc5a9778e26d9daecd91a7e4804d\",\"object\":\"chat.completion\",\"created\":1738863712,\"model\":\"Qwen/Qwen2.5-32B-Instruct\",\"choices\":[{\"index\":0,\"message\":{\"role\":\"assistant\",\"content\":\"{\\n  \\\"classification\\\": \\\"能源\\\",\\n  \\\"sentiment\\\": \\\"neutral\\\"\\n}\"},\"finish_reason\":\"stop\"}],\"usage\":{\"prompt_tokens\":2448,\"completion_tokens\":17,\"total_tokens\":2465},\"system_fingerprint\":\"\"}\n",
      "=============================\n",
      "\n"
     ]
    },
    {
     "name": "stderr",
     "output_type": "stream",
     "text": [
      "Processing:   9%|▉         | 96/1060 [02:29<21:03,  1.31s/it]"
     ]
    },
    {
     "name": "stdout",
     "output_type": "stream",
     "text": [
      "===== 调试信息：服务器返回 =====\n",
      "{\"id\":\"0194dc5a9d0a5777ea1e99bbe75e1b2a\",\"object\":\"chat.completion\",\"created\":1738863713,\"model\":\"Qwen/Qwen2.5-32B-Instruct\",\"choices\":[{\"index\":0,\"message\":{\"role\":\"assistant\",\"content\":\"{\\n  \\\"classification\\\": \\\"经济\\\",\\n  \\\"sentiment\\\": \\\"negative\\\"\\n}\"},\"finish_reason\":\"stop\"}],\"usage\":{\"prompt_tokens\":2073,\"completion_tokens\":17,\"total_tokens\":2090},\"system_fingerprint\":\"\"}\n",
      "=============================\n",
      "\n"
     ]
    },
    {
     "name": "stderr",
     "output_type": "stream",
     "text": [
      "Processing:   9%|▉         | 97/1060 [02:30<20:39,  1.29s/it]"
     ]
    },
    {
     "name": "stdout",
     "output_type": "stream",
     "text": [
      "===== 调试信息：服务器返回 =====\n",
      "{\"id\":\"0194dc5aa1df26a248f3df85677e2924\",\"object\":\"chat.completion\",\"created\":1738863714,\"model\":\"Qwen/Qwen2.5-32B-Instruct\",\"choices\":[{\"index\":0,\"message\":{\"role\":\"assistant\",\"content\":\"{\\n  \\\"classification\\\": \\\"商务活动\\\",\\n  \\\"sentiment\\\": \\\"positive\\\"\\n}\"},\"finish_reason\":\"stop\"}],\"usage\":{\"prompt_tokens\":1382,\"completion_tokens\":18,\"total_tokens\":1400},\"system_fingerprint\":\"\"}\n",
      "=============================\n",
      "\n"
     ]
    },
    {
     "name": "stderr",
     "output_type": "stream",
     "text": [
      "Processing:   9%|▉         | 98/1060 [02:31<20:04,  1.25s/it]"
     ]
    },
    {
     "name": "stdout",
     "output_type": "stream",
     "text": [
      "===== 调试信息：服务器返回 =====\n",
      "{\"id\":\"0194dc5aa67c40f85294b95441d6e49b\",\"object\":\"chat.completion\",\"created\":1738863715,\"model\":\"Qwen/Qwen2.5-32B-Instruct\",\"choices\":[{\"index\":0,\"message\":{\"role\":\"assistant\",\"content\":\"{\\n  \\\"classification\\\": \\\"国际政治\\\",\\n  \\\"sentiment\\\": \\\"neutral\\\"\\n}\"},\"finish_reason\":\"stop\"}],\"usage\":{\"prompt_tokens\":2905,\"completion_tokens\":18,\"total_tokens\":2923},\"system_fingerprint\":\"\"}\n",
      "=============================\n",
      "\n"
     ]
    },
    {
     "name": "stderr",
     "output_type": "stream",
     "text": [
      "Processing:   9%|▉         | 99/1060 [02:33<21:02,  1.31s/it]"
     ]
    },
    {
     "name": "stdout",
     "output_type": "stream",
     "text": [
      "===== 调试信息：服务器返回 =====\n",
      "{\"id\":\"0194dc5aac423c4c19b495afff0087dc\",\"object\":\"chat.completion\",\"created\":1738863717,\"model\":\"Qwen/Qwen2.5-32B-Instruct\",\"choices\":[{\"index\":0,\"message\":{\"role\":\"assistant\",\"content\":\"{\\n  \\\"classification\\\": \\\"经济\\\",\\n  \\\"sentiment\\\": \\\"negative\\\"\\n}\"},\"finish_reason\":\"stop\"}],\"usage\":{\"prompt_tokens\":1676,\"completion_tokens\":17,\"total_tokens\":1693},\"system_fingerprint\":\"\"}\n",
      "=============================\n",
      "\n"
     ]
    },
    {
     "name": "stderr",
     "output_type": "stream",
     "text": [
      "Processing:   9%|▉         | 100/1060 [02:34<20:31,  1.28s/it]"
     ]
    },
    {
     "name": "stdout",
     "output_type": "stream",
     "text": [
      "===== 调试信息：服务器返回 =====\n",
      "{\"id\":\"0194dc5ab0fb19931d1a4541920cdde5\",\"object\":\"chat.completion\",\"created\":1738863718,\"model\":\"Qwen/Qwen2.5-32B-Instruct\",\"choices\":[{\"index\":0,\"message\":{\"role\":\"assistant\",\"content\":\"{\\n  \\\"classification\\\": \\\"环境\\\",\\n  \\\"sentiment\\\": \\\"negative\\\"\\n}\"},\"finish_reason\":\"stop\"}],\"usage\":{\"prompt_tokens\":7389,\"completion_tokens\":17,\"total_tokens\":7406},\"system_fingerprint\":\"\"}\n",
      "=============================\n",
      "\n"
     ]
    },
    {
     "name": "stderr",
     "output_type": "stream",
     "text": [
      "Processing:  10%|▉         | 101/1060 [02:36<24:54,  1.56s/it]"
     ]
    },
    {
     "name": "stdout",
     "output_type": "stream",
     "text": [
      "===== 调试信息：服务器返回 =====\n",
      "{\"id\":\"0194dc5ab9701413094410340092f9b5\",\"object\":\"chat.completion\",\"created\":1738863720,\"model\":\"Qwen/Qwen2.5-32B-Instruct\",\"choices\":[{\"index\":0,\"message\":{\"role\":\"assistant\",\"content\":\"{\\n  \\\"classification\\\": \\\"国际政治\\\",\\n  \\\"sentiment\\\": \\\"positive\\\"\\n}\"},\"finish_reason\":\"stop\"}],\"usage\":{\"prompt_tokens\":1256,\"completion_tokens\":18,\"total_tokens\":1274},\"system_fingerprint\":\"\"}\n",
      "=============================\n",
      "\n"
     ]
    },
    {
     "name": "stderr",
     "output_type": "stream",
     "text": [
      "Processing:  10%|▉         | 102/1060 [02:37<22:44,  1.42s/it]"
     ]
    },
    {
     "name": "stdout",
     "output_type": "stream",
     "text": [
      "===== 调试信息：服务器返回 =====\n",
      "{\"id\":\"0194dc5abe6979371efe6e27ceda784c\",\"object\":\"chat.completion\",\"created\":1738863722,\"model\":\"Qwen/Qwen2.5-32B-Instruct\",\"choices\":[{\"index\":0,\"message\":{\"role\":\"assistant\",\"content\":\"{\\n  \\\"classification\\\": \\\"国际政治\\\",\\n  \\\"sentiment\\\": \\\"neutral\\\"\\n}\"},\"finish_reason\":\"stop\"}],\"usage\":{\"prompt_tokens\":2721,\"completion_tokens\":18,\"total_tokens\":2739},\"system_fingerprint\":\"\"}\n",
      "=============================\n",
      "\n"
     ]
    },
    {
     "name": "stderr",
     "output_type": "stream",
     "text": [
      "Processing:  10%|▉         | 103/1060 [02:39<23:32,  1.48s/it]"
     ]
    },
    {
     "name": "stdout",
     "output_type": "stream",
     "text": [
      "===== 调试信息：服务器返回 =====\n",
      "{\"id\":\"0194dc5ac40fe39b13da45337288033f\",\"object\":\"chat.completion\",\"created\":1738863723,\"model\":\"Qwen/Qwen2.5-32B-Instruct\",\"choices\":[{\"index\":0,\"message\":{\"role\":\"assistant\",\"content\":\"{\\n  \\\"classification\\\": \\\"文化活动\\\",\\n  \\\"sentiment\\\": \\\"pleasure\\\"\\n}\"},\"finish_reason\":\"stop\"}],\"usage\":{\"prompt_tokens\":1682,\"completion_tokens\":19,\"total_tokens\":1701},\"system_fingerprint\":\"\"}\n",
      "=============================\n",
      "\n"
     ]
    },
    {
     "name": "stderr",
     "output_type": "stream",
     "text": [
      "Processing:  10%|▉         | 104/1060 [02:40<23:14,  1.46s/it]"
     ]
    },
    {
     "name": "stdout",
     "output_type": "stream",
     "text": [
      "===== 调试信息：服务器返回 =====\n",
      "{\"id\":\"0194dc5ac9b755adf73f98f273412167\",\"object\":\"chat.completion\",\"created\":1738863724,\"model\":\"Qwen/Qwen2.5-32B-Instruct\",\"choices\":[{\"index\":0,\"message\":{\"role\":\"assistant\",\"content\":\"{\\n  \\\"classification\\\": \\\"教育\\\",\\n  \\\"sentiment\\\": \\\"positive\\\"\\n}\"},\"finish_reason\":\"stop\"}],\"usage\":{\"prompt_tokens\":1340,\"completion_tokens\":17,\"total_tokens\":1357},\"system_fingerprint\":\"\"}\n",
      "=============================\n",
      "\n"
     ]
    },
    {
     "name": "stderr",
     "output_type": "stream",
     "text": [
      "Processing:  10%|▉         | 105/1060 [02:42<23:58,  1.51s/it]"
     ]
    },
    {
     "name": "stdout",
     "output_type": "stream",
     "text": [
      "===== 调试信息：服务器返回 =====\n",
      "{\"id\":\"0194dc5ad0755c44dec8a350d03dd5cd\",\"object\":\"chat.completion\",\"created\":1738863726,\"model\":\"Qwen/Qwen2.5-32B-Instruct\",\"choices\":[{\"index\":0,\"message\":{\"role\":\"assistant\",\"content\":\"{\\n  \\\"classification\\\": \\\"国际政治\\\",\\n  \\\"sentiment\\\": \\\"negative\\\"\\n}\"},\"finish_reason\":\"stop\"}],\"usage\":{\"prompt_tokens\":2896,\"completion_tokens\":18,\"total_tokens\":2914},\"system_fingerprint\":\"\"}\n",
      "=============================\n",
      "\n"
     ]
    },
    {
     "name": "stderr",
     "output_type": "stream",
     "text": [
      "Processing:  10%|█         | 106/1060 [02:44<26:26,  1.66s/it]"
     ]
    },
    {
     "name": "stdout",
     "output_type": "stream",
     "text": [
      "===== 调试信息：服务器返回 =====\n",
      "{\"id\":\"0194dc5ad7e91e3f48ffef5615246b46\",\"object\":\"chat.completion\",\"created\":1738863728,\"model\":\"Qwen/Qwen2.5-32B-Instruct\",\"choices\":[{\"index\":0,\"message\":{\"role\":\"assistant\",\"content\":\"{\\n  \\\"classification\\\": \\\"国内政治\\\",\\n  \\\"sentiment\\\": \\\"pain\\\"\\n}\"},\"finish_reason\":\"stop\"}],\"usage\":{\"prompt_tokens\":1751,\"completion_tokens\":18,\"total_tokens\":1769},\"system_fingerprint\":\"\"}\n",
      "=============================\n",
      "\n"
     ]
    },
    {
     "name": "stderr",
     "output_type": "stream",
     "text": [
      "Processing:  10%|█         | 107/1060 [02:45<24:19,  1.53s/it]"
     ]
    },
    {
     "name": "stdout",
     "output_type": "stream",
     "text": [
      "===== 调试信息：服务器返回 =====\n",
      "{\"id\":\"0194dc5adca26e750de353b3071a2d63\",\"object\":\"chat.completion\",\"created\":1738863729,\"model\":\"Qwen/Qwen2.5-32B-Instruct\",\"choices\":[{\"index\":0,\"message\":{\"role\":\"assistant\",\"content\":\"{\\n  \\\"classification\\\": \\\"国际政治\\\",\\n  \\\"sentiment\\\": \\\"neutral\\\"\\n}\"},\"finish_reason\":\"stop\"}],\"usage\":{\"prompt_tokens\":2129,\"completion_tokens\":18,\"total_tokens\":2147},\"system_fingerprint\":\"\"}\n",
      "=============================\n",
      "\n"
     ]
    },
    {
     "name": "stderr",
     "output_type": "stream",
     "text": [
      "Processing:  10%|█         | 108/1060 [02:47<23:01,  1.45s/it]"
     ]
    },
    {
     "name": "stdout",
     "output_type": "stream",
     "text": [
      "===== 调试信息：服务器返回 =====\n",
      "{\"id\":\"0194dc5ae1bc901ea4ccd24ee1f3b9d9\",\"object\":\"chat.completion\",\"created\":1738863731,\"model\":\"Qwen/Qwen2.5-32B-Instruct\",\"choices\":[{\"index\":0,\"message\":{\"role\":\"assistant\",\"content\":\"{\\n  \\\"classification\\\": \\\"体育\\\",\\n  \\\"sentiment\\\": \\\"positive\\\"\\n}\"},\"finish_reason\":\"stop\"}],\"usage\":{\"prompt_tokens\":1630,\"completion_tokens\":17,\"total_tokens\":1647},\"system_fingerprint\":\"\"}\n",
      "=============================\n",
      "\n"
     ]
    },
    {
     "name": "stderr",
     "output_type": "stream",
     "text": [
      "Processing:  10%|█         | 109/1060 [02:48<21:48,  1.38s/it]"
     ]
    },
    {
     "name": "stdout",
     "output_type": "stream",
     "text": [
      "===== 调试信息：服务器返回 =====\n",
      "{\"id\":\"0194dc5ae6617c2d8541cf6cf0c89a94\",\"object\":\"chat.completion\",\"created\":1738863732,\"model\":\"Qwen/Qwen2.5-32B-Instruct\",\"choices\":[{\"index\":0,\"message\":{\"role\":\"assistant\",\"content\":\"{\\n  \\\"classification\\\": \\\"国际政治\\\",\\n  \\\"sentiment\\\": \\\"neutral\\\"\\n}\"},\"finish_reason\":\"stop\"}],\"usage\":{\"prompt_tokens\":764,\"completion_tokens\":18,\"total_tokens\":782},\"system_fingerprint\":\"\"}\n",
      "=============================\n",
      "\n"
     ]
    },
    {
     "name": "stderr",
     "output_type": "stream",
     "text": [
      "Processing:  10%|█         | 110/1060 [02:49<20:52,  1.32s/it]"
     ]
    },
    {
     "name": "stdout",
     "output_type": "stream",
     "text": [
      "===== 调试信息：服务器返回 =====\n",
      "{\"id\":\"0194dc5aeafd96c57ed39dbc42043766\",\"object\":\"chat.completion\",\"created\":1738863733,\"model\":\"Qwen/Qwen2.5-32B-Instruct\",\"choices\":[{\"index\":0,\"message\":{\"role\":\"assistant\",\"content\":\"{\\n  \\\"classification\\\": \\\"文化活动\\\",\\n  \\\"sentiment\\\": \\\"pleasure\\\"\\n}\"},\"finish_reason\":\"stop\"}],\"usage\":{\"prompt_tokens\":4097,\"completion_tokens\":19,\"total_tokens\":4116},\"system_fingerprint\":\"\"}\n",
      "=============================\n",
      "\n"
     ]
    },
    {
     "name": "stderr",
     "output_type": "stream",
     "text": [
      "Processing:  10%|█         | 111/1060 [02:51<22:21,  1.41s/it]"
     ]
    },
    {
     "name": "stdout",
     "output_type": "stream",
     "text": [
      "===== 调试信息：服务器返回 =====\n",
      "{\"id\":\"0194dc5af1677d29432d9987ce71be7a\",\"object\":\"chat.completion\",\"created\":1738863735,\"model\":\"Qwen/Qwen2.5-32B-Instruct\",\"choices\":[{\"index\":0,\"message\":{\"role\":\"assistant\",\"content\":\"{\\n  \\\"classification\\\": \\\"文化活动\\\",\\n  \\\"sentiment\\\": \\\"pleasure\\\"\\n}\"},\"finish_reason\":\"stop\"}],\"usage\":{\"prompt_tokens\":497,\"completion_tokens\":19,\"total_tokens\":516},\"system_fingerprint\":\"\"}\n",
      "=============================\n",
      "\n"
     ]
    },
    {
     "name": "stderr",
     "output_type": "stream",
     "text": [
      "Processing:  11%|█         | 112/1060 [02:52<21:03,  1.33s/it]"
     ]
    },
    {
     "name": "stdout",
     "output_type": "stream",
     "text": [
      "===== 调试信息：服务器返回 =====\n",
      "{\"id\":\"0194dc5af5ca1cf9e7614ab420aec6d1\",\"object\":\"chat.completion\",\"created\":1738863736,\"model\":\"Qwen/Qwen2.5-32B-Instruct\",\"choices\":[{\"index\":0,\"message\":{\"role\":\"assistant\",\"content\":\"{\\n  \\\"classification\\\": \\\"文化活动\\\",\\n  \\\"sentiment\\\": \\\"pleasure\\\"\\n}\"},\"finish_reason\":\"stop\"}],\"usage\":{\"prompt_tokens\":457,\"completion_tokens\":19,\"total_tokens\":476},\"system_fingerprint\":\"\"}\n",
      "=============================\n",
      "\n"
     ]
    },
    {
     "name": "stderr",
     "output_type": "stream",
     "text": [
      "Processing:  11%|█         | 113/1060 [02:53<19:46,  1.25s/it]"
     ]
    },
    {
     "name": "stdout",
     "output_type": "stream",
     "text": [
      "===== 调试信息：服务器返回 =====\n",
      "{\"id\":\"0194dc5af9e7bd7a49711250a4549941\",\"object\":\"chat.completion\",\"created\":1738863737,\"model\":\"Qwen/Qwen2.5-32B-Instruct\",\"choices\":[{\"index\":0,\"message\":{\"role\":\"assistant\",\"content\":\"{\\n  \\\"classification\\\": \\\"文化活动\\\",\\n  \\\"sentiment\\\": \\\"pleasure\\\"\\n}\"},\"finish_reason\":\"stop\"}],\"usage\":{\"prompt_tokens\":1472,\"completion_tokens\":19,\"total_tokens\":1491},\"system_fingerprint\":\"\"}\n",
      "=============================\n",
      "\n"
     ]
    },
    {
     "name": "stderr",
     "output_type": "stream",
     "text": [
      "Processing:  11%|█         | 114/1060 [02:54<19:21,  1.23s/it]"
     ]
    },
    {
     "name": "stdout",
     "output_type": "stream",
     "text": [
      "===== 调试信息：服务器返回 =====\n",
      "{\"id\":\"0194dc5aff8b2bbc52758669b45eac3c\",\"object\":\"chat.completion\",\"created\":1738863738,\"model\":\"Qwen/Qwen2.5-32B-Instruct\",\"choices\":[{\"index\":0,\"message\":{\"role\":\"assistant\",\"content\":\"{\\n  \\\"classification\\\": \\\"劳动关系\\\",\\n  \\\"sentiment\\\": \\\"negative\\\"\\n}\"},\"finish_reason\":\"stop\"}],\"usage\":{\"prompt_tokens\":1922,\"completion_tokens\":18,\"total_tokens\":1940},\"system_fingerprint\":\"\"}\n",
      "=============================\n",
      "\n"
     ]
    },
    {
     "name": "stderr",
     "output_type": "stream",
     "text": [
      "Processing:  11%|█         | 115/1060 [02:55<20:40,  1.31s/it]"
     ]
    },
    {
     "name": "stdout",
     "output_type": "stream",
     "text": [
      "===== 调试信息：服务器返回 =====\n",
      "{\"id\":\"0194dc5b0483aecbe9cd4028b9a2ddf1\",\"object\":\"chat.completion\",\"created\":1738863740,\"model\":\"Qwen/Qwen2.5-32B-Instruct\",\"choices\":[{\"index\":0,\"message\":{\"role\":\"assistant\",\"content\":\"{\\n  \\\"classification\\\": \\\"环境\\\",\\n  \\\"sentiment\\\": \\\"negative\\\"\\n}\"},\"finish_reason\":\"stop\"}],\"usage\":{\"prompt_tokens\":3439,\"completion_tokens\":17,\"total_tokens\":3456},\"system_fingerprint\":\"\"}\n",
      "=============================\n",
      "\n"
     ]
    },
    {
     "name": "stderr",
     "output_type": "stream",
     "text": [
      "Processing:  11%|█         | 116/1060 [02:57<21:31,  1.37s/it]"
     ]
    },
    {
     "name": "stdout",
     "output_type": "stream",
     "text": [
      "===== 调试信息：服务器返回 =====\n",
      "{\"id\":\"0194dc5b0a4714410c3811a6e2ecec03\",\"object\":\"chat.completion\",\"created\":1738863741,\"model\":\"Qwen/Qwen2.5-32B-Instruct\",\"choices\":[{\"index\":0,\"message\":{\"role\":\"assistant\",\"content\":\"{\\n  \\\"classification\\\": \\\"时尚\\\",\\n  \\\"sentiment\\\": \\\"neutral\\\"\\n}\"},\"finish_reason\":\"stop\"}],\"usage\":{\"prompt_tokens\":2930,\"completion_tokens\":17,\"total_tokens\":2947},\"system_fingerprint\":\"\"}\n",
      "=============================\n",
      "\n"
     ]
    },
    {
     "name": "stderr",
     "output_type": "stream",
     "text": [
      "Processing:  11%|█         | 117/1060 [02:58<21:39,  1.38s/it]"
     ]
    },
    {
     "name": "stdout",
     "output_type": "stream",
     "text": [
      "===== 调试信息：服务器返回 =====\n",
      "{\"id\":\"0194dc5b0fb746ea379cad67434d46e9\",\"object\":\"chat.completion\",\"created\":1738863742,\"model\":\"Qwen/Qwen2.5-32B-Instruct\",\"choices\":[{\"index\":0,\"message\":{\"role\":\"assistant\",\"content\":\"{\\n  \\\"classification\\\": \\\"经济\\\",\\n  \\\"sentiment\\\": \\\"negative\\\"\\n}\"},\"finish_reason\":\"stop\"}],\"usage\":{\"prompt_tokens\":1257,\"completion_tokens\":17,\"total_tokens\":1274},\"system_fingerprint\":\"\"}\n",
      "=============================\n",
      "\n"
     ]
    },
    {
     "name": "stderr",
     "output_type": "stream",
     "text": [
      "Processing:  11%|█         | 118/1060 [02:59<20:31,  1.31s/it]"
     ]
    },
    {
     "name": "stdout",
     "output_type": "stream",
     "text": [
      "===== 调试信息：服务器返回 =====\n",
      "{\"id\":\"0194dc5b1429bb030bd3e416cccb26b5\",\"object\":\"chat.completion\",\"created\":1738863744,\"model\":\"Qwen/Qwen2.5-32B-Instruct\",\"choices\":[{\"index\":0,\"message\":{\"role\":\"assistant\",\"content\":\"{\\n  \\\"classification\\\": \\\"国际政治\\\",\\n  \\\"sentiment\\\": \\\"neutral\\\"\\n}\"},\"finish_reason\":\"stop\"}],\"usage\":{\"prompt_tokens\":1594,\"completion_tokens\":18,\"total_tokens\":1612},\"system_fingerprint\":\"\"}\n",
      "=============================\n",
      "\n"
     ]
    },
    {
     "name": "stderr",
     "output_type": "stream",
     "text": [
      "Processing:  11%|█         | 119/1060 [03:01<19:56,  1.27s/it]"
     ]
    },
    {
     "name": "stdout",
     "output_type": "stream",
     "text": [
      "===== 调试信息：服务器返回 =====\n",
      "{\"id\":\"0194dc5b18cf05547bd12fe5aa9980ad\",\"object\":\"chat.completion\",\"created\":1738863745,\"model\":\"Qwen/Qwen2.5-32B-Instruct\",\"choices\":[{\"index\":0,\"message\":{\"role\":\"assistant\",\"content\":\"{\\n  \\\"classification\\\": \\\"国际政治\\\",\\n  \\\"sentiment\\\": \\\"positive\\\"\\n}\"},\"finish_reason\":\"stop\"}],\"usage\":{\"prompt_tokens\":1416,\"completion_tokens\":18,\"total_tokens\":1434},\"system_fingerprint\":\"\"}\n",
      "=============================\n",
      "\n"
     ]
    },
    {
     "name": "stderr",
     "output_type": "stream",
     "text": [
      "Processing:  11%|█▏        | 120/1060 [03:02<19:30,  1.25s/it]"
     ]
    },
    {
     "name": "stdout",
     "output_type": "stream",
     "text": [
      "===== 调试信息：服务器返回 =====\n",
      "{\"id\":\"0194dc5b1e60d56d51451660c3f44f29\",\"object\":\"chat.completion\",\"created\":1738863746,\"model\":\"Qwen/Qwen2.5-32B-Instruct\",\"choices\":[{\"index\":0,\"message\":{\"role\":\"assistant\",\"content\":\"{\\n  \\\"classification\\\": \\\"经济\\\",\\n  \\\"sentiment\\\": \\\"positive\\\"\\n}\"},\"finish_reason\":\"stop\"}],\"usage\":{\"prompt_tokens\":1841,\"completion_tokens\":17,\"total_tokens\":1858},\"system_fingerprint\":\"\"}\n",
      "=============================\n",
      "\n"
     ]
    },
    {
     "name": "stderr",
     "output_type": "stream",
     "text": [
      "Processing:  11%|█▏        | 121/1060 [03:03<21:03,  1.35s/it]"
     ]
    },
    {
     "name": "stdout",
     "output_type": "stream",
     "text": [
      "===== 调试信息：服务器返回 =====\n",
      "{\"id\":\"0194dc5b23b6a0f39691d343676b7dea\",\"object\":\"chat.completion\",\"created\":1738863748,\"model\":\"Qwen/Qwen2.5-32B-Instruct\",\"choices\":[{\"index\":0,\"message\":{\"role\":\"assistant\",\"content\":\"{\\n  \\\"classification\\\": \\\"经济\\\",\\n  \\\"sentiment\\\": \\\"positive\\\"\\n}\"},\"finish_reason\":\"stop\"}],\"usage\":{\"prompt_tokens\":1690,\"completion_tokens\":17,\"total_tokens\":1707},\"system_fingerprint\":\"\"}\n",
      "=============================\n",
      "\n"
     ]
    },
    {
     "name": "stderr",
     "output_type": "stream",
     "text": [
      "Processing:  12%|█▏        | 122/1060 [03:05<20:26,  1.31s/it]"
     ]
    },
    {
     "name": "stdout",
     "output_type": "stream",
     "text": [
      "===== 调试信息：服务器返回 =====\n",
      "{\"id\":\"0194dc5b285d7e4db718a5831106e54d\",\"object\":\"chat.completion\",\"created\":1738863749,\"model\":\"Qwen/Qwen2.5-32B-Instruct\",\"choices\":[{\"index\":0,\"message\":{\"role\":\"assistant\",\"content\":\"{\\n  \\\"classification\\\": \\\"国际政治\\\",\\n  \\\"sentiment\\\": \\\"negative\\\"\\n}\"},\"finish_reason\":\"stop\"}],\"usage\":{\"prompt_tokens\":1619,\"completion_tokens\":18,\"total_tokens\":1637},\"system_fingerprint\":\"\"}\n",
      "=============================\n",
      "\n"
     ]
    },
    {
     "name": "stderr",
     "output_type": "stream",
     "text": [
      "Processing:  12%|█▏        | 123/1060 [03:06<19:49,  1.27s/it]"
     ]
    },
    {
     "name": "stdout",
     "output_type": "stream",
     "text": [
      "===== 调试信息：服务器返回 =====\n",
      "{\"id\":\"0194dc5b2cf4d44055d3578fabe3e8cd\",\"object\":\"chat.completion\",\"created\":1738863750,\"model\":\"Qwen/Qwen2.5-32B-Instruct\",\"choices\":[{\"index\":0,\"message\":{\"role\":\"assistant\",\"content\":\"{\\n  \\\"classification\\\": \\\"国际政治\\\",\\n  \\\"sentiment\\\": \\\"negative\\\"\\n}\"},\"finish_reason\":\"stop\"}],\"usage\":{\"prompt_tokens\":1334,\"completion_tokens\":18,\"total_tokens\":1352},\"system_fingerprint\":\"\"}\n",
      "=============================\n",
      "\n"
     ]
    },
    {
     "name": "stderr",
     "output_type": "stream",
     "text": [
      "Processing:  12%|█▏        | 124/1060 [03:07<19:46,  1.27s/it]"
     ]
    },
    {
     "name": "stdout",
     "output_type": "stream",
     "text": [
      "===== 调试信息：服务器返回 =====\n",
      "{\"id\":\"0194dc5b31f877f5fbcbdfbac9d907d8\",\"object\":\"chat.completion\",\"created\":1738863751,\"model\":\"Qwen/Qwen2.5-32B-Instruct\",\"choices\":[{\"index\":0,\"message\":{\"role\":\"assistant\",\"content\":\"{\\n  \\\"classification\\\": \\\"科技\\\",\\n  \\\"sentiment\\\": \\\"positive\\\"\\n}\"},\"finish_reason\":\"stop\"}],\"usage\":{\"prompt_tokens\":1490,\"completion_tokens\":17,\"total_tokens\":1507},\"system_fingerprint\":\"\"}\n",
      "=============================\n",
      "\n"
     ]
    },
    {
     "name": "stderr",
     "output_type": "stream",
     "text": [
      "Processing:  12%|█▏        | 125/1060 [03:08<19:18,  1.24s/it]"
     ]
    },
    {
     "name": "stdout",
     "output_type": "stream",
     "text": [
      "===== 调试信息：服务器返回 =====\n",
      "{\"id\":\"0194dc5b367b9d59b9724e551bf0f172\",\"object\":\"chat.completion\",\"created\":1738863752,\"model\":\"Qwen/Qwen2.5-32B-Instruct\",\"choices\":[{\"index\":0,\"message\":{\"role\":\"assistant\",\"content\":\"{\\n  \\\"classification\\\": \\\"能源\\\",\\n  \\\"sentiment\\\": \\\"neutral\\\"\\n}\"},\"finish_reason\":\"stop\"}],\"usage\":{\"prompt_tokens\":1529,\"completion_tokens\":17,\"total_tokens\":1546},\"system_fingerprint\":\"\"}\n",
      "=============================\n",
      "\n"
     ]
    },
    {
     "name": "stderr",
     "output_type": "stream",
     "text": [
      "Processing:  12%|█▏        | 126/1060 [03:09<18:52,  1.21s/it]"
     ]
    },
    {
     "name": "stdout",
     "output_type": "stream",
     "text": [
      "===== 调试信息：服务器返回 =====\n",
      "{\"id\":\"0194dc5b3b0156795e2d3b11c8c48cdb\",\"object\":\"chat.completion\",\"created\":1738863753,\"model\":\"Qwen/Qwen2.5-32B-Instruct\",\"choices\":[{\"index\":0,\"message\":{\"role\":\"assistant\",\"content\":\"{\\n  \\\"classification\\\": \\\"商务活动\\\",\\n  \\\"sentiment\\\": \\\"positive\\\"\\n}\"},\"finish_reason\":\"stop\"}],\"usage\":{\"prompt_tokens\":1134,\"completion_tokens\":18,\"total_tokens\":1152},\"system_fingerprint\":\"\"}\n",
      "=============================\n",
      "\n"
     ]
    },
    {
     "name": "stderr",
     "output_type": "stream",
     "text": [
      "Processing:  12%|█▏        | 127/1060 [03:11<18:29,  1.19s/it]"
     ]
    },
    {
     "name": "stdout",
     "output_type": "stream",
     "text": [
      "===== 调试信息：服务器返回 =====\n",
      "{\"id\":\"0194dc5b3f6c362c8b5d93e6c8ba4b73\",\"object\":\"chat.completion\",\"created\":1738863755,\"model\":\"Qwen/Qwen2.5-32B-Instruct\",\"choices\":[{\"index\":0,\"message\":{\"role\":\"assistant\",\"content\":\"{\\n  \\\"classification\\\": \\\"国际政治\\\",\\n  \\\"sentiment\\\": \\\"neutral\\\"\\n}\"},\"finish_reason\":\"stop\"}],\"usage\":{\"prompt_tokens\":2385,\"completion_tokens\":18,\"total_tokens\":2403},\"system_fingerprint\":\"\"}\n",
      "=============================\n",
      "\n"
     ]
    },
    {
     "name": "stderr",
     "output_type": "stream",
     "text": [
      "Processing:  12%|█▏        | 128/1060 [03:12<19:10,  1.23s/it]"
     ]
    },
    {
     "name": "stdout",
     "output_type": "stream",
     "text": [
      "===== 调试信息：服务器返回 =====\n",
      "{\"id\":\"0194dc5b44907f1ac15238fff9efa9c2\",\"object\":\"chat.completion\",\"created\":1738863756,\"model\":\"Qwen/Qwen2.5-32B-Instruct\",\"choices\":[{\"index\":0,\"message\":{\"role\":\"assistant\",\"content\":\"{\\n  \\\"classification\\\": \\\"国际政治\\\",\\n  \\\"sentiment\\\": \\\"negative\\\"\\n}\"},\"finish_reason\":\"stop\"}],\"usage\":{\"prompt_tokens\":578,\"completion_tokens\":18,\"total_tokens\":596},\"system_fingerprint\":\"\"}\n",
      "=============================\n",
      "\n"
     ]
    },
    {
     "name": "stderr",
     "output_type": "stream",
     "text": [
      "Processing:  12%|█▏        | 129/1060 [03:13<18:25,  1.19s/it]"
     ]
    },
    {
     "name": "stdout",
     "output_type": "stream",
     "text": [
      "===== 调试信息：服务器返回 =====\n",
      "{\"id\":\"0194dc5b491047a0a75919a9ec91494f\",\"object\":\"chat.completion\",\"created\":1738863757,\"model\":\"Qwen/Qwen2.5-32B-Instruct\",\"choices\":[{\"index\":0,\"message\":{\"role\":\"assistant\",\"content\":\"{\\n  \\\"classification\\\": \\\"国际政治\\\",\\n  \\\"sentiment\\\": \\\"neutral\\\"\\n}\"},\"finish_reason\":\"stop\"}],\"usage\":{\"prompt_tokens\":5100,\"completion_tokens\":18,\"total_tokens\":5118},\"system_fingerprint\":\"\"}\n",
      "=============================\n",
      "\n"
     ]
    },
    {
     "name": "stderr",
     "output_type": "stream",
     "text": [
      "Processing:  12%|█▏        | 130/1060 [03:15<21:26,  1.38s/it]"
     ]
    },
    {
     "name": "stdout",
     "output_type": "stream",
     "text": [
      "===== 调试信息：服务器返回 =====\n",
      "{\"id\":\"0194dc5b502201218bd410d77ada122f\",\"object\":\"chat.completion\",\"created\":1738863759,\"model\":\"Qwen/Qwen2.5-32B-Instruct\",\"choices\":[{\"index\":0,\"message\":{\"role\":\"assistant\",\"content\":\"{\\n  \\\"classification\\\": \\\"卫生福利\\\",\\n  \\\"sentiment\\\": \\\"negative\\\"\\n}\"},\"finish_reason\":\"stop\"}],\"usage\":{\"prompt_tokens\":1462,\"completion_tokens\":18,\"total_tokens\":1480},\"system_fingerprint\":\"\"}\n",
      "=============================\n",
      "\n"
     ]
    },
    {
     "name": "stderr",
     "output_type": "stream",
     "text": [
      "Processing:  12%|█▏        | 131/1060 [03:16<20:36,  1.33s/it]"
     ]
    },
    {
     "name": "stdout",
     "output_type": "stream",
     "text": [
      "===== 调试信息：服务器返回 =====\n",
      "{\"id\":\"0194dc5b54c7e7e12faf7df4d2a8f068\",\"object\":\"chat.completion\",\"created\":1738863760,\"model\":\"Qwen/Qwen2.5-32B-Instruct\",\"choices\":[{\"index\":0,\"message\":{\"role\":\"assistant\",\"content\":\"{\\n  \\\"classification\\\": \\\"国际政治\\\",\\n  \\\"sentiment\\\": \\\"negative\\\"\\n}\"},\"finish_reason\":\"stop\"}],\"usage\":{\"prompt_tokens\":1708,\"completion_tokens\":18,\"total_tokens\":1726},\"system_fingerprint\":\"\"}\n",
      "=============================\n",
      "\n"
     ]
    },
    {
     "name": "stderr",
     "output_type": "stream",
     "text": [
      "Processing:  12%|█▏        | 132/1060 [03:17<20:07,  1.30s/it]"
     ]
    },
    {
     "name": "stdout",
     "output_type": "stream",
     "text": [
      "===== 调试信息：服务器返回 =====\n",
      "{\"id\":\"0194dc5b59a96d095df974fe0e0b4f7a\",\"object\":\"chat.completion\",\"created\":1738863761,\"model\":\"Qwen/Qwen2.5-32B-Instruct\",\"choices\":[{\"index\":0,\"message\":{\"role\":\"assistant\",\"content\":\"{\\n  \\\"classification\\\": \\\"国际政治\\\",\\n  \\\"sentiment\\\": \\\"negative\\\"\\n}\"},\"finish_reason\":\"stop\"}],\"usage\":{\"prompt_tokens\":2146,\"completion_tokens\":18,\"total_tokens\":2164},\"system_fingerprint\":\"\"}\n",
      "=============================\n",
      "\n"
     ]
    },
    {
     "name": "stderr",
     "output_type": "stream",
     "text": [
      "Processing:  13%|█▎        | 133/1060 [03:19<20:08,  1.30s/it]"
     ]
    },
    {
     "name": "stdout",
     "output_type": "stream",
     "text": [
      "===== 调试信息：服务器返回 =====\n",
      "{\"id\":\"0194dc5b5f3d52e8a735eade68615b87\",\"object\":\"chat.completion\",\"created\":1738863763,\"model\":\"Qwen/Qwen2.5-32B-Instruct\",\"choices\":[{\"index\":0,\"message\":{\"role\":\"assistant\",\"content\":\"{\\n  \\\"classification\\\": \\\"国际政治\\\",\\n  \\\"sentiment\\\": \\\"negative\\\"\\n}\"},\"finish_reason\":\"stop\"}],\"usage\":{\"prompt_tokens\":2958,\"completion_tokens\":18,\"total_tokens\":2976},\"system_fingerprint\":\"\"}\n",
      "=============================\n",
      "\n"
     ]
    },
    {
     "name": "stderr",
     "output_type": "stream",
     "text": [
      "Processing:  13%|█▎        | 134/1060 [03:20<21:17,  1.38s/it]"
     ]
    },
    {
     "name": "stdout",
     "output_type": "stream",
     "text": [
      "===== 调试信息：服务器返回 =====\n",
      "{\"id\":\"0194dc5b6516db761f57758a075798f2\",\"object\":\"chat.completion\",\"created\":1738863764,\"model\":\"Qwen/Qwen2.5-32B-Instruct\",\"choices\":[{\"index\":0,\"message\":{\"role\":\"assistant\",\"content\":\"{\\n  \\\"classification\\\": \\\"国际政治\\\",\\n  \\\"sentiment\\\": \\\"negative\\\"\\n}\"},\"finish_reason\":\"stop\"}],\"usage\":{\"prompt_tokens\":1135,\"completion_tokens\":18,\"total_tokens\":1153},\"system_fingerprint\":\"\"}\n",
      "=============================\n",
      "\n"
     ]
    },
    {
     "name": "stderr",
     "output_type": "stream",
     "text": [
      "Processing:  13%|█▎        | 135/1060 [03:21<20:27,  1.33s/it]"
     ]
    },
    {
     "name": "stdout",
     "output_type": "stream",
     "text": [
      "===== 调试信息：服务器返回 =====\n",
      "{\"id\":\"0194dc5b6975e6aa1e47ac3502c861a8\",\"object\":\"chat.completion\",\"created\":1738863765,\"model\":\"Qwen/Qwen2.5-32B-Instruct\",\"choices\":[{\"index\":0,\"message\":{\"role\":\"assistant\",\"content\":\"{\\n  \\\"classification\\\": \\\"经济\\\",\\n  \\\"sentiment\\\": \\\"negative\\\"\\n}\"},\"finish_reason\":\"stop\"}],\"usage\":{\"prompt_tokens\":1615,\"completion_tokens\":17,\"total_tokens\":1632},\"system_fingerprint\":\"\"}\n",
      "=============================\n",
      "\n"
     ]
    },
    {
     "name": "stderr",
     "output_type": "stream",
     "text": [
      "Processing:  13%|█▎        | 136/1060 [03:23<21:08,  1.37s/it]"
     ]
    },
    {
     "name": "stdout",
     "output_type": "stream",
     "text": [
      "===== 调试信息：服务器返回 =====\n",
      "{\"id\":\"0194dc5b6fc34458f25c25a3a1c34a27\",\"object\":\"chat.completion\",\"created\":1738863767,\"model\":\"Qwen/Qwen2.5-32B-Instruct\",\"choices\":[{\"index\":0,\"message\":{\"role\":\"assistant\",\"content\":\"{\\n  \\\"classification\\\": \\\"文化活动\\\",\\n  \\\"sentiment\\\": \\\"negative\\\"\\n}\"},\"finish_reason\":\"stop\"}],\"usage\":{\"prompt_tokens\":1361,\"completion_tokens\":18,\"total_tokens\":1379},\"system_fingerprint\":\"\"}\n",
      "=============================\n",
      "\n"
     ]
    },
    {
     "name": "stderr",
     "output_type": "stream",
     "text": [
      "Processing:  13%|█▎        | 137/1060 [03:24<21:46,  1.42s/it]"
     ]
    },
    {
     "name": "stdout",
     "output_type": "stream",
     "text": [
      "===== 调试信息：服务器返回 =====\n",
      "{\"id\":\"0194dc5b7529a36d1347ff8a277732dc\",\"object\":\"chat.completion\",\"created\":1738863768,\"model\":\"Qwen/Qwen2.5-32B-Instruct\",\"choices\":[{\"index\":0,\"message\":{\"role\":\"assistant\",\"content\":\"{\\n  \\\"classification\\\": \\\"经济\\\",\\n  \\\"sentiment\\\": \\\"negative\\\"\\n}\"},\"finish_reason\":\"stop\"}],\"usage\":{\"prompt_tokens\":2156,\"completion_tokens\":17,\"total_tokens\":2173},\"system_fingerprint\":\"\"}\n",
      "=============================\n",
      "\n"
     ]
    },
    {
     "name": "stderr",
     "output_type": "stream",
     "text": [
      "Processing:  13%|█▎        | 138/1060 [03:26<21:35,  1.41s/it]"
     ]
    },
    {
     "name": "stdout",
     "output_type": "stream",
     "text": [
      "===== 调试信息：服务器返回 =====\n",
      "{\"id\":\"0194dc5b7abeeb5d24642e82cd3b7e47\",\"object\":\"chat.completion\",\"created\":1738863770,\"model\":\"Qwen/Qwen2.5-32B-Instruct\",\"choices\":[{\"index\":0,\"message\":{\"role\":\"assistant\",\"content\":\"{\\n  \\\"classification\\\": \\\"经济\\\",\\n  \\\"sentiment\\\": \\\"positive\\\"\\n}\"},\"finish_reason\":\"stop\"}],\"usage\":{\"prompt_tokens\":1529,\"completion_tokens\":17,\"total_tokens\":1546},\"system_fingerprint\":\"\"}\n",
      "=============================\n",
      "\n"
     ]
    },
    {
     "name": "stderr",
     "output_type": "stream",
     "text": [
      "Processing:  13%|█▎        | 139/1060 [03:27<20:47,  1.35s/it]"
     ]
    },
    {
     "name": "stdout",
     "output_type": "stream",
     "text": [
      "===== 调试信息：服务器返回 =====\n",
      "{\"id\":\"0194dc5b7f5c2b48f83a7bf39a0b2258\",\"object\":\"chat.completion\",\"created\":1738863771,\"model\":\"Qwen/Qwen2.5-32B-Instruct\",\"choices\":[{\"index\":0,\"message\":{\"role\":\"assistant\",\"content\":\"{\\n  \\\"classification\\\": \\\"旅游\\\",\\n  \\\"sentiment\\\": \\\"pleasure\\\"\\n}\\n\\n注：给定的类别中没有\\\"旅游\\\"，因此选择与其最接近的\\\"文化活动\\\"作为分类。\\n{\\n  \\\"classification\\\": \\\"文化活动\\\",\\n  \\\"sentiment\\\": \\\"pleasure\\\"\\n}\"},\"finish_reason\":\"stop\"}],\"usage\":{\"prompt_tokens\":1590,\"completion_tokens\":62,\"total_tokens\":1652},\"system_fingerprint\":\"\"}\n",
      "=============================\n",
      "\n",
      "请求或解析时出现异常：Extra data: line 6 column 1 (char 57)，等待10秒后重试...\n",
      "===== 调试信息：服务器返回 =====\n",
      "{\"id\":\"0194dc5babcb6ea5d6bb66881884a5eb\",\"object\":\"chat.completion\",\"created\":1738863782,\"model\":\"Qwen/Qwen2.5-32B-Instruct\",\"choices\":[{\"index\":0,\"message\":{\"role\":\"assistant\",\"content\":\"{\\n  \\\"classification\\\": \\\"旅游\\\",\\n  \\\"sentiment\\\": \\\"pleasure\\\"\\n}\\n\\n注：给定的分类列表中没有\\\"旅游\\\"这一项，因此根据内容最接近的分类选择了\\\"文化活动\\\"。但如果必须从给定的分类中选择，那么应选择\\\"商务活动\\\"作为替代，因为旅游通常涉及商务活动中的旅行部分。但由于这里的上下文更倾向于文化和观光，所以如果允许稍微偏离，我会选择\\\"文化活动\\\"。如果严格遵循给定选项，则应选择\\\"其他\\\"。由于需要严格遵循给定选项，我将调整为：\\n\\n{\\n  \\\"classification\\\": \\\"其他\\\",\\n  \\\"sentiment\\\": \\\"pleasure\\\"\\n}\"},\"finish_reason\":\"stop\"}],\"usage\":{\"prompt_tokens\":1590,\"completion_tokens\":142,\"total_tokens\":1732},\"system_fingerprint\":\"\"}\n",
      "=============================\n",
      "\n",
      "请求或解析时出现异常：Extra data: line 6 column 1 (char 57)，等待10秒后重试...\n",
      "===== 调试信息：服务器返回 =====\n",
      "{\"id\":\"0194dc5bddb421283860b133df8babaf\",\"object\":\"chat.completion\",\"created\":1738863795,\"model\":\"Qwen/Qwen2.5-32B-Instruct\",\"choices\":[{\"index\":0,\"message\":{\"role\":\"assistant\",\"content\":\"{\\n  \\\"classification\\\": \\\"旅游\\\",\\n  \\\"sentiment\\\": \\\"pleasure\\\"\\n}\\n\\n注：给定的分类列表中没有\\\"旅游\\\"这个分类，因此选择了最接近的\\\"文化活动\\\"作为替代。但如果严格按照给定的分类列表，应选择\\\"其他\\\"。此处为了更贴近文章内容，选择了\\\"其他\\\"之外的最接近分类。如果必须严格遵守给定分类，则应返回：\\n{\\n  \\\"classification\\\": \\\"其他\\\",\\n  \\\"sentiment\\\": \\\"pleasure\\\"\\n}\"},\"finish_reason\":\"stop\"}],\"usage\":{\"prompt_tokens\":1590,\"completion_tokens\":105,\"total_tokens\":1695},\"system_fingerprint\":\"\"}\n",
      "=============================\n",
      "\n",
      "请求或解析时出现异常：Extra data: line 6 column 1 (char 57)，等待10秒后重试...\n",
      "===== 调试信息：服务器返回 =====\n",
      "{\"id\":\"0194dc5c0c094385e32959bd94a98c47\",\"object\":\"chat.completion\",\"created\":1738863807,\"model\":\"Qwen/Qwen2.5-32B-Instruct\",\"choices\":[{\"index\":0,\"message\":{\"role\":\"assistant\",\"content\":\"{\\n  \\\"classification\\\": \\\"旅游\\\",\\n  \\\"sentiment\\\": \\\"pleasure\\\"\\n}\\n\\n注：给定的分类选项中没有\\\"旅游\\\"这一项，因此选择了最接近的\\\"文化活动\\\"作为分类。但如果严格按要求，应选择\\\"其他\\\"。同时，由于文章内容主要是介绍毛里求斯的旅游景点，给人一种愉悦的感觉，因此选择了\\\"pleasure\\\"作为情感。但由于给定的情感选项中没有直接对应\\\"愉悦\\\"的选项，这里使用了最接近的选项。如果严格按照要求，则应选择\\\"neutral\\\"。鉴于上述情况，根据严格要求应调整为：\\n\\n{\\n  \\\"classification\\\": \\\"其他\\\",\\n  \\\"sentiment\\\": \\\"neutral\\\"\\n}\"},\"finish_reason\":\"stop\"}],\"usage\":{\"prompt_tokens\":1590,\"completion_tokens\":145,\"total_tokens\":1735},\"system_fingerprint\":\"\"}\n",
      "=============================\n",
      "\n",
      "请求或解析时出现异常：Extra data: line 6 column 1 (char 57)，等待10秒后重试...\n",
      "===== 调试信息：服务器返回 =====\n",
      "{\"id\":\"0194dc5c3d42911ec021a57ec652bbe6\",\"object\":\"chat.completion\",\"created\":1738863820,\"model\":\"Qwen/Qwen2.5-32B-Instruct\",\"choices\":[{\"index\":0,\"message\":{\"role\":\"assistant\",\"content\":\"{\\n  \\\"classification\\\": \\\"旅游\\\",\\n  \\\"sentiment\\\": \\\"pleasure\\\"\\n}\\n\\n注：在给定的分类选项中，\\\"旅游\\\"最接近文章的主题，但严格来说，正确的分类应该是\\\"文化活动\\\"或\\\"商务活动\\\"等与旅游相关的分类。由于没有直接的旅游分类，且内容主要描述了毛里求斯的旅游景点和文化活动，这里选择了最接近的分类。如果必须从给定选项中选择，那么\\\"其他\\\"可能是最合适的选择。但由于文章明显是正面介绍旅游景点，因此选择\\\"文化活动\\\"作为最接近的分类。不过根据严格的要求，这里选择了\\\"其他\\\"。\\n\\n修正后：\\n{\\n  \\\"classification\\\": \\\"其他\\\",\\n  \\\"sentiment\\\": \\\"pleasure\\\"\\n}\"},\"finish_reason\":\"stop\"}],\"usage\":{\"prompt_tokens\":1590,\"completion_tokens\":158,\"total_tokens\":1748},\"system_fingerprint\":\"\"}\n",
      "=============================\n",
      "\n",
      "请求或解析时出现异常：Extra data: line 6 column 1 (char 57)，等待10秒后重试...\n",
      "达到最大重试次数，返回默认值\n"
     ]
    },
    {
     "name": "stderr",
     "output_type": "stream",
     "text": [
      "Processing:  13%|█▎        | 140/1060 [04:30<5:04:55, 19.89s/it]"
     ]
    },
    {
     "name": "stdout",
     "output_type": "stream",
     "text": [
      "===== 调试信息：服务器返回 =====\n",
      "{\"id\":\"0194dc5c75ff349a13dbace2bd3f1bed\",\"object\":\"chat.completion\",\"created\":1738863834,\"model\":\"Qwen/Qwen2.5-32B-Instruct\",\"choices\":[{\"index\":0,\"message\":{\"role\":\"assistant\",\"content\":\"{\\n  \\\"classification\\\": \\\"卫生福利\\\",\\n  \\\"sentiment\\\": \\\"pain\\\"\\n}\"},\"finish_reason\":\"stop\"}],\"usage\":{\"prompt_tokens\":1623,\"completion_tokens\":18,\"total_tokens\":1641},\"system_fingerprint\":\"\"}\n",
      "=============================\n",
      "\n"
     ]
    },
    {
     "name": "stderr",
     "output_type": "stream",
     "text": [
      "Processing:  13%|█▎        | 141/1060 [04:31<3:38:39, 14.28s/it]"
     ]
    },
    {
     "name": "stdout",
     "output_type": "stream",
     "text": [
      "===== 调试信息：服务器返回 =====\n",
      "{\"id\":\"0194dc5c7a975d78e9b82e8d349e5d27\",\"object\":\"chat.completion\",\"created\":1738863835,\"model\":\"Qwen/Qwen2.5-32B-Instruct\",\"choices\":[{\"index\":0,\"message\":{\"role\":\"assistant\",\"content\":\"{\\n  \\\"classification\\\": \\\"文化活动\\\",\\n  \\\"sentiment\\\": \\\"pleasure\\\"\\n}\"},\"finish_reason\":\"stop\"}],\"usage\":{\"prompt_tokens\":1242,\"completion_tokens\":19,\"total_tokens\":1261},\"system_fingerprint\":\"\"}\n",
      "=============================\n",
      "\n"
     ]
    },
    {
     "name": "stderr",
     "output_type": "stream",
     "text": [
      "Processing:  13%|█▎        | 142/1060 [04:32<2:38:02, 10.33s/it]"
     ]
    },
    {
     "name": "stdout",
     "output_type": "stream",
     "text": [
      "===== 调试信息：服务器返回 =====\n",
      "{\"id\":\"0194dc5c7ef71d47a30c9fae097311b1\",\"object\":\"chat.completion\",\"created\":1738863836,\"model\":\"Qwen/Qwen2.5-32B-Instruct\",\"choices\":[{\"index\":0,\"message\":{\"role\":\"assistant\",\"content\":\"{\\n  \\\"classification\\\": \\\"经济\\\",\\n  \\\"sentiment\\\": \\\"negative\\\"\\n}\"},\"finish_reason\":\"stop\"}],\"usage\":{\"prompt_tokens\":1899,\"completion_tokens\":17,\"total_tokens\":1916},\"system_fingerprint\":\"\"}\n",
      "=============================\n",
      "\n"
     ]
    },
    {
     "name": "stderr",
     "output_type": "stream",
     "text": [
      "Processing:  13%|█▎        | 143/1060 [04:34<1:56:44,  7.64s/it]"
     ]
    },
    {
     "name": "stdout",
     "output_type": "stream",
     "text": [
      "===== 调试信息：服务器返回 =====\n",
      "{\"id\":\"0194dc5c8467408cd4552b77fead7a59\",\"object\":\"chat.completion\",\"created\":1738863838,\"model\":\"Qwen/Qwen2.5-32B-Instruct\",\"choices\":[{\"index\":0,\"message\":{\"role\":\"assistant\",\"content\":\"{\\n  \\\"classification\\\": \\\"经济\\\",\\n  \\\"sentiment\\\": \\\"negative\\\"\\n}\"},\"finish_reason\":\"stop\"}],\"usage\":{\"prompt_tokens\":2289,\"completion_tokens\":17,\"total_tokens\":2306},\"system_fingerprint\":\"\"}\n",
      "=============================\n",
      "\n"
     ]
    },
    {
     "name": "stderr",
     "output_type": "stream",
     "text": [
      "Processing:  14%|█▎        | 144/1060 [04:35<1:27:33,  5.73s/it]"
     ]
    },
    {
     "name": "stdout",
     "output_type": "stream",
     "text": [
      "===== 调试信息：服务器返回 =====\n",
      "{\"id\":\"0194dc5c895206bfc319d6e6d95848da\",\"object\":\"chat.completion\",\"created\":1738863839,\"model\":\"Qwen/Qwen2.5-32B-Instruct\",\"choices\":[{\"index\":0,\"message\":{\"role\":\"assistant\",\"content\":\"{\\n  \\\"classification\\\": \\\"经济\\\",\\n  \\\"sentiment\\\": \\\"negative\\\"\\n}\"},\"finish_reason\":\"stop\"}],\"usage\":{\"prompt_tokens\":1652,\"completion_tokens\":17,\"total_tokens\":1669},\"system_fingerprint\":\"\"}\n",
      "=============================\n",
      "\n"
     ]
    },
    {
     "name": "stderr",
     "output_type": "stream",
     "text": [
      "Processing:  14%|█▎        | 145/1060 [04:36<1:06:34,  4.37s/it]"
     ]
    },
    {
     "name": "stdout",
     "output_type": "stream",
     "text": [
      "===== 调试信息：服务器返回 =====\n",
      "{\"id\":\"0194dc5c8deadd0656e875045ae8e330\",\"object\":\"chat.completion\",\"created\":1738863840,\"model\":\"Qwen/Qwen2.5-32B-Instruct\",\"choices\":[{\"index\":0,\"message\":{\"role\":\"assistant\",\"content\":\"{\\n  \\\"classification\\\": \\\"军事和防御\\\",\\n  \\\"sentiment\\\": \\\"neutral\\\"\\n}\"},\"finish_reason\":\"stop\"}],\"usage\":{\"prompt_tokens\":2353,\"completion_tokens\":19,\"total_tokens\":2372},\"system_fingerprint\":\"\"}\n",
      "=============================\n",
      "\n"
     ]
    },
    {
     "name": "stderr",
     "output_type": "stream",
     "text": [
      "Processing:  14%|█▍        | 146/1060 [04:37<52:28,  3.45s/it]  "
     ]
    },
    {
     "name": "stdout",
     "output_type": "stream",
     "text": [
      "===== 调试信息：服务器返回 =====\n",
      "{\"id\":\"0194dc5c9308a3e0547145adc0b41806\",\"object\":\"chat.completion\",\"created\":1738863842,\"model\":\"Qwen/Qwen2.5-32B-Instruct\",\"choices\":[{\"index\":0,\"message\":{\"role\":\"assistant\",\"content\":\"{\\n  \\\"classification\\\": \\\"国内政治\\\",\\n  \\\"sentiment\\\": \\\"neutral\\\"\\n}\"},\"finish_reason\":\"stop\"}],\"usage\":{\"prompt_tokens\":903,\"completion_tokens\":18,\"total_tokens\":921},\"system_fingerprint\":\"\"}\n",
      "=============================\n",
      "\n"
     ]
    },
    {
     "name": "stderr",
     "output_type": "stream",
     "text": [
      "Processing:  14%|█▍        | 147/1060 [04:39<42:14,  2.78s/it]"
     ]
    },
    {
     "name": "stdout",
     "output_type": "stream",
     "text": [
      "===== 调试信息：服务器返回 =====\n",
      "{\"id\":\"0194dc5c97bb38a1714b983628c63620\",\"object\":\"chat.completion\",\"created\":1738863843,\"model\":\"Qwen/Qwen2.5-32B-Instruct\",\"choices\":[{\"index\":0,\"message\":{\"role\":\"assistant\",\"content\":\"{\\n  \\\"classification\\\": \\\"经济\\\",\\n  \\\"sentiment\\\": \\\"negative\\\"\\n}\"},\"finish_reason\":\"stop\"}],\"usage\":{\"prompt_tokens\":2506,\"completion_tokens\":17,\"total_tokens\":2523},\"system_fingerprint\":\"\"}\n",
      "=============================\n",
      "\n"
     ]
    },
    {
     "name": "stderr",
     "output_type": "stream",
     "text": [
      "Processing:  14%|█▍        | 148/1060 [04:40<35:39,  2.35s/it]"
     ]
    },
    {
     "name": "stdout",
     "output_type": "stream",
     "text": [
      "===== 调试信息：服务器返回 =====\n",
      "{\"id\":\"0194dc5c9cfc99b7f7655a63eaf7ee81\",\"object\":\"chat.completion\",\"created\":1738863844,\"model\":\"Qwen/Qwen2.5-32B-Instruct\",\"choices\":[{\"index\":0,\"message\":{\"role\":\"assistant\",\"content\":\"{\\n  \\\"classification\\\": \\\"国际政治\\\",\\n  \\\"sentiment\\\": \\\"negative\\\"\\n}\"},\"finish_reason\":\"stop\"}],\"usage\":{\"prompt_tokens\":1707,\"completion_tokens\":18,\"total_tokens\":1725},\"system_fingerprint\":\"\"}\n",
      "=============================\n",
      "\n"
     ]
    },
    {
     "name": "stderr",
     "output_type": "stream",
     "text": [
      "Processing:  14%|█▍        | 149/1060 [04:41<30:26,  2.01s/it]"
     ]
    },
    {
     "name": "stdout",
     "output_type": "stream",
     "text": [
      "===== 调试信息：服务器返回 =====\n",
      "{\"id\":\"0194dc5ca1d147fec9b4331e1bcdc98a\",\"object\":\"chat.completion\",\"created\":1738863845,\"model\":\"Qwen/Qwen2.5-32B-Instruct\",\"choices\":[{\"index\":0,\"message\":{\"role\":\"assistant\",\"content\":\"{\\n  \\\"classification\\\": \\\"国际政治\\\",\\n  \\\"sentiment\\\": \\\"negative\\\"\\n}\"},\"finish_reason\":\"stop\"}],\"usage\":{\"prompt_tokens\":2361,\"completion_tokens\":18,\"total_tokens\":2379},\"system_fingerprint\":\"\"}\n",
      "=============================\n",
      "\n"
     ]
    },
    {
     "name": "stderr",
     "output_type": "stream",
     "text": [
      "Processing:  14%|█▍        | 150/1060 [04:43<27:14,  1.80s/it]"
     ]
    },
    {
     "name": "stdout",
     "output_type": "stream",
     "text": [
      "===== 调试信息：服务器返回 =====\n",
      "{\"id\":\"0194dc5ca6d535cca7cc77eacd72516d\",\"object\":\"chat.completion\",\"created\":1738863847,\"model\":\"Qwen/Qwen2.5-32B-Instruct\",\"choices\":[{\"index\":0,\"message\":{\"role\":\"assistant\",\"content\":\"{\\n  \\\"classification\\\": \\\"军事和防御\\\",\\n  \\\"sentiment\\\": \\\"negative\\\"\\n}\"},\"finish_reason\":\"stop\"}],\"usage\":{\"prompt_tokens\":1056,\"completion_tokens\":19,\"total_tokens\":1075},\"system_fingerprint\":\"\"}\n",
      "=============================\n",
      "\n"
     ]
    },
    {
     "name": "stderr",
     "output_type": "stream",
     "text": [
      "Processing:  14%|█▍        | 151/1060 [04:44<24:09,  1.59s/it]"
     ]
    },
    {
     "name": "stdout",
     "output_type": "stream",
     "text": [
      "===== 调试信息：服务器返回 =====\n",
      "{\"id\":\"0194dc5cab3b7d3b740069c830dd2e5f\",\"object\":\"chat.completion\",\"created\":1738863848,\"model\":\"Qwen/Qwen2.5-32B-Instruct\",\"choices\":[{\"index\":0,\"message\":{\"role\":\"assistant\",\"content\":\"{\\n  \\\"classification\\\": \\\"国内政治\\\",\\n  \\\"sentiment\\\": \\\"neutral\\\"\\n}\"},\"finish_reason\":\"stop\"}],\"usage\":{\"prompt_tokens\":2837,\"completion_tokens\":18,\"total_tokens\":2855},\"system_fingerprint\":\"\"}\n",
      "=============================\n",
      "\n"
     ]
    },
    {
     "name": "stderr",
     "output_type": "stream",
     "text": [
      "Processing:  14%|█▍        | 152/1060 [04:45<23:29,  1.55s/it]"
     ]
    },
    {
     "name": "stdout",
     "output_type": "stream",
     "text": [
      "===== 调试信息：服务器返回 =====\n",
      "{\"id\":\"0194dc5cb0f39ab48a777b22581a8b2d\",\"object\":\"chat.completion\",\"created\":1738863849,\"model\":\"Qwen/Qwen2.5-32B-Instruct\",\"choices\":[{\"index\":0,\"message\":{\"role\":\"assistant\",\"content\":\"{\\n  \\\"classification\\\": \\\"国际政治\\\",\\n  \\\"sentiment\\\": \\\"negative\\\"\\n}\"},\"finish_reason\":\"stop\"}],\"usage\":{\"prompt_tokens\":2170,\"completion_tokens\":18,\"total_tokens\":2188},\"system_fingerprint\":\"\"}\n",
      "=============================\n",
      "\n"
     ]
    },
    {
     "name": "stderr",
     "output_type": "stream",
     "text": [
      "Processing:  14%|█▍        | 153/1060 [04:46<22:30,  1.49s/it]"
     ]
    },
    {
     "name": "stdout",
     "output_type": "stream",
     "text": [
      "===== 调试信息：服务器返回 =====\n",
      "{\"id\":\"0194dc5cb6367165284fb07727a913b1\",\"object\":\"chat.completion\",\"created\":1738863851,\"model\":\"Qwen/Qwen2.5-32B-Instruct\",\"choices\":[{\"index\":0,\"message\":{\"role\":\"assistant\",\"content\":\"{\\n  \\\"classification\\\": \\\"国际政治\\\",\\n  \\\"sentiment\\\": \\\"neutral\\\"\\n}\"},\"finish_reason\":\"stop\"}],\"usage\":{\"prompt_tokens\":1696,\"completion_tokens\":18,\"total_tokens\":1714},\"system_fingerprint\":\"\"}\n",
      "=============================\n",
      "\n"
     ]
    },
    {
     "name": "stderr",
     "output_type": "stream",
     "text": [
      "Processing:  15%|█▍        | 154/1060 [04:48<21:15,  1.41s/it]"
     ]
    },
    {
     "name": "stdout",
     "output_type": "stream",
     "text": [
      "===== 调试信息：服务器返回 =====\n",
      "{\"id\":\"0194dc5cbae624347b089cd54efe761b\",\"object\":\"chat.completion\",\"created\":1738863852,\"model\":\"Qwen/Qwen2.5-32B-Instruct\",\"choices\":[{\"index\":0,\"message\":{\"role\":\"assistant\",\"content\":\"{\\n  \\\"classification\\\": \\\"经济\\\",\\n  \\\"sentiment\\\": \\\"negative\\\"\\n}\"},\"finish_reason\":\"stop\"}],\"usage\":{\"prompt_tokens\":1874,\"completion_tokens\":17,\"total_tokens\":1891},\"system_fingerprint\":\"\"}\n",
      "=============================\n",
      "\n"
     ]
    },
    {
     "name": "stderr",
     "output_type": "stream",
     "text": [
      "Processing:  15%|█▍        | 155/1060 [04:49<20:18,  1.35s/it]"
     ]
    },
    {
     "name": "stdout",
     "output_type": "stream",
     "text": [
      "===== 调试信息：服务器返回 =====\n",
      "{\"id\":\"0194dc5cbfba0cb3aad8203a6b68aac5\",\"object\":\"chat.completion\",\"created\":1738863853,\"model\":\"Qwen/Qwen2.5-32B-Instruct\",\"choices\":[{\"index\":0,\"message\":{\"role\":\"assistant\",\"content\":\"{\\n  \\\"classification\\\": \\\"经济\\\",\\n  \\\"sentiment\\\": \\\"negative\\\"\\n}\"},\"finish_reason\":\"stop\"}],\"usage\":{\"prompt_tokens\":1983,\"completion_tokens\":17,\"total_tokens\":2000},\"system_fingerprint\":\"\"}\n",
      "=============================\n",
      "\n"
     ]
    },
    {
     "name": "stderr",
     "output_type": "stream",
     "text": [
      "Processing:  15%|█▍        | 156/1060 [04:50<19:58,  1.33s/it]"
     ]
    },
    {
     "name": "stdout",
     "output_type": "stream",
     "text": [
      "===== 调试信息：服务器返回 =====\n",
      "{\"id\":\"0194dc5cc48d9108efff2cc2d8487a48\",\"object\":\"chat.completion\",\"created\":1738863854,\"model\":\"Qwen/Qwen2.5-32B-Instruct\",\"choices\":[{\"index\":0,\"message\":{\"role\":\"assistant\",\"content\":\"{\\n  \\\"classification\\\": \\\"国内政治\\\",\\n  \\\"sentiment\\\": \\\"negative\\\"\\n}\"},\"finish_reason\":\"stop\"}],\"usage\":{\"prompt_tokens\":676,\"completion_tokens\":18,\"total_tokens\":694},\"system_fingerprint\":\"\"}\n",
      "=============================\n",
      "\n"
     ]
    },
    {
     "name": "stderr",
     "output_type": "stream",
     "text": [
      "Processing:  15%|█▍        | 157/1060 [04:51<18:58,  1.26s/it]"
     ]
    },
    {
     "name": "stdout",
     "output_type": "stream",
     "text": [
      "===== 调试信息：服务器返回 =====\n",
      "{\"id\":\"0194dc5cc8fae07fc9f8e0aac0768b61\",\"object\":\"chat.completion\",\"created\":1738863855,\"model\":\"Qwen/Qwen2.5-32B-Instruct\",\"choices\":[{\"index\":0,\"message\":{\"role\":\"assistant\",\"content\":\"{\\n  \\\"classification\\\": \\\"商务活动\\\",\\n  \\\"sentiment\\\": \\\"neutral\\\"\\n}\"},\"finish_reason\":\"stop\"}],\"usage\":{\"prompt_tokens\":2196,\"completion_tokens\":18,\"total_tokens\":2214},\"system_fingerprint\":\"\"}\n",
      "=============================\n",
      "\n"
     ]
    },
    {
     "name": "stderr",
     "output_type": "stream",
     "text": [
      "Processing:  15%|█▍        | 158/1060 [04:53<19:00,  1.26s/it]"
     ]
    },
    {
     "name": "stdout",
     "output_type": "stream",
     "text": [
      "===== 调试信息：服务器返回 =====\n",
      "{\"id\":\"0194dc5ccdeb8ddb4eb9853059050b3c\",\"object\":\"chat.completion\",\"created\":1738863857,\"model\":\"Qwen/Qwen2.5-32B-Instruct\",\"choices\":[{\"index\":0,\"message\":{\"role\":\"assistant\",\"content\":\"{\\n  \\\"classification\\\": \\\"经济\\\",\\n  \\\"sentiment\\\": \\\"negative\\\"\\n}\"},\"finish_reason\":\"stop\"}],\"usage\":{\"prompt_tokens\":1575,\"completion_tokens\":17,\"total_tokens\":1592},\"system_fingerprint\":\"\"}\n",
      "=============================\n",
      "\n"
     ]
    },
    {
     "name": "stderr",
     "output_type": "stream",
     "text": [
      "Processing:  15%|█▌        | 159/1060 [04:54<18:34,  1.24s/it]"
     ]
    },
    {
     "name": "stdout",
     "output_type": "stream",
     "text": [
      "===== 调试信息：服务器返回 =====\n",
      "{\"id\":\"0194dc5cd2dc5f877487e00a80250ca1\",\"object\":\"chat.completion\",\"created\":1738863858,\"model\":\"Qwen/Qwen2.5-32B-Instruct\",\"choices\":[{\"index\":0,\"message\":{\"role\":\"assistant\",\"content\":\"{\\n  \\\"classification\\\": \\\"经济\\\",\\n  \\\"sentiment\\\": \\\"positive\\\"\\n}\"},\"finish_reason\":\"stop\"}],\"usage\":{\"prompt_tokens\":1492,\"completion_tokens\":17,\"total_tokens\":1509},\"system_fingerprint\":\"\"}\n",
      "=============================\n",
      "\n"
     ]
    },
    {
     "name": "stderr",
     "output_type": "stream",
     "text": [
      "Processing:  15%|█▌        | 160/1060 [04:55<18:43,  1.25s/it]"
     ]
    },
    {
     "name": "stdout",
     "output_type": "stream",
     "text": [
      "===== 调试信息：服务器返回 =====\n",
      "{\"id\":\"0194dc5cd7848121ea57f2e3f4223da0\",\"object\":\"chat.completion\",\"created\":1738863859,\"model\":\"Qwen/Qwen2.5-32B-Instruct\",\"choices\":[{\"index\":0,\"message\":{\"role\":\"assistant\",\"content\":\"{\\n  \\\"classification\\\": \\\"科技\\\",\\n  \\\"sentiment\\\": \\\"pleasure\\\"\\n}\"},\"finish_reason\":\"stop\"}],\"usage\":{\"prompt_tokens\":3471,\"completion_tokens\":18,\"total_tokens\":3489},\"system_fingerprint\":\"\"}\n",
      "=============================\n",
      "\n"
     ]
    },
    {
     "name": "stderr",
     "output_type": "stream",
     "text": [
      "Processing:  15%|█▌        | 161/1060 [04:57<19:55,  1.33s/it]"
     ]
    },
    {
     "name": "stdout",
     "output_type": "stream",
     "text": [
      "===== 调试信息：服务器返回 =====\n",
      "{\"id\":\"0194dc5cdda5af456c7d7182242e85f9\",\"object\":\"chat.completion\",\"created\":1738863861,\"model\":\"Qwen/Qwen2.5-32B-Instruct\",\"choices\":[{\"index\":0,\"message\":{\"role\":\"assistant\",\"content\":\"{\\n  \\\"classification\\\": \\\"商务活动\\\",\\n  \\\"sentiment\\\": \\\"neutral\\\"\\n}\"},\"finish_reason\":\"stop\"}],\"usage\":{\"prompt_tokens\":617,\"completion_tokens\":18,\"total_tokens\":635},\"system_fingerprint\":\"\"}\n",
      "=============================\n",
      "\n"
     ]
    },
    {
     "name": "stderr",
     "output_type": "stream",
     "text": [
      "Processing:  15%|█▌        | 162/1060 [04:58<19:14,  1.29s/it]"
     ]
    },
    {
     "name": "stdout",
     "output_type": "stream",
     "text": [
      "===== 调试信息：服务器返回 =====\n",
      "{\"id\":\"0194dc5ce203fc312c9562caef78556b\",\"object\":\"chat.completion\",\"created\":1738863862,\"model\":\"Qwen/Qwen2.5-32B-Instruct\",\"choices\":[{\"index\":0,\"message\":{\"role\":\"assistant\",\"content\":\"{\\n  \\\"classification\\\": \\\"文化活动\\\",\\n  \\\"sentiment\\\": \\\"pleasure\\\"\\n}\"},\"finish_reason\":\"stop\"}],\"usage\":{\"prompt_tokens\":1315,\"completion_tokens\":19,\"total_tokens\":1334},\"system_fingerprint\":\"\"}\n",
      "=============================\n",
      "\n"
     ]
    },
    {
     "name": "stderr",
     "output_type": "stream",
     "text": [
      "Processing:  15%|█▌        | 163/1060 [04:59<18:37,  1.25s/it]"
     ]
    },
    {
     "name": "stdout",
     "output_type": "stream",
     "text": [
      "===== 调试信息：服务器返回 =====\n",
      "{\"id\":\"0194dc5ce69313658268b94c7c26b08c\",\"object\":\"chat.completion\",\"created\":1738863863,\"model\":\"Qwen/Qwen2.5-32B-Instruct\",\"choices\":[{\"index\":0,\"message\":{\"role\":\"assistant\",\"content\":\"{\\n  \\\"classification\\\": \\\"国际政治\\\",\\n  \\\"sentiment\\\": \\\"neutral\\\"\\n}\"},\"finish_reason\":\"stop\"}],\"usage\":{\"prompt_tokens\":2854,\"completion_tokens\":18,\"total_tokens\":2872},\"system_fingerprint\":\"\"}\n",
      "=============================\n",
      "\n"
     ]
    },
    {
     "name": "stderr",
     "output_type": "stream",
     "text": [
      "Processing:  15%|█▌        | 164/1060 [05:00<19:28,  1.30s/it]"
     ]
    },
    {
     "name": "stdout",
     "output_type": "stream",
     "text": [
      "===== 调试信息：服务器返回 =====\n",
      "{\"id\":\"0194dc5cec283b85899a0f8eeefe5c2a\",\"object\":\"chat.completion\",\"created\":1738863864,\"model\":\"Qwen/Qwen2.5-32B-Instruct\",\"choices\":[{\"index\":0,\"message\":{\"role\":\"assistant\",\"content\":\"{\\n  \\\"classification\\\": \\\"能源\\\",\\n  \\\"sentiment\\\": \\\"neutral\\\"\\n}\"},\"finish_reason\":\"stop\"}],\"usage\":{\"prompt_tokens\":2991,\"completion_tokens\":17,\"total_tokens\":3008},\"system_fingerprint\":\"\"}\n",
      "=============================\n",
      "\n"
     ]
    },
    {
     "name": "stderr",
     "output_type": "stream",
     "text": [
      "Processing:  16%|█▌        | 165/1060 [05:02<20:00,  1.34s/it]"
     ]
    },
    {
     "name": "stdout",
     "output_type": "stream",
     "text": [
      "===== 调试信息：服务器返回 =====\n",
      "{\"id\":\"0194dc5cf1c233d667b89cd6a5ca27fe\",\"object\":\"chat.completion\",\"created\":1738863866,\"model\":\"Qwen/Qwen2.5-32B-Instruct\",\"choices\":[{\"index\":0,\"message\":{\"role\":\"assistant\",\"content\":\"{\\n  \\\"classification\\\": \\\"灾害\\\",\\n  \\\"sentiment\\\": \\\"negative\\\"\\n}\"},\"finish_reason\":\"stop\"}],\"usage\":{\"prompt_tokens\":1401,\"completion_tokens\":17,\"total_tokens\":1418},\"system_fingerprint\":\"\"}\n",
      "=============================\n",
      "\n"
     ]
    },
    {
     "name": "stderr",
     "output_type": "stream",
     "text": [
      "Processing:  16%|█▌        | 166/1060 [05:03<19:08,  1.28s/it]"
     ]
    },
    {
     "name": "stdout",
     "output_type": "stream",
     "text": [
      "===== 调试信息：服务器返回 =====\n",
      "{\"id\":\"0194dc5cf6d4821b6430ab5ecd069712\",\"object\":\"chat.completion\",\"created\":1738863867,\"model\":\"Qwen/Qwen2.5-32B-Instruct\",\"choices\":[{\"index\":0,\"message\":{\"role\":\"assistant\",\"content\":\"{\\n  \\\"classification\\\": \\\"商务活动\\\",\\n  \\\"sentiment\\\": \\\"positive\\\"\\n}\"},\"finish_reason\":\"stop\"}],\"usage\":{\"prompt_tokens\":3204,\"completion_tokens\":18,\"total_tokens\":3222},\"system_fingerprint\":\"\"}\n",
      "=============================\n",
      "\n"
     ]
    },
    {
     "name": "stderr",
     "output_type": "stream",
     "text": [
      "Processing:  16%|█▌        | 167/1060 [05:04<20:37,  1.39s/it]"
     ]
    },
    {
     "name": "stdout",
     "output_type": "stream",
     "text": [
      "===== 调试信息：服务器返回 =====\n",
      "{\"id\":\"0194dc5cfc9cae4ae9ad2c625ae31505\",\"object\":\"chat.completion\",\"created\":1738863869,\"model\":\"Qwen/Qwen2.5-32B-Instruct\",\"choices\":[{\"index\":0,\"message\":{\"role\":\"assistant\",\"content\":\"{\\n  \\\"classification\\\": \\\"经济\\\",\\n  \\\"sentiment\\\": \\\"neutral\\\"\\n}\"},\"finish_reason\":\"stop\"}],\"usage\":{\"prompt_tokens\":1385,\"completion_tokens\":17,\"total_tokens\":1402},\"system_fingerprint\":\"\"}\n",
      "=============================\n",
      "\n"
     ]
    },
    {
     "name": "stderr",
     "output_type": "stream",
     "text": [
      "Processing:  16%|█▌        | 168/1060 [05:06<19:35,  1.32s/it]"
     ]
    },
    {
     "name": "stdout",
     "output_type": "stream",
     "text": [
      "===== 调试信息：服务器返回 =====\n",
      "{\"id\":\"0194dc5d011e68c744847bb0ba2373a7\",\"object\":\"chat.completion\",\"created\":1738863870,\"model\":\"Qwen/Qwen2.5-32B-Instruct\",\"choices\":[{\"index\":0,\"message\":{\"role\":\"assistant\",\"content\":\"{\\n  \\\"classification\\\": \\\"体育\\\",\\n  \\\"sentiment\\\": \\\"neutral\\\"\\n}\"},\"finish_reason\":\"stop\"}],\"usage\":{\"prompt_tokens\":3292,\"completion_tokens\":17,\"total_tokens\":3309},\"system_fingerprint\":\"\"}\n",
      "=============================\n",
      "\n"
     ]
    },
    {
     "name": "stderr",
     "output_type": "stream",
     "text": [
      "Processing:  16%|█▌        | 169/1060 [05:07<20:06,  1.35s/it]"
     ]
    },
    {
     "name": "stdout",
     "output_type": "stream",
     "text": [
      "===== 调试信息：服务器返回 =====\n",
      "{\"id\":\"0194dc5d06ecd0561c8e41bc213c1ebb\",\"object\":\"chat.completion\",\"created\":1738863871,\"model\":\"Qwen/Qwen2.5-32B-Instruct\",\"choices\":[{\"index\":0,\"message\":{\"role\":\"assistant\",\"content\":\"{\\n  \\\"classification\\\": \\\"国际政治\\\",\\n  \\\"sentiment\\\": \\\"negative\\\"\\n}\"},\"finish_reason\":\"stop\"}],\"usage\":{\"prompt_tokens\":2388,\"completion_tokens\":18,\"total_tokens\":2406},\"system_fingerprint\":\"\"}\n",
      "=============================\n",
      "\n"
     ]
    },
    {
     "name": "stderr",
     "output_type": "stream",
     "text": [
      "Processing:  16%|█▌        | 170/1060 [05:08<20:16,  1.37s/it]"
     ]
    },
    {
     "name": "stdout",
     "output_type": "stream",
     "text": [
      "===== 调试信息：服务器返回 =====\n",
      "{\"id\":\"0194dc5d0c3317264bbb18e3e82b6083\",\"object\":\"chat.completion\",\"created\":1738863873,\"model\":\"Qwen/Qwen2.5-32B-Instruct\",\"choices\":[{\"index\":0,\"message\":{\"role\":\"assistant\",\"content\":\"{\\n  \\\"classification\\\": \\\"国际政治\\\",\\n  \\\"sentiment\\\": \\\"negative\\\"\\n}\"},\"finish_reason\":\"stop\"}],\"usage\":{\"prompt_tokens\":1960,\"completion_tokens\":18,\"total_tokens\":1978},\"system_fingerprint\":\"\"}\n",
      "=============================\n",
      "\n"
     ]
    },
    {
     "name": "stderr",
     "output_type": "stream",
     "text": [
      "Processing:  16%|█▌        | 171/1060 [05:10<19:59,  1.35s/it]"
     ]
    },
    {
     "name": "stdout",
     "output_type": "stream",
     "text": [
      "===== 调试信息：服务器返回 =====\n",
      "{\"id\":\"0194dc5d114b744a9e36b8cac05c3399\",\"object\":\"chat.completion\",\"created\":1738863874,\"model\":\"Qwen/Qwen2.5-32B-Instruct\",\"choices\":[{\"index\":0,\"message\":{\"role\":\"assistant\",\"content\":\"{\\n  \\\"classification\\\": \\\"国际政治\\\",\\n  \\\"sentiment\\\": \\\"negative\\\"\\n}\"},\"finish_reason\":\"stop\"}],\"usage\":{\"prompt_tokens\":2296,\"completion_tokens\":18,\"total_tokens\":2314},\"system_fingerprint\":\"\"}\n",
      "=============================\n",
      "\n"
     ]
    },
    {
     "name": "stderr",
     "output_type": "stream",
     "text": [
      "Processing:  16%|█▌        | 172/1060 [05:11<19:49,  1.34s/it]"
     ]
    },
    {
     "name": "stdout",
     "output_type": "stream",
     "text": [
      "===== 调试信息：服务器返回 =====\n",
      "{\"id\":\"0194dc5d16797048fef176ad741b6577\",\"object\":\"chat.completion\",\"created\":1738863875,\"model\":\"Qwen/Qwen2.5-32B-Instruct\",\"choices\":[{\"index\":0,\"message\":{\"role\":\"assistant\",\"content\":\"{\\n  \\\"classification\\\": \\\"经济\\\",\\n  \\\"sentiment\\\": \\\"negative\\\"\\n}\"},\"finish_reason\":\"stop\"}],\"usage\":{\"prompt_tokens\":1220,\"completion_tokens\":17,\"total_tokens\":1237},\"system_fingerprint\":\"\"}\n",
      "=============================\n",
      "\n"
     ]
    },
    {
     "name": "stderr",
     "output_type": "stream",
     "text": [
      "Processing:  16%|█▋        | 173/1060 [05:12<18:54,  1.28s/it]"
     ]
    },
    {
     "name": "stdout",
     "output_type": "stream",
     "text": [
      "===== 调试信息：服务器返回 =====\n",
      "{\"id\":\"0194dc5d1ad8021c0d4fa523c3902328\",\"object\":\"chat.completion\",\"created\":1738863876,\"model\":\"Qwen/Qwen2.5-32B-Instruct\",\"choices\":[{\"index\":0,\"message\":{\"role\":\"assistant\",\"content\":\"{\\n  \\\"classification\\\": \\\"国内政治\\\",\\n  \\\"sentiment\\\": \\\"negative\\\"\\n}\"},\"finish_reason\":\"stop\"}],\"usage\":{\"prompt_tokens\":1557,\"completion_tokens\":18,\"total_tokens\":1575},\"system_fingerprint\":\"\"}\n",
      "=============================\n",
      "\n"
     ]
    },
    {
     "name": "stderr",
     "output_type": "stream",
     "text": [
      "Processing:  16%|█▋        | 174/1060 [05:13<18:27,  1.25s/it]"
     ]
    },
    {
     "name": "stdout",
     "output_type": "stream",
     "text": [
      "===== 调试信息：服务器返回 =====\n",
      "{\"id\":\"0194dc5d1f7889e8252f57883b51fb9f\",\"object\":\"chat.completion\",\"created\":1738863878,\"model\":\"Qwen/Qwen2.5-32B-Instruct\",\"choices\":[{\"index\":0,\"message\":{\"role\":\"assistant\",\"content\":\"{\\n  \\\"classification\\\": \\\"经济\\\",\\n  \\\"sentiment\\\": \\\"negative\\\"\\n}\"},\"finish_reason\":\"stop\"}],\"usage\":{\"prompt_tokens\":1552,\"completion_tokens\":17,\"total_tokens\":1569},\"system_fingerprint\":\"\"}\n",
      "=============================\n",
      "\n"
     ]
    },
    {
     "name": "stderr",
     "output_type": "stream",
     "text": [
      "Processing:  17%|█▋        | 175/1060 [05:15<17:58,  1.22s/it]"
     ]
    },
    {
     "name": "stdout",
     "output_type": "stream",
     "text": [
      "===== 调试信息：服务器返回 =====\n",
      "{\"id\":\"0194dc5d2455bacf11734c2772e46f1e\",\"object\":\"chat.completion\",\"created\":1738863879,\"model\":\"Qwen/Qwen2.5-32B-Instruct\",\"choices\":[{\"index\":0,\"message\":{\"role\":\"assistant\",\"content\":\"{\\n  \\\"classification\\\": \\\"经济\\\",\\n  \\\"sentiment\\\": \\\"neutral\\\"\\n}\"},\"finish_reason\":\"stop\"}],\"usage\":{\"prompt_tokens\":1609,\"completion_tokens\":17,\"total_tokens\":1626},\"system_fingerprint\":\"\"}\n",
      "=============================\n",
      "\n"
     ]
    },
    {
     "name": "stderr",
     "output_type": "stream",
     "text": [
      "Processing:  17%|█▋        | 176/1060 [05:16<18:09,  1.23s/it]"
     ]
    },
    {
     "name": "stdout",
     "output_type": "stream",
     "text": [
      "===== 调试信息：服务器返回 =====\n",
      "{\"id\":\"0194dc5d28ea19f53ac6d2f24dca7aef\",\"object\":\"chat.completion\",\"created\":1738863880,\"model\":\"Qwen/Qwen2.5-32B-Instruct\",\"choices\":[{\"index\":0,\"message\":{\"role\":\"assistant\",\"content\":\"{\\n  \\\"classification\\\": \\\"经济\\\",\\n  \\\"sentiment\\\": \\\"negative\\\"\\n}\"},\"finish_reason\":\"stop\"}],\"usage\":{\"prompt_tokens\":1579,\"completion_tokens\":17,\"total_tokens\":1596},\"system_fingerprint\":\"\"}\n",
      "=============================\n",
      "\n"
     ]
    },
    {
     "name": "stderr",
     "output_type": "stream",
     "text": [
      "Processing:  17%|█▋        | 177/1060 [05:17<17:57,  1.22s/it]"
     ]
    },
    {
     "name": "stdout",
     "output_type": "stream",
     "text": [
      "===== 调试信息：服务器返回 =====\n",
      "{\"id\":\"0194dc5d2d925455c3e4f90d4bccb35d\",\"object\":\"chat.completion\",\"created\":1738863881,\"model\":\"Qwen/Qwen2.5-32B-Instruct\",\"choices\":[{\"index\":0,\"message\":{\"role\":\"assistant\",\"content\":\"{\\n  \\\"classification\\\": \\\"商务活动\\\",\\n  \\\"sentiment\\\": \\\"pleasure\\\"\\n}\"},\"finish_reason\":\"stop\"}],\"usage\":{\"prompt_tokens\":1418,\"completion_tokens\":19,\"total_tokens\":1437},\"system_fingerprint\":\"\"}\n",
      "=============================\n",
      "\n"
     ]
    },
    {
     "name": "stderr",
     "output_type": "stream",
     "text": [
      "Processing:  17%|█▋        | 178/1060 [05:18<17:48,  1.21s/it]"
     ]
    },
    {
     "name": "stdout",
     "output_type": "stream",
     "text": [
      "===== 调试信息：服务器返回 =====\n",
      "{\"id\":\"0194dc5d322dc16e8e2586266b7280c5\",\"object\":\"chat.completion\",\"created\":1738863882,\"model\":\"Qwen/Qwen2.5-32B-Instruct\",\"choices\":[{\"index\":0,\"message\":{\"role\":\"assistant\",\"content\":\"{\\n  \\\"classification\\\": \\\"卫生福利\\\",\\n  \\\"sentiment\\\": \\\"negative\\\"\\n}\"},\"finish_reason\":\"stop\"}],\"usage\":{\"prompt_tokens\":1665,\"completion_tokens\":18,\"total_tokens\":1683},\"system_fingerprint\":\"\"}\n",
      "=============================\n",
      "\n"
     ]
    },
    {
     "name": "stderr",
     "output_type": "stream",
     "text": [
      "Processing:  17%|█▋        | 179/1060 [05:20<19:20,  1.32s/it]"
     ]
    },
    {
     "name": "stdout",
     "output_type": "stream",
     "text": [
      "===== 调试信息：服务器返回 =====\n",
      "{\"id\":\"0194dc5d3868863d030c4d21471f67e3\",\"object\":\"chat.completion\",\"created\":1738863884,\"model\":\"Qwen/Qwen2.5-32B-Instruct\",\"choices\":[{\"index\":0,\"message\":{\"role\":\"assistant\",\"content\":\"{\\n  \\\"classification\\\": \\\"文化活动\\\",\\n  \\\"sentiment\\\": \\\"pleasure\\\"\\n}\"},\"finish_reason\":\"stop\"}],\"usage\":{\"prompt_tokens\":1299,\"completion_tokens\":19,\"total_tokens\":1318},\"system_fingerprint\":\"\"}\n",
      "=============================\n",
      "\n"
     ]
    },
    {
     "name": "stderr",
     "output_type": "stream",
     "text": [
      "Processing:  17%|█▋        | 180/1060 [05:21<18:39,  1.27s/it]"
     ]
    },
    {
     "name": "stdout",
     "output_type": "stream",
     "text": [
      "===== 调试信息：服务器返回 =====\n",
      "{\"id\":\"0194dc5d3cdf7bea92c691cef7ca8f89\",\"object\":\"chat.completion\",\"created\":1738863885,\"model\":\"Qwen/Qwen2.5-32B-Instruct\",\"choices\":[{\"index\":0,\"message\":{\"role\":\"assistant\",\"content\":\"{\\n  \\\"classification\\\": \\\"环境\\\",\\n  \\\"sentiment\\\": \\\"negative\\\"\\n}\"},\"finish_reason\":\"stop\"}],\"usage\":{\"prompt_tokens\":2419,\"completion_tokens\":17,\"total_tokens\":2436},\"system_fingerprint\":\"\"}\n",
      "=============================\n",
      "\n"
     ]
    },
    {
     "name": "stderr",
     "output_type": "stream",
     "text": [
      "Processing:  17%|█▋        | 181/1060 [05:22<18:56,  1.29s/it]"
     ]
    },
    {
     "name": "stdout",
     "output_type": "stream",
     "text": [
      "===== 调试信息：服务器返回 =====\n",
      "{\"id\":\"0194dc5d42225716338b4a53ddab9038\",\"object\":\"chat.completion\",\"created\":1738863886,\"model\":\"Qwen/Qwen2.5-32B-Instruct\",\"choices\":[{\"index\":0,\"message\":{\"role\":\"assistant\",\"content\":\"{\\n  \\\"classification\\\": \\\"商务活动\\\",\\n  \\\"sentiment\\\": \\\"neutral\\\"\\n}\"},\"finish_reason\":\"stop\"}],\"usage\":{\"prompt_tokens\":2238,\"completion_tokens\":18,\"total_tokens\":2256},\"system_fingerprint\":\"\"}\n",
      "=============================\n",
      "\n"
     ]
    },
    {
     "name": "stderr",
     "output_type": "stream",
     "text": [
      "Processing:  17%|█▋        | 182/1060 [05:24<18:56,  1.29s/it]"
     ]
    },
    {
     "name": "stdout",
     "output_type": "stream",
     "text": [
      "===== 调试信息：服务器返回 =====\n",
      "{\"id\":\"0194dc5d4726d6e9cc9a4d95dcd56a01\",\"object\":\"chat.completion\",\"created\":1738863888,\"model\":\"Qwen/Qwen2.5-32B-Instruct\",\"choices\":[{\"index\":0,\"message\":{\"role\":\"assistant\",\"content\":\"{\\n  \\\"classification\\\": \\\"教育\\\",\\n  \\\"sentiment\\\": \\\"pleasure\\\"\\n}\"},\"finish_reason\":\"stop\"}],\"usage\":{\"prompt_tokens\":1565,\"completion_tokens\":18,\"total_tokens\":1583},\"system_fingerprint\":\"\"}\n",
      "=============================\n",
      "\n"
     ]
    },
    {
     "name": "stderr",
     "output_type": "stream",
     "text": [
      "Processing:  17%|█▋        | 183/1060 [05:25<18:55,  1.29s/it]"
     ]
    },
    {
     "name": "stdout",
     "output_type": "stream",
     "text": [
      "===== 调试信息：服务器返回 =====\n",
      "{\"id\":\"0194dc5d4c42e290b7a09593a777681f\",\"object\":\"chat.completion\",\"created\":1738863889,\"model\":\"Qwen/Qwen2.5-32B-Instruct\",\"choices\":[{\"index\":0,\"message\":{\"role\":\"assistant\",\"content\":\"{\\n  \\\"classification\\\": \\\"时尚\\\",\\n  \\\"sentiment\\\": \\\"positive\\\"\\n}\"},\"finish_reason\":\"stop\"}],\"usage\":{\"prompt_tokens\":2960,\"completion_tokens\":17,\"total_tokens\":2977},\"system_fingerprint\":\"\"}\n",
      "=============================\n",
      "\n"
     ]
    },
    {
     "name": "stderr",
     "output_type": "stream",
     "text": [
      "Processing:  17%|█▋        | 184/1060 [05:26<19:27,  1.33s/it]"
     ]
    },
    {
     "name": "stdout",
     "output_type": "stream",
     "text": [
      "===== 调试信息：服务器返回 =====\n",
      "{\"id\":\"0194dc5d51cca6b9ace7a5aee93de104\",\"object\":\"chat.completion\",\"created\":1738863890,\"model\":\"Qwen/Qwen2.5-32B-Instruct\",\"choices\":[{\"index\":0,\"message\":{\"role\":\"assistant\",\"content\":\"{\\n  \\\"classification\\\": \\\"经济\\\",\\n  \\\"sentiment\\\": \\\"positive\\\"\\n}\"},\"finish_reason\":\"stop\"}],\"usage\":{\"prompt_tokens\":998,\"completion_tokens\":17,\"total_tokens\":1015},\"system_fingerprint\":\"\"}\n",
      "=============================\n",
      "\n"
     ]
    },
    {
     "name": "stderr",
     "output_type": "stream",
     "text": [
      "Processing:  17%|█▋        | 185/1060 [05:27<18:19,  1.26s/it]"
     ]
    },
    {
     "name": "stdout",
     "output_type": "stream",
     "text": [
      "===== 调试信息：服务器返回 =====\n",
      "{\"id\":\"0194dc5d5600b0d4953b6847d9f6a249\",\"object\":\"chat.completion\",\"created\":1738863891,\"model\":\"Qwen/Qwen2.5-32B-Instruct\",\"choices\":[{\"index\":0,\"message\":{\"role\":\"assistant\",\"content\":\"{\\n  \\\"classification\\\": \\\"文化活动\\\",\\n  \\\"sentiment\\\": \\\"pleasure\\\"\\n}\"},\"finish_reason\":\"stop\"}],\"usage\":{\"prompt_tokens\":1499,\"completion_tokens\":19,\"total_tokens\":1518},\"system_fingerprint\":\"\"}\n",
      "=============================\n",
      "\n"
     ]
    },
    {
     "name": "stderr",
     "output_type": "stream",
     "text": [
      "Processing:  18%|█▊        | 186/1060 [05:29<18:32,  1.27s/it]"
     ]
    },
    {
     "name": "stdout",
     "output_type": "stream",
     "text": [
      "===== 调试信息：服务器返回 =====\n",
      "{\"id\":\"0194dc5d5b2394680bdfd8ec7dc4dcae\",\"object\":\"chat.completion\",\"created\":1738863893,\"model\":\"Qwen/Qwen2.5-32B-Instruct\",\"choices\":[{\"index\":0,\"message\":{\"role\":\"assistant\",\"content\":\"{\\n  \\\"classification\\\": \\\"商务活动\\\",\\n  \\\"sentiment\\\": \\\"negative\\\"\\n}\"},\"finish_reason\":\"stop\"}],\"usage\":{\"prompt_tokens\":1772,\"completion_tokens\":18,\"total_tokens\":1790},\"system_fingerprint\":\"\"}\n",
      "=============================\n",
      "\n"
     ]
    },
    {
     "name": "stderr",
     "output_type": "stream",
     "text": [
      "Processing:  18%|█▊        | 187/1060 [05:30<18:20,  1.26s/it]"
     ]
    },
    {
     "name": "stdout",
     "output_type": "stream",
     "text": [
      "===== 调试信息：服务器返回 =====\n",
      "{\"id\":\"0194dc5d5ff715e566fbb615d5978b47\",\"object\":\"chat.completion\",\"created\":1738863894,\"model\":\"Qwen/Qwen2.5-32B-Instruct\",\"choices\":[{\"index\":0,\"message\":{\"role\":\"assistant\",\"content\":\"{\\n  \\\"classification\\\": \\\"国际政治\\\",\\n  \\\"sentiment\\\": \\\"negative\\\"\\n}\"},\"finish_reason\":\"stop\"}],\"usage\":{\"prompt_tokens\":1031,\"completion_tokens\":18,\"total_tokens\":1049},\"system_fingerprint\":\"\"}\n",
      "=============================\n",
      "\n"
     ]
    },
    {
     "name": "stderr",
     "output_type": "stream",
     "text": [
      "Processing:  18%|█▊        | 188/1060 [05:31<17:35,  1.21s/it]"
     ]
    },
    {
     "name": "stdout",
     "output_type": "stream",
     "text": [
      "===== 调试信息：服务器返回 =====\n",
      "{\"id\":\"0194dc5d648e2d9e1f7b670e30df3016\",\"object\":\"chat.completion\",\"created\":1738863895,\"model\":\"Qwen/Qwen2.5-32B-Instruct\",\"choices\":[{\"index\":0,\"message\":{\"role\":\"assistant\",\"content\":\"{\\n  \\\"classification\\\": \\\"交通\\\",\\n  \\\"sentiment\\\": \\\"neutral\\\"\\n}\"},\"finish_reason\":\"stop\"}],\"usage\":{\"prompt_tokens\":1581,\"completion_tokens\":17,\"total_tokens\":1598},\"system_fingerprint\":\"\"}\n",
      "=============================\n",
      "\n"
     ]
    },
    {
     "name": "stderr",
     "output_type": "stream",
     "text": [
      "Processing:  18%|█▊        | 189/1060 [05:32<17:47,  1.23s/it]"
     ]
    },
    {
     "name": "stdout",
     "output_type": "stream",
     "text": [
      "===== 调试信息：服务器返回 =====\n",
      "{\"id\":\"0194dc5d69278d09723cf8e1f5291577\",\"object\":\"chat.completion\",\"created\":1738863896,\"model\":\"Qwen/Qwen2.5-32B-Instruct\",\"choices\":[{\"index\":0,\"message\":{\"role\":\"assistant\",\"content\":\"{\\n  \\\"classification\\\": \\\"国际政治\\\",\\n  \\\"sentiment\\\": \\\"neutral\\\"\\n}\"},\"finish_reason\":\"stop\"}],\"usage\":{\"prompt_tokens\":1513,\"completion_tokens\":18,\"total_tokens\":1531},\"system_fingerprint\":\"\"}\n",
      "=============================\n",
      "\n"
     ]
    },
    {
     "name": "stderr",
     "output_type": "stream",
     "text": [
      "Processing:  18%|█▊        | 190/1060 [05:33<17:29,  1.21s/it]"
     ]
    },
    {
     "name": "stdout",
     "output_type": "stream",
     "text": [
      "===== 调试信息：服务器返回 =====\n",
      "{\"id\":\"0194dc5d6da5a0da2e8aaadec17b1073\",\"object\":\"chat.completion\",\"created\":1738863898,\"model\":\"Qwen/Qwen2.5-32B-Instruct\",\"choices\":[{\"index\":0,\"message\":{\"role\":\"assistant\",\"content\":\"{\\n  \\\"classification\\\": \\\"体育\\\",\\n  \\\"sentiment\\\": \\\"pleasure\\\"\\n}\"},\"finish_reason\":\"stop\"}],\"usage\":{\"prompt_tokens\":1739,\"completion_tokens\":18,\"total_tokens\":1757},\"system_fingerprint\":\"\"}\n",
      "=============================\n",
      "\n"
     ]
    },
    {
     "name": "stderr",
     "output_type": "stream",
     "text": [
      "Processing:  18%|█▊        | 191/1060 [05:35<18:07,  1.25s/it]"
     ]
    },
    {
     "name": "stdout",
     "output_type": "stream",
     "text": [
      "===== 调试信息：服务器返回 =====\n",
      "{\"id\":\"0194dc5d735db80624887608b8487370\",\"object\":\"chat.completion\",\"created\":1738863899,\"model\":\"Qwen/Qwen2.5-32B-Instruct\",\"choices\":[{\"index\":0,\"message\":{\"role\":\"assistant\",\"content\":\"{\\n  \\\"classification\\\": \\\"文化活动\\\",\\n  \\\"sentiment\\\": \\\"pleasure\\\"\\n}\"},\"finish_reason\":\"stop\"}],\"usage\":{\"prompt_tokens\":1366,\"completion_tokens\":19,\"total_tokens\":1385},\"system_fingerprint\":\"\"}\n",
      "=============================\n",
      "\n"
     ]
    },
    {
     "name": "stderr",
     "output_type": "stream",
     "text": [
      "Processing:  18%|█▊        | 192/1060 [05:36<18:12,  1.26s/it]"
     ]
    },
    {
     "name": "stdout",
     "output_type": "stream",
     "text": [
      "===== 调试信息：服务器返回 =====\n",
      "{\"id\":\"0194dc5d7815830a1285104019e25c50\",\"object\":\"chat.completion\",\"created\":1738863900,\"model\":\"Qwen/Qwen2.5-32B-Instruct\",\"choices\":[{\"index\":0,\"message\":{\"role\":\"assistant\",\"content\":\"{\\n  \\\"classification\\\": \\\"文化活动\\\",\\n  \\\"sentiment\\\": \\\"pleasure\\\"\\n}\"},\"finish_reason\":\"stop\"}],\"usage\":{\"prompt_tokens\":1705,\"completion_tokens\":19,\"total_tokens\":1724},\"system_fingerprint\":\"\"}\n",
      "=============================\n",
      "\n"
     ]
    },
    {
     "name": "stderr",
     "output_type": "stream",
     "text": [
      "Processing:  18%|█▊        | 193/1060 [05:37<18:20,  1.27s/it]"
     ]
    },
    {
     "name": "stdout",
     "output_type": "stream",
     "text": [
      "触发速率限制 (HTTP 429)，等待60秒后重试...\n",
      "===== 调试信息：服务器返回 =====\n",
      "{\"id\":\"0194dc5e683b580708fba152633aa15c\",\"object\":\"chat.completion\",\"created\":1738863962,\"model\":\"Qwen/Qwen2.5-32B-Instruct\",\"choices\":[{\"index\":0,\"message\":{\"role\":\"assistant\",\"content\":\"{\\n  \\\"classification\\\": \\\"环境\\\",\\n  \\\"sentiment\\\": \\\"neutral\\\"\\n}\"},\"finish_reason\":\"stop\"}],\"usage\":{\"prompt_tokens\":1577,\"completion_tokens\":17,\"total_tokens\":1594},\"system_fingerprint\":\"\"}\n",
      "=============================\n",
      "\n"
     ]
    },
    {
     "name": "stderr",
     "output_type": "stream",
     "text": [
      "Processing:  18%|█▊        | 194/1060 [06:39<4:38:36, 19.30s/it]"
     ]
    },
    {
     "name": "stdout",
     "output_type": "stream",
     "text": [
      "===== 调试信息：服务器返回 =====\n",
      "{\"id\":\"0194dc5e6cda54a52f8d83c88b39016d\",\"object\":\"chat.completion\",\"created\":1738863963,\"model\":\"Qwen/Qwen2.5-32B-Instruct\",\"choices\":[{\"index\":0,\"message\":{\"role\":\"assistant\",\"content\":\"{\\n  \\\"classification\\\": \\\"商务活动\\\",\\n  \\\"sentiment\\\": \\\"negative\\\"\\n}\"},\"finish_reason\":\"stop\"}],\"usage\":{\"prompt_tokens\":2175,\"completion_tokens\":18,\"total_tokens\":2193},\"system_fingerprint\":\"\"}\n",
      "=============================\n",
      "\n"
     ]
    },
    {
     "name": "stderr",
     "output_type": "stream",
     "text": [
      "Processing:  18%|█▊        | 195/1060 [06:40<3:20:25, 13.90s/it]"
     ]
    },
    {
     "name": "stdout",
     "output_type": "stream",
     "text": [
      "===== 调试信息：服务器返回 =====\n",
      "{\"id\":\"0194dc5e71ddc72c1e1f5eb85774b58b\",\"object\":\"chat.completion\",\"created\":1738863964,\"model\":\"Qwen/Qwen2.5-32B-Instruct\",\"choices\":[{\"index\":0,\"message\":{\"role\":\"assistant\",\"content\":\"{\\n  \\\"classification\\\": \\\"文化活动\\\",\\n  \\\"sentiment\\\": \\\"pleasure\\\"\\n}\"},\"finish_reason\":\"stop\"}],\"usage\":{\"prompt_tokens\":1545,\"completion_tokens\":19,\"total_tokens\":1564},\"system_fingerprint\":\"\"}\n",
      "=============================\n",
      "\n"
     ]
    },
    {
     "name": "stderr",
     "output_type": "stream",
     "text": [
      "Processing:  18%|█▊        | 196/1060 [06:41<2:25:17, 10.09s/it]"
     ]
    },
    {
     "name": "stdout",
     "output_type": "stream",
     "text": [
      "===== 调试信息：服务器返回 =====\n",
      "{\"id\":\"0194dc5e769c8b6479ec6dfc23ea702a\",\"object\":\"chat.completion\",\"created\":1738863965,\"model\":\"Qwen/Qwen2.5-32B-Instruct\",\"choices\":[{\"index\":0,\"message\":{\"role\":\"assistant\",\"content\":\"{\\n  \\\"classification\\\": \\\"住房\\\",\\n  \\\"sentiment\\\": \\\"negative\\\"\\n}\"},\"finish_reason\":\"stop\"}],\"usage\":{\"prompt_tokens\":1393,\"completion_tokens\":17,\"total_tokens\":1410},\"system_fingerprint\":\"\"}\n",
      "=============================\n",
      "\n"
     ]
    },
    {
     "name": "stderr",
     "output_type": "stream",
     "text": [
      "Processing:  19%|█▊        | 197/1060 [06:42<1:46:38,  7.41s/it]"
     ]
    },
    {
     "name": "stdout",
     "output_type": "stream",
     "text": [
      "===== 调试信息：服务器返回 =====\n",
      "{\"id\":\"0194dc5e7b332946e3da6531c168fd3f\",\"object\":\"chat.completion\",\"created\":1738863967,\"model\":\"Qwen/Qwen2.5-32B-Instruct\",\"choices\":[{\"index\":0,\"message\":{\"role\":\"assistant\",\"content\":\"{\\n  \\\"classification\\\": \\\"文化活动\\\",\\n  \\\"sentiment\\\": \\\"pleasure\\\"\\n}\"},\"finish_reason\":\"stop\"}],\"usage\":{\"prompt_tokens\":1560,\"completion_tokens\":19,\"total_tokens\":1579},\"system_fingerprint\":\"\"}\n",
      "=============================\n",
      "\n"
     ]
    },
    {
     "name": "stderr",
     "output_type": "stream",
     "text": [
      "Processing:  19%|█▊        | 198/1060 [06:44<1:19:48,  5.55s/it]"
     ]
    },
    {
     "name": "stdout",
     "output_type": "stream",
     "text": [
      "===== 调试信息：服务器返回 =====\n",
      "{\"id\":\"0194dc5e7fe0729d74ba0ab5aa4eef4f\",\"object\":\"chat.completion\",\"created\":1738863968,\"model\":\"Qwen/Qwen2.5-32B-Instruct\",\"choices\":[{\"index\":0,\"message\":{\"role\":\"assistant\",\"content\":\"{\\n  \\\"classification\\\": \\\"国内政治\\\",\\n  \\\"sentiment\\\": \\\"negative\\\"\\n}\"},\"finish_reason\":\"stop\"}],\"usage\":{\"prompt_tokens\":2230,\"completion_tokens\":18,\"total_tokens\":2248},\"system_fingerprint\":\"\"}\n",
      "=============================\n",
      "\n"
     ]
    },
    {
     "name": "stderr",
     "output_type": "stream",
     "text": [
      "Processing:  19%|█▉        | 199/1060 [06:45<1:01:15,  4.27s/it]"
     ]
    },
    {
     "name": "stdout",
     "output_type": "stream",
     "text": [
      "===== 调试信息：服务器返回 =====\n",
      "{\"id\":\"0194dc5e852dfd48dea34168a3e9034d\",\"object\":\"chat.completion\",\"created\":1738863969,\"model\":\"Qwen/Qwen2.5-32B-Instruct\",\"choices\":[{\"index\":0,\"message\":{\"role\":\"assistant\",\"content\":\"{\\n  \\\"classification\\\": \\\"国际政治\\\",\\n  \\\"sentiment\\\": \\\"negative\\\"\\n}\"},\"finish_reason\":\"stop\"}],\"usage\":{\"prompt_tokens\":1667,\"completion_tokens\":18,\"total_tokens\":1685},\"system_fingerprint\":\"\"}\n",
      "=============================\n",
      "\n"
     ]
    },
    {
     "name": "stderr",
     "output_type": "stream",
     "text": [
      "Processing:  19%|█▉        | 200/1060 [06:46<48:42,  3.40s/it]  "
     ]
    },
    {
     "name": "stdout",
     "output_type": "stream",
     "text": [
      "===== 调试信息：服务器返回 =====\n",
      "{\"id\":\"0194dc5e8ac4be6b20cb4108153f9597\",\"object\":\"chat.completion\",\"created\":1738863971,\"model\":\"Qwen/Qwen2.5-32B-Instruct\",\"choices\":[{\"index\":0,\"message\":{\"role\":\"assistant\",\"content\":\"{\\n  \\\"classification\\\": \\\"国际政治\\\",\\n  \\\"sentiment\\\": \\\"neutral\\\"\\n}\"},\"finish_reason\":\"stop\"}],\"usage\":{\"prompt_tokens\":2825,\"completion_tokens\":18,\"total_tokens\":2843},\"system_fingerprint\":\"\"}\n",
      "=============================\n",
      "\n"
     ]
    },
    {
     "name": "stderr",
     "output_type": "stream",
     "text": [
      "Processing:  19%|█▉        | 201/1060 [06:48<40:57,  2.86s/it]"
     ]
    },
    {
     "name": "stdout",
     "output_type": "stream",
     "text": [
      "===== 调试信息：服务器返回 =====\n",
      "{\"id\":\"0194dc5e90bfe74f3aa9f502bfe73601\",\"object\":\"chat.completion\",\"created\":1738863972,\"model\":\"Qwen/Qwen2.5-32B-Instruct\",\"choices\":[{\"index\":0,\"message\":{\"role\":\"assistant\",\"content\":\"{\\n  \\\"classification\\\": \\\"劳动关系\\\",\\n  \\\"sentiment\\\": \\\"negative\\\"\\n}\"},\"finish_reason\":\"stop\"}],\"usage\":{\"prompt_tokens\":6633,\"completion_tokens\":18,\"total_tokens\":6651},\"system_fingerprint\":\"\"}\n",
      "=============================\n",
      "\n"
     ]
    },
    {
     "name": "stderr",
     "output_type": "stream",
     "text": [
      "Processing:  19%|█▉        | 202/1060 [06:50<38:08,  2.67s/it]"
     ]
    },
    {
     "name": "stdout",
     "output_type": "stream",
     "text": [
      "===== 调试信息：服务器返回 =====\n",
      "{\"id\":\"0194dc5e9915b9346b1b2135e3317df2\",\"object\":\"chat.completion\",\"created\":1738863974,\"model\":\"Qwen/Qwen2.5-32B-Instruct\",\"choices\":[{\"index\":0,\"message\":{\"role\":\"assistant\",\"content\":\"{\\n  \\\"classification\\\": \\\"经济\\\",\\n  \\\"sentiment\\\": \\\"positive\\\"\\n}\"},\"finish_reason\":\"stop\"}],\"usage\":{\"prompt_tokens\":1488,\"completion_tokens\":17,\"total_tokens\":1505},\"system_fingerprint\":\"\"}\n",
      "=============================\n",
      "\n"
     ]
    },
    {
     "name": "stderr",
     "output_type": "stream",
     "text": [
      "Processing:  19%|█▉        | 203/1060 [06:51<31:39,  2.22s/it]"
     ]
    },
    {
     "name": "stdout",
     "output_type": "stream",
     "text": [
      "===== 调试信息：服务器返回 =====\n",
      "{\"id\":\"0194dc5e9da618d99aec8bf5a04939a8\",\"object\":\"chat.completion\",\"created\":1738863975,\"model\":\"Qwen/Qwen2.5-32B-Instruct\",\"choices\":[{\"index\":0,\"message\":{\"role\":\"assistant\",\"content\":\"{\\n  \\\"classification\\\": \\\"商务活动\\\",\\n  \\\"sentiment\\\": \\\"negative\\\"\\n}\"},\"finish_reason\":\"stop\"}],\"usage\":{\"prompt_tokens\":1835,\"completion_tokens\":18,\"total_tokens\":1853},\"system_fingerprint\":\"\"}\n",
      "=============================\n",
      "\n"
     ]
    },
    {
     "name": "stderr",
     "output_type": "stream",
     "text": [
      "Processing:  19%|█▉        | 204/1060 [06:53<27:30,  1.93s/it]"
     ]
    },
    {
     "name": "stdout",
     "output_type": "stream",
     "text": [
      "===== 调试信息：服务器返回 =====\n",
      "{\"id\":\"0194dc5ea294d65fff4a64cb8f340aed\",\"object\":\"chat.completion\",\"created\":1738863977,\"model\":\"Qwen/Qwen2.5-32B-Instruct\",\"choices\":[{\"index\":0,\"message\":{\"role\":\"assistant\",\"content\":\"{\\n  \\\"classification\\\": \\\"卫生福利\\\",\\n  \\\"sentiment\\\": \\\"negative\\\"\\n}\"},\"finish_reason\":\"stop\"}],\"usage\":{\"prompt_tokens\":780,\"completion_tokens\":18,\"total_tokens\":798},\"system_fingerprint\":\"\"}\n",
      "=============================\n",
      "\n"
     ]
    },
    {
     "name": "stderr",
     "output_type": "stream",
     "text": [
      "Processing:  19%|█▉        | 205/1060 [06:54<25:03,  1.76s/it]"
     ]
    },
    {
     "name": "stdout",
     "output_type": "stream",
     "text": [
      "===== 调试信息：服务器返回 =====\n",
      "{\"id\":\"0194dc5ea7e2d085a9a51ed31294c5d7\",\"object\":\"chat.completion\",\"created\":1738863978,\"model\":\"Qwen/Qwen2.5-32B-Instruct\",\"choices\":[{\"index\":0,\"message\":{\"role\":\"assistant\",\"content\":\"{\\n  \\\"classification\\\": \\\"经济\\\",\\n  \\\"sentiment\\\": \\\"pleasure\\\"\\n}\"},\"finish_reason\":\"stop\"}],\"usage\":{\"prompt_tokens\":1561,\"completion_tokens\":18,\"total_tokens\":1579},\"system_fingerprint\":\"\"}\n",
      "=============================\n",
      "\n"
     ]
    },
    {
     "name": "stderr",
     "output_type": "stream",
     "text": [
      "Processing:  19%|█▉        | 206/1060 [06:55<22:29,  1.58s/it]"
     ]
    },
    {
     "name": "stdout",
     "output_type": "stream",
     "text": [
      "===== 调试信息：服务器返回 =====\n",
      "{\"id\":\"0194dc5eac64ba50ed426d2bd464bf84\",\"object\":\"chat.completion\",\"created\":1738863979,\"model\":\"Qwen/Qwen2.5-32B-Instruct\",\"choices\":[{\"index\":0,\"message\":{\"role\":\"assistant\",\"content\":\"{\\n  \\\"classification\\\": \\\"庆典\\\",\\n  \\\"sentiment\\\": \\\"pleasure\\\"\\n}\"},\"finish_reason\":\"stop\"}],\"usage\":{\"prompt_tokens\":531,\"completion_tokens\":18,\"total_tokens\":549},\"system_fingerprint\":\"\"}\n",
      "=============================\n",
      "\n"
     ]
    },
    {
     "name": "stderr",
     "output_type": "stream",
     "text": [
      "Processing:  20%|█▉        | 207/1060 [06:56<20:05,  1.41s/it]"
     ]
    },
    {
     "name": "stdout",
     "output_type": "stream",
     "text": [
      "===== 调试信息：服务器返回 =====\n",
      "{\"id\":\"0194dc5eb077cec0f0825b1a9404ce3d\",\"object\":\"chat.completion\",\"created\":1738863980,\"model\":\"Qwen/Qwen2.5-32B-Instruct\",\"choices\":[{\"index\":0,\"message\":{\"role\":\"assistant\",\"content\":\"{\\n  \\\"classification\\\": \\\"经济\\\",\\n  \\\"sentiment\\\": \\\"positive\\\"\\n}\"},\"finish_reason\":\"stop\"}],\"usage\":{\"prompt_tokens\":2350,\"completion_tokens\":17,\"total_tokens\":2367},\"system_fingerprint\":\"\"}\n",
      "=============================\n",
      "\n"
     ]
    },
    {
     "name": "stderr",
     "output_type": "stream",
     "text": [
      "Processing:  20%|█▉        | 208/1060 [06:57<19:29,  1.37s/it]"
     ]
    },
    {
     "name": "stdout",
     "output_type": "stream",
     "text": [
      "===== 调试信息：服务器返回 =====\n",
      "{\"id\":\"0194dc5eb57afcfd3f6052b18d39e771\",\"object\":\"chat.completion\",\"created\":1738863981,\"model\":\"Qwen/Qwen2.5-32B-Instruct\",\"choices\":[{\"index\":0,\"message\":{\"role\":\"assistant\",\"content\":\"{\\n  \\\"classification\\\": \\\"能源\\\",\\n  \\\"sentiment\\\": \\\"negative\\\"\\n}\"},\"finish_reason\":\"stop\"}],\"usage\":{\"prompt_tokens\":2033,\"completion_tokens\":17,\"total_tokens\":2050},\"system_fingerprint\":\"\"}\n",
      "=============================\n",
      "\n"
     ]
    },
    {
     "name": "stderr",
     "output_type": "stream",
     "text": [
      "Processing:  20%|█▉        | 209/1060 [06:59<19:07,  1.35s/it]"
     ]
    },
    {
     "name": "stdout",
     "output_type": "stream",
     "text": [
      "===== 调试信息：服务器返回 =====\n",
      "{\"id\":\"0194dc5eba68aced6f7d64402523bade\",\"object\":\"chat.completion\",\"created\":1738863983,\"model\":\"Qwen/Qwen2.5-32B-Instruct\",\"choices\":[{\"index\":0,\"message\":{\"role\":\"assistant\",\"content\":\"{\\n  \\\"classification\\\": \\\"文化活动\\\",\\n  \\\"sentiment\\\": \\\"neutral\\\"\\n}\"},\"finish_reason\":\"stop\"}],\"usage\":{\"prompt_tokens\":726,\"completion_tokens\":18,\"total_tokens\":744},\"system_fingerprint\":\"\"}\n",
      "=============================\n",
      "\n"
     ]
    },
    {
     "name": "stderr",
     "output_type": "stream",
     "text": [
      "Processing:  20%|█▉        | 210/1060 [07:00<18:05,  1.28s/it]"
     ]
    },
    {
     "name": "stdout",
     "output_type": "stream",
     "text": [
      "===== 调试信息：服务器返回 =====\n",
      "{\"id\":\"0194dc5ebebdc2c143e3f19ed286b45e\",\"object\":\"chat.completion\",\"created\":1738863984,\"model\":\"Qwen/Qwen2.5-32B-Instruct\",\"choices\":[{\"index\":0,\"message\":{\"role\":\"assistant\",\"content\":\"{\\n  \\\"classification\\\": \\\"国际政治\\\",\\n  \\\"sentiment\\\": \\\"negative\\\"\\n}\"},\"finish_reason\":\"stop\"}],\"usage\":{\"prompt_tokens\":1383,\"completion_tokens\":18,\"total_tokens\":1401},\"system_fingerprint\":\"\"}\n",
      "=============================\n",
      "\n"
     ]
    },
    {
     "name": "stderr",
     "output_type": "stream",
     "text": [
      "Processing:  20%|█▉        | 211/1060 [07:01<17:30,  1.24s/it]"
     ]
    },
    {
     "name": "stdout",
     "output_type": "stream",
     "text": [
      "===== 调试信息：服务器返回 =====\n",
      "{\"id\":\"0194dc5ec340f58535fc6f9df750e651\",\"object\":\"chat.completion\",\"created\":1738863985,\"model\":\"Qwen/Qwen2.5-32B-Instruct\",\"choices\":[{\"index\":0,\"message\":{\"role\":\"assistant\",\"content\":\"{\\n  \\\"classification\\\": \\\"国内政治\\\",\\n  \\\"sentiment\\\": \\\"negative\\\"\\n}\"},\"finish_reason\":\"stop\"}],\"usage\":{\"prompt_tokens\":1512,\"completion_tokens\":18,\"total_tokens\":1530},\"system_fingerprint\":\"\"}\n",
      "=============================\n",
      "\n"
     ]
    },
    {
     "name": "stderr",
     "output_type": "stream",
     "text": [
      "Processing:  20%|██        | 212/1060 [07:02<17:16,  1.22s/it]"
     ]
    },
    {
     "name": "stdout",
     "output_type": "stream",
     "text": [
      "===== 调试信息：服务器返回 =====\n",
      "{\"id\":\"0194dc5ec7f5d087e4f05e0ff1e19197\",\"object\":\"chat.completion\",\"created\":1738863986,\"model\":\"Qwen/Qwen2.5-32B-Instruct\",\"choices\":[{\"index\":0,\"message\":{\"role\":\"assistant\",\"content\":\"{\\n  \\\"classification\\\": \\\"经济\\\",\\n  \\\"sentiment\\\": \\\"negative\\\"\\n}\"},\"finish_reason\":\"stop\"}],\"usage\":{\"prompt_tokens\":2127,\"completion_tokens\":17,\"total_tokens\":2144},\"system_fingerprint\":\"\"}\n",
      "=============================\n",
      "\n"
     ]
    },
    {
     "name": "stderr",
     "output_type": "stream",
     "text": [
      "Processing:  20%|██        | 213/1060 [07:03<17:30,  1.24s/it]"
     ]
    },
    {
     "name": "stdout",
     "output_type": "stream",
     "text": [
      "===== 调试信息：服务器返回 =====\n",
      "{\"id\":\"0194dc5ecd069c96e869d449e283397c\",\"object\":\"chat.completion\",\"created\":1738863987,\"model\":\"Qwen/Qwen2.5-32B-Instruct\",\"choices\":[{\"index\":0,\"message\":{\"role\":\"assistant\",\"content\":\"{\\n  \\\"classification\\\": \\\"经济\\\",\\n  \\\"sentiment\\\": \\\"neutral\\\"\\n}\"},\"finish_reason\":\"stop\"}],\"usage\":{\"prompt_tokens\":2187,\"completion_tokens\":17,\"total_tokens\":2204},\"system_fingerprint\":\"\"}\n",
      "=============================\n",
      "\n"
     ]
    },
    {
     "name": "stderr",
     "output_type": "stream",
     "text": [
      "Processing:  20%|██        | 214/1060 [07:05<17:42,  1.26s/it]"
     ]
    },
    {
     "name": "stdout",
     "output_type": "stream",
     "text": [
      "===== 调试信息：服务器返回 =====\n",
      "{\"id\":\"0194dc5ed20759fdbecf9239755679fc\",\"object\":\"chat.completion\",\"created\":1738863989,\"model\":\"Qwen/Qwen2.5-32B-Instruct\",\"choices\":[{\"index\":0,\"message\":{\"role\":\"assistant\",\"content\":\"{\\n  \\\"classification\\\": \\\"经济\\\",\\n  \\\"sentiment\\\": \\\"positive\\\"\\n}\"},\"finish_reason\":\"stop\"}],\"usage\":{\"prompt_tokens\":1554,\"completion_tokens\":17,\"total_tokens\":1571},\"system_fingerprint\":\"\"}\n",
      "=============================\n",
      "\n"
     ]
    },
    {
     "name": "stderr",
     "output_type": "stream",
     "text": [
      "Processing:  20%|██        | 215/1060 [07:06<17:22,  1.23s/it]"
     ]
    },
    {
     "name": "stdout",
     "output_type": "stream",
     "text": [
      "===== 调试信息：服务器返回 =====\n",
      "{\"id\":\"0194dc5ed69cfddb63d747298a871b84\",\"object\":\"chat.completion\",\"created\":1738863990,\"model\":\"Qwen/Qwen2.5-32B-Instruct\",\"choices\":[{\"index\":0,\"message\":{\"role\":\"assistant\",\"content\":\"{\\n  \\\"classification\\\": \\\"商务活动\\\",\\n  \\\"sentiment\\\": \\\"positive\\\"\\n}\"},\"finish_reason\":\"stop\"}],\"usage\":{\"prompt_tokens\":1257,\"completion_tokens\":18,\"total_tokens\":1275},\"system_fingerprint\":\"\"}\n",
      "=============================\n",
      "\n"
     ]
    },
    {
     "name": "stderr",
     "output_type": "stream",
     "text": [
      "Processing:  20%|██        | 216/1060 [07:07<16:57,  1.21s/it]"
     ]
    },
    {
     "name": "stdout",
     "output_type": "stream",
     "text": [
      "===== 调试信息：服务器返回 =====\n",
      "{\"id\":\"0194dc5edb259bf0581957d9b70a629a\",\"object\":\"chat.completion\",\"created\":1738863991,\"model\":\"Qwen/Qwen2.5-32B-Instruct\",\"choices\":[{\"index\":0,\"message\":{\"role\":\"assistant\",\"content\":\"{\\n  \\\"classification\\\": \\\"商务活动\\\",\\n  \\\"sentiment\\\": \\\"negative\\\"\\n}\"},\"finish_reason\":\"stop\"}],\"usage\":{\"prompt_tokens\":1338,\"completion_tokens\":18,\"total_tokens\":1356},\"system_fingerprint\":\"\"}\n",
      "=============================\n",
      "\n"
     ]
    },
    {
     "name": "stderr",
     "output_type": "stream",
     "text": [
      "Processing:  20%|██        | 217/1060 [07:08<16:54,  1.20s/it]"
     ]
    },
    {
     "name": "stdout",
     "output_type": "stream",
     "text": [
      "===== 调试信息：服务器返回 =====\n",
      "{\"id\":\"0194dc5edfb22191a1723ce8182e6e8f\",\"object\":\"chat.completion\",\"created\":1738863992,\"model\":\"Qwen/Qwen2.5-32B-Instruct\",\"choices\":[{\"index\":0,\"message\":{\"role\":\"assistant\",\"content\":\"{\\n  \\\"classification\\\": \\\"国际政治\\\",\\n  \\\"sentiment\\\": \\\"positive\\\"\\n}\"},\"finish_reason\":\"stop\"}],\"usage\":{\"prompt_tokens\":1765,\"completion_tokens\":18,\"total_tokens\":1783},\"system_fingerprint\":\"\"}\n",
      "=============================\n",
      "\n"
     ]
    },
    {
     "name": "stderr",
     "output_type": "stream",
     "text": [
      "Processing:  21%|██        | 218/1060 [07:09<16:52,  1.20s/it]"
     ]
    },
    {
     "name": "stdout",
     "output_type": "stream",
     "text": [
      "===== 调试信息：服务器返回 =====\n",
      "{\"id\":\"0194dc5ee4f267a7637fd72d859feae0\",\"object\":\"chat.completion\",\"created\":1738863994,\"model\":\"Qwen/Qwen2.5-32B-Instruct\",\"choices\":[{\"index\":0,\"message\":{\"role\":\"assistant\",\"content\":\"{\\n  \\\"classification\\\": \\\"商务活动\\\",\\n  \\\"sentiment\\\": \\\"neutral\\\"\\n}\"},\"finish_reason\":\"stop\"}],\"usage\":{\"prompt_tokens\":6033,\"completion_tokens\":18,\"total_tokens\":6051},\"system_fingerprint\":\"\"}\n",
      "=============================\n",
      "\n"
     ]
    },
    {
     "name": "stderr",
     "output_type": "stream",
     "text": [
      "Processing:  21%|██        | 219/1060 [07:11<20:36,  1.47s/it]"
     ]
    },
    {
     "name": "stdout",
     "output_type": "stream",
     "text": [
      "===== 调试信息：服务器返回 =====\n",
      "{\"id\":\"0194dc5eec98ccefe7498f16c10bc3c4\",\"object\":\"chat.completion\",\"created\":1738863996,\"model\":\"Qwen/Qwen2.5-32B-Instruct\",\"choices\":[{\"index\":0,\"message\":{\"role\":\"assistant\",\"content\":\"{\\n  \\\"classification\\\": \\\"商务活动\\\",\\n  \\\"sentiment\\\": \\\"neutral\\\"\\n}\"},\"finish_reason\":\"stop\"}],\"usage\":{\"prompt_tokens\":542,\"completion_tokens\":18,\"total_tokens\":560},\"system_fingerprint\":\"\"}\n",
      "=============================\n",
      "\n"
     ]
    },
    {
     "name": "stderr",
     "output_type": "stream",
     "text": [
      "Processing:  21%|██        | 220/1060 [07:13<18:49,  1.34s/it]"
     ]
    },
    {
     "name": "stdout",
     "output_type": "stream",
     "text": [
      "===== 调试信息：服务器返回 =====\n",
      "{\"id\":\"0194dc5ef0ae8e490265ee1aeb8a40b7\",\"object\":\"chat.completion\",\"created\":1738863997,\"model\":\"Qwen/Qwen2.5-32B-Instruct\",\"choices\":[{\"index\":0,\"message\":{\"role\":\"assistant\",\"content\":\"{\\n  \\\"classification\\\": \\\"经济\\\",\\n  \\\"sentiment\\\": \\\"negative\\\"\\n}\"},\"finish_reason\":\"stop\"}],\"usage\":{\"prompt_tokens\":2048,\"completion_tokens\":17,\"total_tokens\":2065},\"system_fingerprint\":\"\"}\n",
      "=============================\n",
      "\n"
     ]
    },
    {
     "name": "stderr",
     "output_type": "stream",
     "text": [
      "Processing:  21%|██        | 221/1060 [07:14<18:22,  1.31s/it]"
     ]
    },
    {
     "name": "stdout",
     "output_type": "stream",
     "text": [
      "===== 调试信息：服务器返回 =====\n",
      "{\"id\":\"0194dc5ef5961b12b81c1b4c41303b39\",\"object\":\"chat.completion\",\"created\":1738863998,\"model\":\"Qwen/Qwen2.5-32B-Instruct\",\"choices\":[{\"index\":0,\"message\":{\"role\":\"assistant\",\"content\":\"{\\n  \\\"classification\\\": \\\"商务活动\\\",\\n  \\\"sentiment\\\": \\\"negative\\\"\\n}\"},\"finish_reason\":\"stop\"}],\"usage\":{\"prompt_tokens\":1802,\"completion_tokens\":18,\"total_tokens\":1820},\"system_fingerprint\":\"\"}\n",
      "=============================\n",
      "\n"
     ]
    },
    {
     "name": "stderr",
     "output_type": "stream",
     "text": [
      "Processing:  21%|██        | 222/1060 [07:15<18:05,  1.29s/it]"
     ]
    },
    {
     "name": "stdout",
     "output_type": "stream",
     "text": [
      "===== 调试信息：服务器返回 =====\n",
      "{\"id\":\"0194dc5efa7be34c02abf3d2eff9d699\",\"object\":\"chat.completion\",\"created\":1738863999,\"model\":\"Qwen/Qwen2.5-32B-Instruct\",\"choices\":[{\"index\":0,\"message\":{\"role\":\"assistant\",\"content\":\"{\\n  \\\"classification\\\": \\\"文化活动\\\",\\n  \\\"sentiment\\\": \\\"neutral\\\"\\n}\"},\"finish_reason\":\"stop\"}],\"usage\":{\"prompt_tokens\":1654,\"completion_tokens\":18,\"total_tokens\":1672},\"system_fingerprint\":\"\"}\n",
      "=============================\n",
      "\n"
     ]
    },
    {
     "name": "stderr",
     "output_type": "stream",
     "text": [
      "Processing:  21%|██        | 223/1060 [07:16<17:48,  1.28s/it]"
     ]
    },
    {
     "name": "stdout",
     "output_type": "stream",
     "text": [
      "===== 调试信息：服务器返回 =====\n",
      "{\"id\":\"0194dc5eff705d742764f1a70f3126f0\",\"object\":\"chat.completion\",\"created\":1738864000,\"model\":\"Qwen/Qwen2.5-32B-Instruct\",\"choices\":[{\"index\":0,\"message\":{\"role\":\"assistant\",\"content\":\"{\\n  \\\"classification\\\": \\\"国内政治\\\",\\n  \\\"sentiment\\\": \\\"negative\\\"\\n}\"},\"finish_reason\":\"stop\"}],\"usage\":{\"prompt_tokens\":1306,\"completion_tokens\":18,\"total_tokens\":1324},\"system_fingerprint\":\"\"}\n",
      "=============================\n",
      "\n"
     ]
    },
    {
     "name": "stderr",
     "output_type": "stream",
     "text": [
      "Processing:  21%|██        | 224/1060 [07:17<17:28,  1.25s/it]"
     ]
    },
    {
     "name": "stdout",
     "output_type": "stream",
     "text": [
      "===== 调试信息：服务器返回 =====\n",
      "{\"id\":\"0194dc5f03ffce4a34cf49d8d1df2c0f\",\"object\":\"chat.completion\",\"created\":1738864002,\"model\":\"Qwen/Qwen2.5-32B-Instruct\",\"choices\":[{\"index\":0,\"message\":{\"role\":\"assistant\",\"content\":\"{\\n  \\\"classification\\\": \\\"国内政治\\\",\\n  \\\"sentiment\\\": \\\"neutral\\\"\\n}\"},\"finish_reason\":\"stop\"}],\"usage\":{\"prompt_tokens\":1121,\"completion_tokens\":18,\"total_tokens\":1139},\"system_fingerprint\":\"\"}\n",
      "=============================\n",
      "\n"
     ]
    },
    {
     "name": "stderr",
     "output_type": "stream",
     "text": [
      "Processing:  21%|██        | 225/1060 [07:19<16:57,  1.22s/it]"
     ]
    },
    {
     "name": "stdout",
     "output_type": "stream",
     "text": [
      "===== 调试信息：服务器返回 =====\n",
      "{\"id\":\"0194dc5f08503f6334624e5b1501d800\",\"object\":\"chat.completion\",\"created\":1738864003,\"model\":\"Qwen/Qwen2.5-32B-Instruct\",\"choices\":[{\"index\":0,\"message\":{\"role\":\"assistant\",\"content\":\"{\\n  \\\"classification\\\": \\\"商务活动\\\",\\n  \\\"sentiment\\\": \\\"pleasure\\\"\\n}\"},\"finish_reason\":\"stop\"}],\"usage\":{\"prompt_tokens\":1317,\"completion_tokens\":19,\"total_tokens\":1336},\"system_fingerprint\":\"\"}\n",
      "=============================\n",
      "\n"
     ]
    },
    {
     "name": "stderr",
     "output_type": "stream",
     "text": [
      "Processing:  21%|██▏       | 226/1060 [07:20<16:36,  1.19s/it]"
     ]
    },
    {
     "name": "stdout",
     "output_type": "stream",
     "text": [
      "===== 调试信息：服务器返回 =====\n",
      "{\"id\":\"0194dc5f0ccc086bdcd531c691da1cb5\",\"object\":\"chat.completion\",\"created\":1738864004,\"model\":\"Qwen/Qwen2.5-32B-Instruct\",\"choices\":[{\"index\":0,\"message\":{\"role\":\"assistant\",\"content\":\"{\\n  \\\"classification\\\": \\\"经济\\\",\\n  \\\"sentiment\\\": \\\"neutral\\\"\\n}\"},\"finish_reason\":\"stop\"}],\"usage\":{\"prompt_tokens\":3222,\"completion_tokens\":17,\"total_tokens\":3239},\"system_fingerprint\":\"\"}\n",
      "=============================\n",
      "\n"
     ]
    },
    {
     "name": "stderr",
     "output_type": "stream",
     "text": [
      "Processing:  21%|██▏       | 227/1060 [07:21<17:42,  1.28s/it]"
     ]
    },
    {
     "name": "stdout",
     "output_type": "stream",
     "text": [
      "===== 调试信息：服务器返回 =====\n",
      "{\"id\":\"0194dc5f12a3caed56a38f61c7be7150\",\"object\":\"chat.completion\",\"created\":1738864005,\"model\":\"Qwen/Qwen2.5-32B-Instruct\",\"choices\":[{\"index\":0,\"message\":{\"role\":\"assistant\",\"content\":\"{\\n  \\\"classification\\\": \\\"教育\\\",\\n  \\\"sentiment\\\": \\\"negative\\\"\\n}\"},\"finish_reason\":\"stop\"}],\"usage\":{\"prompt_tokens\":1810,\"completion_tokens\":17,\"total_tokens\":1827},\"system_fingerprint\":\"\"}\n",
      "=============================\n",
      "\n"
     ]
    },
    {
     "name": "stderr",
     "output_type": "stream",
     "text": [
      "Processing:  22%|██▏       | 228/1060 [07:23<18:07,  1.31s/it]"
     ]
    },
    {
     "name": "stdout",
     "output_type": "stream",
     "text": [
      "===== 调试信息：服务器返回 =====\n",
      "{\"id\":\"0194dc5f17e01ce84edf2ddae3b80a42\",\"object\":\"chat.completion\",\"created\":1738864007,\"model\":\"Qwen/Qwen2.5-32B-Instruct\",\"choices\":[{\"index\":0,\"message\":{\"role\":\"assistant\",\"content\":\"{\\n  \\\"classification\\\": \\\"商务活动\\\",\\n  \\\"sentiment\\\": \\\"positive\\\"\\n}\"},\"finish_reason\":\"stop\"}],\"usage\":{\"prompt_tokens\":1444,\"completion_tokens\":18,\"total_tokens\":1462},\"system_fingerprint\":\"\"}\n",
      "=============================\n",
      "\n"
     ]
    },
    {
     "name": "stderr",
     "output_type": "stream",
     "text": [
      "Processing:  22%|██▏       | 229/1060 [07:24<17:44,  1.28s/it]"
     ]
    },
    {
     "name": "stdout",
     "output_type": "stream",
     "text": [
      "===== 调试信息：服务器返回 =====\n",
      "{\"id\":\"0194dc5f1cda5f3c4b51ca79f5eb71ba\",\"object\":\"chat.completion\",\"created\":1738864008,\"model\":\"Qwen/Qwen2.5-32B-Instruct\",\"choices\":[{\"index\":0,\"message\":{\"role\":\"assistant\",\"content\":\"{\\n  \\\"classification\\\": \\\"国际政治\\\",\\n  \\\"sentiment\\\": \\\"neutral\\\"\\n}\"},\"finish_reason\":\"stop\"}],\"usage\":{\"prompt_tokens\":3326,\"completion_tokens\":18,\"total_tokens\":3344},\"system_fingerprint\":\"\"}\n",
      "=============================\n",
      "\n"
     ]
    },
    {
     "name": "stderr",
     "output_type": "stream",
     "text": [
      "Processing:  22%|██▏       | 230/1060 [07:25<18:36,  1.35s/it]"
     ]
    },
    {
     "name": "stdout",
     "output_type": "stream",
     "text": [
      "触发速率限制 (HTTP 429)，等待60秒后重试...\n",
      "===== 调试信息：服务器返回 =====\n",
      "{\"id\":\"0194dc600d73c077a3519a22e1d5db63\",\"object\":\"chat.completion\",\"created\":1738864070,\"model\":\"Qwen/Qwen2.5-32B-Instruct\",\"choices\":[{\"index\":0,\"message\":{\"role\":\"assistant\",\"content\":\"{\\n  \\\"classification\\\": \\\"国际政治\\\",\\n  \\\"sentiment\\\": \\\"neutral\\\"\\n}\"},\"finish_reason\":\"stop\"}],\"usage\":{\"prompt_tokens\":1838,\"completion_tokens\":18,\"total_tokens\":1856},\"system_fingerprint\":\"\"}\n",
      "=============================\n",
      "\n"
     ]
    },
    {
     "name": "stderr",
     "output_type": "stream",
     "text": [
      "Processing:  22%|██▏       | 231/1060 [08:27<4:27:18, 19.35s/it]"
     ]
    },
    {
     "name": "stdout",
     "output_type": "stream",
     "text": [
      "===== 调试信息：服务器返回 =====\n",
      "{\"id\":\"0194dc60124575beb8463cb9dd28269b\",\"object\":\"chat.completion\",\"created\":1738864071,\"model\":\"Qwen/Qwen2.5-32B-Instruct\",\"choices\":[{\"index\":0,\"message\":{\"role\":\"assistant\",\"content\":\"{\\n  \\\"classification\\\": \\\"能源\\\",\\n  \\\"sentiment\\\": \\\"positive\\\"\\n}\"},\"finish_reason\":\"stop\"}],\"usage\":{\"prompt_tokens\":1810,\"completion_tokens\":17,\"total_tokens\":1827},\"system_fingerprint\":\"\"}\n",
      "=============================\n",
      "\n"
     ]
    },
    {
     "name": "stderr",
     "output_type": "stream",
     "text": [
      "Processing:  22%|██▏       | 232/1060 [08:28<3:11:55, 13.91s/it]"
     ]
    },
    {
     "name": "stdout",
     "output_type": "stream",
     "text": [
      "===== 调试信息：服务器返回 =====\n",
      "{\"id\":\"0194dc6016ed54edc1a1243d1d695021\",\"object\":\"chat.completion\",\"created\":1738864072,\"model\":\"Qwen/Qwen2.5-32B-Instruct\",\"choices\":[{\"index\":0,\"message\":{\"role\":\"assistant\",\"content\":\"{\\n  \\\"classification\\\": \\\"经济\\\",\\n  \\\"sentiment\\\": \\\"neutral\\\"\\n}\"},\"finish_reason\":\"stop\"}],\"usage\":{\"prompt_tokens\":1672,\"completion_tokens\":17,\"total_tokens\":1689},\"system_fingerprint\":\"\"}\n",
      "=============================\n",
      "\n"
     ]
    },
    {
     "name": "stderr",
     "output_type": "stream",
     "text": [
      "Processing:  22%|██▏       | 233/1060 [08:29<2:19:10, 10.10s/it]"
     ]
    },
    {
     "name": "stdout",
     "output_type": "stream",
     "text": [
      "===== 调试信息：服务器返回 =====\n",
      "{\"id\":\"0194dc601bcaf46bf1d1904514d39e0d\",\"object\":\"chat.completion\",\"created\":1738864073,\"model\":\"Qwen/Qwen2.5-32B-Instruct\",\"choices\":[{\"index\":0,\"message\":{\"role\":\"assistant\",\"content\":\"{\\n  \\\"classification\\\": \\\"体育\\\",\\n  \\\"sentiment\\\": \\\"neutral\\\"\\n}\"},\"finish_reason\":\"stop\"}],\"usage\":{\"prompt_tokens\":1610,\"completion_tokens\":17,\"total_tokens\":1627},\"system_fingerprint\":\"\"}\n",
      "=============================\n",
      "\n"
     ]
    },
    {
     "name": "stderr",
     "output_type": "stream",
     "text": [
      "Processing:  22%|██▏       | 234/1060 [08:30<1:42:19,  7.43s/it]"
     ]
    },
    {
     "name": "stdout",
     "output_type": "stream",
     "text": [
      "===== 调试信息：服务器返回 =====\n",
      "{\"id\":\"0194dc602072e7b7dd4d7230342e2415\",\"object\":\"chat.completion\",\"created\":1738864074,\"model\":\"Qwen/Qwen2.5-32B-Instruct\",\"choices\":[{\"index\":0,\"message\":{\"role\":\"assistant\",\"content\":\"{\\n  \\\"classification\\\": \\\"庆典\\\",\\n  \\\"sentiment\\\": \\\"pleasure\\\"\\n}\"},\"finish_reason\":\"stop\"}],\"usage\":{\"prompt_tokens\":1417,\"completion_tokens\":18,\"total_tokens\":1435},\"system_fingerprint\":\"\"}\n",
      "=============================\n",
      "\n"
     ]
    },
    {
     "name": "stderr",
     "output_type": "stream",
     "text": [
      "Processing:  22%|██▏       | 235/1060 [08:31<1:16:26,  5.56s/it]"
     ]
    },
    {
     "name": "stdout",
     "output_type": "stream",
     "text": [
      "===== 调试信息：服务器返回 =====\n",
      "{\"id\":\"0194dc6025327dadd8c9abb655dc06ee\",\"object\":\"chat.completion\",\"created\":1738864076,\"model\":\"Qwen/Qwen2.5-32B-Instruct\",\"choices\":[{\"index\":0,\"message\":{\"role\":\"assistant\",\"content\":\"{\\n  \\\"classification\\\": \\\"经济\\\",\\n  \\\"sentiment\\\": \\\"negative\\\"\\n}\"},\"finish_reason\":\"stop\"}],\"usage\":{\"prompt_tokens\":3430,\"completion_tokens\":17,\"total_tokens\":3447},\"system_fingerprint\":\"\"}\n",
      "=============================\n",
      "\n"
     ]
    },
    {
     "name": "stderr",
     "output_type": "stream",
     "text": [
      "Processing:  22%|██▏       | 236/1060 [08:33<59:37,  4.34s/it]  "
     ]
    },
    {
     "name": "stdout",
     "output_type": "stream",
     "text": [
      "===== 调试信息：服务器返回 =====\n",
      "{\"id\":\"0194dc602b2d18bd3567a2d0baa033a0\",\"object\":\"chat.completion\",\"created\":1738864077,\"model\":\"Qwen/Qwen2.5-32B-Instruct\",\"choices\":[{\"index\":0,\"message\":{\"role\":\"assistant\",\"content\":\"{\\n  \\\"classification\\\": \\\"军事和防御\\\",\\n  \\\"sentiment\\\": \\\"negative\\\"\\n}\"},\"finish_reason\":\"stop\"}],\"usage\":{\"prompt_tokens\":5982,\"completion_tokens\":19,\"total_tokens\":6001},\"system_fingerprint\":\"\"}\n",
      "=============================\n",
      "\n"
     ]
    },
    {
     "name": "stderr",
     "output_type": "stream",
     "text": [
      "Processing:  22%|██▏       | 237/1060 [08:35<50:17,  3.67s/it]"
     ]
    },
    {
     "name": "stdout",
     "output_type": "stream",
     "text": [
      "===== 调试信息：服务器返回 =====\n",
      "{\"id\":\"0194dc60330a03e02a66683680c67d11\",\"object\":\"chat.completion\",\"created\":1738864079,\"model\":\"Qwen/Qwen2.5-32B-Instruct\",\"choices\":[{\"index\":0,\"message\":{\"role\":\"assistant\",\"content\":\"{\\n  \\\"classification\\\": \\\"国际政治\\\",\\n  \\\"sentiment\\\": \\\"neutral\\\"\\n}\"},\"finish_reason\":\"stop\"}],\"usage\":{\"prompt_tokens\":943,\"completion_tokens\":18,\"total_tokens\":961},\"system_fingerprint\":\"\"}\n",
      "=============================\n",
      "\n"
     ]
    },
    {
     "name": "stderr",
     "output_type": "stream",
     "text": [
      "Processing:  22%|██▏       | 238/1060 [08:36<39:51,  2.91s/it]"
     ]
    },
    {
     "name": "stdout",
     "output_type": "stream",
     "text": [
      "===== 调试信息：服务器返回 =====\n",
      "{\"id\":\"0194dc60378fcd8ccffbf5f807b1d7ae\",\"object\":\"chat.completion\",\"created\":1738864080,\"model\":\"Qwen/Qwen2.5-32B-Instruct\",\"choices\":[{\"index\":0,\"message\":{\"role\":\"assistant\",\"content\":\"{\\n  \\\"classification\\\": \\\"国际政治\\\",\\n  \\\"sentiment\\\": \\\"neutral\\\"\\n}\"},\"finish_reason\":\"stop\"}],\"usage\":{\"prompt_tokens\":1229,\"completion_tokens\":18,\"total_tokens\":1247},\"system_fingerprint\":\"\"}\n",
      "=============================\n",
      "\n"
     ]
    },
    {
     "name": "stderr",
     "output_type": "stream",
     "text": [
      "Processing:  23%|██▎       | 239/1060 [08:37<32:42,  2.39s/it]"
     ]
    },
    {
     "name": "stdout",
     "output_type": "stream",
     "text": [
      "===== 调试信息：服务器返回 =====\n",
      "{\"id\":\"0194dc603c2bf37904c5175f8d06e8dc\",\"object\":\"chat.completion\",\"created\":1738864081,\"model\":\"Qwen/Qwen2.5-32B-Instruct\",\"choices\":[{\"index\":0,\"message\":{\"role\":\"assistant\",\"content\":\"{\\n  \\\"classification\\\": \\\"国际政治\\\",\\n  \\\"sentiment\\\": \\\"negative\\\"\\n}\"},\"finish_reason\":\"stop\"}],\"usage\":{\"prompt_tokens\":1727,\"completion_tokens\":18,\"total_tokens\":1745},\"system_fingerprint\":\"\"}\n",
      "=============================\n",
      "\n"
     ]
    },
    {
     "name": "stderr",
     "output_type": "stream",
     "text": [
      "Processing:  23%|██▎       | 240/1060 [08:39<27:52,  2.04s/it]"
     ]
    },
    {
     "name": "stdout",
     "output_type": "stream",
     "text": [
      "===== 调试信息：服务器返回 =====\n",
      "{\"id\":\"0194dc6040dd8f0e268090c1ba0ba6cb\",\"object\":\"chat.completion\",\"created\":1738864083,\"model\":\"Qwen/Qwen2.5-32B-Instruct\",\"choices\":[{\"index\":0,\"message\":{\"role\":\"assistant\",\"content\":\"{\\n  \\\"classification\\\": \\\"国际政治\\\",\\n  \\\"sentiment\\\": \\\"neutral\\\"\\n}\"},\"finish_reason\":\"stop\"}],\"usage\":{\"prompt_tokens\":2224,\"completion_tokens\":18,\"total_tokens\":2242},\"system_fingerprint\":\"\"}\n",
      "=============================\n",
      "\n"
     ]
    },
    {
     "name": "stderr",
     "output_type": "stream",
     "text": [
      "Processing:  23%|██▎       | 241/1060 [08:40<24:40,  1.81s/it]"
     ]
    },
    {
     "name": "stdout",
     "output_type": "stream",
     "text": [
      "===== 调试信息：服务器返回 =====\n",
      "{\"id\":\"0194dc604606790cfa8ed623d78905be\",\"object\":\"chat.completion\",\"created\":1738864084,\"model\":\"Qwen/Qwen2.5-32B-Instruct\",\"choices\":[{\"index\":0,\"message\":{\"role\":\"assistant\",\"content\":\"{\\n  \\\"classification\\\": \\\"国际政治\\\",\\n  \\\"sentiment\\\": \\\"neutral\\\"\\n}\"},\"finish_reason\":\"stop\"}],\"usage\":{\"prompt_tokens\":2451,\"completion_tokens\":18,\"total_tokens\":2469},\"system_fingerprint\":\"\"}\n",
      "=============================\n",
      "\n"
     ]
    },
    {
     "name": "stderr",
     "output_type": "stream",
     "text": [
      "Processing:  23%|██▎       | 242/1060 [08:41<22:54,  1.68s/it]"
     ]
    },
    {
     "name": "stdout",
     "output_type": "stream",
     "text": [
      "===== 调试信息：服务器返回 =====\n",
      "{\"id\":\"0194dc604bbc256c82090aee35b25555\",\"object\":\"chat.completion\",\"created\":1738864085,\"model\":\"Qwen/Qwen2.5-32B-Instruct\",\"choices\":[{\"index\":0,\"message\":{\"role\":\"assistant\",\"content\":\"{\\n  \\\"classification\\\": \\\"体育\\\",\\n  \\\"sentiment\\\": \\\"positive\\\"\\n}\"},\"finish_reason\":\"stop\"}],\"usage\":{\"prompt_tokens\":1574,\"completion_tokens\":17,\"total_tokens\":1591},\"system_fingerprint\":\"\"}\n",
      "=============================\n",
      "\n"
     ]
    },
    {
     "name": "stderr",
     "output_type": "stream",
     "text": [
      "Processing:  23%|██▎       | 243/1060 [08:43<21:12,  1.56s/it]"
     ]
    },
    {
     "name": "stdout",
     "output_type": "stream",
     "text": [
      "===== 调试信息：服务器返回 =====\n",
      "{\"id\":\"0194dc60503b2ffe5a5d3d3cb70ddc3d\",\"object\":\"chat.completion\",\"created\":1738864087,\"model\":\"Qwen/Qwen2.5-32B-Instruct\",\"choices\":[{\"index\":0,\"message\":{\"role\":\"assistant\",\"content\":\"{\\n  \\\"classification\\\": \\\"国际政治\\\",\\n  \\\"sentiment\\\": \\\"negative\\\"\\n}\"},\"finish_reason\":\"stop\"}],\"usage\":{\"prompt_tokens\":2338,\"completion_tokens\":18,\"total_tokens\":2356},\"system_fingerprint\":\"\"}\n",
      "=============================\n",
      "\n"
     ]
    },
    {
     "name": "stderr",
     "output_type": "stream",
     "text": [
      "Processing:  23%|██▎       | 244/1060 [08:44<20:03,  1.48s/it]"
     ]
    },
    {
     "name": "stdout",
     "output_type": "stream",
     "text": [
      "===== 调试信息：服务器返回 =====\n",
      "{\"id\":\"0194dc605707638bc7776e2d293fc2af\",\"object\":\"chat.completion\",\"created\":1738864088,\"model\":\"Qwen/Qwen2.5-32B-Instruct\",\"choices\":[{\"index\":0,\"message\":{\"role\":\"assistant\",\"content\":\"{\\n  \\\"classification\\\": \\\"商务活动\\\",\\n  \\\"sentiment\\\": \\\"neutral\\\"\\n}\"},\"finish_reason\":\"stop\"}],\"usage\":{\"prompt_tokens\":9640,\"completion_tokens\":18,\"total_tokens\":9658},\"system_fingerprint\":\"\"}\n",
      "=============================\n",
      "\n"
     ]
    },
    {
     "name": "stderr",
     "output_type": "stream",
     "text": [
      "Processing:  23%|██▎       | 245/1060 [08:47<26:24,  1.94s/it]"
     ]
    },
    {
     "name": "stdout",
     "output_type": "stream",
     "text": [
      "===== 调试信息：服务器返回 =====\n",
      "{\"id\":\"0194dc60611523ae1856404f4303dd12\",\"object\":\"chat.completion\",\"created\":1738864091,\"model\":\"Qwen/Qwen2.5-32B-Instruct\",\"choices\":[{\"index\":0,\"message\":{\"role\":\"assistant\",\"content\":\"{\\n  \\\"classification\\\": \\\"经济\\\",\\n  \\\"sentiment\\\": \\\"negative\\\"\\n}\"},\"finish_reason\":\"stop\"}],\"usage\":{\"prompt_tokens\":1964,\"completion_tokens\":17,\"total_tokens\":1981},\"system_fingerprint\":\"\"}\n",
      "=============================\n",
      "\n"
     ]
    },
    {
     "name": "stderr",
     "output_type": "stream",
     "text": [
      "Processing:  23%|██▎       | 246/1060 [08:48<23:21,  1.72s/it]"
     ]
    },
    {
     "name": "stdout",
     "output_type": "stream",
     "text": [
      "===== 调试信息：服务器返回 =====\n",
      "{\"id\":\"0194dc6065e29b5c873838b42442b774\",\"object\":\"chat.completion\",\"created\":1738864092,\"model\":\"Qwen/Qwen2.5-32B-Instruct\",\"choices\":[{\"index\":0,\"message\":{\"role\":\"assistant\",\"content\":\"{\\n  \\\"classification\\\": \\\"经济\\\",\\n  \\\"sentiment\\\": \\\"pleasure\\\"\\n}\"},\"finish_reason\":\"stop\"}],\"usage\":{\"prompt_tokens\":1657,\"completion_tokens\":18,\"total_tokens\":1675},\"system_fingerprint\":\"\"}\n",
      "=============================\n",
      "\n"
     ]
    },
    {
     "name": "stderr",
     "output_type": "stream",
     "text": [
      "Processing:  23%|██▎       | 247/1060 [08:49<21:16,  1.57s/it]"
     ]
    },
    {
     "name": "stdout",
     "output_type": "stream",
     "text": [
      "===== 调试信息：服务器返回 =====\n",
      "{\"id\":\"0194dc606a884a53124864ef7232d7f0\",\"object\":\"chat.completion\",\"created\":1738864093,\"model\":\"Qwen/Qwen2.5-32B-Instruct\",\"choices\":[{\"index\":0,\"message\":{\"role\":\"assistant\",\"content\":\"{\\n  \\\"classification\\\": \\\"时尚\\\",\\n  \\\"sentiment\\\": \\\"positive\\\"\\n}\"},\"finish_reason\":\"stop\"}],\"usage\":{\"prompt_tokens\":1979,\"completion_tokens\":17,\"total_tokens\":1996},\"system_fingerprint\":\"\"}\n",
      "=============================\n",
      "\n"
     ]
    },
    {
     "name": "stderr",
     "output_type": "stream",
     "text": [
      "Processing:  23%|██▎       | 248/1060 [08:50<19:56,  1.47s/it]"
     ]
    },
    {
     "name": "stdout",
     "output_type": "stream",
     "text": [
      "===== 调试信息：服务器返回 =====\n",
      "{\"id\":\"0194dc606f70ad15c5ad711caf9c152e\",\"object\":\"chat.completion\",\"created\":1738864095,\"model\":\"Qwen/Qwen2.5-32B-Instruct\",\"choices\":[{\"index\":0,\"message\":{\"role\":\"assistant\",\"content\":\"{\\n  \\\"classification\\\": \\\"经济\\\",\\n  \\\"sentiment\\\": \\\"neutral\\\"\\n}\"},\"finish_reason\":\"stop\"}],\"usage\":{\"prompt_tokens\":1966,\"completion_tokens\":17,\"total_tokens\":1983},\"system_fingerprint\":\"\"}\n",
      "=============================\n",
      "\n"
     ]
    },
    {
     "name": "stderr",
     "output_type": "stream",
     "text": [
      "Processing:  23%|██▎       | 249/1060 [08:52<18:56,  1.40s/it]"
     ]
    },
    {
     "name": "stdout",
     "output_type": "stream",
     "text": [
      "===== 调试信息：服务器返回 =====\n",
      "{\"id\":\"0194dc607434229f970c71941e02a977\",\"object\":\"chat.completion\",\"created\":1738864096,\"model\":\"Qwen/Qwen2.5-32B-Instruct\",\"choices\":[{\"index\":0,\"message\":{\"role\":\"assistant\",\"content\":\"{\\n  \\\"classification\\\": \\\"经济\\\",\\n  \\\"sentiment\\\": \\\"negative\\\"\\n}\"},\"finish_reason\":\"stop\"}],\"usage\":{\"prompt_tokens\":1488,\"completion_tokens\":17,\"total_tokens\":1505},\"system_fingerprint\":\"\"}\n",
      "=============================\n",
      "\n"
     ]
    },
    {
     "name": "stderr",
     "output_type": "stream",
     "text": [
      "Processing:  24%|██▎       | 250/1060 [08:53<17:56,  1.33s/it]"
     ]
    },
    {
     "name": "stdout",
     "output_type": "stream",
     "text": [
      "===== 调试信息：服务器返回 =====\n",
      "{\"id\":\"0194dc6078c126cb62af15806eb973e1\",\"object\":\"chat.completion\",\"created\":1738864097,\"model\":\"Qwen/Qwen2.5-32B-Instruct\",\"choices\":[{\"index\":0,\"message\":{\"role\":\"assistant\",\"content\":\"{\\n  \\\"classification\\\": \\\"国际政治\\\",\\n  \\\"sentiment\\\": \\\"neutral\\\"\\n}\"},\"finish_reason\":\"stop\"}],\"usage\":{\"prompt_tokens\":2326,\"completion_tokens\":18,\"total_tokens\":2344},\"system_fingerprint\":\"\"}\n",
      "=============================\n",
      "\n"
     ]
    },
    {
     "name": "stderr",
     "output_type": "stream",
     "text": [
      "Processing:  24%|██▎       | 251/1060 [08:54<17:43,  1.31s/it]"
     ]
    },
    {
     "name": "stdout",
     "output_type": "stream",
     "text": [
      "===== 调试信息：服务器返回 =====\n",
      "{\"id\":\"0194dc607ded51892327ed4493ae2eb2\",\"object\":\"chat.completion\",\"created\":1738864098,\"model\":\"Qwen/Qwen2.5-32B-Instruct\",\"choices\":[{\"index\":0,\"message\":{\"role\":\"assistant\",\"content\":\"{\\n  \\\"classification\\\": \\\"国际政治\\\",\\n  \\\"sentiment\\\": \\\"neutral\\\"\\n}\"},\"finish_reason\":\"stop\"}],\"usage\":{\"prompt_tokens\":3269,\"completion_tokens\":18,\"total_tokens\":3287},\"system_fingerprint\":\"\"}\n",
      "=============================\n",
      "\n"
     ]
    },
    {
     "name": "stderr",
     "output_type": "stream",
     "text": [
      "Processing:  24%|██▍       | 252/1060 [08:56<18:37,  1.38s/it]"
     ]
    },
    {
     "name": "stdout",
     "output_type": "stream",
     "text": [
      "===== 调试信息：服务器返回 =====\n",
      "{\"id\":\"0194dc6083eb8ecc23179c61ab0d47db\",\"object\":\"chat.completion\",\"created\":1738864100,\"model\":\"Qwen/Qwen2.5-32B-Instruct\",\"choices\":[{\"index\":0,\"message\":{\"role\":\"assistant\",\"content\":\"{\\n  \\\"classification\\\": \\\"体育\\\",\\n  \\\"sentiment\\\": \\\"positive\\\"\\n}\"},\"finish_reason\":\"stop\"}],\"usage\":{\"prompt_tokens\":1087,\"completion_tokens\":17,\"total_tokens\":1104},\"system_fingerprint\":\"\"}\n",
      "=============================\n",
      "\n"
     ]
    },
    {
     "name": "stderr",
     "output_type": "stream",
     "text": [
      "Processing:  24%|██▍       | 253/1060 [08:57<17:40,  1.31s/it]"
     ]
    },
    {
     "name": "stdout",
     "output_type": "stream",
     "text": [
      "===== 调试信息：服务器返回 =====\n",
      "{\"id\":\"0194dc60883cfb27a4910f2ee4ee66d1\",\"object\":\"chat.completion\",\"created\":1738864101,\"model\":\"Qwen/Qwen2.5-32B-Instruct\",\"choices\":[{\"index\":0,\"message\":{\"role\":\"assistant\",\"content\":\"{\\n  \\\"classification\\\": \\\"卫生福利\\\",\\n  \\\"sentiment\\\": \\\"negative\\\"\\n}\"},\"finish_reason\":\"stop\"}],\"usage\":{\"prompt_tokens\":1558,\"completion_tokens\":18,\"total_tokens\":1576},\"system_fingerprint\":\"\"}\n",
      "=============================\n",
      "\n"
     ]
    },
    {
     "name": "stderr",
     "output_type": "stream",
     "text": [
      "Processing:  24%|██▍       | 254/1060 [08:58<17:09,  1.28s/it]"
     ]
    },
    {
     "name": "stdout",
     "output_type": "stream",
     "text": [
      "===== 调试信息：服务器返回 =====\n",
      "{\"id\":\"0194dc608d8f2390bbd98b343804b8d2\",\"object\":\"chat.completion\",\"created\":1738864102,\"model\":\"Qwen/Qwen2.5-32B-Instruct\",\"choices\":[{\"index\":0,\"message\":{\"role\":\"assistant\",\"content\":\"{\\n  \\\"classification\\\": \\\"国内政治\\\",\\n  \\\"sentiment\\\": \\\"negative\\\"\\n}\"},\"finish_reason\":\"stop\"}],\"usage\":{\"prompt_tokens\":1526,\"completion_tokens\":18,\"total_tokens\":1544},\"system_fingerprint\":\"\"}\n",
      "=============================\n",
      "\n"
     ]
    },
    {
     "name": "stderr",
     "output_type": "stream",
     "text": [
      "Processing:  24%|██▍       | 255/1060 [08:59<17:46,  1.32s/it]"
     ]
    },
    {
     "name": "stdout",
     "output_type": "stream",
     "text": [
      "===== 调试信息：服务器返回 =====\n",
      "{\"id\":\"0194dc6092b969b402455434aab4c354\",\"object\":\"chat.completion\",\"created\":1738864104,\"model\":\"Qwen/Qwen2.5-32B-Instruct\",\"choices\":[{\"index\":0,\"message\":{\"role\":\"assistant\",\"content\":\"{\\n  \\\"classification\\\": \\\"国际政治\\\",\\n  \\\"sentiment\\\": \\\"positive\\\"\\n}\"},\"finish_reason\":\"stop\"}],\"usage\":{\"prompt_tokens\":1374,\"completion_tokens\":18,\"total_tokens\":1392},\"system_fingerprint\":\"\"}\n",
      "=============================\n",
      "\n"
     ]
    },
    {
     "name": "stderr",
     "output_type": "stream",
     "text": [
      "Processing:  24%|██▍       | 256/1060 [09:01<17:15,  1.29s/it]"
     ]
    },
    {
     "name": "stdout",
     "output_type": "stream",
     "text": [
      "===== 调试信息：服务器返回 =====\n",
      "{\"id\":\"0194dc609745223e546e4ece6ec9cb22\",\"object\":\"chat.completion\",\"created\":1738864105,\"model\":\"Qwen/Qwen2.5-32B-Instruct\",\"choices\":[{\"index\":0,\"message\":{\"role\":\"assistant\",\"content\":\"{\\n  \\\"classification\\\": \\\"国际政治\\\",\\n  \\\"sentiment\\\": \\\"negative\\\"\\n}\"},\"finish_reason\":\"stop\"}],\"usage\":{\"prompt_tokens\":1493,\"completion_tokens\":18,\"total_tokens\":1511},\"system_fingerprint\":\"\"}\n",
      "=============================\n",
      "\n"
     ]
    },
    {
     "name": "stderr",
     "output_type": "stream",
     "text": [
      "Processing:  24%|██▍       | 257/1060 [09:02<16:46,  1.25s/it]"
     ]
    },
    {
     "name": "stdout",
     "output_type": "stream",
     "text": [
      "===== 调试信息：服务器返回 =====\n",
      "{\"id\":\"0194dc609c048a8f6f3e855e866fad95\",\"object\":\"chat.completion\",\"created\":1738864106,\"model\":\"Qwen/Qwen2.5-32B-Instruct\",\"choices\":[{\"index\":0,\"message\":{\"role\":\"assistant\",\"content\":\"{\\n  \\\"classification\\\": \\\"国际政治\\\",\\n  \\\"sentiment\\\": \\\"negative\\\"\\n}\"},\"finish_reason\":\"stop\"}],\"usage\":{\"prompt_tokens\":2564,\"completion_tokens\":18,\"total_tokens\":2582},\"system_fingerprint\":\"\"}\n",
      "=============================\n",
      "\n"
     ]
    },
    {
     "name": "stderr",
     "output_type": "stream",
     "text": [
      "Processing:  24%|██▍       | 258/1060 [09:03<17:32,  1.31s/it]"
     ]
    },
    {
     "name": "stdout",
     "output_type": "stream",
     "text": [
      "===== 调试信息：服务器返回 =====\n",
      "{\"id\":\"0194dc60a19fb56ca919f4f279ee60e3\",\"object\":\"chat.completion\",\"created\":1738864107,\"model\":\"Qwen/Qwen2.5-32B-Instruct\",\"choices\":[{\"index\":0,\"message\":{\"role\":\"assistant\",\"content\":\"{\\n  \\\"classification\\\": \\\"文化活动\\\",\\n  \\\"sentiment\\\": \\\"positive\\\"\\n}\"},\"finish_reason\":\"stop\"}],\"usage\":{\"prompt_tokens\":1269,\"completion_tokens\":18,\"total_tokens\":1287},\"system_fingerprint\":\"\"}\n",
      "=============================\n",
      "\n"
     ]
    },
    {
     "name": "stderr",
     "output_type": "stream",
     "text": [
      "Processing:  24%|██▍       | 259/1060 [09:05<17:56,  1.34s/it]"
     ]
    },
    {
     "name": "stdout",
     "output_type": "stream",
     "text": [
      "===== 调试信息：服务器返回 =====\n",
      "{\"id\":\"0194dc60a7312b22cee9473f265958cd\",\"object\":\"chat.completion\",\"created\":1738864109,\"model\":\"Qwen/Qwen2.5-32B-Instruct\",\"choices\":[{\"index\":0,\"message\":{\"role\":\"assistant\",\"content\":\"{\\n  \\\"classification\\\": \\\"经济\\\",\\n  \\\"sentiment\\\": \\\"positive\\\"\\n}\"},\"finish_reason\":\"stop\"}],\"usage\":{\"prompt_tokens\":2420,\"completion_tokens\":17,\"total_tokens\":2437},\"system_fingerprint\":\"\"}\n",
      "=============================\n",
      "\n"
     ]
    },
    {
     "name": "stderr",
     "output_type": "stream",
     "text": [
      "Processing:  25%|██▍       | 260/1060 [09:06<17:56,  1.35s/it]"
     ]
    },
    {
     "name": "stdout",
     "output_type": "stream",
     "text": [
      "触发速率限制 (HTTP 429)，等待60秒后重试...\n",
      "===== 调试信息：服务器返回 =====\n",
      "{\"id\":\"0194dc61978ca9011c42615c18129d09\",\"object\":\"chat.completion\",\"created\":1738864170,\"model\":\"Qwen/Qwen2.5-32B-Instruct\",\"choices\":[{\"index\":0,\"message\":{\"role\":\"assistant\",\"content\":\"{\\n  \\\"classification\\\": \\\"交通\\\",\\n  \\\"sentiment\\\": \\\"positive\\\"\\n}\"},\"finish_reason\":\"stop\"}],\"usage\":{\"prompt_tokens\":2272,\"completion_tokens\":17,\"total_tokens\":2289},\"system_fingerprint\":\"\"}\n",
      "=============================\n",
      "\n"
     ]
    },
    {
     "name": "stderr",
     "output_type": "stream",
     "text": [
      "Processing:  25%|██▍       | 261/1060 [10:08<4:18:16, 19.40s/it]"
     ]
    },
    {
     "name": "stdout",
     "output_type": "stream",
     "text": [
      "===== 调试信息：服务器返回 =====\n",
      "{\"id\":\"0194dc619c93516e7a9e815dbe58ec2e\",\"object\":\"chat.completion\",\"created\":1738864172,\"model\":\"Qwen/Qwen2.5-32B-Instruct\",\"choices\":[{\"index\":0,\"message\":{\"role\":\"assistant\",\"content\":\"{\\n  \\\"classification\\\": \\\"经济\\\",\\n  \\\"sentiment\\\": \\\"negative\\\"\\n}\"},\"finish_reason\":\"stop\"}],\"usage\":{\"prompt_tokens\":1065,\"completion_tokens\":17,\"total_tokens\":1082},\"system_fingerprint\":\"\"}\n",
      "=============================\n",
      "\n"
     ]
    },
    {
     "name": "stderr",
     "output_type": "stream",
     "text": [
      "Processing:  25%|██▍       | 262/1060 [10:09<3:06:03, 13.99s/it]"
     ]
    },
    {
     "name": "stdout",
     "output_type": "stream",
     "text": [
      "===== 调试信息：服务器返回 =====\n",
      "{\"id\":\"0194dc61a2116f651b6c3a9a8dcb5e4f\",\"object\":\"chat.completion\",\"created\":1738864173,\"model\":\"Qwen/Qwen2.5-32B-Instruct\",\"choices\":[{\"index\":0,\"message\":{\"role\":\"assistant\",\"content\":\"{\\n  \\\"classification\\\": \\\"灾害\\\",\\n  \\\"sentiment\\\": \\\"negative\\\"\\n}\"},\"finish_reason\":\"stop\"}],\"usage\":{\"prompt_tokens\":1587,\"completion_tokens\":17,\"total_tokens\":1604},\"system_fingerprint\":\"\"}\n",
      "=============================\n",
      "\n"
     ]
    },
    {
     "name": "stderr",
     "output_type": "stream",
     "text": [
      "Processing:  25%|██▍       | 263/1060 [10:10<2:14:49, 10.15s/it]"
     ]
    },
    {
     "name": "stdout",
     "output_type": "stream",
     "text": [
      "===== 调试信息：服务器返回 =====\n",
      "{\"id\":\"0194dc61a698524c0f9692f6c2e132e3\",\"object\":\"chat.completion\",\"created\":1738864174,\"model\":\"Qwen/Qwen2.5-32B-Instruct\",\"choices\":[{\"index\":0,\"message\":{\"role\":\"assistant\",\"content\":\"{\\n  \\\"classification\\\": \\\"军事和防御\\\",\\n  \\\"sentiment\\\": \\\"negative\\\"\\n}\"},\"finish_reason\":\"stop\"}],\"usage\":{\"prompt_tokens\":1585,\"completion_tokens\":19,\"total_tokens\":1604},\"system_fingerprint\":\"\"}\n",
      "=============================\n",
      "\n"
     ]
    },
    {
     "name": "stderr",
     "output_type": "stream",
     "text": [
      "Processing:  25%|██▍       | 264/1060 [10:11<1:39:03,  7.47s/it]"
     ]
    },
    {
     "name": "stdout",
     "output_type": "stream",
     "text": [
      "===== 调试信息：服务器返回 =====\n",
      "{\"id\":\"0194dc61ab553a0ab8b8912fb59ecd72\",\"object\":\"chat.completion\",\"created\":1738864175,\"model\":\"Qwen/Qwen2.5-32B-Instruct\",\"choices\":[{\"index\":0,\"message\":{\"role\":\"assistant\",\"content\":\"{\\n  \\\"classification\\\": \\\"人口\\\",\\n  \\\"sentiment\\\": \\\"neutral\\\"\\n}\"},\"finish_reason\":\"stop\"}],\"usage\":{\"prompt_tokens\":3202,\"completion_tokens\":17,\"total_tokens\":3219},\"system_fingerprint\":\"\"}\n",
      "=============================\n",
      "\n"
     ]
    },
    {
     "name": "stderr",
     "output_type": "stream",
     "text": [
      "Processing:  25%|██▌       | 265/1060 [10:13<1:14:54,  5.65s/it]"
     ]
    },
    {
     "name": "stdout",
     "output_type": "stream",
     "text": [
      "===== 调试信息：服务器返回 =====\n",
      "{\"id\":\"0194dc61b0e34cda3bc9a2b49da2e9e9\",\"object\":\"chat.completion\",\"created\":1738864177,\"model\":\"Qwen/Qwen2.5-32B-Instruct\",\"choices\":[{\"index\":0,\"message\":{\"role\":\"assistant\",\"content\":\"{\\n  \\\"classification\\\": \\\"科技\\\",\\n  \\\"sentiment\\\": \\\"neutral\\\"\\n}\"},\"finish_reason\":\"stop\"}],\"usage\":{\"prompt_tokens\":1838,\"completion_tokens\":17,\"total_tokens\":1855},\"system_fingerprint\":\"\"}\n",
      "=============================\n",
      "\n"
     ]
    },
    {
     "name": "stderr",
     "output_type": "stream",
     "text": [
      "Processing:  25%|██▌       | 266/1060 [10:14<57:09,  4.32s/it]  "
     ]
    },
    {
     "name": "stdout",
     "output_type": "stream",
     "text": [
      "===== 调试信息：服务器返回 =====\n",
      "{\"id\":\"0194dc61b5ad11009eb9a03fb55cc611\",\"object\":\"chat.completion\",\"created\":1738864178,\"model\":\"Qwen/Qwen2.5-32B-Instruct\",\"choices\":[{\"index\":0,\"message\":{\"role\":\"assistant\",\"content\":\"{\\n  \\\"classification\\\": \\\"文化活动\\\",\\n  \\\"sentiment\\\": \\\"pleasure\\\"\\n}\"},\"finish_reason\":\"stop\"}],\"usage\":{\"prompt_tokens\":2685,\"completion_tokens\":19,\"total_tokens\":2704},\"system_fingerprint\":\"\"}\n",
      "=============================\n",
      "\n"
     ]
    },
    {
     "name": "stderr",
     "output_type": "stream",
     "text": [
      "Processing:  25%|██▌       | 267/1060 [10:15<45:49,  3.47s/it]"
     ]
    },
    {
     "name": "stdout",
     "output_type": "stream",
     "text": [
      "===== 调试信息：服务器返回 =====\n",
      "{\"id\":\"0194dc61bb6e1631a97498063632e070\",\"object\":\"chat.completion\",\"created\":1738864180,\"model\":\"Qwen/Qwen2.5-32B-Instruct\",\"choices\":[{\"index\":0,\"message\":{\"role\":\"assistant\",\"content\":\"{\\n  \\\"classification\\\": \\\"国际政治\\\",\\n  \\\"sentiment\\\": \\\"negative\\\"\\n}\"},\"finish_reason\":\"stop\"}],\"usage\":{\"prompt_tokens\":2364,\"completion_tokens\":18,\"total_tokens\":2382},\"system_fingerprint\":\"\"}\n",
      "=============================\n",
      "\n"
     ]
    },
    {
     "name": "stderr",
     "output_type": "stream",
     "text": [
      "Processing:  25%|██▌       | 268/1060 [10:17<37:40,  2.85s/it]"
     ]
    },
    {
     "name": "stdout",
     "output_type": "stream",
     "text": [
      "===== 调试信息：服务器返回 =====\n",
      "{\"id\":\"0194dc61c0f27555fd1ffea68d4f86e8\",\"object\":\"chat.completion\",\"created\":1738864181,\"model\":\"Qwen/Qwen2.5-32B-Instruct\",\"choices\":[{\"index\":0,\"message\":{\"role\":\"assistant\",\"content\":\"{\\n  \\\"classification\\\": \\\"国际政治\\\",\\n  \\\"sentiment\\\": \\\"negative\\\"\\n}\"},\"finish_reason\":\"stop\"}],\"usage\":{\"prompt_tokens\":995,\"completion_tokens\":18,\"total_tokens\":1013},\"system_fingerprint\":\"\"}\n",
      "=============================\n",
      "\n"
     ]
    },
    {
     "name": "stderr",
     "output_type": "stream",
     "text": [
      "Processing:  25%|██▌       | 269/1060 [10:18<30:40,  2.33s/it]"
     ]
    },
    {
     "name": "stdout",
     "output_type": "stream",
     "text": [
      "===== 调试信息：服务器返回 =====\n",
      "{\"id\":\"0194dc61c59459cf40dda3297aef158c\",\"object\":\"chat.completion\",\"created\":1738864182,\"model\":\"Qwen/Qwen2.5-32B-Instruct\",\"choices\":[{\"index\":0,\"message\":{\"role\":\"assistant\",\"content\":\"{\\n  \\\"classification\\\": \\\"环境\\\",\\n  \\\"sentiment\\\": \\\"pleasure\\\"\\n}\"},\"finish_reason\":\"stop\"}],\"usage\":{\"prompt_tokens\":1774,\"completion_tokens\":18,\"total_tokens\":1792},\"system_fingerprint\":\"\"}\n",
      "=============================\n",
      "\n"
     ]
    },
    {
     "name": "stderr",
     "output_type": "stream",
     "text": [
      "Processing:  25%|██▌       | 270/1060 [10:19<26:44,  2.03s/it]"
     ]
    },
    {
     "name": "stdout",
     "output_type": "stream",
     "text": [
      "===== 调试信息：服务器返回 =====\n",
      "{\"id\":\"0194dc61cae5a37382e65f87c5cba714\",\"object\":\"chat.completion\",\"created\":1738864184,\"model\":\"Qwen/Qwen2.5-32B-Instruct\",\"choices\":[{\"index\":0,\"message\":{\"role\":\"assistant\",\"content\":\"{\\n  \\\"classification\\\": \\\"军事和防御\\\",\\n  \\\"sentiment\\\": \\\"hostile\\\"\\n}\"},\"finish_reason\":\"stop\"}],\"usage\":{\"prompt_tokens\":2054,\"completion_tokens\":20,\"total_tokens\":2074},\"system_fingerprint\":\"\"}\n",
      "=============================\n",
      "\n"
     ]
    },
    {
     "name": "stderr",
     "output_type": "stream",
     "text": [
      "Processing:  26%|██▌       | 271/1060 [10:21<24:27,  1.86s/it]"
     ]
    },
    {
     "name": "stdout",
     "output_type": "stream",
     "text": [
      "===== 调试信息：服务器返回 =====\n",
      "{\"id\":\"0194dc61d04ded3e8d0c5eaf60e85efe\",\"object\":\"chat.completion\",\"created\":1738864185,\"model\":\"Qwen/Qwen2.5-32B-Instruct\",\"choices\":[{\"index\":0,\"message\":{\"role\":\"assistant\",\"content\":\"{\\n  \\\"classification\\\": \\\"经济\\\",\\n  \\\"sentiment\\\": \\\"pleasure\\\"\\n}\"},\"finish_reason\":\"stop\"}],\"usage\":{\"prompt_tokens\":2247,\"completion_tokens\":18,\"total_tokens\":2265},\"system_fingerprint\":\"\"}\n",
      "=============================\n",
      "\n"
     ]
    },
    {
     "name": "stderr",
     "output_type": "stream",
     "text": [
      "Processing:  26%|██▌       | 272/1060 [10:22<22:39,  1.73s/it]"
     ]
    },
    {
     "name": "stdout",
     "output_type": "stream",
     "text": [
      "===== 调试信息：服务器返回 =====\n",
      "{\"id\":\"0194dc61d5c04d99dec06ef90bc39241\",\"object\":\"chat.completion\",\"created\":1738864186,\"model\":\"Qwen/Qwen2.5-32B-Instruct\",\"choices\":[{\"index\":0,\"message\":{\"role\":\"assistant\",\"content\":\"{\\n  \\\"classification\\\": \\\"科技\\\",\\n  \\\"sentiment\\\": \\\"positive\\\"\\n}\"},\"finish_reason\":\"stop\"}],\"usage\":{\"prompt_tokens\":1616,\"completion_tokens\":17,\"total_tokens\":1633},\"system_fingerprint\":\"\"}\n",
      "=============================\n",
      "\n"
     ]
    },
    {
     "name": "stderr",
     "output_type": "stream",
     "text": [
      "Processing:  26%|██▌       | 273/1060 [10:23<20:28,  1.56s/it]"
     ]
    },
    {
     "name": "stdout",
     "output_type": "stream",
     "text": [
      "===== 调试信息：服务器返回 =====\n",
      "{\"id\":\"0194dc61da42eb5b11df8cef1bb6dddd\",\"object\":\"chat.completion\",\"created\":1738864187,\"model\":\"Qwen/Qwen2.5-32B-Instruct\",\"choices\":[{\"index\":0,\"message\":{\"role\":\"assistant\",\"content\":\"{\\n  \\\"classification\\\": \\\"科技\\\",\\n  \\\"sentiment\\\": \\\"neutral\\\"\\n}\"},\"finish_reason\":\"stop\"}],\"usage\":{\"prompt_tokens\":1502,\"completion_tokens\":17,\"total_tokens\":1519},\"system_fingerprint\":\"\"}\n",
      "=============================\n",
      "\n"
     ]
    },
    {
     "name": "stderr",
     "output_type": "stream",
     "text": [
      "Processing:  26%|██▌       | 274/1060 [10:25<18:53,  1.44s/it]"
     ]
    },
    {
     "name": "stdout",
     "output_type": "stream",
     "text": [
      "===== 调试信息：服务器返回 =====\n",
      "{\"id\":\"0194dc61ded13b3de53767ec6493b3af\",\"object\":\"chat.completion\",\"created\":1738864189,\"model\":\"Qwen/Qwen2.5-32B-Instruct\",\"choices\":[{\"index\":0,\"message\":{\"role\":\"assistant\",\"content\":\"{\\n  \\\"classification\\\": \\\"国际政治\\\",\\n  \\\"sentiment\\\": \\\"negative\\\"\\n}\"},\"finish_reason\":\"stop\"}],\"usage\":{\"prompt_tokens\":2349,\"completion_tokens\":18,\"total_tokens\":2367},\"system_fingerprint\":\"\"}\n",
      "=============================\n",
      "\n"
     ]
    },
    {
     "name": "stderr",
     "output_type": "stream",
     "text": [
      "Processing:  26%|██▌       | 275/1060 [10:26<18:18,  1.40s/it]"
     ]
    },
    {
     "name": "stdout",
     "output_type": "stream",
     "text": [
      "===== 调试信息：服务器返回 =====\n",
      "{\"id\":\"0194dc61e3f1108840bf408b44688e85\",\"object\":\"chat.completion\",\"created\":1738864190,\"model\":\"Qwen/Qwen2.5-32B-Instruct\",\"choices\":[{\"index\":0,\"message\":{\"role\":\"assistant\",\"content\":\"{\\n  \\\"classification\\\": \\\"国际政治\\\",\\n  \\\"sentiment\\\": \\\"neutral\\\"\\n}\"},\"finish_reason\":\"stop\"}],\"usage\":{\"prompt_tokens\":1542,\"completion_tokens\":18,\"total_tokens\":1560},\"system_fingerprint\":\"\"}\n",
      "=============================\n",
      "\n"
     ]
    },
    {
     "name": "stderr",
     "output_type": "stream",
     "text": [
      "Processing:  26%|██▌       | 276/1060 [10:27<17:24,  1.33s/it]"
     ]
    },
    {
     "name": "stdout",
     "output_type": "stream",
     "text": [
      "===== 调试信息：服务器返回 =====\n",
      "{\"id\":\"0194dc61e878abd06371c4912793f500\",\"object\":\"chat.completion\",\"created\":1738864191,\"model\":\"Qwen/Qwen2.5-32B-Instruct\",\"choices\":[{\"index\":0,\"message\":{\"role\":\"assistant\",\"content\":\"{\\n  \\\"classification\\\": \\\"国际政治\\\",\\n  \\\"sentiment\\\": \\\"neutral\\\"\\n}\"},\"finish_reason\":\"stop\"}],\"usage\":{\"prompt_tokens\":1350,\"completion_tokens\":18,\"total_tokens\":1368},\"system_fingerprint\":\"\"}\n",
      "=============================\n",
      "\n"
     ]
    },
    {
     "name": "stderr",
     "output_type": "stream",
     "text": [
      "Processing:  26%|██▌       | 277/1060 [10:28<16:38,  1.27s/it]"
     ]
    },
    {
     "name": "stdout",
     "output_type": "stream",
     "text": [
      "===== 调试信息：服务器返回 =====\n",
      "{\"id\":\"0194dc61ecf8313efe53f8173f5726c0\",\"object\":\"chat.completion\",\"created\":1738864192,\"model\":\"Qwen/Qwen2.5-32B-Instruct\",\"choices\":[{\"index\":0,\"message\":{\"role\":\"assistant\",\"content\":\"{\\n  \\\"classification\\\": \\\"经济\\\",\\n  \\\"sentiment\\\": \\\"positive\\\"\\n}\"},\"finish_reason\":\"stop\"}],\"usage\":{\"prompt_tokens\":1412,\"completion_tokens\":17,\"total_tokens\":1429},\"system_fingerprint\":\"\"}\n",
      "=============================\n",
      "\n"
     ]
    },
    {
     "name": "stderr",
     "output_type": "stream",
     "text": [
      "Processing:  26%|██▌       | 278/1060 [10:29<16:08,  1.24s/it]"
     ]
    },
    {
     "name": "stdout",
     "output_type": "stream",
     "text": [
      "===== 调试信息：服务器返回 =====\n",
      "{\"id\":\"0194dc61f18134dfec5d1a2ff0353077\",\"object\":\"chat.completion\",\"created\":1738864193,\"model\":\"Qwen/Qwen2.5-32B-Instruct\",\"choices\":[{\"index\":0,\"message\":{\"role\":\"assistant\",\"content\":\"{\\n  \\\"classification\\\": \\\"卫生福利\\\",\\n  \\\"sentiment\\\": \\\"neutral\\\"\\n}\"},\"finish_reason\":\"stop\"}],\"usage\":{\"prompt_tokens\":1301,\"completion_tokens\":18,\"total_tokens\":1319},\"system_fingerprint\":\"\"}\n",
      "=============================\n",
      "\n"
     ]
    },
    {
     "name": "stderr",
     "output_type": "stream",
     "text": [
      "Processing:  26%|██▋       | 279/1060 [10:30<15:47,  1.21s/it]"
     ]
    },
    {
     "name": "stdout",
     "output_type": "stream",
     "text": [
      "===== 调试信息：服务器返回 =====\n",
      "{\"id\":\"0194dc61f6057c71fbf4687fd75966eb\",\"object\":\"chat.completion\",\"created\":1738864195,\"model\":\"Qwen/Qwen2.5-32B-Instruct\",\"choices\":[{\"index\":0,\"message\":{\"role\":\"assistant\",\"content\":\"{\\n  \\\"classification\\\": \\\"国内秩序\\\",\\n  \\\"sentiment\\\": \\\"negative\\\"\\n}\"},\"finish_reason\":\"stop\"}],\"usage\":{\"prompt_tokens\":2009,\"completion_tokens\":18,\"total_tokens\":2027},\"system_fingerprint\":\"\"}\n",
      "=============================\n",
      "\n"
     ]
    },
    {
     "name": "stderr",
     "output_type": "stream",
     "text": [
      "Processing:  26%|██▋       | 280/1060 [10:32<16:05,  1.24s/it]"
     ]
    },
    {
     "name": "stdout",
     "output_type": "stream",
     "text": [
      "===== 调试信息：服务器返回 =====\n",
      "{\"id\":\"0194dc61fb1b37ee628d49ec610addd4\",\"object\":\"chat.completion\",\"created\":1738864196,\"model\":\"Qwen/Qwen2.5-32B-Instruct\",\"choices\":[{\"index\":0,\"message\":{\"role\":\"assistant\",\"content\":\"{\\n  \\\"classification\\\": \\\"军事和防御\\\",\\n  \\\"sentiment\\\": \\\"negative\\\"\\n}\"},\"finish_reason\":\"stop\"}],\"usage\":{\"prompt_tokens\":2469,\"completion_tokens\":19,\"total_tokens\":2488},\"system_fingerprint\":\"\"}\n",
      "=============================\n",
      "\n"
     ]
    },
    {
     "name": "stderr",
     "output_type": "stream",
     "text": [
      "Processing:  27%|██▋       | 281/1060 [10:33<16:46,  1.29s/it]"
     ]
    },
    {
     "name": "stdout",
     "output_type": "stream",
     "text": [
      "===== 调试信息：服务器返回 =====\n",
      "{\"id\":\"0194dc620093370e93c0efc4911c0544\",\"object\":\"chat.completion\",\"created\":1738864197,\"model\":\"Qwen/Qwen2.5-32B-Instruct\",\"choices\":[{\"index\":0,\"message\":{\"role\":\"assistant\",\"content\":\"{\\n  \\\"classification\\\": \\\"国际政治\\\",\\n  \\\"sentiment\\\": \\\"neutral\\\"\\n}\"},\"finish_reason\":\"stop\"}],\"usage\":{\"prompt_tokens\":2323,\"completion_tokens\":18,\"total_tokens\":2341},\"system_fingerprint\":\"\"}\n",
      "=============================\n",
      "\n"
     ]
    },
    {
     "name": "stderr",
     "output_type": "stream",
     "text": [
      "Processing:  27%|██▋       | 282/1060 [10:34<16:43,  1.29s/it]"
     ]
    },
    {
     "name": "stdout",
     "output_type": "stream",
     "text": [
      "===== 调试信息：服务器返回 =====\n",
      "{\"id\":\"0194dc6205b377029e80ef88e742e930\",\"object\":\"chat.completion\",\"created\":1738864199,\"model\":\"Qwen/Qwen2.5-32B-Instruct\",\"choices\":[{\"index\":0,\"message\":{\"role\":\"assistant\",\"content\":\"{\\n  \\\"classification\\\": \\\"商务活动\\\",\\n  \\\"sentiment\\\": \\\"negative\\\"\\n}\"},\"finish_reason\":\"stop\"}],\"usage\":{\"prompt_tokens\":1253,\"completion_tokens\":18,\"total_tokens\":1271},\"system_fingerprint\":\"\"}\n",
      "=============================\n",
      "\n"
     ]
    },
    {
     "name": "stderr",
     "output_type": "stream",
     "text": [
      "Processing:  27%|██▋       | 283/1060 [10:36<16:22,  1.26s/it]"
     ]
    },
    {
     "name": "stdout",
     "output_type": "stream",
     "text": [
      "===== 调试信息：服务器返回 =====\n",
      "{\"id\":\"0194dc620a437e21fb0527b036615e0c\",\"object\":\"chat.completion\",\"created\":1738864200,\"model\":\"Qwen/Qwen2.5-32B-Instruct\",\"choices\":[{\"index\":0,\"message\":{\"role\":\"assistant\",\"content\":\"{\\n  \\\"classification\\\": \\\"经济\\\",\\n  \\\"sentiment\\\": \\\"positive\\\"\\n}\"},\"finish_reason\":\"stop\"}],\"usage\":{\"prompt_tokens\":2257,\"completion_tokens\":17,\"total_tokens\":2274},\"system_fingerprint\":\"\"}\n",
      "=============================\n",
      "\n"
     ]
    },
    {
     "name": "stderr",
     "output_type": "stream",
     "text": [
      "Processing:  27%|██▋       | 284/1060 [10:37<16:20,  1.26s/it]"
     ]
    },
    {
     "name": "stdout",
     "output_type": "stream",
     "text": [
      "===== 调试信息：服务器返回 =====\n",
      "{\"id\":\"0194dc620f3a3e74ff8ab5f9da46c6b4\",\"object\":\"chat.completion\",\"created\":1738864201,\"model\":\"Qwen/Qwen2.5-32B-Instruct\",\"choices\":[{\"index\":0,\"message\":{\"role\":\"assistant\",\"content\":\"{\\n  \\\"classification\\\": \\\"体育\\\",\\n  \\\"sentiment\\\": \\\"neutral\\\"\\n}\"},\"finish_reason\":\"stop\"}],\"usage\":{\"prompt_tokens\":805,\"completion_tokens\":17,\"total_tokens\":822},\"system_fingerprint\":\"\"}\n",
      "=============================\n",
      "\n"
     ]
    },
    {
     "name": "stderr",
     "output_type": "stream",
     "text": [
      "Processing:  27%|██▋       | 285/1060 [10:38<15:41,  1.22s/it]"
     ]
    },
    {
     "name": "stdout",
     "output_type": "stream",
     "text": [
      "===== 调试信息：服务器返回 =====\n",
      "{\"id\":\"0194dc6213cb383545e2791eae915377\",\"object\":\"chat.completion\",\"created\":1738864202,\"model\":\"Qwen/Qwen2.5-32B-Instruct\",\"choices\":[{\"index\":0,\"message\":{\"role\":\"assistant\",\"content\":\"{\\n  \\\"classification\\\": \\\"国际政治\\\",\\n  \\\"sentiment\\\": \\\"neutral\\\"\\n}\"},\"finish_reason\":\"stop\"}],\"usage\":{\"prompt_tokens\":1298,\"completion_tokens\":18,\"total_tokens\":1316},\"system_fingerprint\":\"\"}\n",
      "=============================\n",
      "\n"
     ]
    },
    {
     "name": "stderr",
     "output_type": "stream",
     "text": [
      "Processing:  27%|██▋       | 286/1060 [10:39<15:42,  1.22s/it]"
     ]
    },
    {
     "name": "stdout",
     "output_type": "stream",
     "text": [
      "===== 调试信息：服务器返回 =====\n",
      "{\"id\":\"0194dc621850013fbcec8905a4c309d7\",\"object\":\"chat.completion\",\"created\":1738864203,\"model\":\"Qwen/Qwen2.5-32B-Instruct\",\"choices\":[{\"index\":0,\"message\":{\"role\":\"assistant\",\"content\":\"{\\n  \\\"classification\\\": \\\"国内政治\\\",\\n  \\\"sentiment\\\": \\\"negative\\\"\\n}\"},\"finish_reason\":\"stop\"}],\"usage\":{\"prompt_tokens\":1988,\"completion_tokens\":18,\"total_tokens\":2006},\"system_fingerprint\":\"\"}\n",
      "=============================\n",
      "\n"
     ]
    },
    {
     "name": "stderr",
     "output_type": "stream",
     "text": [
      "Processing:  27%|██▋       | 287/1060 [10:41<15:52,  1.23s/it]"
     ]
    },
    {
     "name": "stdout",
     "output_type": "stream",
     "text": [
      "===== 调试信息：服务器返回 =====\n",
      "{\"id\":\"0194dc621d393d26631082b6423c01e5\",\"object\":\"chat.completion\",\"created\":1738864205,\"model\":\"Qwen/Qwen2.5-32B-Instruct\",\"choices\":[{\"index\":0,\"message\":{\"role\":\"assistant\",\"content\":\"{\\n  \\\"classification\\\": \\\"国内政治\\\",\\n  \\\"sentiment\\\": \\\"neutral\\\"\\n}\"},\"finish_reason\":\"stop\"}],\"usage\":{\"prompt_tokens\":1424,\"completion_tokens\":18,\"total_tokens\":1442},\"system_fingerprint\":\"\"}\n",
      "=============================\n",
      "\n"
     ]
    },
    {
     "name": "stderr",
     "output_type": "stream",
     "text": [
      "Processing:  27%|██▋       | 288/1060 [10:42<15:31,  1.21s/it]"
     ]
    },
    {
     "name": "stdout",
     "output_type": "stream",
     "text": [
      "===== 调试信息：服务器返回 =====\n",
      "{\"id\":\"0194dc6221c3ba2041274567916799bd\",\"object\":\"chat.completion\",\"created\":1738864206,\"model\":\"Qwen/Qwen2.5-32B-Instruct\",\"choices\":[{\"index\":0,\"message\":{\"role\":\"assistant\",\"content\":\"{\\n  \\\"classification\\\": \\\"经济\\\",\\n  \\\"sentiment\\\": \\\"negative\\\"\\n}\"},\"finish_reason\":\"stop\"}],\"usage\":{\"prompt_tokens\":2218,\"completion_tokens\":17,\"total_tokens\":2235},\"system_fingerprint\":\"\"}\n",
      "=============================\n",
      "\n"
     ]
    },
    {
     "name": "stderr",
     "output_type": "stream",
     "text": [
      "Processing:  27%|██▋       | 289/1060 [10:43<15:47,  1.23s/it]"
     ]
    },
    {
     "name": "stdout",
     "output_type": "stream",
     "text": [
      "===== 调试信息：服务器返回 =====\n",
      "{\"id\":\"0194dc6226c4770818684b01e06a6bad\",\"object\":\"chat.completion\",\"created\":1738864207,\"model\":\"Qwen/Qwen2.5-32B-Instruct\",\"choices\":[{\"index\":0,\"message\":{\"role\":\"assistant\",\"content\":\"{\\n  \\\"classification\\\": \\\"国际政治\\\",\\n  \\\"sentiment\\\": \\\"negative\\\"\\n}\"},\"finish_reason\":\"stop\"}],\"usage\":{\"prompt_tokens\":949,\"completion_tokens\":18,\"total_tokens\":967},\"system_fingerprint\":\"\"}\n",
      "=============================\n",
      "\n"
     ]
    },
    {
     "name": "stderr",
     "output_type": "stream",
     "text": [
      "Processing:  27%|██▋       | 290/1060 [10:44<15:23,  1.20s/it]"
     ]
    },
    {
     "name": "stdout",
     "output_type": "stream",
     "text": [
      "===== 调试信息：服务器返回 =====\n",
      "{\"id\":\"0194dc622b211cfce4934f0d173ab5a8\",\"object\":\"chat.completion\",\"created\":1738864208,\"model\":\"Qwen/Qwen2.5-32B-Instruct\",\"choices\":[{\"index\":0,\"message\":{\"role\":\"assistant\",\"content\":\"{\\n  \\\"classification\\\": \\\"商务活动\\\",\\n  \\\"sentiment\\\": \\\"negative\\\"\\n}\"},\"finish_reason\":\"stop\"}],\"usage\":{\"prompt_tokens\":1067,\"completion_tokens\":18,\"total_tokens\":1085},\"system_fingerprint\":\"\"}\n",
      "=============================\n",
      "\n"
     ]
    },
    {
     "name": "stderr",
     "output_type": "stream",
     "text": [
      "Processing:  27%|██▋       | 291/1060 [10:45<14:58,  1.17s/it]"
     ]
    },
    {
     "name": "stdout",
     "output_type": "stream",
     "text": [
      "===== 调试信息：服务器返回 =====\n",
      "{\"id\":\"0194dc622f74a5f2f0d38f9c74120a72\",\"object\":\"chat.completion\",\"created\":1738864209,\"model\":\"Qwen/Qwen2.5-32B-Instruct\",\"choices\":[{\"index\":0,\"message\":{\"role\":\"assistant\",\"content\":\"{\\n  \\\"classification\\\": \\\"国际政治\\\",\\n  \\\"sentiment\\\": \\\"neutral\\\"\\n}\"},\"finish_reason\":\"stop\"}],\"usage\":{\"prompt_tokens\":588,\"completion_tokens\":18,\"total_tokens\":606},\"system_fingerprint\":\"\"}\n",
      "=============================\n",
      "\n"
     ]
    },
    {
     "name": "stderr",
     "output_type": "stream",
     "text": [
      "Processing:  28%|██▊       | 292/1060 [10:46<14:47,  1.16s/it]"
     ]
    },
    {
     "name": "stdout",
     "output_type": "stream",
     "text": [
      "===== 调试信息：服务器返回 =====\n",
      "{\"id\":\"0194dc6233fc4f67cd384c4c8d2a2456\",\"object\":\"chat.completion\",\"created\":1738864210,\"model\":\"Qwen/Qwen2.5-32B-Instruct\",\"choices\":[{\"index\":0,\"message\":{\"role\":\"assistant\",\"content\":\"{\\n  \\\"classification\\\": \\\"经济\\\",\\n  \\\"sentiment\\\": \\\"neutral\\\"\\n}\"},\"finish_reason\":\"stop\"}],\"usage\":{\"prompt_tokens\":5783,\"completion_tokens\":17,\"total_tokens\":5800},\"system_fingerprint\":\"\"}\n",
      "=============================\n",
      "\n"
     ]
    },
    {
     "name": "stderr",
     "output_type": "stream",
     "text": [
      "Processing:  28%|██▊       | 293/1060 [10:48<17:41,  1.38s/it]"
     ]
    },
    {
     "name": "stdout",
     "output_type": "stream",
     "text": [
      "===== 调试信息：服务器返回 =====\n",
      "{\"id\":\"0194dc623b63c6b9740b26fd948753a5\",\"object\":\"chat.completion\",\"created\":1738864212,\"model\":\"Qwen/Qwen2.5-32B-Instruct\",\"choices\":[{\"index\":0,\"message\":{\"role\":\"assistant\",\"content\":\"{\\n  \\\"classification\\\": \\\"文化活动\\\",\\n  \\\"sentiment\\\": \\\"negative\\\"\\n}\"},\"finish_reason\":\"stop\"}],\"usage\":{\"prompt_tokens\":1515,\"completion_tokens\":18,\"total_tokens\":1533},\"system_fingerprint\":\"\"}\n",
      "=============================\n",
      "\n"
     ]
    },
    {
     "name": "stderr",
     "output_type": "stream",
     "text": [
      "Processing:  28%|██▊       | 294/1060 [10:49<16:58,  1.33s/it]"
     ]
    },
    {
     "name": "stdout",
     "output_type": "stream",
     "text": [
      "===== 调试信息：服务器返回 =====\n",
      "{\"id\":\"0194dc624035bba4dd79704bc5a3c514\",\"object\":\"chat.completion\",\"created\":1738864214,\"model\":\"Qwen/Qwen2.5-32B-Instruct\",\"choices\":[{\"index\":0,\"message\":{\"role\":\"assistant\",\"content\":\"{\\n  \\\"classification\\\": \\\"经济\\\",\\n  \\\"sentiment\\\": \\\"positive\\\"\\n}\"},\"finish_reason\":\"stop\"}],\"usage\":{\"prompt_tokens\":2015,\"completion_tokens\":17,\"total_tokens\":2032},\"system_fingerprint\":\"\"}\n",
      "=============================\n",
      "\n"
     ]
    },
    {
     "name": "stderr",
     "output_type": "stream",
     "text": [
      "Processing:  28%|██▊       | 295/1060 [10:51<16:46,  1.32s/it]"
     ]
    },
    {
     "name": "stdout",
     "output_type": "stream",
     "text": [
      "===== 调试信息：服务器返回 =====\n",
      "{\"id\":\"0194dc624505d2a8f480e02da296390c\",\"object\":\"chat.completion\",\"created\":1738864215,\"model\":\"Qwen/Qwen2.5-32B-Instruct\",\"choices\":[{\"index\":0,\"message\":{\"role\":\"assistant\",\"content\":\"{\\n  \\\"classification\\\": \\\"国际政治\\\",\\n  \\\"sentiment\\\": \\\"negative\\\"\\n}\"},\"finish_reason\":\"stop\"}],\"usage\":{\"prompt_tokens\":868,\"completion_tokens\":18,\"total_tokens\":886},\"system_fingerprint\":\"\"}\n",
      "=============================\n",
      "\n"
     ]
    },
    {
     "name": "stderr",
     "output_type": "stream",
     "text": [
      "Processing:  28%|██▊       | 296/1060 [10:52<15:57,  1.25s/it]"
     ]
    },
    {
     "name": "stdout",
     "output_type": "stream",
     "text": [
      "===== 调试信息：服务器返回 =====\n",
      "{\"id\":\"0194dc6249c3e09e44a6487b2f86a790\",\"object\":\"chat.completion\",\"created\":1738864216,\"model\":\"Qwen/Qwen2.5-32B-Instruct\",\"choices\":[{\"index\":0,\"message\":{\"role\":\"assistant\",\"content\":\"{\\n  \\\"classification\\\": \\\"国际政治\\\",\\n  \\\"sentiment\\\": \\\"negative\\\"\\n}\"},\"finish_reason\":\"stop\"}],\"usage\":{\"prompt_tokens\":1054,\"completion_tokens\":18,\"total_tokens\":1072},\"system_fingerprint\":\"\"}\n",
      "=============================\n",
      "\n"
     ]
    },
    {
     "name": "stderr",
     "output_type": "stream",
     "text": [
      "Processing:  28%|██▊       | 297/1060 [10:53<15:54,  1.25s/it]"
     ]
    },
    {
     "name": "stdout",
     "output_type": "stream",
     "text": [
      "===== 调试信息：服务器返回 =====\n",
      "{\"id\":\"0194dc624e523d83d42648bbeda49eed\",\"object\":\"chat.completion\",\"created\":1738864217,\"model\":\"Qwen/Qwen2.5-32B-Instruct\",\"choices\":[{\"index\":0,\"message\":{\"role\":\"assistant\",\"content\":\"{\\n  \\\"classification\\\": \\\"国际政治\\\",\\n  \\\"sentiment\\\": \\\"negative\\\"\\n}\"},\"finish_reason\":\"stop\"}],\"usage\":{\"prompt_tokens\":2520,\"completion_tokens\":18,\"total_tokens\":2538},\"system_fingerprint\":\"\"}\n",
      "=============================\n",
      "\n"
     ]
    },
    {
     "name": "stderr",
     "output_type": "stream",
     "text": [
      "Processing:  28%|██▊       | 298/1060 [10:54<16:21,  1.29s/it]"
     ]
    },
    {
     "name": "stdout",
     "output_type": "stream",
     "text": [
      "===== 调试信息：服务器返回 =====\n",
      "{\"id\":\"0194dc6254588997de1f2c16e280caf6\",\"object\":\"chat.completion\",\"created\":1738864219,\"model\":\"Qwen/Qwen2.5-32B-Instruct\",\"choices\":[{\"index\":0,\"message\":{\"role\":\"assistant\",\"content\":\"{\\n  \\\"classification\\\": \\\"商务活动\\\",\\n  \\\"sentiment\\\": \\\"negative\\\"\\n}\"},\"finish_reason\":\"stop\"}],\"usage\":{\"prompt_tokens\":1803,\"completion_tokens\":18,\"total_tokens\":1821},\"system_fingerprint\":\"\"}\n",
      "=============================\n",
      "\n"
     ]
    },
    {
     "name": "stderr",
     "output_type": "stream",
     "text": [
      "Processing:  28%|██▊       | 299/1060 [10:56<16:47,  1.32s/it]"
     ]
    },
    {
     "name": "stdout",
     "output_type": "stream",
     "text": [
      "===== 调试信息：服务器返回 =====\n",
      "{\"id\":\"0194dc6259336c46133a513284d310d5\",\"object\":\"chat.completion\",\"created\":1738864220,\"model\":\"Qwen/Qwen2.5-32B-Instruct\",\"choices\":[{\"index\":0,\"message\":{\"role\":\"assistant\",\"content\":\"{\\n  \\\"classification\\\": \\\"国际政治\\\",\\n  \\\"sentiment\\\": \\\"negative\\\"\\n}\"},\"finish_reason\":\"stop\"}],\"usage\":{\"prompt_tokens\":4431,\"completion_tokens\":18,\"total_tokens\":4449},\"system_fingerprint\":\"\"}\n",
      "=============================\n",
      "\n"
     ]
    },
    {
     "name": "stderr",
     "output_type": "stream",
     "text": [
      "Processing:  28%|██▊       | 300/1060 [10:58<18:11,  1.44s/it]"
     ]
    },
    {
     "name": "stdout",
     "output_type": "stream",
     "text": [
      "触发速率限制 (HTTP 429)，等待60秒后重试...\n",
      "===== 调试信息：服务器返回 =====\n",
      "{\"id\":\"0194dc634a912302268da5f2ffc250ca\",\"object\":\"chat.completion\",\"created\":1738864282,\"model\":\"Qwen/Qwen2.5-32B-Instruct\",\"choices\":[{\"index\":0,\"message\":{\"role\":\"assistant\",\"content\":\"{\\n  \\\"classification\\\": \\\"国际政治\\\",\\n  \\\"sentiment\\\": \\\"negative\\\"\\n}\"},\"finish_reason\":\"stop\"}],\"usage\":{\"prompt_tokens\":1847,\"completion_tokens\":18,\"total_tokens\":1865},\"system_fingerprint\":\"\"}\n",
      "=============================\n",
      "\n"
     ]
    },
    {
     "name": "stderr",
     "output_type": "stream",
     "text": [
      "Processing:  28%|██▊       | 301/1060 [11:59<4:05:52, 19.44s/it]"
     ]
    },
    {
     "name": "stdout",
     "output_type": "stream",
     "text": [
      "===== 调试信息：服务器返回 =====\n",
      "{\"id\":\"0194dc634ffe749743600b9753d560df\",\"object\":\"chat.completion\",\"created\":1738864283,\"model\":\"Qwen/Qwen2.5-32B-Instruct\",\"choices\":[{\"index\":0,\"message\":{\"role\":\"assistant\",\"content\":\"{\\n  \\\"classification\\\": \\\"文化活动\\\",\\n  \\\"sentiment\\\": \\\"positive\\\"\\n}\"},\"finish_reason\":\"stop\"}],\"usage\":{\"prompt_tokens\":932,\"completion_tokens\":18,\"total_tokens\":950},\"system_fingerprint\":\"\"}\n",
      "=============================\n",
      "\n"
     ]
    },
    {
     "name": "stderr",
     "output_type": "stream",
     "text": [
      "Processing:  28%|██▊       | 302/1060 [12:00<2:56:32, 13.97s/it]"
     ]
    },
    {
     "name": "stdout",
     "output_type": "stream",
     "text": [
      "===== 调试信息：服务器返回 =====\n",
      "{\"id\":\"0194dc63548e6e1b8d910282566649de\",\"object\":\"chat.completion\",\"created\":1738864284,\"model\":\"Qwen/Qwen2.5-32B-Instruct\",\"choices\":[{\"index\":0,\"message\":{\"role\":\"assistant\",\"content\":\"{\\n  \\\"classification\\\": \\\"科技\\\",\\n  \\\"sentiment\\\": \\\"pleasure\\\"\\n}\"},\"finish_reason\":\"stop\"}],\"usage\":{\"prompt_tokens\":1623,\"completion_tokens\":18,\"total_tokens\":1641},\"system_fingerprint\":\"\"}\n",
      "=============================\n",
      "\n"
     ]
    },
    {
     "name": "stderr",
     "output_type": "stream",
     "text": [
      "Processing:  29%|██▊       | 303/1060 [12:02<2:08:18, 10.17s/it]"
     ]
    },
    {
     "name": "stdout",
     "output_type": "stream",
     "text": [
      "===== 调试信息：服务器返回 =====\n",
      "{\"id\":\"0194dc635991033ad5e80d15492742e5\",\"object\":\"chat.completion\",\"created\":1738864286,\"model\":\"Qwen/Qwen2.5-32B-Instruct\",\"choices\":[{\"index\":0,\"message\":{\"role\":\"assistant\",\"content\":\"{\\n  \\\"classification\\\": \\\"经济\\\",\\n  \\\"sentiment\\\": \\\"neutral\\\"\\n}\"},\"finish_reason\":\"stop\"}],\"usage\":{\"prompt_tokens\":1149,\"completion_tokens\":17,\"total_tokens\":1166},\"system_fingerprint\":\"\"}\n",
      "=============================\n",
      "\n"
     ]
    },
    {
     "name": "stderr",
     "output_type": "stream",
     "text": [
      "Processing:  29%|██▊       | 304/1060 [12:03<1:33:52,  7.45s/it]"
     ]
    },
    {
     "name": "stdout",
     "output_type": "stream",
     "text": [
      "===== 调试信息：服务器返回 =====\n",
      "{\"id\":\"0194dc635dddcdbd040538900eb27ac8\",\"object\":\"chat.completion\",\"created\":1738864287,\"model\":\"Qwen/Qwen2.5-32B-Instruct\",\"choices\":[{\"index\":0,\"message\":{\"role\":\"assistant\",\"content\":\"{\\n  \\\"classification\\\": \\\"商务活动\\\",\\n  \\\"sentiment\\\": \\\"positive\\\"\\n}\"},\"finish_reason\":\"stop\"}],\"usage\":{\"prompt_tokens\":662,\"completion_tokens\":18,\"total_tokens\":680},\"system_fingerprint\":\"\"}\n",
      "=============================\n",
      "\n"
     ]
    },
    {
     "name": "stderr",
     "output_type": "stream",
     "text": [
      "Processing:  29%|██▉       | 305/1060 [12:04<1:09:49,  5.55s/it]"
     ]
    },
    {
     "name": "stdout",
     "output_type": "stream",
     "text": [
      "===== 调试信息：服务器返回 =====\n",
      "{\"id\":\"0194dc636266b54e257fc99f1406c8ee\",\"object\":\"chat.completion\",\"created\":1738864288,\"model\":\"Qwen/Qwen2.5-32B-Instruct\",\"choices\":[{\"index\":0,\"message\":{\"role\":\"assistant\",\"content\":\"{\\n  \\\"classification\\\": \\\"经济\\\",\\n  \\\"sentiment\\\": \\\"negative\\\"\\n}\"},\"finish_reason\":\"stop\"}],\"usage\":{\"prompt_tokens\":5842,\"completion_tokens\":17,\"total_tokens\":5859},\"system_fingerprint\":\"\"}\n",
      "=============================\n",
      "\n"
     ]
    },
    {
     "name": "stderr",
     "output_type": "stream",
     "text": [
      "Processing:  29%|██▉       | 306/1060 [12:06<56:07,  4.47s/it]  "
     ]
    },
    {
     "name": "stdout",
     "output_type": "stream",
     "text": [
      "===== 调试信息：服务器返回 =====\n",
      "{\"id\":\"0194dc636b36299a0e7b80de6eaaca8a\",\"object\":\"chat.completion\",\"created\":1738864290,\"model\":\"Qwen/Qwen2.5-32B-Instruct\",\"choices\":[{\"index\":0,\"message\":{\"role\":\"assistant\",\"content\":\"{\\n  \\\"classification\\\": \\\"经济\\\",\\n  \\\"sentiment\\\": \\\"neutral\\\"\\n}\"},\"finish_reason\":\"stop\"}],\"usage\":{\"prompt_tokens\":1235,\"completion_tokens\":17,\"total_tokens\":1252},\"system_fingerprint\":\"\"}\n",
      "=============================\n",
      "\n"
     ]
    },
    {
     "name": "stderr",
     "output_type": "stream",
     "text": [
      "Processing:  29%|██▉       | 307/1060 [12:07<44:49,  3.57s/it]"
     ]
    },
    {
     "name": "stdout",
     "output_type": "stream",
     "text": [
      "===== 调试信息：服务器返回 =====\n",
      "{\"id\":\"0194dc636f9c1ffbfd185c6ddc8b455e\",\"object\":\"chat.completion\",\"created\":1738864291,\"model\":\"Qwen/Qwen2.5-32B-Instruct\",\"choices\":[{\"index\":0,\"message\":{\"role\":\"assistant\",\"content\":\"{\\n  \\\"classification\\\": \\\"经济\\\",\\n  \\\"sentiment\\\": \\\"negative\\\"\\n}\"},\"finish_reason\":\"stop\"}],\"usage\":{\"prompt_tokens\":1898,\"completion_tokens\":17,\"total_tokens\":1915},\"system_fingerprint\":\"\"}\n",
      "=============================\n",
      "\n"
     ]
    },
    {
     "name": "stderr",
     "output_type": "stream",
     "text": [
      "Processing:  29%|██▉       | 308/1060 [12:08<35:55,  2.87s/it]"
     ]
    },
    {
     "name": "stdout",
     "output_type": "stream",
     "text": [
      "===== 调试信息：服务器返回 =====\n",
      "{\"id\":\"0194dc63746508a728bcbe81f1c987a1\",\"object\":\"chat.completion\",\"created\":1738864292,\"model\":\"Qwen/Qwen2.5-32B-Instruct\",\"choices\":[{\"index\":0,\"message\":{\"role\":\"assistant\",\"content\":\"{\\n  \\\"classification\\\": \\\"文化活动\\\",\\n  \\\"sentiment\\\": \\\"pleasure\\\"\\n}\"},\"finish_reason\":\"stop\"}],\"usage\":{\"prompt_tokens\":1412,\"completion_tokens\":19,\"total_tokens\":1431},\"system_fingerprint\":\"\"}\n",
      "=============================\n",
      "\n"
     ]
    },
    {
     "name": "stderr",
     "output_type": "stream",
     "text": [
      "Processing:  29%|██▉       | 309/1060 [12:10<29:29,  2.36s/it]"
     ]
    },
    {
     "name": "stdout",
     "output_type": "stream",
     "text": [
      "===== 调试信息：服务器返回 =====\n",
      "{\"id\":\"0194dc6378fe80ee2e6bb85b865539cc\",\"object\":\"chat.completion\",\"created\":1738864294,\"model\":\"Qwen/Qwen2.5-32B-Instruct\",\"choices\":[{\"index\":0,\"message\":{\"role\":\"assistant\",\"content\":\"{\\n  \\\"classification\\\": \\\"经济\\\",\\n  \\\"sentiment\\\": \\\"negative\\\"\\n}\"},\"finish_reason\":\"stop\"}],\"usage\":{\"prompt_tokens\":1164,\"completion_tokens\":17,\"total_tokens\":1181},\"system_fingerprint\":\"\"}\n",
      "=============================\n",
      "\n"
     ]
    },
    {
     "name": "stderr",
     "output_type": "stream",
     "text": [
      "Processing:  29%|██▉       | 310/1060 [12:11<26:04,  2.09s/it]"
     ]
    },
    {
     "name": "stdout",
     "output_type": "stream",
     "text": [
      "===== 调试信息：服务器返回 =====\n",
      "{\"id\":\"0194dc637e9c264c32b55865e3c4f3a3\",\"object\":\"chat.completion\",\"created\":1738864295,\"model\":\"Qwen/Qwen2.5-32B-Instruct\",\"choices\":[{\"index\":0,\"message\":{\"role\":\"assistant\",\"content\":\"{\\n  \\\"classification\\\": \\\"国际政治\\\",\\n  \\\"sentiment\\\": \\\"negative\\\"\\n}\"},\"finish_reason\":\"stop\"}],\"usage\":{\"prompt_tokens\":1708,\"completion_tokens\":18,\"total_tokens\":1726},\"system_fingerprint\":\"\"}\n",
      "=============================\n",
      "\n"
     ]
    },
    {
     "name": "stderr",
     "output_type": "stream",
     "text": [
      "Processing:  29%|██▉       | 311/1060 [12:12<22:43,  1.82s/it]"
     ]
    },
    {
     "name": "stdout",
     "output_type": "stream",
     "text": [
      "===== 调试信息：服务器返回 =====\n",
      "{\"id\":\"0194dc6383cc7011fddcb70e12e22989\",\"object\":\"chat.completion\",\"created\":1738864296,\"model\":\"Qwen/Qwen2.5-32B-Instruct\",\"choices\":[{\"index\":0,\"message\":{\"role\":\"assistant\",\"content\":\"{\\n  \\\"classification\\\": \\\"国际政治\\\",\\n  \\\"sentiment\\\": \\\"negative\\\"\\n}\"},\"finish_reason\":\"stop\"}],\"usage\":{\"prompt_tokens\":2406,\"completion_tokens\":18,\"total_tokens\":2424},\"system_fingerprint\":\"\"}\n",
      "=============================\n",
      "\n"
     ]
    },
    {
     "name": "stderr",
     "output_type": "stream",
     "text": [
      "Processing:  29%|██▉       | 312/1060 [12:14<21:24,  1.72s/it]"
     ]
    },
    {
     "name": "stdout",
     "output_type": "stream",
     "text": [
      "===== 调试信息：服务器返回 =====\n",
      "{\"id\":\"0194dc63894ebcd124613a628066270d\",\"object\":\"chat.completion\",\"created\":1738864298,\"model\":\"Qwen/Qwen2.5-32B-Instruct\",\"choices\":[{\"index\":0,\"message\":{\"role\":\"assistant\",\"content\":\"{\\n  \\\"classification\\\": \\\"商务活动\\\",\\n  \\\"sentiment\\\": \\\"positive\\\"\\n}\"},\"finish_reason\":\"stop\"}],\"usage\":{\"prompt_tokens\":1627,\"completion_tokens\":18,\"total_tokens\":1645},\"system_fingerprint\":\"\"}\n",
      "=============================\n",
      "\n"
     ]
    },
    {
     "name": "stderr",
     "output_type": "stream",
     "text": [
      "Processing:  30%|██▉       | 313/1060 [12:15<19:47,  1.59s/it]"
     ]
    },
    {
     "name": "stdout",
     "output_type": "stream",
     "text": [
      "===== 调试信息：服务器返回 =====\n",
      "{\"id\":\"0194dc638e1a18bccd2f0755bc53ad1a\",\"object\":\"chat.completion\",\"created\":1738864299,\"model\":\"Qwen/Qwen2.5-32B-Instruct\",\"choices\":[{\"index\":0,\"message\":{\"role\":\"assistant\",\"content\":\"{\\n  \\\"classification\\\": \\\"环境\\\",\\n  \\\"sentiment\\\": \\\"negative\\\"\\n}\"},\"finish_reason\":\"stop\"}],\"usage\":{\"prompt_tokens\":2932,\"completion_tokens\":17,\"total_tokens\":2949},\"system_fingerprint\":\"\"}\n",
      "=============================\n",
      "\n"
     ]
    },
    {
     "name": "stderr",
     "output_type": "stream",
     "text": [
      "Processing:  30%|██▉       | 314/1060 [12:16<19:11,  1.54s/it]"
     ]
    },
    {
     "name": "stdout",
     "output_type": "stream",
     "text": [
      "===== 调试信息：服务器返回 =====\n",
      "{\"id\":\"0194dc63942965945c384ad4cac2ac04\",\"object\":\"chat.completion\",\"created\":1738864301,\"model\":\"Qwen/Qwen2.5-32B-Instruct\",\"choices\":[{\"index\":0,\"message\":{\"role\":\"assistant\",\"content\":\"{\\n  \\\"classification\\\": \\\"能源\\\",\\n  \\\"sentiment\\\": \\\"positive\\\"\\n}\"},\"finish_reason\":\"stop\"}],\"usage\":{\"prompt_tokens\":1537,\"completion_tokens\":17,\"total_tokens\":1554},\"system_fingerprint\":\"\"}\n",
      "=============================\n",
      "\n"
     ]
    },
    {
     "name": "stderr",
     "output_type": "stream",
     "text": [
      "Processing:  30%|██▉       | 315/1060 [12:18<18:25,  1.48s/it]"
     ]
    },
    {
     "name": "stdout",
     "output_type": "stream",
     "text": [
      "===== 调试信息：服务器返回 =====\n",
      "{\"id\":\"0194dc6399044e9d84030f9f4074c7f0\",\"object\":\"chat.completion\",\"created\":1738864302,\"model\":\"Qwen/Qwen2.5-32B-Instruct\",\"choices\":[{\"index\":0,\"message\":{\"role\":\"assistant\",\"content\":\"{\\n  \\\"classification\\\": \\\"经济\\\",\\n  \\\"sentiment\\\": \\\"negative\\\"\\n}\"},\"finish_reason\":\"stop\"}],\"usage\":{\"prompt_tokens\":1672,\"completion_tokens\":17,\"total_tokens\":1689},\"system_fingerprint\":\"\"}\n",
      "=============================\n",
      "\n"
     ]
    },
    {
     "name": "stderr",
     "output_type": "stream",
     "text": [
      "Processing:  30%|██▉       | 316/1060 [12:19<17:15,  1.39s/it]"
     ]
    },
    {
     "name": "stdout",
     "output_type": "stream",
     "text": [
      "===== 调试信息：服务器返回 =====\n",
      "{\"id\":\"0194dc639d9371bd99166f0447f85cdd\",\"object\":\"chat.completion\",\"created\":1738864303,\"model\":\"Qwen/Qwen2.5-32B-Instruct\",\"choices\":[{\"index\":0,\"message\":{\"role\":\"assistant\",\"content\":\"{\\n  \\\"classification\\\": \\\"经济\\\",\\n  \\\"sentiment\\\": \\\"negative\\\"\\n}\"},\"finish_reason\":\"stop\"}],\"usage\":{\"prompt_tokens\":1573,\"completion_tokens\":17,\"total_tokens\":1590},\"system_fingerprint\":\"\"}\n",
      "=============================\n",
      "\n"
     ]
    },
    {
     "name": "stderr",
     "output_type": "stream",
     "text": [
      "Processing:  30%|██▉       | 317/1060 [12:20<16:27,  1.33s/it]"
     ]
    },
    {
     "name": "stdout",
     "output_type": "stream",
     "text": [
      "===== 调试信息：服务器返回 =====\n",
      "{\"id\":\"0194dc63a2347002928ae1f060fcd4ec\",\"object\":\"chat.completion\",\"created\":1738864304,\"model\":\"Qwen/Qwen2.5-32B-Instruct\",\"choices\":[{\"index\":0,\"message\":{\"role\":\"assistant\",\"content\":\"{\\n  \\\"classification\\\": \\\"经济\\\",\\n  \\\"sentiment\\\": \\\"neutral\\\"\\n}\"},\"finish_reason\":\"stop\"}],\"usage\":{\"prompt_tokens\":1377,\"completion_tokens\":17,\"total_tokens\":1394},\"system_fingerprint\":\"\"}\n",
      "=============================\n",
      "\n"
     ]
    },
    {
     "name": "stderr",
     "output_type": "stream",
     "text": [
      "Processing:  30%|███       | 318/1060 [12:21<16:12,  1.31s/it]"
     ]
    },
    {
     "name": "stdout",
     "output_type": "stream",
     "text": [
      "===== 调试信息：服务器返回 =====\n",
      "{\"id\":\"0194dc63a739d405a2b7800fa0b4e9be\",\"object\":\"chat.completion\",\"created\":1738864305,\"model\":\"Qwen/Qwen2.5-32B-Instruct\",\"choices\":[{\"index\":0,\"message\":{\"role\":\"assistant\",\"content\":\"{\\n  \\\"classification\\\": \\\"经济\\\",\\n  \\\"sentiment\\\": \\\"neutral\\\"\\n}\"},\"finish_reason\":\"stop\"}],\"usage\":{\"prompt_tokens\":1495,\"completion_tokens\":17,\"total_tokens\":1512},\"system_fingerprint\":\"\"}\n",
      "=============================\n",
      "\n"
     ]
    },
    {
     "name": "stderr",
     "output_type": "stream",
     "text": [
      "Processing:  30%|███       | 319/1060 [12:23<15:42,  1.27s/it]"
     ]
    },
    {
     "name": "stdout",
     "output_type": "stream",
     "text": [
      "===== 调试信息：服务器返回 =====\n",
      "{\"id\":\"0194dc63abccc2797d27993f337c7d64\",\"object\":\"chat.completion\",\"created\":1738864307,\"model\":\"Qwen/Qwen2.5-32B-Instruct\",\"choices\":[{\"index\":0,\"message\":{\"role\":\"assistant\",\"content\":\"{\\n  \\\"classification\\\": \\\"国际政治\\\",\\n  \\\"sentiment\\\": \\\"neutral\\\"\\n}\"},\"finish_reason\":\"stop\"}],\"usage\":{\"prompt_tokens\":1663,\"completion_tokens\":18,\"total_tokens\":1681},\"system_fingerprint\":\"\"}\n",
      "=============================\n",
      "\n"
     ]
    },
    {
     "name": "stderr",
     "output_type": "stream",
     "text": [
      "Processing:  30%|███       | 320/1060 [12:24<15:37,  1.27s/it]"
     ]
    },
    {
     "name": "stdout",
     "output_type": "stream",
     "text": [
      "===== 调试信息：服务器返回 =====\n",
      "{\"id\":\"0194dc63b0aa43eb723c8f0e88843d60\",\"object\":\"chat.completion\",\"created\":1738864308,\"model\":\"Qwen/Qwen2.5-32B-Instruct\",\"choices\":[{\"index\":0,\"message\":{\"role\":\"assistant\",\"content\":\"{\\n  \\\"classification\\\": \\\"军事和防御\\\",\\n  \\\"sentiment\\\": \\\"neutral\\\"\\n}\"},\"finish_reason\":\"stop\"}],\"usage\":{\"prompt_tokens\":1332,\"completion_tokens\":19,\"total_tokens\":1351},\"system_fingerprint\":\"\"}\n",
      "=============================\n",
      "\n"
     ]
    },
    {
     "name": "stderr",
     "output_type": "stream",
     "text": [
      "Processing:  30%|███       | 321/1060 [12:25<15:10,  1.23s/it]"
     ]
    },
    {
     "name": "stdout",
     "output_type": "stream",
     "text": [
      "===== 调试信息：服务器返回 =====\n",
      "{\"id\":\"0194dc63b528999bc3a0f031788d7270\",\"object\":\"chat.completion\",\"created\":1738864309,\"model\":\"Qwen/Qwen2.5-32B-Instruct\",\"choices\":[{\"index\":0,\"message\":{\"role\":\"assistant\",\"content\":\"{\\n  \\\"classification\\\": \\\"国际政治\\\",\\n  \\\"sentiment\\\": \\\"neutral\\\"\\n}\"},\"finish_reason\":\"stop\"}],\"usage\":{\"prompt_tokens\":2627,\"completion_tokens\":18,\"total_tokens\":2645},\"system_fingerprint\":\"\"}\n",
      "=============================\n",
      "\n"
     ]
    },
    {
     "name": "stderr",
     "output_type": "stream",
     "text": [
      "Processing:  30%|███       | 322/1060 [12:26<15:51,  1.29s/it]"
     ]
    },
    {
     "name": "stdout",
     "output_type": "stream",
     "text": [
      "===== 调试信息：服务器返回 =====\n",
      "{\"id\":\"0194dc63bae2eb0836827136021569b4\",\"object\":\"chat.completion\",\"created\":1738864311,\"model\":\"Qwen/Qwen2.5-32B-Instruct\",\"choices\":[{\"index\":0,\"message\":{\"role\":\"assistant\",\"content\":\"{\\n  \\\"classification\\\": \\\"经济\\\",\\n  \\\"sentiment\\\": \\\"neutral\\\"\\n}\"},\"finish_reason\":\"stop\"}],\"usage\":{\"prompt_tokens\":1658,\"completion_tokens\":17,\"total_tokens\":1675},\"system_fingerprint\":\"\"}\n",
      "=============================\n",
      "\n"
     ]
    },
    {
     "name": "stderr",
     "output_type": "stream",
     "text": [
      "Processing:  30%|███       | 323/1060 [12:28<15:33,  1.27s/it]"
     ]
    },
    {
     "name": "stdout",
     "output_type": "stream",
     "text": [
      "===== 调试信息：服务器返回 =====\n",
      "{\"id\":\"0194dc63bf7ffe5c37ff1e13d5bb5908\",\"object\":\"chat.completion\",\"created\":1738864312,\"model\":\"Qwen/Qwen2.5-32B-Instruct\",\"choices\":[{\"index\":0,\"message\":{\"role\":\"assistant\",\"content\":\"{\\n  \\\"classification\\\": \\\"国际政治\\\",\\n  \\\"sentiment\\\": \\\"neutral\\\"\\n}\"},\"finish_reason\":\"stop\"}],\"usage\":{\"prompt_tokens\":2811,\"completion_tokens\":18,\"total_tokens\":2829},\"system_fingerprint\":\"\"}\n",
      "=============================\n",
      "\n"
     ]
    },
    {
     "name": "stderr",
     "output_type": "stream",
     "text": [
      "Processing:  31%|███       | 324/1060 [12:29<16:04,  1.31s/it]"
     ]
    },
    {
     "name": "stdout",
     "output_type": "stream",
     "text": [
      "===== 调试信息：服务器返回 =====\n",
      "{\"id\":\"0194dc63c4f966e8e6270c9fa48dcb23\",\"object\":\"chat.completion\",\"created\":1738864313,\"model\":\"Qwen/Qwen2.5-32B-Instruct\",\"choices\":[{\"index\":0,\"message\":{\"role\":\"assistant\",\"content\":\"{\\n  \\\"classification\\\": \\\"军事和防御\\\",\\n  \\\"sentiment\\\": \\\"neutral\\\"\\n}\"},\"finish_reason\":\"stop\"}],\"usage\":{\"prompt_tokens\":1480,\"completion_tokens\":19,\"total_tokens\":1499},\"system_fingerprint\":\"\"}\n",
      "=============================\n",
      "\n"
     ]
    },
    {
     "name": "stderr",
     "output_type": "stream",
     "text": [
      "Processing:  31%|███       | 325/1060 [12:30<15:38,  1.28s/it]"
     ]
    },
    {
     "name": "stdout",
     "output_type": "stream",
     "text": [
      "===== 调试信息：服务器返回 =====\n",
      "{\"id\":\"0194dc63c9b98d19402084c9c3d2bd20\",\"object\":\"chat.completion\",\"created\":1738864314,\"model\":\"Qwen/Qwen2.5-32B-Instruct\",\"choices\":[{\"index\":0,\"message\":{\"role\":\"assistant\",\"content\":\"{\\n  \\\"classification\\\": \\\"科技\\\",\\n  \\\"sentiment\\\": \\\"positive\\\"\\n}\"},\"finish_reason\":\"stop\"}],\"usage\":{\"prompt_tokens\":3096,\"completion_tokens\":17,\"total_tokens\":3113},\"system_fingerprint\":\"\"}\n",
      "=============================\n",
      "\n"
     ]
    },
    {
     "name": "stderr",
     "output_type": "stream",
     "text": [
      "Processing:  31%|███       | 326/1060 [12:32<16:19,  1.33s/it]"
     ]
    },
    {
     "name": "stdout",
     "output_type": "stream",
     "text": [
      "===== 调试信息：服务器返回 =====\n",
      "{\"id\":\"0194dc63cf74afeb59c86c10c9c385cf\",\"object\":\"chat.completion\",\"created\":1738864316,\"model\":\"Qwen/Qwen2.5-32B-Instruct\",\"choices\":[{\"index\":0,\"message\":{\"role\":\"assistant\",\"content\":\"{\\n  \\\"classification\\\": \\\"国际政治\\\",\\n  \\\"sentiment\\\": \\\"negative\\\"\\n}\"},\"finish_reason\":\"stop\"}],\"usage\":{\"prompt_tokens\":1864,\"completion_tokens\":18,\"total_tokens\":1882},\"system_fingerprint\":\"\"}\n",
      "=============================\n",
      "\n"
     ]
    },
    {
     "name": "stderr",
     "output_type": "stream",
     "text": [
      "Processing:  31%|███       | 327/1060 [12:33<15:55,  1.30s/it]"
     ]
    },
    {
     "name": "stdout",
     "output_type": "stream",
     "text": [
      "===== 调试信息：服务器返回 =====\n",
      "{\"id\":\"0194dc63d478e19d6f038f1ab8e57fe6\",\"object\":\"chat.completion\",\"created\":1738864317,\"model\":\"Qwen/Qwen2.5-32B-Instruct\",\"choices\":[{\"index\":0,\"message\":{\"role\":\"assistant\",\"content\":\"{\\n  \\\"classification\\\": \\\"军事和防御\\\",\\n  \\\"sentiment\\\": \\\"negative\\\"\\n}\"},\"finish_reason\":\"stop\"}],\"usage\":{\"prompt_tokens\":1939,\"completion_tokens\":19,\"total_tokens\":1958},\"system_fingerprint\":\"\"}\n",
      "=============================\n",
      "\n"
     ]
    },
    {
     "name": "stderr",
     "output_type": "stream",
     "text": [
      "Processing:  31%|███       | 328/1060 [12:34<15:59,  1.31s/it]"
     ]
    },
    {
     "name": "stdout",
     "output_type": "stream",
     "text": [
      "===== 调试信息：服务器返回 =====\n",
      "{\"id\":\"0194dc63d97225400693dce6694b90b3\",\"object\":\"chat.completion\",\"created\":1738864318,\"model\":\"Qwen/Qwen2.5-32B-Instruct\",\"choices\":[{\"index\":0,\"message\":{\"role\":\"assistant\",\"content\":\"{\\n  \\\"classification\\\": \\\"军事和防御\\\",\\n  \\\"sentiment\\\": \\\"negative\\\"\\n}\"},\"finish_reason\":\"stop\"}],\"usage\":{\"prompt_tokens\":2168,\"completion_tokens\":19,\"total_tokens\":2187},\"system_fingerprint\":\"\"}\n",
      "=============================\n",
      "\n"
     ]
    },
    {
     "name": "stderr",
     "output_type": "stream",
     "text": [
      "Processing:  31%|███       | 329/1060 [12:36<15:54,  1.31s/it]"
     ]
    },
    {
     "name": "stdout",
     "output_type": "stream",
     "text": [
      "===== 调试信息：服务器返回 =====\n",
      "{\"id\":\"0194dc63de86d55a8fa5b274422ccfb8\",\"object\":\"chat.completion\",\"created\":1738864320,\"model\":\"Qwen/Qwen2.5-32B-Instruct\",\"choices\":[{\"index\":0,\"message\":{\"role\":\"assistant\",\"content\":\"{\\n  \\\"classification\\\": \\\"国际政治\\\",\\n  \\\"sentiment\\\": \\\"neutral\\\"\\n}\"},\"finish_reason\":\"stop\"}],\"usage\":{\"prompt_tokens\":1612,\"completion_tokens\":18,\"total_tokens\":1630},\"system_fingerprint\":\"\"}\n",
      "=============================\n",
      "\n"
     ]
    },
    {
     "name": "stderr",
     "output_type": "stream",
     "text": [
      "Processing:  31%|███       | 330/1060 [12:37<15:36,  1.28s/it]"
     ]
    },
    {
     "name": "stdout",
     "output_type": "stream",
     "text": [
      "===== 调试信息：服务器返回 =====\n",
      "{\"id\":\"0194dc63e362a32137c167ba667e637b\",\"object\":\"chat.completion\",\"created\":1738864321,\"model\":\"Qwen/Qwen2.5-32B-Instruct\",\"choices\":[{\"index\":0,\"message\":{\"role\":\"assistant\",\"content\":\"{\\n  \\\"classification\\\": \\\"国内政治\\\",\\n  \\\"sentiment\\\": \\\"negative\\\"\\n}\"},\"finish_reason\":\"stop\"}],\"usage\":{\"prompt_tokens\":1651,\"completion_tokens\":18,\"total_tokens\":1669},\"system_fingerprint\":\"\"}\n",
      "=============================\n",
      "\n"
     ]
    },
    {
     "name": "stderr",
     "output_type": "stream",
     "text": [
      "Processing:  31%|███       | 331/1060 [12:38<15:31,  1.28s/it]"
     ]
    },
    {
     "name": "stdout",
     "output_type": "stream",
     "text": [
      "===== 调试信息：服务器返回 =====\n",
      "{\"id\":\"0194dc63e825a188267e9ed8444e5016\",\"object\":\"chat.completion\",\"created\":1738864322,\"model\":\"Qwen/Qwen2.5-32B-Instruct\",\"choices\":[{\"index\":0,\"message\":{\"role\":\"assistant\",\"content\":\"{\\n  \\\"classification\\\": \\\"文化活动\\\",\\n  \\\"sentiment\\\": \\\"pleasure\\\"\\n}\"},\"finish_reason\":\"stop\"}],\"usage\":{\"prompt_tokens\":1270,\"completion_tokens\":19,\"total_tokens\":1289},\"system_fingerprint\":\"\"}\n",
      "=============================\n",
      "\n"
     ]
    },
    {
     "name": "stderr",
     "output_type": "stream",
     "text": [
      "Processing:  31%|███▏      | 332/1060 [12:39<14:56,  1.23s/it]"
     ]
    },
    {
     "name": "stdout",
     "output_type": "stream",
     "text": [
      "===== 调试信息：服务器返回 =====\n",
      "{\"id\":\"0194dc63ec8ff717d64c264f0e50a3ef\",\"object\":\"chat.completion\",\"created\":1738864323,\"model\":\"Qwen/Qwen2.5-32B-Instruct\",\"choices\":[{\"index\":0,\"message\":{\"role\":\"assistant\",\"content\":\"{\\n  \\\"classification\\\": \\\"经济\\\",\\n  \\\"sentiment\\\": \\\"negative\\\"\\n}\"},\"finish_reason\":\"stop\"}],\"usage\":{\"prompt_tokens\":1270,\"completion_tokens\":17,\"total_tokens\":1287},\"system_fingerprint\":\"\"}\n",
      "=============================\n",
      "\n"
     ]
    },
    {
     "name": "stderr",
     "output_type": "stream",
     "text": [
      "Processing:  31%|███▏      | 333/1060 [12:40<14:30,  1.20s/it]"
     ]
    },
    {
     "name": "stdout",
     "output_type": "stream",
     "text": [
      "===== 调试信息：服务器返回 =====\n",
      "{\"id\":\"0194dc63f10191d81f69a6fae11e6704\",\"object\":\"chat.completion\",\"created\":1738864324,\"model\":\"Qwen/Qwen2.5-32B-Instruct\",\"choices\":[{\"index\":0,\"message\":{\"role\":\"assistant\",\"content\":\"{\\n  \\\"classification\\\": \\\"时尚\\\",\\n  \\\"sentiment\\\": \\\"pleasure\\\"\\n}\"},\"finish_reason\":\"stop\"}],\"usage\":{\"prompt_tokens\":1494,\"completion_tokens\":18,\"total_tokens\":1512},\"system_fingerprint\":\"\"}\n",
      "=============================\n",
      "\n"
     ]
    },
    {
     "name": "stderr",
     "output_type": "stream",
     "text": [
      "Processing:  32%|███▏      | 334/1060 [12:41<14:29,  1.20s/it]"
     ]
    },
    {
     "name": "stdout",
     "output_type": "stream",
     "text": [
      "===== 调试信息：服务器返回 =====\n",
      "{\"id\":\"0194dc63f5b7336a046b432d9294476b\",\"object\":\"chat.completion\",\"created\":1738864326,\"model\":\"Qwen/Qwen2.5-32B-Instruct\",\"choices\":[{\"index\":0,\"message\":{\"role\":\"assistant\",\"content\":\"{\\n  \\\"classification\\\": \\\"体育\\\",\\n  \\\"sentiment\\\": \\\"negative\\\"\\n}\"},\"finish_reason\":\"stop\"}],\"usage\":{\"prompt_tokens\":1862,\"completion_tokens\":17,\"total_tokens\":1879},\"system_fingerprint\":\"\"}\n",
      "=============================\n",
      "\n"
     ]
    },
    {
     "name": "stderr",
     "output_type": "stream",
     "text": [
      "Processing:  32%|███▏      | 335/1060 [12:43<14:40,  1.21s/it]"
     ]
    },
    {
     "name": "stdout",
     "output_type": "stream",
     "text": [
      "===== 调试信息：服务器返回 =====\n",
      "{\"id\":\"0194dc63fa89b63990a2e308b2ea1913\",\"object\":\"chat.completion\",\"created\":1738864327,\"model\":\"Qwen/Qwen2.5-32B-Instruct\",\"choices\":[{\"index\":0,\"message\":{\"role\":\"assistant\",\"content\":\"{\\n  \\\"classification\\\": \\\"商务活动\\\",\\n  \\\"sentiment\\\": \\\"negative\\\"\\n}\"},\"finish_reason\":\"stop\"}],\"usage\":{\"prompt_tokens\":1445,\"completion_tokens\":18,\"total_tokens\":1463},\"system_fingerprint\":\"\"}\n",
      "=============================\n",
      "\n"
     ]
    },
    {
     "name": "stderr",
     "output_type": "stream",
     "text": [
      "Processing:  32%|███▏      | 336/1060 [12:44<14:31,  1.20s/it]"
     ]
    },
    {
     "name": "stdout",
     "output_type": "stream",
     "text": [
      "===== 调试信息：服务器返回 =====\n",
      "{\"id\":\"0194dc63ff397f4fcc1f08960a4ee347\",\"object\":\"chat.completion\",\"created\":1738864328,\"model\":\"Qwen/Qwen2.5-32B-Instruct\",\"choices\":[{\"index\":0,\"message\":{\"role\":\"assistant\",\"content\":\"{\\n  \\\"classification\\\": \\\"国际政治\\\",\\n  \\\"sentiment\\\": \\\"negative\\\"\\n}\"},\"finish_reason\":\"stop\"}],\"usage\":{\"prompt_tokens\":1664,\"completion_tokens\":18,\"total_tokens\":1682},\"system_fingerprint\":\"\"}\n",
      "=============================\n",
      "\n"
     ]
    },
    {
     "name": "stderr",
     "output_type": "stream",
     "text": [
      "Processing:  32%|███▏      | 337/1060 [12:45<14:29,  1.20s/it]"
     ]
    },
    {
     "name": "stdout",
     "output_type": "stream",
     "text": [
      "===== 调试信息：服务器返回 =====\n",
      "{\"id\":\"0194dc6403f7594b050dc6ec326cb990\",\"object\":\"chat.completion\",\"created\":1738864329,\"model\":\"Qwen/Qwen2.5-32B-Instruct\",\"choices\":[{\"index\":0,\"message\":{\"role\":\"assistant\",\"content\":\"{\\n  \\\"classification\\\": \\\"经济\\\",\\n  \\\"sentiment\\\": \\\"negative\\\"\\n}\"},\"finish_reason\":\"stop\"}],\"usage\":{\"prompt_tokens\":1738,\"completion_tokens\":17,\"total_tokens\":1755},\"system_fingerprint\":\"\"}\n",
      "=============================\n",
      "\n"
     ]
    },
    {
     "name": "stderr",
     "output_type": "stream",
     "text": [
      "Processing:  32%|███▏      | 338/1060 [12:46<14:37,  1.21s/it]"
     ]
    },
    {
     "name": "stdout",
     "output_type": "stream",
     "text": [
      "触发速率限制 (HTTP 429)，等待60秒后重试...\n",
      "===== 调试信息：服务器返回 =====\n",
      "{\"id\":\"0194dc64f37e77bac1c285b3f1380025\",\"object\":\"chat.completion\",\"created\":1738864391,\"model\":\"Qwen/Qwen2.5-32B-Instruct\",\"choices\":[{\"index\":0,\"message\":{\"role\":\"assistant\",\"content\":\"{\\n  \\\"classification\\\": \\\"国内政治\\\",\\n  \\\"sentiment\\\": \\\"neutral\\\"\\n}\"},\"finish_reason\":\"stop\"}],\"usage\":{\"prompt_tokens\":1578,\"completion_tokens\":18,\"total_tokens\":1596},\"system_fingerprint\":\"\"}\n",
      "=============================\n",
      "\n"
     ]
    },
    {
     "name": "stderr",
     "output_type": "stream",
     "text": [
      "Processing:  32%|███▏      | 339/1060 [13:48<3:51:09, 19.24s/it]"
     ]
    },
    {
     "name": "stdout",
     "output_type": "stream",
     "text": [
      "===== 调试信息：服务器返回 =====\n",
      "{\"id\":\"0194dc64f829f0960badbbfc6d7e75f5\",\"object\":\"chat.completion\",\"created\":1738864392,\"model\":\"Qwen/Qwen2.5-32B-Instruct\",\"choices\":[{\"index\":0,\"message\":{\"role\":\"assistant\",\"content\":\"{\\n  \\\"classification\\\": \\\"国际政治\\\",\\n  \\\"sentiment\\\": \\\"negative\\\"\\n}\"},\"finish_reason\":\"stop\"}],\"usage\":{\"prompt_tokens\":2233,\"completion_tokens\":18,\"total_tokens\":2251},\"system_fingerprint\":\"\"}\n",
      "=============================\n",
      "\n"
     ]
    },
    {
     "name": "stderr",
     "output_type": "stream",
     "text": [
      "Processing:  32%|███▏      | 340/1060 [13:49<2:46:13, 13.85s/it]"
     ]
    },
    {
     "name": "stdout",
     "output_type": "stream",
     "text": [
      "===== 调试信息：服务器返回 =====\n",
      "{\"id\":\"0194dc64fd1652e715452a59c2c28aed\",\"object\":\"chat.completion\",\"created\":1738864393,\"model\":\"Qwen/Qwen2.5-32B-Instruct\",\"choices\":[{\"index\":0,\"message\":{\"role\":\"assistant\",\"content\":\"{\\n  \\\"classification\\\": \\\"科技\\\",\\n  \\\"sentiment\\\": \\\"negative\\\"\\n}\"},\"finish_reason\":\"stop\"}],\"usage\":{\"prompt_tokens\":1435,\"completion_tokens\":17,\"total_tokens\":1452},\"system_fingerprint\":\"\"}\n",
      "=============================\n",
      "\n"
     ]
    },
    {
     "name": "stderr",
     "output_type": "stream",
     "text": [
      "Processing:  32%|███▏      | 341/1060 [13:50<2:00:22, 10.04s/it]"
     ]
    },
    {
     "name": "stdout",
     "output_type": "stream",
     "text": [
      "===== 调试信息：服务器返回 =====\n",
      "{\"id\":\"0194dc6501cc581d7c212f59511c55fc\",\"object\":\"chat.completion\",\"created\":1738864394,\"model\":\"Qwen/Qwen2.5-32B-Instruct\",\"choices\":[{\"index\":0,\"message\":{\"role\":\"assistant\",\"content\":\"{\\n  \\\"classification\\\": \\\"文化活动\\\",\\n  \\\"sentiment\\\": \\\"pleasure\\\"\\n}\"},\"finish_reason\":\"stop\"}],\"usage\":{\"prompt_tokens\":1449,\"completion_tokens\":19,\"total_tokens\":1468},\"system_fingerprint\":\"\"}\n",
      "=============================\n",
      "\n"
     ]
    },
    {
     "name": "stderr",
     "output_type": "stream",
     "text": [
      "Processing:  32%|███▏      | 342/1060 [13:51<1:28:39,  7.41s/it]"
     ]
    },
    {
     "name": "stdout",
     "output_type": "stream",
     "text": [
      "===== 调试信息：服务器返回 =====\n",
      "{\"id\":\"0194dc650683627039dd24acb19e5f03\",\"object\":\"chat.completion\",\"created\":1738864395,\"model\":\"Qwen/Qwen2.5-32B-Instruct\",\"choices\":[{\"index\":0,\"message\":{\"role\":\"assistant\",\"content\":\"{\\n  \\\"classification\\\": \\\"经济\\\",\\n  \\\"sentiment\\\": \\\"negative\\\"\\n}\"},\"finish_reason\":\"stop\"}],\"usage\":{\"prompt_tokens\":1591,\"completion_tokens\":17,\"total_tokens\":1608},\"system_fingerprint\":\"\"}\n",
      "=============================\n",
      "\n"
     ]
    },
    {
     "name": "stderr",
     "output_type": "stream",
     "text": [
      "Processing:  32%|███▏      | 343/1060 [13:52<1:06:08,  5.53s/it]"
     ]
    },
    {
     "name": "stdout",
     "output_type": "stream",
     "text": [
      "===== 调试信息：服务器返回 =====\n",
      "{\"id\":\"0194dc650b56b7282b26b6da5ace401e\",\"object\":\"chat.completion\",\"created\":1738864397,\"model\":\"Qwen/Qwen2.5-32B-Instruct\",\"choices\":[{\"index\":0,\"message\":{\"role\":\"assistant\",\"content\":\"{\\n  \\\"classification\\\": \\\"国际政治\\\",\\n  \\\"sentiment\\\": \\\"negative\\\"\\n}\"},\"finish_reason\":\"stop\"}],\"usage\":{\"prompt_tokens\":2452,\"completion_tokens\":18,\"total_tokens\":2470},\"system_fingerprint\":\"\"}\n",
      "=============================\n",
      "\n"
     ]
    },
    {
     "name": "stderr",
     "output_type": "stream",
     "text": [
      "Processing:  32%|███▏      | 344/1060 [13:54<51:42,  4.33s/it]  "
     ]
    },
    {
     "name": "stdout",
     "output_type": "stream",
     "text": [
      "===== 调试信息：服务器返回 =====\n",
      "{\"id\":\"0194dc6511093924a54cd0d54af0a8eb\",\"object\":\"chat.completion\",\"created\":1738864398,\"model\":\"Qwen/Qwen2.5-32B-Instruct\",\"choices\":[{\"index\":0,\"message\":{\"role\":\"assistant\",\"content\":\"{\\n  \\\"classification\\\": \\\"商务活动\\\",\\n  \\\"sentiment\\\": \\\"positive\\\"\\n}\"},\"finish_reason\":\"stop\"}],\"usage\":{\"prompt_tokens\":1461,\"completion_tokens\":18,\"total_tokens\":1479},\"system_fingerprint\":\"\"}\n",
      "=============================\n",
      "\n"
     ]
    },
    {
     "name": "stderr",
     "output_type": "stream",
     "text": [
      "Processing:  33%|███▎      | 345/1060 [13:55<40:15,  3.38s/it]"
     ]
    },
    {
     "name": "stdout",
     "output_type": "stream",
     "text": [
      "===== 调试信息：服务器返回 =====\n",
      "{\"id\":\"0194dc6515ae227c7b2f64ad05d0b774\",\"object\":\"chat.completion\",\"created\":1738864399,\"model\":\"Qwen/Qwen2.5-32B-Instruct\",\"choices\":[{\"index\":0,\"message\":{\"role\":\"assistant\",\"content\":\"{\\n  \\\"classification\\\": \\\"灾害\\\",\\n  \\\"sentiment\\\": \\\"negative\\\"\\n}\"},\"finish_reason\":\"stop\"}],\"usage\":{\"prompt_tokens\":1052,\"completion_tokens\":17,\"total_tokens\":1069},\"system_fingerprint\":\"\"}\n",
      "=============================\n",
      "\n"
     ]
    },
    {
     "name": "stderr",
     "output_type": "stream",
     "text": [
      "Processing:  33%|███▎      | 346/1060 [13:56<32:11,  2.71s/it]"
     ]
    },
    {
     "name": "stdout",
     "output_type": "stream",
     "text": [
      "===== 调试信息：服务器返回 =====\n",
      "{\"id\":\"0194dc651a1eb9fc612f5cb3d792ba4b\",\"object\":\"chat.completion\",\"created\":1738864400,\"model\":\"Qwen/Qwen2.5-32B-Instruct\",\"choices\":[{\"index\":0,\"message\":{\"role\":\"assistant\",\"content\":\"{\\n  \\\"classification\\\": \\\"商务活动\\\",\\n  \\\"sentiment\\\": \\\"negative\\\"\\n}\"},\"finish_reason\":\"stop\"}],\"usage\":{\"prompt_tokens\":1161,\"completion_tokens\":18,\"total_tokens\":1179},\"system_fingerprint\":\"\"}\n",
      "=============================\n",
      "\n"
     ]
    },
    {
     "name": "stderr",
     "output_type": "stream",
     "text": [
      "Processing:  33%|███▎      | 347/1060 [13:57<26:40,  2.24s/it]"
     ]
    },
    {
     "name": "stdout",
     "output_type": "stream",
     "text": [
      "===== 调试信息：服务器返回 =====\n",
      "{\"id\":\"0194dc651e878b48c9d0a43e4484f796\",\"object\":\"chat.completion\",\"created\":1738864402,\"model\":\"Qwen/Qwen2.5-32B-Instruct\",\"choices\":[{\"index\":0,\"message\":{\"role\":\"assistant\",\"content\":\"{\\n  \\\"classification\\\": \\\"文化活动\\\",\\n  \\\"sentiment\\\": \\\"neutral\\\"\\n}\"},\"finish_reason\":\"stop\"}],\"usage\":{\"prompt_tokens\":1496,\"completion_tokens\":18,\"total_tokens\":1514},\"system_fingerprint\":\"\"}\n",
      "=============================\n",
      "\n"
     ]
    },
    {
     "name": "stderr",
     "output_type": "stream",
     "text": [
      "Processing:  33%|███▎      | 348/1060 [13:59<22:44,  1.92s/it]"
     ]
    },
    {
     "name": "stdout",
     "output_type": "stream",
     "text": [
      "===== 调试信息：服务器返回 =====\n",
      "{\"id\":\"0194dc65232dfe79d6ae7dd6ab65f680\",\"object\":\"chat.completion\",\"created\":1738864403,\"model\":\"Qwen/Qwen2.5-32B-Instruct\",\"choices\":[{\"index\":0,\"message\":{\"role\":\"assistant\",\"content\":\"{\\n  \\\"classification\\\": \\\"商务活动\\\",\\n  \\\"sentiment\\\": \\\"negative\\\"\\n}\"},\"finish_reason\":\"stop\"}],\"usage\":{\"prompt_tokens\":2278,\"completion_tokens\":18,\"total_tokens\":2296},\"system_fingerprint\":\"\"}\n",
      "=============================\n",
      "\n"
     ]
    },
    {
     "name": "stderr",
     "output_type": "stream",
     "text": [
      "Processing:  33%|███▎      | 349/1060 [14:00<20:33,  1.73s/it]"
     ]
    },
    {
     "name": "stdout",
     "output_type": "stream",
     "text": [
      "===== 调试信息：服务器返回 =====\n",
      "{\"id\":\"0194dc65282d7364b08c863fab3b64cb\",\"object\":\"chat.completion\",\"created\":1738864404,\"model\":\"Qwen/Qwen2.5-32B-Instruct\",\"choices\":[{\"index\":0,\"message\":{\"role\":\"assistant\",\"content\":\"{\\n  \\\"classification\\\": \\\"国际政治\\\",\\n  \\\"sentiment\\\": \\\"negative\\\"\\n}\"},\"finish_reason\":\"stop\"}],\"usage\":{\"prompt_tokens\":2439,\"completion_tokens\":18,\"total_tokens\":2457},\"system_fingerprint\":\"\"}\n",
      "=============================\n",
      "\n"
     ]
    },
    {
     "name": "stderr",
     "output_type": "stream",
     "text": [
      "Processing:  33%|███▎      | 350/1060 [14:01<19:35,  1.66s/it]"
     ]
    },
    {
     "name": "stdout",
     "output_type": "stream",
     "text": [
      "===== 调试信息：服务器返回 =====\n",
      "{\"id\":\"0194dc652dec1b2099ada560fad36c73\",\"object\":\"chat.completion\",\"created\":1738864406,\"model\":\"Qwen/Qwen2.5-32B-Instruct\",\"choices\":[{\"index\":0,\"message\":{\"role\":\"assistant\",\"content\":\"{\\n  \\\"classification\\\": \\\"国际政治\\\",\\n  \\\"sentiment\\\": \\\"neutral\\\"\\n}\"},\"finish_reason\":\"stop\"}],\"usage\":{\"prompt_tokens\":1688,\"completion_tokens\":18,\"total_tokens\":1706},\"system_fingerprint\":\"\"}\n",
      "=============================\n",
      "\n"
     ]
    },
    {
     "name": "stderr",
     "output_type": "stream",
     "text": [
      "Processing:  33%|███▎      | 351/1060 [14:03<18:22,  1.56s/it]"
     ]
    },
    {
     "name": "stdout",
     "output_type": "stream",
     "text": [
      "===== 调试信息：服务器返回 =====\n",
      "{\"id\":\"0194dc6533121dbf2e79b9d60daa1939\",\"object\":\"chat.completion\",\"created\":1738864407,\"model\":\"Qwen/Qwen2.5-32B-Instruct\",\"choices\":[{\"index\":0,\"message\":{\"role\":\"assistant\",\"content\":\"{\\n  \\\"classification\\\": \\\"国际政治\\\",\\n  \\\"sentiment\\\": \\\"negative\\\"\\n}\"},\"finish_reason\":\"stop\"}],\"usage\":{\"prompt_tokens\":1922,\"completion_tokens\":18,\"total_tokens\":1940},\"system_fingerprint\":\"\"}\n",
      "=============================\n",
      "\n"
     ]
    },
    {
     "name": "stderr",
     "output_type": "stream",
     "text": [
      "Processing:  33%|███▎      | 352/1060 [14:04<17:15,  1.46s/it]"
     ]
    },
    {
     "name": "stdout",
     "output_type": "stream",
     "text": [
      "===== 调试信息：服务器返回 =====\n",
      "{\"id\":\"0194dc6538887e014a3aa115cdd50c00\",\"object\":\"chat.completion\",\"created\":1738864408,\"model\":\"Qwen/Qwen2.5-32B-Instruct\",\"choices\":[{\"index\":0,\"message\":{\"role\":\"assistant\",\"content\":\"{\\n  \\\"classification\\\": \\\"商务活动\\\",\\n  \\\"sentiment\\\": \\\"negative\\\"\\n}\"},\"finish_reason\":\"stop\"}],\"usage\":{\"prompt_tokens\":1194,\"completion_tokens\":18,\"total_tokens\":1212},\"system_fingerprint\":\"\"}\n",
      "=============================\n",
      "\n"
     ]
    },
    {
     "name": "stderr",
     "output_type": "stream",
     "text": [
      "Processing:  33%|███▎      | 353/1060 [14:05<16:44,  1.42s/it]"
     ]
    },
    {
     "name": "stdout",
     "output_type": "stream",
     "text": [
      "===== 调试信息：服务器返回 =====\n",
      "{\"id\":\"0194dc653d25eeee64441dc9b0988e79\",\"object\":\"chat.completion\",\"created\":1738864409,\"model\":\"Qwen/Qwen2.5-32B-Instruct\",\"choices\":[{\"index\":0,\"message\":{\"role\":\"assistant\",\"content\":\"{\\n  \\\"classification\\\": \\\"国际政治\\\",\\n  \\\"sentiment\\\": \\\"neutral\\\"\\n}\"},\"finish_reason\":\"stop\"}],\"usage\":{\"prompt_tokens\":2740,\"completion_tokens\":18,\"total_tokens\":2758},\"system_fingerprint\":\"\"}\n",
      "=============================\n",
      "\n"
     ]
    },
    {
     "name": "stderr",
     "output_type": "stream",
     "text": [
      "Processing:  33%|███▎      | 354/1060 [14:07<17:22,  1.48s/it]"
     ]
    },
    {
     "name": "stdout",
     "output_type": "stream",
     "text": [
      "===== 调试信息：服务器返回 =====\n",
      "{\"id\":\"0194dc65436a4b7c6d5bcc4065588f3b\",\"object\":\"chat.completion\",\"created\":1738864411,\"model\":\"Qwen/Qwen2.5-32B-Instruct\",\"choices\":[{\"index\":0,\"message\":{\"role\":\"assistant\",\"content\":\"{\\n  \\\"classification\\\": \\\"经济\\\",\\n  \\\"sentiment\\\": \\\"negative\\\"\\n}\"},\"finish_reason\":\"stop\"}],\"usage\":{\"prompt_tokens\":2693,\"completion_tokens\":17,\"total_tokens\":2710},\"system_fingerprint\":\"\"}\n",
      "=============================\n",
      "\n"
     ]
    },
    {
     "name": "stderr",
     "output_type": "stream",
     "text": [
      "Processing:  33%|███▎      | 355/1060 [14:08<17:07,  1.46s/it]"
     ]
    },
    {
     "name": "stdout",
     "output_type": "stream",
     "text": [
      "===== 调试信息：服务器返回 =====\n",
      "{\"id\":\"0194dc6548f8cb85bafc6e47f5f886f6\",\"object\":\"chat.completion\",\"created\":1738864412,\"model\":\"Qwen/Qwen2.5-32B-Instruct\",\"choices\":[{\"index\":0,\"message\":{\"role\":\"assistant\",\"content\":\"{\\n  \\\"classification\\\": \\\"奥运\\\",\\n  \\\"sentiment\\\": \\\"pleasure\\\"\\n}\"},\"finish_reason\":\"stop\"}],\"usage\":{\"prompt_tokens\":1516,\"completion_tokens\":18,\"total_tokens\":1534},\"system_fingerprint\":\"\"}\n",
      "=============================\n",
      "\n"
     ]
    },
    {
     "name": "stderr",
     "output_type": "stream",
     "text": [
      "Processing:  34%|███▎      | 356/1060 [14:10<16:51,  1.44s/it]"
     ]
    },
    {
     "name": "stdout",
     "output_type": "stream",
     "text": [
      "===== 调试信息：服务器返回 =====\n",
      "{\"id\":\"0194dc654ea1fd149cca6c64a82dd353\",\"object\":\"chat.completion\",\"created\":1738864414,\"model\":\"Qwen/Qwen2.5-32B-Instruct\",\"choices\":[{\"index\":0,\"message\":{\"role\":\"assistant\",\"content\":\"{\\n  \\\"classification\\\": \\\"国际政治\\\",\\n  \\\"sentiment\\\": \\\"neutral\\\"\\n}\"},\"finish_reason\":\"stop\"}],\"usage\":{\"prompt_tokens\":1511,\"completion_tokens\":18,\"total_tokens\":1529},\"system_fingerprint\":\"\"}\n",
      "=============================\n",
      "\n"
     ]
    },
    {
     "name": "stderr",
     "output_type": "stream",
     "text": [
      "Processing:  34%|███▎      | 357/1060 [14:11<16:12,  1.38s/it]"
     ]
    },
    {
     "name": "stdout",
     "output_type": "stream",
     "text": [
      "===== 调试信息：服务器返回 =====\n",
      "{\"id\":\"0194dc655349dff3aa7e50045be33e76\",\"object\":\"chat.completion\",\"created\":1738864415,\"model\":\"Qwen/Qwen2.5-32B-Instruct\",\"choices\":[{\"index\":0,\"message\":{\"role\":\"assistant\",\"content\":\"{\\n  \\\"classification\\\": \\\"文化活动\\\",\\n  \\\"sentiment\\\": \\\"pleasure\\\"\\n}\"},\"finish_reason\":\"stop\"}],\"usage\":{\"prompt_tokens\":1521,\"completion_tokens\":19,\"total_tokens\":1540},\"system_fingerprint\":\"\"}\n",
      "=============================\n",
      "\n"
     ]
    },
    {
     "name": "stderr",
     "output_type": "stream",
     "text": [
      "Processing:  34%|███▍      | 358/1060 [14:12<15:35,  1.33s/it]"
     ]
    },
    {
     "name": "stdout",
     "output_type": "stream",
     "text": [
      "===== 调试信息：服务器返回 =====\n",
      "{\"id\":\"0194dc655855a94e0bebc052604ce7c4\",\"object\":\"chat.completion\",\"created\":1738864416,\"model\":\"Qwen/Qwen2.5-32B-Instruct\",\"choices\":[{\"index\":0,\"message\":{\"role\":\"assistant\",\"content\":\"{\\n  \\\"classification\\\": \\\"体育\\\",\\n  \\\"sentiment\\\": \\\"positive\\\"\\n}\"},\"finish_reason\":\"stop\"}],\"usage\":{\"prompt_tokens\":2044,\"completion_tokens\":17,\"total_tokens\":2061},\"system_fingerprint\":\"\"}\n",
      "=============================\n",
      "\n"
     ]
    },
    {
     "name": "stderr",
     "output_type": "stream",
     "text": [
      "Processing:  34%|███▍      | 359/1060 [14:14<15:36,  1.34s/it]"
     ]
    },
    {
     "name": "stdout",
     "output_type": "stream",
     "text": [
      "===== 调试信息：服务器返回 =====\n",
      "{\"id\":\"0194dc655d6502d1490e02b6af818e61\",\"object\":\"chat.completion\",\"created\":1738864418,\"model\":\"Qwen/Qwen2.5-32B-Instruct\",\"choices\":[{\"index\":0,\"message\":{\"role\":\"assistant\",\"content\":\"{\\n  \\\"classification\\\": \\\"体育\\\",\\n  \\\"sentiment\\\": \\\"neutral\\\"\\n}\"},\"finish_reason\":\"stop\"}],\"usage\":{\"prompt_tokens\":1610,\"completion_tokens\":17,\"total_tokens\":1627},\"system_fingerprint\":\"\"}\n",
      "=============================\n",
      "\n"
     ]
    },
    {
     "name": "stderr",
     "output_type": "stream",
     "text": [
      "Processing:  34%|███▍      | 360/1060 [14:15<15:05,  1.29s/it]"
     ]
    },
    {
     "name": "stdout",
     "output_type": "stream",
     "text": [
      "===== 调试信息：服务器返回 =====\n",
      "{\"id\":\"0194dc6561f826ae17d974d7ef19597e\",\"object\":\"chat.completion\",\"created\":1738864419,\"model\":\"Qwen/Qwen2.5-32B-Instruct\",\"choices\":[{\"index\":0,\"message\":{\"role\":\"assistant\",\"content\":\"{\\n  \\\"classification\\\": \\\"社会关系\\\",\\n  \\\"sentiment\\\": \\\"pain\\\"\\n}\"},\"finish_reason\":\"stop\"}],\"usage\":{\"prompt_tokens\":1212,\"completion_tokens\":18,\"total_tokens\":1230},\"system_fingerprint\":\"\"}\n",
      "=============================\n",
      "\n"
     ]
    },
    {
     "name": "stderr",
     "output_type": "stream",
     "text": [
      "Processing:  34%|███▍      | 361/1060 [14:16<14:27,  1.24s/it]"
     ]
    },
    {
     "name": "stdout",
     "output_type": "stream",
     "text": [
      "===== 调试信息：服务器返回 =====\n",
      "{\"id\":\"0194dc65664b0e3dfba0b37766cc45f1\",\"object\":\"chat.completion\",\"created\":1738864420,\"model\":\"Qwen/Qwen2.5-32B-Instruct\",\"choices\":[{\"index\":0,\"message\":{\"role\":\"assistant\",\"content\":\"{\\n  \\\"classification\\\": \\\"奥运\\\",\\n  \\\"sentiment\\\": \\\"positive\\\"\\n}\"},\"finish_reason\":\"stop\"}],\"usage\":{\"prompt_tokens\":2060,\"completion_tokens\":17,\"total_tokens\":2077},\"system_fingerprint\":\"\"}\n",
      "=============================\n",
      "\n"
     ]
    },
    {
     "name": "stderr",
     "output_type": "stream",
     "text": [
      "Processing:  34%|███▍      | 362/1060 [14:17<14:30,  1.25s/it]"
     ]
    },
    {
     "name": "stdout",
     "output_type": "stream",
     "text": [
      "===== 调试信息：服务器返回 =====\n",
      "{\"id\":\"0194dc656bbc676aebf504540722be44\",\"object\":\"chat.completion\",\"created\":1738864421,\"model\":\"Qwen/Qwen2.5-32B-Instruct\",\"choices\":[{\"index\":0,\"message\":{\"role\":\"assistant\",\"content\":\"{\\n  \\\"classification\\\": \\\"经济\\\",\\n  \\\"sentiment\\\": \\\"positive\\\"\\n}\"},\"finish_reason\":\"stop\"}],\"usage\":{\"prompt_tokens\":2497,\"completion_tokens\":17,\"total_tokens\":2514},\"system_fingerprint\":\"\"}\n",
      "=============================\n",
      "\n"
     ]
    },
    {
     "name": "stderr",
     "output_type": "stream",
     "text": [
      "Processing:  34%|███▍      | 363/1060 [14:19<15:14,  1.31s/it]"
     ]
    },
    {
     "name": "stdout",
     "output_type": "stream",
     "text": [
      "===== 调试信息：服务器返回 =====\n",
      "{\"id\":\"0194dc6570f1e52a1e8d5786ddc237b1\",\"object\":\"chat.completion\",\"created\":1738864423,\"model\":\"Qwen/Qwen2.5-32B-Instruct\",\"choices\":[{\"index\":0,\"message\":{\"role\":\"assistant\",\"content\":\"{\\n  \\\"classification\\\": \\\"经济\\\",\\n  \\\"sentiment\\\": \\\"negative\\\"\\n}\"},\"finish_reason\":\"stop\"}],\"usage\":{\"prompt_tokens\":421,\"completion_tokens\":17,\"total_tokens\":438},\"system_fingerprint\":\"\"}\n",
      "=============================\n",
      "\n"
     ]
    },
    {
     "name": "stderr",
     "output_type": "stream",
     "text": [
      "Processing:  34%|███▍      | 364/1060 [14:20<14:05,  1.22s/it]"
     ]
    },
    {
     "name": "stdout",
     "output_type": "stream",
     "text": [
      "===== 调试信息：服务器返回 =====\n",
      "{\"id\":\"0194dc6574e0e6a945d58c32a068088a\",\"object\":\"chat.completion\",\"created\":1738864424,\"model\":\"Qwen/Qwen2.5-32B-Instruct\",\"choices\":[{\"index\":0,\"message\":{\"role\":\"assistant\",\"content\":\"{\\n  \\\"classification\\\": \\\"文化活动\\\",\\n  \\\"sentiment\\\": \\\"pleasure\\\"\\n}\"},\"finish_reason\":\"stop\"}],\"usage\":{\"prompt_tokens\":1654,\"completion_tokens\":19,\"total_tokens\":1673},\"system_fingerprint\":\"\"}\n",
      "=============================\n",
      "\n"
     ]
    },
    {
     "name": "stderr",
     "output_type": "stream",
     "text": [
      "Processing:  34%|███▍      | 365/1060 [14:21<14:08,  1.22s/it]"
     ]
    },
    {
     "name": "stdout",
     "output_type": "stream",
     "text": [
      "===== 调试信息：服务器返回 =====\n",
      "{\"id\":\"0194dc657a149735922f178dff8dd6d9\",\"object\":\"chat.completion\",\"created\":1738864425,\"model\":\"Qwen/Qwen2.5-32B-Instruct\",\"choices\":[{\"index\":0,\"message\":{\"role\":\"assistant\",\"content\":\"{\\n  \\\"classification\\\": \\\"奥运\\\",\\n  \\\"sentiment\\\": \\\"neutral\\\"\\n}\"},\"finish_reason\":\"stop\"}],\"usage\":{\"prompt_tokens\":1523,\"completion_tokens\":17,\"total_tokens\":1540},\"system_fingerprint\":\"\"}\n",
      "=============================\n",
      "\n"
     ]
    },
    {
     "name": "stderr",
     "output_type": "stream",
     "text": [
      "Processing:  35%|███▍      | 366/1060 [14:22<14:22,  1.24s/it]"
     ]
    },
    {
     "name": "stdout",
     "output_type": "stream",
     "text": [
      "===== 调试信息：服务器返回 =====\n",
      "{\"id\":\"0194dc657ecd1b9378de7215e49138ba\",\"object\":\"chat.completion\",\"created\":1738864426,\"model\":\"Qwen/Qwen2.5-32B-Instruct\",\"choices\":[{\"index\":0,\"message\":{\"role\":\"assistant\",\"content\":\"{\\n  \\\"classification\\\": \\\"经济\\\",\\n  \\\"sentiment\\\": \\\"pleasure\\\"\\n}\"},\"finish_reason\":\"stop\"}],\"usage\":{\"prompt_tokens\":3199,\"completion_tokens\":18,\"total_tokens\":3217},\"system_fingerprint\":\"\"}\n",
      "=============================\n",
      "\n"
     ]
    },
    {
     "name": "stderr",
     "output_type": "stream",
     "text": [
      "Processing:  35%|███▍      | 367/1060 [14:24<15:13,  1.32s/it]"
     ]
    },
    {
     "name": "stdout",
     "output_type": "stream",
     "text": [
      "===== 调试信息：服务器返回 =====\n",
      "{\"id\":\"0194dc6584ace5a3c68116d08547430a\",\"object\":\"chat.completion\",\"created\":1738864428,\"model\":\"Qwen/Qwen2.5-32B-Instruct\",\"choices\":[{\"index\":0,\"message\":{\"role\":\"assistant\",\"content\":\"{\\n  \\\"classification\\\": \\\"灾害\\\",\\n  \\\"sentiment\\\": \\\"negative\\\"\\n}\"},\"finish_reason\":\"stop\"}],\"usage\":{\"prompt_tokens\":1752,\"completion_tokens\":17,\"total_tokens\":1769},\"system_fingerprint\":\"\"}\n",
      "=============================\n",
      "\n"
     ]
    },
    {
     "name": "stderr",
     "output_type": "stream",
     "text": [
      "Processing:  35%|███▍      | 368/1060 [14:25<14:52,  1.29s/it]"
     ]
    },
    {
     "name": "stdout",
     "output_type": "stream",
     "text": [
      "===== 调试信息：服务器返回 =====\n",
      "{\"id\":\"0194dc6589741e5c9beed561ee0ec763\",\"object\":\"chat.completion\",\"created\":1738864429,\"model\":\"Qwen/Qwen2.5-32B-Instruct\",\"choices\":[{\"index\":0,\"message\":{\"role\":\"assistant\",\"content\":\"{\\n  \\\"classification\\\": \\\"国际政治\\\",\\n  \\\"sentiment\\\": \\\"neutral\\\"\\n}\"},\"finish_reason\":\"stop\"}],\"usage\":{\"prompt_tokens\":733,\"completion_tokens\":18,\"total_tokens\":751},\"system_fingerprint\":\"\"}\n",
      "=============================\n",
      "\n"
     ]
    },
    {
     "name": "stderr",
     "output_type": "stream",
     "text": [
      "Processing:  35%|███▍      | 369/1060 [14:26<14:29,  1.26s/it]"
     ]
    },
    {
     "name": "stdout",
     "output_type": "stream",
     "text": [
      "===== 调试信息：服务器返回 =====\n",
      "{\"id\":\"0194dc658de86b92e0e8a540ea8277e7\",\"object\":\"chat.completion\",\"created\":1738864430,\"model\":\"Qwen/Qwen2.5-32B-Instruct\",\"choices\":[{\"index\":0,\"message\":{\"role\":\"assistant\",\"content\":\"{\\n  \\\"classification\\\": \\\"科技\\\",\\n  \\\"sentiment\\\": \\\"positive\\\"\\n}\"},\"finish_reason\":\"stop\"}],\"usage\":{\"prompt_tokens\":1253,\"completion_tokens\":17,\"total_tokens\":1270},\"system_fingerprint\":\"\"}\n",
      "=============================\n",
      "\n"
     ]
    },
    {
     "name": "stderr",
     "output_type": "stream",
     "text": [
      "Processing:  35%|███▍      | 370/1060 [14:27<13:59,  1.22s/it]"
     ]
    },
    {
     "name": "stdout",
     "output_type": "stream",
     "text": [
      "===== 调试信息：服务器返回 =====\n",
      "{\"id\":\"0194dc65925bc24032f983a4041c82f9\",\"object\":\"chat.completion\",\"created\":1738864431,\"model\":\"Qwen/Qwen2.5-32B-Instruct\",\"choices\":[{\"index\":0,\"message\":{\"role\":\"assistant\",\"content\":\"{\\n  \\\"classification\\\": \\\"灾害\\\",\\n  \\\"sentiment\\\": \\\"negative\\\"\\n}\"},\"finish_reason\":\"stop\"}],\"usage\":{\"prompt_tokens\":1752,\"completion_tokens\":17,\"total_tokens\":1769},\"system_fingerprint\":\"\"}\n",
      "=============================\n",
      "\n"
     ]
    },
    {
     "name": "stderr",
     "output_type": "stream",
     "text": [
      "Processing:  35%|███▌      | 371/1060 [14:28<13:55,  1.21s/it]"
     ]
    },
    {
     "name": "stdout",
     "output_type": "stream",
     "text": [
      "===== 调试信息：服务器返回 =====\n",
      "{\"id\":\"0194dc6597b7d58816c74b6c99057b2f\",\"object\":\"chat.completion\",\"created\":1738864433,\"model\":\"Qwen/Qwen2.5-32B-Instruct\",\"choices\":[{\"index\":0,\"message\":{\"role\":\"assistant\",\"content\":\"{\\n  \\\"classification\\\": \\\"体育\\\",\\n  \\\"sentiment\\\": \\\"pleasure\\\"\\n}\"},\"finish_reason\":\"stop\"}],\"usage\":{\"prompt_tokens\":539,\"completion_tokens\":18,\"total_tokens\":557},\"system_fingerprint\":\"\"}\n",
      "=============================\n",
      "\n"
     ]
    },
    {
     "name": "stderr",
     "output_type": "stream",
     "text": [
      "Processing:  35%|███▌      | 372/1060 [14:30<13:59,  1.22s/it]"
     ]
    },
    {
     "name": "stdout",
     "output_type": "stream",
     "text": [
      "===== 调试信息：服务器返回 =====\n",
      "{\"id\":\"0194dc659bd72a608fa3610477a9f75b\",\"object\":\"chat.completion\",\"created\":1738864434,\"model\":\"Qwen/Qwen2.5-32B-Instruct\",\"choices\":[{\"index\":0,\"message\":{\"role\":\"assistant\",\"content\":\"{\\n  \\\"classification\\\": \\\"文化活动\\\",\\n  \\\"sentiment\\\": \\\"pleasure\\\"\\n}\"},\"finish_reason\":\"stop\"}],\"usage\":{\"prompt_tokens\":1608,\"completion_tokens\":19,\"total_tokens\":1627},\"system_fingerprint\":\"\"}\n",
      "=============================\n",
      "\n"
     ]
    },
    {
     "name": "stderr",
     "output_type": "stream",
     "text": [
      "Processing:  35%|███▌      | 373/1060 [14:31<13:53,  1.21s/it]"
     ]
    },
    {
     "name": "stdout",
     "output_type": "stream",
     "text": [
      "===== 调试信息：服务器返回 =====\n",
      "{\"id\":\"0194dc65a09077766783bd28253d39ed\",\"object\":\"chat.completion\",\"created\":1738864435,\"model\":\"Qwen/Qwen2.5-32B-Instruct\",\"choices\":[{\"index\":0,\"message\":{\"role\":\"assistant\",\"content\":\"{\\n  \\\"classification\\\": \\\"国际政治\\\",\\n  \\\"sentiment\\\": \\\"negative\\\"\\n}\"},\"finish_reason\":\"stop\"}],\"usage\":{\"prompt_tokens\":1699,\"completion_tokens\":18,\"total_tokens\":1717},\"system_fingerprint\":\"\"}\n",
      "=============================\n",
      "\n"
     ]
    },
    {
     "name": "stderr",
     "output_type": "stream",
     "text": [
      "Processing:  35%|███▌      | 374/1060 [14:32<13:56,  1.22s/it]"
     ]
    },
    {
     "name": "stdout",
     "output_type": "stream",
     "text": [
      "===== 调试信息：服务器返回 =====\n",
      "{\"id\":\"0194dc65a54b0997210c8c1e6595a030\",\"object\":\"chat.completion\",\"created\":1738864436,\"model\":\"Qwen/Qwen2.5-32B-Instruct\",\"choices\":[{\"index\":0,\"message\":{\"role\":\"assistant\",\"content\":\"{\\n  \\\"classification\\\": \\\"军事和防御\\\",\\n  \\\"sentiment\\\": \\\"negative\\\"\\n}\"},\"finish_reason\":\"stop\"}],\"usage\":{\"prompt_tokens\":1409,\"completion_tokens\":19,\"total_tokens\":1428},\"system_fingerprint\":\"\"}\n",
      "=============================\n",
      "\n"
     ]
    },
    {
     "name": "stderr",
     "output_type": "stream",
     "text": [
      "Processing:  35%|███▌      | 375/1060 [14:33<13:44,  1.20s/it]"
     ]
    },
    {
     "name": "stdout",
     "output_type": "stream",
     "text": [
      "===== 调试信息：服务器返回 =====\n",
      "{\"id\":\"0194dc65a9e99aea5d1dd6d9484f9191\",\"object\":\"chat.completion\",\"created\":1738864437,\"model\":\"Qwen/Qwen2.5-32B-Instruct\",\"choices\":[{\"index\":0,\"message\":{\"role\":\"assistant\",\"content\":\"{\\n  \\\"classification\\\": \\\"商务活动\\\",\\n  \\\"sentiment\\\": \\\"neutral\\\"\\n}\"},\"finish_reason\":\"stop\"}],\"usage\":{\"prompt_tokens\":1895,\"completion_tokens\":18,\"total_tokens\":1913},\"system_fingerprint\":\"\"}\n",
      "=============================\n",
      "\n"
     ]
    },
    {
     "name": "stderr",
     "output_type": "stream",
     "text": [
      "Processing:  35%|███▌      | 376/1060 [14:34<13:49,  1.21s/it]"
     ]
    },
    {
     "name": "stdout",
     "output_type": "stream",
     "text": [
      "===== 调试信息：服务器返回 =====\n",
      "{\"id\":\"0194dc65aebbef3d2819496a0a1f8067\",\"object\":\"chat.completion\",\"created\":1738864438,\"model\":\"Qwen/Qwen2.5-32B-Instruct\",\"choices\":[{\"index\":0,\"message\":{\"role\":\"assistant\",\"content\":\"{\\n  \\\"classification\\\": \\\"国际政治\\\",\\n  \\\"sentiment\\\": \\\"negative\\\"\\n}\"},\"finish_reason\":\"stop\"}],\"usage\":{\"prompt_tokens\":1894,\"completion_tokens\":18,\"total_tokens\":1912},\"system_fingerprint\":\"\"}\n",
      "=============================\n",
      "\n"
     ]
    },
    {
     "name": "stderr",
     "output_type": "stream",
     "text": [
      "Processing:  36%|███▌      | 377/1060 [14:36<13:48,  1.21s/it]"
     ]
    },
    {
     "name": "stdout",
     "output_type": "stream",
     "text": [
      "===== 调试信息：服务器返回 =====\n",
      "{\"id\":\"0194dc65b39560804f081124cf6e4a28\",\"object\":\"chat.completion\",\"created\":1738864440,\"model\":\"Qwen/Qwen2.5-32B-Instruct\",\"choices\":[{\"index\":0,\"message\":{\"role\":\"assistant\",\"content\":\"{\\n  \\\"classification\\\": \\\"传播\\\",\\n  \\\"sentiment\\\": \\\"neutral\\\"\\n}\"},\"finish_reason\":\"stop\"}],\"usage\":{\"prompt_tokens\":6880,\"completion_tokens\":17,\"total_tokens\":6897},\"system_fingerprint\":\"\"}\n",
      "=============================\n",
      "\n"
     ]
    },
    {
     "name": "stderr",
     "output_type": "stream",
     "text": [
      "Processing:  36%|███▌      | 378/1060 [14:38<16:47,  1.48s/it]"
     ]
    },
    {
     "name": "stdout",
     "output_type": "stream",
     "text": [
      "===== 调试信息：服务器返回 =====\n",
      "{\"id\":\"0194dc65bba5b1e8907158614b871349\",\"object\":\"chat.completion\",\"created\":1738864442,\"model\":\"Qwen/Qwen2.5-32B-Instruct\",\"choices\":[{\"index\":0,\"message\":{\"role\":\"assistant\",\"content\":\"{\\n  \\\"classification\\\": \\\"国际政治\\\",\\n  \\\"sentiment\\\": \\\"negative\\\"\\n}\"},\"finish_reason\":\"stop\"}],\"usage\":{\"prompt_tokens\":1580,\"completion_tokens\":18,\"total_tokens\":1598},\"system_fingerprint\":\"\"}\n",
      "=============================\n",
      "\n"
     ]
    },
    {
     "name": "stderr",
     "output_type": "stream",
     "text": [
      "Processing:  36%|███▌      | 379/1060 [14:39<15:48,  1.39s/it]"
     ]
    },
    {
     "name": "stdout",
     "output_type": "stream",
     "text": [
      "触发速率限制 (HTTP 429)，等待60秒后重试...\n",
      "===== 调试信息：服务器返回 =====\n",
      "{\"id\":\"0194dc66ab49f17c892f478c31df200d\",\"object\":\"chat.completion\",\"created\":1738864503,\"model\":\"Qwen/Qwen2.5-32B-Instruct\",\"choices\":[{\"index\":0,\"message\":{\"role\":\"assistant\",\"content\":\"{\\n  \\\"classification\\\": \\\"商务活动\\\",\\n  \\\"sentiment\\\": \\\"neutral\\\"\\n}\"},\"finish_reason\":\"stop\"}],\"usage\":{\"prompt_tokens\":1700,\"completion_tokens\":18,\"total_tokens\":1718},\"system_fingerprint\":\"\"}\n",
      "=============================\n",
      "\n"
     ]
    },
    {
     "name": "stderr",
     "output_type": "stream",
     "text": [
      "Processing:  36%|███▌      | 380/1060 [15:40<3:39:39, 19.38s/it]"
     ]
    },
    {
     "name": "stdout",
     "output_type": "stream",
     "text": [
      "===== 调试信息：服务器返回 =====\n",
      "{\"id\":\"0194dc66b01fc0e925135c58ac61e196\",\"object\":\"chat.completion\",\"created\":1738864504,\"model\":\"Qwen/Qwen2.5-32B-Instruct\",\"choices\":[{\"index\":0,\"message\":{\"role\":\"assistant\",\"content\":\"{\\n  \\\"classification\\\": \\\"劳动关系\\\",\\n  \\\"sentiment\\\": \\\"negative\\\"\\n}\"},\"finish_reason\":\"stop\"}],\"usage\":{\"prompt_tokens\":7395,\"completion_tokens\":18,\"total_tokens\":7413},\"system_fingerprint\":\"\"}\n",
      "=============================\n",
      "\n"
     ]
    },
    {
     "name": "stderr",
     "output_type": "stream",
     "text": [
      "Processing:  36%|███▌      | 381/1060 [15:42<2:41:02, 14.23s/it]"
     ]
    },
    {
     "name": "stdout",
     "output_type": "stream",
     "text": [
      "===== 调试信息：服务器返回 =====\n",
      "{\"id\":\"0194dc66b91b144222271a9e7fb38241\",\"object\":\"chat.completion\",\"created\":1738864507,\"model\":\"Qwen/Qwen2.5-32B-Instruct\",\"choices\":[{\"index\":0,\"message\":{\"role\":\"assistant\",\"content\":\"{\\n  \\\"classification\\\": \\\"商务活动\\\",\\n  \\\"sentiment\\\": \\\"positive\\\"\\n}\"},\"finish_reason\":\"stop\"}],\"usage\":{\"prompt_tokens\":1822,\"completion_tokens\":18,\"total_tokens\":1840},\"system_fingerprint\":\"\"}\n",
      "=============================\n",
      "\n"
     ]
    },
    {
     "name": "stderr",
     "output_type": "stream",
     "text": [
      "Processing:  36%|███▌      | 382/1060 [15:44<1:57:08, 10.37s/it]"
     ]
    },
    {
     "name": "stdout",
     "output_type": "stream",
     "text": [
      "===== 调试信息：服务器返回 =====\n",
      "{\"id\":\"0194dc66be7f9523583219cbcf5814e0\",\"object\":\"chat.completion\",\"created\":1738864508,\"model\":\"Qwen/Qwen2.5-32B-Instruct\",\"choices\":[{\"index\":0,\"message\":{\"role\":\"assistant\",\"content\":\"{\\n  \\\"classification\\\": \\\"经济\\\",\\n  \\\"sentiment\\\": \\\"neutral\\\"\\n}\"},\"finish_reason\":\"stop\"}],\"usage\":{\"prompt_tokens\":2289,\"completion_tokens\":17,\"total_tokens\":2306},\"system_fingerprint\":\"\"}\n",
      "=============================\n",
      "\n"
     ]
    },
    {
     "name": "stderr",
     "output_type": "stream",
     "text": [
      "Processing:  36%|███▌      | 383/1060 [15:45<1:26:46,  7.69s/it]"
     ]
    },
    {
     "name": "stdout",
     "output_type": "stream",
     "text": [
      "===== 调试信息：服务器返回 =====\n",
      "{\"id\":\"0194dc66c3be0fe18d4c066e24bdaaee\",\"object\":\"chat.completion\",\"created\":1738864509,\"model\":\"Qwen/Qwen2.5-32B-Instruct\",\"choices\":[{\"index\":0,\"message\":{\"role\":\"assistant\",\"content\":\"{\\n  \\\"classification\\\": \\\"卫生福利\\\",\\n  \\\"sentiment\\\": \\\"negative\\\"\\n}\"},\"finish_reason\":\"stop\"}],\"usage\":{\"prompt_tokens\":1672,\"completion_tokens\":18,\"total_tokens\":1690},\"system_fingerprint\":\"\"}\n",
      "=============================\n",
      "\n"
     ]
    },
    {
     "name": "stderr",
     "output_type": "stream",
     "text": [
      "Processing:  36%|███▌      | 384/1060 [15:47<1:05:04,  5.78s/it]"
     ]
    },
    {
     "name": "stdout",
     "output_type": "stream",
     "text": [
      "===== 调试信息：服务器返回 =====\n",
      "{\"id\":\"0194dc66c8b7d7db46dace1d0b434506\",\"object\":\"chat.completion\",\"created\":1738864511,\"model\":\"Qwen/Qwen2.5-32B-Instruct\",\"choices\":[{\"index\":0,\"message\":{\"role\":\"assistant\",\"content\":\"{\\n  \\\"classification\\\": \\\"环境\\\",\\n  \\\"sentiment\\\": \\\"positive\\\"\\n}\"},\"finish_reason\":\"stop\"}],\"usage\":{\"prompt_tokens\":2208,\"completion_tokens\":17,\"total_tokens\":2225},\"system_fingerprint\":\"\"}\n",
      "=============================\n",
      "\n"
     ]
    },
    {
     "name": "stderr",
     "output_type": "stream",
     "text": [
      "Processing:  36%|███▋      | 385/1060 [15:48<49:44,  4.42s/it]  "
     ]
    },
    {
     "name": "stdout",
     "output_type": "stream",
     "text": [
      "===== 调试信息：服务器返回 =====\n",
      "{\"id\":\"0194dc66cdeb57d7e8013d74e4e63ab7\",\"object\":\"chat.completion\",\"created\":1738864512,\"model\":\"Qwen/Qwen2.5-32B-Instruct\",\"choices\":[{\"index\":0,\"message\":{\"role\":\"assistant\",\"content\":\"{\\n  \\\"classification\\\": \\\"国际政治\\\",\\n  \\\"sentiment\\\": \\\"negative\\\"\\n}\"},\"finish_reason\":\"stop\"}],\"usage\":{\"prompt_tokens\":1751,\"completion_tokens\":18,\"total_tokens\":1769},\"system_fingerprint\":\"\"}\n",
      "=============================\n",
      "\n"
     ]
    },
    {
     "name": "stderr",
     "output_type": "stream",
     "text": [
      "Processing:  36%|███▋      | 386/1060 [15:49<39:14,  3.49s/it]"
     ]
    },
    {
     "name": "stdout",
     "output_type": "stream",
     "text": [
      "===== 调试信息：服务器返回 =====\n",
      "{\"id\":\"0194dc66d2d4a398cdaec4ee71f4770c\",\"object\":\"chat.completion\",\"created\":1738864513,\"model\":\"Qwen/Qwen2.5-32B-Instruct\",\"choices\":[{\"index\":0,\"message\":{\"role\":\"assistant\",\"content\":\"{\\n  \\\"classification\\\": \\\"体育\\\",\\n  \\\"sentiment\\\": \\\"positive\\\"\\n}\"},\"finish_reason\":\"stop\"}],\"usage\":{\"prompt_tokens\":2957,\"completion_tokens\":17,\"total_tokens\":2974},\"system_fingerprint\":\"\"}\n",
      "=============================\n",
      "\n"
     ]
    },
    {
     "name": "stderr",
     "output_type": "stream",
     "text": [
      "Processing:  37%|███▋      | 387/1060 [15:51<32:37,  2.91s/it]"
     ]
    },
    {
     "name": "stdout",
     "output_type": "stream",
     "text": [
      "===== 调试信息：服务器返回 =====\n",
      "{\"id\":\"0194dc66d8d043d77adce6a4c3e34f1e\",\"object\":\"chat.completion\",\"created\":1738864515,\"model\":\"Qwen/Qwen2.5-32B-Instruct\",\"choices\":[{\"index\":0,\"message\":{\"role\":\"assistant\",\"content\":\"{\\n  \\\"classification\\\": \\\"经济\\\",\\n  \\\"sentiment\\\": \\\"neutral\\\"\\n}\"},\"finish_reason\":\"stop\"}],\"usage\":{\"prompt_tokens\":1164,\"completion_tokens\":17,\"total_tokens\":1181},\"system_fingerprint\":\"\"}\n",
      "=============================\n",
      "\n"
     ]
    },
    {
     "name": "stderr",
     "output_type": "stream",
     "text": [
      "Processing:  37%|███▋      | 388/1060 [15:52<26:30,  2.37s/it]"
     ]
    },
    {
     "name": "stdout",
     "output_type": "stream",
     "text": [
      "===== 调试信息：服务器返回 =====\n",
      "{\"id\":\"0194dc66dd66656e094610d6b2e239b8\",\"object\":\"chat.completion\",\"created\":1738864516,\"model\":\"Qwen/Qwen2.5-32B-Instruct\",\"choices\":[{\"index\":0,\"message\":{\"role\":\"assistant\",\"content\":\"{\\n  \\\"classification\\\": \\\"国际政治\\\",\\n  \\\"sentiment\\\": \\\"negative\\\"\\n}\"},\"finish_reason\":\"stop\"}],\"usage\":{\"prompt_tokens\":2696,\"completion_tokens\":18,\"total_tokens\":2714},\"system_fingerprint\":\"\"}\n",
      "=============================\n",
      "\n"
     ]
    },
    {
     "name": "stderr",
     "output_type": "stream",
     "text": [
      "Processing:  37%|███▋      | 389/1060 [15:53<23:49,  2.13s/it]"
     ]
    },
    {
     "name": "stdout",
     "output_type": "stream",
     "text": [
      "===== 调试信息：服务器返回 =====\n",
      "{\"id\":\"0194dc66e3411b8a2e211f47b05b46a6\",\"object\":\"chat.completion\",\"created\":1738864517,\"model\":\"Qwen/Qwen2.5-32B-Instruct\",\"choices\":[{\"index\":0,\"message\":{\"role\":\"assistant\",\"content\":\"{\\n  \\\"classification\\\": \\\"经济\\\",\\n  \\\"sentiment\\\": \\\"negative\\\"\\n}\"},\"finish_reason\":\"stop\"}],\"usage\":{\"prompt_tokens\":2350,\"completion_tokens\":17,\"total_tokens\":2367},\"system_fingerprint\":\"\"}\n",
      "=============================\n",
      "\n"
     ]
    },
    {
     "name": "stderr",
     "output_type": "stream",
     "text": [
      "Processing:  37%|███▋      | 390/1060 [15:55<20:59,  1.88s/it]"
     ]
    },
    {
     "name": "stdout",
     "output_type": "stream",
     "text": [
      "===== 调试信息：服务器返回 =====\n",
      "{\"id\":\"0194dc66e85e475641f3abe4f37fff30\",\"object\":\"chat.completion\",\"created\":1738864519,\"model\":\"Qwen/Qwen2.5-32B-Instruct\",\"choices\":[{\"index\":0,\"message\":{\"role\":\"assistant\",\"content\":\"{\\n  \\\"classification\\\": \\\"军事和防御\\\",\\n  \\\"sentiment\\\": \\\"negative\\\"\\n}\"},\"finish_reason\":\"stop\"}],\"usage\":{\"prompt_tokens\":1895,\"completion_tokens\":19,\"total_tokens\":1914},\"system_fingerprint\":\"\"}\n",
      "=============================\n",
      "\n"
     ]
    },
    {
     "name": "stderr",
     "output_type": "stream",
     "text": [
      "Processing:  37%|███▋      | 391/1060 [15:56<18:50,  1.69s/it]"
     ]
    },
    {
     "name": "stdout",
     "output_type": "stream",
     "text": [
      "===== 调试信息：服务器返回 =====\n",
      "{\"id\":\"0194dc66ed541e03748d4ee1903e657c\",\"object\":\"chat.completion\",\"created\":1738864520,\"model\":\"Qwen/Qwen2.5-32B-Instruct\",\"choices\":[{\"index\":0,\"message\":{\"role\":\"assistant\",\"content\":\"{\\n  \\\"classification\\\": \\\"经济\\\",\\n  \\\"sentiment\\\": \\\"positive\\\"\\n}\"},\"finish_reason\":\"stop\"}],\"usage\":{\"prompt_tokens\":1610,\"completion_tokens\":17,\"total_tokens\":1627},\"system_fingerprint\":\"\"}\n",
      "=============================\n",
      "\n"
     ]
    },
    {
     "name": "stderr",
     "output_type": "stream",
     "text": [
      "Processing:  37%|███▋      | 392/1060 [15:57<17:13,  1.55s/it]"
     ]
    },
    {
     "name": "stdout",
     "output_type": "stream",
     "text": [
      "===== 调试信息：服务器返回 =====\n",
      "{\"id\":\"0194dc66f28f230b0235ab6502adb770\",\"object\":\"chat.completion\",\"created\":1738864521,\"model\":\"Qwen/Qwen2.5-32B-Instruct\",\"choices\":[{\"index\":0,\"message\":{\"role\":\"assistant\",\"content\":\"{\\n  \\\"classification\\\": \\\"国内秩序\\\",\\n  \\\"sentiment\\\": \\\"negative\\\"\\n}\"},\"finish_reason\":\"stop\"}],\"usage\":{\"prompt_tokens\":964,\"completion_tokens\":18,\"total_tokens\":982},\"system_fingerprint\":\"\"}\n",
      "=============================\n",
      "\n"
     ]
    },
    {
     "name": "stderr",
     "output_type": "stream",
     "text": [
      "Processing:  37%|███▋      | 393/1060 [15:58<16:19,  1.47s/it]"
     ]
    },
    {
     "name": "stdout",
     "output_type": "stream",
     "text": [
      "===== 调试信息：服务器返回 =====\n",
      "{\"id\":\"0194dc66f703c0c71f4f8210a79c052f\",\"object\":\"chat.completion\",\"created\":1738864523,\"model\":\"Qwen/Qwen2.5-32B-Instruct\",\"choices\":[{\"index\":0,\"message\":{\"role\":\"assistant\",\"content\":\"{\\n  \\\"classification\\\": \\\"商务活动\\\",\\n  \\\"sentiment\\\": \\\"negative\\\"\\n}\"},\"finish_reason\":\"stop\"}],\"usage\":{\"prompt_tokens\":1416,\"completion_tokens\":18,\"total_tokens\":1434},\"system_fingerprint\":\"\"}\n",
      "=============================\n",
      "\n"
     ]
    },
    {
     "name": "stderr",
     "output_type": "stream",
     "text": [
      "Processing:  37%|███▋      | 394/1060 [16:00<15:19,  1.38s/it]"
     ]
    },
    {
     "name": "stdout",
     "output_type": "stream",
     "text": [
      "===== 调试信息：服务器返回 =====\n",
      "{\"id\":\"0194dc66fb909d80840296f6451eb5d1\",\"object\":\"chat.completion\",\"created\":1738864524,\"model\":\"Qwen/Qwen2.5-32B-Instruct\",\"choices\":[{\"index\":0,\"message\":{\"role\":\"assistant\",\"content\":\"{\\n  \\\"classification\\\": \\\"国内政治\\\",\\n  \\\"sentiment\\\": \\\"neutral\\\"\\n}\"},\"finish_reason\":\"stop\"}],\"usage\":{\"prompt_tokens\":2362,\"completion_tokens\":18,\"total_tokens\":2380},\"system_fingerprint\":\"\"}\n",
      "=============================\n",
      "\n"
     ]
    },
    {
     "name": "stderr",
     "output_type": "stream",
     "text": [
      "Processing:  37%|███▋      | 395/1060 [16:01<15:04,  1.36s/it]"
     ]
    },
    {
     "name": "stdout",
     "output_type": "stream",
     "text": [
      "===== 调试信息：服务器返回 =====\n",
      "{\"id\":\"0194dc6700b07d182efa3524951e575d\",\"object\":\"chat.completion\",\"created\":1738864525,\"model\":\"Qwen/Qwen2.5-32B-Instruct\",\"choices\":[{\"index\":0,\"message\":{\"role\":\"assistant\",\"content\":\"{\\n  \\\"classification\\\": \\\"商务活动\\\",\\n  \\\"sentiment\\\": \\\"positive\\\"\\n}\"},\"finish_reason\":\"stop\"}],\"usage\":{\"prompt_tokens\":1999,\"completion_tokens\":18,\"total_tokens\":2017},\"system_fingerprint\":\"\"}\n",
      "=============================\n",
      "\n"
     ]
    },
    {
     "name": "stderr",
     "output_type": "stream",
     "text": [
      "Processing:  37%|███▋      | 396/1060 [16:02<14:46,  1.34s/it]"
     ]
    },
    {
     "name": "stdout",
     "output_type": "stream",
     "text": [
      "===== 调试信息：服务器返回 =====\n",
      "{\"id\":\"0194dc6705a6b9920e4441a1f72958a5\",\"object\":\"chat.completion\",\"created\":1738864526,\"model\":\"Qwen/Qwen2.5-32B-Instruct\",\"choices\":[{\"index\":0,\"message\":{\"role\":\"assistant\",\"content\":\"{\\n  \\\"classification\\\": \\\"商务活动\\\",\\n  \\\"sentiment\\\": \\\"neutral\\\"\\n}\"},\"finish_reason\":\"stop\"}],\"usage\":{\"prompt_tokens\":1366,\"completion_tokens\":18,\"total_tokens\":1384},\"system_fingerprint\":\"\"}\n",
      "=============================\n",
      "\n"
     ]
    },
    {
     "name": "stderr",
     "output_type": "stream",
     "text": [
      "Processing:  37%|███▋      | 397/1060 [16:03<14:09,  1.28s/it]"
     ]
    },
    {
     "name": "stdout",
     "output_type": "stream",
     "text": [
      "===== 调试信息：服务器返回 =====\n",
      "{\"id\":\"0194dc670a757c47bb6ce76a1e754dc2\",\"object\":\"chat.completion\",\"created\":1738864527,\"model\":\"Qwen/Qwen2.5-32B-Instruct\",\"choices\":[{\"index\":0,\"message\":{\"role\":\"assistant\",\"content\":\"{\\n  \\\"classification\\\": \\\"经济\\\",\\n  \\\"sentiment\\\": \\\"negative\\\"\\n}\"},\"finish_reason\":\"stop\"}],\"usage\":{\"prompt_tokens\":810,\"completion_tokens\":17,\"total_tokens\":827},\"system_fingerprint\":\"\"}\n",
      "=============================\n",
      "\n"
     ]
    },
    {
     "name": "stderr",
     "output_type": "stream",
     "text": [
      "Processing:  38%|███▊      | 398/1060 [16:04<13:45,  1.25s/it]"
     ]
    },
    {
     "name": "stdout",
     "output_type": "stream",
     "text": [
      "===== 调试信息：服务器返回 =====\n",
      "{\"id\":\"0194dc670ec6202f842d753a3a543046\",\"object\":\"chat.completion\",\"created\":1738864529,\"model\":\"Qwen/Qwen2.5-32B-Instruct\",\"choices\":[{\"index\":0,\"message\":{\"role\":\"assistant\",\"content\":\"{\\n  \\\"classification\\\": \\\"经济\\\",\\n  \\\"sentiment\\\": \\\"negative\\\"\\n}\"},\"finish_reason\":\"stop\"}],\"usage\":{\"prompt_tokens\":810,\"completion_tokens\":17,\"total_tokens\":827},\"system_fingerprint\":\"\"}\n",
      "=============================\n",
      "\n"
     ]
    },
    {
     "name": "stderr",
     "output_type": "stream",
     "text": [
      "Processing:  38%|███▊      | 399/1060 [16:06<13:16,  1.20s/it]"
     ]
    },
    {
     "name": "stdout",
     "output_type": "stream",
     "text": [
      "===== 调试信息：服务器返回 =====\n",
      "{\"id\":\"0194dc671317e567d0fe2c96350205e7\",\"object\":\"chat.completion\",\"created\":1738864530,\"model\":\"Qwen/Qwen2.5-32B-Instruct\",\"choices\":[{\"index\":0,\"message\":{\"role\":\"assistant\",\"content\":\"{\\n  \\\"classification\\\": \\\"文化活动\\\",\\n  \\\"sentiment\\\": \\\"pleasure\\\"\\n}\"},\"finish_reason\":\"stop\"}],\"usage\":{\"prompt_tokens\":1581,\"completion_tokens\":19,\"total_tokens\":1600},\"system_fingerprint\":\"\"}\n",
      "=============================\n",
      "\n"
     ]
    },
    {
     "name": "stderr",
     "output_type": "stream",
     "text": [
      "Processing:  38%|███▊      | 400/1060 [16:07<13:17,  1.21s/it]"
     ]
    },
    {
     "name": "stdout",
     "output_type": "stream",
     "text": [
      "===== 调试信息：服务器返回 =====\n",
      "{\"id\":\"0194dc6717ea122ccaaa4479c7c4eeb2\",\"object\":\"chat.completion\",\"created\":1738864531,\"model\":\"Qwen/Qwen2.5-32B-Instruct\",\"choices\":[{\"index\":0,\"message\":{\"role\":\"assistant\",\"content\":\"{\\n  \\\"classification\\\": \\\"国际政治\\\",\\n  \\\"sentiment\\\": \\\"neutral\\\"\\n}\"},\"finish_reason\":\"stop\"}],\"usage\":{\"prompt_tokens\":2809,\"completion_tokens\":18,\"total_tokens\":2827},\"system_fingerprint\":\"\"}\n",
      "=============================\n",
      "\n"
     ]
    },
    {
     "name": "stderr",
     "output_type": "stream",
     "text": [
      "Processing:  38%|███▊      | 401/1060 [16:08<14:06,  1.28s/it]"
     ]
    },
    {
     "name": "stdout",
     "output_type": "stream",
     "text": [
      "===== 调试信息：服务器返回 =====\n",
      "{\"id\":\"0194dc671d775a8c4723623b3ec11848\",\"object\":\"chat.completion\",\"created\":1738864532,\"model\":\"Qwen/Qwen2.5-32B-Instruct\",\"choices\":[{\"index\":0,\"message\":{\"role\":\"assistant\",\"content\":\"{\\n  \\\"classification\\\": \\\"劳动关系\\\",\\n  \\\"sentiment\\\": \\\"neutral\\\"\\n}\"},\"finish_reason\":\"stop\"}],\"usage\":{\"prompt_tokens\":626,\"completion_tokens\":18,\"total_tokens\":644},\"system_fingerprint\":\"\"}\n",
      "=============================\n",
      "\n"
     ]
    },
    {
     "name": "stderr",
     "output_type": "stream",
     "text": [
      "Processing:  38%|███▊      | 402/1060 [16:09<13:30,  1.23s/it]"
     ]
    },
    {
     "name": "stdout",
     "output_type": "stream",
     "text": [
      "===== 调试信息：服务器返回 =====\n",
      "{\"id\":\"0194dc67221e3bf1ae1b0420bb549adb\",\"object\":\"chat.completion\",\"created\":1738864534,\"model\":\"Qwen/Qwen2.5-32B-Instruct\",\"choices\":[{\"index\":0,\"message\":{\"role\":\"assistant\",\"content\":\"{\\n  \\\"classification\\\": \\\"国际政治\\\",\\n  \\\"sentiment\\\": \\\"neutral\\\"\\n}\"},\"finish_reason\":\"stop\"}],\"usage\":{\"prompt_tokens\":3039,\"completion_tokens\":18,\"total_tokens\":3057},\"system_fingerprint\":\"\"}\n",
      "=============================\n",
      "\n"
     ]
    },
    {
     "name": "stderr",
     "output_type": "stream",
     "text": [
      "Processing:  38%|███▊      | 403/1060 [16:11<14:28,  1.32s/it]"
     ]
    },
    {
     "name": "stdout",
     "output_type": "stream",
     "text": [
      "===== 调试信息：服务器返回 =====\n",
      "{\"id\":\"0194dc6727e53400fef4f799f3b84e36\",\"object\":\"chat.completion\",\"created\":1738864535,\"model\":\"Qwen/Qwen2.5-32B-Instruct\",\"choices\":[{\"index\":0,\"message\":{\"role\":\"assistant\",\"content\":\"{\\n  \\\"classification\\\": \\\"教育\\\",\\n  \\\"sentiment\\\": \\\"pleasure\\\"\\n}\"},\"finish_reason\":\"stop\"}],\"usage\":{\"prompt_tokens\":2339,\"completion_tokens\":18,\"total_tokens\":2357},\"system_fingerprint\":\"\"}\n",
      "=============================\n",
      "\n"
     ]
    },
    {
     "name": "stderr",
     "output_type": "stream",
     "text": [
      "Processing:  38%|███▊      | 404/1060 [16:12<14:24,  1.32s/it]"
     ]
    },
    {
     "name": "stdout",
     "output_type": "stream",
     "text": [
      "===== 调试信息：服务器返回 =====\n",
      "{\"id\":\"0194dc672d05107187df5242df28504a\",\"object\":\"chat.completion\",\"created\":1738864536,\"model\":\"Qwen/Qwen2.5-32B-Instruct\",\"choices\":[{\"index\":0,\"message\":{\"role\":\"assistant\",\"content\":\"{\\n  \\\"classification\\\": \\\"经济\\\",\\n  \\\"sentiment\\\": \\\"negative\\\"\\n}\"},\"finish_reason\":\"stop\"}],\"usage\":{\"prompt_tokens\":1206,\"completion_tokens\":17,\"total_tokens\":1223},\"system_fingerprint\":\"\"}\n",
      "=============================\n",
      "\n"
     ]
    },
    {
     "name": "stderr",
     "output_type": "stream",
     "text": [
      "Processing:  38%|███▊      | 405/1060 [16:13<13:48,  1.26s/it]"
     ]
    },
    {
     "name": "stdout",
     "output_type": "stream",
     "text": [
      "===== 调试信息：服务器返回 =====\n",
      "{\"id\":\"0194dc6731c78caba21fce46957f34b8\",\"object\":\"chat.completion\",\"created\":1738864538,\"model\":\"Qwen/Qwen2.5-32B-Instruct\",\"choices\":[{\"index\":0,\"message\":{\"role\":\"assistant\",\"content\":\"{\\n  \\\"classification\\\": \\\"社会关系\\\",\\n  \\\"sentiment\\\": \\\"negative\\\"\\n}\"},\"finish_reason\":\"stop\"}],\"usage\":{\"prompt_tokens\":2935,\"completion_tokens\":18,\"total_tokens\":2953},\"system_fingerprint\":\"\"}\n",
      "=============================\n",
      "\n"
     ]
    },
    {
     "name": "stderr",
     "output_type": "stream",
     "text": [
      "Processing:  38%|███▊      | 406/1060 [16:15<14:40,  1.35s/it]"
     ]
    },
    {
     "name": "stdout",
     "output_type": "stream",
     "text": [
      "===== 调试信息：服务器返回 =====\n",
      "{\"id\":\"0194dc6737d5013aa6ec6977a10d7853\",\"object\":\"chat.completion\",\"created\":1738864539,\"model\":\"Qwen/Qwen2.5-32B-Instruct\",\"choices\":[{\"index\":0,\"message\":{\"role\":\"assistant\",\"content\":\"{\\n  \\\"classification\\\": \\\"文化活动\\\",\\n  \\\"sentiment\\\": \\\"pleasure\\\"\\n}\"},\"finish_reason\":\"stop\"}],\"usage\":{\"prompt_tokens\":1625,\"completion_tokens\":19,\"total_tokens\":1644},\"system_fingerprint\":\"\"}\n",
      "=============================\n",
      "\n"
     ]
    },
    {
     "name": "stderr",
     "output_type": "stream",
     "text": [
      "Processing:  38%|███▊      | 407/1060 [16:16<14:29,  1.33s/it]"
     ]
    },
    {
     "name": "stdout",
     "output_type": "stream",
     "text": [
      "===== 调试信息：服务器返回 =====\n",
      "{\"id\":\"0194dc673c7b9c3ef2dc1569d64a4aa6\",\"object\":\"chat.completion\",\"created\":1738864540,\"model\":\"Qwen/Qwen2.5-32B-Instruct\",\"choices\":[{\"index\":0,\"message\":{\"role\":\"assistant\",\"content\":\"{\\n  \\\"classification\\\": \\\"商务活动\\\",\\n  \\\"sentiment\\\": \\\"pleasure\\\"\\n}\"},\"finish_reason\":\"stop\"}],\"usage\":{\"prompt_tokens\":1032,\"completion_tokens\":19,\"total_tokens\":1051},\"system_fingerprint\":\"\"}\n",
      "=============================\n",
      "\n"
     ]
    },
    {
     "name": "stderr",
     "output_type": "stream",
     "text": [
      "Processing:  38%|███▊      | 408/1060 [16:17<13:56,  1.28s/it]"
     ]
    },
    {
     "name": "stdout",
     "output_type": "stream",
     "text": [
      "===== 调试信息：服务器返回 =====\n",
      "{\"id\":\"0194dc67411cc3a3ba5f3fd5dd199cd2\",\"object\":\"chat.completion\",\"created\":1738864541,\"model\":\"Qwen/Qwen2.5-32B-Instruct\",\"choices\":[{\"index\":0,\"message\":{\"role\":\"assistant\",\"content\":\"{\\n  \\\"classification\\\": \\\"劳动关系\\\",\\n  \\\"sentiment\\\": \\\"neutral\\\"\\n}\"},\"finish_reason\":\"stop\"}],\"usage\":{\"prompt_tokens\":1616,\"completion_tokens\":18,\"total_tokens\":1634},\"system_fingerprint\":\"\"}\n",
      "=============================\n",
      "\n"
     ]
    },
    {
     "name": "stderr",
     "output_type": "stream",
     "text": [
      "Processing:  39%|███▊      | 409/1060 [16:19<13:45,  1.27s/it]"
     ]
    },
    {
     "name": "stdout",
     "output_type": "stream",
     "text": [
      "===== 调试信息：服务器返回 =====\n",
      "{\"id\":\"0194dc6745ecf18271ad0185ae1638e3\",\"object\":\"chat.completion\",\"created\":1738864543,\"model\":\"Qwen/Qwen2.5-32B-Instruct\",\"choices\":[{\"index\":0,\"message\":{\"role\":\"assistant\",\"content\":\"{\\n  \\\"classification\\\": \\\"国际政治\\\",\\n  \\\"sentiment\\\": \\\"neutral\\\"\\n}\"},\"finish_reason\":\"stop\"}],\"usage\":{\"prompt_tokens\":1518,\"completion_tokens\":18,\"total_tokens\":1536},\"system_fingerprint\":\"\"}\n",
      "=============================\n",
      "\n"
     ]
    },
    {
     "name": "stderr",
     "output_type": "stream",
     "text": [
      "Processing:  39%|███▊      | 410/1060 [16:20<13:27,  1.24s/it]"
     ]
    },
    {
     "name": "stdout",
     "output_type": "stream",
     "text": [
      "===== 调试信息：服务器返回 =====\n",
      "{\"id\":\"0194dc674a7a3b39d22e1b6af9afa3e5\",\"object\":\"chat.completion\",\"created\":1738864544,\"model\":\"Qwen/Qwen2.5-32B-Instruct\",\"choices\":[{\"index\":0,\"message\":{\"role\":\"assistant\",\"content\":\"{\\n  \\\"classification\\\": \\\"科技\\\",\\n  \\\"sentiment\\\": \\\"negative\\\"\\n}\"},\"finish_reason\":\"stop\"}],\"usage\":{\"prompt_tokens\":1751,\"completion_tokens\":17,\"total_tokens\":1768},\"system_fingerprint\":\"\"}\n",
      "=============================\n",
      "\n"
     ]
    },
    {
     "name": "stderr",
     "output_type": "stream",
     "text": [
      "Processing:  39%|███▉      | 411/1060 [16:21<13:17,  1.23s/it]"
     ]
    },
    {
     "name": "stdout",
     "output_type": "stream",
     "text": [
      "===== 调试信息：服务器返回 =====\n",
      "{\"id\":\"0194dc674f2b8ae7a824ff130778b4be\",\"object\":\"chat.completion\",\"created\":1738864545,\"model\":\"Qwen/Qwen2.5-32B-Instruct\",\"choices\":[{\"index\":0,\"message\":{\"role\":\"assistant\",\"content\":\"{\\n  \\\"classification\\\": \\\"经济\\\",\\n  \\\"sentiment\\\": \\\"neutral\\\"\\n}\"},\"finish_reason\":\"stop\"}],\"usage\":{\"prompt_tokens\":1953,\"completion_tokens\":17,\"total_tokens\":1970},\"system_fingerprint\":\"\"}\n",
      "=============================\n",
      "\n"
     ]
    },
    {
     "name": "stderr",
     "output_type": "stream",
     "text": [
      "Processing:  39%|███▉      | 412/1060 [16:22<13:13,  1.22s/it]"
     ]
    },
    {
     "name": "stdout",
     "output_type": "stream",
     "text": [
      "===== 调试信息：服务器返回 =====\n",
      "{\"id\":\"0194dc6753f8e55037525a741d863d6e\",\"object\":\"chat.completion\",\"created\":1738864546,\"model\":\"Qwen/Qwen2.5-32B-Instruct\",\"choices\":[{\"index\":0,\"message\":{\"role\":\"assistant\",\"content\":\"{\\n  \\\"classification\\\": \\\"商务活动\\\",\\n  \\\"sentiment\\\": \\\"neutral\\\"\\n}\"},\"finish_reason\":\"stop\"}],\"usage\":{\"prompt_tokens\":2311,\"completion_tokens\":18,\"total_tokens\":2329},\"system_fingerprint\":\"\"}\n",
      "=============================\n",
      "\n"
     ]
    },
    {
     "name": "stderr",
     "output_type": "stream",
     "text": [
      "Processing:  39%|███▉      | 413/1060 [16:23<13:26,  1.25s/it]"
     ]
    },
    {
     "name": "stdout",
     "output_type": "stream",
     "text": [
      "===== 调试信息：服务器返回 =====\n",
      "{\"id\":\"0194dc67592b578c1f17bc625e2e9b8e\",\"object\":\"chat.completion\",\"created\":1738864548,\"model\":\"Qwen/Qwen2.5-32B-Instruct\",\"choices\":[{\"index\":0,\"message\":{\"role\":\"assistant\",\"content\":\"{\\n  \\\"classification\\\": \\\"文化活动\\\",\\n  \\\"sentiment\\\": \\\"pleasure\\\"\\n}\"},\"finish_reason\":\"stop\"}],\"usage\":{\"prompt_tokens\":1342,\"completion_tokens\":19,\"total_tokens\":1361},\"system_fingerprint\":\"\"}\n",
      "=============================\n",
      "\n"
     ]
    },
    {
     "name": "stderr",
     "output_type": "stream",
     "text": [
      "Processing:  39%|███▉      | 414/1060 [16:25<13:22,  1.24s/it]"
     ]
    },
    {
     "name": "stdout",
     "output_type": "stream",
     "text": [
      "===== 调试信息：服务器返回 =====\n",
      "{\"id\":\"0194dc675dcb91b0f92327d9f7643217\",\"object\":\"chat.completion\",\"created\":1738864549,\"model\":\"Qwen/Qwen2.5-32B-Instruct\",\"choices\":[{\"index\":0,\"message\":{\"role\":\"assistant\",\"content\":\"{\\n  \\\"classification\\\": \\\"能源\\\",\\n  \\\"sentiment\\\": \\\"neutral\\\"\\n}\"},\"finish_reason\":\"stop\"}],\"usage\":{\"prompt_tokens\":1664,\"completion_tokens\":17,\"total_tokens\":1681},\"system_fingerprint\":\"\"}\n",
      "=============================\n",
      "\n"
     ]
    },
    {
     "name": "stderr",
     "output_type": "stream",
     "text": [
      "Processing:  39%|███▉      | 415/1060 [16:26<13:07,  1.22s/it]"
     ]
    },
    {
     "name": "stdout",
     "output_type": "stream",
     "text": [
      "触发速率限制 (HTTP 429)，等待60秒后重试...\n",
      "===== 调试信息：服务器返回 =====\n",
      "{\"id\":\"0194dc684e1ae012744a33d35a53c4cf\",\"object\":\"chat.completion\",\"created\":1738864610,\"model\":\"Qwen/Qwen2.5-32B-Instruct\",\"choices\":[{\"index\":0,\"message\":{\"role\":\"assistant\",\"content\":\"{\\n  \\\"classification\\\": \\\"经济\\\",\\n  \\\"sentiment\\\": \\\"negative\\\"\\n}\"},\"finish_reason\":\"stop\"}],\"usage\":{\"prompt_tokens\":1602,\"completion_tokens\":17,\"total_tokens\":1619},\"system_fingerprint\":\"\"}\n",
      "=============================\n",
      "\n"
     ]
    },
    {
     "name": "stderr",
     "output_type": "stream",
     "text": [
      "Processing:  39%|███▉      | 416/1060 [17:27<3:27:15, 19.31s/it]"
     ]
    },
    {
     "name": "stdout",
     "output_type": "stream",
     "text": [
      "===== 调试信息：服务器返回 =====\n",
      "{\"id\":\"0194dc68537d7f4f6f0dcb832d294bb2\",\"object\":\"chat.completion\",\"created\":1738864612,\"model\":\"Qwen/Qwen2.5-32B-Instruct\",\"choices\":[{\"index\":0,\"message\":{\"role\":\"assistant\",\"content\":\"{\\n  \\\"classification\\\": \\\"军事和防御\\\",\\n  \\\"sentiment\\\": \\\"neutral\\\"\\n}\"},\"finish_reason\":\"stop\"}],\"usage\":{\"prompt_tokens\":1747,\"completion_tokens\":19,\"total_tokens\":1766},\"system_fingerprint\":\"\"}\n",
      "=============================\n",
      "\n"
     ]
    },
    {
     "name": "stderr",
     "output_type": "stream",
     "text": [
      "Processing:  39%|███▉      | 417/1060 [17:29<2:30:55, 14.08s/it]"
     ]
    },
    {
     "name": "stdout",
     "output_type": "stream",
     "text": [
      "===== 调试信息：服务器返回 =====\n",
      "{\"id\":\"0194dc685a17e20a0fe9299007c1e3ee\",\"object\":\"chat.completion\",\"created\":1738864613,\"model\":\"Qwen/Qwen2.5-32B-Instruct\",\"choices\":[{\"index\":0,\"message\":{\"role\":\"assistant\",\"content\":\"{\\n  \\\"classification\\\": \\\"国内政治\\\",\\n  \\\"sentiment\\\": \\\"negative\\\"\\n}\"},\"finish_reason\":\"stop\"}],\"usage\":{\"prompt_tokens\":1643,\"completion_tokens\":18,\"total_tokens\":1661},\"system_fingerprint\":\"\"}\n",
      "=============================\n",
      "\n"
     ]
    },
    {
     "name": "stderr",
     "output_type": "stream",
     "text": [
      "Processing:  39%|███▉      | 418/1060 [17:31<1:49:26, 10.23s/it]"
     ]
    },
    {
     "name": "stdout",
     "output_type": "stream",
     "text": [
      "===== 调试信息：服务器返回 =====\n",
      "{\"id\":\"0194dc685ed32f9fedbb73c6c8a995dd\",\"object\":\"chat.completion\",\"created\":1738864615,\"model\":\"Qwen/Qwen2.5-32B-Instruct\",\"choices\":[{\"index\":0,\"message\":{\"role\":\"assistant\",\"content\":\"{\\n  \\\"classification\\\": \\\"经济\\\",\\n  \\\"sentiment\\\": \\\"negative\\\"\\n}\"},\"finish_reason\":\"stop\"}],\"usage\":{\"prompt_tokens\":2071,\"completion_tokens\":17,\"total_tokens\":2088},\"system_fingerprint\":\"\"}\n",
      "=============================\n",
      "\n"
     ]
    },
    {
     "name": "stderr",
     "output_type": "stream",
     "text": [
      "Processing:  40%|███▉      | 419/1060 [17:32<1:21:00,  7.58s/it]"
     ]
    },
    {
     "name": "stdout",
     "output_type": "stream",
     "text": [
      "===== 调试信息：服务器返回 =====\n",
      "{\"id\":\"0194dc686458594122e6e6840d4af795\",\"object\":\"chat.completion\",\"created\":1738864616,\"model\":\"Qwen/Qwen2.5-32B-Instruct\",\"choices\":[{\"index\":0,\"message\":{\"role\":\"assistant\",\"content\":\"{\\n  \\\"classification\\\": \\\"体育\\\",\\n  \\\"sentiment\\\": \\\"neutral\\\"\\n}\"},\"finish_reason\":\"stop\"}],\"usage\":{\"prompt_tokens\":1264,\"completion_tokens\":17,\"total_tokens\":1281},\"system_fingerprint\":\"\"}\n",
      "=============================\n",
      "\n"
     ]
    },
    {
     "name": "stderr",
     "output_type": "stream",
     "text": [
      "Processing:  40%|███▉      | 420/1060 [17:33<1:00:11,  5.64s/it]"
     ]
    },
    {
     "name": "stdout",
     "output_type": "stream",
     "text": [
      "===== 调试信息：服务器返回 =====\n",
      "{\"id\":\"0194dc6869384b5d74992e816be517a0\",\"object\":\"chat.completion\",\"created\":1738864617,\"model\":\"Qwen/Qwen2.5-32B-Instruct\",\"choices\":[{\"index\":0,\"message\":{\"role\":\"assistant\",\"content\":\"{\\n  \\\"classification\\\": \\\"国内政治\\\",\\n  \\\"sentiment\\\": \\\"neutral\\\"\\n}\"},\"finish_reason\":\"stop\"}],\"usage\":{\"prompt_tokens\":2664,\"completion_tokens\":18,\"total_tokens\":2682},\"system_fingerprint\":\"\"}\n",
      "=============================\n",
      "\n"
     ]
    },
    {
     "name": "stderr",
     "output_type": "stream",
     "text": [
      "Processing:  40%|███▉      | 421/1060 [17:35<47:04,  4.42s/it]  "
     ]
    },
    {
     "name": "stdout",
     "output_type": "stream",
     "text": [
      "===== 调试信息：服务器返回 =====\n",
      "{\"id\":\"0194dc686edbf05284f04d0fa34490bc\",\"object\":\"chat.completion\",\"created\":1738864619,\"model\":\"Qwen/Qwen2.5-32B-Instruct\",\"choices\":[{\"index\":0,\"message\":{\"role\":\"assistant\",\"content\":\"{\\n  \\\"classification\\\": \\\"国内政治\\\",\\n  \\\"sentiment\\\": \\\"positive\\\"\\n}\"},\"finish_reason\":\"stop\"}],\"usage\":{\"prompt_tokens\":2124,\"completion_tokens\":18,\"total_tokens\":2142},\"system_fingerprint\":\"\"}\n",
      "=============================\n",
      "\n"
     ]
    },
    {
     "name": "stderr",
     "output_type": "stream",
     "text": [
      "Processing:  40%|███▉      | 422/1060 [17:36<36:53,  3.47s/it]"
     ]
    },
    {
     "name": "stdout",
     "output_type": "stream",
     "text": [
      "===== 调试信息：服务器返回 =====\n",
      "{\"id\":\"0194dc6873d2d57f750f765292e8796c\",\"object\":\"chat.completion\",\"created\":1738864620,\"model\":\"Qwen/Qwen2.5-32B-Instruct\",\"choices\":[{\"index\":0,\"message\":{\"role\":\"assistant\",\"content\":\"{\\n  \\\"classification\\\": \\\"国内政治\\\",\\n  \\\"sentiment\\\": \\\"negative\\\"\\n}\"},\"finish_reason\":\"stop\"}],\"usage\":{\"prompt_tokens\":2790,\"completion_tokens\":18,\"total_tokens\":2808},\"system_fingerprint\":\"\"}\n",
      "=============================\n",
      "\n"
     ]
    },
    {
     "name": "stderr",
     "output_type": "stream",
     "text": [
      "Processing:  40%|███▉      | 423/1060 [17:37<30:29,  2.87s/it]"
     ]
    },
    {
     "name": "stdout",
     "output_type": "stream",
     "text": [
      "===== 调试信息：服务器返回 =====\n",
      "{\"id\":\"0194dc68798a9efef679bd21ebed3d2b\",\"object\":\"chat.completion\",\"created\":1738864621,\"model\":\"Qwen/Qwen2.5-32B-Instruct\",\"choices\":[{\"index\":0,\"message\":{\"role\":\"assistant\",\"content\":\"{\\n  \\\"classification\\\": \\\"国内政治\\\",\\n  \\\"sentiment\\\": \\\"negative\\\"\\n}\"},\"finish_reason\":\"stop\"}],\"usage\":{\"prompt_tokens\":2112,\"completion_tokens\":18,\"total_tokens\":2130},\"system_fingerprint\":\"\"}\n",
      "=============================\n",
      "\n"
     ]
    },
    {
     "name": "stderr",
     "output_type": "stream",
     "text": [
      "Processing:  40%|████      | 424/1060 [17:39<25:22,  2.39s/it]"
     ]
    },
    {
     "name": "stdout",
     "output_type": "stream",
     "text": [
      "===== 调试信息：服务器返回 =====\n",
      "{\"id\":\"0194dc687eb5ea6f770346d8588f7727\",\"object\":\"chat.completion\",\"created\":1738864623,\"model\":\"Qwen/Qwen2.5-32B-Instruct\",\"choices\":[{\"index\":0,\"message\":{\"role\":\"assistant\",\"content\":\"{\\n  \\\"classification\\\": \\\"经济\\\",\\n  \\\"sentiment\\\": \\\"negative\\\"\\n}\"},\"finish_reason\":\"stop\"}],\"usage\":{\"prompt_tokens\":3337,\"completion_tokens\":17,\"total_tokens\":3354},\"system_fingerprint\":\"\"}\n",
      "=============================\n",
      "\n"
     ]
    },
    {
     "name": "stderr",
     "output_type": "stream",
     "text": [
      "Processing:  40%|████      | 425/1060 [17:40<22:32,  2.13s/it]"
     ]
    },
    {
     "name": "stdout",
     "output_type": "stream",
     "text": [
      "===== 调试信息：服务器返回 =====\n",
      "{\"id\":\"0194dc688466c7054e0c9b32e545423c\",\"object\":\"chat.completion\",\"created\":1738864624,\"model\":\"Qwen/Qwen2.5-32B-Instruct\",\"choices\":[{\"index\":0,\"message\":{\"role\":\"assistant\",\"content\":\"{\\n  \\\"classification\\\": \\\"国内政治\\\",\\n  \\\"sentiment\\\": \\\"negative\\\"\\n}\"},\"finish_reason\":\"stop\"}],\"usage\":{\"prompt_tokens\":1946,\"completion_tokens\":18,\"total_tokens\":1964},\"system_fingerprint\":\"\"}\n",
      "=============================\n",
      "\n"
     ]
    },
    {
     "name": "stderr",
     "output_type": "stream",
     "text": [
      "Processing:  40%|████      | 426/1060 [17:41<19:42,  1.87s/it]"
     ]
    },
    {
     "name": "stdout",
     "output_type": "stream",
     "text": [
      "===== 调试信息：服务器返回 =====\n",
      "{\"id\":\"0194dc6889526c46d34c8bd9e354958a\",\"object\":\"chat.completion\",\"created\":1738864626,\"model\":\"Qwen/Qwen2.5-32B-Instruct\",\"choices\":[{\"index\":0,\"message\":{\"role\":\"assistant\",\"content\":\"{\\n  \\\"classification\\\": \\\"体育\\\",\\n  \\\"sentiment\\\": \\\"negative\\\"\\n}\"},\"finish_reason\":\"stop\"}],\"usage\":{\"prompt_tokens\":1579,\"completion_tokens\":17,\"total_tokens\":1596},\"system_fingerprint\":\"\"}\n",
      "=============================\n",
      "\n"
     ]
    },
    {
     "name": "stderr",
     "output_type": "stream",
     "text": [
      "Processing:  40%|████      | 427/1060 [17:43<17:55,  1.70s/it]"
     ]
    },
    {
     "name": "stdout",
     "output_type": "stream",
     "text": [
      "===== 调试信息：服务器返回 =====\n",
      "{\"id\":\"0194dc688e9621aa999b63d32d39bb90\",\"object\":\"chat.completion\",\"created\":1738864627,\"model\":\"Qwen/Qwen2.5-32B-Instruct\",\"choices\":[{\"index\":0,\"message\":{\"role\":\"assistant\",\"content\":\"{\\n  \\\"classification\\\": \\\"国际政治\\\",\\n  \\\"sentiment\\\": \\\"neutral\\\"\\n}\"},\"finish_reason\":\"stop\"}],\"usage\":{\"prompt_tokens\":1774,\"completion_tokens\":18,\"total_tokens\":1792},\"system_fingerprint\":\"\"}\n",
      "=============================\n",
      "\n"
     ]
    },
    {
     "name": "stderr",
     "output_type": "stream",
     "text": [
      "Processing:  40%|████      | 428/1060 [17:44<16:25,  1.56s/it]"
     ]
    },
    {
     "name": "stdout",
     "output_type": "stream",
     "text": [
      "===== 调试信息：服务器返回 =====\n",
      "{\"id\":\"0194dc68933f12bc4d7cf8b5b74c42c9\",\"object\":\"chat.completion\",\"created\":1738864628,\"model\":\"Qwen/Qwen2.5-32B-Instruct\",\"choices\":[{\"index\":0,\"message\":{\"role\":\"assistant\",\"content\":\"{\\n  \\\"classification\\\": \\\"灾害\\\",\\n  \\\"sentiment\\\": \\\"negative\\\"\\n}\"},\"finish_reason\":\"stop\"}],\"usage\":{\"prompt_tokens\":1585,\"completion_tokens\":17,\"total_tokens\":1602},\"system_fingerprint\":\"\"}\n",
      "=============================\n",
      "\n"
     ]
    },
    {
     "name": "stderr",
     "output_type": "stream",
     "text": [
      "Processing:  40%|████      | 429/1060 [17:45<15:36,  1.48s/it]"
     ]
    },
    {
     "name": "stdout",
     "output_type": "stream",
     "text": [
      "===== 调试信息：服务器返回 =====\n",
      "{\"id\":\"0194dc6898569b3d8e9b917ae781a3b1\",\"object\":\"chat.completion\",\"created\":1738864629,\"model\":\"Qwen/Qwen2.5-32B-Instruct\",\"choices\":[{\"index\":0,\"message\":{\"role\":\"assistant\",\"content\":\"{\\n  \\\"classification\\\": \\\"文化活动\\\",\\n  \\\"sentiment\\\": \\\"negative\\\"\\n}\"},\"finish_reason\":\"stop\"}],\"usage\":{\"prompt_tokens\":1702,\"completion_tokens\":18,\"total_tokens\":1720},\"system_fingerprint\":\"\"}\n",
      "=============================\n",
      "\n"
     ]
    },
    {
     "name": "stderr",
     "output_type": "stream",
     "text": [
      "Processing:  41%|████      | 430/1060 [17:46<14:39,  1.40s/it]"
     ]
    },
    {
     "name": "stdout",
     "output_type": "stream",
     "text": [
      "===== 调试信息：服务器返回 =====\n",
      "{\"id\":\"0194dc689d7480ba273576a43a7c3c05\",\"object\":\"chat.completion\",\"created\":1738864631,\"model\":\"Qwen/Qwen2.5-32B-Instruct\",\"choices\":[{\"index\":0,\"message\":{\"role\":\"assistant\",\"content\":\"{\\n  \\\"classification\\\": \\\"国际政治\\\",\\n  \\\"sentiment\\\": \\\"neutral\\\"\\n}\"},\"finish_reason\":\"stop\"}],\"usage\":{\"prompt_tokens\":2265,\"completion_tokens\":18,\"total_tokens\":2283},\"system_fingerprint\":\"\"}\n",
      "=============================\n",
      "\n"
     ]
    },
    {
     "name": "stderr",
     "output_type": "stream",
     "text": [
      "Processing:  41%|████      | 431/1060 [17:48<14:43,  1.40s/it]"
     ]
    },
    {
     "name": "stdout",
     "output_type": "stream",
     "text": [
      "===== 调试信息：服务器返回 =====\n",
      "{\"id\":\"0194dc68a2a849feee4cd159e54a8acd\",\"object\":\"chat.completion\",\"created\":1738864632,\"model\":\"Qwen/Qwen2.5-32B-Instruct\",\"choices\":[{\"index\":0,\"message\":{\"role\":\"assistant\",\"content\":\"{\\n  \\\"classification\\\": \\\"科技\\\",\\n  \\\"sentiment\\\": \\\"neutral\\\"\\n}\"},\"finish_reason\":\"stop\"}],\"usage\":{\"prompt_tokens\":2048,\"completion_tokens\":17,\"total_tokens\":2065},\"system_fingerprint\":\"\"}\n",
      "=============================\n",
      "\n"
     ]
    },
    {
     "name": "stderr",
     "output_type": "stream",
     "text": [
      "Processing:  41%|████      | 432/1060 [17:49<14:13,  1.36s/it]"
     ]
    },
    {
     "name": "stdout",
     "output_type": "stream",
     "text": [
      "===== 调试信息：服务器返回 =====\n",
      "{\"id\":\"0194dc68a780e6e0a90a61501fbe6c6a\",\"object\":\"chat.completion\",\"created\":1738864633,\"model\":\"Qwen/Qwen2.5-32B-Instruct\",\"choices\":[{\"index\":0,\"message\":{\"role\":\"assistant\",\"content\":\"{\\n  \\\"classification\\\": \\\"国内政治\\\",\\n  \\\"sentiment\\\": \\\"neutral\\\"\\n}\"},\"finish_reason\":\"stop\"}],\"usage\":{\"prompt_tokens\":2572,\"completion_tokens\":18,\"total_tokens\":2590},\"system_fingerprint\":\"\"}\n",
      "=============================\n",
      "\n"
     ]
    },
    {
     "name": "stderr",
     "output_type": "stream",
     "text": [
      "Processing:  41%|████      | 433/1060 [17:51<14:18,  1.37s/it]"
     ]
    },
    {
     "name": "stdout",
     "output_type": "stream",
     "text": [
      "===== 调试信息：服务器返回 =====\n",
      "{\"id\":\"0194dc68acea3f877c1788a2d69e86a0\",\"object\":\"chat.completion\",\"created\":1738864635,\"model\":\"Qwen/Qwen2.5-32B-Instruct\",\"choices\":[{\"index\":0,\"message\":{\"role\":\"assistant\",\"content\":\"{\\n  \\\"classification\\\": \\\"国际政治\\\",\\n  \\\"sentiment\\\": \\\"negative\\\"\\n}\"},\"finish_reason\":\"stop\"}],\"usage\":{\"prompt_tokens\":625,\"completion_tokens\":18,\"total_tokens\":643},\"system_fingerprint\":\"\"}\n",
      "=============================\n",
      "\n"
     ]
    },
    {
     "name": "stderr",
     "output_type": "stream",
     "text": [
      "Processing:  41%|████      | 434/1060 [17:52<13:25,  1.29s/it]"
     ]
    },
    {
     "name": "stdout",
     "output_type": "stream",
     "text": [
      "===== 调试信息：服务器返回 =====\n",
      "{\"id\":\"0194dc68b1297b503215a9a75a57b57e\",\"object\":\"chat.completion\",\"created\":1738864636,\"model\":\"Qwen/Qwen2.5-32B-Instruct\",\"choices\":[{\"index\":0,\"message\":{\"role\":\"assistant\",\"content\":\"{\\n  \\\"classification\\\": \\\"能源\\\",\\n  \\\"sentiment\\\": \\\"negative\\\"\\n}\"},\"finish_reason\":\"stop\"}],\"usage\":{\"prompt_tokens\":1675,\"completion_tokens\":17,\"total_tokens\":1692},\"system_fingerprint\":\"\"}\n",
      "=============================\n",
      "\n"
     ]
    },
    {
     "name": "stderr",
     "output_type": "stream",
     "text": [
      "Processing:  41%|████      | 435/1060 [17:53<13:01,  1.25s/it]"
     ]
    },
    {
     "name": "stdout",
     "output_type": "stream",
     "text": [
      "===== 调试信息：服务器返回 =====\n",
      "{\"id\":\"0194dc68b610546d3322f509e60453e4\",\"object\":\"chat.completion\",\"created\":1738864637,\"model\":\"Qwen/Qwen2.5-32B-Instruct\",\"choices\":[{\"index\":0,\"message\":{\"role\":\"assistant\",\"content\":\"{\\n  \\\"classification\\\": \\\"国际政治\\\",\\n  \\\"sentiment\\\": \\\"negative\\\"\\n}\"},\"finish_reason\":\"stop\"}],\"usage\":{\"prompt_tokens\":1665,\"completion_tokens\":18,\"total_tokens\":1683},\"system_fingerprint\":\"\"}\n",
      "=============================\n",
      "\n"
     ]
    },
    {
     "name": "stderr",
     "output_type": "stream",
     "text": [
      "Processing:  41%|████      | 436/1060 [17:54<13:02,  1.25s/it]"
     ]
    },
    {
     "name": "stdout",
     "output_type": "stream",
     "text": [
      "===== 调试信息：服务器返回 =====\n",
      "{\"id\":\"0194dc68bad95b396208ee67e745a740\",\"object\":\"chat.completion\",\"created\":1738864638,\"model\":\"Qwen/Qwen2.5-32B-Instruct\",\"choices\":[{\"index\":0,\"message\":{\"role\":\"assistant\",\"content\":\"{\\n  \\\"classification\\\": \\\"经济\\\",\\n  \\\"sentiment\\\": \\\"neutral\\\"\\n}\"},\"finish_reason\":\"stop\"}],\"usage\":{\"prompt_tokens\":4760,\"completion_tokens\":17,\"total_tokens\":4777},\"system_fingerprint\":\"\"}\n",
      "=============================\n",
      "\n"
     ]
    },
    {
     "name": "stderr",
     "output_type": "stream",
     "text": [
      "Processing:  41%|████      | 437/1060 [17:56<14:40,  1.41s/it]"
     ]
    },
    {
     "name": "stdout",
     "output_type": "stream",
     "text": [
      "===== 调试信息：服务器返回 =====\n",
      "{\"id\":\"0194dc68c1a136ad1dd64b5b85bc0fcf\",\"object\":\"chat.completion\",\"created\":1738864640,\"model\":\"Qwen/Qwen2.5-32B-Instruct\",\"choices\":[{\"index\":0,\"message\":{\"role\":\"assistant\",\"content\":\"{\\n  \\\"classification\\\": \\\"科技\\\",\\n  \\\"sentiment\\\": \\\"pleasure\\\"\\n}\"},\"finish_reason\":\"stop\"}],\"usage\":{\"prompt_tokens\":1672,\"completion_tokens\":18,\"total_tokens\":1690},\"system_fingerprint\":\"\"}\n",
      "=============================\n",
      "\n"
     ]
    },
    {
     "name": "stderr",
     "output_type": "stream",
     "text": [
      "Processing:  41%|████▏     | 438/1060 [17:57<13:56,  1.34s/it]"
     ]
    },
    {
     "name": "stdout",
     "output_type": "stream",
     "text": [
      "===== 调试信息：服务器返回 =====\n",
      "{\"id\":\"0194dc68c64a414ce8823bf8f92d851d\",\"object\":\"chat.completion\",\"created\":1738864641,\"model\":\"Qwen/Qwen2.5-32B-Instruct\",\"choices\":[{\"index\":0,\"message\":{\"role\":\"assistant\",\"content\":\"{\\n  \\\"classification\\\": \\\"经济\\\",\\n  \\\"sentiment\\\": \\\"negative\\\"\\n}\"},\"finish_reason\":\"stop\"}],\"usage\":{\"prompt_tokens\":3343,\"completion_tokens\":17,\"total_tokens\":3360},\"system_fingerprint\":\"\"}\n",
      "=============================\n",
      "\n"
     ]
    },
    {
     "name": "stderr",
     "output_type": "stream",
     "text": [
      "Processing:  41%|████▏     | 439/1060 [17:58<14:16,  1.38s/it]"
     ]
    },
    {
     "name": "stdout",
     "output_type": "stream",
     "text": [
      "===== 调试信息：服务器返回 =====\n",
      "{\"id\":\"0194dc68cc7366ab51a4b4dcaf4a6e53\",\"object\":\"chat.completion\",\"created\":1738864643,\"model\":\"Qwen/Qwen2.5-32B-Instruct\",\"choices\":[{\"index\":0,\"message\":{\"role\":\"assistant\",\"content\":\"{\\n  \\\"classification\\\": \\\"经济\\\",\\n  \\\"sentiment\\\": \\\"neutral\\\"\\n}\"},\"finish_reason\":\"stop\"}],\"usage\":{\"prompt_tokens\":6978,\"completion_tokens\":17,\"total_tokens\":6995},\"system_fingerprint\":\"\"}\n",
      "=============================\n",
      "\n"
     ]
    },
    {
     "name": "stderr",
     "output_type": "stream",
     "text": [
      "Processing:  42%|████▏     | 440/1060 [18:01<16:54,  1.64s/it]"
     ]
    },
    {
     "name": "stdout",
     "output_type": "stream",
     "text": [
      "===== 调试信息：服务器返回 =====\n",
      "{\"id\":\"0194dc68d4ab2d2118dfa9ed52758899\",\"object\":\"chat.completion\",\"created\":1738864645,\"model\":\"Qwen/Qwen2.5-32B-Instruct\",\"choices\":[{\"index\":0,\"message\":{\"role\":\"assistant\",\"content\":\"{\\n  \\\"classification\\\": \\\"国际政治\\\",\\n  \\\"sentiment\\\": \\\"negative\\\"\\n}\"},\"finish_reason\":\"stop\"}],\"usage\":{\"prompt_tokens\":2196,\"completion_tokens\":18,\"total_tokens\":2214},\"system_fingerprint\":\"\"}\n",
      "=============================\n",
      "\n"
     ]
    },
    {
     "name": "stderr",
     "output_type": "stream",
     "text": [
      "Processing:  42%|████▏     | 441/1060 [18:02<15:40,  1.52s/it]"
     ]
    },
    {
     "name": "stdout",
     "output_type": "stream",
     "text": [
      "===== 调试信息：服务器返回 =====\n",
      "{\"id\":\"0194dc68d982de66523eda45205cb180\",\"object\":\"chat.completion\",\"created\":1738864646,\"model\":\"Qwen/Qwen2.5-32B-Instruct\",\"choices\":[{\"index\":0,\"message\":{\"role\":\"assistant\",\"content\":\"{\\n  \\\"classification\\\": \\\"国内政治\\\",\\n  \\\"sentiment\\\": \\\"neutral\\\"\\n}\"},\"finish_reason\":\"stop\"}],\"usage\":{\"prompt_tokens\":2448,\"completion_tokens\":18,\"total_tokens\":2466},\"system_fingerprint\":\"\"}\n",
      "=============================\n",
      "\n"
     ]
    },
    {
     "name": "stderr",
     "output_type": "stream",
     "text": [
      "Processing:  42%|████▏     | 442/1060 [18:03<15:05,  1.47s/it]"
     ]
    },
    {
     "name": "stdout",
     "output_type": "stream",
     "text": [
      "===== 调试信息：服务器返回 =====\n",
      "{\"id\":\"0194dc68dec6bfb85c8bdb6ccb3ddd4e\",\"object\":\"chat.completion\",\"created\":1738864647,\"model\":\"Qwen/Qwen2.5-32B-Instruct\",\"choices\":[{\"index\":0,\"message\":{\"role\":\"assistant\",\"content\":\"{\\n  \\\"classification\\\": \\\"经济\\\",\\n  \\\"sentiment\\\": \\\"negative\\\"\\n}\"},\"finish_reason\":\"stop\"}],\"usage\":{\"prompt_tokens\":2172,\"completion_tokens\":17,\"total_tokens\":2189},\"system_fingerprint\":\"\"}\n",
      "=============================\n",
      "\n"
     ]
    },
    {
     "name": "stderr",
     "output_type": "stream",
     "text": [
      "Processing:  42%|████▏     | 443/1060 [18:05<14:26,  1.40s/it]"
     ]
    },
    {
     "name": "stdout",
     "output_type": "stream",
     "text": [
      "===== 调试信息：服务器返回 =====\n",
      "{\"id\":\"0194dc68e3ad39abecd22852c2b3f12b\",\"object\":\"chat.completion\",\"created\":1738864649,\"model\":\"Qwen/Qwen2.5-32B-Instruct\",\"choices\":[{\"index\":0,\"message\":{\"role\":\"assistant\",\"content\":\"{\\n  \\\"classification\\\": \\\"国际政治\\\",\\n  \\\"sentiment\\\": \\\"neutral\\\"\\n}\"},\"finish_reason\":\"stop\"}],\"usage\":{\"prompt_tokens\":2323,\"completion_tokens\":18,\"total_tokens\":2341},\"system_fingerprint\":\"\"}\n",
      "=============================\n",
      "\n"
     ]
    },
    {
     "name": "stderr",
     "output_type": "stream",
     "text": [
      "Processing:  42%|████▏     | 444/1060 [18:06<14:04,  1.37s/it]"
     ]
    },
    {
     "name": "stdout",
     "output_type": "stream",
     "text": [
      "触发速率限制 (HTTP 429)，等待60秒后重试...\n",
      "===== 调试信息：服务器返回 =====\n",
      "{\"id\":\"0194dc69d42e5f7f16c26ef5e11b782d\",\"object\":\"chat.completion\",\"created\":1738864710,\"model\":\"Qwen/Qwen2.5-32B-Instruct\",\"choices\":[{\"index\":0,\"message\":{\"role\":\"assistant\",\"content\":\"{\\n  \\\"classification\\\": \\\"交通\\\",\\n  \\\"sentiment\\\": \\\"neutral\\\"\\n}\"},\"finish_reason\":\"stop\"}],\"usage\":{\"prompt_tokens\":605,\"completion_tokens\":17,\"total_tokens\":622},\"system_fingerprint\":\"\"}\n",
      "=============================\n",
      "\n"
     ]
    },
    {
     "name": "stderr",
     "output_type": "stream",
     "text": [
      "Processing:  42%|████▏     | 445/1060 [19:07<3:18:33, 19.37s/it]"
     ]
    },
    {
     "name": "stdout",
     "output_type": "stream",
     "text": [
      "===== 调试信息：服务器返回 =====\n",
      "{\"id\":\"0194dc69d8ab5338890bf220519a0d90\",\"object\":\"chat.completion\",\"created\":1738864711,\"model\":\"Qwen/Qwen2.5-32B-Instruct\",\"choices\":[{\"index\":0,\"message\":{\"role\":\"assistant\",\"content\":\"{\\n  \\\"classification\\\": \\\"环境\\\",\\n  \\\"sentiment\\\": \\\"positive\\\"\\n}\"},\"finish_reason\":\"stop\"}],\"usage\":{\"prompt_tokens\":2352,\"completion_tokens\":17,\"total_tokens\":2369},\"system_fingerprint\":\"\"}\n",
      "=============================\n",
      "\n"
     ]
    },
    {
     "name": "stderr",
     "output_type": "stream",
     "text": [
      "Processing:  42%|████▏     | 446/1060 [19:09<2:23:01, 13.98s/it]"
     ]
    },
    {
     "name": "stdout",
     "output_type": "stream",
     "text": [
      "===== 调试信息：服务器返回 =====\n",
      "{\"id\":\"0194dc69e150e52f26cca3d105a8a99c\",\"object\":\"chat.completion\",\"created\":1738864714,\"model\":\"Qwen/Qwen2.5-32B-Instruct\",\"choices\":[{\"index\":0,\"message\":{\"role\":\"assistant\",\"content\":\"{\\n  \\\"classification\\\": \\\"交通\\\",\\n  \\\"sentiment\\\": \\\"positive\\\"\\n}\"},\"finish_reason\":\"stop\"}],\"usage\":{\"prompt_tokens\":2254,\"completion_tokens\":17,\"total_tokens\":2271},\"system_fingerprint\":\"\"}\n",
      "=============================\n",
      "\n"
     ]
    },
    {
     "name": "stderr",
     "output_type": "stream",
     "text": [
      "Processing:  42%|████▏     | 447/1060 [19:11<1:46:31, 10.43s/it]"
     ]
    },
    {
     "name": "stdout",
     "output_type": "stream",
     "text": [
      "===== 调试信息：服务器返回 =====\n",
      "{\"id\":\"0194dc69e658af1d3297f5755fb443b2\",\"object\":\"chat.completion\",\"created\":1738864715,\"model\":\"Qwen/Qwen2.5-32B-Instruct\",\"choices\":[{\"index\":0,\"message\":{\"role\":\"assistant\",\"content\":\"{\\n  \\\"classification\\\": \\\"体育\\\",\\n  \\\"sentiment\\\": \\\"neutral\\\"\\n}\"},\"finish_reason\":\"stop\"}],\"usage\":{\"prompt_tokens\":1355,\"completion_tokens\":17,\"total_tokens\":1372},\"system_fingerprint\":\"\"}\n",
      "=============================\n",
      "\n"
     ]
    },
    {
     "name": "stderr",
     "output_type": "stream",
     "text": [
      "Processing:  42%|████▏     | 448/1060 [19:12<1:17:58,  7.64s/it]"
     ]
    },
    {
     "name": "stdout",
     "output_type": "stream",
     "text": [
      "===== 调试信息：服务器返回 =====\n",
      "{\"id\":\"0194dc69eb282f0c6c2b8a63ead2b15e\",\"object\":\"chat.completion\",\"created\":1738864716,\"model\":\"Qwen/Qwen2.5-32B-Instruct\",\"choices\":[{\"index\":0,\"message\":{\"role\":\"assistant\",\"content\":\"{\\n  \\\"classification\\\": \\\"经济\\\",\\n  \\\"sentiment\\\": \\\"negative\\\"\\n}\"},\"finish_reason\":\"stop\"}],\"usage\":{\"prompt_tokens\":1035,\"completion_tokens\":17,\"total_tokens\":1052},\"system_fingerprint\":\"\"}\n",
      "=============================\n",
      "\n"
     ]
    },
    {
     "name": "stderr",
     "output_type": "stream",
     "text": [
      "Processing:  42%|████▏     | 449/1060 [19:13<58:11,  5.71s/it]  "
     ]
    },
    {
     "name": "stdout",
     "output_type": "stream",
     "text": [
      "===== 调试信息：服务器返回 =====\n",
      "{\"id\":\"0194dc69efbde0bc923c9452bb2445e0\",\"object\":\"chat.completion\",\"created\":1738864717,\"model\":\"Qwen/Qwen2.5-32B-Instruct\",\"choices\":[{\"index\":0,\"message\":{\"role\":\"assistant\",\"content\":\"{\\n  \\\"classification\\\": \\\"经济\\\",\\n  \\\"sentiment\\\": \\\"neutral\\\"\\n}\"},\"finish_reason\":\"stop\"}],\"usage\":{\"prompt_tokens\":2082,\"completion_tokens\":17,\"total_tokens\":2099},\"system_fingerprint\":\"\"}\n",
      "=============================\n",
      "\n"
     ]
    },
    {
     "name": "stderr",
     "output_type": "stream",
     "text": [
      "Processing:  42%|████▏     | 450/1060 [19:14<44:43,  4.40s/it]"
     ]
    },
    {
     "name": "stdout",
     "output_type": "stream",
     "text": [
      "===== 调试信息：服务器返回 =====\n",
      "{\"id\":\"0194dc69f4c3f270a55428047533898d\",\"object\":\"chat.completion\",\"created\":1738864719,\"model\":\"Qwen/Qwen2.5-32B-Instruct\",\"choices\":[{\"index\":0,\"message\":{\"role\":\"assistant\",\"content\":\"{\\n  \\\"classification\\\": \\\"国际政治\\\",\\n  \\\"sentiment\\\": \\\"neutral\\\"\\n}\"},\"finish_reason\":\"stop\"}],\"usage\":{\"prompt_tokens\":990,\"completion_tokens\":18,\"total_tokens\":1008},\"system_fingerprint\":\"\"}\n",
      "=============================\n",
      "\n"
     ]
    },
    {
     "name": "stderr",
     "output_type": "stream",
     "text": [
      "Processing:  43%|████▎     | 451/1060 [19:16<34:38,  3.41s/it]"
     ]
    },
    {
     "name": "stdout",
     "output_type": "stream",
     "text": [
      "===== 调试信息：服务器返回 =====\n",
      "{\"id\":\"0194dc69f9b392b4cbcd86ac2712e009\",\"object\":\"chat.completion\",\"created\":1738864720,\"model\":\"Qwen/Qwen2.5-32B-Instruct\",\"choices\":[{\"index\":0,\"message\":{\"role\":\"assistant\",\"content\":\"{\\n  \\\"classification\\\": \\\"国际政治\\\",\\n  \\\"sentiment\\\": \\\"neutral\\\"\\n}\"},\"finish_reason\":\"stop\"}],\"usage\":{\"prompt_tokens\":5123,\"completion_tokens\":18,\"total_tokens\":5141},\"system_fingerprint\":\"\"}\n",
      "=============================\n",
      "\n"
     ]
    },
    {
     "name": "stderr",
     "output_type": "stream",
     "text": [
      "Processing:  43%|████▎     | 452/1060 [19:18<30:07,  2.97s/it]"
     ]
    },
    {
     "name": "stdout",
     "output_type": "stream",
     "text": [
      "===== 调试信息：服务器返回 =====\n",
      "{\"id\":\"0194dc6a00bb68273668172d1fc5233b\",\"object\":\"chat.completion\",\"created\":1738864722,\"model\":\"Qwen/Qwen2.5-32B-Instruct\",\"choices\":[{\"index\":0,\"message\":{\"role\":\"assistant\",\"content\":\"{\\n  \\\"classification\\\": \\\"商务活动\\\",\\n  \\\"sentiment\\\": \\\"negative\\\"\\n}\"},\"finish_reason\":\"stop\"}],\"usage\":{\"prompt_tokens\":1357,\"completion_tokens\":18,\"total_tokens\":1375},\"system_fingerprint\":\"\"}\n",
      "=============================\n",
      "\n"
     ]
    },
    {
     "name": "stderr",
     "output_type": "stream",
     "text": [
      "Processing:  43%|████▎     | 453/1060 [19:19<24:37,  2.43s/it]"
     ]
    },
    {
     "name": "stdout",
     "output_type": "stream",
     "text": [
      "===== 调试信息：服务器返回 =====\n",
      "{\"id\":\"0194dc6a0564059d20672e283615a1af\",\"object\":\"chat.completion\",\"created\":1738864723,\"model\":\"Qwen/Qwen2.5-32B-Instruct\",\"choices\":[{\"index\":0,\"message\":{\"role\":\"assistant\",\"content\":\"{\\n  \\\"classification\\\": \\\"国际政治\\\",\\n  \\\"sentiment\\\": \\\"neutral\\\"\\n}\"},\"finish_reason\":\"stop\"}],\"usage\":{\"prompt_tokens\":584,\"completion_tokens\":18,\"total_tokens\":602},\"system_fingerprint\":\"\"}\n",
      "=============================\n",
      "\n"
     ]
    },
    {
     "name": "stderr",
     "output_type": "stream",
     "text": [
      "Processing:  43%|████▎     | 454/1060 [19:20<20:39,  2.05s/it]"
     ]
    },
    {
     "name": "stdout",
     "output_type": "stream",
     "text": [
      "===== 调试信息：服务器返回 =====\n",
      "{\"id\":\"0194dc6a09d306bd04396e370bde65fd\",\"object\":\"chat.completion\",\"created\":1738864724,\"model\":\"Qwen/Qwen2.5-32B-Instruct\",\"choices\":[{\"index\":0,\"message\":{\"role\":\"assistant\",\"content\":\"{\\n  \\\"classification\\\": \\\"国际政治\\\",\\n  \\\"sentiment\\\": \\\"neutral\\\"\\n}\"},\"finish_reason\":\"stop\"}],\"usage\":{\"prompt_tokens\":2701,\"completion_tokens\":18,\"total_tokens\":2719},\"system_fingerprint\":\"\"}\n",
      "=============================\n",
      "\n"
     ]
    },
    {
     "name": "stderr",
     "output_type": "stream",
     "text": [
      "Processing:  43%|████▎     | 455/1060 [19:21<18:55,  1.88s/it]"
     ]
    },
    {
     "name": "stdout",
     "output_type": "stream",
     "text": [
      "===== 调试信息：服务器返回 =====\n",
      "{\"id\":\"0194dc6a0fa0d91fa2c78f86088da79a\",\"object\":\"chat.completion\",\"created\":1738864725,\"model\":\"Qwen/Qwen2.5-32B-Instruct\",\"choices\":[{\"index\":0,\"message\":{\"role\":\"assistant\",\"content\":\"{\\n  \\\"classification\\\": \\\"国际政治\\\",\\n  \\\"sentiment\\\": \\\"negative\\\"\\n}\"},\"finish_reason\":\"stop\"}],\"usage\":{\"prompt_tokens\":2443,\"completion_tokens\":18,\"total_tokens\":2461},\"system_fingerprint\":\"\"}\n",
      "=============================\n",
      "\n"
     ]
    },
    {
     "name": "stderr",
     "output_type": "stream",
     "text": [
      "Processing:  43%|████▎     | 456/1060 [19:23<17:19,  1.72s/it]"
     ]
    },
    {
     "name": "stdout",
     "output_type": "stream",
     "text": [
      "===== 调试信息：服务器返回 =====\n",
      "{\"id\":\"0194dc6a15609bcaa0e3628fbffc9465\",\"object\":\"chat.completion\",\"created\":1738864727,\"model\":\"Qwen/Qwen2.5-32B-Instruct\",\"choices\":[{\"index\":0,\"message\":{\"role\":\"assistant\",\"content\":\"{\\n  \\\"classification\\\": \\\"经济\\\",\\n  \\\"sentiment\\\": \\\"neutral\\\"\\n}\"},\"finish_reason\":\"stop\"}],\"usage\":{\"prompt_tokens\":2857,\"completion_tokens\":17,\"total_tokens\":2874},\"system_fingerprint\":\"\"}\n",
      "=============================\n",
      "\n"
     ]
    },
    {
     "name": "stderr",
     "output_type": "stream",
     "text": [
      "Processing:  43%|████▎     | 457/1060 [19:24<16:44,  1.67s/it]"
     ]
    },
    {
     "name": "stdout",
     "output_type": "stream",
     "text": [
      "===== 调试信息：服务器返回 =====\n",
      "{\"id\":\"0194dc6a1b17d9eaac8818321912ff3f\",\"object\":\"chat.completion\",\"created\":1738864728,\"model\":\"Qwen/Qwen2.5-32B-Instruct\",\"choices\":[{\"index\":0,\"message\":{\"role\":\"assistant\",\"content\":\"{\\n  \\\"classification\\\": \\\"军事和防御\\\",\\n  \\\"sentiment\\\": \\\"negative\\\"\\n}\"},\"finish_reason\":\"stop\"}],\"usage\":{\"prompt_tokens\":1640,\"completion_tokens\":19,\"total_tokens\":1659},\"system_fingerprint\":\"\"}\n",
      "=============================\n",
      "\n"
     ]
    },
    {
     "name": "stderr",
     "output_type": "stream",
     "text": [
      "Processing:  43%|████▎     | 458/1060 [19:26<15:37,  1.56s/it]"
     ]
    },
    {
     "name": "stdout",
     "output_type": "stream",
     "text": [
      "===== 调试信息：服务器返回 =====\n",
      "{\"id\":\"0194dc6a20362bce2a200353891294af\",\"object\":\"chat.completion\",\"created\":1738864730,\"model\":\"Qwen/Qwen2.5-32B-Instruct\",\"choices\":[{\"index\":0,\"message\":{\"role\":\"assistant\",\"content\":\"{\\n  \\\"classification\\\": \\\"国际政治\\\",\\n  \\\"sentiment\\\": \\\"neutral\\\"\\n}\"},\"finish_reason\":\"stop\"}],\"usage\":{\"prompt_tokens\":1031,\"completion_tokens\":18,\"total_tokens\":1049},\"system_fingerprint\":\"\"}\n",
      "=============================\n",
      "\n"
     ]
    },
    {
     "name": "stderr",
     "output_type": "stream",
     "text": [
      "Processing:  43%|████▎     | 459/1060 [19:27<14:29,  1.45s/it]"
     ]
    },
    {
     "name": "stdout",
     "output_type": "stream",
     "text": [
      "===== 调试信息：服务器返回 =====\n",
      "{\"id\":\"0194dc6a248703ef14c55140dd25d552\",\"object\":\"chat.completion\",\"created\":1738864731,\"model\":\"Qwen/Qwen2.5-32B-Instruct\",\"choices\":[{\"index\":0,\"message\":{\"role\":\"assistant\",\"content\":\"{\\n  \\\"classification\\\": \\\"军事和防御\\\",\\n  \\\"sentiment\\\": \\\"negative\\\"\\n}\"},\"finish_reason\":\"stop\"}],\"usage\":{\"prompt_tokens\":1091,\"completion_tokens\":19,\"total_tokens\":1110},\"system_fingerprint\":\"\"}\n",
      "=============================\n",
      "\n"
     ]
    },
    {
     "name": "stderr",
     "output_type": "stream",
     "text": [
      "Processing:  43%|████▎     | 460/1060 [19:28<13:26,  1.34s/it]"
     ]
    },
    {
     "name": "stdout",
     "output_type": "stream",
     "text": [
      "===== 调试信息：服务器返回 =====\n",
      "{\"id\":\"0194dc6a28e68b793b06f1bc3419efb5\",\"object\":\"chat.completion\",\"created\":1738864732,\"model\":\"Qwen/Qwen2.5-32B-Instruct\",\"choices\":[{\"index\":0,\"message\":{\"role\":\"assistant\",\"content\":\"{\\n  \\\"classification\\\": \\\"国际政治\\\",\\n  \\\"sentiment\\\": \\\"negative\\\"\\n}\"},\"finish_reason\":\"stop\"}],\"usage\":{\"prompt_tokens\":887,\"completion_tokens\":18,\"total_tokens\":905},\"system_fingerprint\":\"\"}\n",
      "=============================\n",
      "\n"
     ]
    },
    {
     "name": "stderr",
     "output_type": "stream",
     "text": [
      "Processing:  43%|████▎     | 461/1060 [19:29<12:42,  1.27s/it]"
     ]
    },
    {
     "name": "stdout",
     "output_type": "stream",
     "text": [
      "===== 调试信息：服务器返回 =====\n",
      "{\"id\":\"0194dc6a2d384d109fc038e614e60dbc\",\"object\":\"chat.completion\",\"created\":1738864733,\"model\":\"Qwen/Qwen2.5-32B-Instruct\",\"choices\":[{\"index\":0,\"message\":{\"role\":\"assistant\",\"content\":\"{\\n  \\\"classification\\\": \\\"国际政治\\\",\\n  \\\"sentiment\\\": \\\"neutral\\\"\\n}\"},\"finish_reason\":\"stop\"}],\"usage\":{\"prompt_tokens\":2296,\"completion_tokens\":18,\"total_tokens\":2314},\"system_fingerprint\":\"\"}\n",
      "=============================\n",
      "\n"
     ]
    },
    {
     "name": "stderr",
     "output_type": "stream",
     "text": [
      "Processing:  44%|████▎     | 462/1060 [19:30<13:03,  1.31s/it]"
     ]
    },
    {
     "name": "stdout",
     "output_type": "stream",
     "text": [
      "===== 调试信息：服务器返回 =====\n",
      "{\"id\":\"0194dc6a34e77326684a90568e9b0da8\",\"object\":\"chat.completion\",\"created\":1738864735,\"model\":\"Qwen/Qwen2.5-32B-Instruct\",\"choices\":[{\"index\":0,\"message\":{\"role\":\"assistant\",\"content\":\"{\\n  \\\"classification\\\": \\\"科技\\\",\\n  \\\"sentiment\\\": \\\"neutral\\\"\\n}\"},\"finish_reason\":\"stop\"}],\"usage\":{\"prompt_tokens\":2286,\"completion_tokens\":17,\"total_tokens\":2303},\"system_fingerprint\":\"\"}\n",
      "=============================\n",
      "\n"
     ]
    },
    {
     "name": "stderr",
     "output_type": "stream",
     "text": [
      "Processing:  44%|████▎     | 463/1060 [19:32<14:37,  1.47s/it]"
     ]
    },
    {
     "name": "stdout",
     "output_type": "stream",
     "text": [
      "===== 调试信息：服务器返回 =====\n",
      "{\"id\":\"0194dc6a39cf36253fc1f1f15d45e3f9\",\"object\":\"chat.completion\",\"created\":1738864736,\"model\":\"Qwen/Qwen2.5-32B-Instruct\",\"choices\":[{\"index\":0,\"message\":{\"role\":\"assistant\",\"content\":\"{\\n  \\\"classification\\\": \\\"经济\\\",\\n  \\\"sentiment\\\": \\\"negative\\\"\\n}\"},\"finish_reason\":\"stop\"}],\"usage\":{\"prompt_tokens\":1067,\"completion_tokens\":17,\"total_tokens\":1084},\"system_fingerprint\":\"\"}\n",
      "=============================\n",
      "\n"
     ]
    },
    {
     "name": "stderr",
     "output_type": "stream",
     "text": [
      "Processing:  44%|████▍     | 464/1060 [19:33<13:27,  1.35s/it]"
     ]
    },
    {
     "name": "stdout",
     "output_type": "stream",
     "text": [
      "===== 调试信息：服务器返回 =====\n",
      "{\"id\":\"0194dc6a3e47443698feba98f02b3785\",\"object\":\"chat.completion\",\"created\":1738864737,\"model\":\"Qwen/Qwen2.5-32B-Instruct\",\"choices\":[{\"index\":0,\"message\":{\"role\":\"assistant\",\"content\":\"{\\n  \\\"classification\\\": \\\"科技\\\",\\n  \\\"sentiment\\\": \\\"neutral\\\"\\n}\"},\"finish_reason\":\"stop\"}],\"usage\":{\"prompt_tokens\":2555,\"completion_tokens\":17,\"total_tokens\":2572},\"system_fingerprint\":\"\"}\n",
      "=============================\n",
      "\n"
     ]
    },
    {
     "name": "stderr",
     "output_type": "stream",
     "text": [
      "Processing:  44%|████▍     | 465/1060 [19:35<13:37,  1.37s/it]"
     ]
    },
    {
     "name": "stdout",
     "output_type": "stream",
     "text": [
      "===== 调试信息：服务器返回 =====\n",
      "{\"id\":\"0194dc6a43a84638727e281e9fece46b\",\"object\":\"chat.completion\",\"created\":1738864739,\"model\":\"Qwen/Qwen2.5-32B-Instruct\",\"choices\":[{\"index\":0,\"message\":{\"role\":\"assistant\",\"content\":\"{\\n  \\\"classification\\\": \\\"国际政治\\\",\\n  \\\"sentiment\\\": \\\"neutral\\\"\\n}\"},\"finish_reason\":\"stop\"}],\"usage\":{\"prompt_tokens\":2005,\"completion_tokens\":18,\"total_tokens\":2023},\"system_fingerprint\":\"\"}\n",
      "=============================\n",
      "\n"
     ]
    },
    {
     "name": "stderr",
     "output_type": "stream",
     "text": [
      "Processing:  44%|████▍     | 466/1060 [19:36<13:10,  1.33s/it]"
     ]
    },
    {
     "name": "stdout",
     "output_type": "stream",
     "text": [
      "===== 调试信息：服务器返回 =====\n",
      "{\"id\":\"0194dc6a48cdaf8d35c8ce37ccf19837\",\"object\":\"chat.completion\",\"created\":1738864740,\"model\":\"Qwen/Qwen2.5-32B-Instruct\",\"choices\":[{\"index\":0,\"message\":{\"role\":\"assistant\",\"content\":\"{\\n  \\\"classification\\\": \\\"经济\\\",\\n  \\\"sentiment\\\": \\\"negative\\\"\\n}\"},\"finish_reason\":\"stop\"}],\"usage\":{\"prompt_tokens\":2451,\"completion_tokens\":17,\"total_tokens\":2468},\"system_fingerprint\":\"\"}\n",
      "=============================\n",
      "\n"
     ]
    },
    {
     "name": "stderr",
     "output_type": "stream",
     "text": [
      "Processing:  44%|████▍     | 467/1060 [19:37<13:24,  1.36s/it]"
     ]
    },
    {
     "name": "stdout",
     "output_type": "stream",
     "text": [
      "===== 调试信息：服务器返回 =====\n",
      "{\"id\":\"0194dc6a4df3d6711a96303f777f3d53\",\"object\":\"chat.completion\",\"created\":1738864741,\"model\":\"Qwen/Qwen2.5-32B-Instruct\",\"choices\":[{\"index\":0,\"message\":{\"role\":\"assistant\",\"content\":\"{\\n  \\\"classification\\\": \\\"文化活动\\\",\\n  \\\"sentiment\\\": \\\"pleasure\\\"\\n}\"},\"finish_reason\":\"stop\"}],\"usage\":{\"prompt_tokens\":1587,\"completion_tokens\":19,\"total_tokens\":1606},\"system_fingerprint\":\"\"}\n",
      "=============================\n",
      "\n"
     ]
    },
    {
     "name": "stderr",
     "output_type": "stream",
     "text": [
      "Processing:  44%|████▍     | 468/1060 [19:38<12:53,  1.31s/it]"
     ]
    },
    {
     "name": "stdout",
     "output_type": "stream",
     "text": [
      "===== 调试信息：服务器返回 =====\n",
      "{\"id\":\"0194dc6a52cc89a4daf513bd19a3928c\",\"object\":\"chat.completion\",\"created\":1738864743,\"model\":\"Qwen/Qwen2.5-32B-Instruct\",\"choices\":[{\"index\":0,\"message\":{\"role\":\"assistant\",\"content\":\"{\\n  \\\"classification\\\": \\\"国际政治\\\",\\n  \\\"sentiment\\\": \\\"neutral\\\"\\n}\"},\"finish_reason\":\"stop\"}],\"usage\":{\"prompt_tokens\":1728,\"completion_tokens\":18,\"total_tokens\":1746},\"system_fingerprint\":\"\"}\n",
      "=============================\n",
      "\n"
     ]
    },
    {
     "name": "stderr",
     "output_type": "stream",
     "text": [
      "Processing:  44%|████▍     | 469/1060 [19:40<12:41,  1.29s/it]"
     ]
    },
    {
     "name": "stdout",
     "output_type": "stream",
     "text": [
      "===== 调试信息：服务器返回 =====\n",
      "{\"id\":\"0194dc6a5789d0fe48bb48b3559ab7e4\",\"object\":\"chat.completion\",\"created\":1738864744,\"model\":\"Qwen/Qwen2.5-32B-Instruct\",\"choices\":[{\"index\":0,\"message\":{\"role\":\"assistant\",\"content\":\"{\\n  \\\"classification\\\": \\\"国内政治\\\",\\n  \\\"sentiment\\\": \\\"negative\\\"\\n}\"},\"finish_reason\":\"stop\"}],\"usage\":{\"prompt_tokens\":2660,\"completion_tokens\":18,\"total_tokens\":2678},\"system_fingerprint\":\"\"}\n",
      "=============================\n",
      "\n"
     ]
    },
    {
     "name": "stderr",
     "output_type": "stream",
     "text": [
      "Processing:  44%|████▍     | 470/1060 [19:41<13:08,  1.34s/it]"
     ]
    },
    {
     "name": "stdout",
     "output_type": "stream",
     "text": [
      "===== 调试信息：服务器返回 =====\n",
      "{\"id\":\"0194dc6a5d1a880d2fd9b4d0592a93f1\",\"object\":\"chat.completion\",\"created\":1738864745,\"model\":\"Qwen/Qwen2.5-32B-Instruct\",\"choices\":[{\"index\":0,\"message\":{\"role\":\"assistant\",\"content\":\"{\\n  \\\"classification\\\": \\\"卫生福利\\\",\\n  \\\"sentiment\\\": \\\"negative\\\"\\n}\"},\"finish_reason\":\"stop\"}],\"usage\":{\"prompt_tokens\":728,\"completion_tokens\":18,\"total_tokens\":746},\"system_fingerprint\":\"\"}\n",
      "=============================\n",
      "\n"
     ]
    },
    {
     "name": "stderr",
     "output_type": "stream",
     "text": [
      "Processing:  44%|████▍     | 471/1060 [19:42<12:26,  1.27s/it]"
     ]
    },
    {
     "name": "stdout",
     "output_type": "stream",
     "text": [
      "===== 调试信息：服务器返回 =====\n",
      "{\"id\":\"0194dc6a616f6257c514e70c1cbc55bd\",\"object\":\"chat.completion\",\"created\":1738864746,\"model\":\"Qwen/Qwen2.5-32B-Instruct\",\"choices\":[{\"index\":0,\"message\":{\"role\":\"assistant\",\"content\":\"{\\n  \\\"classification\\\": \\\"经济\\\",\\n  \\\"sentiment\\\": \\\"negative\\\"\\n}\"},\"finish_reason\":\"stop\"}],\"usage\":{\"prompt_tokens\":1701,\"completion_tokens\":17,\"total_tokens\":1718},\"system_fingerprint\":\"\"}\n",
      "=============================\n",
      "\n"
     ]
    },
    {
     "name": "stderr",
     "output_type": "stream",
     "text": [
      "Processing:  45%|████▍     | 472/1060 [19:43<12:07,  1.24s/it]"
     ]
    },
    {
     "name": "stdout",
     "output_type": "stream",
     "text": [
      "===== 调试信息：服务器返回 =====\n",
      "{\"id\":\"0194dc6a660cd808f1c89ce0f2b250d6\",\"object\":\"chat.completion\",\"created\":1738864748,\"model\":\"Qwen/Qwen2.5-32B-Instruct\",\"choices\":[{\"index\":0,\"message\":{\"role\":\"assistant\",\"content\":\"{\\n  \\\"classification\\\": \\\"科技\\\",\\n  \\\"sentiment\\\": \\\"neutral\\\"\\n}\"},\"finish_reason\":\"stop\"}],\"usage\":{\"prompt_tokens\":1615,\"completion_tokens\":17,\"total_tokens\":1632},\"system_fingerprint\":\"\"}\n",
      "=============================\n",
      "\n"
     ]
    },
    {
     "name": "stderr",
     "output_type": "stream",
     "text": [
      "Processing:  45%|████▍     | 473/1060 [19:45<11:56,  1.22s/it]"
     ]
    },
    {
     "name": "stdout",
     "output_type": "stream",
     "text": [
      "===== 调试信息：服务器返回 =====\n",
      "{\"id\":\"0194dc6a6aaa89a9619da24cb95aae32\",\"object\":\"chat.completion\",\"created\":1738864749,\"model\":\"Qwen/Qwen2.5-32B-Instruct\",\"choices\":[{\"index\":0,\"message\":{\"role\":\"assistant\",\"content\":\"{\\n  \\\"classification\\\": \\\"交通\\\",\\n  \\\"sentiment\\\": \\\"negative\\\"\\n}\"},\"finish_reason\":\"stop\"}],\"usage\":{\"prompt_tokens\":2294,\"completion_tokens\":17,\"total_tokens\":2311},\"system_fingerprint\":\"\"}\n",
      "=============================\n",
      "\n"
     ]
    },
    {
     "name": "stderr",
     "output_type": "stream",
     "text": [
      "Processing:  45%|████▍     | 474/1060 [19:46<12:05,  1.24s/it]"
     ]
    },
    {
     "name": "stdout",
     "output_type": "stream",
     "text": [
      "===== 调试信息：服务器返回 =====\n",
      "{\"id\":\"0194dc6a6fd0048c63f59662bb865f7f\",\"object\":\"chat.completion\",\"created\":1738864750,\"model\":\"Qwen/Qwen2.5-32B-Instruct\",\"choices\":[{\"index\":0,\"message\":{\"role\":\"assistant\",\"content\":\"{\\n  \\\"classification\\\": \\\"体育\\\",\\n  \\\"sentiment\\\": \\\"negative\\\"\\n}\"},\"finish_reason\":\"stop\"}],\"usage\":{\"prompt_tokens\":1097,\"completion_tokens\":17,\"total_tokens\":1114},\"system_fingerprint\":\"\"}\n",
      "=============================\n",
      "\n"
     ]
    },
    {
     "name": "stderr",
     "output_type": "stream",
     "text": [
      "Processing:  45%|████▍     | 475/1060 [19:47<11:48,  1.21s/it]"
     ]
    },
    {
     "name": "stdout",
     "output_type": "stream",
     "text": [
      "===== 调试信息：服务器返回 =====\n",
      "{\"id\":\"0194dc6a742566662c1d2b293e187318\",\"object\":\"chat.completion\",\"created\":1738864751,\"model\":\"Qwen/Qwen2.5-32B-Instruct\",\"choices\":[{\"index\":0,\"message\":{\"role\":\"assistant\",\"content\":\"{\\n  \\\"classification\\\": \\\"科技\\\",\\n  \\\"sentiment\\\": \\\"neutral\\\"\\n}\"},\"finish_reason\":\"stop\"}],\"usage\":{\"prompt_tokens\":1727,\"completion_tokens\":17,\"total_tokens\":1744},\"system_fingerprint\":\"\"}\n",
      "=============================\n",
      "\n"
     ]
    },
    {
     "name": "stderr",
     "output_type": "stream",
     "text": [
      "Processing:  45%|████▍     | 476/1060 [19:48<11:39,  1.20s/it]"
     ]
    },
    {
     "name": "stdout",
     "output_type": "stream",
     "text": [
      "===== 调试信息：服务器返回 =====\n",
      "{\"id\":\"0194dc6a78b6757f3e830a5c8f36d42a\",\"object\":\"chat.completion\",\"created\":1738864752,\"model\":\"Qwen/Qwen2.5-32B-Instruct\",\"choices\":[{\"index\":0,\"message\":{\"role\":\"assistant\",\"content\":\"{\\n  \\\"classification\\\": \\\"军事和防御\\\",\\n  \\\"sentiment\\\": \\\"neutral\\\"\\n}\"},\"finish_reason\":\"stop\"}],\"usage\":{\"prompt_tokens\":1337,\"completion_tokens\":19,\"total_tokens\":1356},\"system_fingerprint\":\"\"}\n",
      "=============================\n",
      "\n"
     ]
    },
    {
     "name": "stderr",
     "output_type": "stream",
     "text": [
      "Processing:  45%|████▌     | 477/1060 [19:49<11:28,  1.18s/it]"
     ]
    },
    {
     "name": "stdout",
     "output_type": "stream",
     "text": [
      "===== 调试信息：服务器返回 =====\n",
      "{\"id\":\"0194dc6a7d4a188ba559313ca9cc9cd1\",\"object\":\"chat.completion\",\"created\":1738864754,\"model\":\"Qwen/Qwen2.5-32B-Instruct\",\"choices\":[{\"index\":0,\"message\":{\"role\":\"assistant\",\"content\":\"{\\n  \\\"classification\\\": \\\"文化活动\\\",\\n  \\\"sentiment\\\": \\\"pleasure\\\"\\n}\"},\"finish_reason\":\"stop\"}],\"usage\":{\"prompt_tokens\":4991,\"completion_tokens\":19,\"total_tokens\":5010},\"system_fingerprint\":\"\"}\n",
      "=============================\n",
      "\n"
     ]
    },
    {
     "name": "stderr",
     "output_type": "stream",
     "text": [
      "Processing:  45%|████▌     | 478/1060 [19:51<13:16,  1.37s/it]"
     ]
    },
    {
     "name": "stdout",
     "output_type": "stream",
     "text": [
      "===== 调试信息：服务器返回 =====\n",
      "{\"id\":\"0194dc6a84309567165e189cf04c92db\",\"object\":\"chat.completion\",\"created\":1738864755,\"model\":\"Qwen/Qwen2.5-32B-Instruct\",\"choices\":[{\"index\":0,\"message\":{\"role\":\"assistant\",\"content\":\"{\\n  \\\"classification\\\": \\\"军事和防御\\\",\\n  \\\"sentiment\\\": \\\"negative\\\"\\n}\"},\"finish_reason\":\"stop\"}],\"usage\":{\"prompt_tokens\":1873,\"completion_tokens\":19,\"total_tokens\":1892},\"system_fingerprint\":\"\"}\n",
      "=============================\n",
      "\n"
     ]
    },
    {
     "name": "stderr",
     "output_type": "stream",
     "text": [
      "Processing:  45%|████▌     | 479/1060 [19:52<12:56,  1.34s/it]"
     ]
    },
    {
     "name": "stdout",
     "output_type": "stream",
     "text": [
      "===== 调试信息：服务器返回 =====\n",
      "{\"id\":\"0194dc6a89214d30cc18ba2c19048915\",\"object\":\"chat.completion\",\"created\":1738864757,\"model\":\"Qwen/Qwen2.5-32B-Instruct\",\"choices\":[{\"index\":0,\"message\":{\"role\":\"assistant\",\"content\":\"{\\n  \\\"classification\\\": \\\"经济\\\",\\n  \\\"sentiment\\\": \\\"negative\\\"\\n}\"},\"finish_reason\":\"stop\"}],\"usage\":{\"prompt_tokens\":1719,\"completion_tokens\":17,\"total_tokens\":1736},\"system_fingerprint\":\"\"}\n",
      "=============================\n",
      "\n"
     ]
    },
    {
     "name": "stderr",
     "output_type": "stream",
     "text": [
      "Processing:  45%|████▌     | 480/1060 [19:54<12:26,  1.29s/it]"
     ]
    },
    {
     "name": "stdout",
     "output_type": "stream",
     "text": [
      "===== 调试信息：服务器返回 =====\n",
      "{\"id\":\"0194dc6a8dc458734100ff88a087532e\",\"object\":\"chat.completion\",\"created\":1738864758,\"model\":\"Qwen/Qwen2.5-32B-Instruct\",\"choices\":[{\"index\":0,\"message\":{\"role\":\"assistant\",\"content\":\"{\\n  \\\"classification\\\": \\\"军事和防御\\\",\\n  \\\"sentiment\\\": \\\"negative\\\"\\n}\"},\"finish_reason\":\"stop\"}],\"usage\":{\"prompt_tokens\":5230,\"completion_tokens\":19,\"total_tokens\":5249},\"system_fingerprint\":\"\"}\n",
      "=============================\n",
      "\n"
     ]
    },
    {
     "name": "stderr",
     "output_type": "stream",
     "text": [
      "Processing:  45%|████▌     | 481/1060 [19:55<14:04,  1.46s/it]"
     ]
    },
    {
     "name": "stdout",
     "output_type": "stream",
     "text": [
      "触发速率限制 (HTTP 429)，等待60秒后重试...\n",
      "===== 调试信息：服务器返回 =====\n",
      "{\"id\":\"0194dc6b7ff0eeebee02c161ba59650f\",\"object\":\"chat.completion\",\"created\":1738864820,\"model\":\"Qwen/Qwen2.5-32B-Instruct\",\"choices\":[{\"index\":0,\"message\":{\"role\":\"assistant\",\"content\":\"{\\n  \\\"classification\\\": \\\"军事和防御\\\",\\n  \\\"sentiment\\\": \\\"neutral\\\"\\n}\"},\"finish_reason\":\"stop\"}],\"usage\":{\"prompt_tokens\":2359,\"completion_tokens\":19,\"total_tokens\":2378},\"system_fingerprint\":\"\"}\n",
      "=============================\n",
      "\n"
     ]
    },
    {
     "name": "stderr",
     "output_type": "stream",
     "text": [
      "Processing:  45%|████▌     | 482/1060 [20:57<3:07:41, 19.48s/it]"
     ]
    },
    {
     "name": "stdout",
     "output_type": "stream",
     "text": [
      "===== 调试信息：服务器返回 =====\n",
      "{\"id\":\"0194dc6b8597923228e90f3630bf11e7\",\"object\":\"chat.completion\",\"created\":1738864821,\"model\":\"Qwen/Qwen2.5-32B-Instruct\",\"choices\":[{\"index\":0,\"message\":{\"role\":\"assistant\",\"content\":\"{\\n  \\\"classification\\\": \\\"军事和防御\\\",\\n  \\\"sentiment\\\": \\\"neutral\\\"\\n}\"},\"finish_reason\":\"stop\"}],\"usage\":{\"prompt_tokens\":2359,\"completion_tokens\":19,\"total_tokens\":2378},\"system_fingerprint\":\"\"}\n",
      "=============================\n",
      "\n"
     ]
    },
    {
     "name": "stderr",
     "output_type": "stream",
     "text": [
      "Processing:  46%|████▌     | 483/1060 [20:58<2:15:04, 14.05s/it]"
     ]
    },
    {
     "name": "stdout",
     "output_type": "stream",
     "text": [
      "===== 调试信息：服务器返回 =====\n",
      "{\"id\":\"0194dc6b8aac8d854b1fb295b7e9be08\",\"object\":\"chat.completion\",\"created\":1738864822,\"model\":\"Qwen/Qwen2.5-32B-Instruct\",\"choices\":[{\"index\":0,\"message\":{\"role\":\"assistant\",\"content\":\"{\\n  \\\"classification\\\": \\\"国际政治\\\",\\n  \\\"sentiment\\\": \\\"negative\\\"\\n}\"},\"finish_reason\":\"stop\"}],\"usage\":{\"prompt_tokens\":2370,\"completion_tokens\":18,\"total_tokens\":2388},\"system_fingerprint\":\"\"}\n",
      "=============================\n",
      "\n"
     ]
    },
    {
     "name": "stderr",
     "output_type": "stream",
     "text": [
      "Processing:  46%|████▌     | 484/1060 [21:00<1:38:11, 10.23s/it]"
     ]
    },
    {
     "name": "stdout",
     "output_type": "stream",
     "text": [
      "===== 调试信息：服务器返回 =====\n",
      "{\"id\":\"0194dc6b8fe46298380309fb6a833ab8\",\"object\":\"chat.completion\",\"created\":1738864824,\"model\":\"Qwen/Qwen2.5-32B-Instruct\",\"choices\":[{\"index\":0,\"message\":{\"role\":\"assistant\",\"content\":\"{\\n  \\\"classification\\\": \\\"国际政治\\\",\\n  \\\"sentiment\\\": \\\"negative\\\"\\n}\"},\"finish_reason\":\"stop\"}],\"usage\":{\"prompt_tokens\":2107,\"completion_tokens\":18,\"total_tokens\":2125},\"system_fingerprint\":\"\"}\n",
      "=============================\n",
      "\n"
     ]
    },
    {
     "name": "stderr",
     "output_type": "stream",
     "text": [
      "Processing:  46%|████▌     | 485/1060 [21:01<1:12:14,  7.54s/it]"
     ]
    },
    {
     "name": "stdout",
     "output_type": "stream",
     "text": [
      "===== 调试信息：服务器返回 =====\n",
      "{\"id\":\"0194dc6b94fed49dcb55514d658cef2d\",\"object\":\"chat.completion\",\"created\":1738864825,\"model\":\"Qwen/Qwen2.5-32B-Instruct\",\"choices\":[{\"index\":0,\"message\":{\"role\":\"assistant\",\"content\":\"{\\n  \\\"classification\\\": \\\"科技\\\",\\n  \\\"sentiment\\\": \\\"negative\\\"\\n}\"},\"finish_reason\":\"stop\"}],\"usage\":{\"prompt_tokens\":2053,\"completion_tokens\":17,\"total_tokens\":2070},\"system_fingerprint\":\"\"}\n",
      "=============================\n",
      "\n"
     ]
    },
    {
     "name": "stderr",
     "output_type": "stream",
     "text": [
      "Processing:  46%|████▌     | 486/1060 [21:02<54:31,  5.70s/it]  "
     ]
    },
    {
     "name": "stdout",
     "output_type": "stream",
     "text": [
      "===== 调试信息：服务器返回 =====\n",
      "{\"id\":\"0194dc6b9a801af8fb437d700f4bbf43\",\"object\":\"chat.completion\",\"created\":1738864827,\"model\":\"Qwen/Qwen2.5-32B-Instruct\",\"choices\":[{\"index\":0,\"message\":{\"role\":\"assistant\",\"content\":\"{\\n  \\\"classification\\\": \\\"体育\\\",\\n  \\\"sentiment\\\": \\\"positive\\\"\\n}\"},\"finish_reason\":\"stop\"}],\"usage\":{\"prompt_tokens\":1254,\"completion_tokens\":17,\"total_tokens\":1271},\"system_fingerprint\":\"\"}\n",
      "=============================\n",
      "\n"
     ]
    },
    {
     "name": "stderr",
     "output_type": "stream",
     "text": [
      "Processing:  46%|████▌     | 487/1060 [21:04<41:28,  4.34s/it]"
     ]
    },
    {
     "name": "stdout",
     "output_type": "stream",
     "text": [
      "===== 调试信息：服务器返回 =====\n",
      "{\"id\":\"0194dc6b9f66fa80885a06ffc750ffd1\",\"object\":\"chat.completion\",\"created\":1738864828,\"model\":\"Qwen/Qwen2.5-32B-Instruct\",\"choices\":[{\"index\":0,\"message\":{\"role\":\"assistant\",\"content\":\"{\\n  \\\"classification\\\": \\\"体育\\\",\\n  \\\"sentiment\\\": \\\"neutral\\\"\\n}\"},\"finish_reason\":\"stop\"}],\"usage\":{\"prompt_tokens\":1694,\"completion_tokens\":17,\"total_tokens\":1711},\"system_fingerprint\":\"\"}\n",
      "=============================\n",
      "\n"
     ]
    },
    {
     "name": "stderr",
     "output_type": "stream",
     "text": [
      "Processing:  46%|████▌     | 488/1060 [21:05<33:03,  3.47s/it]"
     ]
    },
    {
     "name": "stdout",
     "output_type": "stream",
     "text": [
      "===== 调试信息：服务器返回 =====\n",
      "{\"id\":\"0194dc6ba4bd3709bd05b7107c32a871\",\"object\":\"chat.completion\",\"created\":1738864829,\"model\":\"Qwen/Qwen2.5-32B-Instruct\",\"choices\":[{\"index\":0,\"message\":{\"role\":\"assistant\",\"content\":\"{\\n  \\\"classification\\\": \\\"经济\\\",\\n  \\\"sentiment\\\": \\\"negative\\\"\\n}\"},\"finish_reason\":\"stop\"}],\"usage\":{\"prompt_tokens\":2151,\"completion_tokens\":17,\"total_tokens\":2168},\"system_fingerprint\":\"\"}\n",
      "=============================\n",
      "\n"
     ]
    },
    {
     "name": "stderr",
     "output_type": "stream",
     "text": [
      "Processing:  46%|████▌     | 489/1060 [21:06<27:02,  2.84s/it]"
     ]
    },
    {
     "name": "stdout",
     "output_type": "stream",
     "text": [
      "===== 调试信息：服务器返回 =====\n",
      "{\"id\":\"0194dc6baa430378965c9c584ddb12ff\",\"object\":\"chat.completion\",\"created\":1738864831,\"model\":\"Qwen/Qwen2.5-32B-Instruct\",\"choices\":[{\"index\":0,\"message\":{\"role\":\"assistant\",\"content\":\"{\\n  \\\"classification\\\": \\\"科技\\\",\\n  \\\"sentiment\\\": \\\"neutral\\\"\\n}\"},\"finish_reason\":\"stop\"}],\"usage\":{\"prompt_tokens\":2186,\"completion_tokens\":17,\"total_tokens\":2203},\"system_fingerprint\":\"\"}\n",
      "=============================\n",
      "\n"
     ]
    },
    {
     "name": "stderr",
     "output_type": "stream",
     "text": [
      "Processing:  46%|████▌     | 490/1060 [21:08<22:56,  2.41s/it]"
     ]
    },
    {
     "name": "stdout",
     "output_type": "stream",
     "text": [
      "===== 调试信息：服务器返回 =====\n",
      "{\"id\":\"0194dc6bb05af54c38e35db2da868dd3\",\"object\":\"chat.completion\",\"created\":1738864832,\"model\":\"Qwen/Qwen2.5-32B-Instruct\",\"choices\":[{\"index\":0,\"message\":{\"role\":\"assistant\",\"content\":\"{\\n  \\\"classification\\\": \\\"经济\\\",\\n  \\\"sentiment\\\": \\\"neutral\\\"\\n}\"},\"finish_reason\":\"stop\"}],\"usage\":{\"prompt_tokens\":3535,\"completion_tokens\":17,\"total_tokens\":3552},\"system_fingerprint\":\"\"}\n",
      "=============================\n",
      "\n"
     ]
    },
    {
     "name": "stderr",
     "output_type": "stream",
     "text": [
      "Processing:  46%|████▋     | 491/1060 [21:10<21:29,  2.27s/it]"
     ]
    },
    {
     "name": "stdout",
     "output_type": "stream",
     "text": [
      "===== 调试信息：服务器返回 =====\n",
      "{\"id\":\"0194dc6bb732efa76f95c885ac9a8e04\",\"object\":\"chat.completion\",\"created\":1738864834,\"model\":\"Qwen/Qwen2.5-32B-Instruct\",\"choices\":[{\"index\":0,\"message\":{\"role\":\"assistant\",\"content\":\"{\\n  \\\"classification\\\": \\\"经济\\\",\\n  \\\"sentiment\\\": \\\"neutral\\\"\\n}\"},\"finish_reason\":\"stop\"}],\"usage\":{\"prompt_tokens\":1657,\"completion_tokens\":17,\"total_tokens\":1674},\"system_fingerprint\":\"\"}\n",
      "=============================\n",
      "\n"
     ]
    },
    {
     "name": "stderr",
     "output_type": "stream",
     "text": [
      "Processing:  46%|████▋     | 492/1060 [21:11<18:35,  1.96s/it]"
     ]
    },
    {
     "name": "stdout",
     "output_type": "stream",
     "text": [
      "===== 调试信息：服务器返回 =====\n",
      "{\"id\":\"0194dc6bbc2aeda10f848f62977298e7\",\"object\":\"chat.completion\",\"created\":1738864835,\"model\":\"Qwen/Qwen2.5-32B-Instruct\",\"choices\":[{\"index\":0,\"message\":{\"role\":\"assistant\",\"content\":\"{\\n  \\\"classification\\\": \\\"国际政治\\\",\\n  \\\"sentiment\\\": \\\"positive\\\"\\n}\"},\"finish_reason\":\"stop\"}],\"usage\":{\"prompt_tokens\":2610,\"completion_tokens\":18,\"total_tokens\":2628},\"system_fingerprint\":\"\"}\n",
      "=============================\n",
      "\n"
     ]
    },
    {
     "name": "stderr",
     "output_type": "stream",
     "text": [
      "Processing:  47%|████▋     | 493/1060 [21:12<17:10,  1.82s/it]"
     ]
    },
    {
     "name": "stdout",
     "output_type": "stream",
     "text": [
      "===== 调试信息：服务器返回 =====\n",
      "{\"id\":\"0194dc6bc1c20458339f9613ea8afc08\",\"object\":\"chat.completion\",\"created\":1738864837,\"model\":\"Qwen/Qwen2.5-32B-Instruct\",\"choices\":[{\"index\":0,\"message\":{\"role\":\"assistant\",\"content\":\"{\\n  \\\"classification\\\": \\\"能源\\\",\\n  \\\"sentiment\\\": \\\"negative\\\"\\n}\"},\"finish_reason\":\"stop\"}],\"usage\":{\"prompt_tokens\":1727,\"completion_tokens\":17,\"total_tokens\":1744},\"system_fingerprint\":\"\"}\n",
      "=============================\n",
      "\n"
     ]
    },
    {
     "name": "stderr",
     "output_type": "stream",
     "text": [
      "Processing:  47%|████▋     | 494/1060 [21:14<15:35,  1.65s/it]"
     ]
    },
    {
     "name": "stdout",
     "output_type": "stream",
     "text": [
      "===== 调试信息：服务器返回 =====\n",
      "{\"id\":\"0194dc6bc722bc5a17ecf5baa421f256\",\"object\":\"chat.completion\",\"created\":1738864838,\"model\":\"Qwen/Qwen2.5-32B-Instruct\",\"choices\":[{\"index\":0,\"message\":{\"role\":\"assistant\",\"content\":\"{\\n  \\\"classification\\\": \\\"国际政治\\\",\\n  \\\"sentiment\\\": \\\"negative\\\"\\n}\"},\"finish_reason\":\"stop\"}],\"usage\":{\"prompt_tokens\":1705,\"completion_tokens\":18,\"total_tokens\":1723},\"system_fingerprint\":\"\"}\n",
      "=============================\n",
      "\n"
     ]
    },
    {
     "name": "stderr",
     "output_type": "stream",
     "text": [
      "Processing:  47%|████▋     | 495/1060 [21:15<14:42,  1.56s/it]"
     ]
    },
    {
     "name": "stdout",
     "output_type": "stream",
     "text": [
      "===== 调试信息：服务器返回 =====\n",
      "{\"id\":\"0194dc6bcc0d3c2bc6564c74b5a7ca5b\",\"object\":\"chat.completion\",\"created\":1738864839,\"model\":\"Qwen/Qwen2.5-32B-Instruct\",\"choices\":[{\"index\":0,\"message\":{\"role\":\"assistant\",\"content\":\"{\\n  \\\"classification\\\": \\\"国际政治\\\",\\n  \\\"sentiment\\\": \\\"negative\\\"\\n}\"},\"finish_reason\":\"stop\"}],\"usage\":{\"prompt_tokens\":1867,\"completion_tokens\":18,\"total_tokens\":1885},\"system_fingerprint\":\"\"}\n",
      "=============================\n",
      "\n"
     ]
    },
    {
     "name": "stderr",
     "output_type": "stream",
     "text": [
      "Processing:  47%|████▋     | 496/1060 [21:16<14:01,  1.49s/it]"
     ]
    },
    {
     "name": "stdout",
     "output_type": "stream",
     "text": [
      "===== 调试信息：服务器返回 =====\n",
      "{\"id\":\"0194dc6bd18e7dae60a8dcb772d2166a\",\"object\":\"chat.completion\",\"created\":1738864841,\"model\":\"Qwen/Qwen2.5-32B-Instruct\",\"choices\":[{\"index\":0,\"message\":{\"role\":\"assistant\",\"content\":\"{\\n  \\\"classification\\\": \\\"庆典\\\",\\n  \\\"sentiment\\\": \\\"pleasure\\\"\\n}\"},\"finish_reason\":\"stop\"}],\"usage\":{\"prompt_tokens\":2314,\"completion_tokens\":18,\"total_tokens\":2332},\"system_fingerprint\":\"\"}\n",
      "=============================\n",
      "\n"
     ]
    },
    {
     "name": "stderr",
     "output_type": "stream",
     "text": [
      "Processing:  47%|████▋     | 497/1060 [21:18<14:24,  1.54s/it]"
     ]
    },
    {
     "name": "stdout",
     "output_type": "stream",
     "text": [
      "===== 调试信息：服务器返回 =====\n",
      "{\"id\":\"0194dc6bd7e843f088d3cc992c3d7b94\",\"object\":\"chat.completion\",\"created\":1738864842,\"model\":\"Qwen/Qwen2.5-32B-Instruct\",\"choices\":[{\"index\":0,\"message\":{\"role\":\"assistant\",\"content\":\"{\\n  \\\"classification\\\": \\\"体育\\\",\\n  \\\"sentiment\\\": \\\"pain\\\"\\n}\"},\"finish_reason\":\"stop\"}],\"usage\":{\"prompt_tokens\":1566,\"completion_tokens\":17,\"total_tokens\":1583},\"system_fingerprint\":\"\"}\n",
      "=============================\n",
      "\n"
     ]
    },
    {
     "name": "stderr",
     "output_type": "stream",
     "text": [
      "Processing:  47%|████▋     | 498/1060 [21:19<13:49,  1.48s/it]"
     ]
    },
    {
     "name": "stdout",
     "output_type": "stream",
     "text": [
      "===== 调试信息：服务器返回 =====\n",
      "{\"id\":\"0194dc6bdca1a60c66f5f0eb850d5d3c\",\"object\":\"chat.completion\",\"created\":1738864843,\"model\":\"Qwen/Qwen2.5-32B-Instruct\",\"choices\":[{\"index\":0,\"message\":{\"role\":\"assistant\",\"content\":\"{\\n  \\\"classification\\\": \\\"国内政治\\\",\\n  \\\"sentiment\\\": \\\"negative\\\"\\n}\"},\"finish_reason\":\"stop\"}],\"usage\":{\"prompt_tokens\":2704,\"completion_tokens\":18,\"total_tokens\":2722},\"system_fingerprint\":\"\"}\n",
      "=============================\n",
      "\n"
     ]
    },
    {
     "name": "stderr",
     "output_type": "stream",
     "text": [
      "Processing:  47%|████▋     | 499/1060 [21:21<13:43,  1.47s/it]"
     ]
    },
    {
     "name": "stdout",
     "output_type": "stream",
     "text": [
      "===== 调试信息：服务器返回 =====\n",
      "{\"id\":\"0194dc6be251a2024520c98311736e21\",\"object\":\"chat.completion\",\"created\":1738864845,\"model\":\"Qwen/Qwen2.5-32B-Instruct\",\"choices\":[{\"index\":0,\"message\":{\"role\":\"assistant\",\"content\":\"{\\n  \\\"classification\\\": \\\"军事和防御\\\",\\n  \\\"sentiment\\\": \\\"negative\\\"\\n}\"},\"finish_reason\":\"stop\"}],\"usage\":{\"prompt_tokens\":2689,\"completion_tokens\":19,\"total_tokens\":2708},\"system_fingerprint\":\"\"}\n",
      "=============================\n",
      "\n"
     ]
    },
    {
     "name": "stderr",
     "output_type": "stream",
     "text": [
      "Processing:  47%|████▋     | 500/1060 [21:22<13:44,  1.47s/it]"
     ]
    },
    {
     "name": "stdout",
     "output_type": "stream",
     "text": [
      "===== 调试信息：服务器返回 =====\n",
      "{\"id\":\"0194dc6be8026825eaa6c4cad883a6b0\",\"object\":\"chat.completion\",\"created\":1738864846,\"model\":\"Qwen/Qwen2.5-32B-Instruct\",\"choices\":[{\"index\":0,\"message\":{\"role\":\"assistant\",\"content\":\"{\\n  \\\"classification\\\": \\\"国际政治\\\",\\n  \\\"sentiment\\\": \\\"neutral\\\"\\n}\"},\"finish_reason\":\"stop\"}],\"usage\":{\"prompt_tokens\":2073,\"completion_tokens\":18,\"total_tokens\":2091},\"system_fingerprint\":\"\"}\n",
      "=============================\n",
      "\n"
     ]
    },
    {
     "name": "stderr",
     "output_type": "stream",
     "text": [
      "Processing:  47%|████▋     | 501/1060 [21:24<14:12,  1.52s/it]"
     ]
    },
    {
     "name": "stdout",
     "output_type": "stream",
     "text": [
      "===== 调试信息：服务器返回 =====\n",
      "{\"id\":\"0194dc6bee6c5791b61774947c9e95fd\",\"object\":\"chat.completion\",\"created\":1738864848,\"model\":\"Qwen/Qwen2.5-32B-Instruct\",\"choices\":[{\"index\":0,\"message\":{\"role\":\"assistant\",\"content\":\"{\\n  \\\"classification\\\": \\\"商务活动\\\",\\n  \\\"sentiment\\\": \\\"negative\\\"\\n}\"},\"finish_reason\":\"stop\"}],\"usage\":{\"prompt_tokens\":1346,\"completion_tokens\":18,\"total_tokens\":1364},\"system_fingerprint\":\"\"}\n",
      "=============================\n",
      "\n"
     ]
    },
    {
     "name": "stderr",
     "output_type": "stream",
     "text": [
      "Processing:  47%|████▋     | 502/1060 [21:25<13:03,  1.40s/it]"
     ]
    },
    {
     "name": "stdout",
     "output_type": "stream",
     "text": [
      "===== 调试信息：服务器返回 =====\n",
      "{\"id\":\"0194dc6bf2cb9988f261d378fa4de348\",\"object\":\"chat.completion\",\"created\":1738864849,\"model\":\"Qwen/Qwen2.5-32B-Instruct\",\"choices\":[{\"index\":0,\"message\":{\"role\":\"assistant\",\"content\":\"{\\n  \\\"classification\\\": \\\"商务活动\\\",\\n  \\\"sentiment\\\": \\\"negative\\\"\\n}\"},\"finish_reason\":\"stop\"}],\"usage\":{\"prompt_tokens\":1345,\"completion_tokens\":18,\"total_tokens\":1363},\"system_fingerprint\":\"\"}\n",
      "=============================\n",
      "\n"
     ]
    },
    {
     "name": "stderr",
     "output_type": "stream",
     "text": [
      "Processing:  47%|████▋     | 503/1060 [21:26<12:18,  1.33s/it]"
     ]
    },
    {
     "name": "stdout",
     "output_type": "stream",
     "text": [
      "===== 调试信息：服务器返回 =====\n",
      "{\"id\":\"0194dc6bf752bb76f6abff92af24d1dd\",\"object\":\"chat.completion\",\"created\":1738864850,\"model\":\"Qwen/Qwen2.5-32B-Instruct\",\"choices\":[{\"index\":0,\"message\":{\"role\":\"assistant\",\"content\":\"{\\n  \\\"classification\\\": \\\"国际政治\\\",\\n  \\\"sentiment\\\": \\\"neutral\\\"\\n}\"},\"finish_reason\":\"stop\"}],\"usage\":{\"prompt_tokens\":1047,\"completion_tokens\":18,\"total_tokens\":1065},\"system_fingerprint\":\"\"}\n",
      "=============================\n",
      "\n"
     ]
    },
    {
     "name": "stderr",
     "output_type": "stream",
     "text": [
      "Processing:  48%|████▊     | 504/1060 [21:27<11:44,  1.27s/it]"
     ]
    },
    {
     "name": "stdout",
     "output_type": "stream",
     "text": [
      "===== 调试信息：服务器返回 =====\n",
      "{\"id\":\"0194dc6bfbcb3224c2382bda0b0bc3e4\",\"object\":\"chat.completion\",\"created\":1738864851,\"model\":\"Qwen/Qwen2.5-32B-Instruct\",\"choices\":[{\"index\":0,\"message\":{\"role\":\"assistant\",\"content\":\"{\\n  \\\"classification\\\": \\\"科技\\\",\\n  \\\"sentiment\\\": \\\"positive\\\"\\n}\"},\"finish_reason\":\"stop\"}],\"usage\":{\"prompt_tokens\":669,\"completion_tokens\":17,\"total_tokens\":686},\"system_fingerprint\":\"\"}\n",
      "=============================\n",
      "\n"
     ]
    },
    {
     "name": "stderr",
     "output_type": "stream",
     "text": [
      "Processing:  48%|████▊     | 505/1060 [21:28<11:14,  1.22s/it]"
     ]
    },
    {
     "name": "stdout",
     "output_type": "stream",
     "text": [
      "===== 调试信息：服务器返回 =====\n",
      "{\"id\":\"0194dc6c00057b7d0640d81a94dddd07\",\"object\":\"chat.completion\",\"created\":1738864853,\"model\":\"Qwen/Qwen2.5-32B-Instruct\",\"choices\":[{\"index\":0,\"message\":{\"role\":\"assistant\",\"content\":\"{\\n  \\\"classification\\\": \\\"经济\\\",\\n  \\\"sentiment\\\": \\\"negative\\\"\\n}\"},\"finish_reason\":\"stop\"}],\"usage\":{\"prompt_tokens\":2058,\"completion_tokens\":17,\"total_tokens\":2075},\"system_fingerprint\":\"\"}\n",
      "=============================\n",
      "\n"
     ]
    },
    {
     "name": "stderr",
     "output_type": "stream",
     "text": [
      "Processing:  48%|████▊     | 506/1060 [21:30<11:23,  1.23s/it]"
     ]
    },
    {
     "name": "stdout",
     "output_type": "stream",
     "text": [
      "===== 调试信息：服务器返回 =====\n",
      "{\"id\":\"0194dc6c05d93064e40dddf3e9a60e66\",\"object\":\"chat.completion\",\"created\":1738864854,\"model\":\"Qwen/Qwen2.5-32B-Instruct\",\"choices\":[{\"index\":0,\"message\":{\"role\":\"assistant\",\"content\":\"{\\n  \\\"classification\\\": \\\"经济\\\",\\n  \\\"sentiment\\\": \\\"neutral\\\"\\n}\"},\"finish_reason\":\"stop\"}],\"usage\":{\"prompt_tokens\":2037,\"completion_tokens\":17,\"total_tokens\":2054},\"system_fingerprint\":\"\"}\n",
      "=============================\n",
      "\n"
     ]
    },
    {
     "name": "stderr",
     "output_type": "stream",
     "text": [
      "Processing:  48%|████▊     | 507/1060 [21:31<12:00,  1.30s/it]"
     ]
    },
    {
     "name": "stdout",
     "output_type": "stream",
     "text": [
      "===== 调试信息：服务器返回 =====\n",
      "{\"id\":\"0194dc6c0ab4bbf6235ceaeec5b598e1\",\"object\":\"chat.completion\",\"created\":1738864855,\"model\":\"Qwen/Qwen2.5-32B-Instruct\",\"choices\":[{\"index\":0,\"message\":{\"role\":\"assistant\",\"content\":\"{\\n  \\\"classification\\\": \\\"国际政治\\\",\\n  \\\"sentiment\\\": \\\"negative\\\"\\n}\"},\"finish_reason\":\"stop\"}],\"usage\":{\"prompt_tokens\":2343,\"completion_tokens\":18,\"total_tokens\":2361},\"system_fingerprint\":\"\"}\n",
      "=============================\n",
      "\n"
     ]
    },
    {
     "name": "stderr",
     "output_type": "stream",
     "text": [
      "Processing:  48%|████▊     | 508/1060 [21:32<12:00,  1.31s/it]"
     ]
    },
    {
     "name": "stdout",
     "output_type": "stream",
     "text": [
      "===== 调试信息：服务器返回 =====\n",
      "{\"id\":\"0194dc6c0fd8a96e70387304940ce97b\",\"object\":\"chat.completion\",\"created\":1738864857,\"model\":\"Qwen/Qwen2.5-32B-Instruct\",\"choices\":[{\"index\":0,\"message\":{\"role\":\"assistant\",\"content\":\"{\\n  \\\"classification\\\": \\\"经济\\\",\\n  \\\"sentiment\\\": \\\"negative\\\"\\n}\"},\"finish_reason\":\"stop\"}],\"usage\":{\"prompt_tokens\":950,\"completion_tokens\":17,\"total_tokens\":967},\"system_fingerprint\":\"\"}\n",
      "=============================\n",
      "\n"
     ]
    },
    {
     "name": "stderr",
     "output_type": "stream",
     "text": [
      "Processing:  48%|████▊     | 509/1060 [21:34<11:30,  1.25s/it]"
     ]
    },
    {
     "name": "stdout",
     "output_type": "stream",
     "text": [
      "===== 调试信息：服务器返回 =====\n",
      "{\"id\":\"0194dc6c14392f84a9dc3f23ac4b232b\",\"object\":\"chat.completion\",\"created\":1738864858,\"model\":\"Qwen/Qwen2.5-32B-Instruct\",\"choices\":[{\"index\":0,\"message\":{\"role\":\"assistant\",\"content\":\"{\\n  \\\"classification\\\": \\\"文化活动\\\",\\n  \\\"sentiment\\\": \\\"pleasure\\\"\\n}\"},\"finish_reason\":\"stop\"}],\"usage\":{\"prompt_tokens\":3015,\"completion_tokens\":19,\"total_tokens\":3034},\"system_fingerprint\":\"\"}\n",
      "=============================\n",
      "\n"
     ]
    },
    {
     "name": "stderr",
     "output_type": "stream",
     "text": [
      "Processing:  48%|████▊     | 510/1060 [21:35<12:32,  1.37s/it]"
     ]
    },
    {
     "name": "stdout",
     "output_type": "stream",
     "text": [
      "===== 调试信息：服务器返回 =====\n",
      "{\"id\":\"0194dc6c1aa2267d346a65b6bbc21544\",\"object\":\"chat.completion\",\"created\":1738864859,\"model\":\"Qwen/Qwen2.5-32B-Instruct\",\"choices\":[{\"index\":0,\"message\":{\"role\":\"assistant\",\"content\":\"{\\n  \\\"classification\\\": \\\"劳动关系\\\",\\n  \\\"sentiment\\\": \\\"negative\\\"\\n}\"},\"finish_reason\":\"stop\"}],\"usage\":{\"prompt_tokens\":1497,\"completion_tokens\":18,\"total_tokens\":1515},\"system_fingerprint\":\"\"}\n",
      "=============================\n",
      "\n"
     ]
    },
    {
     "name": "stderr",
     "output_type": "stream",
     "text": [
      "Processing:  48%|████▊     | 511/1060 [21:36<11:58,  1.31s/it]"
     ]
    },
    {
     "name": "stdout",
     "output_type": "stream",
     "text": [
      "===== 调试信息：服务器返回 =====\n",
      "{\"id\":\"0194dc6c1f5a316b72afdc856d43f3ca\",\"object\":\"chat.completion\",\"created\":1738864861,\"model\":\"Qwen/Qwen2.5-32B-Instruct\",\"choices\":[{\"index\":0,\"message\":{\"role\":\"assistant\",\"content\":\"{\\n  \\\"classification\\\": \\\"国际政治\\\",\\n  \\\"sentiment\\\": \\\"negative\\\"\\n}\"},\"finish_reason\":\"stop\"}],\"usage\":{\"prompt_tokens\":2043,\"completion_tokens\":18,\"total_tokens\":2061},\"system_fingerprint\":\"\"}\n",
      "=============================\n",
      "\n"
     ]
    },
    {
     "name": "stderr",
     "output_type": "stream",
     "text": [
      "Processing:  48%|████▊     | 512/1060 [21:38<11:51,  1.30s/it]"
     ]
    },
    {
     "name": "stdout",
     "output_type": "stream",
     "text": [
      "===== 调试信息：服务器返回 =====\n",
      "{\"id\":\"0194dc6c246b1507a04210bf3183edae\",\"object\":\"chat.completion\",\"created\":1738864862,\"model\":\"Qwen/Qwen2.5-32B-Instruct\",\"choices\":[{\"index\":0,\"message\":{\"role\":\"assistant\",\"content\":\"{\\n  \\\"classification\\\": \\\"体育\\\",\\n  \\\"sentiment\\\": \\\"pleasure\\\"\\n}\"},\"finish_reason\":\"stop\"}],\"usage\":{\"prompt_tokens\":1795,\"completion_tokens\":18,\"total_tokens\":1813},\"system_fingerprint\":\"\"}\n",
      "=============================\n",
      "\n"
     ]
    },
    {
     "name": "stderr",
     "output_type": "stream",
     "text": [
      "Processing:  48%|████▊     | 513/1060 [21:39<12:04,  1.32s/it]"
     ]
    },
    {
     "name": "stdout",
     "output_type": "stream",
     "text": [
      "===== 调试信息：服务器返回 =====\n",
      "{\"id\":\"0194dc6c29a32e652663a4fb9bf80ce4\",\"object\":\"chat.completion\",\"created\":1738864863,\"model\":\"Qwen/Qwen2.5-32B-Instruct\",\"choices\":[{\"index\":0,\"message\":{\"role\":\"assistant\",\"content\":\"{\\n  \\\"classification\\\": \\\"军事和防御\\\",\\n  \\\"sentiment\\\": \\\"neutral\\\"\\n}\"},\"finish_reason\":\"stop\"}],\"usage\":{\"prompt_tokens\":2326,\"completion_tokens\":19,\"total_tokens\":2345},\"system_fingerprint\":\"\"}\n",
      "=============================\n",
      "\n"
     ]
    },
    {
     "name": "stderr",
     "output_type": "stream",
     "text": [
      "Processing:  48%|████▊     | 514/1060 [21:40<12:00,  1.32s/it]"
     ]
    },
    {
     "name": "stdout",
     "output_type": "stream",
     "text": [
      "===== 调试信息：服务器返回 =====\n",
      "{\"id\":\"0194dc6c2eaeb5830715aebfa26dbae7\",\"object\":\"chat.completion\",\"created\":1738864864,\"model\":\"Qwen/Qwen2.5-32B-Instruct\",\"choices\":[{\"index\":0,\"message\":{\"role\":\"assistant\",\"content\":\"{\\n  \\\"classification\\\": \\\"教育\\\",\\n  \\\"sentiment\\\": \\\"negative\\\"\\n}\"},\"finish_reason\":\"stop\"}],\"usage\":{\"prompt_tokens\":2768,\"completion_tokens\":17,\"total_tokens\":2785},\"system_fingerprint\":\"\"}\n",
      "=============================\n",
      "\n"
     ]
    },
    {
     "name": "stderr",
     "output_type": "stream",
     "text": [
      "Processing:  49%|████▊     | 515/1060 [21:42<12:08,  1.34s/it]"
     ]
    },
    {
     "name": "stdout",
     "output_type": "stream",
     "text": [
      "===== 调试信息：服务器返回 =====\n",
      "{\"id\":\"0194dc6c342a9c7216ba9ccba2711634\",\"object\":\"chat.completion\",\"created\":1738864866,\"model\":\"Qwen/Qwen2.5-32B-Instruct\",\"choices\":[{\"index\":0,\"message\":{\"role\":\"assistant\",\"content\":\"{\\n  \\\"classification\\\": \\\"劳动关系\\\",\\n  \\\"sentiment\\\": \\\"negative\\\"\\n}\"},\"finish_reason\":\"stop\"}],\"usage\":{\"prompt_tokens\":1851,\"completion_tokens\":18,\"total_tokens\":1869},\"system_fingerprint\":\"\"}\n",
      "=============================\n",
      "\n"
     ]
    },
    {
     "name": "stderr",
     "output_type": "stream",
     "text": [
      "Processing:  49%|████▊     | 516/1060 [21:43<11:49,  1.30s/it]"
     ]
    },
    {
     "name": "stdout",
     "output_type": "stream",
     "text": [
      "触发速率限制 (HTTP 429)，等待60秒后重试...\n",
      "===== 调试信息：服务器返回 =====\n",
      "{\"id\":\"0194dc6d2428b9bb1f227f63c30cfa5d\",\"object\":\"chat.completion\",\"created\":1738864927,\"model\":\"Qwen/Qwen2.5-32B-Instruct\",\"choices\":[{\"index\":0,\"message\":{\"role\":\"assistant\",\"content\":\"{\\n  \\\"classification\\\": \\\"体育\\\",\\n  \\\"sentiment\\\": \\\"pleasure\\\"\\n}\"},\"finish_reason\":\"stop\"}],\"usage\":{\"prompt_tokens\":1996,\"completion_tokens\":18,\"total_tokens\":2014},\"system_fingerprint\":\"\"}\n",
      "=============================\n",
      "\n"
     ]
    },
    {
     "name": "stderr",
     "output_type": "stream",
     "text": [
      "Processing:  49%|████▉     | 517/1060 [22:44<2:55:08, 19.35s/it]"
     ]
    },
    {
     "name": "stdout",
     "output_type": "stream",
     "text": [
      "===== 调试信息：服务器返回 =====\n",
      "{\"id\":\"0194dc6d2941da233c7312566d7dd3d0\",\"object\":\"chat.completion\",\"created\":1738864929,\"model\":\"Qwen/Qwen2.5-32B-Instruct\",\"choices\":[{\"index\":0,\"message\":{\"role\":\"assistant\",\"content\":\"{\\n  \\\"classification\\\": \\\"国内政治\\\",\\n  \\\"sentiment\\\": \\\"negative\\\"\\n}\"},\"finish_reason\":\"stop\"}],\"usage\":{\"prompt_tokens\":1094,\"completion_tokens\":18,\"total_tokens\":1112},\"system_fingerprint\":\"\"}\n",
      "=============================\n",
      "\n"
     ]
    },
    {
     "name": "stderr",
     "output_type": "stream",
     "text": [
      "Processing:  49%|████▉     | 518/1060 [22:46<2:05:52, 13.93s/it]"
     ]
    },
    {
     "name": "stdout",
     "output_type": "stream",
     "text": [
      "===== 调试信息：服务器返回 =====\n",
      "{\"id\":\"0194dc6d2e6587c751e044f1a3f52823\",\"object\":\"chat.completion\",\"created\":1738864930,\"model\":\"Qwen/Qwen2.5-32B-Instruct\",\"choices\":[{\"index\":0,\"message\":{\"role\":\"assistant\",\"content\":\"{\\n  \\\"classification\\\": \\\"国际政治\\\",\\n  \\\"sentiment\\\": \\\"negative\\\"\\n}\"},\"finish_reason\":\"stop\"}],\"usage\":{\"prompt_tokens\":1434,\"completion_tokens\":18,\"total_tokens\":1452},\"system_fingerprint\":\"\"}\n",
      "=============================\n",
      "\n"
     ]
    },
    {
     "name": "stderr",
     "output_type": "stream",
     "text": [
      "Processing:  49%|████▉     | 519/1060 [22:47<1:31:22, 10.13s/it]"
     ]
    },
    {
     "name": "stdout",
     "output_type": "stream",
     "text": [
      "===== 调试信息：服务器返回 =====\n",
      "{\"id\":\"0194dc6d33048c4e19cbdf425ca0fb2f\",\"object\":\"chat.completion\",\"created\":1738864931,\"model\":\"Qwen/Qwen2.5-32B-Instruct\",\"choices\":[{\"index\":0,\"message\":{\"role\":\"assistant\",\"content\":\"{\\n  \\\"classification\\\": \\\"环境\\\",\\n  \\\"sentiment\\\": \\\"negative\\\"\\n}\"},\"finish_reason\":\"stop\"}],\"usage\":{\"prompt_tokens\":654,\"completion_tokens\":17,\"total_tokens\":671},\"system_fingerprint\":\"\"}\n",
      "=============================\n",
      "\n"
     ]
    },
    {
     "name": "stderr",
     "output_type": "stream",
     "text": [
      "Processing:  49%|████▉     | 520/1060 [22:48<1:06:51,  7.43s/it]"
     ]
    },
    {
     "name": "stdout",
     "output_type": "stream",
     "text": [
      "===== 调试信息：服务器返回 =====\n",
      "{\"id\":\"0194dc6d37782caf65d85dd8f3d79be3\",\"object\":\"chat.completion\",\"created\":1738864932,\"model\":\"Qwen/Qwen2.5-32B-Instruct\",\"choices\":[{\"index\":0,\"message\":{\"role\":\"assistant\",\"content\":\"{\\n  \\\"classification\\\": \\\"教育\\\",\\n  \\\"sentiment\\\": \\\"negative\\\"\\n}\"},\"finish_reason\":\"stop\"}],\"usage\":{\"prompt_tokens\":1132,\"completion_tokens\":17,\"total_tokens\":1149},\"system_fingerprint\":\"\"}\n",
      "=============================\n",
      "\n"
     ]
    },
    {
     "name": "stderr",
     "output_type": "stream",
     "text": [
      "Processing:  49%|████▉     | 521/1060 [22:49<50:17,  5.60s/it]  "
     ]
    },
    {
     "name": "stdout",
     "output_type": "stream",
     "text": [
      "===== 调试信息：服务器返回 =====\n",
      "{\"id\":\"0194dc6d3cbbe00fb44393a6c5e5adc5\",\"object\":\"chat.completion\",\"created\":1738864934,\"model\":\"Qwen/Qwen2.5-32B-Instruct\",\"choices\":[{\"index\":0,\"message\":{\"role\":\"assistant\",\"content\":\"{\\n  \\\"classification\\\": \\\"犯罪\\\",\\n  \\\"sentiment\\\": \\\"negative\\\"\\n}\\n\\n注：在给定的分类选项中，没有直接对应的“犯罪”类别，因此选择了最接近的“国内秩序”。但如果严格遵循给定的分类选项，应选择“其他”。\\n{\\n  \\\"classification\\\": \\\"其他\\\",\\n  \\\"sentiment\\\": \\\"negative\\\"\\n}\"},\"finish_reason\":\"stop\"}],\"usage\":{\"prompt_tokens\":1760,\"completion_tokens\":76,\"total_tokens\":1836},\"system_fingerprint\":\"\"}\n",
      "=============================\n",
      "\n",
      "请求或解析时出现异常：Extra data: line 6 column 1 (char 57)，等待10秒后重试...\n",
      "===== 调试信息：服务器返回 =====\n",
      "{\"id\":\"0194dc6d6a2f60195200f73315cf190e\",\"object\":\"chat.completion\",\"created\":1738864945,\"model\":\"Qwen/Qwen2.5-32B-Instruct\",\"choices\":[{\"index\":0,\"message\":{\"role\":\"assistant\",\"content\":\"{\\n  \\\"classification\\\": \\\"犯罪\\\",\\n  \\\"sentiment\\\": \\\"negative\\\"\\n}\\n\\n注：在提供的分类选项中，没有直接对应的“犯罪”类别，因此选择最接近的“其他”，但由于JSON格式要求具体值，这里选择\\\"其他\\\"以符合要求。\\n\\n{\\n  \\\"classification\\\": \\\"其他\\\",\\n  \\\"sentiment\\\": \\\"negative\\\"\\n}\"},\"finish_reason\":\"stop\"}],\"usage\":{\"prompt_tokens\":1760,\"completion_tokens\":74,\"total_tokens\":1834},\"system_fingerprint\":\"\"}\n",
      "=============================\n",
      "\n",
      "请求或解析时出现异常：Extra data: line 6 column 1 (char 57)，等待10秒后重试...\n",
      "===== 调试信息：服务器返回 =====\n",
      "{\"id\":\"0194dc6d97abc4b1e48bdc7076851f76\",\"object\":\"chat.completion\",\"created\":1738864957,\"model\":\"Qwen/Qwen2.5-32B-Instruct\",\"choices\":[{\"index\":0,\"message\":{\"role\":\"assistant\",\"content\":\"{\\n  \\\"classification\\\": \\\"犯罪\\\",\\n  \\\"sentiment\\\": \\\"negative\\\"\\n}\\n\\n注：由于提供的分类选项中没有“犯罪”，按照要求选择了最接近的分类“其他”，但为了更准确地反映文章内容，此处暂时使用“犯罪”。请根据实际要求调整。\\n{\\n  \\\"classification\\\": \\\"其他\\\",\\n  \\\"sentiment\\\": \\\"negative\\\"\\n}\"},\"finish_reason\":\"stop\"}],\"usage\":{\"prompt_tokens\":1760,\"completion_tokens\":76,\"total_tokens\":1836},\"system_fingerprint\":\"\"}\n",
      "=============================\n",
      "\n",
      "请求或解析时出现异常：Extra data: line 6 column 1 (char 57)，等待10秒后重试...\n",
      "===== 调试信息：服务器返回 =====\n",
      "{\"id\":\"0194dc6dc5449b95acde7a98ca54bd56\",\"object\":\"chat.completion\",\"created\":1738864969,\"model\":\"Qwen/Qwen2.5-32B-Instruct\",\"choices\":[{\"index\":0,\"message\":{\"role\":\"assistant\",\"content\":\"{\\n  \\\"classification\\\": \\\"犯罪\\\",\\n  \\\"sentiment\\\": \\\"negative\\\"\\n}\\n\\n注：分类\\\"犯罪\\\"未在提供的类别中，根据文章内容最接近的分类应为\\\"国内秩序\\\"。\\n{\\n  \\\"classification\\\": \\\"国内秩序\\\",\\n  \\\"sentiment\\\": \\\"negative\\\"\\n}\"},\"finish_reason\":\"stop\"}],\"usage\":{\"prompt_tokens\":1760,\"completion_tokens\":61,\"total_tokens\":1821},\"system_fingerprint\":\"\"}\n",
      "=============================\n",
      "\n",
      "请求或解析时出现异常：Extra data: line 6 column 1 (char 57)，等待10秒后重试...\n",
      "===== 调试信息：服务器返回 =====\n",
      "{\"id\":\"0194dc6df1476e515a5429762521c0a9\",\"object\":\"chat.completion\",\"created\":1738864980,\"model\":\"Qwen/Qwen2.5-32B-Instruct\",\"choices\":[{\"index\":0,\"message\":{\"role\":\"assistant\",\"content\":\"{\\n  \\\"classification\\\": \\\"犯罪\\\",\\n  \\\"sentiment\\\": \\\"negative\\\"\\n}\\n\\n注：分类\\\"犯罪\\\"不在给定的类别列表中，因此应选择最接近的分类。在给定的列表中，\\\"国内秩序\\\"可能最为接近，因为它涉及到了治安问题。因此，如果必须从给定列表中选择的话，应选择\\\"国内秩序\\\"。\\n\\n{\\n  \\\"classification\\\": \\\"国内秩序\\\",\\n  \\\"sentiment\\\": \\\"negative\\\"\\n}\"},\"finish_reason\":\"stop\"}],\"usage\":{\"prompt_tokens\":1760,\"completion_tokens\":97,\"total_tokens\":1857},\"system_fingerprint\":\"\"}\n",
      "=============================\n",
      "\n",
      "请求或解析时出现异常：Extra data: line 6 column 1 (char 57)，等待10秒后重试...\n",
      "达到最大重试次数，返回默认值\n"
     ]
    },
    {
     "name": "stderr",
     "output_type": "stream",
     "text": [
      "Processing:  49%|████▉     | 522/1060 [23:48<3:12:34, 21.48s/it]"
     ]
    },
    {
     "name": "stdout",
     "output_type": "stream",
     "text": [
      "===== 调试信息：服务器返回 =====\n",
      "{\"id\":\"0194dc6e213f9673e4e4930863985b2c\",\"object\":\"chat.completion\",\"created\":1738864992,\"model\":\"Qwen/Qwen2.5-32B-Instruct\",\"choices\":[{\"index\":0,\"message\":{\"role\":\"assistant\",\"content\":\"{\\n  \\\"classification\\\": \\\"经济\\\",\\n  \\\"sentiment\\\": \\\"neutral\\\"\\n}\"},\"finish_reason\":\"stop\"}],\"usage\":{\"prompt_tokens\":3353,\"completion_tokens\":17,\"total_tokens\":3370},\"system_fingerprint\":\"\"}\n",
      "=============================\n",
      "\n"
     ]
    },
    {
     "name": "stderr",
     "output_type": "stream",
     "text": [
      "Processing:  49%|████▉     | 523/1060 [23:50<2:18:50, 15.51s/it]"
     ]
    },
    {
     "name": "stdout",
     "output_type": "stream",
     "text": [
      "===== 调试信息：服务器返回 =====\n",
      "{\"id\":\"0194dc6e2768ba29c01529243c5f9be0\",\"object\":\"chat.completion\",\"created\":1738864994,\"model\":\"Qwen/Qwen2.5-32B-Instruct\",\"choices\":[{\"index\":0,\"message\":{\"role\":\"assistant\",\"content\":\"{\\n  \\\"classification\\\": \\\"经济\\\",\\n  \\\"sentiment\\\": \\\"neutral\\\"\\n}\"},\"finish_reason\":\"stop\"}],\"usage\":{\"prompt_tokens\":3353,\"completion_tokens\":17,\"total_tokens\":3370},\"system_fingerprint\":\"\"}\n",
      "=============================\n",
      "\n"
     ]
    },
    {
     "name": "stderr",
     "output_type": "stream",
     "text": [
      "Processing:  49%|████▉     | 524/1060 [23:51<1:40:53, 11.29s/it]"
     ]
    },
    {
     "name": "stdout",
     "output_type": "stream",
     "text": [
      "===== 调试信息：服务器返回 =====\n",
      "{\"id\":\"0194dc6e2d11a817f38eb17a2b0d694a\",\"object\":\"chat.completion\",\"created\":1738864995,\"model\":\"Qwen/Qwen2.5-32B-Instruct\",\"choices\":[{\"index\":0,\"message\":{\"role\":\"assistant\",\"content\":\"{\\n  \\\"classification\\\": \\\"国际政治\\\",\\n  \\\"sentiment\\\": \\\"negative\\\"\\n}\"},\"finish_reason\":\"stop\"}],\"usage\":{\"prompt_tokens\":1012,\"completion_tokens\":18,\"total_tokens\":1030},\"system_fingerprint\":\"\"}\n",
      "=============================\n",
      "\n"
     ]
    },
    {
     "name": "stderr",
     "output_type": "stream",
     "text": [
      "Processing:  50%|████▉     | 525/1060 [23:53<1:14:35,  8.37s/it]"
     ]
    },
    {
     "name": "stdout",
     "output_type": "stream",
     "text": [
      "===== 调试信息：服务器返回 =====\n",
      "{\"id\":\"0194dc6e3315a15269acf4216c3ff722\",\"object\":\"chat.completion\",\"created\":1738864997,\"model\":\"Qwen/Qwen2.5-32B-Instruct\",\"choices\":[{\"index\":0,\"message\":{\"role\":\"assistant\",\"content\":\"{\\n  \\\"classification\\\": \\\"经济\\\",\\n  \\\"sentiment\\\": \\\"negative\\\"\\n}\"},\"finish_reason\":\"stop\"}],\"usage\":{\"prompt_tokens\":3114,\"completion_tokens\":17,\"total_tokens\":3131},\"system_fingerprint\":\"\"}\n",
      "=============================\n",
      "\n"
     ]
    },
    {
     "name": "stderr",
     "output_type": "stream",
     "text": [
      "Processing:  50%|████▉     | 526/1060 [23:54<56:48,  6.38s/it]  "
     ]
    },
    {
     "name": "stdout",
     "output_type": "stream",
     "text": [
      "===== 调试信息：服务器返回 =====\n",
      "{\"id\":\"0194dc6e39ec9aeb62d057fa69a8cf23\",\"object\":\"chat.completion\",\"created\":1738864998,\"model\":\"Qwen/Qwen2.5-32B-Instruct\",\"choices\":[{\"index\":0,\"message\":{\"role\":\"assistant\",\"content\":\"{\\n  \\\"classification\\\": \\\"商务活动\\\",\\n  \\\"sentiment\\\": \\\"positive\\\"\\n}\"},\"finish_reason\":\"stop\"}],\"usage\":{\"prompt_tokens\":926,\"completion_tokens\":18,\"total_tokens\":944},\"system_fingerprint\":\"\"}\n",
      "=============================\n",
      "\n"
     ]
    },
    {
     "name": "stderr",
     "output_type": "stream",
     "text": [
      "Processing:  50%|████▉     | 527/1060 [23:56<43:01,  4.84s/it]"
     ]
    },
    {
     "name": "stdout",
     "output_type": "stream",
     "text": [
      "===== 调试信息：服务器返回 =====\n",
      "{\"id\":\"0194dc6e3f3597a6351d354ec45aaed8\",\"object\":\"chat.completion\",\"created\":1738865000,\"model\":\"Qwen/Qwen2.5-32B-Instruct\",\"choices\":[{\"index\":0,\"message\":{\"role\":\"assistant\",\"content\":\"{\\n  \\\"classification\\\": \\\"体育\\\",\\n  \\\"sentiment\\\": \\\"pleasure\\\"\\n}\"},\"finish_reason\":\"stop\"}],\"usage\":{\"prompt_tokens\":942,\"completion_tokens\":18,\"total_tokens\":960},\"system_fingerprint\":\"\"}\n",
      "=============================\n",
      "\n"
     ]
    },
    {
     "name": "stderr",
     "output_type": "stream",
     "text": [
      "Processing:  50%|████▉     | 528/1060 [23:57<33:20,  3.76s/it]"
     ]
    },
    {
     "name": "stdout",
     "output_type": "stream",
     "text": [
      "===== 调试信息：服务器返回 =====\n",
      "{\"id\":\"0194dc6e43b638238f9d2dc95daf186e\",\"object\":\"chat.completion\",\"created\":1738865001,\"model\":\"Qwen/Qwen2.5-32B-Instruct\",\"choices\":[{\"index\":0,\"message\":{\"role\":\"assistant\",\"content\":\"{\\n  \\\"classification\\\": \\\"商务活动\\\",\\n  \\\"sentiment\\\": \\\"neutral\\\"\\n}\"},\"finish_reason\":\"stop\"}],\"usage\":{\"prompt_tokens\":1494,\"completion_tokens\":18,\"total_tokens\":1512},\"system_fingerprint\":\"\"}\n",
      "=============================\n",
      "\n"
     ]
    },
    {
     "name": "stderr",
     "output_type": "stream",
     "text": [
      "Processing:  50%|████▉     | 529/1060 [23:58<26:28,  2.99s/it]"
     ]
    },
    {
     "name": "stdout",
     "output_type": "stream",
     "text": [
      "===== 调试信息：服务器返回 =====\n",
      "{\"id\":\"0194dc6e486806ae223e965351ffc89c\",\"object\":\"chat.completion\",\"created\":1738865002,\"model\":\"Qwen/Qwen2.5-32B-Instruct\",\"choices\":[{\"index\":0,\"message\":{\"role\":\"assistant\",\"content\":\"{\\n  \\\"classification\\\": \\\"能源\\\",\\n  \\\"sentiment\\\": \\\"pleasure\\\"\\n}\"},\"finish_reason\":\"stop\"}],\"usage\":{\"prompt_tokens\":1505,\"completion_tokens\":18,\"total_tokens\":1523},\"system_fingerprint\":\"\"}\n",
      "=============================\n",
      "\n"
     ]
    },
    {
     "name": "stderr",
     "output_type": "stream",
     "text": [
      "Processing:  50%|█████     | 530/1060 [23:59<21:42,  2.46s/it]"
     ]
    },
    {
     "name": "stdout",
     "output_type": "stream",
     "text": [
      "===== 调试信息：服务器返回 =====\n",
      "{\"id\":\"0194dc6e4d36be37c807642d1ee16d08\",\"object\":\"chat.completion\",\"created\":1738865003,\"model\":\"Qwen/Qwen2.5-32B-Instruct\",\"choices\":[{\"index\":0,\"message\":{\"role\":\"assistant\",\"content\":\"{\\n  \\\"classification\\\": \\\"国际政治\\\",\\n  \\\"sentiment\\\": \\\"negative\\\"\\n}\"},\"finish_reason\":\"stop\"}],\"usage\":{\"prompt_tokens\":2037,\"completion_tokens\":18,\"total_tokens\":2055},\"system_fingerprint\":\"\"}\n",
      "=============================\n",
      "\n"
     ]
    },
    {
     "name": "stderr",
     "output_type": "stream",
     "text": [
      "Processing:  50%|█████     | 531/1060 [24:01<18:41,  2.12s/it]"
     ]
    },
    {
     "name": "stdout",
     "output_type": "stream",
     "text": [
      "===== 调试信息：服务器返回 =====\n",
      "{\"id\":\"0194dc6e5293a2bce9f28ca19722caf3\",\"object\":\"chat.completion\",\"created\":1738865005,\"model\":\"Qwen/Qwen2.5-32B-Instruct\",\"choices\":[{\"index\":0,\"message\":{\"role\":\"assistant\",\"content\":\"{\\n  \\\"classification\\\": \\\"经济\\\",\\n  \\\"sentiment\\\": \\\"positive\\\"\\n}\"},\"finish_reason\":\"stop\"}],\"usage\":{\"prompt_tokens\":1692,\"completion_tokens\":17,\"total_tokens\":1709},\"system_fingerprint\":\"\"}\n",
      "=============================\n",
      "\n"
     ]
    },
    {
     "name": "stderr",
     "output_type": "stream",
     "text": [
      "Processing:  50%|█████     | 532/1060 [24:02<16:28,  1.87s/it]"
     ]
    },
    {
     "name": "stdout",
     "output_type": "stream",
     "text": [
      "===== 调试信息：服务器返回 =====\n",
      "{\"id\":\"0194dc6e575bbb8147e4b417f995ab3a\",\"object\":\"chat.completion\",\"created\":1738865006,\"model\":\"Qwen/Qwen2.5-32B-Instruct\",\"choices\":[{\"index\":0,\"message\":{\"role\":\"assistant\",\"content\":\"{\\n  \\\"classification\\\": \\\"经济\\\",\\n  \\\"sentiment\\\": \\\"negative\\\"\\n}\"},\"finish_reason\":\"stop\"}],\"usage\":{\"prompt_tokens\":1697,\"completion_tokens\":17,\"total_tokens\":1714},\"system_fingerprint\":\"\"}\n",
      "=============================\n",
      "\n"
     ]
    },
    {
     "name": "stderr",
     "output_type": "stream",
     "text": [
      "Processing:  50%|█████     | 533/1060 [24:03<14:58,  1.71s/it]"
     ]
    },
    {
     "name": "stdout",
     "output_type": "stream",
     "text": [
      "===== 调试信息：服务器返回 =====\n",
      "{\"id\":\"0194dc6e5c7830619378b88a6a8057f3\",\"object\":\"chat.completion\",\"created\":1738865007,\"model\":\"Qwen/Qwen2.5-32B-Instruct\",\"choices\":[{\"index\":0,\"message\":{\"role\":\"assistant\",\"content\":\"{\\n  \\\"classification\\\": \\\"国际政治\\\",\\n  \\\"sentiment\\\": \\\"neutral\\\"\\n}\"},\"finish_reason\":\"stop\"}],\"usage\":{\"prompt_tokens\":1509,\"completion_tokens\":18,\"total_tokens\":1527},\"system_fingerprint\":\"\"}\n",
      "=============================\n",
      "\n"
     ]
    },
    {
     "name": "stderr",
     "output_type": "stream",
     "text": [
      "Processing:  50%|█████     | 534/1060 [24:04<13:33,  1.55s/it]"
     ]
    },
    {
     "name": "stdout",
     "output_type": "stream",
     "text": [
      "===== 调试信息：服务器返回 =====\n",
      "{\"id\":\"0194dc6e60f860539d48033844f27e8c\",\"object\":\"chat.completion\",\"created\":1738865008,\"model\":\"Qwen/Qwen2.5-32B-Instruct\",\"choices\":[{\"index\":0,\"message\":{\"role\":\"assistant\",\"content\":\"{\\n  \\\"classification\\\": \\\"体育\\\",\\n  \\\"sentiment\\\": \\\"neutral\\\"\\n}\"},\"finish_reason\":\"stop\"}],\"usage\":{\"prompt_tokens\":1561,\"completion_tokens\":17,\"total_tokens\":1578},\"system_fingerprint\":\"\"}\n",
      "=============================\n",
      "\n"
     ]
    },
    {
     "name": "stderr",
     "output_type": "stream",
     "text": [
      "Processing:  50%|█████     | 535/1060 [24:05<12:32,  1.43s/it]"
     ]
    },
    {
     "name": "stdout",
     "output_type": "stream",
     "text": [
      "===== 调试信息：服务器返回 =====\n",
      "{\"id\":\"0194dc6e65d1806186cf4022ba2ee77a\",\"object\":\"chat.completion\",\"created\":1738865010,\"model\":\"Qwen/Qwen2.5-32B-Instruct\",\"choices\":[{\"index\":0,\"message\":{\"role\":\"assistant\",\"content\":\"{\\n  \\\"classification\\\": \\\"商务活动\\\",\\n  \\\"sentiment\\\": \\\"negative\\\"\\n}\"},\"finish_reason\":\"stop\"}],\"usage\":{\"prompt_tokens\":1280,\"completion_tokens\":18,\"total_tokens\":1298},\"system_fingerprint\":\"\"}\n",
      "=============================\n",
      "\n"
     ]
    },
    {
     "name": "stderr",
     "output_type": "stream",
     "text": [
      "Processing:  51%|█████     | 536/1060 [24:07<11:56,  1.37s/it]"
     ]
    },
    {
     "name": "stdout",
     "output_type": "stream",
     "text": [
      "===== 调试信息：服务器返回 =====\n",
      "{\"id\":\"0194dc6e6a63b9a8a6f1010b72430d8f\",\"object\":\"chat.completion\",\"created\":1738865011,\"model\":\"Qwen/Qwen2.5-32B-Instruct\",\"choices\":[{\"index\":0,\"message\":{\"role\":\"assistant\",\"content\":\"{\\n  \\\"classification\\\": \\\"体育\\\",\\n  \\\"sentiment\\\": \\\"positive\\\"\\n}\"},\"finish_reason\":\"stop\"}],\"usage\":{\"prompt_tokens\":1561,\"completion_tokens\":17,\"total_tokens\":1578},\"system_fingerprint\":\"\"}\n",
      "=============================\n",
      "\n"
     ]
    },
    {
     "name": "stderr",
     "output_type": "stream",
     "text": [
      "Processing:  51%|█████     | 537/1060 [24:08<11:23,  1.31s/it]"
     ]
    },
    {
     "name": "stdout",
     "output_type": "stream",
     "text": [
      "===== 调试信息：服务器返回 =====\n",
      "{\"id\":\"0194dc6e6f24c475163c0a30f7327716\",\"object\":\"chat.completion\",\"created\":1738865012,\"model\":\"Qwen/Qwen2.5-32B-Instruct\",\"choices\":[{\"index\":0,\"message\":{\"role\":\"assistant\",\"content\":\"{\\n  \\\"classification\\\": \\\"国际政治\\\",\\n  \\\"sentiment\\\": \\\"negative\\\"\\n}\"},\"finish_reason\":\"stop\"}],\"usage\":{\"prompt_tokens\":2519,\"completion_tokens\":18,\"total_tokens\":2537},\"system_fingerprint\":\"\"}\n",
      "=============================\n",
      "\n"
     ]
    },
    {
     "name": "stderr",
     "output_type": "stream",
     "text": [
      "Processing:  51%|█████     | 538/1060 [24:09<11:47,  1.36s/it]"
     ]
    },
    {
     "name": "stdout",
     "output_type": "stream",
     "text": [
      "===== 调试信息：服务器返回 =====\n",
      "{\"id\":\"0194dc6e74b70c9c1a08aa9ea492470d\",\"object\":\"chat.completion\",\"created\":1738865013,\"model\":\"Qwen/Qwen2.5-32B-Instruct\",\"choices\":[{\"index\":0,\"message\":{\"role\":\"assistant\",\"content\":\"{\\n  \\\"classification\\\": \\\"商务活动\\\",\\n  \\\"sentiment\\\": \\\"negative\\\"\\n}\"},\"finish_reason\":\"stop\"}],\"usage\":{\"prompt_tokens\":1858,\"completion_tokens\":18,\"total_tokens\":1876},\"system_fingerprint\":\"\"}\n",
      "=============================\n",
      "\n"
     ]
    },
    {
     "name": "stderr",
     "output_type": "stream",
     "text": [
      "Processing:  51%|█████     | 539/1060 [24:11<11:31,  1.33s/it]"
     ]
    },
    {
     "name": "stdout",
     "output_type": "stream",
     "text": [
      "===== 调试信息：服务器返回 =====\n",
      "{\"id\":\"0194dc6e798f317bdfcdddfb7eb19b2d\",\"object\":\"chat.completion\",\"created\":1738865015,\"model\":\"Qwen/Qwen2.5-32B-Instruct\",\"choices\":[{\"index\":0,\"message\":{\"role\":\"assistant\",\"content\":\"{\\n  \\\"classification\\\": \\\"文化活动\\\",\\n  \\\"sentiment\\\": \\\"neutral\\\"\\n}\"},\"finish_reason\":\"stop\"}],\"usage\":{\"prompt_tokens\":1577,\"completion_tokens\":18,\"total_tokens\":1595},\"system_fingerprint\":\"\"}\n",
      "=============================\n",
      "\n"
     ]
    },
    {
     "name": "stderr",
     "output_type": "stream",
     "text": [
      "Processing:  51%|█████     | 540/1060 [24:12<11:07,  1.28s/it]"
     ]
    },
    {
     "name": "stdout",
     "output_type": "stream",
     "text": [
      "===== 调试信息：服务器返回 =====\n",
      "{\"id\":\"0194dc6e7e25023d6a2218276f4dcbe5\",\"object\":\"chat.completion\",\"created\":1738865016,\"model\":\"Qwen/Qwen2.5-32B-Instruct\",\"choices\":[{\"index\":0,\"message\":{\"role\":\"assistant\",\"content\":\"{\\n  \\\"classification\\\": \\\"时尚\\\",\\n  \\\"sentiment\\\": \\\"pleasure\\\"\\n}\"},\"finish_reason\":\"stop\"}],\"usage\":{\"prompt_tokens\":1925,\"completion_tokens\":18,\"total_tokens\":1943},\"system_fingerprint\":\"\"}\n",
      "=============================\n",
      "\n"
     ]
    },
    {
     "name": "stderr",
     "output_type": "stream",
     "text": [
      "Processing:  51%|█████     | 541/1060 [24:13<11:23,  1.32s/it]"
     ]
    },
    {
     "name": "stdout",
     "output_type": "stream",
     "text": [
      "===== 调试信息：服务器返回 =====\n",
      "{\"id\":\"0194dc6e844a951b4485266a91e503cb\",\"object\":\"chat.completion\",\"created\":1738865017,\"model\":\"Qwen/Qwen2.5-32B-Instruct\",\"choices\":[{\"index\":0,\"message\":{\"role\":\"assistant\",\"content\":\"{\\n  \\\"classification\\\": \\\"能源\\\",\\n  \\\"sentiment\\\": \\\"negative\\\"\\n}\"},\"finish_reason\":\"stop\"}],\"usage\":{\"prompt_tokens\":971,\"completion_tokens\":17,\"total_tokens\":988},\"system_fingerprint\":\"\"}\n",
      "=============================\n",
      "\n"
     ]
    },
    {
     "name": "stderr",
     "output_type": "stream",
     "text": [
      "Processing:  51%|█████     | 542/1060 [24:14<11:12,  1.30s/it]"
     ]
    },
    {
     "name": "stdout",
     "output_type": "stream",
     "text": [
      "===== 调试信息：服务器返回 =====\n",
      "{\"id\":\"0194dc6e88a31365523ddacd19e987eb\",\"object\":\"chat.completion\",\"created\":1738865019,\"model\":\"Qwen/Qwen2.5-32B-Instruct\",\"choices\":[{\"index\":0,\"message\":{\"role\":\"assistant\",\"content\":\"{\\n  \\\"classification\\\": \\\"国际政治\\\",\\n  \\\"sentiment\\\": \\\"negative\\\"\\n}\"},\"finish_reason\":\"stop\"}],\"usage\":{\"prompt_tokens\":2170,\"completion_tokens\":18,\"total_tokens\":2188},\"system_fingerprint\":\"\"}\n",
      "=============================\n",
      "\n"
     ]
    },
    {
     "name": "stderr",
     "output_type": "stream",
     "text": [
      "Processing:  51%|█████     | 543/1060 [24:16<11:12,  1.30s/it]"
     ]
    },
    {
     "name": "stdout",
     "output_type": "stream",
     "text": [
      "===== 调试信息：服务器返回 =====\n",
      "{\"id\":\"0194dc6e8d9ae3bd3b11560d9078f2f0\",\"object\":\"chat.completion\",\"created\":1738865020,\"model\":\"Qwen/Qwen2.5-32B-Instruct\",\"choices\":[{\"index\":0,\"message\":{\"role\":\"assistant\",\"content\":\"{\\n  \\\"classification\\\": \\\"军事和防御\\\",\\n  \\\"sentiment\\\": \\\"negative\\\"\\n}\"},\"finish_reason\":\"stop\"}],\"usage\":{\"prompt_tokens\":1411,\"completion_tokens\":19,\"total_tokens\":1430},\"system_fingerprint\":\"\"}\n",
      "=============================\n",
      "\n"
     ]
    },
    {
     "name": "stderr",
     "output_type": "stream",
     "text": [
      "Processing:  51%|█████▏    | 544/1060 [24:17<10:53,  1.27s/it]"
     ]
    },
    {
     "name": "stdout",
     "output_type": "stream",
     "text": [
      "===== 调试信息：服务器返回 =====\n",
      "{\"id\":\"0194dc6e9257484993ce3db4a22933a8\",\"object\":\"chat.completion\",\"created\":1738865021,\"model\":\"Qwen/Qwen2.5-32B-Instruct\",\"choices\":[{\"index\":0,\"message\":{\"role\":\"assistant\",\"content\":\"{\\n  \\\"classification\\\": \\\"国际政治\\\",\\n  \\\"sentiment\\\": \\\"neutral\\\"\\n}\"},\"finish_reason\":\"stop\"}],\"usage\":{\"prompt_tokens\":2299,\"completion_tokens\":18,\"total_tokens\":2317},\"system_fingerprint\":\"\"}\n",
      "=============================\n",
      "\n"
     ]
    },
    {
     "name": "stderr",
     "output_type": "stream",
     "text": [
      "Processing:  51%|█████▏    | 545/1060 [24:18<11:01,  1.29s/it]"
     ]
    },
    {
     "name": "stdout",
     "output_type": "stream",
     "text": [
      "===== 调试信息：服务器返回 =====\n",
      "{\"id\":\"0194dc6e9780515dcb15fc4adc67459b\",\"object\":\"chat.completion\",\"created\":1738865022,\"model\":\"Qwen/Qwen2.5-32B-Instruct\",\"choices\":[{\"index\":0,\"message\":{\"role\":\"assistant\",\"content\":\"{\\n  \\\"classification\\\": \\\"经济\\\",\\n  \\\"sentiment\\\": \\\"neutral\\\"\\n}\"},\"finish_reason\":\"stop\"}],\"usage\":{\"prompt_tokens\":1524,\"completion_tokens\":17,\"total_tokens\":1541},\"system_fingerprint\":\"\"}\n",
      "=============================\n",
      "\n"
     ]
    },
    {
     "name": "stderr",
     "output_type": "stream",
     "text": [
      "Processing:  52%|█████▏    | 546/1060 [24:19<10:44,  1.25s/it]"
     ]
    },
    {
     "name": "stdout",
     "output_type": "stream",
     "text": [
      "===== 调试信息：服务器返回 =====\n",
      "{\"id\":\"0194dc6e9c23bda469e444ef169b62db\",\"object\":\"chat.completion\",\"created\":1738865024,\"model\":\"Qwen/Qwen2.5-32B-Instruct\",\"choices\":[{\"index\":0,\"message\":{\"role\":\"assistant\",\"content\":\"{\\n  \\\"classification\\\": \\\"奥运\\\",\\n  \\\"sentiment\\\": \\\"pleasure\\\"\\n}\"},\"finish_reason\":\"stop\"}],\"usage\":{\"prompt_tokens\":1527,\"completion_tokens\":18,\"total_tokens\":1545},\"system_fingerprint\":\"\"}\n",
      "=============================\n",
      "\n"
     ]
    },
    {
     "name": "stderr",
     "output_type": "stream",
     "text": [
      "Processing:  52%|█████▏    | 547/1060 [24:21<10:41,  1.25s/it]"
     ]
    },
    {
     "name": "stdout",
     "output_type": "stream",
     "text": [
      "===== 调试信息：服务器返回 =====\n",
      "{\"id\":\"0194dc6ea0f1235e9ac02974e3566ecd\",\"object\":\"chat.completion\",\"created\":1738865025,\"model\":\"Qwen/Qwen2.5-32B-Instruct\",\"choices\":[{\"index\":0,\"message\":{\"role\":\"assistant\",\"content\":\"{\\n  \\\"classification\\\": \\\"国际政治\\\",\\n  \\\"sentiment\\\": \\\"negative\\\"\\n}\"},\"finish_reason\":\"stop\"}],\"usage\":{\"prompt_tokens\":1808,\"completion_tokens\":18,\"total_tokens\":1826},\"system_fingerprint\":\"\"}\n",
      "=============================\n",
      "\n"
     ]
    },
    {
     "name": "stderr",
     "output_type": "stream",
     "text": [
      "Processing:  52%|█████▏    | 548/1060 [24:22<10:41,  1.25s/it]"
     ]
    },
    {
     "name": "stdout",
     "output_type": "stream",
     "text": [
      "===== 调试信息：服务器返回 =====\n",
      "{\"id\":\"0194dc6ea5df3dfcfd0b48f55531d58c\",\"object\":\"chat.completion\",\"created\":1738865026,\"model\":\"Qwen/Qwen2.5-32B-Instruct\",\"choices\":[{\"index\":0,\"message\":{\"role\":\"assistant\",\"content\":\"{\\n  \\\"classification\\\": \\\"经济\\\",\\n  \\\"sentiment\\\": \\\"positive\\\"\\n}\"},\"finish_reason\":\"stop\"}],\"usage\":{\"prompt_tokens\":1698,\"completion_tokens\":17,\"total_tokens\":1715},\"system_fingerprint\":\"\"}\n",
      "=============================\n",
      "\n"
     ]
    },
    {
     "name": "stderr",
     "output_type": "stream",
     "text": [
      "Processing:  52%|█████▏    | 549/1060 [24:23<10:32,  1.24s/it]"
     ]
    },
    {
     "name": "stdout",
     "output_type": "stream",
     "text": [
      "===== 调试信息：服务器返回 =====\n",
      "{\"id\":\"0194dc6eaa9a21e99bd26245671c8e05\",\"object\":\"chat.completion\",\"created\":1738865027,\"model\":\"Qwen/Qwen2.5-32B-Instruct\",\"choices\":[{\"index\":0,\"message\":{\"role\":\"assistant\",\"content\":\"{\\n  \\\"classification\\\": \\\"军事和防御\\\",\\n  \\\"sentiment\\\": \\\"negative\\\"\\n}\"},\"finish_reason\":\"stop\"}],\"usage\":{\"prompt_tokens\":760,\"completion_tokens\":19,\"total_tokens\":779},\"system_fingerprint\":\"\"}\n",
      "=============================\n",
      "\n"
     ]
    },
    {
     "name": "stderr",
     "output_type": "stream",
     "text": [
      "Processing:  52%|█████▏    | 550/1060 [24:24<10:21,  1.22s/it]"
     ]
    },
    {
     "name": "stdout",
     "output_type": "stream",
     "text": [
      "===== 调试信息：服务器返回 =====\n",
      "{\"id\":\"0194dc6eaf3d7c43eddf9feda25a06be\",\"object\":\"chat.completion\",\"created\":1738865028,\"model\":\"Qwen/Qwen2.5-32B-Instruct\",\"choices\":[{\"index\":0,\"message\":{\"role\":\"assistant\",\"content\":\"{\\n  \\\"classification\\\": \\\"国内政治\\\",\\n  \\\"sentiment\\\": \\\"neutral\\\"\\n}\"},\"finish_reason\":\"stop\"}],\"usage\":{\"prompt_tokens\":1647,\"completion_tokens\":18,\"total_tokens\":1665},\"system_fingerprint\":\"\"}\n",
      "=============================\n",
      "\n"
     ]
    },
    {
     "name": "stderr",
     "output_type": "stream",
     "text": [
      "Processing:  52%|█████▏    | 551/1060 [24:26<10:20,  1.22s/it]"
     ]
    },
    {
     "name": "stdout",
     "output_type": "stream",
     "text": [
      "===== 调试信息：服务器返回 =====\n",
      "{\"id\":\"0194dc6eb3fc31c626af8d72dfdfbf62\",\"object\":\"chat.completion\",\"created\":1738865030,\"model\":\"Qwen/Qwen2.5-32B-Instruct\",\"choices\":[{\"index\":0,\"message\":{\"role\":\"assistant\",\"content\":\"{\\n  \\\"classification\\\": \\\"传播\\\",\\n  \\\"sentiment\\\": \\\"neutral\\\"\\n}\"},\"finish_reason\":\"stop\"}],\"usage\":{\"prompt_tokens\":1672,\"completion_tokens\":17,\"total_tokens\":1689},\"system_fingerprint\":\"\"}\n",
      "=============================\n",
      "\n"
     ]
    },
    {
     "name": "stderr",
     "output_type": "stream",
     "text": [
      "Processing:  52%|█████▏    | 552/1060 [24:27<10:23,  1.23s/it]"
     ]
    },
    {
     "name": "stdout",
     "output_type": "stream",
     "text": [
      "===== 调试信息：服务器返回 =====\n",
      "{\"id\":\"0194dc6eb8db5b1015c634c2abc0c3a9\",\"object\":\"chat.completion\",\"created\":1738865031,\"model\":\"Qwen/Qwen2.5-32B-Instruct\",\"choices\":[{\"index\":0,\"message\":{\"role\":\"assistant\",\"content\":\"{\\n  \\\"classification\\\": \\\"国际政治\\\",\\n  \\\"sentiment\\\": \\\"neutral\\\"\\n}\"},\"finish_reason\":\"stop\"}],\"usage\":{\"prompt_tokens\":1159,\"completion_tokens\":18,\"total_tokens\":1177},\"system_fingerprint\":\"\"}\n",
      "=============================\n",
      "\n"
     ]
    },
    {
     "name": "stderr",
     "output_type": "stream",
     "text": [
      "Processing:  52%|█████▏    | 553/1060 [24:28<10:10,  1.20s/it]"
     ]
    },
    {
     "name": "stdout",
     "output_type": "stream",
     "text": [
      "===== 调试信息：服务器返回 =====\n",
      "{\"id\":\"0194dc6ebd646a42e0019ad816c1c578\",\"object\":\"chat.completion\",\"created\":1738865032,\"model\":\"Qwen/Qwen2.5-32B-Instruct\",\"choices\":[{\"index\":0,\"message\":{\"role\":\"assistant\",\"content\":\"{\\n  \\\"classification\\\": \\\"经济\\\",\\n  \\\"sentiment\\\": \\\"negative\\\"\\n}\"},\"finish_reason\":\"stop\"}],\"usage\":{\"prompt_tokens\":1430,\"completion_tokens\":17,\"total_tokens\":1447},\"system_fingerprint\":\"\"}\n",
      "=============================\n",
      "\n"
     ]
    },
    {
     "name": "stderr",
     "output_type": "stream",
     "text": [
      "Processing:  52%|█████▏    | 554/1060 [24:29<10:08,  1.20s/it]"
     ]
    },
    {
     "name": "stdout",
     "output_type": "stream",
     "text": [
      "===== 调试信息：服务器返回 =====\n",
      "{\"id\":\"0194dc6ec1eac759dea86292587fc089\",\"object\":\"chat.completion\",\"created\":1738865033,\"model\":\"Qwen/Qwen2.5-32B-Instruct\",\"choices\":[{\"index\":0,\"message\":{\"role\":\"assistant\",\"content\":\"{\\n  \\\"classification\\\": \\\"国际政治\\\",\\n  \\\"sentiment\\\": \\\"negative\\\"\\n}\"},\"finish_reason\":\"stop\"}],\"usage\":{\"prompt_tokens\":1484,\"completion_tokens\":18,\"total_tokens\":1502},\"system_fingerprint\":\"\"}\n",
      "=============================\n",
      "\n"
     ]
    },
    {
     "name": "stderr",
     "output_type": "stream",
     "text": [
      "Processing:  52%|█████▏    | 555/1060 [24:30<10:08,  1.20s/it]"
     ]
    },
    {
     "name": "stdout",
     "output_type": "stream",
     "text": [
      "===== 调试信息：服务器返回 =====\n",
      "{\"id\":\"0194dc6ec6a80a27327ed50f4ede335e\",\"object\":\"chat.completion\",\"created\":1738865034,\"model\":\"Qwen/Qwen2.5-32B-Instruct\",\"choices\":[{\"index\":0,\"message\":{\"role\":\"assistant\",\"content\":\"{\\n  \\\"classification\\\": \\\"国际政治\\\",\\n  \\\"sentiment\\\": \\\"negative\\\"\\n}\"},\"finish_reason\":\"stop\"}],\"usage\":{\"prompt_tokens\":1196,\"completion_tokens\":18,\"total_tokens\":1214},\"system_fingerprint\":\"\"}\n",
      "=============================\n",
      "\n"
     ]
    },
    {
     "name": "stderr",
     "output_type": "stream",
     "text": [
      "Processing:  52%|█████▏    | 556/1060 [24:31<09:55,  1.18s/it]"
     ]
    },
    {
     "name": "stdout",
     "output_type": "stream",
     "text": [
      "===== 调试信息：服务器返回 =====\n",
      "{\"id\":\"0194dc6ecbe1f99944ac2edebbf32efb\",\"object\":\"chat.completion\",\"created\":1738865036,\"model\":\"Qwen/Qwen2.5-32B-Instruct\",\"choices\":[{\"index\":0,\"message\":{\"role\":\"assistant\",\"content\":\"{\\n  \\\"classification\\\": \\\"文化活动\\\",\\n  \\\"sentiment\\\": \\\"neutral\\\"\\n}\"},\"finish_reason\":\"stop\"}],\"usage\":{\"prompt_tokens\":6132,\"completion_tokens\":18,\"total_tokens\":6150},\"system_fingerprint\":\"\"}\n",
      "=============================\n",
      "\n"
     ]
    },
    {
     "name": "stderr",
     "output_type": "stream",
     "text": [
      "Processing:  53%|█████▎    | 557/1060 [24:34<12:37,  1.51s/it]"
     ]
    },
    {
     "name": "stdout",
     "output_type": "stream",
     "text": [
      "===== 调试信息：服务器返回 =====\n",
      "{\"id\":\"0194dc6ed44a4b0545d81b5043395a41\",\"object\":\"chat.completion\",\"created\":1738865038,\"model\":\"Qwen/Qwen2.5-32B-Instruct\",\"choices\":[{\"index\":0,\"message\":{\"role\":\"assistant\",\"content\":\"{\\n  \\\"classification\\\": \\\"国际政治\\\",\\n  \\\"sentiment\\\": \\\"neutral\\\"\\n}\"},\"finish_reason\":\"stop\"}],\"usage\":{\"prompt_tokens\":1598,\"completion_tokens\":18,\"total_tokens\":1616},\"system_fingerprint\":\"\"}\n",
      "=============================\n",
      "\n"
     ]
    },
    {
     "name": "stderr",
     "output_type": "stream",
     "text": [
      "Processing:  53%|█████▎    | 558/1060 [24:35<12:04,  1.44s/it]"
     ]
    },
    {
     "name": "stdout",
     "output_type": "stream",
     "text": [
      "===== 调试信息：服务器返回 =====\n",
      "{\"id\":\"0194dc6ed8e7fe1c449ef5b5b097e529\",\"object\":\"chat.completion\",\"created\":1738865039,\"model\":\"Qwen/Qwen2.5-32B-Instruct\",\"choices\":[{\"index\":0,\"message\":{\"role\":\"assistant\",\"content\":\"{\\n  \\\"classification\\\": \\\"商务活动\\\",\\n  \\\"sentiment\\\": \\\"positive\\\"\\n}\"},\"finish_reason\":\"stop\"}],\"usage\":{\"prompt_tokens\":632,\"completion_tokens\":18,\"total_tokens\":650},\"system_fingerprint\":\"\"}\n",
      "=============================\n",
      "\n"
     ]
    },
    {
     "name": "stderr",
     "output_type": "stream",
     "text": [
      "Processing:  53%|█████▎    | 559/1060 [24:36<11:29,  1.38s/it]"
     ]
    },
    {
     "name": "stdout",
     "output_type": "stream",
     "text": [
      "===== 调试信息：服务器返回 =====\n",
      "{\"id\":\"0194dc6eddc86f05849fe6eafffddc27\",\"object\":\"chat.completion\",\"created\":1738865040,\"model\":\"Qwen/Qwen2.5-32B-Instruct\",\"choices\":[{\"index\":0,\"message\":{\"role\":\"assistant\",\"content\":\"{\\n  \\\"classification\\\": \\\"国际政治\\\",\\n  \\\"sentiment\\\": \\\"neutral\\\"\\n}\"},\"finish_reason\":\"stop\"}],\"usage\":{\"prompt_tokens\":2292,\"completion_tokens\":18,\"total_tokens\":2310},\"system_fingerprint\":\"\"}\n",
      "=============================\n",
      "\n"
     ]
    },
    {
     "name": "stderr",
     "output_type": "stream",
     "text": [
      "Processing:  53%|█████▎    | 560/1060 [24:38<11:19,  1.36s/it]"
     ]
    },
    {
     "name": "stdout",
     "output_type": "stream",
     "text": [
      "===== 调试信息：服务器返回 =====\n",
      "{\"id\":\"0194dc6ee2f6a631efca81a8d2e4d9f9\",\"object\":\"chat.completion\",\"created\":1738865042,\"model\":\"Qwen/Qwen2.5-32B-Instruct\",\"choices\":[{\"index\":0,\"message\":{\"role\":\"assistant\",\"content\":\"{\\n  \\\"classification\\\": \\\"商务活动\\\",\\n  \\\"sentiment\\\": \\\"neutral\\\"\\n}\"},\"finish_reason\":\"stop\"}],\"usage\":{\"prompt_tokens\":961,\"completion_tokens\":18,\"total_tokens\":979},\"system_fingerprint\":\"\"}\n",
      "=============================\n",
      "\n"
     ]
    },
    {
     "name": "stderr",
     "output_type": "stream",
     "text": [
      "Processing:  53%|█████▎    | 561/1060 [24:39<10:49,  1.30s/it]"
     ]
    },
    {
     "name": "stdout",
     "output_type": "stream",
     "text": [
      "===== 调试信息：服务器返回 =====\n",
      "{\"id\":\"0194dc6ee78b1b9382035a2fc2f1a21c\",\"object\":\"chat.completion\",\"created\":1738865043,\"model\":\"Qwen/Qwen2.5-32B-Instruct\",\"choices\":[{\"index\":0,\"message\":{\"role\":\"assistant\",\"content\":\"{\\n  \\\"classification\\\": \\\"体育\\\",\\n  \\\"sentiment\\\": \\\"positive\\\"\\n}\"},\"finish_reason\":\"stop\"}],\"usage\":{\"prompt_tokens\":1645,\"completion_tokens\":17,\"total_tokens\":1662},\"system_fingerprint\":\"\"}\n",
      "=============================\n",
      "\n"
     ]
    },
    {
     "name": "stderr",
     "output_type": "stream",
     "text": [
      "Processing:  53%|█████▎    | 562/1060 [24:40<10:52,  1.31s/it]"
     ]
    },
    {
     "name": "stdout",
     "output_type": "stream",
     "text": [
      "===== 调试信息：服务器返回 =====\n",
      "{\"id\":\"0194dc6eecb553ffcf4eecabbb4da861\",\"object\":\"chat.completion\",\"created\":1738865044,\"model\":\"Qwen/Qwen2.5-32B-Instruct\",\"choices\":[{\"index\":0,\"message\":{\"role\":\"assistant\",\"content\":\"{\\n  \\\"classification\\\": \\\"军事和防御\\\",\\n  \\\"sentiment\\\": \\\"negative\\\"\\n}\"},\"finish_reason\":\"stop\"}],\"usage\":{\"prompt_tokens\":2606,\"completion_tokens\":19,\"total_tokens\":2625},\"system_fingerprint\":\"\"}\n",
      "=============================\n",
      "\n"
     ]
    },
    {
     "name": "stderr",
     "output_type": "stream",
     "text": [
      "Processing:  53%|█████▎    | 563/1060 [24:41<11:05,  1.34s/it]"
     ]
    },
    {
     "name": "stdout",
     "output_type": "stream",
     "text": [
      "===== 调试信息：服务器返回 =====\n",
      "{\"id\":\"0194dc6ef24a01e9060d71d536235ed7\",\"object\":\"chat.completion\",\"created\":1738865046,\"model\":\"Qwen/Qwen2.5-32B-Instruct\",\"choices\":[{\"index\":0,\"message\":{\"role\":\"assistant\",\"content\":\"{\\n  \\\"classification\\\": \\\"传播\\\",\\n  \\\"sentiment\\\": \\\"negative\\\"\\n}\"},\"finish_reason\":\"stop\"}],\"usage\":{\"prompt_tokens\":1503,\"completion_tokens\":17,\"total_tokens\":1520},\"system_fingerprint\":\"\"}\n",
      "=============================\n",
      "\n"
     ]
    },
    {
     "name": "stderr",
     "output_type": "stream",
     "text": [
      "Processing:  53%|█████▎    | 564/1060 [24:43<10:41,  1.29s/it]"
     ]
    },
    {
     "name": "stdout",
     "output_type": "stream",
     "text": [
      "===== 调试信息：服务器返回 =====\n",
      "{\"id\":\"0194dc6ef6cef6b1e26c16a5a9b81b8a\",\"object\":\"chat.completion\",\"created\":1738865047,\"model\":\"Qwen/Qwen2.5-32B-Instruct\",\"choices\":[{\"index\":0,\"message\":{\"role\":\"assistant\",\"content\":\"{\\n  \\\"classification\\\": \\\"体育\\\",\\n  \\\"sentiment\\\": \\\"pleasure\\\"\\n}\"},\"finish_reason\":\"stop\"}],\"usage\":{\"prompt_tokens\":1630,\"completion_tokens\":18,\"total_tokens\":1648},\"system_fingerprint\":\"\"}\n",
      "=============================\n",
      "\n"
     ]
    },
    {
     "name": "stderr",
     "output_type": "stream",
     "text": [
      "Processing:  53%|█████▎    | 565/1060 [24:44<10:27,  1.27s/it]"
     ]
    },
    {
     "name": "stdout",
     "output_type": "stream",
     "text": [
      "===== 调试信息：服务器返回 =====\n",
      "{\"id\":\"0194dc6efc118835bfa74e4258aeac7a\",\"object\":\"chat.completion\",\"created\":1738865048,\"model\":\"Qwen/Qwen2.5-32B-Instruct\",\"choices\":[{\"index\":0,\"message\":{\"role\":\"assistant\",\"content\":\"{\\n  \\\"classification\\\": \\\"国内政治\\\",\\n  \\\"sentiment\\\": \\\"negative\\\"\\n}\"},\"finish_reason\":\"stop\"}],\"usage\":{\"prompt_tokens\":1475,\"completion_tokens\":18,\"total_tokens\":1493},\"system_fingerprint\":\"\"}\n",
      "=============================\n",
      "\n"
     ]
    },
    {
     "name": "stderr",
     "output_type": "stream",
     "text": [
      "Processing:  53%|█████▎    | 566/1060 [24:45<10:33,  1.28s/it]"
     ]
    },
    {
     "name": "stdout",
     "output_type": "stream",
     "text": [
      "===== 调试信息：服务器返回 =====\n",
      "{\"id\":\"0194dc6f009d64f854b791b6468716d4\",\"object\":\"chat.completion\",\"created\":1738865049,\"model\":\"Qwen/Qwen2.5-32B-Instruct\",\"choices\":[{\"index\":0,\"message\":{\"role\":\"assistant\",\"content\":\"{\\n  \\\"classification\\\": \\\"商务活动\\\",\\n  \\\"sentiment\\\": \\\"positive\\\"\\n}\"},\"finish_reason\":\"stop\"}],\"usage\":{\"prompt_tokens\":1457,\"completion_tokens\":18,\"total_tokens\":1475},\"system_fingerprint\":\"\"}\n",
      "=============================\n",
      "\n"
     ]
    },
    {
     "name": "stderr",
     "output_type": "stream",
     "text": [
      "Processing:  53%|█████▎    | 567/1060 [24:46<10:19,  1.26s/it]"
     ]
    },
    {
     "name": "stdout",
     "output_type": "stream",
     "text": [
      "===== 调试信息：服务器返回 =====\n",
      "{\"id\":\"0194dc6f0544580cbe15f28533d9052d\",\"object\":\"chat.completion\",\"created\":1738865050,\"model\":\"Qwen/Qwen2.5-32B-Instruct\",\"choices\":[{\"index\":0,\"message\":{\"role\":\"assistant\",\"content\":\"{\\n  \\\"classification\\\": \\\"文化活动\\\",\\n  \\\"sentiment\\\": \\\"pleasure\\\"\\n}\"},\"finish_reason\":\"stop\"}],\"usage\":{\"prompt_tokens\":3173,\"completion_tokens\":19,\"total_tokens\":3192},\"system_fingerprint\":\"\"}\n",
      "=============================\n",
      "\n"
     ]
    },
    {
     "name": "stderr",
     "output_type": "stream",
     "text": [
      "Processing:  54%|█████▎    | 568/1060 [24:48<10:43,  1.31s/it]"
     ]
    },
    {
     "name": "stdout",
     "output_type": "stream",
     "text": [
      "===== 调试信息：服务器返回 =====\n",
      "{\"id\":\"0194dc6f0aced39b5869a9c5d59b3850\",\"object\":\"chat.completion\",\"created\":1738865052,\"model\":\"Qwen/Qwen2.5-32B-Instruct\",\"choices\":[{\"index\":0,\"message\":{\"role\":\"assistant\",\"content\":\"{\\n  \\\"classification\\\": \\\"国内政治\\\",\\n  \\\"sentiment\\\": \\\"neutral\\\"\\n}\"},\"finish_reason\":\"stop\"}],\"usage\":{\"prompt_tokens\":1416,\"completion_tokens\":18,\"total_tokens\":1434},\"system_fingerprint\":\"\"}\n",
      "=============================\n",
      "\n"
     ]
    },
    {
     "name": "stderr",
     "output_type": "stream",
     "text": [
      "Processing:  54%|█████▎    | 569/1060 [24:49<10:16,  1.26s/it]"
     ]
    },
    {
     "name": "stdout",
     "output_type": "stream",
     "text": [
      "===== 调试信息：服务器返回 =====\n",
      "{\"id\":\"0194dc6f0f4b360f76660e54f8148ad8\",\"object\":\"chat.completion\",\"created\":1738865053,\"model\":\"Qwen/Qwen2.5-32B-Instruct\",\"choices\":[{\"index\":0,\"message\":{\"role\":\"assistant\",\"content\":\"{\\n  \\\"classification\\\": \\\"经济\\\",\\n  \\\"sentiment\\\": \\\"negative\\\"\\n}\"},\"finish_reason\":\"stop\"}],\"usage\":{\"prompt_tokens\":2098,\"completion_tokens\":17,\"total_tokens\":2115},\"system_fingerprint\":\"\"}\n",
      "=============================\n",
      "\n"
     ]
    },
    {
     "name": "stderr",
     "output_type": "stream",
     "text": [
      "Processing:  54%|█████▍    | 570/1060 [24:50<10:12,  1.25s/it]"
     ]
    },
    {
     "name": "stdout",
     "output_type": "stream",
     "text": [
      "===== 调试信息：服务器返回 =====\n",
      "{\"id\":\"0194dc6f141a0fea71014631f623410a\",\"object\":\"chat.completion\",\"created\":1738865054,\"model\":\"Qwen/Qwen2.5-32B-Instruct\",\"choices\":[{\"index\":0,\"message\":{\"role\":\"assistant\",\"content\":\"{\\n  \\\"classification\\\": \\\"国际政治\\\",\\n  \\\"sentiment\\\": \\\"neutral\\\"\\n}\"},\"finish_reason\":\"stop\"}],\"usage\":{\"prompt_tokens\":1738,\"completion_tokens\":18,\"total_tokens\":1756},\"system_fingerprint\":\"\"}\n",
      "=============================\n",
      "\n"
     ]
    },
    {
     "name": "stderr",
     "output_type": "stream",
     "text": [
      "Processing:  54%|█████▍    | 571/1060 [24:51<10:04,  1.24s/it]"
     ]
    },
    {
     "name": "stdout",
     "output_type": "stream",
     "text": [
      "===== 调试信息：服务器返回 =====\n",
      "{\"id\":\"0194dc6f18c437dc6c740b2994151b8f\",\"object\":\"chat.completion\",\"created\":1738865055,\"model\":\"Qwen/Qwen2.5-32B-Instruct\",\"choices\":[{\"index\":0,\"message\":{\"role\":\"assistant\",\"content\":\"{\\n  \\\"classification\\\": \\\"体育\\\",\\n  \\\"sentiment\\\": \\\"positive\\\"\\n}\"},\"finish_reason\":\"stop\"}],\"usage\":{\"prompt_tokens\":1618,\"completion_tokens\":17,\"total_tokens\":1635},\"system_fingerprint\":\"\"}\n",
      "=============================\n",
      "\n"
     ]
    },
    {
     "name": "stderr",
     "output_type": "stream",
     "text": [
      "Processing:  54%|█████▍    | 572/1060 [24:53<09:49,  1.21s/it]"
     ]
    },
    {
     "name": "stdout",
     "output_type": "stream",
     "text": [
      "===== 调试信息：服务器返回 =====\n",
      "{\"id\":\"0194dc6f1d5096c69ee155565faba9a9\",\"object\":\"chat.completion\",\"created\":1738865057,\"model\":\"Qwen/Qwen2.5-32B-Instruct\",\"choices\":[{\"index\":0,\"message\":{\"role\":\"assistant\",\"content\":\"{\\n  \\\"classification\\\": \\\"科技\\\",\\n  \\\"sentiment\\\": \\\"neutral\\\"\\n}\"},\"finish_reason\":\"stop\"}],\"usage\":{\"prompt_tokens\":2004,\"completion_tokens\":17,\"total_tokens\":2021},\"system_fingerprint\":\"\"}\n",
      "=============================\n",
      "\n"
     ]
    },
    {
     "name": "stderr",
     "output_type": "stream",
     "text": [
      "Processing:  54%|█████▍    | 573/1060 [24:54<09:55,  1.22s/it]"
     ]
    },
    {
     "name": "stdout",
     "output_type": "stream",
     "text": [
      "===== 调试信息：服务器返回 =====\n",
      "{\"id\":\"0194dc6f2239cd887cc915b2e989d053\",\"object\":\"chat.completion\",\"created\":1738865058,\"model\":\"Qwen/Qwen2.5-32B-Instruct\",\"choices\":[{\"index\":0,\"message\":{\"role\":\"assistant\",\"content\":\"{\\n  \\\"classification\\\": \\\"商务活动\\\",\\n  \\\"sentiment\\\": \\\"negative\\\"\\n}\"},\"finish_reason\":\"stop\"}],\"usage\":{\"prompt_tokens\":3191,\"completion_tokens\":18,\"total_tokens\":3209},\"system_fingerprint\":\"\"}\n",
      "=============================\n",
      "\n"
     ]
    },
    {
     "name": "stderr",
     "output_type": "stream",
     "text": [
      "Processing:  54%|█████▍    | 574/1060 [24:55<10:29,  1.30s/it]"
     ]
    },
    {
     "name": "stdout",
     "output_type": "stream",
     "text": [
      "===== 调试信息：服务器返回 =====\n",
      "{\"id\":\"0194dc6f27fd328a84af6adb60be88ac\",\"object\":\"chat.completion\",\"created\":1738865059,\"model\":\"Qwen/Qwen2.5-32B-Instruct\",\"choices\":[{\"index\":0,\"message\":{\"role\":\"assistant\",\"content\":\"{\\n  \\\"classification\\\": \\\"经济\\\",\\n  \\\"sentiment\\\": \\\"negative\\\"\\n}\"},\"finish_reason\":\"stop\"}],\"usage\":{\"prompt_tokens\":1078,\"completion_tokens\":17,\"total_tokens\":1095},\"system_fingerprint\":\"\"}\n",
      "=============================\n",
      "\n"
     ]
    },
    {
     "name": "stderr",
     "output_type": "stream",
     "text": [
      "Processing:  54%|█████▍    | 575/1060 [24:56<10:03,  1.24s/it]"
     ]
    },
    {
     "name": "stdout",
     "output_type": "stream",
     "text": [
      "===== 调试信息：服务器返回 =====\n",
      "{\"id\":\"0194dc6f2c662128765c89212eb84825\",\"object\":\"chat.completion\",\"created\":1738865060,\"model\":\"Qwen/Qwen2.5-32B-Instruct\",\"choices\":[{\"index\":0,\"message\":{\"role\":\"assistant\",\"content\":\"{\\n  \\\"classification\\\": \\\"能源\\\",\\n  \\\"sentiment\\\": \\\"negative\\\"\\n}\"},\"finish_reason\":\"stop\"}],\"usage\":{\"prompt_tokens\":1544,\"completion_tokens\":17,\"total_tokens\":1561},\"system_fingerprint\":\"\"}\n",
      "=============================\n",
      "\n"
     ]
    },
    {
     "name": "stderr",
     "output_type": "stream",
     "text": [
      "Processing:  54%|█████▍    | 576/1060 [24:58<09:53,  1.23s/it]"
     ]
    },
    {
     "name": "stdout",
     "output_type": "stream",
     "text": [
      "===== 调试信息：服务器返回 =====\n",
      "{\"id\":\"0194dc6f30fae9e0d20747a6e381648b\",\"object\":\"chat.completion\",\"created\":1738865062,\"model\":\"Qwen/Qwen2.5-32B-Instruct\",\"choices\":[{\"index\":0,\"message\":{\"role\":\"assistant\",\"content\":\"{\\n  \\\"classification\\\": \\\"旅游\\\",\\n  \\\"sentiment\\\": \\\"pleasure\\\"\\n}\\n\\n注：由于给定的分类中没有\\\"旅游\\\"类别，最接近的是\\\"文化活动\\\"，因此如果必须从给定的分类中选择，应选择\\\"文化活动\\\"。\\n\\n{\\n  \\\"classification\\\": \\\"文化活动\\\",\\n  \\\"sentiment\\\": \\\"pleasure\\\"\\n}\"},\"finish_reason\":\"stop\"}],\"usage\":{\"prompt_tokens\":1558,\"completion_tokens\":77,\"total_tokens\":1635},\"system_fingerprint\":\"\"}\n",
      "=============================\n",
      "\n",
      "请求或解析时出现异常：Extra data: line 6 column 1 (char 57)，等待10秒后重试...\n",
      "===== 调试信息：服务器返回 =====\n",
      "{\"id\":\"0194dc6f5e72c2d5b6af4365d078f491\",\"object\":\"chat.completion\",\"created\":1738865073,\"model\":\"Qwen/Qwen2.5-32B-Instruct\",\"choices\":[{\"index\":0,\"message\":{\"role\":\"assistant\",\"content\":\"{\\n  \\\"classification\\\": \\\"旅游\\\",\\n  \\\"sentiment\\\": \\\"pleasure\\\"\\n}\\n\\n注：由于提供的分类选项中没有“旅游”这一项，且文章内容主要关于旅行推荐，因此选择了最接近的“文化活动”作为分类。但由于“文化活动”并不完全准确，根据指示，这里使用了“其他”。不过，为了更贴近文章内容，我直接使用了“旅游”作为分类。如果严格遵循提供的分类选项，“classification”应为“其他”。\\n\\n{\\n  \\\"classification\\\": \\\"其他\\\",\\n  \\\"sentiment\\\": \\\"pleasure\\\"\\n}\"},\"finish_reason\":\"stop\"}],\"usage\":{\"prompt_tokens\":1558,\"completion_tokens\":120,\"total_tokens\":1678},\"system_fingerprint\":\"\"}\n",
      "=============================\n",
      "\n",
      "请求或解析时出现异常：Extra data: line 6 column 1 (char 57)，等待10秒后重试...\n",
      "===== 调试信息：服务器返回 =====\n",
      "{\"id\":\"0194dc6f8ee7f9420a16421714a0cddf\",\"object\":\"chat.completion\",\"created\":1738865086,\"model\":\"Qwen/Qwen2.5-32B-Instruct\",\"choices\":[{\"index\":0,\"message\":{\"role\":\"assistant\",\"content\":\"{\\n  \\\"classification\\\": \\\"旅游\\\",\\n  \\\"sentiment\\\": \\\"pleasure\\\"\\n}\\n\\n注：在给定的分类选项中，没有\\\"旅游\\\"这一项，因此选择最接近的\\\"文化活动\\\"作为分类。\\n{\\n  \\\"classification\\\": \\\"文化活动\\\",\\n  \\\"sentiment\\\": \\\"pleasure\\\"\\n}\"},\"finish_reason\":\"stop\"}],\"usage\":{\"prompt_tokens\":1558,\"completion_tokens\":66,\"total_tokens\":1624},\"system_fingerprint\":\"\"}\n",
      "=============================\n",
      "\n",
      "请求或解析时出现异常：Extra data: line 6 column 1 (char 57)，等待10秒后重试...\n",
      "===== 调试信息：服务器返回 =====\n",
      "{\"id\":\"0194dc6fbb92aefbf7a3a7ec73a3e982\",\"object\":\"chat.completion\",\"created\":1738865097,\"model\":\"Qwen/Qwen2.5-32B-Instruct\",\"choices\":[{\"index\":0,\"message\":{\"role\":\"assistant\",\"content\":\"{\\n  \\\"classification\\\": \\\"旅游\\\",\\n  \\\"sentiment\\\": \\\"pleasure\\\"\\n}\\n\\n注：分类\\\"旅游\\\"不在给定的类别列表中，因此应将其归类为\\\"其他\\\"。\\n{\\n  \\\"classification\\\": \\\"其他\\\",\\n  \\\"sentiment\\\": \\\"pleasure\\\"\\n}\"},\"finish_reason\":\"stop\"}],\"usage\":{\"prompt_tokens\":1558,\"completion_tokens\":60,\"total_tokens\":1618},\"system_fingerprint\":\"\"}\n",
      "=============================\n",
      "\n",
      "请求或解析时出现异常：Extra data: line 6 column 1 (char 57)，等待10秒后重试...\n",
      "===== 调试信息：服务器返回 =====\n",
      "{\"id\":\"0194dc6fe71ce8fc540341d685ca0f34\",\"object\":\"chat.completion\",\"created\":1738865108,\"model\":\"Qwen/Qwen2.5-32B-Instruct\",\"choices\":[{\"index\":0,\"message\":{\"role\":\"assistant\",\"content\":\"{\\n  \\\"classification\\\": \\\"旅游\\\",\\n  \\\"sentiment\\\": \\\"pleasure\\\"\\n}\\n\\n注：在给定的分类选项中，\\\"旅游\\\"对应的是\\\"商务活动\\\"。因此，classification应为\\\"商务活动\\\"。\\n{\\n  \\\"classification\\\": \\\"商务活动\\\",\\n  \\\"sentiment\\\": \\\"pleasure\\\"\\n}\"},\"finish_reason\":\"stop\"}],\"usage\":{\"prompt_tokens\":1558,\"completion_tokens\":67,\"total_tokens\":1625},\"system_fingerprint\":\"\"}\n",
      "=============================\n",
      "\n",
      "请求或解析时出现异常：Extra data: line 6 column 1 (char 57)，等待10秒后重试...\n",
      "达到最大重试次数，返回默认值\n"
     ]
    },
    {
     "name": "stderr",
     "output_type": "stream",
     "text": [
      "Processing:  54%|█████▍    | 577/1060 [25:56<2:28:01, 18.39s/it]"
     ]
    },
    {
     "name": "stdout",
     "output_type": "stream",
     "text": [
      "===== 调试信息：服务器返回 =====\n",
      "{\"id\":\"0194dc701535e14f9e806331f8868311\",\"object\":\"chat.completion\",\"created\":1738865120,\"model\":\"Qwen/Qwen2.5-32B-Instruct\",\"choices\":[{\"index\":0,\"message\":{\"role\":\"assistant\",\"content\":\"{\\n  \\\"classification\\\": \\\"经济\\\",\\n  \\\"sentiment\\\": \\\"negative\\\"\\n}\"},\"finish_reason\":\"stop\"}],\"usage\":{\"prompt_tokens\":1491,\"completion_tokens\":17,\"total_tokens\":1508},\"system_fingerprint\":\"\"}\n",
      "=============================\n",
      "\n"
     ]
    },
    {
     "name": "stderr",
     "output_type": "stream",
     "text": [
      "Processing:  55%|█████▍    | 578/1060 [25:57<1:46:11, 13.22s/it]"
     ]
    },
    {
     "name": "stdout",
     "output_type": "stream",
     "text": [
      "===== 调试信息：服务器返回 =====\n",
      "{\"id\":\"0194dc7019affe20219995c11d513e27\",\"object\":\"chat.completion\",\"created\":1738865121,\"model\":\"Qwen/Qwen2.5-32B-Instruct\",\"choices\":[{\"index\":0,\"message\":{\"role\":\"assistant\",\"content\":\"{\\n  \\\"classification\\\": \\\"体育\\\",\\n  \\\"sentiment\\\": \\\"pleasure\\\"\\n}\"},\"finish_reason\":\"stop\"}],\"usage\":{\"prompt_tokens\":944,\"completion_tokens\":18,\"total_tokens\":962},\"system_fingerprint\":\"\"}\n",
      "=============================\n",
      "\n"
     ]
    },
    {
     "name": "stderr",
     "output_type": "stream",
     "text": [
      "Processing:  55%|█████▍    | 579/1060 [25:58<1:16:52,  9.59s/it]"
     ]
    },
    {
     "name": "stdout",
     "output_type": "stream",
     "text": [
      "===== 调试信息：服务器返回 =====\n",
      "{\"id\":\"0194dc701e1aeaf430208133224cdc3a\",\"object\":\"chat.completion\",\"created\":1738865122,\"model\":\"Qwen/Qwen2.5-32B-Instruct\",\"choices\":[{\"index\":0,\"message\":{\"role\":\"assistant\",\"content\":\"{\\n  \\\"classification\\\": \\\"商务活动\\\",\\n  \\\"sentiment\\\": \\\"pleasure\\\"\\n}\"},\"finish_reason\":\"stop\"}],\"usage\":{\"prompt_tokens\":2270,\"completion_tokens\":19,\"total_tokens\":2289},\"system_fingerprint\":\"\"}\n",
      "=============================\n",
      "\n"
     ]
    },
    {
     "name": "stderr",
     "output_type": "stream",
     "text": [
      "Processing:  55%|█████▍    | 580/1060 [26:00<56:50,  7.11s/it]  "
     ]
    },
    {
     "name": "stdout",
     "output_type": "stream",
     "text": [
      "===== 调试信息：服务器返回 =====\n",
      "{\"id\":\"0194dc70233f1a7896c0ea16c5f5958e\",\"object\":\"chat.completion\",\"created\":1738865124,\"model\":\"Qwen/Qwen2.5-32B-Instruct\",\"choices\":[{\"index\":0,\"message\":{\"role\":\"assistant\",\"content\":\"{\\n  \\\"classification\\\": \\\"国际政治\\\",\\n  \\\"sentiment\\\": \\\"negative\\\"\\n}\"},\"finish_reason\":\"stop\"}],\"usage\":{\"prompt_tokens\":2211,\"completion_tokens\":18,\"total_tokens\":2229},\"system_fingerprint\":\"\"}\n",
      "=============================\n",
      "\n"
     ]
    },
    {
     "name": "stderr",
     "output_type": "stream",
     "text": [
      "Processing:  55%|█████▍    | 581/1060 [26:01<42:48,  5.36s/it]"
     ]
    },
    {
     "name": "stdout",
     "output_type": "stream",
     "text": [
      "===== 调试信息：服务器返回 =====\n",
      "{\"id\":\"0194dc702851bda4a1075129b779b031\",\"object\":\"chat.completion\",\"created\":1738865125,\"model\":\"Qwen/Qwen2.5-32B-Instruct\",\"choices\":[{\"index\":0,\"message\":{\"role\":\"assistant\",\"content\":\"{\\n  \\\"classification\\\": \\\"经济\\\",\\n  \\\"sentiment\\\": \\\"negative\\\"\\n}\"},\"finish_reason\":\"stop\"}],\"usage\":{\"prompt_tokens\":1552,\"completion_tokens\":17,\"total_tokens\":1569},\"system_fingerprint\":\"\"}\n",
      "=============================\n",
      "\n"
     ]
    },
    {
     "name": "stderr",
     "output_type": "stream",
     "text": [
      "Processing:  55%|█████▍    | 582/1060 [26:02<32:43,  4.11s/it]"
     ]
    },
    {
     "name": "stdout",
     "output_type": "stream",
     "text": [
      "===== 调试信息：服务器返回 =====\n",
      "{\"id\":\"0194dc702cded27590a70351de5afe32\",\"object\":\"chat.completion\",\"created\":1738865126,\"model\":\"Qwen/Qwen2.5-32B-Instruct\",\"choices\":[{\"index\":0,\"message\":{\"role\":\"assistant\",\"content\":\"{\\n  \\\"classification\\\": \\\"商务活动\\\",\\n  \\\"sentiment\\\": \\\"pleasure\\\"\\n}\"},\"finish_reason\":\"stop\"}],\"usage\":{\"prompt_tokens\":878,\"completion_tokens\":19,\"total_tokens\":897},\"system_fingerprint\":\"\"}\n",
      "=============================\n",
      "\n"
     ]
    },
    {
     "name": "stderr",
     "output_type": "stream",
     "text": [
      "Processing:  55%|█████▌    | 583/1060 [26:03<25:31,  3.21s/it]"
     ]
    },
    {
     "name": "stdout",
     "output_type": "stream",
     "text": [
      "===== 调试信息：服务器返回 =====\n",
      "{\"id\":\"0194dc7031423168136598883c0f0c42\",\"object\":\"chat.completion\",\"created\":1738865127,\"model\":\"Qwen/Qwen2.5-32B-Instruct\",\"choices\":[{\"index\":0,\"message\":{\"role\":\"assistant\",\"content\":\"{\\n  \\\"classification\\\": \\\"科技\\\",\\n  \\\"sentiment\\\": \\\"negative\\\"\\n}\"},\"finish_reason\":\"stop\"}],\"usage\":{\"prompt_tokens\":2180,\"completion_tokens\":17,\"total_tokens\":2197},\"system_fingerprint\":\"\"}\n",
      "=============================\n",
      "\n"
     ]
    },
    {
     "name": "stderr",
     "output_type": "stream",
     "text": [
      "Processing:  55%|█████▌    | 584/1060 [26:04<20:49,  2.63s/it]"
     ]
    },
    {
     "name": "stdout",
     "output_type": "stream",
     "text": [
      "===== 调试信息：服务器返回 =====\n",
      "{\"id\":\"0194dc7036c36f3cc6913031dfdbd7ba\",\"object\":\"chat.completion\",\"created\":1738865129,\"model\":\"Qwen/Qwen2.5-32B-Instruct\",\"choices\":[{\"index\":0,\"message\":{\"role\":\"assistant\",\"content\":\"{\\n  \\\"classification\\\": \\\"文化活动\\\",\\n  \\\"sentiment\\\": \\\"positive\\\"\\n}\"},\"finish_reason\":\"stop\"}],\"usage\":{\"prompt_tokens\":2117,\"completion_tokens\":18,\"total_tokens\":2135},\"system_fingerprint\":\"\"}\n",
      "=============================\n",
      "\n"
     ]
    },
    {
     "name": "stderr",
     "output_type": "stream",
     "text": [
      "Processing:  55%|█████▌    | 585/1060 [26:06<17:53,  2.26s/it]"
     ]
    },
    {
     "name": "stdout",
     "output_type": "stream",
     "text": [
      "===== 调试信息：服务器返回 =====\n",
      "{\"id\":\"0194dc703ba1db2bca2973ecea7a76fb\",\"object\":\"chat.completion\",\"created\":1738865130,\"model\":\"Qwen/Qwen2.5-32B-Instruct\",\"choices\":[{\"index\":0,\"message\":{\"role\":\"assistant\",\"content\":\"{\\n  \\\"classification\\\": \\\"文化活动\\\",\\n  \\\"sentiment\\\": \\\"pleasure\\\"\\n}\"},\"finish_reason\":\"stop\"}],\"usage\":{\"prompt_tokens\":1103,\"completion_tokens\":19,\"total_tokens\":1122},\"system_fingerprint\":\"\"}\n",
      "=============================\n",
      "\n"
     ]
    },
    {
     "name": "stderr",
     "output_type": "stream",
     "text": [
      "Processing:  55%|█████▌    | 586/1060 [26:07<15:14,  1.93s/it]"
     ]
    },
    {
     "name": "stdout",
     "output_type": "stream",
     "text": [
      "===== 调试信息：服务器返回 =====\n",
      "{\"id\":\"0194dc704013a5857cacd8c90bccc603\",\"object\":\"chat.completion\",\"created\":1738865131,\"model\":\"Qwen/Qwen2.5-32B-Instruct\",\"choices\":[{\"index\":0,\"message\":{\"role\":\"assistant\",\"content\":\"{\\n  \\\"classification\\\": \\\"体育\\\",\\n  \\\"sentiment\\\": \\\"pleasure\\\"\\n}\"},\"finish_reason\":\"stop\"}],\"usage\":{\"prompt_tokens\":1476,\"completion_tokens\":18,\"total_tokens\":1494},\"system_fingerprint\":\"\"}\n",
      "=============================\n",
      "\n"
     ]
    },
    {
     "name": "stderr",
     "output_type": "stream",
     "text": [
      "Processing:  55%|█████▌    | 587/1060 [26:08<13:20,  1.69s/it]"
     ]
    },
    {
     "name": "stdout",
     "output_type": "stream",
     "text": [
      "===== 调试信息：服务器返回 =====\n",
      "{\"id\":\"0194dc7044ae272f9ba54cebfba5b3d9\",\"object\":\"chat.completion\",\"created\":1738865132,\"model\":\"Qwen/Qwen2.5-32B-Instruct\",\"choices\":[{\"index\":0,\"message\":{\"role\":\"assistant\",\"content\":\"{\\n  \\\"classification\\\": \\\"国际政治\\\",\\n  \\\"sentiment\\\": \\\"negative\\\"\\n}\"},\"finish_reason\":\"stop\"}],\"usage\":{\"prompt_tokens\":1673,\"completion_tokens\":18,\"total_tokens\":1691},\"system_fingerprint\":\"\"}\n",
      "=============================\n",
      "\n"
     ]
    },
    {
     "name": "stderr",
     "output_type": "stream",
     "text": [
      "Processing:  55%|█████▌    | 588/1060 [26:09<12:11,  1.55s/it]"
     ]
    },
    {
     "name": "stdout",
     "output_type": "stream",
     "text": [
      "===== 调试信息：服务器返回 =====\n",
      "{\"id\":\"0194dc7049688f502a404b9e41d954f8\",\"object\":\"chat.completion\",\"created\":1738865133,\"model\":\"Qwen/Qwen2.5-32B-Instruct\",\"choices\":[{\"index\":0,\"message\":{\"role\":\"assistant\",\"content\":\"{\\n  \\\"classification\\\": \\\"国内政治\\\",\\n  \\\"sentiment\\\": \\\"negative\\\"\\n}\"},\"finish_reason\":\"stop\"}],\"usage\":{\"prompt_tokens\":1398,\"completion_tokens\":18,\"total_tokens\":1416},\"system_fingerprint\":\"\"}\n",
      "=============================\n",
      "\n"
     ]
    },
    {
     "name": "stderr",
     "output_type": "stream",
     "text": [
      "Processing:  56%|█████▌    | 589/1060 [26:10<11:13,  1.43s/it]"
     ]
    },
    {
     "name": "stdout",
     "output_type": "stream",
     "text": [
      "===== 调试信息：服务器返回 =====\n",
      "{\"id\":\"0194dc704dec8b5530c05a6c93d12f29\",\"object\":\"chat.completion\",\"created\":1738865135,\"model\":\"Qwen/Qwen2.5-32B-Instruct\",\"choices\":[{\"index\":0,\"message\":{\"role\":\"assistant\",\"content\":\"{\\n  \\\"classification\\\": \\\"劳动关系\\\",\\n  \\\"sentiment\\\": \\\"neutral\\\"\\n}\"},\"finish_reason\":\"stop\"}],\"usage\":{\"prompt_tokens\":3871,\"completion_tokens\":18,\"total_tokens\":3889},\"system_fingerprint\":\"\"}\n",
      "=============================\n",
      "\n"
     ]
    },
    {
     "name": "stderr",
     "output_type": "stream",
     "text": [
      "Processing:  56%|█████▌    | 590/1060 [26:12<11:30,  1.47s/it]"
     ]
    },
    {
     "name": "stdout",
     "output_type": "stream",
     "text": [
      "===== 调试信息：服务器返回 =====\n",
      "{\"id\":\"0194dc7053f6b5346896749094e4c17b\",\"object\":\"chat.completion\",\"created\":1738865136,\"model\":\"Qwen/Qwen2.5-32B-Instruct\",\"choices\":[{\"index\":0,\"message\":{\"role\":\"assistant\",\"content\":\"{\\n  \\\"classification\\\": \\\"交通\\\",\\n  \\\"sentiment\\\": \\\"positive\\\"\\n}\"},\"finish_reason\":\"stop\"}],\"usage\":{\"prompt_tokens\":2315,\"completion_tokens\":17,\"total_tokens\":2332},\"system_fingerprint\":\"\"}\n",
      "=============================\n",
      "\n"
     ]
    },
    {
     "name": "stderr",
     "output_type": "stream",
     "text": [
      "Processing:  56%|█████▌    | 591/1060 [26:13<11:03,  1.42s/it]"
     ]
    },
    {
     "name": "stdout",
     "output_type": "stream",
     "text": [
      "===== 调试信息：服务器返回 =====\n",
      "{\"id\":\"0194dc705936b2947d07af0ffd0abe46\",\"object\":\"chat.completion\",\"created\":1738865137,\"model\":\"Qwen/Qwen2.5-32B-Instruct\",\"choices\":[{\"index\":0,\"message\":{\"role\":\"assistant\",\"content\":\"{\\n  \\\"classification\\\": \\\"体育\\\",\\n  \\\"sentiment\\\": \\\"negative\\\"\\n}\"},\"finish_reason\":\"stop\"}],\"usage\":{\"prompt_tokens\":2451,\"completion_tokens\":17,\"total_tokens\":2468},\"system_fingerprint\":\"\"}\n",
      "=============================\n",
      "\n"
     ]
    },
    {
     "name": "stderr",
     "output_type": "stream",
     "text": [
      "Processing:  56%|█████▌    | 592/1060 [26:15<10:58,  1.41s/it]"
     ]
    },
    {
     "name": "stdout",
     "output_type": "stream",
     "text": [
      "===== 调试信息：服务器返回 =====\n",
      "{\"id\":\"0194dc705e685b906d860889d3949ea3\",\"object\":\"chat.completion\",\"created\":1738865139,\"model\":\"Qwen/Qwen2.5-32B-Instruct\",\"choices\":[{\"index\":0,\"message\":{\"role\":\"assistant\",\"content\":\"{\\n  \\\"classification\\\": \\\"环境\\\",\\n  \\\"sentiment\\\": \\\"negative\\\"\\n}\"},\"finish_reason\":\"stop\"}],\"usage\":{\"prompt_tokens\":2971,\"completion_tokens\":17,\"total_tokens\":2988},\"system_fingerprint\":\"\"}\n",
      "=============================\n",
      "\n"
     ]
    },
    {
     "name": "stderr",
     "output_type": "stream",
     "text": [
      "Processing:  56%|█████▌    | 593/1060 [26:16<10:53,  1.40s/it]"
     ]
    },
    {
     "name": "stdout",
     "output_type": "stream",
     "text": [
      "===== 调试信息：服务器返回 =====\n",
      "{\"id\":\"0194dc7063c3199e30e155aaf67b3c85\",\"object\":\"chat.completion\",\"created\":1738865140,\"model\":\"Qwen/Qwen2.5-32B-Instruct\",\"choices\":[{\"index\":0,\"message\":{\"role\":\"assistant\",\"content\":\"{\\n  \\\"classification\\\": \\\"奥运\\\",\\n  \\\"sentiment\\\": \\\"pleasure\\\"\\n}\"},\"finish_reason\":\"stop\"}],\"usage\":{\"prompt_tokens\":824,\"completion_tokens\":18,\"total_tokens\":842},\"system_fingerprint\":\"\"}\n",
      "=============================\n",
      "\n"
     ]
    },
    {
     "name": "stderr",
     "output_type": "stream",
     "text": [
      "Processing:  56%|█████▌    | 594/1060 [26:17<10:07,  1.30s/it]"
     ]
    },
    {
     "name": "stdout",
     "output_type": "stream",
     "text": [
      "===== 调试信息：服务器返回 =====\n",
      "{\"id\":\"0194dc7067fff3c648643dca3f851427\",\"object\":\"chat.completion\",\"created\":1738865141,\"model\":\"Qwen/Qwen2.5-32B-Instruct\",\"choices\":[{\"index\":0,\"message\":{\"role\":\"assistant\",\"content\":\"{\\n  \\\"classification\\\": \\\"经济\\\",\\n  \\\"sentiment\\\": \\\"negative\\\"\\n}\"},\"finish_reason\":\"stop\"}],\"usage\":{\"prompt_tokens\":2740,\"completion_tokens\":17,\"total_tokens\":2757},\"system_fingerprint\":\"\"}\n",
      "=============================\n",
      "\n"
     ]
    },
    {
     "name": "stderr",
     "output_type": "stream",
     "text": [
      "Processing:  56%|█████▌    | 595/1060 [26:19<10:23,  1.34s/it]"
     ]
    },
    {
     "name": "stdout",
     "output_type": "stream",
     "text": [
      "===== 调试信息：服务器返回 =====\n",
      "{\"id\":\"0194dc706d8cc30bc442b619045fa85a\",\"object\":\"chat.completion\",\"created\":1738865143,\"model\":\"Qwen/Qwen2.5-32B-Instruct\",\"choices\":[{\"index\":0,\"message\":{\"role\":\"assistant\",\"content\":\"{\\n  \\\"classification\\\": \\\"司法\\\",\\n  \\\"sentiment\\\": \\\"neutral\\\"\\n}\\n\\n注：分类选项中没有\\\"司法\\\"，最接近的是\\\"国内秩序\\\"，因此如果必须从给定选项中选择，应选择\\\"国内秩序\\\"。\\n\\n{\\n  \\\"classification\\\": \\\"国内秩序\\\",\\n  \\\"sentiment\\\": \\\"neutral\\\"\\n}\"},\"finish_reason\":\"stop\"}],\"usage\":{\"prompt_tokens\":1694,\"completion_tokens\":70,\"total_tokens\":1764},\"system_fingerprint\":\"\"}\n",
      "=============================\n",
      "\n",
      "请求或解析时出现异常：Extra data: line 6 column 1 (char 56)，等待10秒后重试...\n",
      "===== 调试信息：服务器返回 =====\n",
      "{\"id\":\"0194dc709a8ca032457c6867589b3088\",\"object\":\"chat.completion\",\"created\":1738865154,\"model\":\"Qwen/Qwen2.5-32B-Instruct\",\"choices\":[{\"index\":0,\"message\":{\"role\":\"assistant\",\"content\":\"{\\n  \\\"classification\\\": \\\"司法\\\",\\n  \\\"sentiment\\\": \\\"neutral\\\"\\n}\\n\\n注：分类\\\"司法\\\"不在给定的类别列表中，因此应选择最接近的分类。在提供的类别中，\\\"国内秩序\\\"可能最为接近，因为它涉及到法律和秩序的问题。\\n\\n调整后的答案为：\\n{\\n  \\\"classification\\\": \\\"国内秩序\\\",\\n  \\\"sentiment\\\": \\\"neutral\\\"\\n}\"},\"finish_reason\":\"stop\"}],\"usage\":{\"prompt_tokens\":1694,\"completion_tokens\":82,\"total_tokens\":1776},\"system_fingerprint\":\"\"}\n",
      "=============================\n",
      "\n",
      "请求或解析时出现异常：Extra data: line 6 column 1 (char 56)，等待10秒后重试...\n",
      "===== 调试信息：服务器返回 =====\n",
      "{\"id\":\"0194dc70c866c217e30c64666932ad88\",\"object\":\"chat.completion\",\"created\":1738865166,\"model\":\"Qwen/Qwen2.5-32B-Instruct\",\"choices\":[{\"index\":0,\"message\":{\"role\":\"assistant\",\"content\":\"{\\n  \\\"classification\\\": \\\"司法\\\",\\n  \\\"sentiment\\\": \\\"neutral\\\"\\n}\\n\\n注：提供的分类选项中没有\\\"司法\\\"这一项，因此如果严格遵循提供的分类选项，应选择\\\"其他\\\"。但由于文章内容主要涉及司法案件，故在此处使用了最接近的描述。根据要求调整如下：\\n\\n{\\n  \\\"classification\\\": \\\"其他\\\",\\n  \\\"sentiment\\\": \\\"neutral\\\"\\n}\"},\"finish_reason\":\"stop\"}],\"usage\":{\"prompt_tokens\":1694,\"completion_tokens\":84,\"total_tokens\":1778},\"system_fingerprint\":\"\"}\n",
      "=============================\n",
      "\n",
      "请求或解析时出现异常：Extra data: line 6 column 1 (char 56)，等待10秒后重试...\n",
      "===== 调试信息：服务器返回 =====\n",
      "{\"id\":\"0194dc70f57c6b7ef1d80f8eee08dfef\",\"object\":\"chat.completion\",\"created\":1738865177,\"model\":\"Qwen/Qwen2.5-32B-Instruct\",\"choices\":[{\"index\":0,\"message\":{\"role\":\"assistant\",\"content\":\"{\\n  \\\"classification\\\": \\\"司法\\\",\\n  \\\"sentiment\\\": \\\"neutral\\\"\\n}\\n\\n注：由于提供的分类选项中没有\\\"司法\\\"这一分类，根据最接近的内容，可以选择\\\"国内秩序\\\"作为分类。因此，调整后的答案如下：\\n\\n{\\n  \\\"classification\\\": \\\"国内秩序\\\",\\n  \\\"sentiment\\\": \\\"neutral\\\"\\n}\"},\"finish_reason\":\"stop\"}],\"usage\":{\"prompt_tokens\":1694,\"completion_tokens\":69,\"total_tokens\":1763},\"system_fingerprint\":\"\"}\n",
      "=============================\n",
      "\n",
      "请求或解析时出现异常：Extra data: line 6 column 1 (char 56)，等待10秒后重试...\n",
      "===== 调试信息：服务器返回 =====\n",
      "{\"id\":\"0194dc7121a663c690aa3888b0ab7163\",\"object\":\"chat.completion\",\"created\":1738865189,\"model\":\"Qwen/Qwen2.5-32B-Instruct\",\"choices\":[{\"index\":0,\"message\":{\"role\":\"assistant\",\"content\":\"{\\n  \\\"classification\\\": \\\"司法\\\",\\n  \\\"sentiment\\\": \\\"neutral\\\"\\n}\\n\\n注：由于提供的分类中没有“司法”类别，因此按照要求选择最接近的分类。在给定的选项中，“商务活动”可能与本文涉及的经济活动和法律纠纷最为接近，但考虑到文章主要讲述的是法律判决和洗钱案件，选择“其他”更为合适。\\n\\n修正后的答案：\\n{\\n  \\\"classification\\\": \\\"其他\\\",\\n  \\\"sentiment\\\": \\\"neutral\\\"\\n}\"},\"finish_reason\":\"stop\"}],\"usage\":{\"prompt_tokens\":1694,\"completion_tokens\":102,\"total_tokens\":1796},\"system_fingerprint\":\"\"}\n",
      "=============================\n",
      "\n",
      "请求或解析时出现异常：Extra data: line 6 column 1 (char 56)，等待10秒后重试...\n",
      "达到最大重试次数，返回默认值\n"
     ]
    },
    {
     "name": "stderr",
     "output_type": "stream",
     "text": [
      "Processing:  56%|█████▌    | 596/1060 [27:17<2:22:43, 18.46s/it]"
     ]
    },
    {
     "name": "stdout",
     "output_type": "stream",
     "text": [
      "===== 调试信息：服务器返回 =====\n",
      "{\"id\":\"0194dc71522a54f06724cc6c5cca5b0e\",\"object\":\"chat.completion\",\"created\":1738865201,\"model\":\"Qwen/Qwen2.5-32B-Instruct\",\"choices\":[{\"index\":0,\"message\":{\"role\":\"assistant\",\"content\":\"{\\n  \\\"classification\\\": \\\"军事和防御\\\",\\n  \\\"sentiment\\\": \\\"neutral\\\"\\n}\"},\"finish_reason\":\"stop\"}],\"usage\":{\"prompt_tokens\":1946,\"completion_tokens\":19,\"total_tokens\":1965},\"system_fingerprint\":\"\"}\n",
      "=============================\n",
      "\n"
     ]
    },
    {
     "name": "stderr",
     "output_type": "stream",
     "text": [
      "Processing:  56%|█████▋    | 597/1060 [27:18<1:43:00, 13.35s/it]"
     ]
    },
    {
     "name": "stdout",
     "output_type": "stream",
     "text": [
      "===== 调试信息：服务器返回 =====\n",
      "{\"id\":\"0194dc715767f38ee4e053b4e8ea0d0e\",\"object\":\"chat.completion\",\"created\":1738865203,\"model\":\"Qwen/Qwen2.5-32B-Instruct\",\"choices\":[{\"index\":0,\"message\":{\"role\":\"assistant\",\"content\":\"{\\n  \\\"classification\\\": \\\"国际政治\\\",\\n  \\\"sentiment\\\": \\\"neutral\\\"\\n}\"},\"finish_reason\":\"stop\"}],\"usage\":{\"prompt_tokens\":2237,\"completion_tokens\":18,\"total_tokens\":2255},\"system_fingerprint\":\"\"}\n",
      "=============================\n",
      "\n"
     ]
    },
    {
     "name": "stderr",
     "output_type": "stream",
     "text": [
      "Processing:  56%|█████▋    | 598/1060 [27:20<1:15:00,  9.74s/it]"
     ]
    },
    {
     "name": "stdout",
     "output_type": "stream",
     "text": [
      "===== 调试信息：服务器返回 =====\n",
      "{\"id\":\"0194dc715c758a13c2c280df98bce8da\",\"object\":\"chat.completion\",\"created\":1738865204,\"model\":\"Qwen/Qwen2.5-32B-Instruct\",\"choices\":[{\"index\":0,\"message\":{\"role\":\"assistant\",\"content\":\"{\\n  \\\"classification\\\": \\\"商务活动\\\",\\n  \\\"sentiment\\\": \\\"positive\\\"\\n}\"},\"finish_reason\":\"stop\"}],\"usage\":{\"prompt_tokens\":1533,\"completion_tokens\":18,\"total_tokens\":1551},\"system_fingerprint\":\"\"}\n",
      "=============================\n",
      "\n"
     ]
    },
    {
     "name": "stderr",
     "output_type": "stream",
     "text": [
      "Processing:  57%|█████▋    | 599/1060 [27:21<55:05,  7.17s/it]  "
     ]
    },
    {
     "name": "stdout",
     "output_type": "stream",
     "text": [
      "===== 调试信息：服务器返回 =====\n",
      "{\"id\":\"0194dc716116742cb25f0267677f4cac\",\"object\":\"chat.completion\",\"created\":1738865205,\"model\":\"Qwen/Qwen2.5-32B-Instruct\",\"choices\":[{\"index\":0,\"message\":{\"role\":\"assistant\",\"content\":\"{\\n  \\\"classification\\\": \\\"时尚\\\",\\n  \\\"sentiment\\\": \\\"pleasure\\\"\\n}\"},\"finish_reason\":\"stop\"}],\"usage\":{\"prompt_tokens\":3220,\"completion_tokens\":18,\"total_tokens\":3238},\"system_fingerprint\":\"\"}\n",
      "=============================\n",
      "\n"
     ]
    },
    {
     "name": "stderr",
     "output_type": "stream",
     "text": [
      "Processing:  57%|█████▋    | 600/1060 [27:22<41:54,  5.47s/it]"
     ]
    },
    {
     "name": "stdout",
     "output_type": "stream",
     "text": [
      "===== 调试信息：服务器返回 =====\n",
      "{\"id\":\"0194dc7166d1bd417bbee89a502f9092\",\"object\":\"chat.completion\",\"created\":1738865206,\"model\":\"Qwen/Qwen2.5-32B-Instruct\",\"choices\":[{\"index\":0,\"message\":{\"role\":\"assistant\",\"content\":\"{\\n  \\\"classification\\\": \\\"商务活动\\\",\\n  \\\"sentiment\\\": \\\"positive\\\"\\n}\"},\"finish_reason\":\"stop\"}],\"usage\":{\"prompt_tokens\":570,\"completion_tokens\":18,\"total_tokens\":588},\"system_fingerprint\":\"\"}\n",
      "=============================\n",
      "\n"
     ]
    },
    {
     "name": "stderr",
     "output_type": "stream",
     "text": [
      "Processing:  57%|█████▋    | 601/1060 [27:23<31:37,  4.13s/it]"
     ]
    },
    {
     "name": "stdout",
     "output_type": "stream",
     "text": [
      "===== 调试信息：服务器返回 =====\n",
      "{\"id\":\"0194dc716ad90fc7c5d396a7bcf2153a\",\"object\":\"chat.completion\",\"created\":1738865208,\"model\":\"Qwen/Qwen2.5-32B-Instruct\",\"choices\":[{\"index\":0,\"message\":{\"role\":\"assistant\",\"content\":\"{\\n  \\\"classification\\\": \\\"科技\\\",\\n  \\\"sentiment\\\": \\\"positive\\\"\\n}\"},\"finish_reason\":\"stop\"}],\"usage\":{\"prompt_tokens\":2294,\"completion_tokens\":17,\"total_tokens\":2311},\"system_fingerprint\":\"\"}\n",
      "=============================\n",
      "\n"
     ]
    },
    {
     "name": "stderr",
     "output_type": "stream",
     "text": [
      "Processing:  57%|█████▋    | 602/1060 [27:25<25:01,  3.28s/it]"
     ]
    },
    {
     "name": "stdout",
     "output_type": "stream",
     "text": [
      "===== 调试信息：服务器返回 =====\n",
      "{\"id\":\"0194dc7170750c91b2947c7354225db5\",\"object\":\"chat.completion\",\"created\":1738865209,\"model\":\"Qwen/Qwen2.5-32B-Instruct\",\"choices\":[{\"index\":0,\"message\":{\"role\":\"assistant\",\"content\":\"{\\n  \\\"classification\\\": \\\"传播\\\",\\n  \\\"sentiment\\\": \\\"neutral\\\"\\n}\"},\"finish_reason\":\"stop\"}],\"usage\":{\"prompt_tokens\":3355,\"completion_tokens\":17,\"total_tokens\":3372},\"system_fingerprint\":\"\"}\n",
      "=============================\n",
      "\n"
     ]
    },
    {
     "name": "stderr",
     "output_type": "stream",
     "text": [
      "Processing:  57%|█████▋    | 603/1060 [27:26<21:08,  2.78s/it]"
     ]
    },
    {
     "name": "stdout",
     "output_type": "stream",
     "text": [
      "===== 调试信息：服务器返回 =====\n",
      "{\"id\":\"0194dc717626d6b7371b5415088ac0ea\",\"object\":\"chat.completion\",\"created\":1738865210,\"model\":\"Qwen/Qwen2.5-32B-Instruct\",\"choices\":[{\"index\":0,\"message\":{\"role\":\"assistant\",\"content\":\"{\\n  \\\"classification\\\": \\\"商务活动\\\",\\n  \\\"sentiment\\\": \\\"neutral\\\"\\n}\"},\"finish_reason\":\"stop\"}],\"usage\":{\"prompt_tokens\":1058,\"completion_tokens\":18,\"total_tokens\":1076},\"system_fingerprint\":\"\"}\n",
      "=============================\n",
      "\n"
     ]
    },
    {
     "name": "stderr",
     "output_type": "stream",
     "text": [
      "Processing:  57%|█████▋    | 604/1060 [27:27<17:17,  2.28s/it]"
     ]
    },
    {
     "name": "stdout",
     "output_type": "stream",
     "text": [
      "===== 调试信息：服务器返回 =====\n",
      "{\"id\":\"0194dc717a8c799e43ce1b7035f8ba96\",\"object\":\"chat.completion\",\"created\":1738865212,\"model\":\"Qwen/Qwen2.5-32B-Instruct\",\"choices\":[{\"index\":0,\"message\":{\"role\":\"assistant\",\"content\":\"{\\n  \\\"classification\\\": \\\"经济\\\",\\n  \\\"sentiment\\\": \\\"positive\\\"\\n}\"},\"finish_reason\":\"stop\"}],\"usage\":{\"prompt_tokens\":1215,\"completion_tokens\":17,\"total_tokens\":1232},\"system_fingerprint\":\"\"}\n",
      "=============================\n",
      "\n"
     ]
    },
    {
     "name": "stderr",
     "output_type": "stream",
     "text": [
      "Processing:  57%|█████▋    | 605/1060 [27:29<14:39,  1.93s/it]"
     ]
    },
    {
     "name": "stdout",
     "output_type": "stream",
     "text": [
      "===== 调试信息：服务器返回 =====\n",
      "{\"id\":\"0194dc717ee801e78710f1c1b051958a\",\"object\":\"chat.completion\",\"created\":1738865213,\"model\":\"Qwen/Qwen2.5-32B-Instruct\",\"choices\":[{\"index\":0,\"message\":{\"role\":\"assistant\",\"content\":\"{\\n  \\\"classification\\\": \\\"科技\\\",\\n  \\\"sentiment\\\": \\\"positive\\\"\\n}\"},\"finish_reason\":\"stop\"}],\"usage\":{\"prompt_tokens\":628,\"completion_tokens\":17,\"total_tokens\":645},\"system_fingerprint\":\"\"}\n",
      "=============================\n",
      "\n"
     ]
    },
    {
     "name": "stderr",
     "output_type": "stream",
     "text": [
      "Processing:  57%|█████▋    | 606/1060 [27:30<12:44,  1.68s/it]"
     ]
    },
    {
     "name": "stdout",
     "output_type": "stream",
     "text": [
      "===== 调试信息：服务器返回 =====\n",
      "{\"id\":\"0194dc718330fb9c741581581e4979dd\",\"object\":\"chat.completion\",\"created\":1738865214,\"model\":\"Qwen/Qwen2.5-32B-Instruct\",\"choices\":[{\"index\":0,\"message\":{\"role\":\"assistant\",\"content\":\"{\\n  \\\"classification\\\": \\\"国内政治\\\",\\n  \\\"sentiment\\\": \\\"negative\\\"\\n}\"},\"finish_reason\":\"stop\"}],\"usage\":{\"prompt_tokens\":1254,\"completion_tokens\":18,\"total_tokens\":1272},\"system_fingerprint\":\"\"}\n",
      "=============================\n",
      "\n"
     ]
    },
    {
     "name": "stderr",
     "output_type": "stream",
     "text": [
      "Processing:  57%|█████▋    | 607/1060 [27:31<11:30,  1.52s/it]"
     ]
    },
    {
     "name": "stdout",
     "output_type": "stream",
     "text": [
      "===== 调试信息：服务器返回 =====\n",
      "{\"id\":\"0194dc7187f5c1b40035939b91cbc5cd\",\"object\":\"chat.completion\",\"created\":1738865215,\"model\":\"Qwen/Qwen2.5-32B-Instruct\",\"choices\":[{\"index\":0,\"message\":{\"role\":\"assistant\",\"content\":\"{\\n  \\\"classification\\\": \\\"文化活动\\\",\\n  \\\"sentiment\\\": \\\"pleasure\\\"\\n}\"},\"finish_reason\":\"stop\"}],\"usage\":{\"prompt_tokens\":1570,\"completion_tokens\":19,\"total_tokens\":1589},\"system_fingerprint\":\"\"}\n",
      "=============================\n",
      "\n"
     ]
    },
    {
     "name": "stderr",
     "output_type": "stream",
     "text": [
      "Processing:  57%|█████▋    | 608/1060 [27:32<10:53,  1.45s/it]"
     ]
    },
    {
     "name": "stdout",
     "output_type": "stream",
     "text": [
      "===== 调试信息：服务器返回 =====\n",
      "{\"id\":\"0194dc718cd1d66ed7de773d1f64a6c2\",\"object\":\"chat.completion\",\"created\":1738865216,\"model\":\"Qwen/Qwen2.5-32B-Instruct\",\"choices\":[{\"index\":0,\"message\":{\"role\":\"assistant\",\"content\":\"{\\n  \\\"classification\\\": \\\"科技\\\",\\n  \\\"sentiment\\\": \\\"positive\\\"\\n}\"},\"finish_reason\":\"stop\"}],\"usage\":{\"prompt_tokens\":3679,\"completion_tokens\":17,\"total_tokens\":3696},\"system_fingerprint\":\"\"}\n",
      "=============================\n",
      "\n"
     ]
    },
    {
     "name": "stderr",
     "output_type": "stream",
     "text": [
      "Processing:  57%|█████▋    | 609/1060 [27:34<12:08,  1.62s/it]"
     ]
    },
    {
     "name": "stdout",
     "output_type": "stream",
     "text": [
      "===== 调试信息：服务器返回 =====\n",
      "{\"id\":\"0194dc719484e512f2fee7c24f255ef3\",\"object\":\"chat.completion\",\"created\":1738865218,\"model\":\"Qwen/Qwen2.5-32B-Instruct\",\"choices\":[{\"index\":0,\"message\":{\"role\":\"assistant\",\"content\":\"{\\n  \\\"classification\\\": \\\"商务活动\\\",\\n  \\\"sentiment\\\": \\\"negative\\\"\\n}\"},\"finish_reason\":\"stop\"}],\"usage\":{\"prompt_tokens\":1367,\"completion_tokens\":18,\"total_tokens\":1385},\"system_fingerprint\":\"\"}\n",
      "=============================\n",
      "\n"
     ]
    },
    {
     "name": "stderr",
     "output_type": "stream",
     "text": [
      "Processing:  58%|█████▊    | 610/1060 [27:36<11:51,  1.58s/it]"
     ]
    },
    {
     "name": "stdout",
     "output_type": "stream",
     "text": [
      "===== 调试信息：服务器返回 =====\n",
      "{\"id\":\"0194dc719a5bc740ffbc43267269c7d7\",\"object\":\"chat.completion\",\"created\":1738865220,\"model\":\"Qwen/Qwen2.5-32B-Instruct\",\"choices\":[{\"index\":0,\"message\":{\"role\":\"assistant\",\"content\":\"{\\n  \\\"classification\\\": \\\"传播\\\",\\n  \\\"sentiment\\\": \\\"negative\\\"\\n}\"},\"finish_reason\":\"stop\"}],\"usage\":{\"prompt_tokens\":1031,\"completion_tokens\":17,\"total_tokens\":1048},\"system_fingerprint\":\"\"}\n",
      "=============================\n",
      "\n"
     ]
    },
    {
     "name": "stderr",
     "output_type": "stream",
     "text": [
      "Processing:  58%|█████▊    | 611/1060 [27:37<11:27,  1.53s/it]"
     ]
    },
    {
     "name": "stdout",
     "output_type": "stream",
     "text": [
      "===== 调试信息：服务器返回 =====\n",
      "{\"id\":\"0194dc719fe5a88cea25edfec32b2164\",\"object\":\"chat.completion\",\"created\":1738865221,\"model\":\"Qwen/Qwen2.5-32B-Instruct\",\"choices\":[{\"index\":0,\"message\":{\"role\":\"assistant\",\"content\":\"{\\n  \\\"classification\\\": \\\"经济\\\",\\n  \\\"sentiment\\\": \\\"negative\\\"\\n}\"},\"finish_reason\":\"stop\"}],\"usage\":{\"prompt_tokens\":1417,\"completion_tokens\":17,\"total_tokens\":1434},\"system_fingerprint\":\"\"}\n",
      "=============================\n",
      "\n"
     ]
    },
    {
     "name": "stderr",
     "output_type": "stream",
     "text": [
      "Processing:  58%|█████▊    | 612/1060 [27:38<10:35,  1.42s/it]"
     ]
    },
    {
     "name": "stdout",
     "output_type": "stream",
     "text": [
      "===== 调试信息：服务器返回 =====\n",
      "{\"id\":\"0194dc71a56138077e0914dd1991d295\",\"object\":\"chat.completion\",\"created\":1738865223,\"model\":\"Qwen/Qwen2.5-32B-Instruct\",\"choices\":[{\"index\":0,\"message\":{\"role\":\"assistant\",\"content\":\"{\\n  \\\"classification\\\": \\\"文化活动\\\",\\n  \\\"sentiment\\\": \\\"pleasure\\\"\\n}\"},\"finish_reason\":\"stop\"}],\"usage\":{\"prompt_tokens\":2623,\"completion_tokens\":19,\"total_tokens\":2642},\"system_fingerprint\":\"\"}\n",
      "=============================\n",
      "\n"
     ]
    },
    {
     "name": "stderr",
     "output_type": "stream",
     "text": [
      "Processing:  58%|█████▊    | 613/1060 [27:40<11:15,  1.51s/it]"
     ]
    },
    {
     "name": "stdout",
     "output_type": "stream",
     "text": [
      "===== 调试信息：服务器返回 =====\n",
      "{\"id\":\"0194dc71ab3223e9e14e9f2a0f96e7b0\",\"object\":\"chat.completion\",\"created\":1738865224,\"model\":\"Qwen/Qwen2.5-32B-Instruct\",\"choices\":[{\"index\":0,\"message\":{\"role\":\"assistant\",\"content\":\"{\\n  \\\"classification\\\": \\\"军事和防御\\\",\\n  \\\"sentiment\\\": \\\"negative\\\"\\n}\"},\"finish_reason\":\"stop\"}],\"usage\":{\"prompt_tokens\":2001,\"completion_tokens\":19,\"total_tokens\":2020},\"system_fingerprint\":\"\"}\n",
      "=============================\n",
      "\n"
     ]
    },
    {
     "name": "stderr",
     "output_type": "stream",
     "text": [
      "Processing:  58%|█████▊    | 614/1060 [27:41<10:41,  1.44s/it]"
     ]
    },
    {
     "name": "stdout",
     "output_type": "stream",
     "text": [
      "===== 调试信息：服务器返回 =====\n",
      "{\"id\":\"0194dc71b03df4d73f5e70a6c0216d1d\",\"object\":\"chat.completion\",\"created\":1738865225,\"model\":\"Qwen/Qwen2.5-32B-Instruct\",\"choices\":[{\"index\":0,\"message\":{\"role\":\"assistant\",\"content\":\"{\\n  \\\"classification\\\": \\\"政治\\\",\\n  \\\"sentiment\\\": \\\"neutral\\\"\\n}\"},\"finish_reason\":\"stop\"}],\"usage\":{\"prompt_tokens\":3711,\"completion_tokens\":17,\"total_tokens\":3728},\"system_fingerprint\":\"\"}\n",
      "=============================\n",
      "\n"
     ]
    },
    {
     "name": "stderr",
     "output_type": "stream",
     "text": [
      "Processing:  58%|█████▊    | 615/1060 [27:43<10:53,  1.47s/it]"
     ]
    },
    {
     "name": "stdout",
     "output_type": "stream",
     "text": [
      "===== 调试信息：服务器返回 =====\n",
      "{\"id\":\"0194dc71b6447582244908e1e5615b44\",\"object\":\"chat.completion\",\"created\":1738865227,\"model\":\"Qwen/Qwen2.5-32B-Instruct\",\"choices\":[{\"index\":0,\"message\":{\"role\":\"assistant\",\"content\":\"{\\n  \\\"classification\\\": \\\"国际政治\\\",\\n  \\\"sentiment\\\": \\\"negative\\\"\\n}\"},\"finish_reason\":\"stop\"}],\"usage\":{\"prompt_tokens\":1133,\"completion_tokens\":18,\"total_tokens\":1151},\"system_fingerprint\":\"\"}\n",
      "=============================\n",
      "\n"
     ]
    },
    {
     "name": "stderr",
     "output_type": "stream",
     "text": [
      "Processing:  58%|█████▊    | 616/1060 [27:44<10:10,  1.37s/it]"
     ]
    },
    {
     "name": "stdout",
     "output_type": "stream",
     "text": [
      "===== 调试信息：服务器返回 =====\n",
      "{\"id\":\"0194dc71baa12b764498b17e962d6a5b\",\"object\":\"chat.completion\",\"created\":1738865228,\"model\":\"Qwen/Qwen2.5-32B-Instruct\",\"choices\":[{\"index\":0,\"message\":{\"role\":\"assistant\",\"content\":\"{\\n  \\\"classification\\\": \\\"文化活动\\\",\\n  \\\"sentiment\\\": \\\"pleasure\\\"\\n}\"},\"finish_reason\":\"stop\"}],\"usage\":{\"prompt_tokens\":2197,\"completion_tokens\":19,\"total_tokens\":2216},\"system_fingerprint\":\"\"}\n",
      "=============================\n",
      "\n"
     ]
    },
    {
     "name": "stderr",
     "output_type": "stream",
     "text": [
      "Processing:  58%|█████▊    | 617/1060 [27:45<09:56,  1.35s/it]"
     ]
    },
    {
     "name": "stdout",
     "output_type": "stream",
     "text": [
      "===== 调试信息：服务器返回 =====\n",
      "{\"id\":\"0194dc71bfafde3d3d25d2ce6db44e41\",\"object\":\"chat.completion\",\"created\":1738865229,\"model\":\"Qwen/Qwen2.5-32B-Instruct\",\"choices\":[{\"index\":0,\"message\":{\"role\":\"assistant\",\"content\":\"{\\n  \\\"classification\\\": \\\"经济\\\",\\n  \\\"sentiment\\\": \\\"negative\\\"\\n}\"},\"finish_reason\":\"stop\"}],\"usage\":{\"prompt_tokens\":2388,\"completion_tokens\":17,\"total_tokens\":2405},\"system_fingerprint\":\"\"}\n",
      "=============================\n",
      "\n"
     ]
    },
    {
     "name": "stderr",
     "output_type": "stream",
     "text": [
      "Processing:  58%|█████▊    | 618/1060 [27:47<09:57,  1.35s/it]"
     ]
    },
    {
     "name": "stdout",
     "output_type": "stream",
     "text": [
      "===== 调试信息：服务器返回 =====\n",
      "{\"id\":\"0194dc71c50b8458ed4584b813e16262\",\"object\":\"chat.completion\",\"created\":1738865231,\"model\":\"Qwen/Qwen2.5-32B-Instruct\",\"choices\":[{\"index\":0,\"message\":{\"role\":\"assistant\",\"content\":\"{\\n  \\\"classification\\\": \\\"国际政治\\\",\\n  \\\"sentiment\\\": \\\"neutral\\\"\\n}\"},\"finish_reason\":\"stop\"}],\"usage\":{\"prompt_tokens\":2093,\"completion_tokens\":18,\"total_tokens\":2111},\"system_fingerprint\":\"\"}\n",
      "=============================\n",
      "\n"
     ]
    },
    {
     "name": "stderr",
     "output_type": "stream",
     "text": [
      "Processing:  58%|█████▊    | 619/1060 [27:48<09:47,  1.33s/it]"
     ]
    },
    {
     "name": "stdout",
     "output_type": "stream",
     "text": [
      "===== 调试信息：服务器返回 =====\n",
      "{\"id\":\"0194dc71ca0c75d228048e362f771207\",\"object\":\"chat.completion\",\"created\":1738865232,\"model\":\"Qwen/Qwen2.5-32B-Instruct\",\"choices\":[{\"index\":0,\"message\":{\"role\":\"assistant\",\"content\":\"{\\n  \\\"classification\\\": \\\"国内政治\\\",\\n  \\\"sentiment\\\": \\\"negative\\\"\\n}\"},\"finish_reason\":\"stop\"}],\"usage\":{\"prompt_tokens\":1619,\"completion_tokens\":18,\"total_tokens\":1637},\"system_fingerprint\":\"\"}\n",
      "=============================\n",
      "\n"
     ]
    },
    {
     "name": "stderr",
     "output_type": "stream",
     "text": [
      "Processing:  58%|█████▊    | 620/1060 [27:49<09:28,  1.29s/it]"
     ]
    },
    {
     "name": "stdout",
     "output_type": "stream",
     "text": [
      "===== 调试信息：服务器返回 =====\n",
      "{\"id\":\"0194dc71cec3065c2a37a1b1f3f18dd8\",\"object\":\"chat.completion\",\"created\":1738865233,\"model\":\"Qwen/Qwen2.5-32B-Instruct\",\"choices\":[{\"index\":0,\"message\":{\"role\":\"assistant\",\"content\":\"{\\n  \\\"classification\\\": \\\"环境\\\",\\n  \\\"sentiment\\\": \\\"negative\\\"\\n}\"},\"finish_reason\":\"stop\"}],\"usage\":{\"prompt_tokens\":2549,\"completion_tokens\":17,\"total_tokens\":2566},\"system_fingerprint\":\"\"}\n",
      "=============================\n",
      "\n"
     ]
    },
    {
     "name": "stderr",
     "output_type": "stream",
     "text": [
      "Processing:  59%|█████▊    | 621/1060 [27:50<09:37,  1.32s/it]"
     ]
    },
    {
     "name": "stdout",
     "output_type": "stream",
     "text": [
      "===== 调试信息：服务器返回 =====\n",
      "{\"id\":\"0194dc71d48e736e94dc79c07436a11a\",\"object\":\"chat.completion\",\"created\":1738865235,\"model\":\"Qwen/Qwen2.5-32B-Instruct\",\"choices\":[{\"index\":0,\"message\":{\"role\":\"assistant\",\"content\":\"{\\n  \\\"classification\\\": \\\"文化活动\\\",\\n  \\\"sentiment\\\": \\\"pleasure\\\"\\n}\"},\"finish_reason\":\"stop\"}],\"usage\":{\"prompt_tokens\":2431,\"completion_tokens\":19,\"total_tokens\":2450},\"system_fingerprint\":\"\"}\n",
      "=============================\n",
      "\n"
     ]
    },
    {
     "name": "stderr",
     "output_type": "stream",
     "text": [
      "Processing:  59%|█████▊    | 622/1060 [27:52<10:15,  1.41s/it]"
     ]
    },
    {
     "name": "stdout",
     "output_type": "stream",
     "text": [
      "===== 调试信息：服务器返回 =====\n",
      "{\"id\":\"0194dc71da5c63a8d80ad2b67310bf3c\",\"object\":\"chat.completion\",\"created\":1738865236,\"model\":\"Qwen/Qwen2.5-32B-Instruct\",\"choices\":[{\"index\":0,\"message\":{\"role\":\"assistant\",\"content\":\"{\\n  \\\"classification\\\": \\\"文化活动\\\",\\n  \\\"sentiment\\\": \\\"pleasure\\\"\\n}\"},\"finish_reason\":\"stop\"}],\"usage\":{\"prompt_tokens\":3087,\"completion_tokens\":19,\"total_tokens\":3106},\"system_fingerprint\":\"\"}\n",
      "=============================\n",
      "\n"
     ]
    },
    {
     "name": "stderr",
     "output_type": "stream",
     "text": [
      "Processing:  59%|█████▉    | 623/1060 [27:53<10:22,  1.42s/it]"
     ]
    },
    {
     "name": "stdout",
     "output_type": "stream",
     "text": [
      "===== 调试信息：服务器返回 =====\n",
      "{\"id\":\"0194dc71e063b4972c1adf956cd9b620\",\"object\":\"chat.completion\",\"created\":1738865238,\"model\":\"Qwen/Qwen2.5-32B-Instruct\",\"choices\":[{\"index\":0,\"message\":{\"role\":\"assistant\",\"content\":\"{\\n  \\\"classification\\\": \\\"商务活动\\\",\\n  \\\"sentiment\\\": \\\"positive\\\"\\n}\"},\"finish_reason\":\"stop\"}],\"usage\":{\"prompt_tokens\":843,\"completion_tokens\":18,\"total_tokens\":861},\"system_fingerprint\":\"\"}\n",
      "=============================\n",
      "\n"
     ]
    },
    {
     "name": "stderr",
     "output_type": "stream",
     "text": [
      "Processing:  59%|█████▉    | 624/1060 [27:55<09:53,  1.36s/it]"
     ]
    },
    {
     "name": "stdout",
     "output_type": "stream",
     "text": [
      "===== 调试信息：服务器返回 =====\n",
      "{\"id\":\"0194dc71e4fb7213625f1bb98d5bc070\",\"object\":\"chat.completion\",\"created\":1738865239,\"model\":\"Qwen/Qwen2.5-32B-Instruct\",\"choices\":[{\"index\":0,\"message\":{\"role\":\"assistant\",\"content\":\"{\\n  \\\"classification\\\": \\\"商务活动\\\",\\n  \\\"sentiment\\\": \\\"positive\\\"\\n}\"},\"finish_reason\":\"stop\"}],\"usage\":{\"prompt_tokens\":843,\"completion_tokens\":18,\"total_tokens\":861},\"system_fingerprint\":\"\"}\n",
      "=============================\n",
      "\n"
     ]
    },
    {
     "name": "stderr",
     "output_type": "stream",
     "text": [
      "Processing:  59%|█████▉    | 625/1060 [27:56<09:27,  1.30s/it]"
     ]
    },
    {
     "name": "stdout",
     "output_type": "stream",
     "text": [
      "===== 调试信息：服务器返回 =====\n",
      "{\"id\":\"0194dc71e96c9691c00ff55334d92df7\",\"object\":\"chat.completion\",\"created\":1738865240,\"model\":\"Qwen/Qwen2.5-32B-Instruct\",\"choices\":[{\"index\":0,\"message\":{\"role\":\"assistant\",\"content\":\"{\\n  \\\"classification\\\": \\\"国际政治\\\",\\n  \\\"sentiment\\\": \\\"positive\\\"\\n}\"},\"finish_reason\":\"stop\"}],\"usage\":{\"prompt_tokens\":2551,\"completion_tokens\":18,\"total_tokens\":2569},\"system_fingerprint\":\"\"}\n",
      "=============================\n",
      "\n"
     ]
    },
    {
     "name": "stderr",
     "output_type": "stream",
     "text": [
      "Processing:  59%|█████▉    | 626/1060 [27:57<09:34,  1.32s/it]"
     ]
    },
    {
     "name": "stdout",
     "output_type": "stream",
     "text": [
      "===== 调试信息：服务器返回 =====\n",
      "{\"id\":\"0194dc71eeb70051c87567b8fe672780\",\"object\":\"chat.completion\",\"created\":1738865241,\"model\":\"Qwen/Qwen2.5-32B-Instruct\",\"choices\":[{\"index\":0,\"message\":{\"role\":\"assistant\",\"content\":\"{\\n  \\\"classification\\\": \\\"其他\\\",\\n  \\\"sentiment\\\": \\\"negative\\\"\\n}\"},\"finish_reason\":\"stop\"}],\"usage\":{\"prompt_tokens\":606,\"completion_tokens\":17,\"total_tokens\":623},\"system_fingerprint\":\"\"}\n",
      "=============================\n",
      "\n"
     ]
    },
    {
     "name": "stderr",
     "output_type": "stream",
     "text": [
      "Processing:  59%|█████▉    | 627/1060 [27:58<09:02,  1.25s/it]"
     ]
    },
    {
     "name": "stdout",
     "output_type": "stream",
     "text": [
      "===== 调试信息：服务器返回 =====\n",
      "{\"id\":\"0194dc71f2fd72d101bd8b4b1bda5f13\",\"object\":\"chat.completion\",\"created\":1738865242,\"model\":\"Qwen/Qwen2.5-32B-Instruct\",\"choices\":[{\"index\":0,\"message\":{\"role\":\"assistant\",\"content\":\"{\\n  \\\"classification\\\": \\\"文化活动\\\",\\n  \\\"sentiment\\\": \\\"pain\\\"\\n}\"},\"finish_reason\":\"stop\"}],\"usage\":{\"prompt_tokens\":2226,\"completion_tokens\":18,\"total_tokens\":2244},\"system_fingerprint\":\"\"}\n",
      "=============================\n",
      "\n"
     ]
    },
    {
     "name": "stderr",
     "output_type": "stream",
     "text": [
      "Processing:  59%|█████▉    | 628/1060 [28:00<09:06,  1.27s/it]"
     ]
    },
    {
     "name": "stdout",
     "output_type": "stream",
     "text": [
      "===== 调试信息：服务器返回 =====\n",
      "{\"id\":\"0194dc71f80a29487133147a833ab254\",\"object\":\"chat.completion\",\"created\":1738865244,\"model\":\"Qwen/Qwen2.5-32B-Instruct\",\"choices\":[{\"index\":0,\"message\":{\"role\":\"assistant\",\"content\":\"{\\n  \\\"classification\\\": \\\"国际政治\\\",\\n  \\\"sentiment\\\": \\\"negative\\\"\\n}\"},\"finish_reason\":\"stop\"}],\"usage\":{\"prompt_tokens\":1819,\"completion_tokens\":18,\"total_tokens\":1837},\"system_fingerprint\":\"\"}\n",
      "=============================\n",
      "\n"
     ]
    },
    {
     "name": "stderr",
     "output_type": "stream",
     "text": [
      "Processing:  59%|█████▉    | 629/1060 [28:01<09:00,  1.25s/it]"
     ]
    },
    {
     "name": "stdout",
     "output_type": "stream",
     "text": [
      "===== 调试信息：服务器返回 =====\n",
      "{\"id\":\"0194dc71fcd6a102f6f5e79c85ded4d7\",\"object\":\"chat.completion\",\"created\":1738865245,\"model\":\"Qwen/Qwen2.5-32B-Instruct\",\"choices\":[{\"index\":0,\"message\":{\"role\":\"assistant\",\"content\":\"{\\n  \\\"classification\\\": \\\"体育\\\",\\n  \\\"sentiment\\\": \\\"positive\\\"\\n}\"},\"finish_reason\":\"stop\"}],\"usage\":{\"prompt_tokens\":1366,\"completion_tokens\":17,\"total_tokens\":1383},\"system_fingerprint\":\"\"}\n",
      "=============================\n",
      "\n"
     ]
    },
    {
     "name": "stderr",
     "output_type": "stream",
     "text": [
      "Processing:  59%|█████▉    | 630/1060 [28:02<08:46,  1.22s/it]"
     ]
    },
    {
     "name": "stdout",
     "output_type": "stream",
     "text": [
      "===== 调试信息：服务器返回 =====\n",
      "{\"id\":\"0194dc72015d246e24744cb0370ef5f1\",\"object\":\"chat.completion\",\"created\":1738865246,\"model\":\"Qwen/Qwen2.5-32B-Instruct\",\"choices\":[{\"index\":0,\"message\":{\"role\":\"assistant\",\"content\":\"{\\n  \\\"classification\\\": \\\"体育\\\",\\n  \\\"sentiment\\\": \\\"negative\\\"\\n}\"},\"finish_reason\":\"stop\"}],\"usage\":{\"prompt_tokens\":1575,\"completion_tokens\":17,\"total_tokens\":1592},\"system_fingerprint\":\"\"}\n",
      "=============================\n",
      "\n"
     ]
    },
    {
     "name": "stderr",
     "output_type": "stream",
     "text": [
      "Processing:  60%|█████▉    | 631/1060 [28:03<08:55,  1.25s/it]"
     ]
    },
    {
     "name": "stdout",
     "output_type": "stream",
     "text": [
      "===== 调试信息：服务器返回 =====\n",
      "{\"id\":\"0194dc7206848f0fc96d5e227f700888\",\"object\":\"chat.completion\",\"created\":1738865247,\"model\":\"Qwen/Qwen2.5-32B-Instruct\",\"choices\":[{\"index\":0,\"message\":{\"role\":\"assistant\",\"content\":\"{\\n  \\\"classification\\\": \\\"商务活动\\\",\\n  \\\"sentiment\\\": \\\"negative\\\"\\n}\"},\"finish_reason\":\"stop\"}],\"usage\":{\"prompt_tokens\":524,\"completion_tokens\":18,\"total_tokens\":542},\"system_fingerprint\":\"\"}\n",
      "=============================\n",
      "\n"
     ]
    },
    {
     "name": "stderr",
     "output_type": "stream",
     "text": [
      "Processing:  60%|█████▉    | 632/1060 [28:04<08:28,  1.19s/it]"
     ]
    },
    {
     "name": "stdout",
     "output_type": "stream",
     "text": [
      "===== 调试信息：服务器返回 =====\n",
      "{\"id\":\"0194dc720aa3db32955a7cfa887d2435\",\"object\":\"chat.completion\",\"created\":1738865248,\"model\":\"Qwen/Qwen2.5-32B-Instruct\",\"choices\":[{\"index\":0,\"message\":{\"role\":\"assistant\",\"content\":\"{\\n  \\\"classification\\\": \\\"国际政治\\\",\\n  \\\"sentiment\\\": \\\"neutral\\\"\\n}\"},\"finish_reason\":\"stop\"}],\"usage\":{\"prompt_tokens\":2313,\"completion_tokens\":18,\"total_tokens\":2331},\"system_fingerprint\":\"\"}\n",
      "=============================\n",
      "\n"
     ]
    },
    {
     "name": "stderr",
     "output_type": "stream",
     "text": [
      "Processing:  60%|█████▉    | 633/1060 [28:06<08:44,  1.23s/it]"
     ]
    },
    {
     "name": "stdout",
     "output_type": "stream",
     "text": [
      "===== 调试信息：服务器返回 =====\n",
      "{\"id\":\"0194dc720fcb63f6cb45ca81b70692c5\",\"object\":\"chat.completion\",\"created\":1738865250,\"model\":\"Qwen/Qwen2.5-32B-Instruct\",\"choices\":[{\"index\":0,\"message\":{\"role\":\"assistant\",\"content\":\"{\\n  \\\"classification\\\": \\\"体育\\\",\\n  \\\"sentiment\\\": \\\"negative\\\"\\n}\"},\"finish_reason\":\"stop\"}],\"usage\":{\"prompt_tokens\":1575,\"completion_tokens\":17,\"total_tokens\":1592},\"system_fingerprint\":\"\"}\n",
      "=============================\n",
      "\n"
     ]
    },
    {
     "name": "stderr",
     "output_type": "stream",
     "text": [
      "Processing:  60%|█████▉    | 634/1060 [28:07<08:39,  1.22s/it]"
     ]
    },
    {
     "name": "stdout",
     "output_type": "stream",
     "text": [
      "===== 调试信息：服务器返回 =====\n",
      "{\"id\":\"0194dc7214748ec328033175f98c7aac\",\"object\":\"chat.completion\",\"created\":1738865251,\"model\":\"Qwen/Qwen2.5-32B-Instruct\",\"choices\":[{\"index\":0,\"message\":{\"role\":\"assistant\",\"content\":\"{\\n  \\\"classification\\\": \\\"卫生福利\\\",\\n  \\\"sentiment\\\": \\\"negative\\\"\\n}\"},\"finish_reason\":\"stop\"}],\"usage\":{\"prompt_tokens\":2032,\"completion_tokens\":18,\"total_tokens\":2050},\"system_fingerprint\":\"\"}\n",
      "=============================\n",
      "\n"
     ]
    },
    {
     "name": "stderr",
     "output_type": "stream",
     "text": [
      "Processing:  60%|█████▉    | 635/1060 [28:08<08:42,  1.23s/it]"
     ]
    },
    {
     "name": "stdout",
     "output_type": "stream",
     "text": [
      "===== 调试信息：服务器返回 =====\n",
      "{\"id\":\"0194dc7219452702217c4b33f8924378\",\"object\":\"chat.completion\",\"created\":1738865252,\"model\":\"Qwen/Qwen2.5-32B-Instruct\",\"choices\":[{\"index\":0,\"message\":{\"role\":\"assistant\",\"content\":\"{\\n  \\\"classification\\\": \\\"军事和防御\\\",\\n  \\\"sentiment\\\": \\\"neutral\\\"\\n}\"},\"finish_reason\":\"stop\"}],\"usage\":{\"prompt_tokens\":2870,\"completion_tokens\":19,\"total_tokens\":2889},\"system_fingerprint\":\"\"}\n",
      "=============================\n",
      "\n"
     ]
    },
    {
     "name": "stderr",
     "output_type": "stream",
     "text": [
      "Processing:  60%|██████    | 636/1060 [28:10<09:09,  1.30s/it]"
     ]
    },
    {
     "name": "stdout",
     "output_type": "stream",
     "text": [
      "===== 调试信息：服务器返回 =====\n",
      "{\"id\":\"0194dc721ef2f285841974c60e76bf18\",\"object\":\"chat.completion\",\"created\":1738865254,\"model\":\"Qwen/Qwen2.5-32B-Instruct\",\"choices\":[{\"index\":0,\"message\":{\"role\":\"assistant\",\"content\":\"{\\n  \\\"classification\\\": \\\"国际政治\\\",\\n  \\\"sentiment\\\": \\\"neutral\\\"\\n}\"},\"finish_reason\":\"stop\"}],\"usage\":{\"prompt_tokens\":1482,\"completion_tokens\":18,\"total_tokens\":1500},\"system_fingerprint\":\"\"}\n",
      "=============================\n",
      "\n"
     ]
    },
    {
     "name": "stderr",
     "output_type": "stream",
     "text": [
      "Processing:  60%|██████    | 637/1060 [28:11<08:50,  1.25s/it]"
     ]
    },
    {
     "name": "stdout",
     "output_type": "stream",
     "text": [
      "===== 调试信息：服务器返回 =====\n",
      "{\"id\":\"0194dc7223975a026248bc211d446c85\",\"object\":\"chat.completion\",\"created\":1738865255,\"model\":\"Qwen/Qwen2.5-32B-Instruct\",\"choices\":[{\"index\":0,\"message\":{\"role\":\"assistant\",\"content\":\"{\\n  \\\"classification\\\": \\\"交通\\\",\\n  \\\"sentiment\\\": \\\"positive\\\"\\n}\"},\"finish_reason\":\"stop\"}],\"usage\":{\"prompt_tokens\":2402,\"completion_tokens\":17,\"total_tokens\":2419},\"system_fingerprint\":\"\"}\n",
      "=============================\n",
      "\n"
     ]
    },
    {
     "name": "stderr",
     "output_type": "stream",
     "text": [
      "Processing:  60%|██████    | 638/1060 [28:12<09:02,  1.29s/it]"
     ]
    },
    {
     "name": "stdout",
     "output_type": "stream",
     "text": [
      "===== 调试信息：服务器返回 =====\n",
      "{\"id\":\"0194dc7228c3a116ca257fe76bc04eca\",\"object\":\"chat.completion\",\"created\":1738865256,\"model\":\"Qwen/Qwen2.5-32B-Instruct\",\"choices\":[{\"index\":0,\"message\":{\"role\":\"assistant\",\"content\":\"{\\n  \\\"classification\\\": \\\"科技\\\",\\n  \\\"sentiment\\\": \\\"negative\\\"\\n}\"},\"finish_reason\":\"stop\"}],\"usage\":{\"prompt_tokens\":2222,\"completion_tokens\":17,\"total_tokens\":2239},\"system_fingerprint\":\"\"}\n",
      "=============================\n",
      "\n"
     ]
    },
    {
     "name": "stderr",
     "output_type": "stream",
     "text": [
      "Processing:  60%|██████    | 639/1060 [28:13<09:13,  1.31s/it]"
     ]
    },
    {
     "name": "stdout",
     "output_type": "stream",
     "text": [
      "===== 调试信息：服务器返回 =====\n",
      "{\"id\":\"0194dc722e2f6fa06d6dbd9d3d8f290f\",\"object\":\"chat.completion\",\"created\":1738865258,\"model\":\"Qwen/Qwen2.5-32B-Instruct\",\"choices\":[{\"index\":0,\"message\":{\"role\":\"assistant\",\"content\":\"{\\n  \\\"classification\\\": \\\"文化活动\\\",\\n  \\\"sentiment\\\": \\\"pleasure\\\"\\n}\"},\"finish_reason\":\"stop\"}],\"usage\":{\"prompt_tokens\":1398,\"completion_tokens\":19,\"total_tokens\":1417},\"system_fingerprint\":\"\"}\n",
      "=============================\n",
      "\n"
     ]
    },
    {
     "name": "stderr",
     "output_type": "stream",
     "text": [
      "Processing:  60%|██████    | 640/1060 [28:15<08:53,  1.27s/it]"
     ]
    },
    {
     "name": "stdout",
     "output_type": "stream",
     "text": [
      "===== 调试信息：服务器返回 =====\n",
      "{\"id\":\"0194dc723309a9ad57a0e6be31f5b129\",\"object\":\"chat.completion\",\"created\":1738865259,\"model\":\"Qwen/Qwen2.5-32B-Instruct\",\"choices\":[{\"index\":0,\"message\":{\"role\":\"assistant\",\"content\":\"{\\n  \\\"classification\\\": \\\"社会关系\\\",\\n  \\\"sentiment\\\": \\\"positive\\\"\\n}\"},\"finish_reason\":\"stop\"}],\"usage\":{\"prompt_tokens\":1353,\"completion_tokens\":18,\"total_tokens\":1371},\"system_fingerprint\":\"\"}\n",
      "=============================\n",
      "\n"
     ]
    },
    {
     "name": "stderr",
     "output_type": "stream",
     "text": [
      "Processing:  60%|██████    | 641/1060 [28:16<09:01,  1.29s/it]"
     ]
    },
    {
     "name": "stdout",
     "output_type": "stream",
     "text": [
      "===== 调试信息：服务器返回 =====\n",
      "{\"id\":\"0194dc72380d94ec59c1b3d05d51e592\",\"object\":\"chat.completion\",\"created\":1738865260,\"model\":\"Qwen/Qwen2.5-32B-Instruct\",\"choices\":[{\"index\":0,\"message\":{\"role\":\"assistant\",\"content\":\"{\\n  \\\"classification\\\": \\\"能源\\\",\\n  \\\"sentiment\\\": \\\"neutral\\\"\\n}\"},\"finish_reason\":\"stop\"}],\"usage\":{\"prompt_tokens\":1598,\"completion_tokens\":17,\"total_tokens\":1615},\"system_fingerprint\":\"\"}\n",
      "=============================\n",
      "\n"
     ]
    },
    {
     "name": "stderr",
     "output_type": "stream",
     "text": [
      "Processing:  61%|██████    | 642/1060 [28:17<08:44,  1.26s/it]"
     ]
    },
    {
     "name": "stdout",
     "output_type": "stream",
     "text": [
      "===== 调试信息：服务器返回 =====\n",
      "{\"id\":\"0194dc723c77176be158ce280884bac7\",\"object\":\"chat.completion\",\"created\":1738865261,\"model\":\"Qwen/Qwen2.5-32B-Instruct\",\"choices\":[{\"index\":0,\"message\":{\"role\":\"assistant\",\"content\":\"{\\n  \\\"classification\\\": \\\"文化活动\\\",\\n  \\\"sentiment\\\": \\\"pleasure\\\"\\n}\"},\"finish_reason\":\"stop\"}],\"usage\":{\"prompt_tokens\":1604,\"completion_tokens\":19,\"total_tokens\":1623},\"system_fingerprint\":\"\"}\n",
      "=============================\n",
      "\n"
     ]
    },
    {
     "name": "stderr",
     "output_type": "stream",
     "text": [
      "Processing:  61%|██████    | 643/1060 [28:18<08:49,  1.27s/it]"
     ]
    },
    {
     "name": "stdout",
     "output_type": "stream",
     "text": [
      "===== 调试信息：服务器返回 =====\n",
      "{\"id\":\"0194dc7241a28e9be8593b4958543e9d\",\"object\":\"chat.completion\",\"created\":1738865263,\"model\":\"Qwen/Qwen2.5-32B-Instruct\",\"choices\":[{\"index\":0,\"message\":{\"role\":\"assistant\",\"content\":\"{\\n  \\\"classification\\\": \\\"国内政治\\\",\\n  \\\"sentiment\\\": \\\"negative\\\"\\n}\"},\"finish_reason\":\"stop\"}],\"usage\":{\"prompt_tokens\":1444,\"completion_tokens\":18,\"total_tokens\":1462},\"system_fingerprint\":\"\"}\n",
      "=============================\n",
      "\n"
     ]
    },
    {
     "name": "stderr",
     "output_type": "stream",
     "text": [
      "Processing:  61%|██████    | 644/1060 [28:20<08:35,  1.24s/it]"
     ]
    },
    {
     "name": "stdout",
     "output_type": "stream",
     "text": [
      "===== 调试信息：服务器返回 =====\n",
      "{\"id\":\"0194dc72462d0a3af8c4f3717f3c1302\",\"object\":\"chat.completion\",\"created\":1738865264,\"model\":\"Qwen/Qwen2.5-32B-Instruct\",\"choices\":[{\"index\":0,\"message\":{\"role\":\"assistant\",\"content\":\"{\\n  \\\"classification\\\": \\\"商务活动\\\",\\n  \\\"sentiment\\\": \\\"positive\\\"\\n}\"},\"finish_reason\":\"stop\"}],\"usage\":{\"prompt_tokens\":1321,\"completion_tokens\":18,\"total_tokens\":1339},\"system_fingerprint\":\"\"}\n",
      "=============================\n",
      "\n"
     ]
    },
    {
     "name": "stderr",
     "output_type": "stream",
     "text": [
      "Processing:  61%|██████    | 645/1060 [28:21<08:21,  1.21s/it]"
     ]
    },
    {
     "name": "stdout",
     "output_type": "stream",
     "text": [
      "===== 调试信息：服务器返回 =====\n",
      "{\"id\":\"0194dc724a98dd17f20c5611b0f10767\",\"object\":\"chat.completion\",\"created\":1738865265,\"model\":\"Qwen/Qwen2.5-32B-Instruct\",\"choices\":[{\"index\":0,\"message\":{\"role\":\"assistant\",\"content\":\"{\\n  \\\"classification\\\": \\\"国内政治\\\",\\n  \\\"sentiment\\\": \\\"neutral\\\"\\n}\"},\"finish_reason\":\"stop\"}],\"usage\":{\"prompt_tokens\":1296,\"completion_tokens\":18,\"total_tokens\":1314},\"system_fingerprint\":\"\"}\n",
      "=============================\n",
      "\n"
     ]
    },
    {
     "name": "stderr",
     "output_type": "stream",
     "text": [
      "Processing:  61%|██████    | 646/1060 [28:22<08:09,  1.18s/it]"
     ]
    },
    {
     "name": "stdout",
     "output_type": "stream",
     "text": [
      "===== 调试信息：服务器返回 =====\n",
      "{\"id\":\"0194dc724f22ba9c9268f40533fffc3d\",\"object\":\"chat.completion\",\"created\":1738865266,\"model\":\"Qwen/Qwen2.5-32B-Instruct\",\"choices\":[{\"index\":0,\"message\":{\"role\":\"assistant\",\"content\":\"{\\n  \\\"classification\\\": \\\"旅游\\\",\\n  \\\"sentiment\\\": \\\"neutral\\\"\\n}\\n\\n注：由于提供的分类中没有“旅游”这一项，且文章内容涉及对北京的旅游体验描述，因此选择最接近的“商务活动”作为分类替代。\\n{\\n  \\\"classification\\\": \\\"商务活动\\\",\\n  \\\"sentiment\\\": \\\"neutral\\\"\\n}\"},\"finish_reason\":\"stop\"}],\"usage\":{\"prompt_tokens\":2350,\"completion_tokens\":72,\"total_tokens\":2422},\"system_fingerprint\":\"\"}\n",
      "=============================\n",
      "\n",
      "请求或解析时出现异常：Extra data: line 6 column 1 (char 56)，等待10秒后重试...\n",
      "===== 调试信息：服务器返回 =====\n",
      "{\"id\":\"0194dc727cac2ed5a518662c90dc029d\",\"object\":\"chat.completion\",\"created\":1738865278,\"model\":\"Qwen/Qwen2.5-32B-Instruct\",\"choices\":[{\"index\":0,\"message\":{\"role\":\"assistant\",\"content\":\"{\\n  \\\"classification\\\": \\\"旅游\\\",\\n  \\\"sentiment\\\": \\\"neutral\\\"\\n}\\n\\n注：由于提供的分类选项中没有\\\"旅游\\\"这一项，因此选择了最接近的\\\"其他\\\"作为分类。\\n{\\n  \\\"classification\\\": \\\"其他\\\",\\n  \\\"sentiment\\\": \\\"neutral\\\"\\n}\"},\"finish_reason\":\"stop\"}],\"usage\":{\"prompt_tokens\":2350,\"completion_tokens\":59,\"total_tokens\":2409},\"system_fingerprint\":\"\"}\n",
      "=============================\n",
      "\n",
      "请求或解析时出现异常：Extra data: line 6 column 1 (char 56)，等待10秒后重试...\n",
      "===== 调试信息：服务器返回 =====\n",
      "{\"id\":\"0194dc72a81c07e549e7cb9674fd7ff6\",\"object\":\"chat.completion\",\"created\":1738865289,\"model\":\"Qwen/Qwen2.5-32B-Instruct\",\"choices\":[{\"index\":0,\"message\":{\"role\":\"assistant\",\"content\":\"{\\n  \\\"classification\\\": \\\"旅游\\\",\\n  \\\"sentiment\\\": \\\"pleasure\\\"\\n}\"},\"finish_reason\":\"stop\"}],\"usage\":{\"prompt_tokens\":2350,\"completion_tokens\":18,\"total_tokens\":2368},\"system_fingerprint\":\"\"}\n",
      "=============================\n",
      "\n"
     ]
    },
    {
     "name": "stderr",
     "output_type": "stream",
     "text": [
      "Processing:  61%|██████    | 647/1060 [28:46<55:29,  8.06s/it]"
     ]
    },
    {
     "name": "stdout",
     "output_type": "stream",
     "text": [
      "===== 调试信息：服务器返回 =====\n",
      "{\"id\":\"0194dc72ad4a05b66436cef9eb65a836\",\"object\":\"chat.completion\",\"created\":1738865290,\"model\":\"Qwen/Qwen2.5-32B-Instruct\",\"choices\":[{\"index\":0,\"message\":{\"role\":\"assistant\",\"content\":\"{\\n  \\\"classification\\\": \\\"经济\\\",\\n  \\\"sentiment\\\": \\\"neutral\\\"\\n}\"},\"finish_reason\":\"stop\"}],\"usage\":{\"prompt_tokens\":4941,\"completion_tokens\":17,\"total_tokens\":4958},\"system_fingerprint\":\"\"}\n",
      "=============================\n",
      "\n"
     ]
    },
    {
     "name": "stderr",
     "output_type": "stream",
     "text": [
      "Processing:  61%|██████    | 648/1060 [28:48<42:24,  6.18s/it]"
     ]
    },
    {
     "name": "stdout",
     "output_type": "stream",
     "text": [
      "===== 调试信息：服务器返回 =====\n",
      "{\"id\":\"0194dc72b4b6ba602c5ee7eb6170d1ec\",\"object\":\"chat.completion\",\"created\":1738865292,\"model\":\"Qwen/Qwen2.5-32B-Instruct\",\"choices\":[{\"index\":0,\"message\":{\"role\":\"assistant\",\"content\":\"{\\n  \\\"classification\\\": \\\"文化活动\\\",\\n  \\\"sentiment\\\": \\\"pleasure\\\"\\n}\"},\"finish_reason\":\"stop\"}],\"usage\":{\"prompt_tokens\":1523,\"completion_tokens\":19,\"total_tokens\":1542},\"system_fingerprint\":\"\"}\n",
      "=============================\n",
      "\n"
     ]
    },
    {
     "name": "stderr",
     "output_type": "stream",
     "text": [
      "Processing:  61%|██████    | 649/1060 [28:49<32:24,  4.73s/it]"
     ]
    },
    {
     "name": "stdout",
     "output_type": "stream",
     "text": [
      "===== 调试信息：服务器返回 =====\n",
      "{\"id\":\"0194dc72b9d86298e4cf1d9fb243137e\",\"object\":\"chat.completion\",\"created\":1738865293,\"model\":\"Qwen/Qwen2.5-32B-Instruct\",\"choices\":[{\"index\":0,\"message\":{\"role\":\"assistant\",\"content\":\"{\\n  \\\"classification\\\": \\\"经济\\\",\\n  \\\"sentiment\\\": \\\"neutral\\\"\\n}\"},\"finish_reason\":\"stop\"}],\"usage\":{\"prompt_tokens\":1416,\"completion_tokens\":17,\"total_tokens\":1433},\"system_fingerprint\":\"\"}\n",
      "=============================\n",
      "\n"
     ]
    },
    {
     "name": "stderr",
     "output_type": "stream",
     "text": [
      "Processing:  61%|██████▏   | 650/1060 [28:50<25:08,  3.68s/it]"
     ]
    },
    {
     "name": "stdout",
     "output_type": "stream",
     "text": [
      "===== 调试信息：服务器返回 =====\n",
      "{\"id\":\"0194dc72be6502270dc5d3d66b5e0a6b\",\"object\":\"chat.completion\",\"created\":1738865294,\"model\":\"Qwen/Qwen2.5-32B-Instruct\",\"choices\":[{\"index\":0,\"message\":{\"role\":\"assistant\",\"content\":\"{\\n  \\\"classification\\\": \\\"文化活动\\\",\\n  \\\"sentiment\\\": \\\"pleasure\\\"\\n}\"},\"finish_reason\":\"stop\"}],\"usage\":{\"prompt_tokens\":8004,\"completion_tokens\":19,\"total_tokens\":8023},\"system_fingerprint\":\"\"}\n",
      "=============================\n",
      "\n"
     ]
    },
    {
     "name": "stderr",
     "output_type": "stream",
     "text": [
      "Processing:  61%|██████▏   | 651/1060 [28:53<23:17,  3.42s/it]"
     ]
    },
    {
     "name": "stdout",
     "output_type": "stream",
     "text": [
      "===== 调试信息：服务器返回 =====\n",
      "{\"id\":\"0194dc72c93fdd2e2e2daec6978f831b\",\"object\":\"chat.completion\",\"created\":1738865297,\"model\":\"Qwen/Qwen2.5-32B-Instruct\",\"choices\":[{\"index\":0,\"message\":{\"role\":\"assistant\",\"content\":\"{\\n  \\\"classification\\\": \\\"社会关系\\\",\\n  \\\"sentiment\\\": \\\"negative\\\"\\n}\"},\"finish_reason\":\"stop\"}],\"usage\":{\"prompt_tokens\":3801,\"completion_tokens\":18,\"total_tokens\":3819},\"system_fingerprint\":\"\"}\n",
      "=============================\n",
      "\n"
     ]
    },
    {
     "name": "stderr",
     "output_type": "stream",
     "text": [
      "Processing:  62%|██████▏   | 652/1060 [28:55<19:28,  2.86s/it]"
     ]
    },
    {
     "name": "stdout",
     "output_type": "stream",
     "text": [
      "===== 调试信息：服务器返回 =====\n",
      "{\"id\":\"0194dc72cf66cf19a347cc0503ff4f8e\",\"object\":\"chat.completion\",\"created\":1738865299,\"model\":\"Qwen/Qwen2.5-32B-Instruct\",\"choices\":[{\"index\":0,\"message\":{\"role\":\"assistant\",\"content\":\"{\\n  \\\"classification\\\": \\\"经济\\\",\\n  \\\"sentiment\\\": \\\"negative\\\"\\n}\"},\"finish_reason\":\"stop\"}],\"usage\":{\"prompt_tokens\":2064,\"completion_tokens\":17,\"total_tokens\":2081},\"system_fingerprint\":\"\"}\n",
      "=============================\n",
      "\n"
     ]
    },
    {
     "name": "stderr",
     "output_type": "stream",
     "text": [
      "Processing:  62%|██████▏   | 653/1060 [28:56<16:08,  2.38s/it]"
     ]
    },
    {
     "name": "stdout",
     "output_type": "stream",
     "text": [
      "===== 调试信息：服务器返回 =====\n",
      "{\"id\":\"0194dc72d43605e8b1060c609733448b\",\"object\":\"chat.completion\",\"created\":1738865300,\"model\":\"Qwen/Qwen2.5-32B-Instruct\",\"choices\":[{\"index\":0,\"message\":{\"role\":\"assistant\",\"content\":\"{\\n  \\\"classification\\\": \\\"国际政治\\\",\\n  \\\"sentiment\\\": \\\"neutral\\\"\\n}\"},\"finish_reason\":\"stop\"}],\"usage\":{\"prompt_tokens\":1404,\"completion_tokens\":18,\"total_tokens\":1422},\"system_fingerprint\":\"\"}\n",
      "=============================\n",
      "\n"
     ]
    },
    {
     "name": "stderr",
     "output_type": "stream",
     "text": [
      "Processing:  62%|██████▏   | 654/1060 [28:57<13:38,  2.02s/it]"
     ]
    },
    {
     "name": "stdout",
     "output_type": "stream",
     "text": [
      "触发速率限制 (HTTP 429)，等待60秒后重试...\n",
      "===== 调试信息：服务器返回 =====\n",
      "{\"id\":\"0194dc73c3b038b5b6cdf65c1bfd3546\",\"object\":\"chat.completion\",\"created\":1738865361,\"model\":\"Qwen/Qwen2.5-32B-Instruct\",\"choices\":[{\"index\":0,\"message\":{\"role\":\"assistant\",\"content\":\"{\\n  \\\"classification\\\": \\\"国际政治\\\",\\n  \\\"sentiment\\\": \\\"neutral\\\"\\n}\"},\"finish_reason\":\"stop\"}],\"usage\":{\"prompt_tokens\":1404,\"completion_tokens\":18,\"total_tokens\":1422},\"system_fingerprint\":\"\"}\n",
      "=============================\n",
      "\n"
     ]
    },
    {
     "name": "stderr",
     "output_type": "stream",
     "text": [
      "Processing:  62%|██████▏   | 655/1060 [29:58<2:13:39, 19.80s/it]"
     ]
    },
    {
     "name": "stdout",
     "output_type": "stream",
     "text": [
      "===== 调试信息：服务器返回 =====\n",
      "{\"id\":\"0194dc73c84c6570fa78b7b25cf8f80f\",\"object\":\"chat.completion\",\"created\":1738865363,\"model\":\"Qwen/Qwen2.5-32B-Instruct\",\"choices\":[{\"index\":0,\"message\":{\"role\":\"assistant\",\"content\":\"{\\n  \\\"classification\\\": \\\"文化活动\\\",\\n  \\\"sentiment\\\": \\\"pleasure\\\"\\n}\"},\"finish_reason\":\"stop\"}],\"usage\":{\"prompt_tokens\":1183,\"completion_tokens\":19,\"total_tokens\":1202},\"system_fingerprint\":\"\"}\n",
      "=============================\n",
      "\n"
     ]
    },
    {
     "name": "stderr",
     "output_type": "stream",
     "text": [
      "Processing:  62%|██████▏   | 656/1060 [30:00<1:36:26, 14.32s/it]"
     ]
    },
    {
     "name": "stdout",
     "output_type": "stream",
     "text": [
      "===== 调试信息：服务器返回 =====\n",
      "{\"id\":\"0194dc73ce5107421e13baa4470a2f44\",\"object\":\"chat.completion\",\"created\":1738865364,\"model\":\"Qwen/Qwen2.5-32B-Instruct\",\"choices\":[{\"index\":0,\"message\":{\"role\":\"assistant\",\"content\":\"{\\n  \\\"classification\\\": \\\"科技\\\",\\n  \\\"sentiment\\\": \\\"pleasure\\\"\\n}\"},\"finish_reason\":\"stop\"}],\"usage\":{\"prompt_tokens\":1697,\"completion_tokens\":18,\"total_tokens\":1715},\"system_fingerprint\":\"\"}\n",
      "=============================\n",
      "\n"
     ]
    },
    {
     "name": "stderr",
     "output_type": "stream",
     "text": [
      "Processing:  62%|██████▏   | 657/1060 [30:01<1:09:45, 10.39s/it]"
     ]
    },
    {
     "name": "stdout",
     "output_type": "stream",
     "text": [
      "===== 调试信息：服务器返回 =====\n",
      "{\"id\":\"0194dc73d2f0a3ae7be8b5350642c700\",\"object\":\"chat.completion\",\"created\":1738865365,\"model\":\"Qwen/Qwen2.5-32B-Instruct\",\"choices\":[{\"index\":0,\"message\":{\"role\":\"assistant\",\"content\":\"{\\n  \\\"classification\\\": \\\"国际政治\\\",\\n  \\\"sentiment\\\": \\\"negative\\\"\\n}\"},\"finish_reason\":\"stop\"}],\"usage\":{\"prompt_tokens\":1566,\"completion_tokens\":18,\"total_tokens\":1584},\"system_fingerprint\":\"\"}\n",
      "=============================\n",
      "\n"
     ]
    },
    {
     "name": "stderr",
     "output_type": "stream",
     "text": [
      "Processing:  62%|██████▏   | 658/1060 [30:02<51:03,  7.62s/it]  "
     ]
    },
    {
     "name": "stdout",
     "output_type": "stream",
     "text": [
      "===== 调试信息：服务器返回 =====\n",
      "{\"id\":\"0194dc73d7b137912d4d7fd00b75cedc\",\"object\":\"chat.completion\",\"created\":1738865366,\"model\":\"Qwen/Qwen2.5-32B-Instruct\",\"choices\":[{\"index\":0,\"message\":{\"role\":\"assistant\",\"content\":\"{\\n  \\\"classification\\\": \\\"科技\\\",\\n  \\\"sentiment\\\": \\\"neutral\\\"\\n}\"},\"finish_reason\":\"stop\"}],\"usage\":{\"prompt_tokens\":2060,\"completion_tokens\":17,\"total_tokens\":2077},\"system_fingerprint\":\"\"}\n",
      "=============================\n",
      "\n"
     ]
    },
    {
     "name": "stderr",
     "output_type": "stream",
     "text": [
      "Processing:  62%|██████▏   | 659/1060 [30:04<38:14,  5.72s/it]"
     ]
    },
    {
     "name": "stdout",
     "output_type": "stream",
     "text": [
      "===== 调试信息：服务器返回 =====\n",
      "{\"id\":\"0194dc73dca85b516440e1f4cd77c123\",\"object\":\"chat.completion\",\"created\":1738865368,\"model\":\"Qwen/Qwen2.5-32B-Instruct\",\"choices\":[{\"index\":0,\"message\":{\"role\":\"assistant\",\"content\":\"{\\n  \\\"classification\\\": \\\"国内政治\\\",\\n  \\\"sentiment\\\": \\\"neutral\\\"\\n}\"},\"finish_reason\":\"stop\"}],\"usage\":{\"prompt_tokens\":1592,\"completion_tokens\":18,\"total_tokens\":1610},\"system_fingerprint\":\"\"}\n",
      "=============================\n",
      "\n"
     ]
    },
    {
     "name": "stderr",
     "output_type": "stream",
     "text": [
      "Processing:  62%|██████▏   | 660/1060 [30:05<29:04,  4.36s/it]"
     ]
    },
    {
     "name": "stdout",
     "output_type": "stream",
     "text": [
      "===== 调试信息：服务器返回 =====\n",
      "{\"id\":\"0194dc73e1710ae3907cda642f17b0c0\",\"object\":\"chat.completion\",\"created\":1738865369,\"model\":\"Qwen/Qwen2.5-32B-Instruct\",\"choices\":[{\"index\":0,\"message\":{\"role\":\"assistant\",\"content\":\"{\\n  \\\"classification\\\": \\\"体育\\\",\\n  \\\"sentiment\\\": \\\"positive\\\"\\n}\"},\"finish_reason\":\"stop\"}],\"usage\":{\"prompt_tokens\":2031,\"completion_tokens\":17,\"total_tokens\":2048},\"system_fingerprint\":\"\"}\n",
      "=============================\n",
      "\n"
     ]
    },
    {
     "name": "stderr",
     "output_type": "stream",
     "text": [
      "Processing:  62%|██████▏   | 661/1060 [30:06<22:52,  3.44s/it]"
     ]
    },
    {
     "name": "stdout",
     "output_type": "stream",
     "text": [
      "===== 调试信息：服务器返回 =====\n",
      "{\"id\":\"0194dc73e64022af44d7a501f3780102\",\"object\":\"chat.completion\",\"created\":1738865370,\"model\":\"Qwen/Qwen2.5-32B-Instruct\",\"choices\":[{\"index\":0,\"message\":{\"role\":\"assistant\",\"content\":\"{\\n  \\\"classification\\\": \\\"国际政治\\\",\\n  \\\"sentiment\\\": \\\"negative\\\"\\n}\"},\"finish_reason\":\"stop\"}],\"usage\":{\"prompt_tokens\":1698,\"completion_tokens\":18,\"total_tokens\":1716},\"system_fingerprint\":\"\"}\n",
      "=============================\n",
      "\n"
     ]
    },
    {
     "name": "stderr",
     "output_type": "stream",
     "text": [
      "Processing:  62%|██████▏   | 662/1060 [30:07<18:21,  2.77s/it]"
     ]
    },
    {
     "name": "stdout",
     "output_type": "stream",
     "text": [
      "===== 调试信息：服务器返回 =====\n",
      "{\"id\":\"0194dc73eaf5900311edf4692fa5bc40\",\"object\":\"chat.completion\",\"created\":1738865371,\"model\":\"Qwen/Qwen2.5-32B-Instruct\",\"choices\":[{\"index\":0,\"message\":{\"role\":\"assistant\",\"content\":\"{\\n  \\\"classification\\\": \\\"商务活动\\\",\\n  \\\"sentiment\\\": \\\"neutral\\\"\\n}\"},\"finish_reason\":\"stop\"}],\"usage\":{\"prompt_tokens\":538,\"completion_tokens\":18,\"total_tokens\":556},\"system_fingerprint\":\"\"}\n",
      "=============================\n",
      "\n"
     ]
    },
    {
     "name": "stderr",
     "output_type": "stream",
     "text": [
      "Processing:  63%|██████▎   | 663/1060 [30:08<14:51,  2.25s/it]"
     ]
    },
    {
     "name": "stdout",
     "output_type": "stream",
     "text": [
      "===== 调试信息：服务器返回 =====\n",
      "{\"id\":\"0194dc73eefdab6ec447bbc335906016\",\"object\":\"chat.completion\",\"created\":1738865372,\"model\":\"Qwen/Qwen2.5-32B-Instruct\",\"choices\":[{\"index\":0,\"message\":{\"role\":\"assistant\",\"content\":\"{\\n  \\\"classification\\\": \\\"科技\\\",\\n  \\\"sentiment\\\": \\\"pleasure\\\"\\n}\"},\"finish_reason\":\"stop\"}],\"usage\":{\"prompt_tokens\":1645,\"completion_tokens\":18,\"total_tokens\":1663},\"system_fingerprint\":\"\"}\n",
      "=============================\n",
      "\n"
     ]
    },
    {
     "name": "stderr",
     "output_type": "stream",
     "text": [
      "Processing:  63%|██████▎   | 664/1060 [30:10<12:47,  1.94s/it]"
     ]
    },
    {
     "name": "stdout",
     "output_type": "stream",
     "text": [
      "===== 调试信息：服务器返回 =====\n",
      "{\"id\":\"0194dc73f3ab5fae5378950ee8445cd5\",\"object\":\"chat.completion\",\"created\":1738865374,\"model\":\"Qwen/Qwen2.5-32B-Instruct\",\"choices\":[{\"index\":0,\"message\":{\"role\":\"assistant\",\"content\":\"{\\n  \\\"classification\\\": \\\"国内政治\\\",\\n  \\\"sentiment\\\": \\\"negative\\\"\\n}\"},\"finish_reason\":\"stop\"}],\"usage\":{\"prompt_tokens\":2731,\"completion_tokens\":18,\"total_tokens\":2749},\"system_fingerprint\":\"\"}\n",
      "=============================\n",
      "\n"
     ]
    },
    {
     "name": "stderr",
     "output_type": "stream",
     "text": [
      "Processing:  63%|██████▎   | 665/1060 [30:11<11:42,  1.78s/it]"
     ]
    },
    {
     "name": "stdout",
     "output_type": "stream",
     "text": [
      "===== 调试信息：服务器返回 =====\n",
      "{\"id\":\"0194dc73f93450ceda58a738da752393\",\"object\":\"chat.completion\",\"created\":1738865375,\"model\":\"Qwen/Qwen2.5-32B-Instruct\",\"choices\":[{\"index\":0,\"message\":{\"role\":\"assistant\",\"content\":\"{\\n  \\\"classification\\\": \\\"经济\\\",\\n  \\\"sentiment\\\": \\\"neutral\\\"\\n}\"},\"finish_reason\":\"stop\"}],\"usage\":{\"prompt_tokens\":1329,\"completion_tokens\":17,\"total_tokens\":1346},\"system_fingerprint\":\"\"}\n",
      "=============================\n",
      "\n"
     ]
    },
    {
     "name": "stderr",
     "output_type": "stream",
     "text": [
      "Processing:  63%|██████▎   | 666/1060 [30:12<10:21,  1.58s/it]"
     ]
    },
    {
     "name": "stdout",
     "output_type": "stream",
     "text": [
      "===== 调试信息：服务器返回 =====\n",
      "{\"id\":\"0194dc73fd7e6e9edea6ab2f25045d09\",\"object\":\"chat.completion\",\"created\":1738865376,\"model\":\"Qwen/Qwen2.5-32B-Instruct\",\"choices\":[{\"index\":0,\"message\":{\"role\":\"assistant\",\"content\":\"{\\n  \\\"classification\\\": \\\"科技\\\",\\n  \\\"sentiment\\\": \\\"positive\\\"\\n}\"},\"finish_reason\":\"stop\"}],\"usage\":{\"prompt_tokens\":850,\"completion_tokens\":17,\"total_tokens\":867},\"system_fingerprint\":\"\"}\n",
      "=============================\n",
      "\n"
     ]
    },
    {
     "name": "stderr",
     "output_type": "stream",
     "text": [
      "Processing:  63%|██████▎   | 667/1060 [30:13<09:22,  1.43s/it]"
     ]
    },
    {
     "name": "stdout",
     "output_type": "stream",
     "text": [
      "===== 调试信息：服务器返回 =====\n",
      "{\"id\":\"0194dc7401bb19ea7887fa7daeb027ad\",\"object\":\"chat.completion\",\"created\":1738865377,\"model\":\"Qwen/Qwen2.5-32B-Instruct\",\"choices\":[{\"index\":0,\"message\":{\"role\":\"assistant\",\"content\":\"{\\n  \\\"classification\\\": \\\"经济\\\",\\n  \\\"sentiment\\\": \\\"positive\\\"\\n}\"},\"finish_reason\":\"stop\"}],\"usage\":{\"prompt_tokens\":2043,\"completion_tokens\":17,\"total_tokens\":2060},\"system_fingerprint\":\"\"}\n",
      "=============================\n",
      "\n"
     ]
    },
    {
     "name": "stderr",
     "output_type": "stream",
     "text": [
      "Processing:  63%|██████▎   | 668/1060 [30:14<08:55,  1.37s/it]"
     ]
    },
    {
     "name": "stdout",
     "output_type": "stream",
     "text": [
      "===== 调试信息：服务器返回 =====\n",
      "{\"id\":\"0194dc7406a190496c1ec7d5551b7f42\",\"object\":\"chat.completion\",\"created\":1738865378,\"model\":\"Qwen/Qwen2.5-32B-Instruct\",\"choices\":[{\"index\":0,\"message\":{\"role\":\"assistant\",\"content\":\"{\\n  \\\"classification\\\": \\\"司法\\\",\\n  \\\"sentiment\\\": \\\"negative\\\"\\n}\\n\\n注：由于提供的分类中没有“司法”这一项，因此如果严格按照要求，此处应归类为“其他”。但由于文章内容主要涉及死刑执行情况，与司法系统紧密相关，故在此做此分类。若需严格遵守分类选项，则应调整为“其他”。\\n\\n{\\n  \\\"classification\\\": \\\"其他\\\",\\n  \\\"sentiment\\\": \\\"negative\\\"\\n}\"},\"finish_reason\":\"stop\"}],\"usage\":{\"prompt_tokens\":1675,\"completion_tokens\":94,\"total_tokens\":1769},\"system_fingerprint\":\"\"}\n",
      "=============================\n",
      "\n",
      "请求或解析时出现异常：Extra data: line 6 column 1 (char 57)，等待10秒后重试...\n",
      "===== 调试信息：服务器返回 =====\n",
      "{\"id\":\"0194dc74353f14c610574000caa74f0c\",\"object\":\"chat.completion\",\"created\":1738865390,\"model\":\"Qwen/Qwen2.5-32B-Instruct\",\"choices\":[{\"index\":0,\"message\":{\"role\":\"assistant\",\"content\":\"{\\n  \\\"classification\\\": \\\"国际政治\\\",\\n  \\\"sentiment\\\": \\\"negative\\\"\\n}\"},\"finish_reason\":\"stop\"}],\"usage\":{\"prompt_tokens\":1675,\"completion_tokens\":18,\"total_tokens\":1693},\"system_fingerprint\":\"\"}\n",
      "=============================\n",
      "\n"
     ]
    },
    {
     "name": "stderr",
     "output_type": "stream",
     "text": [
      "Processing:  63%|██████▎   | 669/1060 [30:27<31:48,  4.88s/it]"
     ]
    },
    {
     "name": "stdout",
     "output_type": "stream",
     "text": [
      "===== 调试信息：服务器返回 =====\n",
      "{\"id\":\"0194dc7439a5905ac056494b87107ed3\",\"object\":\"chat.completion\",\"created\":1738865392,\"model\":\"Qwen/Qwen2.5-32B-Instruct\",\"choices\":[{\"index\":0,\"message\":{\"role\":\"assistant\",\"content\":\"{\\n  \\\"classification\\\": \\\"国际政治\\\",\\n  \\\"sentiment\\\": \\\"negative\\\"\\n}\"},\"finish_reason\":\"stop\"}],\"usage\":{\"prompt_tokens\":1675,\"completion_tokens\":18,\"total_tokens\":1693},\"system_fingerprint\":\"\"}\n",
      "=============================\n",
      "\n"
     ]
    },
    {
     "name": "stderr",
     "output_type": "stream",
     "text": [
      "Processing:  63%|██████▎   | 670/1060 [30:29<24:33,  3.78s/it]"
     ]
    },
    {
     "name": "stdout",
     "output_type": "stream",
     "text": [
      "===== 调试信息：服务器返回 =====\n",
      "{\"id\":\"0194dc743e523e16c3f70f105f934e9b\",\"object\":\"chat.completion\",\"created\":1738865393,\"model\":\"Qwen/Qwen2.5-32B-Instruct\",\"choices\":[{\"index\":0,\"message\":{\"role\":\"assistant\",\"content\":\"{\\n  \\\"classification\\\": \\\"经济\\\",\\n  \\\"sentiment\\\": \\\"neutral\\\"\\n}\"},\"finish_reason\":\"stop\"}],\"usage\":{\"prompt_tokens\":2547,\"completion_tokens\":17,\"total_tokens\":2564},\"system_fingerprint\":\"\"}\n",
      "=============================\n",
      "\n"
     ]
    },
    {
     "name": "stderr",
     "output_type": "stream",
     "text": [
      "Processing:  63%|██████▎   | 671/1060 [30:30<19:42,  3.04s/it]"
     ]
    },
    {
     "name": "stdout",
     "output_type": "stream",
     "text": [
      "===== 调试信息：服务器返回 =====\n",
      "{\"id\":\"0194dc7443888beda5b4528d5d5db1b2\",\"object\":\"chat.completion\",\"created\":1738865394,\"model\":\"Qwen/Qwen2.5-32B-Instruct\",\"choices\":[{\"index\":0,\"message\":{\"role\":\"assistant\",\"content\":\"{\\n  \\\"classification\\\": \\\"文化活动\\\",\\n  \\\"sentiment\\\": \\\"pleasure\\\"\\n}\"},\"finish_reason\":\"stop\"}],\"usage\":{\"prompt_tokens\":1751,\"completion_tokens\":19,\"total_tokens\":1770},\"system_fingerprint\":\"\"}\n",
      "=============================\n",
      "\n"
     ]
    },
    {
     "name": "stderr",
     "output_type": "stream",
     "text": [
      "Processing:  63%|██████▎   | 672/1060 [30:31<16:12,  2.51s/it]"
     ]
    },
    {
     "name": "stdout",
     "output_type": "stream",
     "text": [
      "===== 调试信息：服务器返回 =====\n",
      "{\"id\":\"0194dc7448b73d682778817c768044b4\",\"object\":\"chat.completion\",\"created\":1738865395,\"model\":\"Qwen/Qwen2.5-32B-Instruct\",\"choices\":[{\"index\":0,\"message\":{\"role\":\"assistant\",\"content\":\"{\\n  \\\"classification\\\": \\\"国际政治\\\",\\n  \\\"sentiment\\\": \\\"negative\\\"\\n}\"},\"finish_reason\":\"stop\"}],\"usage\":{\"prompt_tokens\":2451,\"completion_tokens\":18,\"total_tokens\":2469},\"system_fingerprint\":\"\"}\n",
      "=============================\n",
      "\n"
     ]
    },
    {
     "name": "stderr",
     "output_type": "stream",
     "text": [
      "Processing:  63%|██████▎   | 673/1060 [30:33<14:03,  2.18s/it]"
     ]
    },
    {
     "name": "stdout",
     "output_type": "stream",
     "text": [
      "===== 调试信息：服务器返回 =====\n",
      "{\"id\":\"0194dc744e77b706c3b2fdafde0acc70\",\"object\":\"chat.completion\",\"created\":1738865397,\"model\":\"Qwen/Qwen2.5-32B-Instruct\",\"choices\":[{\"index\":0,\"message\":{\"role\":\"assistant\",\"content\":\"{\\n  \\\"classification\\\": \\\"时尚\\\",\\n  \\\"sentiment\\\": \\\"pleasure\\\"\\n}\"},\"finish_reason\":\"stop\"}],\"usage\":{\"prompt_tokens\":1746,\"completion_tokens\":18,\"total_tokens\":1764},\"system_fingerprint\":\"\"}\n",
      "=============================\n",
      "\n"
     ]
    },
    {
     "name": "stderr",
     "output_type": "stream",
     "text": [
      "Processing:  64%|██████▎   | 674/1060 [30:34<12:21,  1.92s/it]"
     ]
    },
    {
     "name": "stdout",
     "output_type": "stream",
     "text": [
      "===== 调试信息：服务器返回 =====\n",
      "{\"id\":\"0194dc7454c722d43c958eca01a29e44\",\"object\":\"chat.completion\",\"created\":1738865398,\"model\":\"Qwen/Qwen2.5-32B-Instruct\",\"choices\":[{\"index\":0,\"message\":{\"role\":\"assistant\",\"content\":\"{\\n  \\\"classification\\\": \\\"国际政治\\\",\\n  \\\"sentiment\\\": \\\"negative\\\"\\n}\"},\"finish_reason\":\"stop\"}],\"usage\":{\"prompt_tokens\":1254,\"completion_tokens\":18,\"total_tokens\":1272},\"system_fingerprint\":\"\"}\n",
      "=============================\n",
      "\n"
     ]
    },
    {
     "name": "stderr",
     "output_type": "stream",
     "text": [
      "Processing:  64%|██████▎   | 675/1060 [30:36<11:38,  1.82s/it]"
     ]
    },
    {
     "name": "stdout",
     "output_type": "stream",
     "text": [
      "===== 调试信息：服务器返回 =====\n",
      "{\"id\":\"0194dc74593a09617f9b99bd1eec6bf3\",\"object\":\"chat.completion\",\"created\":1738865400,\"model\":\"Qwen/Qwen2.5-32B-Instruct\",\"choices\":[{\"index\":0,\"message\":{\"role\":\"assistant\",\"content\":\"{\\n  \\\"classification\\\": \\\"国际政治\\\",\\n  \\\"sentiment\\\": \\\"neutral\\\"\\n}\"},\"finish_reason\":\"stop\"}],\"usage\":{\"prompt_tokens\":833,\"completion_tokens\":18,\"total_tokens\":851},\"system_fingerprint\":\"\"}\n",
      "=============================\n",
      "\n"
     ]
    },
    {
     "name": "stderr",
     "output_type": "stream",
     "text": [
      "Processing:  64%|██████▍   | 676/1060 [30:37<10:17,  1.61s/it]"
     ]
    },
    {
     "name": "stdout",
     "output_type": "stream",
     "text": [
      "===== 调试信息：服务器返回 =====\n",
      "{\"id\":\"0194dc745da2e648c5d7f3c375987e9e\",\"object\":\"chat.completion\",\"created\":1738865401,\"model\":\"Qwen/Qwen2.5-32B-Instruct\",\"choices\":[{\"index\":0,\"message\":{\"role\":\"assistant\",\"content\":\"{\\n  \\\"classification\\\": \\\"国际政治\\\",\\n  \\\"sentiment\\\": \\\"neutral\\\"\\n}\"},\"finish_reason\":\"stop\"}],\"usage\":{\"prompt_tokens\":967,\"completion_tokens\":18,\"total_tokens\":985},\"system_fingerprint\":\"\"}\n",
      "=============================\n",
      "\n"
     ]
    },
    {
     "name": "stderr",
     "output_type": "stream",
     "text": [
      "Processing:  64%|██████▍   | 677/1060 [30:38<09:17,  1.46s/it]"
     ]
    },
    {
     "name": "stdout",
     "output_type": "stream",
     "text": [
      "===== 调试信息：服务器返回 =====\n",
      "{\"id\":\"0194dc7461e562274e21357ff926b36e\",\"object\":\"chat.completion\",\"created\":1738865402,\"model\":\"Qwen/Qwen2.5-32B-Instruct\",\"choices\":[{\"index\":0,\"message\":{\"role\":\"assistant\",\"content\":\"{\\n  \\\"classification\\\": \\\"经济\\\",\\n  \\\"sentiment\\\": \\\"negative\\\"\\n}\"},\"finish_reason\":\"stop\"}],\"usage\":{\"prompt_tokens\":1967,\"completion_tokens\":17,\"total_tokens\":1984},\"system_fingerprint\":\"\"}\n",
      "=============================\n",
      "\n"
     ]
    },
    {
     "name": "stderr",
     "output_type": "stream",
     "text": [
      "Processing:  64%|██████▍   | 678/1060 [30:39<08:46,  1.38s/it]"
     ]
    },
    {
     "name": "stdout",
     "output_type": "stream",
     "text": [
      "===== 调试信息：服务器返回 =====\n",
      "{\"id\":\"0194dc746696e737ef1d9d5e1b50eff9\",\"object\":\"chat.completion\",\"created\":1738865403,\"model\":\"Qwen/Qwen2.5-32B-Instruct\",\"choices\":[{\"index\":0,\"message\":{\"role\":\"assistant\",\"content\":\"{\\n  \\\"classification\\\": \\\"军事和防御\\\",\\n  \\\"sentiment\\\": \\\"negative\\\"\\n}\"},\"finish_reason\":\"stop\"}],\"usage\":{\"prompt_tokens\":1084,\"completion_tokens\":19,\"total_tokens\":1103},\"system_fingerprint\":\"\"}\n",
      "=============================\n",
      "\n"
     ]
    },
    {
     "name": "stderr",
     "output_type": "stream",
     "text": [
      "Processing:  64%|██████▍   | 679/1060 [30:40<08:17,  1.31s/it]"
     ]
    },
    {
     "name": "stdout",
     "output_type": "stream",
     "text": [
      "===== 调试信息：服务器返回 =====\n",
      "{\"id\":\"0194dc746b04bd9eea57bcacd5e97886\",\"object\":\"chat.completion\",\"created\":1738865404,\"model\":\"Qwen/Qwen2.5-32B-Instruct\",\"choices\":[{\"index\":0,\"message\":{\"role\":\"assistant\",\"content\":\"{\\n  \\\"classification\\\": \\\"时尚\\\",\\n  \\\"sentiment\\\": \\\"positive\\\"\\n}\"},\"finish_reason\":\"stop\"}],\"usage\":{\"prompt_tokens\":1484,\"completion_tokens\":17,\"total_tokens\":1501},\"system_fingerprint\":\"\"}\n",
      "=============================\n",
      "\n"
     ]
    },
    {
     "name": "stderr",
     "output_type": "stream",
     "text": [
      "Processing:  64%|██████▍   | 680/1060 [30:41<08:00,  1.26s/it]"
     ]
    },
    {
     "name": "stdout",
     "output_type": "stream",
     "text": [
      "===== 调试信息：服务器返回 =====\n",
      "{\"id\":\"0194dc746f8e9bd989bf372eb56a65e0\",\"object\":\"chat.completion\",\"created\":1738865405,\"model\":\"Qwen/Qwen2.5-32B-Instruct\",\"choices\":[{\"index\":0,\"message\":{\"role\":\"assistant\",\"content\":\"{\\n  \\\"classification\\\": \\\"商务活动\\\",\\n  \\\"sentiment\\\": \\\"neutral\\\"\\n}\"},\"finish_reason\":\"stop\"}],\"usage\":{\"prompt_tokens\":1632,\"completion_tokens\":18,\"total_tokens\":1650},\"system_fingerprint\":\"\"}\n",
      "=============================\n",
      "\n"
     ]
    },
    {
     "name": "stderr",
     "output_type": "stream",
     "text": [
      "Processing:  64%|██████▍   | 681/1060 [30:42<07:49,  1.24s/it]"
     ]
    },
    {
     "name": "stdout",
     "output_type": "stream",
     "text": [
      "===== 调试信息：服务器返回 =====\n",
      "{\"id\":\"0194dc747449ec792285a790430c7b38\",\"object\":\"chat.completion\",\"created\":1738865407,\"model\":\"Qwen/Qwen2.5-32B-Instruct\",\"choices\":[{\"index\":0,\"message\":{\"role\":\"assistant\",\"content\":\"{\\n  \\\"classification\\\": \\\"商务活动\\\",\\n  \\\"sentiment\\\": \\\"neutral\\\"\\n}\"},\"finish_reason\":\"stop\"}],\"usage\":{\"prompt_tokens\":1632,\"completion_tokens\":18,\"total_tokens\":1650},\"system_fingerprint\":\"\"}\n",
      "=============================\n",
      "\n"
     ]
    },
    {
     "name": "stderr",
     "output_type": "stream",
     "text": [
      "Processing:  64%|██████▍   | 682/1060 [30:44<07:46,  1.23s/it]"
     ]
    },
    {
     "name": "stdout",
     "output_type": "stream",
     "text": [
      "===== 调试信息：服务器返回 =====\n",
      "{\"id\":\"0194dc7478f18709c531c55e64aaa2dc\",\"object\":\"chat.completion\",\"created\":1738865408,\"model\":\"Qwen/Qwen2.5-32B-Instruct\",\"choices\":[{\"index\":0,\"message\":{\"role\":\"assistant\",\"content\":\"{\\n  \\\"classification\\\": \\\"军事和防御\\\",\\n  \\\"sentiment\\\": \\\"negative\\\"\\n}\"},\"finish_reason\":\"stop\"}],\"usage\":{\"prompt_tokens\":1362,\"completion_tokens\":19,\"total_tokens\":1381},\"system_fingerprint\":\"\"}\n",
      "=============================\n",
      "\n"
     ]
    },
    {
     "name": "stderr",
     "output_type": "stream",
     "text": [
      "Processing:  64%|██████▍   | 683/1060 [30:45<07:49,  1.25s/it]"
     ]
    },
    {
     "name": "stdout",
     "output_type": "stream",
     "text": [
      "===== 调试信息：服务器返回 =====\n",
      "{\"id\":\"0194dc747e099da91cb65a3530fc72a4\",\"object\":\"chat.completion\",\"created\":1738865409,\"model\":\"Qwen/Qwen2.5-32B-Instruct\",\"choices\":[{\"index\":0,\"message\":{\"role\":\"assistant\",\"content\":\"{\\n  \\\"classification\\\": \\\"传播\\\",\\n  \\\"sentiment\\\": \\\"pleasure\\\"\\n}\"},\"finish_reason\":\"stop\"}],\"usage\":{\"prompt_tokens\":1475,\"completion_tokens\":18,\"total_tokens\":1493},\"system_fingerprint\":\"\"}\n",
      "=============================\n",
      "\n"
     ]
    },
    {
     "name": "stderr",
     "output_type": "stream",
     "text": [
      "Processing:  65%|██████▍   | 684/1060 [30:46<07:41,  1.23s/it]"
     ]
    },
    {
     "name": "stdout",
     "output_type": "stream",
     "text": [
      "===== 调试信息：服务器返回 =====\n",
      "{\"id\":\"0194dc7482d1891d6e13f717f04b52e4\",\"object\":\"chat.completion\",\"created\":1738865410,\"model\":\"Qwen/Qwen2.5-32B-Instruct\",\"choices\":[{\"index\":0,\"message\":{\"role\":\"assistant\",\"content\":\"{\\n  \\\"classification\\\": \\\"经济\\\",\\n  \\\"sentiment\\\": \\\"negative\\\"\\n}\"},\"finish_reason\":\"stop\"}],\"usage\":{\"prompt_tokens\":1346,\"completion_tokens\":17,\"total_tokens\":1363},\"system_fingerprint\":\"\"}\n",
      "=============================\n",
      "\n"
     ]
    },
    {
     "name": "stderr",
     "output_type": "stream",
     "text": [
      "Processing:  65%|██████▍   | 685/1060 [30:47<07:36,  1.22s/it]"
     ]
    },
    {
     "name": "stdout",
     "output_type": "stream",
     "text": [
      "===== 调试信息：服务器返回 =====\n",
      "{\"id\":\"0194dc748743bc9a0462303a8b4631f4\",\"object\":\"chat.completion\",\"created\":1738865411,\"model\":\"Qwen/Qwen2.5-32B-Instruct\",\"choices\":[{\"index\":0,\"message\":{\"role\":\"assistant\",\"content\":\"{\\n  \\\"classification\\\": \\\"灾害\\\",\\n  \\\"sentiment\\\": \\\"negative\\\"\\n}\"},\"finish_reason\":\"stop\"}],\"usage\":{\"prompt_tokens\":1852,\"completion_tokens\":17,\"total_tokens\":1869},\"system_fingerprint\":\"\"}\n",
      "=============================\n",
      "\n"
     ]
    },
    {
     "name": "stderr",
     "output_type": "stream",
     "text": [
      "Processing:  65%|██████▍   | 686/1060 [30:49<07:33,  1.21s/it]"
     ]
    },
    {
     "name": "stdout",
     "output_type": "stream",
     "text": [
      "===== 调试信息：服务器返回 =====\n",
      "{\"id\":\"0194dc748bfb941b381ba8e1efe98adc\",\"object\":\"chat.completion\",\"created\":1738865413,\"model\":\"Qwen/Qwen2.5-32B-Instruct\",\"choices\":[{\"index\":0,\"message\":{\"role\":\"assistant\",\"content\":\"{\\n  \\\"classification\\\": \\\"国内政治\\\",\\n  \\\"sentiment\\\": \\\"negative\\\"\\n}\"},\"finish_reason\":\"stop\"}],\"usage\":{\"prompt_tokens\":1677,\"completion_tokens\":18,\"total_tokens\":1695},\"system_fingerprint\":\"\"}\n",
      "=============================\n",
      "\n"
     ]
    },
    {
     "name": "stderr",
     "output_type": "stream",
     "text": [
      "Processing:  65%|██████▍   | 687/1060 [30:50<07:30,  1.21s/it]"
     ]
    },
    {
     "name": "stdout",
     "output_type": "stream",
     "text": [
      "===== 调试信息：服务器返回 =====\n",
      "{\"id\":\"0194dc7490a668539489ea03ad462672\",\"object\":\"chat.completion\",\"created\":1738865414,\"model\":\"Qwen/Qwen2.5-32B-Instruct\",\"choices\":[{\"index\":0,\"message\":{\"role\":\"assistant\",\"content\":\"{\\n  \\\"classification\\\": \\\"国际政治\\\",\\n  \\\"sentiment\\\": \\\"neutral\\\"\\n}\"},\"finish_reason\":\"stop\"}],\"usage\":{\"prompt_tokens\":1693,\"completion_tokens\":18,\"total_tokens\":1711},\"system_fingerprint\":\"\"}\n",
      "=============================\n",
      "\n"
     ]
    },
    {
     "name": "stderr",
     "output_type": "stream",
     "text": [
      "Processing:  65%|██████▍   | 688/1060 [30:51<07:32,  1.22s/it]"
     ]
    },
    {
     "name": "stdout",
     "output_type": "stream",
     "text": [
      "===== 调试信息：服务器返回 =====\n",
      "{\"id\":\"0194dc749560ca9540f75aacb47dde77\",\"object\":\"chat.completion\",\"created\":1738865415,\"model\":\"Qwen/Qwen2.5-32B-Instruct\",\"choices\":[{\"index\":0,\"message\":{\"role\":\"assistant\",\"content\":\"{\\n  \\\"classification\\\": \\\"体育\\\",\\n  \\\"sentiment\\\": \\\"negative\\\"\\n}\"},\"finish_reason\":\"stop\"}],\"usage\":{\"prompt_tokens\":677,\"completion_tokens\":17,\"total_tokens\":694},\"system_fingerprint\":\"\"}\n",
      "=============================\n",
      "\n"
     ]
    },
    {
     "name": "stderr",
     "output_type": "stream",
     "text": [
      "Processing:  65%|██████▌   | 689/1060 [30:52<07:18,  1.18s/it]"
     ]
    },
    {
     "name": "stdout",
     "output_type": "stream",
     "text": [
      "===== 调试信息：服务器返回 =====\n",
      "{\"id\":\"0194dc7499dd12739e20405eb78e100c\",\"object\":\"chat.completion\",\"created\":1738865416,\"model\":\"Qwen/Qwen2.5-32B-Instruct\",\"choices\":[{\"index\":0,\"message\":{\"role\":\"assistant\",\"content\":\"{\\n  \\\"classification\\\": \\\"国际政治\\\",\\n  \\\"sentiment\\\": \\\"neutral\\\"\\n}\"},\"finish_reason\":\"stop\"}],\"usage\":{\"prompt_tokens\":860,\"completion_tokens\":18,\"total_tokens\":878},\"system_fingerprint\":\"\"}\n",
      "=============================\n",
      "\n"
     ]
    },
    {
     "name": "stderr",
     "output_type": "stream",
     "text": [
      "Processing:  65%|██████▌   | 690/1060 [30:53<07:30,  1.22s/it]"
     ]
    },
    {
     "name": "stdout",
     "output_type": "stream",
     "text": [
      "===== 调试信息：服务器返回 =====\n",
      "{\"id\":\"0194dc749ed82833492ecd9c7335a66c\",\"object\":\"chat.completion\",\"created\":1738865417,\"model\":\"Qwen/Qwen2.5-32B-Instruct\",\"choices\":[{\"index\":0,\"message\":{\"role\":\"assistant\",\"content\":\"{\\n  \\\"classification\\\": \\\"环境\\\",\\n  \\\"sentiment\\\": \\\"negative\\\"\\n}\"},\"finish_reason\":\"stop\"}],\"usage\":{\"prompt_tokens\":2675,\"completion_tokens\":17,\"total_tokens\":2692},\"system_fingerprint\":\"\"}\n",
      "=============================\n",
      "\n"
     ]
    },
    {
     "name": "stderr",
     "output_type": "stream",
     "text": [
      "Processing:  65%|██████▌   | 691/1060 [30:55<07:53,  1.28s/it]"
     ]
    },
    {
     "name": "stdout",
     "output_type": "stream",
     "text": [
      "===== 调试信息：服务器返回 =====\n",
      "{\"id\":\"0194dc74a472e8e2792707582ceea579\",\"object\":\"chat.completion\",\"created\":1738865419,\"model\":\"Qwen/Qwen2.5-32B-Instruct\",\"choices\":[{\"index\":0,\"message\":{\"role\":\"assistant\",\"content\":\"{\\n  \\\"classification\\\": \\\"国际政治\\\",\\n  \\\"sentiment\\\": \\\"negative\\\"\\n}\"},\"finish_reason\":\"stop\"}],\"usage\":{\"prompt_tokens\":555,\"completion_tokens\":18,\"total_tokens\":573},\"system_fingerprint\":\"\"}\n",
      "=============================\n",
      "\n"
     ]
    },
    {
     "name": "stderr",
     "output_type": "stream",
     "text": [
      "Processing:  65%|██████▌   | 692/1060 [30:56<07:26,  1.21s/it]"
     ]
    },
    {
     "name": "stdout",
     "output_type": "stream",
     "text": [
      "===== 调试信息：服务器返回 =====\n",
      "{\"id\":\"0194dc74a8bfd5249390b571cde18e6f\",\"object\":\"chat.completion\",\"created\":1738865420,\"model\":\"Qwen/Qwen2.5-32B-Instruct\",\"choices\":[{\"index\":0,\"message\":{\"role\":\"assistant\",\"content\":\"{\\n  \\\"classification\\\": \\\"交通\\\",\\n  \\\"sentiment\\\": \\\"neutral\\\"\\n}\"},\"finish_reason\":\"stop\"}],\"usage\":{\"prompt_tokens\":6100,\"completion_tokens\":17,\"total_tokens\":6117},\"system_fingerprint\":\"\"}\n",
      "=============================\n",
      "\n"
     ]
    },
    {
     "name": "stderr",
     "output_type": "stream",
     "text": [
      "Processing:  65%|██████▌   | 693/1060 [30:58<08:48,  1.44s/it]"
     ]
    },
    {
     "name": "stdout",
     "output_type": "stream",
     "text": [
      "===== 调试信息：服务器返回 =====\n",
      "{\"id\":\"0194dc74b0459a95fa512a5485f43cec\",\"object\":\"chat.completion\",\"created\":1738865422,\"model\":\"Qwen/Qwen2.5-32B-Instruct\",\"choices\":[{\"index\":0,\"message\":{\"role\":\"assistant\",\"content\":\"{\\n  \\\"classification\\\": \\\"环境\\\",\\n  \\\"sentiment\\\": \\\"negative\\\"\\n}\"},\"finish_reason\":\"stop\"}],\"usage\":{\"prompt_tokens\":3343,\"completion_tokens\":17,\"total_tokens\":3360},\"system_fingerprint\":\"\"}\n",
      "=============================\n",
      "\n"
     ]
    },
    {
     "name": "stderr",
     "output_type": "stream",
     "text": [
      "Processing:  65%|██████▌   | 694/1060 [30:59<08:49,  1.45s/it]"
     ]
    },
    {
     "name": "stdout",
     "output_type": "stream",
     "text": [
      "===== 调试信息：服务器返回 =====\n",
      "{\"id\":\"0194dc74b5fbd921d7e8a366d71328eb\",\"object\":\"chat.completion\",\"created\":1738865423,\"model\":\"Qwen/Qwen2.5-32B-Instruct\",\"choices\":[{\"index\":0,\"message\":{\"role\":\"assistant\",\"content\":\"{\\n  \\\"classification\\\": \\\"经济\\\",\\n  \\\"sentiment\\\": \\\"neutral\\\"\\n}\"},\"finish_reason\":\"stop\"}],\"usage\":{\"prompt_tokens\":857,\"completion_tokens\":17,\"total_tokens\":874},\"system_fingerprint\":\"\"}\n",
      "=============================\n",
      "\n"
     ]
    },
    {
     "name": "stderr",
     "output_type": "stream",
     "text": [
      "Processing:  66%|██████▌   | 695/1060 [31:00<08:10,  1.34s/it]"
     ]
    },
    {
     "name": "stdout",
     "output_type": "stream",
     "text": [
      "===== 调试信息：服务器返回 =====\n",
      "{\"id\":\"0194dc74ba577ef7176d4e6b9038c1d8\",\"object\":\"chat.completion\",\"created\":1738865424,\"model\":\"Qwen/Qwen2.5-32B-Instruct\",\"choices\":[{\"index\":0,\"message\":{\"role\":\"assistant\",\"content\":\"{\\n  \\\"classification\\\": \\\"体育\\\",\\n  \\\"sentiment\\\": \\\"negative\\\"\\n}\"},\"finish_reason\":\"stop\"}],\"usage\":{\"prompt_tokens\":965,\"completion_tokens\":17,\"total_tokens\":982},\"system_fingerprint\":\"\"}\n",
      "=============================\n",
      "\n"
     ]
    },
    {
     "name": "stderr",
     "output_type": "stream",
     "text": [
      "Processing:  66%|██████▌   | 696/1060 [31:02<07:47,  1.28s/it]"
     ]
    },
    {
     "name": "stdout",
     "output_type": "stream",
     "text": [
      "===== 调试信息：服务器返回 =====\n",
      "{\"id\":\"0194dc74beb243c974f85504f4d413f7\",\"object\":\"chat.completion\",\"created\":1738865426,\"model\":\"Qwen/Qwen2.5-32B-Instruct\",\"choices\":[{\"index\":0,\"message\":{\"role\":\"assistant\",\"content\":\"{\\n  \\\"classification\\\": \\\"商务活动\\\",\\n  \\\"sentiment\\\": \\\"positive\\\"\\n}\"},\"finish_reason\":\"stop\"}],\"usage\":{\"prompt_tokens\":2656,\"completion_tokens\":18,\"total_tokens\":2674},\"system_fingerprint\":\"\"}\n",
      "=============================\n",
      "\n"
     ]
    },
    {
     "name": "stderr",
     "output_type": "stream",
     "text": [
      "Processing:  66%|██████▌   | 697/1060 [31:03<07:59,  1.32s/it]"
     ]
    },
    {
     "name": "stdout",
     "output_type": "stream",
     "text": [
      "===== 调试信息：服务器返回 =====\n",
      "{\"id\":\"0194dc74c443987c25cc2883d48e978b\",\"object\":\"chat.completion\",\"created\":1738865427,\"model\":\"Qwen/Qwen2.5-32B-Instruct\",\"choices\":[{\"index\":0,\"message\":{\"role\":\"assistant\",\"content\":\"{\\n  \\\"classification\\\": \\\"传播\\\",\\n  \\\"sentiment\\\": \\\"pleasure\\\"\\n}\"},\"finish_reason\":\"stop\"}],\"usage\":{\"prompt_tokens\":1554,\"completion_tokens\":18,\"total_tokens\":1572},\"system_fingerprint\":\"\"}\n",
      "=============================\n",
      "\n"
     ]
    },
    {
     "name": "stderr",
     "output_type": "stream",
     "text": [
      "Processing:  66%|██████▌   | 698/1060 [31:05<08:27,  1.40s/it]"
     ]
    },
    {
     "name": "stdout",
     "output_type": "stream",
     "text": [
      "===== 调试信息：服务器返回 =====\n",
      "{\"id\":\"0194dc74ca84194be5554b32a686f029\",\"object\":\"chat.completion\",\"created\":1738865429,\"model\":\"Qwen/Qwen2.5-32B-Instruct\",\"choices\":[{\"index\":0,\"message\":{\"role\":\"assistant\",\"content\":\"{\\n  \\\"classification\\\": \\\"商务活动\\\",\\n  \\\"sentiment\\\": \\\"negative\\\"\\n}\"},\"finish_reason\":\"stop\"}],\"usage\":{\"prompt_tokens\":977,\"completion_tokens\":18,\"total_tokens\":995},\"system_fingerprint\":\"\"}\n",
      "=============================\n",
      "\n"
     ]
    },
    {
     "name": "stderr",
     "output_type": "stream",
     "text": [
      "Processing:  66%|██████▌   | 699/1060 [31:06<08:39,  1.44s/it]"
     ]
    },
    {
     "name": "stdout",
     "output_type": "stream",
     "text": [
      "===== 调试信息：服务器返回 =====\n",
      "{\"id\":\"0194dc74d075d536e6c8d19fb7d7c225\",\"object\":\"chat.completion\",\"created\":1738865430,\"model\":\"Qwen/Qwen2.5-32B-Instruct\",\"choices\":[{\"index\":0,\"message\":{\"role\":\"assistant\",\"content\":\"{\\n  \\\"classification\\\": \\\"国际政治\\\",\\n  \\\"sentiment\\\": \\\"neutral\\\"\\n}\"},\"finish_reason\":\"stop\"}],\"usage\":{\"prompt_tokens\":2114,\"completion_tokens\":18,\"total_tokens\":2132},\"system_fingerprint\":\"\"}\n",
      "=============================\n",
      "\n"
     ]
    },
    {
     "name": "stderr",
     "output_type": "stream",
     "text": [
      "Processing:  66%|██████▌   | 700/1060 [31:08<09:01,  1.50s/it]"
     ]
    },
    {
     "name": "stdout",
     "output_type": "stream",
     "text": [
      "===== 调试信息：服务器返回 =====\n",
      "{\"id\":\"0194dc74d6ff7cbbb2fc4f6f82888618\",\"object\":\"chat.completion\",\"created\":1738865432,\"model\":\"Qwen/Qwen2.5-32B-Instruct\",\"choices\":[{\"index\":0,\"message\":{\"role\":\"assistant\",\"content\":\"{\\n  \\\"classification\\\": \\\"科技\\\",\\n  \\\"sentiment\\\": \\\"positive\\\"\\n}\"},\"finish_reason\":\"stop\"}],\"usage\":{\"prompt_tokens\":2241,\"completion_tokens\":17,\"total_tokens\":2258},\"system_fingerprint\":\"\"}\n",
      "=============================\n",
      "\n"
     ]
    },
    {
     "name": "stderr",
     "output_type": "stream",
     "text": [
      "Processing:  66%|██████▌   | 701/1060 [31:09<09:11,  1.54s/it]"
     ]
    },
    {
     "name": "stdout",
     "output_type": "stream",
     "text": [
      "===== 调试信息：服务器返回 =====\n",
      "{\"id\":\"0194dc74dd2997e2b9242b29c5ddc698\",\"object\":\"chat.completion\",\"created\":1738865433,\"model\":\"Qwen/Qwen2.5-32B-Instruct\",\"choices\":[{\"index\":0,\"message\":{\"role\":\"assistant\",\"content\":\"{\\n  \\\"classification\\\": \\\"商务活动\\\",\\n  \\\"sentiment\\\": \\\"positive\\\"\\n}\"},\"finish_reason\":\"stop\"}],\"usage\":{\"prompt_tokens\":931,\"completion_tokens\":18,\"total_tokens\":949},\"system_fingerprint\":\"\"}\n",
      "=============================\n",
      "\n"
     ]
    },
    {
     "name": "stderr",
     "output_type": "stream",
     "text": [
      "Processing:  66%|██████▌   | 702/1060 [31:10<08:24,  1.41s/it]"
     ]
    },
    {
     "name": "stdout",
     "output_type": "stream",
     "text": [
      "===== 调试信息：服务器返回 =====\n",
      "{\"id\":\"0194dc74e1aeabe8ab345868b810dd67\",\"object\":\"chat.completion\",\"created\":1738865435,\"model\":\"Qwen/Qwen2.5-32B-Instruct\",\"choices\":[{\"index\":0,\"message\":{\"role\":\"assistant\",\"content\":\"{\\n  \\\"classification\\\": \\\"国际政治\\\",\\n  \\\"sentiment\\\": \\\"negative\\\"\\n}\"},\"finish_reason\":\"stop\"}],\"usage\":{\"prompt_tokens\":4542,\"completion_tokens\":18,\"total_tokens\":4560},\"system_fingerprint\":\"\"}\n",
      "=============================\n",
      "\n"
     ]
    },
    {
     "name": "stderr",
     "output_type": "stream",
     "text": [
      "Processing:  66%|██████▋   | 703/1060 [31:12<08:56,  1.50s/it]"
     ]
    },
    {
     "name": "stdout",
     "output_type": "stream",
     "text": [
      "===== 调试信息：服务器返回 =====\n",
      "{\"id\":\"0194dc74e83232d1167101ff8f325528\",\"object\":\"chat.completion\",\"created\":1738865436,\"model\":\"Qwen/Qwen2.5-32B-Instruct\",\"choices\":[{\"index\":0,\"message\":{\"role\":\"assistant\",\"content\":\"{\\n  \\\"classification\\\": \\\"卫生福利\\\",\\n  \\\"sentiment\\\": \\\"pleasure\\\"\\n}\"},\"finish_reason\":\"stop\"}],\"usage\":{\"prompt_tokens\":1525,\"completion_tokens\":19,\"total_tokens\":1544},\"system_fingerprint\":\"\"}\n",
      "=============================\n",
      "\n"
     ]
    },
    {
     "name": "stderr",
     "output_type": "stream",
     "text": [
      "Processing:  66%|██████▋   | 704/1060 [31:13<08:18,  1.40s/it]"
     ]
    },
    {
     "name": "stdout",
     "output_type": "stream",
     "text": [
      "===== 调试信息：服务器返回 =====\n",
      "{\"id\":\"0194dc74ecca0d1293e69b009a55d900\",\"object\":\"chat.completion\",\"created\":1738865437,\"model\":\"Qwen/Qwen2.5-32B-Instruct\",\"choices\":[{\"index\":0,\"message\":{\"role\":\"assistant\",\"content\":\"{\\n  \\\"classification\\\": \\\"经济\\\",\\n  \\\"sentiment\\\": \\\"positive\\\"\\n}\"},\"finish_reason\":\"stop\"}],\"usage\":{\"prompt_tokens\":1548,\"completion_tokens\":17,\"total_tokens\":1565},\"system_fingerprint\":\"\"}\n",
      "=============================\n",
      "\n"
     ]
    },
    {
     "name": "stderr",
     "output_type": "stream",
     "text": [
      "Processing:  67%|██████▋   | 705/1060 [31:14<07:52,  1.33s/it]"
     ]
    },
    {
     "name": "stdout",
     "output_type": "stream",
     "text": [
      "===== 调试信息：服务器返回 =====\n",
      "{\"id\":\"0194dc74f158dd8bb8aaaeaecb7be8e9\",\"object\":\"chat.completion\",\"created\":1738865439,\"model\":\"Qwen/Qwen2.5-32B-Instruct\",\"choices\":[{\"index\":0,\"message\":{\"role\":\"assistant\",\"content\":\"{\\n  \\\"classification\\\": \\\"国内政治\\\",\\n  \\\"sentiment\\\": \\\"neutral\\\"\\n}\"},\"finish_reason\":\"stop\"}],\"usage\":{\"prompt_tokens\":1866,\"completion_tokens\":18,\"total_tokens\":1884},\"system_fingerprint\":\"\"}\n",
      "=============================\n",
      "\n"
     ]
    },
    {
     "name": "stderr",
     "output_type": "stream",
     "text": [
      "Processing:  67%|██████▋   | 706/1060 [31:16<07:42,  1.31s/it]"
     ]
    },
    {
     "name": "stdout",
     "output_type": "stream",
     "text": [
      "触发速率限制 (HTTP 429)，等待60秒后重试...\n",
      "===== 调试信息：服务器返回 =====\n",
      "{\"id\":\"0194dc75e1545b42f6dab089aa594047\",\"object\":\"chat.completion\",\"created\":1738865500,\"model\":\"Qwen/Qwen2.5-32B-Instruct\",\"choices\":[{\"index\":0,\"message\":{\"role\":\"assistant\",\"content\":\"{\\n  \\\"classification\\\": \\\"国内政治\\\",\\n  \\\"sentiment\\\": \\\"neutral\\\"\\n}\"},\"finish_reason\":\"stop\"}],\"usage\":{\"prompt_tokens\":1866,\"completion_tokens\":18,\"total_tokens\":1884},\"system_fingerprint\":\"\"}\n",
      "=============================\n",
      "\n"
     ]
    },
    {
     "name": "stderr",
     "output_type": "stream",
     "text": [
      "Processing:  67%|██████▋   | 707/1060 [32:17<1:53:25, 19.28s/it]"
     ]
    },
    {
     "name": "stdout",
     "output_type": "stream",
     "text": [
      "===== 调试信息：服务器返回 =====\n",
      "{\"id\":\"0194dc75e5544131ab2ee6c2c381513b\",\"object\":\"chat.completion\",\"created\":1738865501,\"model\":\"Qwen/Qwen2.5-32B-Instruct\",\"choices\":[{\"index\":0,\"message\":{\"role\":\"assistant\",\"content\":\"{\\n  \\\"classification\\\": \\\"经济\\\",\\n  \\\"sentiment\\\": \\\"neutral\\\"\\n}\"},\"finish_reason\":\"stop\"}],\"usage\":{\"prompt_tokens\":1443,\"completion_tokens\":17,\"total_tokens\":1460},\"system_fingerprint\":\"\"}\n",
      "=============================\n",
      "\n"
     ]
    },
    {
     "name": "stderr",
     "output_type": "stream",
     "text": [
      "Processing:  67%|██████▋   | 708/1060 [32:18<1:21:13, 13.84s/it]"
     ]
    },
    {
     "name": "stdout",
     "output_type": "stream",
     "text": [
      "===== 调试信息：服务器返回 =====\n",
      "{\"id\":\"0194dc75ea04666865dbea73c353e560\",\"object\":\"chat.completion\",\"created\":1738865502,\"model\":\"Qwen/Qwen2.5-32B-Instruct\",\"choices\":[{\"index\":0,\"message\":{\"role\":\"assistant\",\"content\":\"{\\n  \\\"classification\\\": \\\"科技\\\",\\n  \\\"sentiment\\\": \\\"pleasure\\\"\\n}\"},\"finish_reason\":\"stop\"}],\"usage\":{\"prompt_tokens\":1544,\"completion_tokens\":18,\"total_tokens\":1562},\"system_fingerprint\":\"\"}\n",
      "=============================\n",
      "\n"
     ]
    },
    {
     "name": "stderr",
     "output_type": "stream",
     "text": [
      "Processing:  67%|██████▋   | 709/1060 [32:20<59:12, 10.12s/it]  "
     ]
    },
    {
     "name": "stdout",
     "output_type": "stream",
     "text": [
      "===== 调试信息：服务器返回 =====\n",
      "{\"id\":\"0194dc75efa75b526d878013891290d2\",\"object\":\"chat.completion\",\"created\":1738865504,\"model\":\"Qwen/Qwen2.5-32B-Instruct\",\"choices\":[{\"index\":0,\"message\":{\"role\":\"assistant\",\"content\":\"{\\n  \\\"classification\\\": \\\"国际政治\\\",\\n  \\\"sentiment\\\": \\\"negative\\\"\\n}\"},\"finish_reason\":\"stop\"}],\"usage\":{\"prompt_tokens\":3493,\"completion_tokens\":18,\"total_tokens\":3511},\"system_fingerprint\":\"\"}\n",
      "=============================\n",
      "\n"
     ]
    },
    {
     "name": "stderr",
     "output_type": "stream",
     "text": [
      "Processing:  67%|██████▋   | 710/1060 [32:21<44:12,  7.58s/it]"
     ]
    },
    {
     "name": "stdout",
     "output_type": "stream",
     "text": [
      "===== 调试信息：服务器返回 =====\n",
      "{\"id\":\"0194dc75f61e20de17f9da05042e273c\",\"object\":\"chat.completion\",\"created\":1738865505,\"model\":\"Qwen/Qwen2.5-32B-Instruct\",\"choices\":[{\"index\":0,\"message\":{\"role\":\"assistant\",\"content\":\"{\\n  \\\"classification\\\": \\\"国际政治\\\",\\n  \\\"sentiment\\\": \\\"negative\\\"\\n}\"},\"finish_reason\":\"stop\"}],\"usage\":{\"prompt_tokens\":1502,\"completion_tokens\":18,\"total_tokens\":1520},\"system_fingerprint\":\"\"}\n",
      "=============================\n",
      "\n"
     ]
    },
    {
     "name": "stderr",
     "output_type": "stream",
     "text": [
      "Processing:  67%|██████▋   | 711/1060 [32:22<32:57,  5.67s/it]"
     ]
    },
    {
     "name": "stdout",
     "output_type": "stream",
     "text": [
      "===== 调试信息：服务器返回 =====\n",
      "{\"id\":\"0194dc75fb15d9c803e8218fb1aa5835\",\"object\":\"chat.completion\",\"created\":1738865507,\"model\":\"Qwen/Qwen2.5-32B-Instruct\",\"choices\":[{\"index\":0,\"message\":{\"role\":\"assistant\",\"content\":\"{\\n  \\\"classification\\\": \\\"科技\\\",\\n  \\\"sentiment\\\": \\\"pleasure\\\"\\n}\"},\"finish_reason\":\"stop\"}],\"usage\":{\"prompt_tokens\":1266,\"completion_tokens\":18,\"total_tokens\":1284},\"system_fingerprint\":\"\"}\n",
      "=============================\n",
      "\n"
     ]
    },
    {
     "name": "stderr",
     "output_type": "stream",
     "text": [
      "Processing:  67%|██████▋   | 712/1060 [32:24<25:11,  4.34s/it]"
     ]
    },
    {
     "name": "stdout",
     "output_type": "stream",
     "text": [
      "===== 调试信息：服务器返回 =====\n",
      "{\"id\":\"0194dc75ffab7d15bfbf59d2e97ec246\",\"object\":\"chat.completion\",\"created\":1738865508,\"model\":\"Qwen/Qwen2.5-32B-Instruct\",\"choices\":[{\"index\":0,\"message\":{\"role\":\"assistant\",\"content\":\"{\\n  \\\"classification\\\": \\\"国内政治\\\",\\n  \\\"sentiment\\\": \\\"neutral\\\"\\n}\"},\"finish_reason\":\"stop\"}],\"usage\":{\"prompt_tokens\":3594,\"completion_tokens\":18,\"total_tokens\":3612},\"system_fingerprint\":\"\"}\n",
      "=============================\n",
      "\n"
     ]
    },
    {
     "name": "stderr",
     "output_type": "stream",
     "text": [
      "Processing:  67%|██████▋   | 713/1060 [32:25<20:27,  3.54s/it]"
     ]
    },
    {
     "name": "stdout",
     "output_type": "stream",
     "text": [
      "===== 调试信息：服务器返回 =====\n",
      "{\"id\":\"0194dc760615d0f2d6227fb8587356b3\",\"object\":\"chat.completion\",\"created\":1738865509,\"model\":\"Qwen/Qwen2.5-32B-Instruct\",\"choices\":[{\"index\":0,\"message\":{\"role\":\"assistant\",\"content\":\"{\\n  \\\"classification\\\": \\\"卫生福利\\\",\\n  \\\"sentiment\\\": \\\"negative\\\"\\n}\"},\"finish_reason\":\"stop\"}],\"usage\":{\"prompt_tokens\":2545,\"completion_tokens\":18,\"total_tokens\":2563},\"system_fingerprint\":\"\"}\n",
      "=============================\n",
      "\n"
     ]
    },
    {
     "name": "stderr",
     "output_type": "stream",
     "text": [
      "Processing:  67%|██████▋   | 714/1060 [32:27<16:43,  2.90s/it]"
     ]
    },
    {
     "name": "stdout",
     "output_type": "stream",
     "text": [
      "===== 调试信息：服务器返回 =====\n",
      "{\"id\":\"0194dc760ba472f348b2892eb6d1c018\",\"object\":\"chat.completion\",\"created\":1738865511,\"model\":\"Qwen/Qwen2.5-32B-Instruct\",\"choices\":[{\"index\":0,\"message\":{\"role\":\"assistant\",\"content\":\"{\\n  \\\"classification\\\": \\\"卫生福利\\\",\\n  \\\"sentiment\\\": \\\"negative\\\"\\n}\"},\"finish_reason\":\"stop\"}],\"usage\":{\"prompt_tokens\":1923,\"completion_tokens\":18,\"total_tokens\":1941},\"system_fingerprint\":\"\"}\n",
      "=============================\n",
      "\n"
     ]
    },
    {
     "name": "stderr",
     "output_type": "stream",
     "text": [
      "Processing:  67%|██████▋   | 715/1060 [32:28<13:50,  2.41s/it]"
     ]
    },
    {
     "name": "stdout",
     "output_type": "stream",
     "text": [
      "===== 调试信息：服务器返回 =====\n",
      "{\"id\":\"0194dc7610dbcc42a35445daeb86e4c8\",\"object\":\"chat.completion\",\"created\":1738865512,\"model\":\"Qwen/Qwen2.5-32B-Instruct\",\"choices\":[{\"index\":0,\"message\":{\"role\":\"assistant\",\"content\":\"{\\n  \\\"classification\\\": \\\"军事和防御\\\",\\n  \\\"sentiment\\\": \\\"neutral\\\"\\n}\"},\"finish_reason\":\"stop\"}],\"usage\":{\"prompt_tokens\":1600,\"completion_tokens\":19,\"total_tokens\":1619},\"system_fingerprint\":\"\"}\n",
      "=============================\n",
      "\n"
     ]
    },
    {
     "name": "stderr",
     "output_type": "stream",
     "text": [
      "Processing:  68%|██████▊   | 716/1060 [32:29<11:53,  2.07s/it]"
     ]
    },
    {
     "name": "stdout",
     "output_type": "stream",
     "text": [
      "===== 调试信息：服务器返回 =====\n",
      "{\"id\":\"0194dc76157ea78564b2d4e7e7b21a92\",\"object\":\"chat.completion\",\"created\":1738865513,\"model\":\"Qwen/Qwen2.5-32B-Instruct\",\"choices\":[{\"index\":0,\"message\":{\"role\":\"assistant\",\"content\":\"{\\n  \\\"classification\\\": \\\"体育\\\",\\n  \\\"sentiment\\\": \\\"negative\\\"\\n}\"},\"finish_reason\":\"stop\"}],\"usage\":{\"prompt_tokens\":1399,\"completion_tokens\":17,\"total_tokens\":1416},\"system_fingerprint\":\"\"}\n",
      "=============================\n",
      "\n"
     ]
    },
    {
     "name": "stderr",
     "output_type": "stream",
     "text": [
      "Processing:  68%|██████▊   | 717/1060 [32:30<10:15,  1.80s/it]"
     ]
    },
    {
     "name": "stdout",
     "output_type": "stream",
     "text": [
      "===== 调试信息：服务器返回 =====\n",
      "{\"id\":\"0194dc761a1108b336726d98bf103dd2\",\"object\":\"chat.completion\",\"created\":1738865515,\"model\":\"Qwen/Qwen2.5-32B-Instruct\",\"choices\":[{\"index\":0,\"message\":{\"role\":\"assistant\",\"content\":\"{\\n  \\\"classification\\\": \\\"军事和防御\\\",\\n  \\\"sentiment\\\": \\\"negative\\\"\\n}\"},\"finish_reason\":\"stop\"}],\"usage\":{\"prompt_tokens\":1063,\"completion_tokens\":19,\"total_tokens\":1082},\"system_fingerprint\":\"\"}\n",
      "=============================\n",
      "\n"
     ]
    },
    {
     "name": "stderr",
     "output_type": "stream",
     "text": [
      "Processing:  68%|██████▊   | 718/1060 [32:32<09:11,  1.61s/it]"
     ]
    },
    {
     "name": "stdout",
     "output_type": "stream",
     "text": [
      "===== 调试信息：服务器返回 =====\n",
      "{\"id\":\"0194dc761eadf0a9fc054e2e984200b2\",\"object\":\"chat.completion\",\"created\":1738865516,\"model\":\"Qwen/Qwen2.5-32B-Instruct\",\"choices\":[{\"index\":0,\"message\":{\"role\":\"assistant\",\"content\":\"{\\n  \\\"classification\\\": \\\"环境\\\",\\n  \\\"sentiment\\\": \\\"neutral\\\"\\n}\"},\"finish_reason\":\"stop\"}],\"usage\":{\"prompt_tokens\":1559,\"completion_tokens\":17,\"total_tokens\":1576},\"system_fingerprint\":\"\"}\n",
      "=============================\n",
      "\n"
     ]
    },
    {
     "name": "stderr",
     "output_type": "stream",
     "text": [
      "Processing:  68%|██████▊   | 719/1060 [32:33<08:26,  1.48s/it]"
     ]
    },
    {
     "name": "stdout",
     "output_type": "stream",
     "text": [
      "===== 调试信息：服务器返回 =====\n",
      "{\"id\":\"0194dc76234ce23931193236a58dac58\",\"object\":\"chat.completion\",\"created\":1738865517,\"model\":\"Qwen/Qwen2.5-32B-Instruct\",\"choices\":[{\"index\":0,\"message\":{\"role\":\"assistant\",\"content\":\"{\\n  \\\"classification\\\": \\\"住房\\\",\\n  \\\"sentiment\\\": \\\"neutral\\\"\\n}\"},\"finish_reason\":\"stop\"}],\"usage\":{\"prompt_tokens\":1714,\"completion_tokens\":17,\"total_tokens\":1731},\"system_fingerprint\":\"\"}\n",
      "=============================\n",
      "\n"
     ]
    },
    {
     "name": "stderr",
     "output_type": "stream",
     "text": [
      "Processing:  68%|██████▊   | 720/1060 [32:34<07:56,  1.40s/it]"
     ]
    },
    {
     "name": "stdout",
     "output_type": "stream",
     "text": [
      "===== 调试信息：服务器返回 =====\n",
      "{\"id\":\"0194dc76280733949f47017818ea1fdf\",\"object\":\"chat.completion\",\"created\":1738865518,\"model\":\"Qwen/Qwen2.5-32B-Instruct\",\"choices\":[{\"index\":0,\"message\":{\"role\":\"assistant\",\"content\":\"{\\n  \\\"classification\\\": \\\"国内政治\\\",\\n  \\\"sentiment\\\": \\\"negative\\\"\\n}\"},\"finish_reason\":\"stop\"}],\"usage\":{\"prompt_tokens\":1673,\"completion_tokens\":18,\"total_tokens\":1691},\"system_fingerprint\":\"\"}\n",
      "=============================\n",
      "\n"
     ]
    },
    {
     "name": "stderr",
     "output_type": "stream",
     "text": [
      "Processing:  68%|██████▊   | 721/1060 [32:35<07:36,  1.35s/it]"
     ]
    },
    {
     "name": "stdout",
     "output_type": "stream",
     "text": [
      "===== 调试信息：服务器返回 =====\n",
      "{\"id\":\"0194dc762cb7509d004b25aa4574ff16\",\"object\":\"chat.completion\",\"created\":1738865519,\"model\":\"Qwen/Qwen2.5-32B-Instruct\",\"choices\":[{\"index\":0,\"message\":{\"role\":\"assistant\",\"content\":\"{\\n  \\\"classification\\\": \\\"军事和防御\\\",\\n  \\\"sentiment\\\": \\\"negative\\\"\\n}\"},\"finish_reason\":\"stop\"}],\"usage\":{\"prompt_tokens\":1513,\"completion_tokens\":19,\"total_tokens\":1532},\"system_fingerprint\":\"\"}\n",
      "=============================\n",
      "\n"
     ]
    },
    {
     "name": "stderr",
     "output_type": "stream",
     "text": [
      "Processing:  68%|██████▊   | 722/1060 [32:36<07:19,  1.30s/it]"
     ]
    },
    {
     "name": "stdout",
     "output_type": "stream",
     "text": [
      "===== 调试信息：服务器返回 =====\n",
      "{\"id\":\"0194dc763164ca224d662b47801e451c\",\"object\":\"chat.completion\",\"created\":1738865521,\"model\":\"Qwen/Qwen2.5-32B-Instruct\",\"choices\":[{\"index\":0,\"message\":{\"role\":\"assistant\",\"content\":\"{\\n  \\\"classification\\\": \\\"历史\\\",\\n  \\\"sentiment\\\": \\\"neutral\\\"\\n}\\n\\n注：根据提供的分类选项，\\\"历史\\\"应归类为\\\"其他\\\"，因为没有直接对应的历史分类。\\n{\\n  \\\"classification\\\": \\\"其他\\\",\\n  \\\"sentiment\\\": \\\"neutral\\\"\\n}\"},\"finish_reason\":\"stop\"}],\"usage\":{\"prompt_tokens\":1050,\"completion_tokens\":59,\"total_tokens\":1109},\"system_fingerprint\":\"\"}\n",
      "=============================\n",
      "\n",
      "请求或解析时出现异常：Extra data: line 6 column 1 (char 56)，等待10秒后重试...\n",
      "===== 调试信息：服务器返回 =====\n",
      "{\"id\":\"0194dc765ea72f77f629db2fd2dbd4d7\",\"object\":\"chat.completion\",\"created\":1738865532,\"model\":\"Qwen/Qwen2.5-32B-Instruct\",\"choices\":[{\"index\":0,\"message\":{\"role\":\"assistant\",\"content\":\"{\\n  \\\"classification\\\": \\\"历史\\\",\\n  \\\"sentiment\\\": \\\"neutral\\\"\\n}\\n\\n注：由于提供的分类中没有“历史”这一项，且文章内容涉及的是历史背景和分析，最接近的分类是“其他”。因此，如果必须从给定的分类中选择，应选择“其他”。\\n{\\n  \\\"classification\\\": \\\"其他\\\",\\n  \\\"sentiment\\\": \\\"neutral\\\"\\n}\"},\"finish_reason\":\"stop\"}],\"usage\":{\"prompt_tokens\":1050,\"completion_tokens\":83,\"total_tokens\":1133},\"system_fingerprint\":\"\"}\n",
      "=============================\n",
      "\n",
      "请求或解析时出现异常：Extra data: line 6 column 1 (char 56)，等待10秒后重试...\n",
      "===== 调试信息：服务器返回 =====\n",
      "{\"id\":\"0194dc768badde05706e3ef10496d7ec\",\"object\":\"chat.completion\",\"created\":1738865544,\"model\":\"Qwen/Qwen2.5-32B-Instruct\",\"choices\":[{\"index\":0,\"message\":{\"role\":\"assistant\",\"content\":\"{\\n  \\\"classification\\\": \\\"历史\\\",\\n  \\\"sentiment\\\": \\\"neutral\\\"\\n}\\n\\n注：由于提供的分类选项中没有“历史”这一项，因此选择了最接近的“其他”。但如果必须从给定的分类中选择，那么可能“社会关系”或“国内政治”较为接近文章内容的主题。但由于文章主要讲述的是历史背景和过程，这里先标记为“其他”。如果需要从给定分类中选择，请告知以便调整。同时，由于文章内容主要是叙述性的，没有明显的正面或负面情感倾向，因此情感倾向标记为\\\"neutral\\\"。但由于选项中没有\\\"neutral\\\"，选择了最接近的\\\"neutral\\\"情感。\"},\"finish_reason\":\"stop\"}],\"usage\":{\"prompt_tokens\":1050,\"completion_tokens\":139,\"total_tokens\":1189},\"system_fingerprint\":\"\"}\n",
      "=============================\n",
      "\n",
      "请求或解析时出现异常：Extra data: line 6 column 1 (char 56)，等待10秒后重试...\n",
      "===== 调试信息：服务器返回 =====\n",
      "{\"id\":\"0194dc76bc4f38bc68371bcffa441ece\",\"object\":\"chat.completion\",\"created\":1738865556,\"model\":\"Qwen/Qwen2.5-32B-Instruct\",\"choices\":[{\"index\":0,\"message\":{\"role\":\"assistant\",\"content\":\"{\\n  \\\"classification\\\": \\\"历史\\\",\\n  \\\"sentiment\\\": \\\"neutral\\\"\\n}\\n\\n注：根据提供的分类选项，\\\"历史\\\"这一分类并不在其中，因此最接近的分类为\\\"其他\\\"。\\n{\\n  \\\"classification\\\": \\\"其他\\\",\\n  \\\"sentiment\\\": \\\"neutral\\\"\\n}\"},\"finish_reason\":\"stop\"}],\"usage\":{\"prompt_tokens\":1050,\"completion_tokens\":60,\"total_tokens\":1110},\"system_fingerprint\":\"\"}\n",
      "=============================\n",
      "\n",
      "请求或解析时出现异常：Extra data: line 6 column 1 (char 56)，等待10秒后重试...\n",
      "===== 调试信息：服务器返回 =====\n",
      "{\"id\":\"0194dc76ef1aae214082895b3c20414c\",\"object\":\"chat.completion\",\"created\":1738865569,\"model\":\"Qwen/Qwen2.5-32B-Instruct\",\"choices\":[{\"index\":0,\"message\":{\"role\":\"assistant\",\"content\":\"{\\n  \\\"classification\\\": \\\"历史\\\",\\n  \\\"sentiment\\\": \\\"neutral\\\"\\n}\\n\\n注：给定的分类选项中没有“历史”这一项，因此根据文章内容最接近的分类选择了“其他”。但由于JSON格式要求，这里暂时用“历史”来表示文章的主题，实际返回应为“其他”。\\n\\n{\\n  \\\"classification\\\": \\\"其他\\\",\\n  \\\"sentiment\\\": \\\"neutral\\\"\\n}\"},\"finish_reason\":\"stop\"}],\"usage\":{\"prompt_tokens\":1050,\"completion_tokens\":84,\"total_tokens\":1134},\"system_fingerprint\":\"\"}\n",
      "=============================\n",
      "\n",
      "请求或解析时出现异常：Extra data: line 6 column 1 (char 56)，等待10秒后重试...\n",
      "达到最大重试次数，返回默认值\n"
     ]
    },
    {
     "name": "stderr",
     "output_type": "stream",
     "text": [
      "Processing:  68%|██████▊   | 723/1060 [33:37<1:47:37, 19.16s/it]"
     ]
    },
    {
     "name": "stdout",
     "output_type": "stream",
     "text": [
      "===== 调试信息：服务器返回 =====\n",
      "{\"id\":\"0194dc771f6637163689e6ecf5f3c294\",\"object\":\"chat.completion\",\"created\":1738865581,\"model\":\"Qwen/Qwen2.5-32B-Instruct\",\"choices\":[{\"index\":0,\"message\":{\"role\":\"assistant\",\"content\":\"{\\n  \\\"classification\\\": \\\"经济\\\",\\n  \\\"sentiment\\\": \\\"negative\\\"\\n}\"},\"finish_reason\":\"stop\"}],\"usage\":{\"prompt_tokens\":1358,\"completion_tokens\":17,\"total_tokens\":1375},\"system_fingerprint\":\"\"}\n",
      "=============================\n",
      "\n"
     ]
    },
    {
     "name": "stderr",
     "output_type": "stream",
     "text": [
      "Processing:  68%|██████▊   | 724/1060 [33:38<1:17:10, 13.78s/it]"
     ]
    },
    {
     "name": "stdout",
     "output_type": "stream",
     "text": [
      "===== 调试信息：服务器返回 =====\n",
      "{\"id\":\"0194dc77243c7c18e12a5ffd597b852c\",\"object\":\"chat.completion\",\"created\":1738865583,\"model\":\"Qwen/Qwen2.5-32B-Instruct\",\"choices\":[{\"index\":0,\"message\":{\"role\":\"assistant\",\"content\":\"{\\n  \\\"classification\\\": \\\"经济\\\",\\n  \\\"sentiment\\\": \\\"negative\\\"\\n}\"},\"finish_reason\":\"stop\"}],\"usage\":{\"prompt_tokens\":1558,\"completion_tokens\":17,\"total_tokens\":1575},\"system_fingerprint\":\"\"}\n",
      "=============================\n",
      "\n"
     ]
    },
    {
     "name": "stderr",
     "output_type": "stream",
     "text": [
      "Processing:  68%|██████▊   | 725/1060 [33:40<56:01, 10.03s/it]  "
     ]
    },
    {
     "name": "stdout",
     "output_type": "stream",
     "text": [
      "===== 调试信息：服务器返回 =====\n",
      "{\"id\":\"0194dc77294e09086b2f1ff7dd5cbec3\",\"object\":\"chat.completion\",\"created\":1738865584,\"model\":\"Qwen/Qwen2.5-32B-Instruct\",\"choices\":[{\"index\":0,\"message\":{\"role\":\"assistant\",\"content\":\"{\\n  \\\"classification\\\": \\\"文化活动\\\",\\n  \\\"sentiment\\\": \\\"pain\\\"\\n}\"},\"finish_reason\":\"stop\"}],\"usage\":{\"prompt_tokens\":2033,\"completion_tokens\":18,\"total_tokens\":2051},\"system_fingerprint\":\"\"}\n",
      "=============================\n",
      "\n"
     ]
    },
    {
     "name": "stderr",
     "output_type": "stream",
     "text": [
      "Processing:  68%|██████▊   | 726/1060 [33:41<41:24,  7.44s/it]"
     ]
    },
    {
     "name": "stdout",
     "output_type": "stream",
     "text": [
      "===== 调试信息：服务器返回 =====\n",
      "{\"id\":\"0194dc772f790538062b30d68c570b51\",\"object\":\"chat.completion\",\"created\":1738865586,\"model\":\"Qwen/Qwen2.5-32B-Instruct\",\"choices\":[{\"index\":0,\"message\":{\"role\":\"assistant\",\"content\":\"{\\n  \\\"classification\\\": \\\"商务活动\\\",\\n  \\\"sentiment\\\": \\\"pleasure\\\"\\n}\"},\"finish_reason\":\"stop\"}],\"usage\":{\"prompt_tokens\":3162,\"completion_tokens\":19,\"total_tokens\":3181},\"system_fingerprint\":\"\"}\n",
      "=============================\n",
      "\n"
     ]
    },
    {
     "name": "stderr",
     "output_type": "stream",
     "text": [
      "Processing:  69%|██████▊   | 727/1060 [33:43<31:49,  5.73s/it]"
     ]
    },
    {
     "name": "stdout",
     "output_type": "stream",
     "text": [
      "===== 调试信息：服务器返回 =====\n",
      "{\"id\":\"0194dc773542ba6e13f108764a0b25a5\",\"object\":\"chat.completion\",\"created\":1738865587,\"model\":\"Qwen/Qwen2.5-32B-Instruct\",\"choices\":[{\"index\":0,\"message\":{\"role\":\"assistant\",\"content\":\"{\\n  \\\"classification\\\": \\\"文化活动\\\",\\n  \\\"sentiment\\\": \\\"pleasure\\\"\\n}\"},\"finish_reason\":\"stop\"}],\"usage\":{\"prompt_tokens\":1381,\"completion_tokens\":19,\"total_tokens\":1400},\"system_fingerprint\":\"\"}\n",
      "=============================\n",
      "\n"
     ]
    },
    {
     "name": "stderr",
     "output_type": "stream",
     "text": [
      "Processing:  69%|██████▊   | 728/1060 [33:44<24:13,  4.38s/it]"
     ]
    },
    {
     "name": "stdout",
     "output_type": "stream",
     "text": [
      "===== 调试信息：服务器返回 =====\n",
      "{\"id\":\"0194dc7739cc2db15b0e1e5eb7266e07\",\"object\":\"chat.completion\",\"created\":1738865588,\"model\":\"Qwen/Qwen2.5-32B-Instruct\",\"choices\":[{\"index\":0,\"message\":{\"role\":\"assistant\",\"content\":\"{\\n  \\\"classification\\\": \\\"交通\\\",\\n  \\\"sentiment\\\": \\\"positive\\\"\\n}\"},\"finish_reason\":\"stop\"}],\"usage\":{\"prompt_tokens\":868,\"completion_tokens\":17,\"total_tokens\":885},\"system_fingerprint\":\"\"}\n",
      "=============================\n",
      "\n"
     ]
    },
    {
     "name": "stderr",
     "output_type": "stream",
     "text": [
      "Processing:  69%|██████▉   | 729/1060 [33:46<19:24,  3.52s/it]"
     ]
    },
    {
     "name": "stdout",
     "output_type": "stream",
     "text": [
      "===== 调试信息：服务器返回 =====\n",
      "{\"id\":\"0194dc773fc8d1560044fe2f81767c1e\",\"object\":\"chat.completion\",\"created\":1738865590,\"model\":\"Qwen/Qwen2.5-32B-Instruct\",\"choices\":[{\"index\":0,\"message\":{\"role\":\"assistant\",\"content\":\"{\\n  \\\"classification\\\": \\\"国际政治\\\",\\n  \\\"sentiment\\\": \\\"negative\\\"\\n}\"},\"finish_reason\":\"stop\"}],\"usage\":{\"prompt_tokens\":1109,\"completion_tokens\":18,\"total_tokens\":1127},\"system_fingerprint\":\"\"}\n",
      "=============================\n",
      "\n"
     ]
    },
    {
     "name": "stderr",
     "output_type": "stream",
     "text": [
      "Processing:  69%|██████▉   | 730/1060 [33:47<15:22,  2.80s/it]"
     ]
    },
    {
     "name": "stdout",
     "output_type": "stream",
     "text": [
      "===== 调试信息：服务器返回 =====\n",
      "{\"id\":\"0194dc77441a712858e03521bcd4fa29\",\"object\":\"chat.completion\",\"created\":1738865591,\"model\":\"Qwen/Qwen2.5-32B-Instruct\",\"choices\":[{\"index\":0,\"message\":{\"role\":\"assistant\",\"content\":\"{\\n  \\\"classification\\\": \\\"经济\\\",\\n  \\\"sentiment\\\": \\\"positive\\\"\\n}\"},\"finish_reason\":\"stop\"}],\"usage\":{\"prompt_tokens\":1628,\"completion_tokens\":17,\"total_tokens\":1645},\"system_fingerprint\":\"\"}\n",
      "=============================\n",
      "\n"
     ]
    },
    {
     "name": "stderr",
     "output_type": "stream",
     "text": [
      "Processing:  69%|██████▉   | 731/1060 [33:48<12:42,  2.32s/it]"
     ]
    },
    {
     "name": "stdout",
     "output_type": "stream",
     "text": [
      "===== 调试信息：服务器返回 =====\n",
      "{\"id\":\"0194dc7748d400aaebe0787b33e45c5c\",\"object\":\"chat.completion\",\"created\":1738865592,\"model\":\"Qwen/Qwen2.5-32B-Instruct\",\"choices\":[{\"index\":0,\"message\":{\"role\":\"assistant\",\"content\":\"{\\n  \\\"classification\\\": \\\"军事和防御\\\",\\n  \\\"sentiment\\\": \\\"neutral\\\"\\n}\"},\"finish_reason\":\"stop\"}],\"usage\":{\"prompt_tokens\":1355,\"completion_tokens\":19,\"total_tokens\":1374},\"system_fingerprint\":\"\"}\n",
      "=============================\n",
      "\n"
     ]
    },
    {
     "name": "stderr",
     "output_type": "stream",
     "text": [
      "Processing:  69%|██████▉   | 732/1060 [33:49<10:45,  1.97s/it]"
     ]
    },
    {
     "name": "stdout",
     "output_type": "stream",
     "text": [
      "===== 调试信息：服务器返回 =====\n",
      "{\"id\":\"0194dc774d5d131ca0a51d85c1296ede\",\"object\":\"chat.completion\",\"created\":1738865593,\"model\":\"Qwen/Qwen2.5-32B-Instruct\",\"choices\":[{\"index\":0,\"message\":{\"role\":\"assistant\",\"content\":\"{\\n  \\\"classification\\\": \\\"经济\\\",\\n  \\\"sentiment\\\": \\\"negative\\\"\\n}\"},\"finish_reason\":\"stop\"}],\"usage\":{\"prompt_tokens\":1748,\"completion_tokens\":17,\"total_tokens\":1765},\"system_fingerprint\":\"\"}\n",
      "=============================\n",
      "\n"
     ]
    },
    {
     "name": "stderr",
     "output_type": "stream",
     "text": [
      "Processing:  69%|██████▉   | 733/1060 [33:50<09:29,  1.74s/it]"
     ]
    },
    {
     "name": "stdout",
     "output_type": "stream",
     "text": [
      "===== 调试信息：服务器返回 =====\n",
      "{\"id\":\"0194dc77527226bda43ac702dcbc020a\",\"object\":\"chat.completion\",\"created\":1738865595,\"model\":\"Qwen/Qwen2.5-32B-Instruct\",\"choices\":[{\"index\":0,\"message\":{\"role\":\"assistant\",\"content\":\"{\\n  \\\"classification\\\": \\\"经济\\\",\\n  \\\"sentiment\\\": \\\"negative\\\"\\n}\"},\"finish_reason\":\"stop\"}],\"usage\":{\"prompt_tokens\":1270,\"completion_tokens\":17,\"total_tokens\":1287},\"system_fingerprint\":\"\"}\n",
      "=============================\n",
      "\n"
     ]
    },
    {
     "name": "stderr",
     "output_type": "stream",
     "text": [
      "Processing:  69%|██████▉   | 734/1060 [33:52<08:35,  1.58s/it]"
     ]
    },
    {
     "name": "stdout",
     "output_type": "stream",
     "text": [
      "===== 调试信息：服务器返回 =====\n",
      "{\"id\":\"0194dc7756db3af2bcf422c1b23cbbef\",\"object\":\"chat.completion\",\"created\":1738865596,\"model\":\"Qwen/Qwen2.5-32B-Instruct\",\"choices\":[{\"index\":0,\"message\":{\"role\":\"assistant\",\"content\":\"{\\n  \\\"classification\\\": \\\"经济\\\",\\n  \\\"sentiment\\\": \\\"negative\\\"\\n}\"},\"finish_reason\":\"stop\"}],\"usage\":{\"prompt_tokens\":1837,\"completion_tokens\":17,\"total_tokens\":1854},\"system_fingerprint\":\"\"}\n",
      "=============================\n",
      "\n"
     ]
    },
    {
     "name": "stderr",
     "output_type": "stream",
     "text": [
      "Processing:  69%|██████▉   | 735/1060 [33:53<07:57,  1.47s/it]"
     ]
    },
    {
     "name": "stdout",
     "output_type": "stream",
     "text": [
      "===== 调试信息：服务器返回 =====\n",
      "{\"id\":\"0194dc775b9b39ec305ee2e8abce4d6a\",\"object\":\"chat.completion\",\"created\":1738865597,\"model\":\"Qwen/Qwen2.5-32B-Instruct\",\"choices\":[{\"index\":0,\"message\":{\"role\":\"assistant\",\"content\":\"{\\n  \\\"classification\\\": \\\"国际政治\\\",\\n  \\\"sentiment\\\": \\\"neutral\\\"\\n}\"},\"finish_reason\":\"stop\"}],\"usage\":{\"prompt_tokens\":874,\"completion_tokens\":18,\"total_tokens\":892},\"system_fingerprint\":\"\"}\n",
      "=============================\n",
      "\n"
     ]
    },
    {
     "name": "stderr",
     "output_type": "stream",
     "text": [
      "Processing:  69%|██████▉   | 736/1060 [33:54<07:22,  1.36s/it]"
     ]
    },
    {
     "name": "stdout",
     "output_type": "stream",
     "text": [
      "===== 调试信息：服务器返回 =====\n",
      "{\"id\":\"0194dc775fe3bad889ee25a0223c7263\",\"object\":\"chat.completion\",\"created\":1738865598,\"model\":\"Qwen/Qwen2.5-32B-Instruct\",\"choices\":[{\"index\":0,\"message\":{\"role\":\"assistant\",\"content\":\"{\\n  \\\"classification\\\": \\\"经济\\\",\\n  \\\"sentiment\\\": \\\"negative\\\"\\n}\"},\"finish_reason\":\"stop\"}],\"usage\":{\"prompt_tokens\":1929,\"completion_tokens\":17,\"total_tokens\":1946},\"system_fingerprint\":\"\"}\n",
      "=============================\n",
      "\n"
     ]
    },
    {
     "name": "stderr",
     "output_type": "stream",
     "text": [
      "Processing:  70%|██████▉   | 737/1060 [33:55<07:05,  1.32s/it]"
     ]
    },
    {
     "name": "stdout",
     "output_type": "stream",
     "text": [
      "===== 调试信息：服务器返回 =====\n",
      "{\"id\":\"0194dc7764bc75559a3bb07ac577dbce\",\"object\":\"chat.completion\",\"created\":1738865599,\"model\":\"Qwen/Qwen2.5-32B-Instruct\",\"choices\":[{\"index\":0,\"message\":{\"role\":\"assistant\",\"content\":\"{\\n  \\\"classification\\\": \\\"国际政治\\\",\\n  \\\"sentiment\\\": \\\"neutral\\\"\\n}\"},\"finish_reason\":\"stop\"}],\"usage\":{\"prompt_tokens\":1908,\"completion_tokens\":18,\"total_tokens\":1926},\"system_fingerprint\":\"\"}\n",
      "=============================\n",
      "\n"
     ]
    },
    {
     "name": "stderr",
     "output_type": "stream",
     "text": [
      "Processing:  70%|██████▉   | 738/1060 [33:56<07:02,  1.31s/it]"
     ]
    },
    {
     "name": "stdout",
     "output_type": "stream",
     "text": [
      "===== 调试信息：服务器返回 =====\n",
      "{\"id\":\"0194dc7769a9ad4600c1424f7ef5dc11\",\"object\":\"chat.completion\",\"created\":1738865600,\"model\":\"Qwen/Qwen2.5-32B-Instruct\",\"choices\":[{\"index\":0,\"message\":{\"role\":\"assistant\",\"content\":\"{\\n  \\\"classification\\\": \\\"商务活动\\\",\\n  \\\"sentiment\\\": \\\"negative\\\"\\n}\"},\"finish_reason\":\"stop\"}],\"usage\":{\"prompt_tokens\":1050,\"completion_tokens\":18,\"total_tokens\":1068},\"system_fingerprint\":\"\"}\n",
      "=============================\n",
      "\n"
     ]
    },
    {
     "name": "stderr",
     "output_type": "stream",
     "text": [
      "Processing:  70%|██████▉   | 739/1060 [33:57<06:40,  1.25s/it]"
     ]
    },
    {
     "name": "stdout",
     "output_type": "stream",
     "text": [
      "===== 调试信息：服务器返回 =====\n",
      "{\"id\":\"0194dc776dfc940958e2d22249783244\",\"object\":\"chat.completion\",\"created\":1738865602,\"model\":\"Qwen/Qwen2.5-32B-Instruct\",\"choices\":[{\"index\":0,\"message\":{\"role\":\"assistant\",\"content\":\"{\\n  \\\"classification\\\": \\\"体育\\\",\\n  \\\"sentiment\\\": \\\"pleasure\\\"\\n}\"},\"finish_reason\":\"stop\"}],\"usage\":{\"prompt_tokens\":1076,\"completion_tokens\":18,\"total_tokens\":1094},\"system_fingerprint\":\"\"}\n",
      "=============================\n",
      "\n"
     ]
    },
    {
     "name": "stderr",
     "output_type": "stream",
     "text": [
      "Processing:  70%|██████▉   | 740/1060 [33:59<06:31,  1.22s/it]"
     ]
    },
    {
     "name": "stdout",
     "output_type": "stream",
     "text": [
      "===== 调试信息：服务器返回 =====\n",
      "{\"id\":\"0194dc777286a8db7b9196b332507ae8\",\"object\":\"chat.completion\",\"created\":1738865603,\"model\":\"Qwen/Qwen2.5-32B-Instruct\",\"choices\":[{\"index\":0,\"message\":{\"role\":\"assistant\",\"content\":\"{\\n  \\\"classification\\\": \\\"卫生福利\\\",\\n  \\\"sentiment\\\": \\\"positive\\\"\\n}\"},\"finish_reason\":\"stop\"}],\"usage\":{\"prompt_tokens\":1622,\"completion_tokens\":18,\"total_tokens\":1640},\"system_fingerprint\":\"\"}\n",
      "=============================\n",
      "\n"
     ]
    },
    {
     "name": "stderr",
     "output_type": "stream",
     "text": [
      "Processing:  70%|██████▉   | 741/1060 [34:00<06:30,  1.23s/it]"
     ]
    },
    {
     "name": "stdout",
     "output_type": "stream",
     "text": [
      "===== 调试信息：服务器返回 =====\n",
      "{\"id\":\"0194dc77776c155dda0ab3e9753e05d3\",\"object\":\"chat.completion\",\"created\":1738865604,\"model\":\"Qwen/Qwen2.5-32B-Instruct\",\"choices\":[{\"index\":0,\"message\":{\"role\":\"assistant\",\"content\":\"{\\n  \\\"classification\\\": \\\"商务活动\\\",\\n  \\\"sentiment\\\": \\\"negative\\\"\\n}\"},\"finish_reason\":\"stop\"}],\"usage\":{\"prompt_tokens\":1792,\"completion_tokens\":18,\"total_tokens\":1810},\"system_fingerprint\":\"\"}\n",
      "=============================\n",
      "\n"
     ]
    },
    {
     "name": "stderr",
     "output_type": "stream",
     "text": [
      "Processing:  70%|███████   | 742/1060 [34:01<06:32,  1.23s/it]"
     ]
    },
    {
     "name": "stdout",
     "output_type": "stream",
     "text": [
      "===== 调试信息：服务器返回 =====\n",
      "{\"id\":\"0194dc777c5e94796f438e455c0d9e18\",\"object\":\"chat.completion\",\"created\":1738865605,\"model\":\"Qwen/Qwen2.5-32B-Instruct\",\"choices\":[{\"index\":0,\"message\":{\"role\":\"assistant\",\"content\":\"{\\n  \\\"classification\\\": \\\"商务活动\\\",\\n  \\\"sentiment\\\": \\\"positive\\\"\\n}\"},\"finish_reason\":\"stop\"}],\"usage\":{\"prompt_tokens\":593,\"completion_tokens\":18,\"total_tokens\":611},\"system_fingerprint\":\"\"}\n",
      "=============================\n",
      "\n"
     ]
    },
    {
     "name": "stderr",
     "output_type": "stream",
     "text": [
      "Processing:  70%|███████   | 743/1060 [34:02<06:28,  1.23s/it]"
     ]
    },
    {
     "name": "stdout",
     "output_type": "stream",
     "text": [
      "===== 调试信息：服务器返回 =====\n",
      "{\"id\":\"0194dc7780f5e5df9cf0094c5bb47391\",\"object\":\"chat.completion\",\"created\":1738865606,\"model\":\"Qwen/Qwen2.5-32B-Instruct\",\"choices\":[{\"index\":0,\"message\":{\"role\":\"assistant\",\"content\":\"{\\n  \\\"classification\\\": \\\"经济\\\",\\n  \\\"sentiment\\\": \\\"negative\\\"\\n}\"},\"finish_reason\":\"stop\"}],\"usage\":{\"prompt_tokens\":1657,\"completion_tokens\":17,\"total_tokens\":1674},\"system_fingerprint\":\"\"}\n",
      "=============================\n",
      "\n"
     ]
    },
    {
     "name": "stderr",
     "output_type": "stream",
     "text": [
      "Processing:  70%|███████   | 744/1060 [34:03<06:22,  1.21s/it]"
     ]
    },
    {
     "name": "stdout",
     "output_type": "stream",
     "text": [
      "===== 调试信息：服务器返回 =====\n",
      "{\"id\":\"0194dc77858f78ef639b53ac4841d473\",\"object\":\"chat.completion\",\"created\":1738865608,\"model\":\"Qwen/Qwen2.5-32B-Instruct\",\"choices\":[{\"index\":0,\"message\":{\"role\":\"assistant\",\"content\":\"{\\n  \\\"classification\\\": \\\"国内政治\\\",\\n  \\\"sentiment\\\": \\\"negative\\\"\\n}\"},\"finish_reason\":\"stop\"}],\"usage\":{\"prompt_tokens\":1662,\"completion_tokens\":18,\"total_tokens\":1680},\"system_fingerprint\":\"\"}\n",
      "=============================\n",
      "\n"
     ]
    },
    {
     "name": "stderr",
     "output_type": "stream",
     "text": [
      "Processing:  70%|███████   | 745/1060 [34:05<06:22,  1.21s/it]"
     ]
    },
    {
     "name": "stdout",
     "output_type": "stream",
     "text": [
      "===== 调试信息：服务器返回 =====\n",
      "{\"id\":\"0194dc778a59d38dfdd32792750decb7\",\"object\":\"chat.completion\",\"created\":1738865609,\"model\":\"Qwen/Qwen2.5-32B-Instruct\",\"choices\":[{\"index\":0,\"message\":{\"role\":\"assistant\",\"content\":\"{\\n  \\\"classification\\\": \\\"交通\\\",\\n  \\\"sentiment\\\": \\\"negative\\\"\\n}\"},\"finish_reason\":\"stop\"}],\"usage\":{\"prompt_tokens\":889,\"completion_tokens\":17,\"total_tokens\":906},\"system_fingerprint\":\"\"}\n",
      "=============================\n",
      "\n"
     ]
    },
    {
     "name": "stderr",
     "output_type": "stream",
     "text": [
      "Processing:  70%|███████   | 746/1060 [34:06<06:12,  1.19s/it]"
     ]
    },
    {
     "name": "stdout",
     "output_type": "stream",
     "text": [
      "===== 调试信息：服务器返回 =====\n",
      "{\"id\":\"0194dc778e9ea774c4b63b7d0577baea\",\"object\":\"chat.completion\",\"created\":1738865610,\"model\":\"Qwen/Qwen2.5-32B-Instruct\",\"choices\":[{\"index\":0,\"message\":{\"role\":\"assistant\",\"content\":\"{\\n  \\\"classification\\\": \\\"国内政治\\\",\\n  \\\"sentiment\\\": \\\"negative\\\"\\n}\"},\"finish_reason\":\"stop\"}],\"usage\":{\"prompt_tokens\":1439,\"completion_tokens\":18,\"total_tokens\":1457},\"system_fingerprint\":\"\"}\n",
      "=============================\n",
      "\n"
     ]
    },
    {
     "name": "stderr",
     "output_type": "stream",
     "text": [
      "Processing:  70%|███████   | 747/1060 [34:07<06:14,  1.20s/it]"
     ]
    },
    {
     "name": "stdout",
     "output_type": "stream",
     "text": [
      "===== 调试信息：服务器返回 =====\n",
      "{\"id\":\"0194dc779376936ac8c19dd71d7a65b7\",\"object\":\"chat.completion\",\"created\":1738865611,\"model\":\"Qwen/Qwen2.5-32B-Instruct\",\"choices\":[{\"index\":0,\"message\":{\"role\":\"assistant\",\"content\":\"{\\n  \\\"classification\\\": \\\"卫生福利\\\",\\n  \\\"sentiment\\\": \\\"positive\\\"\\n}\"},\"finish_reason\":\"stop\"}],\"usage\":{\"prompt_tokens\":3245,\"completion_tokens\":18,\"total_tokens\":3263},\"system_fingerprint\":\"\"}\n",
      "=============================\n",
      "\n"
     ]
    },
    {
     "name": "stderr",
     "output_type": "stream",
     "text": [
      "Processing:  71%|███████   | 748/1060 [34:09<06:47,  1.31s/it]"
     ]
    },
    {
     "name": "stdout",
     "output_type": "stream",
     "text": [
      "===== 调试信息：服务器返回 =====\n",
      "{\"id\":\"0194dc77999a242503ccd0469f28fcca\",\"object\":\"chat.completion\",\"created\":1738865613,\"model\":\"Qwen/Qwen2.5-32B-Instruct\",\"choices\":[{\"index\":0,\"message\":{\"role\":\"assistant\",\"content\":\"{\\n  \\\"classification\\\": \\\"国际政治\\\",\\n  \\\"sentiment\\\": \\\"negative\\\"\\n}\"},\"finish_reason\":\"stop\"}],\"usage\":{\"prompt_tokens\":1815,\"completion_tokens\":18,\"total_tokens\":1833},\"system_fingerprint\":\"\"}\n",
      "=============================\n",
      "\n"
     ]
    },
    {
     "name": "stderr",
     "output_type": "stream",
     "text": [
      "Processing:  71%|███████   | 749/1060 [34:10<06:47,  1.31s/it]"
     ]
    },
    {
     "name": "stdout",
     "output_type": "stream",
     "text": [
      "===== 调试信息：服务器返回 =====\n",
      "{\"id\":\"0194dc779fa6d7617bae2f1e8029f025\",\"object\":\"chat.completion\",\"created\":1738865614,\"model\":\"Qwen/Qwen2.5-32B-Instruct\",\"choices\":[{\"index\":0,\"message\":{\"role\":\"assistant\",\"content\":\"{\\n  \\\"classification\\\": \\\"商务活动\\\",\\n  \\\"sentiment\\\": \\\"positive\\\"\\n}\"},\"finish_reason\":\"stop\"}],\"usage\":{\"prompt_tokens\":1572,\"completion_tokens\":18,\"total_tokens\":1590},\"system_fingerprint\":\"\"}\n",
      "=============================\n",
      "\n"
     ]
    },
    {
     "name": "stderr",
     "output_type": "stream",
     "text": [
      "Processing:  71%|███████   | 750/1060 [34:11<06:57,  1.35s/it]"
     ]
    },
    {
     "name": "stdout",
     "output_type": "stream",
     "text": [
      "===== 调试信息：服务器返回 =====\n",
      "{\"id\":\"0194dc77a49f0523399a12dcacb6088a\",\"object\":\"chat.completion\",\"created\":1738865616,\"model\":\"Qwen/Qwen2.5-32B-Instruct\",\"choices\":[{\"index\":0,\"message\":{\"role\":\"assistant\",\"content\":\"{\\n  \\\"classification\\\": \\\"体育\\\",\\n  \\\"sentiment\\\": \\\"negative\\\"\\n}\"},\"finish_reason\":\"stop\"}],\"usage\":{\"prompt_tokens\":977,\"completion_tokens\":17,\"total_tokens\":994},\"system_fingerprint\":\"\"}\n",
      "=============================\n",
      "\n"
     ]
    },
    {
     "name": "stderr",
     "output_type": "stream",
     "text": [
      "Processing:  71%|███████   | 751/1060 [34:13<06:51,  1.33s/it]"
     ]
    },
    {
     "name": "stdout",
     "output_type": "stream",
     "text": [
      "===== 调试信息：服务器返回 =====\n",
      "{\"id\":\"0194dc77a980ade717d38738af6621ee\",\"object\":\"chat.completion\",\"created\":1738865617,\"model\":\"Qwen/Qwen2.5-32B-Instruct\",\"choices\":[{\"index\":0,\"message\":{\"role\":\"assistant\",\"content\":\"{\\n  \\\"classification\\\": \\\"经济\\\",\\n  \\\"sentiment\\\": \\\"negative\\\"\\n}\"},\"finish_reason\":\"stop\"}],\"usage\":{\"prompt_tokens\":1153,\"completion_tokens\":17,\"total_tokens\":1170},\"system_fingerprint\":\"\"}\n",
      "=============================\n",
      "\n"
     ]
    },
    {
     "name": "stderr",
     "output_type": "stream",
     "text": [
      "Processing:  71%|███████   | 752/1060 [34:14<06:36,  1.29s/it]"
     ]
    },
    {
     "name": "stdout",
     "output_type": "stream",
     "text": [
      "===== 调试信息：服务器返回 =====\n",
      "{\"id\":\"0194dc77aeebbb101ec9fd0383b7e3f4\",\"object\":\"chat.completion\",\"created\":1738865618,\"model\":\"Qwen/Qwen2.5-32B-Instruct\",\"choices\":[{\"index\":0,\"message\":{\"role\":\"assistant\",\"content\":\"{\\n  \\\"classification\\\": \\\"国际政治\\\",\\n  \\\"sentiment\\\": \\\"neutral\\\"\\n}\"},\"finish_reason\":\"stop\"}],\"usage\":{\"prompt_tokens\":1084,\"completion_tokens\":18,\"total_tokens\":1102},\"system_fingerprint\":\"\"}\n",
      "=============================\n",
      "\n"
     ]
    },
    {
     "name": "stderr",
     "output_type": "stream",
     "text": [
      "Processing:  71%|███████   | 753/1060 [34:15<06:43,  1.31s/it]"
     ]
    },
    {
     "name": "stdout",
     "output_type": "stream",
     "text": [
      "===== 调试信息：服务器返回 =====\n",
      "{\"id\":\"0194dc77b354c78f18b3e92ce67f9d78\",\"object\":\"chat.completion\",\"created\":1738865619,\"model\":\"Qwen/Qwen2.5-32B-Instruct\",\"choices\":[{\"index\":0,\"message\":{\"role\":\"assistant\",\"content\":\"{\\n  \\\"classification\\\": \\\"国际政治\\\",\\n  \\\"sentiment\\\": \\\"negative\\\"\\n}\"},\"finish_reason\":\"stop\"}],\"usage\":{\"prompt_tokens\":1518,\"completion_tokens\":18,\"total_tokens\":1536},\"system_fingerprint\":\"\"}\n",
      "=============================\n",
      "\n"
     ]
    },
    {
     "name": "stderr",
     "output_type": "stream",
     "text": [
      "Processing:  71%|███████   | 754/1060 [34:16<06:39,  1.31s/it]"
     ]
    },
    {
     "name": "stdout",
     "output_type": "stream",
     "text": [
      "===== 调试信息：服务器返回 =====\n",
      "{\"id\":\"0194dc77b885f2e4c5fc56ee6b3b1a6d\",\"object\":\"chat.completion\",\"created\":1738865621,\"model\":\"Qwen/Qwen2.5-32B-Instruct\",\"choices\":[{\"index\":0,\"message\":{\"role\":\"assistant\",\"content\":\"{\\n  \\\"classification\\\": \\\"环境\\\",\\n  \\\"sentiment\\\": \\\"negative\\\"\\n}\"},\"finish_reason\":\"stop\"}],\"usage\":{\"prompt_tokens\":2402,\"completion_tokens\":17,\"total_tokens\":2419},\"system_fingerprint\":\"\"}\n",
      "=============================\n",
      "\n"
     ]
    },
    {
     "name": "stderr",
     "output_type": "stream",
     "text": [
      "Processing:  71%|███████   | 755/1060 [34:18<06:41,  1.31s/it]"
     ]
    },
    {
     "name": "stdout",
     "output_type": "stream",
     "text": [
      "===== 调试信息：服务器返回 =====\n",
      "{\"id\":\"0194dc77bdc819abdfb930aa5f885858\",\"object\":\"chat.completion\",\"created\":1738865622,\"model\":\"Qwen/Qwen2.5-32B-Instruct\",\"choices\":[{\"index\":0,\"message\":{\"role\":\"assistant\",\"content\":\"{\\n  \\\"classification\\\": \\\"环境\\\",\\n  \\\"sentiment\\\": \\\"negative\\\"\\n}\"},\"finish_reason\":\"stop\"}],\"usage\":{\"prompt_tokens\":1111,\"completion_tokens\":17,\"total_tokens\":1128},\"system_fingerprint\":\"\"}\n",
      "=============================\n",
      "\n"
     ]
    },
    {
     "name": "stderr",
     "output_type": "stream",
     "text": [
      "Processing:  71%|███████▏  | 756/1060 [34:19<06:27,  1.28s/it]"
     ]
    },
    {
     "name": "stdout",
     "output_type": "stream",
     "text": [
      "===== 调试信息：服务器返回 =====\n",
      "{\"id\":\"0194dc77c232437524035a798afe0be8\",\"object\":\"chat.completion\",\"created\":1738865623,\"model\":\"Qwen/Qwen2.5-32B-Instruct\",\"choices\":[{\"index\":0,\"message\":{\"role\":\"assistant\",\"content\":\"{\\n  \\\"classification\\\": \\\"交通\\\",\\n  \\\"sentiment\\\": \\\"pain\\\"\\n}\"},\"finish_reason\":\"stop\"}],\"usage\":{\"prompt_tokens\":2148,\"completion_tokens\":17,\"total_tokens\":2165},\"system_fingerprint\":\"\"}\n",
      "=============================\n",
      "\n"
     ]
    },
    {
     "name": "stderr",
     "output_type": "stream",
     "text": [
      "Processing:  71%|███████▏  | 757/1060 [34:20<06:22,  1.26s/it]"
     ]
    },
    {
     "name": "stdout",
     "output_type": "stream",
     "text": [
      "===== 调试信息：服务器返回 =====\n",
      "{\"id\":\"0194dc77c7364972cf2287f5173c2a19\",\"object\":\"chat.completion\",\"created\":1738865624,\"model\":\"Qwen/Qwen2.5-32B-Instruct\",\"choices\":[{\"index\":0,\"message\":{\"role\":\"assistant\",\"content\":\"{\\n  \\\"classification\\\": \\\"文化活动\\\",\\n  \\\"sentiment\\\": \\\"pleasure\\\"\\n}\"},\"finish_reason\":\"stop\"}],\"usage\":{\"prompt_tokens\":1291,\"completion_tokens\":19,\"total_tokens\":1310},\"system_fingerprint\":\"\"}\n",
      "=============================\n",
      "\n"
     ]
    },
    {
     "name": "stderr",
     "output_type": "stream",
     "text": [
      "Processing:  72%|███████▏  | 758/1060 [34:21<06:19,  1.26s/it]"
     ]
    },
    {
     "name": "stdout",
     "output_type": "stream",
     "text": [
      "===== 调试信息：服务器返回 =====\n",
      "{\"id\":\"0194dc77cbe131799838ea66ca83ff38\",\"object\":\"chat.completion\",\"created\":1738865626,\"model\":\"Qwen/Qwen2.5-32B-Instruct\",\"choices\":[{\"index\":0,\"message\":{\"role\":\"assistant\",\"content\":\"{\\n  \\\"classification\\\": \\\"国际政治\\\",\\n  \\\"sentiment\\\": \\\"negative\\\"\\n}\"},\"finish_reason\":\"stop\"}],\"usage\":{\"prompt_tokens\":1738,\"completion_tokens\":18,\"total_tokens\":1756},\"system_fingerprint\":\"\"}\n",
      "=============================\n",
      "\n"
     ]
    },
    {
     "name": "stderr",
     "output_type": "stream",
     "text": [
      "Processing:  72%|███████▏  | 759/1060 [34:23<06:35,  1.32s/it]"
     ]
    },
    {
     "name": "stdout",
     "output_type": "stream",
     "text": [
      "===== 调试信息：服务器返回 =====\n",
      "{\"id\":\"0194dc77d19f0a6e8bf7f530081c15a7\",\"object\":\"chat.completion\",\"created\":1738865627,\"model\":\"Qwen/Qwen2.5-32B-Instruct\",\"choices\":[{\"index\":0,\"message\":{\"role\":\"assistant\",\"content\":\"{\\n  \\\"classification\\\": \\\"社会关系\\\",\\n  \\\"sentiment\\\": \\\"negative\\\"\\n}\"},\"finish_reason\":\"stop\"}],\"usage\":{\"prompt_tokens\":1220,\"completion_tokens\":18,\"total_tokens\":1238},\"system_fingerprint\":\"\"}\n",
      "=============================\n",
      "\n"
     ]
    },
    {
     "name": "stderr",
     "output_type": "stream",
     "text": [
      "Processing:  72%|███████▏  | 760/1060 [34:24<06:23,  1.28s/it]"
     ]
    },
    {
     "name": "stdout",
     "output_type": "stream",
     "text": [
      "===== 调试信息：服务器返回 =====\n",
      "{\"id\":\"0194dc77d647ef1c25d7b833c84a3128\",\"object\":\"chat.completion\",\"created\":1738865628,\"model\":\"Qwen/Qwen2.5-32B-Instruct\",\"choices\":[{\"index\":0,\"message\":{\"role\":\"assistant\",\"content\":\"{\\n  \\\"classification\\\": \\\"经济\\\",\\n  \\\"sentiment\\\": \\\"neutral\\\"\\n}\"},\"finish_reason\":\"stop\"}],\"usage\":{\"prompt_tokens\":1547,\"completion_tokens\":17,\"total_tokens\":1564},\"system_fingerprint\":\"\"}\n",
      "=============================\n",
      "\n"
     ]
    },
    {
     "name": "stderr",
     "output_type": "stream",
     "text": [
      "Processing:  72%|███████▏  | 761/1060 [34:25<06:12,  1.25s/it]"
     ]
    },
    {
     "name": "stdout",
     "output_type": "stream",
     "text": [
      "===== 调试信息：服务器返回 =====\n",
      "{\"id\":\"0194dc77db24e4b2a190edb0b5e57ce7\",\"object\":\"chat.completion\",\"created\":1738865629,\"model\":\"Qwen/Qwen2.5-32B-Instruct\",\"choices\":[{\"index\":0,\"message\":{\"role\":\"assistant\",\"content\":\"{\\n  \\\"classification\\\": \\\"劳动关系\\\",\\n  \\\"sentiment\\\": \\\"negative\\\"\\n}\"},\"finish_reason\":\"stop\"}],\"usage\":{\"prompt_tokens\":1136,\"completion_tokens\":18,\"total_tokens\":1154},\"system_fingerprint\":\"\"}\n",
      "=============================\n",
      "\n"
     ]
    },
    {
     "name": "stderr",
     "output_type": "stream",
     "text": [
      "Processing:  72%|███████▏  | 762/1060 [34:27<06:36,  1.33s/it]"
     ]
    },
    {
     "name": "stdout",
     "output_type": "stream",
     "text": [
      "===== 调试信息：服务器返回 =====\n",
      "{\"id\":\"0194dc77e0de6a8a624e06c4f36d63dc\",\"object\":\"chat.completion\",\"created\":1738865631,\"model\":\"Qwen/Qwen2.5-32B-Instruct\",\"choices\":[{\"index\":0,\"message\":{\"role\":\"assistant\",\"content\":\"{\\n  \\\"classification\\\": \\\"商务活动\\\",\\n  \\\"sentiment\\\": \\\"pleasure\\\"\\n}\"},\"finish_reason\":\"stop\"}],\"usage\":{\"prompt_tokens\":1243,\"completion_tokens\":19,\"total_tokens\":1262},\"system_fingerprint\":\"\"}\n",
      "=============================\n",
      "\n"
     ]
    },
    {
     "name": "stderr",
     "output_type": "stream",
     "text": [
      "Processing:  72%|███████▏  | 763/1060 [34:28<06:20,  1.28s/it]"
     ]
    },
    {
     "name": "stdout",
     "output_type": "stream",
     "text": [
      "===== 调试信息：服务器返回 =====\n",
      "{\"id\":\"0194dc77e56de7faabf4acd5276b01e9\",\"object\":\"chat.completion\",\"created\":1738865632,\"model\":\"Qwen/Qwen2.5-32B-Instruct\",\"choices\":[{\"index\":0,\"message\":{\"role\":\"assistant\",\"content\":\"{\\n  \\\"classification\\\": \\\"商务活动\\\",\\n  \\\"sentiment\\\": \\\"pleasure\\\"\\n}\"},\"finish_reason\":\"stop\"}],\"usage\":{\"prompt_tokens\":1243,\"completion_tokens\":19,\"total_tokens\":1262},\"system_fingerprint\":\"\"}\n",
      "=============================\n",
      "\n"
     ]
    },
    {
     "name": "stderr",
     "output_type": "stream",
     "text": [
      "Processing:  72%|███████▏  | 764/1060 [34:29<05:59,  1.21s/it]"
     ]
    },
    {
     "name": "stdout",
     "output_type": "stream",
     "text": [
      "===== 调试信息：服务器返回 =====\n",
      "{\"id\":\"0194dc77ea3e044e1c3f758a88f7c461\",\"object\":\"chat.completion\",\"created\":1738865633,\"model\":\"Qwen/Qwen2.5-32B-Instruct\",\"choices\":[{\"index\":0,\"message\":{\"role\":\"assistant\",\"content\":\"{\\n  \\\"classification\\\": \\\"劳动关系\\\",\\n  \\\"sentiment\\\": \\\"negative\\\"\\n}\"},\"finish_reason\":\"stop\"}],\"usage\":{\"prompt_tokens\":1311,\"completion_tokens\":18,\"total_tokens\":1329},\"system_fingerprint\":\"\"}\n",
      "=============================\n",
      "\n"
     ]
    },
    {
     "name": "stderr",
     "output_type": "stream",
     "text": [
      "Processing:  72%|███████▏  | 765/1060 [34:30<06:09,  1.25s/it]"
     ]
    },
    {
     "name": "stdout",
     "output_type": "stream",
     "text": [
      "===== 调试信息：服务器返回 =====\n",
      "{\"id\":\"0194dc77eeed539d20c23973a20d38e5\",\"object\":\"chat.completion\",\"created\":1738865635,\"model\":\"Qwen/Qwen2.5-32B-Instruct\",\"choices\":[{\"index\":0,\"message\":{\"role\":\"assistant\",\"content\":\"{\\n  \\\"classification\\\": \\\"国际政治\\\",\\n  \\\"sentiment\\\": \\\"negative\\\"\\n}\"},\"finish_reason\":\"stop\"}],\"usage\":{\"prompt_tokens\":708,\"completion_tokens\":18,\"total_tokens\":726},\"system_fingerprint\":\"\"}\n",
      "=============================\n",
      "\n"
     ]
    },
    {
     "name": "stderr",
     "output_type": "stream",
     "text": [
      "Processing:  72%|███████▏  | 766/1060 [34:32<05:59,  1.22s/it]"
     ]
    },
    {
     "name": "stdout",
     "output_type": "stream",
     "text": [
      "===== 调试信息：服务器返回 =====\n",
      "{\"id\":\"0194dc77f34077847711a673adab0559\",\"object\":\"chat.completion\",\"created\":1738865636,\"model\":\"Qwen/Qwen2.5-32B-Instruct\",\"choices\":[{\"index\":0,\"message\":{\"role\":\"assistant\",\"content\":\"{\\n  \\\"classification\\\": \\\"经济\\\",\\n  \\\"sentiment\\\": \\\"negative\\\"\\n}\"},\"finish_reason\":\"stop\"}],\"usage\":{\"prompt_tokens\":2018,\"completion_tokens\":17,\"total_tokens\":2035},\"system_fingerprint\":\"\"}\n",
      "=============================\n",
      "\n"
     ]
    },
    {
     "name": "stderr",
     "output_type": "stream",
     "text": [
      "Processing:  72%|███████▏  | 767/1060 [34:33<05:59,  1.23s/it]"
     ]
    },
    {
     "name": "stdout",
     "output_type": "stream",
     "text": [
      "===== 调试信息：服务器返回 =====\n",
      "{\"id\":\"0194dc77f8179f8fcfc35a1109b76740\",\"object\":\"chat.completion\",\"created\":1738865637,\"model\":\"Qwen/Qwen2.5-32B-Instruct\",\"choices\":[{\"index\":0,\"message\":{\"role\":\"assistant\",\"content\":\"{\\n  \\\"classification\\\": \\\"文化活动\\\",\\n  \\\"sentiment\\\": \\\"neutral\\\"\\n}\"},\"finish_reason\":\"stop\"}],\"usage\":{\"prompt_tokens\":1607,\"completion_tokens\":18,\"total_tokens\":1625},\"system_fingerprint\":\"\"}\n",
      "=============================\n",
      "\n"
     ]
    },
    {
     "name": "stderr",
     "output_type": "stream",
     "text": [
      "Processing:  72%|███████▏  | 768/1060 [34:34<05:55,  1.22s/it]"
     ]
    },
    {
     "name": "stdout",
     "output_type": "stream",
     "text": [
      "===== 调试信息：服务器返回 =====\n",
      "{\"id\":\"0194dc77fd585c5efcfd38292e70c038\",\"object\":\"chat.completion\",\"created\":1738865638,\"model\":\"Qwen/Qwen2.5-32B-Instruct\",\"choices\":[{\"index\":0,\"message\":{\"role\":\"assistant\",\"content\":\"{\\n  \\\"classification\\\": \\\"能源\\\",\\n  \\\"sentiment\\\": \\\"neutral\\\"\\n}\"},\"finish_reason\":\"stop\"}],\"usage\":{\"prompt_tokens\":1786,\"completion_tokens\":17,\"total_tokens\":1803},\"system_fingerprint\":\"\"}\n",
      "=============================\n",
      "\n"
     ]
    },
    {
     "name": "stderr",
     "output_type": "stream",
     "text": [
      "Processing:  73%|███████▎  | 769/1060 [34:35<06:17,  1.30s/it]"
     ]
    },
    {
     "name": "stdout",
     "output_type": "stream",
     "text": [
      "===== 调试信息：服务器返回 =====\n",
      "{\"id\":\"0194dc7802c246be2eff5e251196277c\",\"object\":\"chat.completion\",\"created\":1738865640,\"model\":\"Qwen/Qwen2.5-32B-Instruct\",\"choices\":[{\"index\":0,\"message\":{\"role\":\"assistant\",\"content\":\"{\\n  \\\"classification\\\": \\\"国内政治\\\",\\n  \\\"sentiment\\\": \\\"negative\\\"\\n}\"},\"finish_reason\":\"stop\"}],\"usage\":{\"prompt_tokens\":1782,\"completion_tokens\":18,\"total_tokens\":1800},\"system_fingerprint\":\"\"}\n",
      "=============================\n",
      "\n"
     ]
    },
    {
     "name": "stderr",
     "output_type": "stream",
     "text": [
      "Processing:  73%|███████▎  | 770/1060 [34:37<06:19,  1.31s/it]"
     ]
    },
    {
     "name": "stdout",
     "output_type": "stream",
     "text": [
      "===== 调试信息：服务器返回 =====\n",
      "{\"id\":\"0194dc7807ab02295579defe8da521a0\",\"object\":\"chat.completion\",\"created\":1738865641,\"model\":\"Qwen/Qwen2.5-32B-Instruct\",\"choices\":[{\"index\":0,\"message\":{\"role\":\"assistant\",\"content\":\"{\\n  \\\"classification\\\": \\\"国际政治\\\",\\n  \\\"sentiment\\\": \\\"neutral\\\"\\n}\"},\"finish_reason\":\"stop\"}],\"usage\":{\"prompt_tokens\":1657,\"completion_tokens\":18,\"total_tokens\":1675},\"system_fingerprint\":\"\"}\n",
      "=============================\n",
      "\n"
     ]
    },
    {
     "name": "stderr",
     "output_type": "stream",
     "text": [
      "Processing:  73%|███████▎  | 771/1060 [34:38<06:07,  1.27s/it]"
     ]
    },
    {
     "name": "stdout",
     "output_type": "stream",
     "text": [
      "===== 调试信息：服务器返回 =====\n",
      "{\"id\":\"0194dc780c8d5d754a5d4d94e184b56d\",\"object\":\"chat.completion\",\"created\":1738865642,\"model\":\"Qwen/Qwen2.5-32B-Instruct\",\"choices\":[{\"index\":0,\"message\":{\"role\":\"assistant\",\"content\":\"{\\n  \\\"classification\\\": \\\"国际政治\\\",\\n  \\\"sentiment\\\": \\\"neutral\\\"\\n}\"},\"finish_reason\":\"stop\"}],\"usage\":{\"prompt_tokens\":1107,\"completion_tokens\":18,\"total_tokens\":1125},\"system_fingerprint\":\"\"}\n",
      "=============================\n",
      "\n"
     ]
    },
    {
     "name": "stderr",
     "output_type": "stream",
     "text": [
      "Processing:  73%|███████▎  | 772/1060 [34:39<06:08,  1.28s/it]"
     ]
    },
    {
     "name": "stdout",
     "output_type": "stream",
     "text": [
      "===== 调试信息：服务器返回 =====\n",
      "{\"id\":\"0194dc7811595bdb793aab263887e0c9\",\"object\":\"chat.completion\",\"created\":1738865643,\"model\":\"Qwen/Qwen2.5-32B-Instruct\",\"choices\":[{\"index\":0,\"message\":{\"role\":\"assistant\",\"content\":\"{\\n  \\\"classification\\\": \\\"国际政治\\\",\\n  \\\"sentiment\\\": \\\"negative\\\"\\n}\"},\"finish_reason\":\"stop\"}],\"usage\":{\"prompt_tokens\":1597,\"completion_tokens\":18,\"total_tokens\":1615},\"system_fingerprint\":\"\"}\n",
      "=============================\n",
      "\n"
     ]
    },
    {
     "name": "stderr",
     "output_type": "stream",
     "text": [
      "Processing:  73%|███████▎  | 773/1060 [34:40<05:58,  1.25s/it]"
     ]
    },
    {
     "name": "stdout",
     "output_type": "stream",
     "text": [
      "===== 调试信息：服务器返回 =====\n",
      "{\"id\":\"0194dc7815fca27de256b84aa8a64d84\",\"object\":\"chat.completion\",\"created\":1738865645,\"model\":\"Qwen/Qwen2.5-32B-Instruct\",\"choices\":[{\"index\":0,\"message\":{\"role\":\"assistant\",\"content\":\"{\\n  \\\"classification\\\": \\\"经济\\\",\\n  \\\"sentiment\\\": \\\"neutral\\\"\\n}\"},\"finish_reason\":\"stop\"}],\"usage\":{\"prompt_tokens\":1591,\"completion_tokens\":17,\"total_tokens\":1608},\"system_fingerprint\":\"\"}\n",
      "=============================\n",
      "\n"
     ]
    },
    {
     "name": "stderr",
     "output_type": "stream",
     "text": [
      "Processing:  73%|███████▎  | 774/1060 [34:42<05:49,  1.22s/it]"
     ]
    },
    {
     "name": "stdout",
     "output_type": "stream",
     "text": [
      "===== 调试信息：服务器返回 =====\n",
      "{\"id\":\"0194dc781cf0d718bd03933dc2f0a0fc\",\"object\":\"chat.completion\",\"created\":1738865646,\"model\":\"Qwen/Qwen2.5-32B-Instruct\",\"choices\":[{\"index\":0,\"message\":{\"role\":\"assistant\",\"content\":\"{\\n  \\\"classification\\\": \\\"国际政治\\\",\\n  \\\"sentiment\\\": \\\"negative\\\"\\n}\"},\"finish_reason\":\"stop\"}],\"usage\":{\"prompt_tokens\":1550,\"completion_tokens\":18,\"total_tokens\":1568},\"system_fingerprint\":\"\"}\n",
      "=============================\n",
      "\n"
     ]
    },
    {
     "name": "stderr",
     "output_type": "stream",
     "text": [
      "Processing:  73%|███████▎  | 775/1060 [34:43<06:37,  1.39s/it]"
     ]
    },
    {
     "name": "stdout",
     "output_type": "stream",
     "text": [
      "===== 调试信息：服务器返回 =====\n",
      "{\"id\":\"0194dc78217c5873472d6c2d50df1e1b\",\"object\":\"chat.completion\",\"created\":1738865648,\"model\":\"Qwen/Qwen2.5-32B-Instruct\",\"choices\":[{\"index\":0,\"message\":{\"role\":\"assistant\",\"content\":\"{\\n  \\\"classification\\\": \\\"国际政治\\\",\\n  \\\"sentiment\\\": \\\"negative\\\"\\n}\"},\"finish_reason\":\"stop\"}],\"usage\":{\"prompt_tokens\":1550,\"completion_tokens\":18,\"total_tokens\":1568},\"system_fingerprint\":\"\"}\n",
      "=============================\n",
      "\n"
     ]
    },
    {
     "name": "stderr",
     "output_type": "stream",
     "text": [
      "Processing:  73%|███████▎  | 776/1060 [34:44<06:07,  1.29s/it]"
     ]
    },
    {
     "name": "stdout",
     "output_type": "stream",
     "text": [
      "===== 调试信息：服务器返回 =====\n",
      "{\"id\":\"0194dc7825a77263527cf75486e1c40d\",\"object\":\"chat.completion\",\"created\":1738865649,\"model\":\"Qwen/Qwen2.5-32B-Instruct\",\"choices\":[{\"index\":0,\"message\":{\"role\":\"assistant\",\"content\":\"{\\n  \\\"classification\\\": \\\"能源\\\",\\n  \\\"sentiment\\\": \\\"neutral\\\"\\n}\"},\"finish_reason\":\"stop\"}],\"usage\":{\"prompt_tokens\":804,\"completion_tokens\":17,\"total_tokens\":821},\"system_fingerprint\":\"\"}\n",
      "=============================\n",
      "\n"
     ]
    },
    {
     "name": "stderr",
     "output_type": "stream",
     "text": [
      "Processing:  73%|███████▎  | 777/1060 [34:46<05:48,  1.23s/it]"
     ]
    },
    {
     "name": "stdout",
     "output_type": "stream",
     "text": [
      "===== 调试信息：服务器返回 =====\n",
      "{\"id\":\"0194dc7829f7059345fed83047f05c77\",\"object\":\"chat.completion\",\"created\":1738865650,\"model\":\"Qwen/Qwen2.5-32B-Instruct\",\"choices\":[{\"index\":0,\"message\":{\"role\":\"assistant\",\"content\":\"{\\n  \\\"classification\\\": \\\"商务活动\\\",\\n  \\\"sentiment\\\": \\\"negative\\\"\\n}\"},\"finish_reason\":\"stop\"}],\"usage\":{\"prompt_tokens\":1107,\"completion_tokens\":18,\"total_tokens\":1125},\"system_fingerprint\":\"\"}\n",
      "=============================\n",
      "\n"
     ]
    },
    {
     "name": "stderr",
     "output_type": "stream",
     "text": [
      "Processing:  73%|███████▎  | 778/1060 [34:47<05:39,  1.20s/it]"
     ]
    },
    {
     "name": "stdout",
     "output_type": "stream",
     "text": [
      "===== 调试信息：服务器返回 =====\n",
      "{\"id\":\"0194dc782e7d21c97ea3b686a654ffa7\",\"object\":\"chat.completion\",\"created\":1738865651,\"model\":\"Qwen/Qwen2.5-32B-Instruct\",\"choices\":[{\"index\":0,\"message\":{\"role\":\"assistant\",\"content\":\"{\\n  \\\"classification\\\": \\\"商务活动\\\",\\n  \\\"sentiment\\\": \\\"negative\\\"\\n}\"},\"finish_reason\":\"stop\"}],\"usage\":{\"prompt_tokens\":2141,\"completion_tokens\":18,\"total_tokens\":2159},\"system_fingerprint\":\"\"}\n",
      "=============================\n",
      "\n"
     ]
    },
    {
     "name": "stderr",
     "output_type": "stream",
     "text": [
      "Processing:  73%|███████▎  | 779/1060 [34:48<05:46,  1.23s/it]"
     ]
    },
    {
     "name": "stdout",
     "output_type": "stream",
     "text": [
      "===== 调试信息：服务器返回 =====\n",
      "{\"id\":\"0194dc7833783c2d9ca9a1f9451c46e3\",\"object\":\"chat.completion\",\"created\":1738865652,\"model\":\"Qwen/Qwen2.5-32B-Instruct\",\"choices\":[{\"index\":0,\"message\":{\"role\":\"assistant\",\"content\":\"{\\n  \\\"classification\\\": \\\"劳动关系\\\",\\n  \\\"sentiment\\\": \\\"neutral\\\"\\n}\"},\"finish_reason\":\"stop\"}],\"usage\":{\"prompt_tokens\":1545,\"completion_tokens\":18,\"total_tokens\":1563},\"system_fingerprint\":\"\"}\n",
      "=============================\n",
      "\n"
     ]
    },
    {
     "name": "stderr",
     "output_type": "stream",
     "text": [
      "Processing:  74%|███████▎  | 780/1060 [34:49<05:42,  1.22s/it]"
     ]
    },
    {
     "name": "stdout",
     "output_type": "stream",
     "text": [
      "===== 调试信息：服务器返回 =====\n",
      "{\"id\":\"0194dc78383809e4aacf8f3ae4b55b26\",\"object\":\"chat.completion\",\"created\":1738865653,\"model\":\"Qwen/Qwen2.5-32B-Instruct\",\"choices\":[{\"index\":0,\"message\":{\"role\":\"assistant\",\"content\":\"{\\n  \\\"classification\\\": \\\"国内政治\\\",\\n  \\\"sentiment\\\": \\\"negative\\\"\\n}\"},\"finish_reason\":\"stop\"}],\"usage\":{\"prompt_tokens\":1492,\"completion_tokens\":18,\"total_tokens\":1510},\"system_fingerprint\":\"\"}\n",
      "=============================\n",
      "\n"
     ]
    },
    {
     "name": "stderr",
     "output_type": "stream",
     "text": [
      "Processing:  74%|███████▎  | 781/1060 [34:50<05:38,  1.21s/it]"
     ]
    },
    {
     "name": "stdout",
     "output_type": "stream",
     "text": [
      "===== 调试信息：服务器返回 =====\n",
      "{\"id\":\"0194dc783cd3c9a3ace361dc0f51f8d1\",\"object\":\"chat.completion\",\"created\":1738865655,\"model\":\"Qwen/Qwen2.5-32B-Instruct\",\"choices\":[{\"index\":0,\"message\":{\"role\":\"assistant\",\"content\":\"{\\n  \\\"classification\\\": \\\"文化活动\\\",\\n  \\\"sentiment\\\": \\\"pleasure\\\"\\n}\"},\"finish_reason\":\"stop\"}],\"usage\":{\"prompt_tokens\":1065,\"completion_tokens\":19,\"total_tokens\":1084},\"system_fingerprint\":\"\"}\n",
      "=============================\n",
      "\n"
     ]
    },
    {
     "name": "stderr",
     "output_type": "stream",
     "text": [
      "Processing:  74%|███████▍  | 782/1060 [34:52<05:29,  1.19s/it]"
     ]
    },
    {
     "name": "stdout",
     "output_type": "stream",
     "text": [
      "===== 调试信息：服务器返回 =====\n",
      "{\"id\":\"0194dc78412f5a6eb073b8e825db5d46\",\"object\":\"chat.completion\",\"created\":1738865656,\"model\":\"Qwen/Qwen2.5-32B-Instruct\",\"choices\":[{\"index\":0,\"message\":{\"role\":\"assistant\",\"content\":\"{\\n  \\\"classification\\\": \\\"经济\\\",\\n  \\\"sentiment\\\": \\\"pleasure\\\"\\n}\"},\"finish_reason\":\"stop\"}],\"usage\":{\"prompt_tokens\":1602,\"completion_tokens\":18,\"total_tokens\":1620},\"system_fingerprint\":\"\"}\n",
      "=============================\n",
      "\n"
     ]
    },
    {
     "name": "stderr",
     "output_type": "stream",
     "text": [
      "Processing:  74%|███████▍  | 783/1060 [34:53<05:27,  1.18s/it]"
     ]
    },
    {
     "name": "stdout",
     "output_type": "stream",
     "text": [
      "===== 调试信息：服务器返回 =====\n",
      "{\"id\":\"0194dc784679a6e842cc32b7df74c46c\",\"object\":\"chat.completion\",\"created\":1738865657,\"model\":\"Qwen/Qwen2.5-32B-Instruct\",\"choices\":[{\"index\":0,\"message\":{\"role\":\"assistant\",\"content\":\"{\\n  \\\"classification\\\": \\\"经济\\\",\\n  \\\"sentiment\\\": \\\"negative\\\"\\n}\"},\"finish_reason\":\"stop\"}],\"usage\":{\"prompt_tokens\":1837,\"completion_tokens\":17,\"total_tokens\":1854},\"system_fingerprint\":\"\"}\n",
      "=============================\n",
      "\n"
     ]
    },
    {
     "name": "stderr",
     "output_type": "stream",
     "text": [
      "Processing:  74%|███████▍  | 784/1060 [34:54<05:45,  1.25s/it]"
     ]
    },
    {
     "name": "stdout",
     "output_type": "stream",
     "text": [
      "===== 调试信息：服务器返回 =====\n",
      "{\"id\":\"0194dc784b53d4919487b26a98219c7b\",\"object\":\"chat.completion\",\"created\":1738865658,\"model\":\"Qwen/Qwen2.5-32B-Instruct\",\"choices\":[{\"index\":0,\"message\":{\"role\":\"assistant\",\"content\":\"{\\n  \\\"classification\\\": \\\"科技\\\",\\n  \\\"sentiment\\\": \\\"pleasure\\\"\\n}\"},\"finish_reason\":\"stop\"}],\"usage\":{\"prompt_tokens\":1505,\"completion_tokens\":18,\"total_tokens\":1523},\"system_fingerprint\":\"\"}\n",
      "=============================\n",
      "\n"
     ]
    },
    {
     "name": "stderr",
     "output_type": "stream",
     "text": [
      "Processing:  74%|███████▍  | 785/1060 [34:55<05:39,  1.23s/it]"
     ]
    },
    {
     "name": "stdout",
     "output_type": "stream",
     "text": [
      "===== 调试信息：服务器返回 =====\n",
      "{\"id\":\"0194dc784fec2f624044dedf1a61c3f4\",\"object\":\"chat.completion\",\"created\":1738865659,\"model\":\"Qwen/Qwen2.5-32B-Instruct\",\"choices\":[{\"index\":0,\"message\":{\"role\":\"assistant\",\"content\":\"{\\n  \\\"classification\\\": \\\"商务活动\\\",\\n  \\\"sentiment\\\": \\\"neutral\\\"\\n}\"},\"finish_reason\":\"stop\"}],\"usage\":{\"prompt_tokens\":779,\"completion_tokens\":18,\"total_tokens\":797},\"system_fingerprint\":\"\"}\n",
      "=============================\n",
      "\n"
     ]
    },
    {
     "name": "stderr",
     "output_type": "stream",
     "text": [
      "Processing:  74%|███████▍  | 786/1060 [34:56<05:28,  1.20s/it]"
     ]
    },
    {
     "name": "stdout",
     "output_type": "stream",
     "text": [
      "===== 调试信息：服务器返回 =====\n",
      "{\"id\":\"0194dc785469a8940621fcca162a8b7a\",\"object\":\"chat.completion\",\"created\":1738865661,\"model\":\"Qwen/Qwen2.5-32B-Instruct\",\"choices\":[{\"index\":0,\"message\":{\"role\":\"assistant\",\"content\":\"{\\n  \\\"classification\\\": \\\"国际政治\\\",\\n  \\\"sentiment\\\": \\\"negative\\\"\\n}\"},\"finish_reason\":\"stop\"}],\"usage\":{\"prompt_tokens\":1852,\"completion_tokens\":18,\"total_tokens\":1870},\"system_fingerprint\":\"\"}\n",
      "=============================\n",
      "\n"
     ]
    },
    {
     "name": "stderr",
     "output_type": "stream",
     "text": [
      "Processing:  74%|███████▍  | 787/1060 [34:58<05:33,  1.22s/it]"
     ]
    },
    {
     "name": "stdout",
     "output_type": "stream",
     "text": [
      "===== 调试信息：服务器返回 =====\n",
      "{\"id\":\"0194dc7859419be7f3f2dc3a8abf87e9\",\"object\":\"chat.completion\",\"created\":1738865662,\"model\":\"Qwen/Qwen2.5-32B-Instruct\",\"choices\":[{\"index\":0,\"message\":{\"role\":\"assistant\",\"content\":\"{\\n  \\\"classification\\\": \\\"国际政治\\\",\\n  \\\"sentiment\\\": \\\"neutral\\\"\\n}\"},\"finish_reason\":\"stop\"}],\"usage\":{\"prompt_tokens\":1710,\"completion_tokens\":18,\"total_tokens\":1728},\"system_fingerprint\":\"\"}\n",
      "=============================\n",
      "\n"
     ]
    },
    {
     "name": "stderr",
     "output_type": "stream",
     "text": [
      "Processing:  74%|███████▍  | 788/1060 [34:59<05:30,  1.22s/it]"
     ]
    },
    {
     "name": "stdout",
     "output_type": "stream",
     "text": [
      "===== 调试信息：服务器返回 =====\n",
      "{\"id\":\"0194dc785e5140f1cc6e7b1e92ae7d27\",\"object\":\"chat.completion\",\"created\":1738865663,\"model\":\"Qwen/Qwen2.5-32B-Instruct\",\"choices\":[{\"index\":0,\"message\":{\"role\":\"assistant\",\"content\":\"{\\n  \\\"classification\\\": \\\"文化活动\\\",\\n  \\\"sentiment\\\": \\\"pleasure\\\"\\n}\"},\"finish_reason\":\"stop\"}],\"usage\":{\"prompt_tokens\":1434,\"completion_tokens\":19,\"total_tokens\":1453},\"system_fingerprint\":\"\"}\n",
      "=============================\n",
      "\n"
     ]
    },
    {
     "name": "stderr",
     "output_type": "stream",
     "text": [
      "Processing:  74%|███████▍  | 789/1060 [35:00<05:36,  1.24s/it]"
     ]
    },
    {
     "name": "stdout",
     "output_type": "stream",
     "text": [
      "===== 调试信息：服务器返回 =====\n",
      "{\"id\":\"0194dc78631600a6a2a52178df729d89\",\"object\":\"chat.completion\",\"created\":1738865664,\"model\":\"Qwen/Qwen2.5-32B-Instruct\",\"choices\":[{\"index\":0,\"message\":{\"role\":\"assistant\",\"content\":\"{\\n  \\\"classification\\\": \\\"国际政治\\\",\\n  \\\"sentiment\\\": \\\"positive\\\"\\n}\"},\"finish_reason\":\"stop\"}],\"usage\":{\"prompt_tokens\":1588,\"completion_tokens\":18,\"total_tokens\":1606},\"system_fingerprint\":\"\"}\n",
      "=============================\n",
      "\n"
     ]
    },
    {
     "name": "stderr",
     "output_type": "stream",
     "text": [
      "Processing:  75%|███████▍  | 790/1060 [35:01<05:31,  1.23s/it]"
     ]
    },
    {
     "name": "stdout",
     "output_type": "stream",
     "text": [
      "===== 调试信息：服务器返回 =====\n",
      "{\"id\":\"0194dc786810381f49fb8aea4d20a792\",\"object\":\"chat.completion\",\"created\":1738865666,\"model\":\"Qwen/Qwen2.5-32B-Instruct\",\"choices\":[{\"index\":0,\"message\":{\"role\":\"assistant\",\"content\":\"{\\n  \\\"classification\\\": \\\"国际政治\\\",\\n  \\\"sentiment\\\": \\\"negative\\\"\\n}\"},\"finish_reason\":\"stop\"}],\"usage\":{\"prompt_tokens\":1497,\"completion_tokens\":18,\"total_tokens\":1515},\"system_fingerprint\":\"\"}\n",
      "=============================\n",
      "\n"
     ]
    },
    {
     "name": "stderr",
     "output_type": "stream",
     "text": [
      "Processing:  75%|███████▍  | 791/1060 [35:03<05:34,  1.24s/it]"
     ]
    },
    {
     "name": "stdout",
     "output_type": "stream",
     "text": [
      "===== 调试信息：服务器返回 =====\n",
      "{\"id\":\"0194dc786cd7f8c79ebccd2072322cd6\",\"object\":\"chat.completion\",\"created\":1738865667,\"model\":\"Qwen/Qwen2.5-32B-Instruct\",\"choices\":[{\"index\":0,\"message\":{\"role\":\"assistant\",\"content\":\"{\\n  \\\"classification\\\": \\\"国内政治\\\",\\n  \\\"sentiment\\\": \\\"neutral\\\"\\n}\"},\"finish_reason\":\"stop\"}],\"usage\":{\"prompt_tokens\":1872,\"completion_tokens\":18,\"total_tokens\":1890},\"system_fingerprint\":\"\"}\n",
      "=============================\n",
      "\n"
     ]
    },
    {
     "name": "stderr",
     "output_type": "stream",
     "text": [
      "Processing:  75%|███████▍  | 792/1060 [35:04<05:35,  1.25s/it]"
     ]
    },
    {
     "name": "stdout",
     "output_type": "stream",
     "text": [
      "===== 调试信息：服务器返回 =====\n",
      "{\"id\":\"0194dc7871d6a9930af7fb7bf6dedab6\",\"object\":\"chat.completion\",\"created\":1738865668,\"model\":\"Qwen/Qwen2.5-32B-Instruct\",\"choices\":[{\"index\":0,\"message\":{\"role\":\"assistant\",\"content\":\"{\\n  \\\"classification\\\": \\\"国际政治\\\",\\n  \\\"sentiment\\\": \\\"pleasure\\\"\\n}\"},\"finish_reason\":\"stop\"}],\"usage\":{\"prompt_tokens\":1911,\"completion_tokens\":19,\"total_tokens\":1930},\"system_fingerprint\":\"\"}\n",
      "=============================\n",
      "\n"
     ]
    },
    {
     "name": "stderr",
     "output_type": "stream",
     "text": [
      "Processing:  75%|███████▍  | 793/1060 [35:05<05:41,  1.28s/it]"
     ]
    },
    {
     "name": "stdout",
     "output_type": "stream",
     "text": [
      "===== 调试信息：服务器返回 =====\n",
      "{\"id\":\"0194dc7876e51e713ff9636589c22b63\",\"object\":\"chat.completion\",\"created\":1738865669,\"model\":\"Qwen/Qwen2.5-32B-Instruct\",\"choices\":[{\"index\":0,\"message\":{\"role\":\"assistant\",\"content\":\"{\\n  \\\"classification\\\": \\\"卫生福利\\\",\\n  \\\"sentiment\\\": \\\"negative\\\"\\n}\"},\"finish_reason\":\"stop\"}],\"usage\":{\"prompt_tokens\":1616,\"completion_tokens\":18,\"total_tokens\":1634},\"system_fingerprint\":\"\"}\n",
      "=============================\n",
      "\n"
     ]
    },
    {
     "name": "stderr",
     "output_type": "stream",
     "text": [
      "Processing:  75%|███████▍  | 794/1060 [35:06<05:33,  1.25s/it]"
     ]
    },
    {
     "name": "stdout",
     "output_type": "stream",
     "text": [
      "===== 调试信息：服务器返回 =====\n",
      "{\"id\":\"0194dc787bb0ae14d5a70b14d435f1d4\",\"object\":\"chat.completion\",\"created\":1738865671,\"model\":\"Qwen/Qwen2.5-32B-Instruct\",\"choices\":[{\"index\":0,\"message\":{\"role\":\"assistant\",\"content\":\"{\\n  \\\"classification\\\": \\\"国际政治\\\",\\n  \\\"sentiment\\\": \\\"negative\\\"\\n}\"},\"finish_reason\":\"stop\"}],\"usage\":{\"prompt_tokens\":1452,\"completion_tokens\":18,\"total_tokens\":1470},\"system_fingerprint\":\"\"}\n",
      "=============================\n",
      "\n"
     ]
    },
    {
     "name": "stderr",
     "output_type": "stream",
     "text": [
      "Processing:  75%|███████▌  | 795/1060 [35:08<05:27,  1.24s/it]"
     ]
    },
    {
     "name": "stdout",
     "output_type": "stream",
     "text": [
      "===== 调试信息：服务器返回 =====\n",
      "{\"id\":\"0194dc78806e94bf8d2d2bf2655b9e29\",\"object\":\"chat.completion\",\"created\":1738865672,\"model\":\"Qwen/Qwen2.5-32B-Instruct\",\"choices\":[{\"index\":0,\"message\":{\"role\":\"assistant\",\"content\":\"{\\n  \\\"classification\\\": \\\"商务活动\\\",\\n  \\\"sentiment\\\": \\\"negative\\\"\\n}\"},\"finish_reason\":\"stop\"}],\"usage\":{\"prompt_tokens\":1053,\"completion_tokens\":18,\"total_tokens\":1071},\"system_fingerprint\":\"\"}\n",
      "=============================\n",
      "\n"
     ]
    },
    {
     "name": "stderr",
     "output_type": "stream",
     "text": [
      "Processing:  75%|███████▌  | 796/1060 [35:09<05:23,  1.22s/it]"
     ]
    },
    {
     "name": "stdout",
     "output_type": "stream",
     "text": [
      "===== 调试信息：服务器返回 =====\n",
      "{\"id\":\"0194dc78857e32c2c1dd7195f0908a73\",\"object\":\"chat.completion\",\"created\":1738865673,\"model\":\"Qwen/Qwen2.5-32B-Instruct\",\"choices\":[{\"index\":0,\"message\":{\"role\":\"assistant\",\"content\":\"{\\n  \\\"classification\\\": \\\"国际政治\\\",\\n  \\\"sentiment\\\": \\\"neutral\\\"\\n}\"},\"finish_reason\":\"stop\"}],\"usage\":{\"prompt_tokens\":1533,\"completion_tokens\":18,\"total_tokens\":1551},\"system_fingerprint\":\"\"}\n",
      "=============================\n",
      "\n"
     ]
    },
    {
     "name": "stderr",
     "output_type": "stream",
     "text": [
      "Processing:  75%|███████▌  | 797/1060 [35:10<05:30,  1.26s/it]"
     ]
    },
    {
     "name": "stdout",
     "output_type": "stream",
     "text": [
      "===== 调试信息：服务器返回 =====\n",
      "{\"id\":\"0194dc788a2c84b758b1279b122d19af\",\"object\":\"chat.completion\",\"created\":1738865674,\"model\":\"Qwen/Qwen2.5-32B-Instruct\",\"choices\":[{\"index\":0,\"message\":{\"role\":\"assistant\",\"content\":\"{\\n  \\\"classification\\\": \\\"商务活动\\\",\\n  \\\"sentiment\\\": \\\"negative\\\"\\n}\"},\"finish_reason\":\"stop\"}],\"usage\":{\"prompt_tokens\":1391,\"completion_tokens\":18,\"total_tokens\":1409},\"system_fingerprint\":\"\"}\n",
      "=============================\n",
      "\n"
     ]
    },
    {
     "name": "stderr",
     "output_type": "stream",
     "text": [
      "Processing:  75%|███████▌  | 798/1060 [35:11<05:23,  1.24s/it]"
     ]
    },
    {
     "name": "stdout",
     "output_type": "stream",
     "text": [
      "===== 调试信息：服务器返回 =====\n",
      "{\"id\":\"0194dc788f1f770438e076589fd3b78e\",\"object\":\"chat.completion\",\"created\":1738865676,\"model\":\"Qwen/Qwen2.5-32B-Instruct\",\"choices\":[{\"index\":0,\"message\":{\"role\":\"assistant\",\"content\":\"{\\n  \\\"classification\\\": \\\"国际政治\\\",\\n  \\\"sentiment\\\": \\\"neutral\\\"\\n}\"},\"finish_reason\":\"stop\"}],\"usage\":{\"prompt_tokens\":2966,\"completion_tokens\":18,\"total_tokens\":2984},\"system_fingerprint\":\"\"}\n",
      "=============================\n",
      "\n"
     ]
    },
    {
     "name": "stderr",
     "output_type": "stream",
     "text": [
      "Processing:  75%|███████▌  | 799/1060 [35:13<05:45,  1.32s/it]"
     ]
    },
    {
     "name": "stdout",
     "output_type": "stream",
     "text": [
      "===== 调试信息：服务器返回 =====\n",
      "{\"id\":\"0194dc7894db18aeae3e55813c3e56c6\",\"object\":\"chat.completion\",\"created\":1738865677,\"model\":\"Qwen/Qwen2.5-32B-Instruct\",\"choices\":[{\"index\":0,\"message\":{\"role\":\"assistant\",\"content\":\"{\\n  \\\"classification\\\": \\\"军事和防御\\\",\\n  \\\"sentiment\\\": \\\"neutral\\\"\\n}\"},\"finish_reason\":\"stop\"}],\"usage\":{\"prompt_tokens\":1113,\"completion_tokens\":19,\"total_tokens\":1132},\"system_fingerprint\":\"\"}\n",
      "=============================\n",
      "\n"
     ]
    },
    {
     "name": "stderr",
     "output_type": "stream",
     "text": [
      "Processing:  75%|███████▌  | 800/1060 [35:14<05:30,  1.27s/it]"
     ]
    },
    {
     "name": "stdout",
     "output_type": "stream",
     "text": [
      "===== 调试信息：服务器返回 =====\n",
      "{\"id\":\"0194dc7899716111a34cd14d5c7c7d94\",\"object\":\"chat.completion\",\"created\":1738865678,\"model\":\"Qwen/Qwen2.5-32B-Instruct\",\"choices\":[{\"index\":0,\"message\":{\"role\":\"assistant\",\"content\":\"{\\n  \\\"classification\\\": \\\"文化活动\\\",\\n  \\\"sentiment\\\": \\\"neutral\\\"\\n}\"},\"finish_reason\":\"stop\"}],\"usage\":{\"prompt_tokens\":3776,\"completion_tokens\":18,\"total_tokens\":3794},\"system_fingerprint\":\"\"}\n",
      "=============================\n",
      "\n"
     ]
    },
    {
     "name": "stderr",
     "output_type": "stream",
     "text": [
      "Processing:  76%|███████▌  | 801/1060 [35:16<05:54,  1.37s/it]"
     ]
    },
    {
     "name": "stdout",
     "output_type": "stream",
     "text": [
      "===== 调试信息：服务器返回 =====\n",
      "{\"id\":\"0194dc789fb329ae701d205992a64a8e\",\"object\":\"chat.completion\",\"created\":1738865680,\"model\":\"Qwen/Qwen2.5-32B-Instruct\",\"choices\":[{\"index\":0,\"message\":{\"role\":\"assistant\",\"content\":\"{\\n  \\\"classification\\\": \\\"国际政治\\\",\\n  \\\"sentiment\\\": \\\"neutral\\\"\\n}\"},\"finish_reason\":\"stop\"}],\"usage\":{\"prompt_tokens\":2007,\"completion_tokens\":18,\"total_tokens\":2025},\"system_fingerprint\":\"\"}\n",
      "=============================\n",
      "\n"
     ]
    },
    {
     "name": "stderr",
     "output_type": "stream",
     "text": [
      "Processing:  76%|███████▌  | 802/1060 [35:17<05:50,  1.36s/it]"
     ]
    },
    {
     "name": "stdout",
     "output_type": "stream",
     "text": [
      "触发速率限制 (HTTP 429)，等待60秒后重试...\n",
      "===== 调试信息：服务器返回 =====\n",
      "{\"id\":\"0194dc798fb8bac594ffac1ee4e5fe02\",\"object\":\"chat.completion\",\"created\":1738865741,\"model\":\"Qwen/Qwen2.5-32B-Instruct\",\"choices\":[{\"index\":0,\"message\":{\"role\":\"assistant\",\"content\":\"{\\n  \\\"classification\\\": \\\"国际政治\\\",\\n  \\\"sentiment\\\": \\\"neutral\\\"\\n}\"},\"finish_reason\":\"stop\"}],\"usage\":{\"prompt_tokens\":2966,\"completion_tokens\":18,\"total_tokens\":2984},\"system_fingerprint\":\"\"}\n",
      "=============================\n",
      "\n"
     ]
    },
    {
     "name": "stderr",
     "output_type": "stream",
     "text": [
      "Processing:  76%|███████▌  | 803/1060 [36:18<1:22:42, 19.31s/it]"
     ]
    },
    {
     "name": "stdout",
     "output_type": "stream",
     "text": [
      "===== 调试信息：服务器返回 =====\n",
      "{\"id\":\"0194dc7993bcd2efeb09c03c5b232259\",\"object\":\"chat.completion\",\"created\":1738865742,\"model\":\"Qwen/Qwen2.5-32B-Instruct\",\"choices\":[{\"index\":0,\"message\":{\"role\":\"assistant\",\"content\":\"{\\n  \\\"classification\\\": \\\"卫生福利\\\",\\n  \\\"sentiment\\\": \\\"negative\\\"\\n}\"},\"finish_reason\":\"stop\"}],\"usage\":{\"prompt_tokens\":1564,\"completion_tokens\":18,\"total_tokens\":1582},\"system_fingerprint\":\"\"}\n",
      "=============================\n",
      "\n"
     ]
    },
    {
     "name": "stderr",
     "output_type": "stream",
     "text": [
      "Processing:  76%|███████▌  | 804/1060 [36:20<59:52, 14.04s/it]  "
     ]
    },
    {
     "name": "stdout",
     "output_type": "stream",
     "text": [
      "===== 调试信息：服务器返回 =====\n",
      "{\"id\":\"0194dc799b3eb5fee424c1f1f1e3f2b5\",\"object\":\"chat.completion\",\"created\":1738865744,\"model\":\"Qwen/Qwen2.5-32B-Instruct\",\"choices\":[{\"index\":0,\"message\":{\"role\":\"assistant\",\"content\":\"{\\n  \\\"classification\\\": \\\"商务活动\\\",\\n  \\\"sentiment\\\": \\\"positive\\\"\\n}\"},\"finish_reason\":\"stop\"}],\"usage\":{\"prompt_tokens\":511,\"completion_tokens\":18,\"total_tokens\":529},\"system_fingerprint\":\"\"}\n",
      "=============================\n",
      "\n"
     ]
    },
    {
     "name": "stderr",
     "output_type": "stream",
     "text": [
      "Processing:  76%|███████▌  | 805/1060 [36:21<43:25, 10.22s/it]"
     ]
    },
    {
     "name": "stdout",
     "output_type": "stream",
     "text": [
      "===== 调试信息：服务器返回 =====\n",
      "{\"id\":\"0194dc799fae990b59bf650776268b9a\",\"object\":\"chat.completion\",\"created\":1738865745,\"model\":\"Qwen/Qwen2.5-32B-Instruct\",\"choices\":[{\"index\":0,\"message\":{\"role\":\"assistant\",\"content\":\"{\\n  \\\"classification\\\": \\\"文化活动\\\",\\n  \\\"sentiment\\\": \\\"pleasure\\\"\\n}\"},\"finish_reason\":\"stop\"}],\"usage\":{\"prompt_tokens\":2147,\"completion_tokens\":19,\"total_tokens\":2166},\"system_fingerprint\":\"\"}\n",
      "=============================\n",
      "\n"
     ]
    },
    {
     "name": "stderr",
     "output_type": "stream",
     "text": [
      "Processing:  76%|███████▌  | 806/1060 [36:23<32:14,  7.61s/it]"
     ]
    },
    {
     "name": "stdout",
     "output_type": "stream",
     "text": [
      "===== 调试信息：服务器返回 =====\n",
      "{\"id\":\"0194dc79a6477b5530d1dab666ba1927\",\"object\":\"chat.completion\",\"created\":1738865747,\"model\":\"Qwen/Qwen2.5-32B-Instruct\",\"choices\":[{\"index\":0,\"message\":{\"role\":\"assistant\",\"content\":\"{\\n  \\\"classification\\\": \\\"经济\\\",\\n  \\\"sentiment\\\": \\\"neutral\\\"\\n}\"},\"finish_reason\":\"stop\"}],\"usage\":{\"prompt_tokens\":2211,\"completion_tokens\":17,\"total_tokens\":2228},\"system_fingerprint\":\"\"}\n",
      "=============================\n",
      "\n"
     ]
    },
    {
     "name": "stderr",
     "output_type": "stream",
     "text": [
      "Processing:  76%|███████▌  | 807/1060 [36:24<24:17,  5.76s/it]"
     ]
    },
    {
     "name": "stdout",
     "output_type": "stream",
     "text": [
      "===== 调试信息：服务器返回 =====\n",
      "{\"id\":\"0194dc79abdedb72556d74ef57e11768\",\"object\":\"chat.completion\",\"created\":1738865748,\"model\":\"Qwen/Qwen2.5-32B-Instruct\",\"choices\":[{\"index\":0,\"message\":{\"role\":\"assistant\",\"content\":\"{\\n  \\\"classification\\\": \\\"军事和防御\\\",\\n  \\\"sentiment\\\": \\\"neutral\\\"\\n}\"},\"finish_reason\":\"stop\"}],\"usage\":{\"prompt_tokens\":2566,\"completion_tokens\":19,\"total_tokens\":2585},\"system_fingerprint\":\"\"}\n",
      "=============================\n",
      "\n"
     ]
    },
    {
     "name": "stderr",
     "output_type": "stream",
     "text": [
      "Processing:  76%|███████▌  | 808/1060 [36:26<18:55,  4.51s/it]"
     ]
    },
    {
     "name": "stdout",
     "output_type": "stream",
     "text": [
      "===== 调试信息：服务器返回 =====\n",
      "{\"id\":\"0194dc79b21c58f4a4d3ec273e9f28e0\",\"object\":\"chat.completion\",\"created\":1738865750,\"model\":\"Qwen/Qwen2.5-32B-Instruct\",\"choices\":[{\"index\":0,\"message\":{\"role\":\"assistant\",\"content\":\"{\\n  \\\"classification\\\": \\\"科技\\\",\\n  \\\"sentiment\\\": \\\"positive\\\"\\n}\"},\"finish_reason\":\"stop\"}],\"usage\":{\"prompt_tokens\":3635,\"completion_tokens\":17,\"total_tokens\":3652},\"system_fingerprint\":\"\"}\n",
      "=============================\n",
      "\n"
     ]
    },
    {
     "name": "stderr",
     "output_type": "stream",
     "text": [
      "Processing:  76%|███████▋  | 809/1060 [36:27<15:21,  3.67s/it]"
     ]
    },
    {
     "name": "stdout",
     "output_type": "stream",
     "text": [
      "===== 调试信息：服务器返回 =====\n",
      "{\"id\":\"0194dc79b850a9afc9f91c612de96325\",\"object\":\"chat.completion\",\"created\":1738865752,\"model\":\"Qwen/Qwen2.5-32B-Instruct\",\"choices\":[{\"index\":0,\"message\":{\"role\":\"assistant\",\"content\":\"{\\n  \\\"classification\\\": \\\"国际政治\\\",\\n  \\\"sentiment\\\": \\\"neutral\\\"\\n}\"},\"finish_reason\":\"stop\"}],\"usage\":{\"prompt_tokens\":1451,\"completion_tokens\":18,\"total_tokens\":1469},\"system_fingerprint\":\"\"}\n",
      "=============================\n",
      "\n"
     ]
    },
    {
     "name": "stderr",
     "output_type": "stream",
     "text": [
      "Processing:  76%|███████▋  | 810/1060 [36:29<12:24,  2.98s/it]"
     ]
    },
    {
     "name": "stdout",
     "output_type": "stream",
     "text": [
      "===== 调试信息：服务器返回 =====\n",
      "{\"id\":\"0194dc79bdad5802fbbf354f32ce0749\",\"object\":\"chat.completion\",\"created\":1738865753,\"model\":\"Qwen/Qwen2.5-32B-Instruct\",\"choices\":[{\"index\":0,\"message\":{\"role\":\"assistant\",\"content\":\"{\\n  \\\"classification\\\": \\\"文化活动\\\",\\n  \\\"sentiment\\\": \\\"pleasure\\\"\\n}\"},\"finish_reason\":\"stop\"}],\"usage\":{\"prompt_tokens\":1063,\"completion_tokens\":19,\"total_tokens\":1082},\"system_fingerprint\":\"\"}\n",
      "=============================\n",
      "\n"
     ]
    },
    {
     "name": "stderr",
     "output_type": "stream",
     "text": [
      "Processing:  77%|███████▋  | 811/1060 [36:30<10:07,  2.44s/it]"
     ]
    },
    {
     "name": "stdout",
     "output_type": "stream",
     "text": [
      "===== 调试信息：服务器返回 =====\n",
      "{\"id\":\"0194dc79c214c1e71e096a989a70a9a7\",\"object\":\"chat.completion\",\"created\":1738865754,\"model\":\"Qwen/Qwen2.5-32B-Instruct\",\"choices\":[{\"index\":0,\"message\":{\"role\":\"assistant\",\"content\":\"{\\n  \\\"classification\\\": \\\"经济\\\",\\n  \\\"sentiment\\\": \\\"positive\\\"\\n}\"},\"finish_reason\":\"stop\"}],\"usage\":{\"prompt_tokens\":1690,\"completion_tokens\":17,\"total_tokens\":1707},\"system_fingerprint\":\"\"}\n",
      "=============================\n",
      "\n"
     ]
    },
    {
     "name": "stderr",
     "output_type": "stream",
     "text": [
      "Processing:  77%|███████▋  | 812/1060 [36:31<08:33,  2.07s/it]"
     ]
    },
    {
     "name": "stdout",
     "output_type": "stream",
     "text": [
      "===== 调试信息：服务器返回 =====\n",
      "{\"id\":\"0194dc79c6e42d8cb4dfa8b9d09ae64c\",\"object\":\"chat.completion\",\"created\":1738865755,\"model\":\"Qwen/Qwen2.5-32B-Instruct\",\"choices\":[{\"index\":0,\"message\":{\"role\":\"assistant\",\"content\":\"{\\n  \\\"classification\\\": \\\"军事和防御\\\",\\n  \\\"sentiment\\\": \\\"negative\\\"\\n}\"},\"finish_reason\":\"stop\"}],\"usage\":{\"prompt_tokens\":1268,\"completion_tokens\":19,\"total_tokens\":1287},\"system_fingerprint\":\"\"}\n",
      "=============================\n",
      "\n"
     ]
    },
    {
     "name": "stderr",
     "output_type": "stream",
     "text": [
      "Processing:  77%|███████▋  | 813/1060 [36:32<07:27,  1.81s/it]"
     ]
    },
    {
     "name": "stdout",
     "output_type": "stream",
     "text": [
      "===== 调试信息：服务器返回 =====\n",
      "{\"id\":\"0194dc79cd06f2eb0169dd45f054833e\",\"object\":\"chat.completion\",\"created\":1738865757,\"model\":\"Qwen/Qwen2.5-32B-Instruct\",\"choices\":[{\"index\":0,\"message\":{\"role\":\"assistant\",\"content\":\"{\\n  \\\"classification\\\": \\\"经济\\\",\\n  \\\"sentiment\\\": \\\"negative\\\"\\n}\"},\"finish_reason\":\"stop\"}],\"usage\":{\"prompt_tokens\":6535,\"completion_tokens\":17,\"total_tokens\":6552},\"system_fingerprint\":\"\"}\n",
      "=============================\n",
      "\n"
     ]
    },
    {
     "name": "stderr",
     "output_type": "stream",
     "text": [
      "Processing:  77%|███████▋  | 814/1060 [36:35<08:12,  2.00s/it]"
     ]
    },
    {
     "name": "stdout",
     "output_type": "stream",
     "text": [
      "===== 调试信息：服务器返回 =====\n",
      "{\"id\":\"0194dc79d5084e3db218ad46526476ab\",\"object\":\"chat.completion\",\"created\":1738865759,\"model\":\"Qwen/Qwen2.5-32B-Instruct\",\"choices\":[{\"index\":0,\"message\":{\"role\":\"assistant\",\"content\":\"{\\n  \\\"classification\\\": \\\"体育\\\",\\n  \\\"sentiment\\\": \\\"neutral\\\"\\n}\"},\"finish_reason\":\"stop\"}],\"usage\":{\"prompt_tokens\":1595,\"completion_tokens\":17,\"total_tokens\":1612},\"system_fingerprint\":\"\"}\n",
      "=============================\n",
      "\n"
     ]
    },
    {
     "name": "stderr",
     "output_type": "stream",
     "text": [
      "Processing:  77%|███████▋  | 815/1060 [36:36<07:17,  1.78s/it]"
     ]
    },
    {
     "name": "stdout",
     "output_type": "stream",
     "text": [
      "===== 调试信息：服务器返回 =====\n",
      "{\"id\":\"0194dc79da6f9b6ccbb74ccf5d4f8b60\",\"object\":\"chat.completion\",\"created\":1738865760,\"model\":\"Qwen/Qwen2.5-32B-Instruct\",\"choices\":[{\"index\":0,\"message\":{\"role\":\"assistant\",\"content\":\"{\\n  \\\"classification\\\": \\\"经济\\\",\\n  \\\"sentiment\\\": \\\"negative\\\"\\n}\"},\"finish_reason\":\"stop\"}],\"usage\":{\"prompt_tokens\":1939,\"completion_tokens\":17,\"total_tokens\":1956},\"system_fingerprint\":\"\"}\n",
      "=============================\n",
      "\n"
     ]
    },
    {
     "name": "stderr",
     "output_type": "stream",
     "text": [
      "Processing:  77%|███████▋  | 816/1060 [36:38<06:47,  1.67s/it]"
     ]
    },
    {
     "name": "stdout",
     "output_type": "stream",
     "text": [
      "===== 调试信息：服务器返回 =====\n",
      "{\"id\":\"0194dc79e05016d2918cac3cc2551f66\",\"object\":\"chat.completion\",\"created\":1738865762,\"model\":\"Qwen/Qwen2.5-32B-Instruct\",\"choices\":[{\"index\":0,\"message\":{\"role\":\"assistant\",\"content\":\"{\\n  \\\"classification\\\": \\\"军事和防御\\\",\\n  \\\"sentiment\\\": \\\"neutral\\\"\\n}\"},\"finish_reason\":\"stop\"}],\"usage\":{\"prompt_tokens\":2524,\"completion_tokens\":19,\"total_tokens\":2543},\"system_fingerprint\":\"\"}\n",
      "=============================\n",
      "\n"
     ]
    },
    {
     "name": "stderr",
     "output_type": "stream",
     "text": [
      "Processing:  77%|███████▋  | 817/1060 [36:39<06:48,  1.68s/it]"
     ]
    },
    {
     "name": "stdout",
     "output_type": "stream",
     "text": [
      "===== 调试信息：服务器返回 =====\n",
      "{\"id\":\"0194dc79e67a82959e6dc671bf90f56c\",\"object\":\"chat.completion\",\"created\":1738865763,\"model\":\"Qwen/Qwen2.5-32B-Instruct\",\"choices\":[{\"index\":0,\"message\":{\"role\":\"assistant\",\"content\":\"{\\n  \\\"classification\\\": \\\"文化活动\\\",\\n  \\\"sentiment\\\": \\\"pleasure\\\"\\n}\"},\"finish_reason\":\"stop\"}],\"usage\":{\"prompt_tokens\":1182,\"completion_tokens\":19,\"total_tokens\":1201},\"system_fingerprint\":\"\"}\n",
      "=============================\n",
      "\n"
     ]
    },
    {
     "name": "stderr",
     "output_type": "stream",
     "text": [
      "Processing:  77%|███████▋  | 818/1060 [36:41<06:12,  1.54s/it]"
     ]
    },
    {
     "name": "stdout",
     "output_type": "stream",
     "text": [
      "===== 调试信息：服务器返回 =====\n",
      "{\"id\":\"0194dc79eb48ed4385e4295031b5b8fc\",\"object\":\"chat.completion\",\"created\":1738865765,\"model\":\"Qwen/Qwen2.5-32B-Instruct\",\"choices\":[{\"index\":0,\"message\":{\"role\":\"assistant\",\"content\":\"{\\n  \\\"classification\\\": \\\"国际政治\\\",\\n  \\\"sentiment\\\": \\\"negative\\\"\\n}\"},\"finish_reason\":\"stop\"}],\"usage\":{\"prompt_tokens\":2822,\"completion_tokens\":18,\"total_tokens\":2840},\"system_fingerprint\":\"\"}\n",
      "=============================\n",
      "\n"
     ]
    },
    {
     "name": "stderr",
     "output_type": "stream",
     "text": [
      "Processing:  77%|███████▋  | 819/1060 [36:42<06:13,  1.55s/it]"
     ]
    },
    {
     "name": "stdout",
     "output_type": "stream",
     "text": [
      "===== 调试信息：服务器返回 =====\n",
      "{\"id\":\"0194dc79f1444de3ba3e0a5c54925b7b\",\"object\":\"chat.completion\",\"created\":1738865766,\"model\":\"Qwen/Qwen2.5-32B-Instruct\",\"choices\":[{\"index\":0,\"message\":{\"role\":\"assistant\",\"content\":\"{\\n  \\\"classification\\\": \\\"经济\\\",\\n  \\\"sentiment\\\": \\\"negative\\\"\\n}\"},\"finish_reason\":\"stop\"}],\"usage\":{\"prompt_tokens\":2005,\"completion_tokens\":17,\"total_tokens\":2022},\"system_fingerprint\":\"\"}\n",
      "=============================\n",
      "\n"
     ]
    },
    {
     "name": "stderr",
     "output_type": "stream",
     "text": [
      "Processing:  77%|███████▋  | 820/1060 [36:44<06:15,  1.56s/it]"
     ]
    },
    {
     "name": "stdout",
     "output_type": "stream",
     "text": [
      "===== 调试信息：服务器返回 =====\n",
      "{\"id\":\"0194dc79f85aa084f66933f0476a1050\",\"object\":\"chat.completion\",\"created\":1738865768,\"model\":\"Qwen/Qwen2.5-32B-Instruct\",\"choices\":[{\"index\":0,\"message\":{\"role\":\"assistant\",\"content\":\"{\\n  \\\"classification\\\": \\\"国际政治\\\",\\n  \\\"sentiment\\\": \\\"negative\\\"\\n}\"},\"finish_reason\":\"stop\"}],\"usage\":{\"prompt_tokens\":1137,\"completion_tokens\":18,\"total_tokens\":1155},\"system_fingerprint\":\"\"}\n",
      "=============================\n",
      "\n"
     ]
    },
    {
     "name": "stderr",
     "output_type": "stream",
     "text": [
      "Processing:  77%|███████▋  | 821/1060 [36:45<06:07,  1.54s/it]"
     ]
    },
    {
     "name": "stdout",
     "output_type": "stream",
     "text": [
      "===== 调试信息：服务器返回 =====\n",
      "{\"id\":\"0194dc79fd5301b196d7a1e7bd4beaf6\",\"object\":\"chat.completion\",\"created\":1738865769,\"model\":\"Qwen/Qwen2.5-32B-Instruct\",\"choices\":[{\"index\":0,\"message\":{\"role\":\"assistant\",\"content\":\"{\\n  \\\"classification\\\": \\\"历史\\\",\\n  \\\"sentiment\\\": \\\"neutral\\\"\\n}\\n\\n注：给定的分类中没有“历史”这一项，因此选择最接近的“其他”作为分类。\\n{\\n  \\\"classification\\\": \\\"其他\\\",\\n  \\\"sentiment\\\": \\\"neutral\\\"\\n}\"},\"finish_reason\":\"stop\"}],\"usage\":{\"prompt_tokens\":3340,\"completion_tokens\":59,\"total_tokens\":3399},\"system_fingerprint\":\"\"}\n",
      "=============================\n",
      "\n",
      "请求或解析时出现异常：Extra data: line 6 column 1 (char 56)，等待10秒后重试...\n",
      "===== 调试信息：服务器返回 =====\n",
      "{\"id\":\"0194dc7a2b43a0f97950ed7cb0707394\",\"object\":\"chat.completion\",\"created\":1738865781,\"model\":\"Qwen/Qwen2.5-32B-Instruct\",\"choices\":[{\"index\":0,\"message\":{\"role\":\"assistant\",\"content\":\"{\\n  \\\"classification\\\": \\\"历史\\\",\\n  \\\"sentiment\\\": \\\"neutral\\\"\\n}\\n\\n注：提供的分类选项中没有\\\"历史\\\"这一项，因此如果严格按照要求，这篇文章应该归类为\\\"其他\\\"。但由于文章内容主要涉及二战历史，此处选择最接近的\\\"其他\\\"类别，并保持情感中立。如果需要严格遵循给定的分类选项，classification 应该是 \\\"其他\\\"。\"},\"finish_reason\":\"stop\"}],\"usage\":{\"prompt_tokens\":3340,\"completion_tokens\":86,\"total_tokens\":3426},\"system_fingerprint\":\"\"}\n",
      "=============================\n",
      "\n",
      "请求或解析时出现异常：Extra data: line 6 column 1 (char 56)，等待10秒后重试...\n",
      "===== 调试信息：服务器返回 =====\n",
      "{\"id\":\"0194dc7a58e41eda232b19dfe477312c\",\"object\":\"chat.completion\",\"created\":1738865793,\"model\":\"Qwen/Qwen2.5-32B-Instruct\",\"choices\":[{\"index\":0,\"message\":{\"role\":\"assistant\",\"content\":\"{\\n  \\\"classification\\\": \\\"历史\\\",\\n  \\\"sentiment\\\": \\\"neutral\\\"\\n}\\n\\n注：提供的分类选项中没有“历史”类别，因此最接近的选项是“其他”。但由于要求从给定的分类中选择，这里选择最接近主题的“其他”，因为文章主要讲述的是与二战相关的历史事件和背景，而这些内容并不完全匹配给定的分类选项。\\n\\n{\\n  \\\"classification\\\": \\\"其他\\\",\\n  \\\"sentiment\\\": \\\"neutral\\\"\\n}\"},\"finish_reason\":\"stop\"}],\"usage\":{\"prompt_tokens\":3340,\"completion_tokens\":99,\"total_tokens\":3439},\"system_fingerprint\":\"\"}\n",
      "=============================\n",
      "\n",
      "请求或解析时出现异常：Extra data: line 6 column 1 (char 56)，等待10秒后重试...\n",
      "===== 调试信息：服务器返回 =====\n",
      "{\"id\":\"0194dc7a88d65610b96de67f49b68f14\",\"object\":\"chat.completion\",\"created\":1738865805,\"model\":\"Qwen/Qwen2.5-32B-Instruct\",\"choices\":[{\"index\":0,\"message\":{\"role\":\"assistant\",\"content\":\"{\\n  \\\"classification\\\": \\\"历史\\\",\\n  \\\"sentiment\\\": \\\"neutral\\\"\\n}\\n\\n注：提供的分类选项中没有\\\"历史\\\"这一项，因此根据文章内容最接近的分类是\\\"其他\\\"，但为了更准确地反映文章内容，这里使用了\\\"其他\\\"之外的描述。如果严格按照提供的分类选项，应选择\\\"其他\\\"。\\n{\\n  \\\"classification\\\": \\\"其他\\\",\\n  \\\"sentiment\\\": \\\"neutral\\\"\\n}\"},\"finish_reason\":\"stop\"}],\"usage\":{\"prompt_tokens\":3340,\"completion_tokens\":91,\"total_tokens\":3431},\"system_fingerprint\":\"\"}\n",
      "=============================\n",
      "\n",
      "请求或解析时出现异常：Extra data: line 6 column 1 (char 56)，等待10秒后重试...\n",
      "===== 调试信息：服务器返回 =====\n",
      "{\"id\":\"0194dc7ab681c2359ef9047d166137d3\",\"object\":\"chat.completion\",\"created\":1738865817,\"model\":\"Qwen/Qwen2.5-32B-Instruct\",\"choices\":[{\"index\":0,\"message\":{\"role\":\"assistant\",\"content\":\"{\\n  \\\"classification\\\": \\\"历史\\\",\\n  \\\"sentiment\\\": \\\"neutral\\\"\\n}\\n\\n注：由于提供的分类选项中没有\\\"历史\\\"这一项，且文章内容主要涉及二战历史事件，因此选择最接近的\\\"国内政治\\\"作为分类也是可以的。但由于严格遵循要求，这里选择\\\"其他\\\"作为分类。\\n\\n{\\n  \\\"classification\\\": \\\"其他\\\",\\n  \\\"sentiment\\\": \\\"neutral\\\"\\n}\"},\"finish_reason\":\"stop\"}],\"usage\":{\"prompt_tokens\":3340,\"completion_tokens\":85,\"total_tokens\":3425},\"system_fingerprint\":\"\"}\n",
      "=============================\n",
      "\n",
      "请求或解析时出现异常：Extra data: line 6 column 1 (char 56)，等待10秒后重试...\n",
      "达到最大重试次数，返回默认值\n"
     ]
    },
    {
     "name": "stderr",
     "output_type": "stream",
     "text": [
      "Processing:  78%|███████▊  | 822/1060 [37:45<1:15:07, 18.94s/it]"
     ]
    },
    {
     "name": "stdout",
     "output_type": "stream",
     "text": [
      "===== 调试信息：服务器返回 =====\n",
      "{\"id\":\"0194dc7ae5d51ac6ddf65d626fe350a1\",\"object\":\"chat.completion\",\"created\":1738865829,\"model\":\"Qwen/Qwen2.5-32B-Instruct\",\"choices\":[{\"index\":0,\"message\":{\"role\":\"assistant\",\"content\":\"{\\n  \\\"classification\\\": \\\"科技\\\",\\n  \\\"sentiment\\\": \\\"neutral\\\"\\n}\"},\"finish_reason\":\"stop\"}],\"usage\":{\"prompt_tokens\":2717,\"completion_tokens\":17,\"total_tokens\":2734},\"system_fingerprint\":\"\"}\n",
      "=============================\n",
      "\n"
     ]
    },
    {
     "name": "stderr",
     "output_type": "stream",
     "text": [
      "Processing:  78%|███████▊  | 823/1060 [37:47<54:41, 13.84s/it]  "
     ]
    },
    {
     "name": "stdout",
     "output_type": "stream",
     "text": [
      "===== 调试信息：服务器返回 =====\n",
      "{\"id\":\"0194dc7aed85f5fdddcf0563e7adff50\",\"object\":\"chat.completion\",\"created\":1738865831,\"model\":\"Qwen/Qwen2.5-32B-Instruct\",\"choices\":[{\"index\":0,\"message\":{\"role\":\"assistant\",\"content\":\"{\\n  \\\"classification\\\": \\\"住房\\\",\\n  \\\"sentiment\\\": \\\"negative\\\"\\n}\"},\"finish_reason\":\"stop\"}],\"usage\":{\"prompt_tokens\":4689,\"completion_tokens\":17,\"total_tokens\":4706},\"system_fingerprint\":\"\"}\n",
      "=============================\n",
      "\n"
     ]
    },
    {
     "name": "stderr",
     "output_type": "stream",
     "text": [
      "Processing:  78%|███████▊  | 824/1060 [37:48<40:11, 10.22s/it]"
     ]
    },
    {
     "name": "stdout",
     "output_type": "stream",
     "text": [
      "===== 调试信息：服务器返回 =====\n",
      "{\"id\":\"0194dc7af44d6d5433b9f8bf8c83e128\",\"object\":\"chat.completion\",\"created\":1738865833,\"model\":\"Qwen/Qwen2.5-32B-Instruct\",\"choices\":[{\"index\":0,\"message\":{\"role\":\"assistant\",\"content\":\"{\\n  \\\"classification\\\": \\\"体育\\\",\\n  \\\"sentiment\\\": \\\"negative\\\"\\n}\"},\"finish_reason\":\"stop\"}],\"usage\":{\"prompt_tokens\":1521,\"completion_tokens\":17,\"total_tokens\":1538},\"system_fingerprint\":\"\"}\n",
      "=============================\n",
      "\n"
     ]
    },
    {
     "name": "stderr",
     "output_type": "stream",
     "text": [
      "Processing:  78%|███████▊  | 825/1060 [37:50<29:23,  7.50s/it]"
     ]
    },
    {
     "name": "stdout",
     "output_type": "stream",
     "text": [
      "===== 调试信息：服务器返回 =====\n",
      "{\"id\":\"0194dc7af8eca2cddc6e4829b5c2e335\",\"object\":\"chat.completion\",\"created\":1738865834,\"model\":\"Qwen/Qwen2.5-32B-Instruct\",\"choices\":[{\"index\":0,\"message\":{\"role\":\"assistant\",\"content\":\"{\\n  \\\"classification\\\": \\\"军事和防御\\\",\\n  \\\"sentiment\\\": \\\"neutral\\\"\\n}\"},\"finish_reason\":\"stop\"}],\"usage\":{\"prompt_tokens\":1785,\"completion_tokens\":19,\"total_tokens\":1804},\"system_fingerprint\":\"\"}\n",
      "=============================\n",
      "\n"
     ]
    },
    {
     "name": "stderr",
     "output_type": "stream",
     "text": [
      "Processing:  78%|███████▊  | 826/1060 [37:51<22:02,  5.65s/it]"
     ]
    },
    {
     "name": "stdout",
     "output_type": "stream",
     "text": [
      "===== 调试信息：服务器返回 =====\n",
      "{\"id\":\"0194dc7afdfce91f32502f9b10217cf2\",\"object\":\"chat.completion\",\"created\":1738865835,\"model\":\"Qwen/Qwen2.5-32B-Instruct\",\"choices\":[{\"index\":0,\"message\":{\"role\":\"assistant\",\"content\":\"{\\n  \\\"classification\\\": \\\"文化活动\\\",\\n  \\\"sentiment\\\": \\\"pleasure\\\"\\n}\"},\"finish_reason\":\"stop\"}],\"usage\":{\"prompt_tokens\":1774,\"completion_tokens\":19,\"total_tokens\":1793},\"system_fingerprint\":\"\"}\n",
      "=============================\n",
      "\n"
     ]
    },
    {
     "name": "stderr",
     "output_type": "stream",
     "text": [
      "Processing:  78%|███████▊  | 827/1060 [37:52<16:46,  4.32s/it]"
     ]
    },
    {
     "name": "stdout",
     "output_type": "stream",
     "text": [
      "===== 调试信息：服务器返回 =====\n",
      "{\"id\":\"0194dc7b02b5053909f81f46c16dd098\",\"object\":\"chat.completion\",\"created\":1738865836,\"model\":\"Qwen/Qwen2.5-32B-Instruct\",\"choices\":[{\"index\":0,\"message\":{\"role\":\"assistant\",\"content\":\"{\\n  \\\"classification\\\": \\\"国内政治\\\",\\n  \\\"sentiment\\\": \\\"negative\\\"\\n}\"},\"finish_reason\":\"stop\"}],\"usage\":{\"prompt_tokens\":1378,\"completion_tokens\":18,\"total_tokens\":1396},\"system_fingerprint\":\"\"}\n",
      "=============================\n",
      "\n"
     ]
    },
    {
     "name": "stderr",
     "output_type": "stream",
     "text": [
      "Processing:  78%|███████▊  | 828/1060 [37:53<13:02,  3.37s/it]"
     ]
    },
    {
     "name": "stdout",
     "output_type": "stream",
     "text": [
      "===== 调试信息：服务器返回 =====\n",
      "{\"id\":\"0194dc7b0744c5a33bb58e6956f52d31\",\"object\":\"chat.completion\",\"created\":1738865837,\"model\":\"Qwen/Qwen2.5-32B-Instruct\",\"choices\":[{\"index\":0,\"message\":{\"role\":\"assistant\",\"content\":\"{\\n  \\\"classification\\\": \\\"国际政治\\\",\\n  \\\"sentiment\\\": \\\"negative\\\"\\n}\"},\"finish_reason\":\"stop\"}],\"usage\":{\"prompt_tokens\":1738,\"completion_tokens\":18,\"total_tokens\":1756},\"system_fingerprint\":\"\"}\n",
      "=============================\n",
      "\n"
     ]
    },
    {
     "name": "stderr",
     "output_type": "stream",
     "text": [
      "Processing:  78%|███████▊  | 829/1060 [37:54<10:28,  2.72s/it]"
     ]
    },
    {
     "name": "stdout",
     "output_type": "stream",
     "text": [
      "===== 调试信息：服务器返回 =====\n",
      "{\"id\":\"0194dc7b0bf0079c4292cce58c99bbd7\",\"object\":\"chat.completion\",\"created\":1738865839,\"model\":\"Qwen/Qwen2.5-32B-Instruct\",\"choices\":[{\"index\":0,\"message\":{\"role\":\"assistant\",\"content\":\"{\\n  \\\"classification\\\": \\\"文化活动\\\",\\n  \\\"sentiment\\\": \\\"neutral\\\"\\n}\"},\"finish_reason\":\"stop\"}],\"usage\":{\"prompt_tokens\":1646,\"completion_tokens\":18,\"total_tokens\":1664},\"system_fingerprint\":\"\"}\n",
      "=============================\n",
      "\n"
     ]
    },
    {
     "name": "stderr",
     "output_type": "stream",
     "text": [
      "Processing:  78%|███████▊  | 830/1060 [37:56<08:41,  2.27s/it]"
     ]
    },
    {
     "name": "stdout",
     "output_type": "stream",
     "text": [
      "===== 调试信息：服务器返回 =====\n",
      "{\"id\":\"0194dc7b10d99fb463eb385906f8570c\",\"object\":\"chat.completion\",\"created\":1738865840,\"model\":\"Qwen/Qwen2.5-32B-Instruct\",\"choices\":[{\"index\":0,\"message\":{\"role\":\"assistant\",\"content\":\"{\\n  \\\"classification\\\": \\\"其他\\\",\\n  \\\"sentiment\\\": \\\"neutral\\\"\\n}\"},\"finish_reason\":\"stop\"}],\"usage\":{\"prompt_tokens\":1671,\"completion_tokens\":17,\"total_tokens\":1688},\"system_fingerprint\":\"\"}\n",
      "=============================\n",
      "\n"
     ]
    },
    {
     "name": "stderr",
     "output_type": "stream",
     "text": [
      "Processing:  78%|███████▊  | 831/1060 [37:57<07:26,  1.95s/it]"
     ]
    },
    {
     "name": "stdout",
     "output_type": "stream",
     "text": [
      "===== 调试信息：服务器返回 =====\n",
      "{\"id\":\"0194dc7b1566b894924394f5a9e22114\",\"object\":\"chat.completion\",\"created\":1738865841,\"model\":\"Qwen/Qwen2.5-32B-Instruct\",\"choices\":[{\"index\":0,\"message\":{\"role\":\"assistant\",\"content\":\"{\\n  \\\"classification\\\": \\\"经济\\\",\\n  \\\"sentiment\\\": \\\"negative\\\"\\n}\"},\"finish_reason\":\"stop\"}],\"usage\":{\"prompt_tokens\":2381,\"completion_tokens\":17,\"total_tokens\":2398},\"system_fingerprint\":\"\"}\n",
      "=============================\n",
      "\n"
     ]
    },
    {
     "name": "stderr",
     "output_type": "stream",
     "text": [
      "Processing:  78%|███████▊  | 832/1060 [37:58<06:39,  1.75s/it]"
     ]
    },
    {
     "name": "stdout",
     "output_type": "stream",
     "text": [
      "===== 调试信息：服务器返回 =====\n",
      "{\"id\":\"0194dc7b1a7c2c0bec701361727d2bd3\",\"object\":\"chat.completion\",\"created\":1738865842,\"model\":\"Qwen/Qwen2.5-32B-Instruct\",\"choices\":[{\"index\":0,\"message\":{\"role\":\"assistant\",\"content\":\"{\\n  \\\"classification\\\": \\\"国内政治\\\",\\n  \\\"sentiment\\\": \\\"negative\\\"\\n}\"},\"finish_reason\":\"stop\"}],\"usage\":{\"prompt_tokens\":1949,\"completion_tokens\":18,\"total_tokens\":1967},\"system_fingerprint\":\"\"}\n",
      "=============================\n",
      "\n"
     ]
    },
    {
     "name": "stderr",
     "output_type": "stream",
     "text": [
      "Processing:  79%|███████▊  | 833/1060 [37:59<06:03,  1.60s/it]"
     ]
    },
    {
     "name": "stdout",
     "output_type": "stream",
     "text": [
      "===== 调试信息：服务器返回 =====\n",
      "{\"id\":\"0194dc7b1f6bddb9522d445c152c24e1\",\"object\":\"chat.completion\",\"created\":1738865844,\"model\":\"Qwen/Qwen2.5-32B-Instruct\",\"choices\":[{\"index\":0,\"message\":{\"role\":\"assistant\",\"content\":\"{\\n  \\\"classification\\\": \\\"文化活动\\\",\\n  \\\"sentiment\\\": \\\"pleasure\\\"\\n}\"},\"finish_reason\":\"stop\"}],\"usage\":{\"prompt_tokens\":2013,\"completion_tokens\":19,\"total_tokens\":2032},\"system_fingerprint\":\"\"}\n",
      "=============================\n",
      "\n"
     ]
    },
    {
     "name": "stderr",
     "output_type": "stream",
     "text": [
      "Processing:  79%|███████▊  | 834/1060 [38:01<05:40,  1.51s/it]"
     ]
    },
    {
     "name": "stdout",
     "output_type": "stream",
     "text": [
      "===== 调试信息：服务器返回 =====\n",
      "{\"id\":\"0194dc7b24588824e339e072c91aa084\",\"object\":\"chat.completion\",\"created\":1738865845,\"model\":\"Qwen/Qwen2.5-32B-Instruct\",\"choices\":[{\"index\":0,\"message\":{\"role\":\"assistant\",\"content\":\"{\\n  \\\"classification\\\": \\\"文化活动\\\",\\n  \\\"sentiment\\\": \\\"pleasure\\\"\\n}\"},\"finish_reason\":\"stop\"}],\"usage\":{\"prompt_tokens\":1813,\"completion_tokens\":19,\"total_tokens\":1832},\"system_fingerprint\":\"\"}\n",
      "=============================\n",
      "\n"
     ]
    },
    {
     "name": "stderr",
     "output_type": "stream",
     "text": [
      "Processing:  79%|███████▉  | 835/1060 [38:02<05:19,  1.42s/it]"
     ]
    },
    {
     "name": "stdout",
     "output_type": "stream",
     "text": [
      "===== 调试信息：服务器返回 =====\n",
      "{\"id\":\"0194dc7b29e0d9a65b3ae7b9069eaff5\",\"object\":\"chat.completion\",\"created\":1738865846,\"model\":\"Qwen/Qwen2.5-32B-Instruct\",\"choices\":[{\"index\":0,\"message\":{\"role\":\"assistant\",\"content\":\"{\\n  \\\"classification\\\": \\\"军事和防御\\\",\\n  \\\"sentiment\\\": \\\"neutral\\\"\\n}\"},\"finish_reason\":\"stop\"}],\"usage\":{\"prompt_tokens\":1999,\"completion_tokens\":19,\"total_tokens\":2018},\"system_fingerprint\":\"\"}\n",
      "=============================\n",
      "\n"
     ]
    },
    {
     "name": "stderr",
     "output_type": "stream",
     "text": [
      "Processing:  79%|███████▉  | 836/1060 [38:03<05:19,  1.43s/it]"
     ]
    },
    {
     "name": "stdout",
     "output_type": "stream",
     "text": [
      "===== 调试信息：服务器返回 =====\n",
      "{\"id\":\"0194dc7b2edd2a02a0946dde6ba1c8b4\",\"object\":\"chat.completion\",\"created\":1738865848,\"model\":\"Qwen/Qwen2.5-32B-Instruct\",\"choices\":[{\"index\":0,\"message\":{\"role\":\"assistant\",\"content\":\"{\\n  \\\"classification\\\": \\\"军事和防御\\\",\\n  \\\"sentiment\\\": \\\"negative\\\"\\n}\"},\"finish_reason\":\"stop\"}],\"usage\":{\"prompt_tokens\":1581,\"completion_tokens\":19,\"total_tokens\":1600},\"system_fingerprint\":\"\"}\n",
      "=============================\n",
      "\n"
     ]
    },
    {
     "name": "stderr",
     "output_type": "stream",
     "text": [
      "Processing:  79%|███████▉  | 837/1060 [38:05<05:04,  1.37s/it]"
     ]
    },
    {
     "name": "stdout",
     "output_type": "stream",
     "text": [
      "===== 调试信息：服务器返回 =====\n",
      "{\"id\":\"0194dc7b338c8ecca9533dc209d9e544\",\"object\":\"chat.completion\",\"created\":1738865849,\"model\":\"Qwen/Qwen2.5-32B-Instruct\",\"choices\":[{\"index\":0,\"message\":{\"role\":\"assistant\",\"content\":\"{\\n  \\\"classification\\\": \\\"军事和防御\\\",\\n  \\\"sentiment\\\": \\\"negative\\\"\\n}\"},\"finish_reason\":\"stop\"}],\"usage\":{\"prompt_tokens\":1581,\"completion_tokens\":19,\"total_tokens\":1600},\"system_fingerprint\":\"\"}\n",
      "=============================\n",
      "\n"
     ]
    },
    {
     "name": "stderr",
     "output_type": "stream",
     "text": [
      "Processing:  79%|███████▉  | 838/1060 [38:06<04:41,  1.27s/it]"
     ]
    },
    {
     "name": "stdout",
     "output_type": "stream",
     "text": [
      "===== 调试信息：服务器返回 =====\n",
      "{\"id\":\"0194dc7b37a7f7228876477f2be402b8\",\"object\":\"chat.completion\",\"created\":1738865850,\"model\":\"Qwen/Qwen2.5-32B-Instruct\",\"choices\":[{\"index\":0,\"message\":{\"role\":\"assistant\",\"content\":\"{\\n  \\\"classification\\\": \\\"时尚\\\",\\n  \\\"sentiment\\\": \\\"positive\\\"\\n}\"},\"finish_reason\":\"stop\"}],\"usage\":{\"prompt_tokens\":1230,\"completion_tokens\":17,\"total_tokens\":1247},\"system_fingerprint\":\"\"}\n",
      "=============================\n",
      "\n"
     ]
    },
    {
     "name": "stderr",
     "output_type": "stream",
     "text": [
      "Processing:  79%|███████▉  | 839/1060 [38:07<04:32,  1.23s/it]"
     ]
    },
    {
     "name": "stdout",
     "output_type": "stream",
     "text": [
      "===== 调试信息：服务器返回 =====\n",
      "{\"id\":\"0194dc7b3c30df51c9d56e09a9d5bfc6\",\"object\":\"chat.completion\",\"created\":1738865851,\"model\":\"Qwen/Qwen2.5-32B-Instruct\",\"choices\":[{\"index\":0,\"message\":{\"role\":\"assistant\",\"content\":\"{\\n  \\\"classification\\\": \\\"商务活动\\\",\\n  \\\"sentiment\\\": \\\"positive\\\"\\n}\"},\"finish_reason\":\"stop\"}],\"usage\":{\"prompt_tokens\":1308,\"completion_tokens\":18,\"total_tokens\":1326},\"system_fingerprint\":\"\"}\n",
      "=============================\n",
      "\n"
     ]
    },
    {
     "name": "stderr",
     "output_type": "stream",
     "text": [
      "Processing:  79%|███████▉  | 840/1060 [38:08<04:39,  1.27s/it]"
     ]
    },
    {
     "name": "stdout",
     "output_type": "stream",
     "text": [
      "===== 调试信息：服务器返回 =====\n",
      "{\"id\":\"0194dc7b417d4cf17ed4564e6e3dbf73\",\"object\":\"chat.completion\",\"created\":1738865852,\"model\":\"Qwen/Qwen2.5-32B-Instruct\",\"choices\":[{\"index\":0,\"message\":{\"role\":\"assistant\",\"content\":\"{\\n  \\\"classification\\\": \\\"卫生福利\\\",\\n  \\\"sentiment\\\": \\\"negative\\\"\\n}\"},\"finish_reason\":\"stop\"}],\"usage\":{\"prompt_tokens\":2135,\"completion_tokens\":18,\"total_tokens\":2153},\"system_fingerprint\":\"\"}\n",
      "=============================\n",
      "\n"
     ]
    },
    {
     "name": "stderr",
     "output_type": "stream",
     "text": [
      "Processing:  79%|███████▉  | 841/1060 [38:09<04:40,  1.28s/it]"
     ]
    },
    {
     "name": "stdout",
     "output_type": "stream",
     "text": [
      "===== 调试信息：服务器返回 =====\n",
      "{\"id\":\"0194dc7b4684be1c5b6820b9396ddc46\",\"object\":\"chat.completion\",\"created\":1738865854,\"model\":\"Qwen/Qwen2.5-32B-Instruct\",\"choices\":[{\"index\":0,\"message\":{\"role\":\"assistant\",\"content\":\"{\\n  \\\"classification\\\": \\\"经济\\\",\\n  \\\"sentiment\\\": \\\"positive\\\"\\n}\"},\"finish_reason\":\"stop\"}],\"usage\":{\"prompt_tokens\":1530,\"completion_tokens\":17,\"total_tokens\":1547},\"system_fingerprint\":\"\"}\n",
      "=============================\n",
      "\n"
     ]
    },
    {
     "name": "stderr",
     "output_type": "stream",
     "text": [
      "Processing:  79%|███████▉  | 842/1060 [38:11<04:31,  1.24s/it]"
     ]
    },
    {
     "name": "stdout",
     "output_type": "stream",
     "text": [
      "===== 调试信息：服务器返回 =====\n",
      "{\"id\":\"0194dc7b4b3a2773bcbc7505a69f0158\",\"object\":\"chat.completion\",\"created\":1738865855,\"model\":\"Qwen/Qwen2.5-32B-Instruct\",\"choices\":[{\"index\":0,\"message\":{\"role\":\"assistant\",\"content\":\"{\\n  \\\"classification\\\": \\\"国际政治\\\",\\n  \\\"sentiment\\\": \\\"negative\\\"\\n}\"},\"finish_reason\":\"stop\"}],\"usage\":{\"prompt_tokens\":1611,\"completion_tokens\":18,\"total_tokens\":1629},\"system_fingerprint\":\"\"}\n",
      "=============================\n",
      "\n"
     ]
    },
    {
     "name": "stderr",
     "output_type": "stream",
     "text": [
      "Processing:  80%|███████▉  | 843/1060 [38:12<04:28,  1.24s/it]"
     ]
    },
    {
     "name": "stdout",
     "output_type": "stream",
     "text": [
      "===== 调试信息：服务器返回 =====\n",
      "{\"id\":\"0194dc7b4fceb658accd56b8f4d18a96\",\"object\":\"chat.completion\",\"created\":1738865856,\"model\":\"Qwen/Qwen2.5-32B-Instruct\",\"choices\":[{\"index\":0,\"message\":{\"role\":\"assistant\",\"content\":\"{\\n  \\\"classification\\\": \\\"商务活动\\\",\\n  \\\"sentiment\\\": \\\"neutral\\\"\\n}\"},\"finish_reason\":\"stop\"}],\"usage\":{\"prompt_tokens\":2105,\"completion_tokens\":18,\"total_tokens\":2123},\"system_fingerprint\":\"\"}\n",
      "=============================\n",
      "\n"
     ]
    },
    {
     "name": "stderr",
     "output_type": "stream",
     "text": [
      "Processing:  80%|███████▉  | 844/1060 [38:13<04:29,  1.25s/it]"
     ]
    },
    {
     "name": "stdout",
     "output_type": "stream",
     "text": [
      "===== 调试信息：服务器返回 =====\n",
      "{\"id\":\"0194dc7b54d78ebb03023aee316a3ec7\",\"object\":\"chat.completion\",\"created\":1738865857,\"model\":\"Qwen/Qwen2.5-32B-Instruct\",\"choices\":[{\"index\":0,\"message\":{\"role\":\"assistant\",\"content\":\"{\\n  \\\"classification\\\": \\\"能源\\\",\\n  \\\"sentiment\\\": \\\"neutral\\\"\\n}\"},\"finish_reason\":\"stop\"}],\"usage\":{\"prompt_tokens\":1732,\"completion_tokens\":17,\"total_tokens\":1749},\"system_fingerprint\":\"\"}\n",
      "=============================\n",
      "\n"
     ]
    },
    {
     "name": "stderr",
     "output_type": "stream",
     "text": [
      "Processing:  80%|███████▉  | 845/1060 [38:14<04:33,  1.27s/it]"
     ]
    },
    {
     "name": "stdout",
     "output_type": "stream",
     "text": [
      "===== 调试信息：服务器返回 =====\n",
      "{\"id\":\"0194dc7b5a15c9204caa7c320b009078\",\"object\":\"chat.completion\",\"created\":1738865859,\"model\":\"Qwen/Qwen2.5-32B-Instruct\",\"choices\":[{\"index\":0,\"message\":{\"role\":\"assistant\",\"content\":\"{\\n  \\\"classification\\\": \\\"国际政治\\\",\\n  \\\"sentiment\\\": \\\"neutral\\\"\\n}\"},\"finish_reason\":\"stop\"}],\"usage\":{\"prompt_tokens\":1891,\"completion_tokens\":18,\"total_tokens\":1909},\"system_fingerprint\":\"\"}\n",
      "=============================\n",
      "\n"
     ]
    },
    {
     "name": "stderr",
     "output_type": "stream",
     "text": [
      "Processing:  80%|███████▉  | 846/1060 [38:16<04:31,  1.27s/it]"
     ]
    },
    {
     "name": "stdout",
     "output_type": "stream",
     "text": [
      "===== 调试信息：服务器返回 =====\n",
      "{\"id\":\"0194dc7b5ef7b7ba10de91124573692b\",\"object\":\"chat.completion\",\"created\":1738865860,\"model\":\"Qwen/Qwen2.5-32B-Instruct\",\"choices\":[{\"index\":0,\"message\":{\"role\":\"assistant\",\"content\":\"{\\n  \\\"classification\\\": \\\"经济\\\",\\n  \\\"sentiment\\\": \\\"negative\\\"\\n}\"},\"finish_reason\":\"stop\"}],\"usage\":{\"prompt_tokens\":1589,\"completion_tokens\":17,\"total_tokens\":1606},\"system_fingerprint\":\"\"}\n",
      "=============================\n",
      "\n"
     ]
    },
    {
     "name": "stderr",
     "output_type": "stream",
     "text": [
      "Processing:  80%|███████▉  | 847/1060 [38:17<04:52,  1.37s/it]"
     ]
    },
    {
     "name": "stdout",
     "output_type": "stream",
     "text": [
      "===== 调试信息：服务器返回 =====\n",
      "{\"id\":\"0194dc7b6533026133028474317770dc\",\"object\":\"chat.completion\",\"created\":1738865861,\"model\":\"Qwen/Qwen2.5-32B-Instruct\",\"choices\":[{\"index\":0,\"message\":{\"role\":\"assistant\",\"content\":\"{\\n  \\\"classification\\\": \\\"人口\\\",\\n  \\\"sentiment\\\": \\\"neutral\\\"\\n}\"},\"finish_reason\":\"stop\"}],\"usage\":{\"prompt_tokens\":2702,\"completion_tokens\":17,\"total_tokens\":2719},\"system_fingerprint\":\"\"}\n",
      "=============================\n",
      "\n"
     ]
    },
    {
     "name": "stderr",
     "output_type": "stream",
     "text": [
      "Processing:  80%|████████  | 848/1060 [38:19<04:52,  1.38s/it]"
     ]
    },
    {
     "name": "stdout",
     "output_type": "stream",
     "text": [
      "===== 调试信息：服务器返回 =====\n",
      "{\"id\":\"0194dc7b6ac702a63e7db2542a715a0a\",\"object\":\"chat.completion\",\"created\":1738865863,\"model\":\"Qwen/Qwen2.5-32B-Instruct\",\"choices\":[{\"index\":0,\"message\":{\"role\":\"assistant\",\"content\":\"{\\n  \\\"classification\\\": \\\"商务活动\\\",\\n  \\\"sentiment\\\": \\\"negative\\\"\\n}\"},\"finish_reason\":\"stop\"}],\"usage\":{\"prompt_tokens\":1672,\"completion_tokens\":18,\"total_tokens\":1690},\"system_fingerprint\":\"\"}\n",
      "=============================\n",
      "\n"
     ]
    },
    {
     "name": "stderr",
     "output_type": "stream",
     "text": [
      "Processing:  80%|████████  | 849/1060 [38:20<04:42,  1.34s/it]"
     ]
    },
    {
     "name": "stdout",
     "output_type": "stream",
     "text": [
      "===== 调试信息：服务器返回 =====\n",
      "{\"id\":\"0194dc7b6f944e2547656655f54e4a42\",\"object\":\"chat.completion\",\"created\":1738865864,\"model\":\"Qwen/Qwen2.5-32B-Instruct\",\"choices\":[{\"index\":0,\"message\":{\"role\":\"assistant\",\"content\":\"{\\n  \\\"classification\\\": \\\"国际政治\\\",\\n  \\\"sentiment\\\": \\\"negative\\\"\\n}\"},\"finish_reason\":\"stop\"}],\"usage\":{\"prompt_tokens\":2032,\"completion_tokens\":18,\"total_tokens\":2050},\"system_fingerprint\":\"\"}\n",
      "=============================\n",
      "\n"
     ]
    },
    {
     "name": "stderr",
     "output_type": "stream",
     "text": [
      "Processing:  80%|████████  | 850/1060 [38:21<04:36,  1.31s/it]"
     ]
    },
    {
     "name": "stdout",
     "output_type": "stream",
     "text": [
      "===== 调试信息：服务器返回 =====\n",
      "{\"id\":\"0194dc7b748b07483e219c6e901febdb\",\"object\":\"chat.completion\",\"created\":1738865865,\"model\":\"Qwen/Qwen2.5-32B-Instruct\",\"choices\":[{\"index\":0,\"message\":{\"role\":\"assistant\",\"content\":\"{\\n  \\\"classification\\\": \\\"经济\\\",\\n  \\\"sentiment\\\": \\\"neutral\\\"\\n}\"},\"finish_reason\":\"stop\"}],\"usage\":{\"prompt_tokens\":2257,\"completion_tokens\":17,\"total_tokens\":2274},\"system_fingerprint\":\"\"}\n",
      "=============================\n",
      "\n"
     ]
    },
    {
     "name": "stderr",
     "output_type": "stream",
     "text": [
      "Processing:  80%|████████  | 851/1060 [38:23<04:59,  1.43s/it]"
     ]
    },
    {
     "name": "stdout",
     "output_type": "stream",
     "text": [
      "===== 调试信息：服务器返回 =====\n",
      "{\"id\":\"0194dc7b7b81962475208122a6d44c94\",\"object\":\"chat.completion\",\"created\":1738865867,\"model\":\"Qwen/Qwen2.5-32B-Instruct\",\"choices\":[{\"index\":0,\"message\":{\"role\":\"assistant\",\"content\":\"{\\n  \\\"classification\\\": \\\"经济\\\",\\n  \\\"sentiment\\\": \\\"negative\\\"\\n}\"},\"finish_reason\":\"stop\"}],\"usage\":{\"prompt_tokens\":1565,\"completion_tokens\":17,\"total_tokens\":1582},\"system_fingerprint\":\"\"}\n",
      "=============================\n",
      "\n"
     ]
    },
    {
     "name": "stderr",
     "output_type": "stream",
     "text": [
      "Processing:  80%|████████  | 852/1060 [38:25<05:12,  1.50s/it]"
     ]
    },
    {
     "name": "stdout",
     "output_type": "stream",
     "text": [
      "===== 调试信息：服务器返回 =====\n",
      "{\"id\":\"0194dc7b81bf403fdb8ddc0138c3a91f\",\"object\":\"chat.completion\",\"created\":1738865869,\"model\":\"Qwen/Qwen2.5-32B-Instruct\",\"choices\":[{\"index\":0,\"message\":{\"role\":\"assistant\",\"content\":\"{\\n  \\\"classification\\\": \\\"文化活动\\\",\\n  \\\"sentiment\\\": \\\"positive\\\"\\n}\"},\"finish_reason\":\"stop\"}],\"usage\":{\"prompt_tokens\":2137,\"completion_tokens\":18,\"total_tokens\":2155},\"system_fingerprint\":\"\"}\n",
      "=============================\n",
      "\n"
     ]
    },
    {
     "name": "stderr",
     "output_type": "stream",
     "text": [
      "Processing:  80%|████████  | 853/1060 [38:26<04:59,  1.45s/it]"
     ]
    },
    {
     "name": "stdout",
     "output_type": "stream",
     "text": [
      "===== 调试信息：服务器返回 =====\n",
      "{\"id\":\"0194dc7b86c501975aa6123ad42a3154\",\"object\":\"chat.completion\",\"created\":1738865870,\"model\":\"Qwen/Qwen2.5-32B-Instruct\",\"choices\":[{\"index\":0,\"message\":{\"role\":\"assistant\",\"content\":\"{\\n  \\\"classification\\\": \\\"能源\\\",\\n  \\\"sentiment\\\": \\\"negative\\\"\\n}\"},\"finish_reason\":\"stop\"}],\"usage\":{\"prompt_tokens\":1183,\"completion_tokens\":17,\"total_tokens\":1200},\"system_fingerprint\":\"\"}\n",
      "=============================\n",
      "\n"
     ]
    },
    {
     "name": "stderr",
     "output_type": "stream",
     "text": [
      "Processing:  81%|████████  | 854/1060 [38:27<04:37,  1.35s/it]"
     ]
    },
    {
     "name": "stdout",
     "output_type": "stream",
     "text": [
      "===== 调试信息：服务器返回 =====\n",
      "{\"id\":\"0194dc7b8b8a944beecdef94c1432980\",\"object\":\"chat.completion\",\"created\":1738865871,\"model\":\"Qwen/Qwen2.5-32B-Instruct\",\"choices\":[{\"index\":0,\"message\":{\"role\":\"assistant\",\"content\":\"{\\n  \\\"classification\\\": \\\"文化活动\\\",\\n  \\\"sentiment\\\": \\\"pleasure\\\"\\n}\"},\"finish_reason\":\"stop\"}],\"usage\":{\"prompt_tokens\":2078,\"completion_tokens\":19,\"total_tokens\":2097},\"system_fingerprint\":\"\"}\n",
      "=============================\n",
      "\n"
     ]
    },
    {
     "name": "stderr",
     "output_type": "stream",
     "text": [
      "Processing:  81%|████████  | 855/1060 [38:28<04:38,  1.36s/it]"
     ]
    },
    {
     "name": "stdout",
     "output_type": "stream",
     "text": [
      "===== 调试信息：服务器返回 =====\n",
      "{\"id\":\"0194dc7b9089a8be5df1fe33d556c7ee\",\"object\":\"chat.completion\",\"created\":1738865873,\"model\":\"Qwen/Qwen2.5-32B-Instruct\",\"choices\":[{\"index\":0,\"message\":{\"role\":\"assistant\",\"content\":\"{\\n  \\\"classification\\\": \\\"文化活动\\\",\\n  \\\"sentiment\\\": \\\"pleasure\\\"\\n}\"},\"finish_reason\":\"stop\"}],\"usage\":{\"prompt_tokens\":1364,\"completion_tokens\":19,\"total_tokens\":1383},\"system_fingerprint\":\"\"}\n",
      "=============================\n",
      "\n"
     ]
    },
    {
     "name": "stderr",
     "output_type": "stream",
     "text": [
      "Processing:  81%|████████  | 856/1060 [38:30<04:25,  1.30s/it]"
     ]
    },
    {
     "name": "stdout",
     "output_type": "stream",
     "text": [
      "===== 调试信息：服务器返回 =====\n",
      "{\"id\":\"0194dc7b951aacdc273bcd76f7eee8e3\",\"object\":\"chat.completion\",\"created\":1738865874,\"model\":\"Qwen/Qwen2.5-32B-Instruct\",\"choices\":[{\"index\":0,\"message\":{\"role\":\"assistant\",\"content\":\"{\\n  \\\"classification\\\": \\\"国内政治\\\",\\n  \\\"sentiment\\\": \\\"negative\\\"\\n}\"},\"finish_reason\":\"stop\"}],\"usage\":{\"prompt_tokens\":1595,\"completion_tokens\":18,\"total_tokens\":1613},\"system_fingerprint\":\"\"}\n",
      "=============================\n",
      "\n"
     ]
    },
    {
     "name": "stderr",
     "output_type": "stream",
     "text": [
      "Processing:  81%|████████  | 857/1060 [38:31<04:16,  1.27s/it]"
     ]
    },
    {
     "name": "stdout",
     "output_type": "stream",
     "text": [
      "===== 调试信息：服务器返回 =====\n",
      "{\"id\":\"0194dc7b99c1d17a749f7df8d3f80e24\",\"object\":\"chat.completion\",\"created\":1738865875,\"model\":\"Qwen/Qwen2.5-32B-Instruct\",\"choices\":[{\"index\":0,\"message\":{\"role\":\"assistant\",\"content\":\"{\\n  \\\"classification\\\": \\\"科技\\\",\\n  \\\"sentiment\\\": \\\"positive\\\"\\n}\"},\"finish_reason\":\"stop\"}],\"usage\":{\"prompt_tokens\":1066,\"completion_tokens\":17,\"total_tokens\":1083},\"system_fingerprint\":\"\"}\n",
      "=============================\n",
      "\n"
     ]
    },
    {
     "name": "stderr",
     "output_type": "stream",
     "text": [
      "Processing:  81%|████████  | 858/1060 [38:32<04:08,  1.23s/it]"
     ]
    },
    {
     "name": "stdout",
     "output_type": "stream",
     "text": [
      "===== 调试信息：服务器返回 =====\n",
      "{\"id\":\"0194dc7b9e4a97c12d0368153c9f5f30\",\"object\":\"chat.completion\",\"created\":1738865876,\"model\":\"Qwen/Qwen2.5-32B-Instruct\",\"choices\":[{\"index\":0,\"message\":{\"role\":\"assistant\",\"content\":\"{\\n  \\\"classification\\\": \\\"国际政治\\\",\\n  \\\"sentiment\\\": \\\"negative\\\"\\n}\"},\"finish_reason\":\"stop\"}],\"usage\":{\"prompt_tokens\":1895,\"completion_tokens\":18,\"total_tokens\":1913},\"system_fingerprint\":\"\"}\n",
      "=============================\n",
      "\n"
     ]
    },
    {
     "name": "stderr",
     "output_type": "stream",
     "text": [
      "Processing:  81%|████████  | 859/1060 [38:33<04:09,  1.24s/it]"
     ]
    },
    {
     "name": "stdout",
     "output_type": "stream",
     "text": [
      "===== 调试信息：服务器返回 =====\n",
      "{\"id\":\"0194dc7ba30ce1d06d30b9ba7a32c194\",\"object\":\"chat.completion\",\"created\":1738865877,\"model\":\"Qwen/Qwen2.5-32B-Instruct\",\"choices\":[{\"index\":0,\"message\":{\"role\":\"assistant\",\"content\":\"{\\n  \\\"classification\\\": \\\"商务活动\\\",\\n  \\\"sentiment\\\": \\\"neutral\\\"\\n}\"},\"finish_reason\":\"stop\"}],\"usage\":{\"prompt_tokens\":2097,\"completion_tokens\":18,\"total_tokens\":2115},\"system_fingerprint\":\"\"}\n",
      "=============================\n",
      "\n"
     ]
    },
    {
     "name": "stderr",
     "output_type": "stream",
     "text": [
      "Processing:  81%|████████  | 860/1060 [38:34<04:09,  1.25s/it]"
     ]
    },
    {
     "name": "stdout",
     "output_type": "stream",
     "text": [
      "===== 调试信息：服务器返回 =====\n",
      "{\"id\":\"0194dc7ba82ab2f13b211055bbe78ef4\",\"object\":\"chat.completion\",\"created\":1738865879,\"model\":\"Qwen/Qwen2.5-32B-Instruct\",\"choices\":[{\"index\":0,\"message\":{\"role\":\"assistant\",\"content\":\"{\\n  \\\"classification\\\": \\\"体育\\\",\\n  \\\"sentiment\\\": \\\"negative\\\"\\n}\"},\"finish_reason\":\"stop\"}],\"usage\":{\"prompt_tokens\":1806,\"completion_tokens\":17,\"total_tokens\":1823},\"system_fingerprint\":\"\"}\n",
      "=============================\n",
      "\n"
     ]
    },
    {
     "name": "stderr",
     "output_type": "stream",
     "text": [
      "Processing:  81%|████████  | 861/1060 [38:36<04:07,  1.24s/it]"
     ]
    },
    {
     "name": "stdout",
     "output_type": "stream",
     "text": [
      "===== 调试信息：服务器返回 =====\n",
      "{\"id\":\"0194dc7bacdf31e8b538ea7e70215709\",\"object\":\"chat.completion\",\"created\":1738865880,\"model\":\"Qwen/Qwen2.5-32B-Instruct\",\"choices\":[{\"index\":0,\"message\":{\"role\":\"assistant\",\"content\":\"{\\n  \\\"classification\\\": \\\"文化活动\\\",\\n  \\\"sentiment\\\": \\\"pleasure\\\"\\n}\"},\"finish_reason\":\"stop\"}],\"usage\":{\"prompt_tokens\":1269,\"completion_tokens\":19,\"total_tokens\":1288},\"system_fingerprint\":\"\"}\n",
      "=============================\n",
      "\n"
     ]
    },
    {
     "name": "stderr",
     "output_type": "stream",
     "text": [
      "Processing:  81%|████████▏ | 862/1060 [38:37<04:00,  1.22s/it]"
     ]
    },
    {
     "name": "stdout",
     "output_type": "stream",
     "text": [
      "===== 调试信息：服务器返回 =====\n",
      "{\"id\":\"0194dc7bb163e41ab2f604ff1f3ef57a\",\"object\":\"chat.completion\",\"created\":1738865881,\"model\":\"Qwen/Qwen2.5-32B-Instruct\",\"choices\":[{\"index\":0,\"message\":{\"role\":\"assistant\",\"content\":\"{\\n  \\\"classification\\\": \\\"经济\\\",\\n  \\\"sentiment\\\": \\\"positive\\\"\\n}\"},\"finish_reason\":\"stop\"}],\"usage\":{\"prompt_tokens\":2703,\"completion_tokens\":17,\"total_tokens\":2720},\"system_fingerprint\":\"\"}\n",
      "=============================\n",
      "\n"
     ]
    },
    {
     "name": "stderr",
     "output_type": "stream",
     "text": [
      "Processing:  81%|████████▏ | 863/1060 [38:38<04:13,  1.29s/it]"
     ]
    },
    {
     "name": "stdout",
     "output_type": "stream",
     "text": [
      "触发速率限制 (HTTP 429)，等待60秒后重试...\n",
      "===== 调试信息：服务器返回 =====\n",
      "{\"id\":\"0194dc7ca1fa96411d7b9d57e6f13022\",\"object\":\"chat.completion\",\"created\":1738865943,\"model\":\"Qwen/Qwen2.5-32B-Instruct\",\"choices\":[{\"index\":0,\"message\":{\"role\":\"assistant\",\"content\":\"{\\n  \\\"classification\\\": \\\"国际政治\\\",\\n  \\\"sentiment\\\": \\\"negative\\\"\\n}\"},\"finish_reason\":\"stop\"}],\"usage\":{\"prompt_tokens\":2106,\"completion_tokens\":18,\"total_tokens\":2124},\"system_fingerprint\":\"\"}\n",
      "=============================\n",
      "\n"
     ]
    },
    {
     "name": "stderr",
     "output_type": "stream",
     "text": [
      "Processing:  82%|████████▏ | 864/1060 [39:40<1:03:15, 19.36s/it]"
     ]
    },
    {
     "name": "stdout",
     "output_type": "stream",
     "text": [
      "===== 调试信息：服务器返回 =====\n",
      "{\"id\":\"0194dc7ca773a8f400a0410ae153ebf4\",\"object\":\"chat.completion\",\"created\":1738865944,\"model\":\"Qwen/Qwen2.5-32B-Instruct\",\"choices\":[{\"index\":0,\"message\":{\"role\":\"assistant\",\"content\":\"{\\n  \\\"classification\\\": \\\"交通\\\",\\n  \\\"sentiment\\\": \\\"positive\\\"\\n}\"},\"finish_reason\":\"stop\"}],\"usage\":{\"prompt_tokens\":1448,\"completion_tokens\":17,\"total_tokens\":1465},\"system_fingerprint\":\"\"}\n",
      "=============================\n",
      "\n"
     ]
    },
    {
     "name": "stderr",
     "output_type": "stream",
     "text": [
      "Processing:  82%|████████▏ | 865/1060 [39:41<45:09, 13.90s/it]  "
     ]
    },
    {
     "name": "stdout",
     "output_type": "stream",
     "text": [
      "===== 调试信息：服务器返回 =====\n",
      "{\"id\":\"0194dc7cabf2745a46720f7ba7f4380d\",\"object\":\"chat.completion\",\"created\":1738865945,\"model\":\"Qwen/Qwen2.5-32B-Instruct\",\"choices\":[{\"index\":0,\"message\":{\"role\":\"assistant\",\"content\":\"{\\n  \\\"classification\\\": \\\"国际政治\\\",\\n  \\\"sentiment\\\": \\\"neutral\\\"\\n}\"},\"finish_reason\":\"stop\"}],\"usage\":{\"prompt_tokens\":2074,\"completion_tokens\":18,\"total_tokens\":2092},\"system_fingerprint\":\"\"}\n",
      "=============================\n",
      "\n"
     ]
    },
    {
     "name": "stderr",
     "output_type": "stream",
     "text": [
      "Processing:  82%|████████▏ | 866/1060 [39:42<32:41, 10.11s/it]"
     ]
    },
    {
     "name": "stdout",
     "output_type": "stream",
     "text": [
      "===== 调试信息：服务器返回 =====\n",
      "{\"id\":\"0194dc7cb10cb699b2f6a90ac49e56d7\",\"object\":\"chat.completion\",\"created\":1738865946,\"model\":\"Qwen/Qwen2.5-32B-Instruct\",\"choices\":[{\"index\":0,\"message\":{\"role\":\"assistant\",\"content\":\"{\\n  \\\"classification\\\": \\\"国际政治\\\",\\n  \\\"sentiment\\\": \\\"neutral\\\"\\n}\"},\"finish_reason\":\"stop\"}],\"usage\":{\"prompt_tokens\":2213,\"completion_tokens\":18,\"total_tokens\":2231},\"system_fingerprint\":\"\"}\n",
      "=============================\n",
      "\n"
     ]
    },
    {
     "name": "stderr",
     "output_type": "stream",
     "text": [
      "Processing:  82%|████████▏ | 867/1060 [39:44<24:03,  7.48s/it]"
     ]
    },
    {
     "name": "stdout",
     "output_type": "stream",
     "text": [
      "===== 调试信息：服务器返回 =====\n",
      "{\"id\":\"0194dc7cb73f5577ccda20d259ccf0f0\",\"object\":\"chat.completion\",\"created\":1738865948,\"model\":\"Qwen/Qwen2.5-32B-Instruct\",\"choices\":[{\"index\":0,\"message\":{\"role\":\"assistant\",\"content\":\"{\\n  \\\"classification\\\": \\\"文化活动\\\",\\n  \\\"sentiment\\\": \\\"pleasure\\\"\\n}\"},\"finish_reason\":\"stop\"}],\"usage\":{\"prompt_tokens\":2858,\"completion_tokens\":19,\"total_tokens\":2877},\"system_fingerprint\":\"\"}\n",
      "=============================\n",
      "\n"
     ]
    },
    {
     "name": "stderr",
     "output_type": "stream",
     "text": [
      "Processing:  82%|████████▏ | 868/1060 [39:45<18:27,  5.77s/it]"
     ]
    },
    {
     "name": "stdout",
     "output_type": "stream",
     "text": [
      "===== 调试信息：服务器返回 =====\n",
      "{\"id\":\"0194dc7cbd036425325eacc81e322660\",\"object\":\"chat.completion\",\"created\":1738865949,\"model\":\"Qwen/Qwen2.5-32B-Instruct\",\"choices\":[{\"index\":0,\"message\":{\"role\":\"assistant\",\"content\":\"{\\n  \\\"classification\\\": \\\"国际政治\\\",\\n  \\\"sentiment\\\": \\\"neutral\\\"\\n}\"},\"finish_reason\":\"stop\"}],\"usage\":{\"prompt_tokens\":1110,\"completion_tokens\":18,\"total_tokens\":1128},\"system_fingerprint\":\"\"}\n",
      "=============================\n",
      "\n"
     ]
    },
    {
     "name": "stderr",
     "output_type": "stream",
     "text": [
      "Processing:  82%|████████▏ | 869/1060 [39:46<13:54,  4.37s/it]"
     ]
    },
    {
     "name": "stdout",
     "output_type": "stream",
     "text": [
      "===== 调试信息：服务器返回 =====\n",
      "{\"id\":\"0194dc7cc1ffab7a26a67b72a6240069\",\"object\":\"chat.completion\",\"created\":1738865951,\"model\":\"Qwen/Qwen2.5-32B-Instruct\",\"choices\":[{\"index\":0,\"message\":{\"role\":\"assistant\",\"content\":\"{\\n  \\\"classification\\\": \\\"科技\\\",\\n  \\\"sentiment\\\": \\\"positive\\\"\\n}\"},\"finish_reason\":\"stop\"}],\"usage\":{\"prompt_tokens\":1615,\"completion_tokens\":17,\"total_tokens\":1632},\"system_fingerprint\":\"\"}\n",
      "=============================\n",
      "\n"
     ]
    },
    {
     "name": "stderr",
     "output_type": "stream",
     "text": [
      "Processing:  82%|████████▏ | 870/1060 [39:48<10:58,  3.47s/it]"
     ]
    },
    {
     "name": "stdout",
     "output_type": "stream",
     "text": [
      "===== 调试信息：服务器返回 =====\n",
      "{\"id\":\"0194dc7cc6a1b9d734bc08c7c49cec3f\",\"object\":\"chat.completion\",\"created\":1738865952,\"model\":\"Qwen/Qwen2.5-32B-Instruct\",\"choices\":[{\"index\":0,\"message\":{\"role\":\"assistant\",\"content\":\"{\\n  \\\"classification\\\": \\\"能源\\\",\\n  \\\"sentiment\\\": \\\"neutral\\\"\\n}\"},\"finish_reason\":\"stop\"}],\"usage\":{\"prompt_tokens\":2448,\"completion_tokens\":17,\"total_tokens\":2465},\"system_fingerprint\":\"\"}\n",
      "=============================\n",
      "\n"
     ]
    },
    {
     "name": "stderr",
     "output_type": "stream",
     "text": [
      "Processing:  82%|████████▏ | 871/1060 [39:49<08:54,  2.83s/it]"
     ]
    },
    {
     "name": "stdout",
     "output_type": "stream",
     "text": [
      "===== 调试信息：服务器返回 =====\n",
      "{\"id\":\"0194dc7ccbeb718e035c02d2685b1339\",\"object\":\"chat.completion\",\"created\":1738865953,\"model\":\"Qwen/Qwen2.5-32B-Instruct\",\"choices\":[{\"index\":0,\"message\":{\"role\":\"assistant\",\"content\":\"{\\n  \\\"classification\\\": \\\"经济\\\",\\n  \\\"sentiment\\\": \\\"negative\\\"\\n}\"},\"finish_reason\":\"stop\"}],\"usage\":{\"prompt_tokens\":1676,\"completion_tokens\":17,\"total_tokens\":1693},\"system_fingerprint\":\"\"}\n",
      "=============================\n",
      "\n"
     ]
    },
    {
     "name": "stderr",
     "output_type": "stream",
     "text": [
      "Processing:  82%|████████▏ | 872/1060 [39:50<07:20,  2.34s/it]"
     ]
    },
    {
     "name": "stdout",
     "output_type": "stream",
     "text": [
      "===== 调试信息：服务器返回 =====\n",
      "{\"id\":\"0194dc7cd0c98be441099941a5081573\",\"object\":\"chat.completion\",\"created\":1738865955,\"model\":\"Qwen/Qwen2.5-32B-Instruct\",\"choices\":[{\"index\":0,\"message\":{\"role\":\"assistant\",\"content\":\"{\\n  \\\"classification\\\": \\\"环境\\\",\\n  \\\"sentiment\\\": \\\"negative\\\"\\n}\"},\"finish_reason\":\"stop\"}],\"usage\":{\"prompt_tokens\":7389,\"completion_tokens\":17,\"total_tokens\":7406},\"system_fingerprint\":\"\"}\n",
      "=============================\n",
      "\n"
     ]
    },
    {
     "name": "stderr",
     "output_type": "stream",
     "text": [
      "Processing:  82%|████████▏ | 873/1060 [39:53<07:10,  2.30s/it]"
     ]
    },
    {
     "name": "stdout",
     "output_type": "stream",
     "text": [
      "===== 调试信息：服务器返回 =====\n",
      "{\"id\":\"0194dc7cd94994ec68807e456e231855\",\"object\":\"chat.completion\",\"created\":1738865957,\"model\":\"Qwen/Qwen2.5-32B-Instruct\",\"choices\":[{\"index\":0,\"message\":{\"role\":\"assistant\",\"content\":\"{\\n  \\\"classification\\\": \\\"国际政治\\\",\\n  \\\"sentiment\\\": \\\"negative\\\"\\n}\"},\"finish_reason\":\"stop\"}],\"usage\":{\"prompt_tokens\":2896,\"completion_tokens\":18,\"total_tokens\":2914},\"system_fingerprint\":\"\"}\n",
      "=============================\n",
      "\n"
     ]
    },
    {
     "name": "stderr",
     "output_type": "stream",
     "text": [
      "Processing:  82%|████████▏ | 874/1060 [39:54<06:19,  2.04s/it]"
     ]
    },
    {
     "name": "stdout",
     "output_type": "stream",
     "text": [
      "===== 调试信息：服务器返回 =====\n",
      "{\"id\":\"0194dc7cdec61d4e9cac1bb842ab7573\",\"object\":\"chat.completion\",\"created\":1738865958,\"model\":\"Qwen/Qwen2.5-32B-Instruct\",\"choices\":[{\"index\":0,\"message\":{\"role\":\"assistant\",\"content\":\"{\\n  \\\"classification\\\": \\\"体育\\\",\\n  \\\"sentiment\\\": \\\"positive\\\"\\n}\"},\"finish_reason\":\"stop\"}],\"usage\":{\"prompt_tokens\":1630,\"completion_tokens\":17,\"total_tokens\":1647},\"system_fingerprint\":\"\"}\n",
      "=============================\n",
      "\n"
     ]
    },
    {
     "name": "stderr",
     "output_type": "stream",
     "text": [
      "Processing:  83%|████████▎ | 875/1060 [39:55<05:30,  1.79s/it]"
     ]
    },
    {
     "name": "stdout",
     "output_type": "stream",
     "text": [
      "===== 调试信息：服务器返回 =====\n",
      "{\"id\":\"0194dc7ce3a153056926c9b87b981dd3\",\"object\":\"chat.completion\",\"created\":1738865959,\"model\":\"Qwen/Qwen2.5-32B-Instruct\",\"choices\":[{\"index\":0,\"message\":{\"role\":\"assistant\",\"content\":\"{\\n  \\\"classification\\\": \\\"文化活动\\\",\\n  \\\"sentiment\\\": \\\"pleasure\\\"\\n}\"},\"finish_reason\":\"stop\"}],\"usage\":{\"prompt_tokens\":4097,\"completion_tokens\":19,\"total_tokens\":4116},\"system_fingerprint\":\"\"}\n",
      "=============================\n",
      "\n"
     ]
    },
    {
     "name": "stderr",
     "output_type": "stream",
     "text": [
      "Processing:  83%|████████▎ | 876/1060 [39:57<05:19,  1.74s/it]"
     ]
    },
    {
     "name": "stdout",
     "output_type": "stream",
     "text": [
      "===== 调试信息：服务器返回 =====\n",
      "{\"id\":\"0194dc7ceaa6d7f020a63f91f9c112b7\",\"object\":\"chat.completion\",\"created\":1738865961,\"model\":\"Qwen/Qwen2.5-32B-Instruct\",\"choices\":[{\"index\":0,\"message\":{\"role\":\"assistant\",\"content\":\"{\\n  \\\"classification\\\": \\\"环境\\\",\\n  \\\"sentiment\\\": \\\"negative\\\"\\n}\"},\"finish_reason\":\"stop\"}],\"usage\":{\"prompt_tokens\":3439,\"completion_tokens\":17,\"total_tokens\":3456},\"system_fingerprint\":\"\"}\n",
      "=============================\n",
      "\n"
     ]
    },
    {
     "name": "stderr",
     "output_type": "stream",
     "text": [
      "Processing:  83%|████████▎ | 877/1060 [39:58<05:13,  1.71s/it]"
     ]
    },
    {
     "name": "stdout",
     "output_type": "stream",
     "text": [
      "===== 调试信息：服务器返回 =====\n",
      "{\"id\":\"0194dc7cf048404d267dfcfd3bc0265b\",\"object\":\"chat.completion\",\"created\":1738865963,\"model\":\"Qwen/Qwen2.5-32B-Instruct\",\"choices\":[{\"index\":0,\"message\":{\"role\":\"assistant\",\"content\":\"{\\n  \\\"classification\\\": \\\"经济\\\",\\n  \\\"sentiment\\\": \\\"neutral\\\"\\n}\"},\"finish_reason\":\"stop\"}],\"usage\":{\"prompt_tokens\":1257,\"completion_tokens\":17,\"total_tokens\":1274},\"system_fingerprint\":\"\"}\n",
      "=============================\n",
      "\n"
     ]
    },
    {
     "name": "stderr",
     "output_type": "stream",
     "text": [
      "Processing:  83%|████████▎ | 878/1060 [40:00<04:42,  1.55s/it]"
     ]
    },
    {
     "name": "stdout",
     "output_type": "stream",
     "text": [
      "===== 调试信息：服务器返回 =====\n",
      "{\"id\":\"0194dc7cf4e46c7bdc37c7cd30c0a98b\",\"object\":\"chat.completion\",\"created\":1738865964,\"model\":\"Qwen/Qwen2.5-32B-Instruct\",\"choices\":[{\"index\":0,\"message\":{\"role\":\"assistant\",\"content\":\"{\\n  \\\"classification\\\": \\\"经济\\\",\\n  \\\"sentiment\\\": \\\"positive\\\"\\n}\"},\"finish_reason\":\"stop\"}],\"usage\":{\"prompt_tokens\":1841,\"completion_tokens\":17,\"total_tokens\":1858},\"system_fingerprint\":\"\"}\n",
      "=============================\n",
      "\n"
     ]
    },
    {
     "name": "stderr",
     "output_type": "stream",
     "text": [
      "Processing:  83%|████████▎ | 879/1060 [40:01<04:21,  1.44s/it]"
     ]
    },
    {
     "name": "stdout",
     "output_type": "stream",
     "text": [
      "===== 调试信息：服务器返回 =====\n",
      "{\"id\":\"0194dc7cf9a66c1236816f2da32189ab\",\"object\":\"chat.completion\",\"created\":1738865965,\"model\":\"Qwen/Qwen2.5-32B-Instruct\",\"choices\":[{\"index\":0,\"message\":{\"role\":\"assistant\",\"content\":\"{\\n  \\\"classification\\\": \\\"能源\\\",\\n  \\\"sentiment\\\": \\\"neutral\\\"\\n}\"},\"finish_reason\":\"stop\"}],\"usage\":{\"prompt_tokens\":1529,\"completion_tokens\":17,\"total_tokens\":1546},\"system_fingerprint\":\"\"}\n",
      "=============================\n",
      "\n"
     ]
    },
    {
     "name": "stderr",
     "output_type": "stream",
     "text": [
      "Processing:  83%|████████▎ | 880/1060 [40:02<04:13,  1.41s/it]"
     ]
    },
    {
     "name": "stdout",
     "output_type": "stream",
     "text": [
      "===== 调试信息：服务器返回 =====\n",
      "{\"id\":\"0194dc7cfea86d11b48ab69030fa1133\",\"object\":\"chat.completion\",\"created\":1738865966,\"model\":\"Qwen/Qwen2.5-32B-Instruct\",\"choices\":[{\"index\":0,\"message\":{\"role\":\"assistant\",\"content\":\"{\\n  \\\"classification\\\": \\\"商务活动\\\",\\n  \\\"sentiment\\\": \\\"positive\\\"\\n}\"},\"finish_reason\":\"stop\"}],\"usage\":{\"prompt_tokens\":1134,\"completion_tokens\":18,\"total_tokens\":1152},\"system_fingerprint\":\"\"}\n",
      "=============================\n",
      "\n"
     ]
    },
    {
     "name": "stderr",
     "output_type": "stream",
     "text": [
      "Processing:  83%|████████▎ | 881/1060 [40:03<03:55,  1.32s/it]"
     ]
    },
    {
     "name": "stdout",
     "output_type": "stream",
     "text": [
      "===== 调试信息：服务器返回 =====\n",
      "{\"id\":\"0194dc7d02fbb9ad4a5bafccad040296\",\"object\":\"chat.completion\",\"created\":1738865967,\"model\":\"Qwen/Qwen2.5-32B-Instruct\",\"choices\":[{\"index\":0,\"message\":{\"role\":\"assistant\",\"content\":\"{\\n  \\\"classification\\\": \\\"卫生福利\\\",\\n  \\\"sentiment\\\": \\\"negative\\\"\\n}\"},\"finish_reason\":\"stop\"}],\"usage\":{\"prompt_tokens\":1462,\"completion_tokens\":18,\"total_tokens\":1480},\"system_fingerprint\":\"\"}\n",
      "=============================\n",
      "\n"
     ]
    },
    {
     "name": "stderr",
     "output_type": "stream",
     "text": [
      "Processing:  83%|████████▎ | 882/1060 [40:04<03:47,  1.28s/it]"
     ]
    },
    {
     "name": "stdout",
     "output_type": "stream",
     "text": [
      "===== 调试信息：服务器返回 =====\n",
      "{\"id\":\"0194dc7d079ba9af1907be4814ae2ca2\",\"object\":\"chat.completion\",\"created\":1738865969,\"model\":\"Qwen/Qwen2.5-32B-Instruct\",\"choices\":[{\"index\":0,\"message\":{\"role\":\"assistant\",\"content\":\"{\\n  \\\"classification\\\": \\\"经济\\\",\\n  \\\"sentiment\\\": \\\"negative\\\"\\n}\"},\"finish_reason\":\"stop\"}],\"usage\":{\"prompt_tokens\":1615,\"completion_tokens\":17,\"total_tokens\":1632},\"system_fingerprint\":\"\"}\n",
      "=============================\n",
      "\n"
     ]
    },
    {
     "name": "stderr",
     "output_type": "stream",
     "text": [
      "Processing:  83%|████████▎ | 883/1060 [40:06<03:40,  1.24s/it]"
     ]
    },
    {
     "name": "stdout",
     "output_type": "stream",
     "text": [
      "===== 调试信息：服务器返回 =====\n",
      "{\"id\":\"0194dc7d0c36b157600520cf2d362faf\",\"object\":\"chat.completion\",\"created\":1738865970,\"model\":\"Qwen/Qwen2.5-32B-Instruct\",\"choices\":[{\"index\":0,\"message\":{\"role\":\"assistant\",\"content\":\"{\\n  \\\"classification\\\": \\\"卫生福利\\\",\\n  \\\"sentiment\\\": \\\"pain\\\"\\n}\"},\"finish_reason\":\"stop\"}],\"usage\":{\"prompt_tokens\":1623,\"completion_tokens\":18,\"total_tokens\":1641},\"system_fingerprint\":\"\"}\n",
      "=============================\n",
      "\n"
     ]
    },
    {
     "name": "stderr",
     "output_type": "stream",
     "text": [
      "Processing:  83%|████████▎ | 884/1060 [40:07<03:36,  1.23s/it]"
     ]
    },
    {
     "name": "stdout",
     "output_type": "stream",
     "text": [
      "===== 调试信息：服务器返回 =====\n",
      "{\"id\":\"0194dc7d10c7852d6ac13a8a48c48fec\",\"object\":\"chat.completion\",\"created\":1738865971,\"model\":\"Qwen/Qwen2.5-32B-Instruct\",\"choices\":[{\"index\":0,\"message\":{\"role\":\"assistant\",\"content\":\"{\\n  \\\"classification\\\": \\\"经济\\\",\\n  \\\"sentiment\\\": \\\"negative\\\"\\n}\"},\"finish_reason\":\"stop\"}],\"usage\":{\"prompt_tokens\":1652,\"completion_tokens\":17,\"total_tokens\":1669},\"system_fingerprint\":\"\"}\n",
      "=============================\n",
      "\n"
     ]
    },
    {
     "name": "stderr",
     "output_type": "stream",
     "text": [
      "Processing:  83%|████████▎ | 885/1060 [40:08<03:31,  1.21s/it]"
     ]
    },
    {
     "name": "stdout",
     "output_type": "stream",
     "text": [
      "===== 调试信息：服务器返回 =====\n",
      "{\"id\":\"0194dc7d1561f431fd549dd29afad77c\",\"object\":\"chat.completion\",\"created\":1738865972,\"model\":\"Qwen/Qwen2.5-32B-Instruct\",\"choices\":[{\"index\":0,\"message\":{\"role\":\"assistant\",\"content\":\"{\\n  \\\"classification\\\": \\\"军事和防御\\\",\\n  \\\"sentiment\\\": \\\"neutral\\\"\\n}\"},\"finish_reason\":\"stop\"}],\"usage\":{\"prompt_tokens\":1845,\"completion_tokens\":19,\"total_tokens\":1864},\"system_fingerprint\":\"\"}\n",
      "=============================\n",
      "\n"
     ]
    },
    {
     "name": "stderr",
     "output_type": "stream",
     "text": [
      "Processing:  84%|████████▎ | 886/1060 [40:09<03:31,  1.22s/it]"
     ]
    },
    {
     "name": "stdout",
     "output_type": "stream",
     "text": [
      "===== 调试信息：服务器返回 =====\n",
      "{\"id\":\"0194dc7d1a6a1a3f990f747fee62ade5\",\"object\":\"chat.completion\",\"created\":1738865973,\"model\":\"Qwen/Qwen2.5-32B-Instruct\",\"choices\":[{\"index\":0,\"message\":{\"role\":\"assistant\",\"content\":\"{\\n  \\\"classification\\\": \\\"军事和防御\\\",\\n  \\\"sentiment\\\": \\\"negative\\\"\\n}\"},\"finish_reason\":\"stop\"}],\"usage\":{\"prompt_tokens\":1056,\"completion_tokens\":19,\"total_tokens\":1075},\"system_fingerprint\":\"\"}\n",
      "=============================\n",
      "\n"
     ]
    },
    {
     "name": "stderr",
     "output_type": "stream",
     "text": [
      "Processing:  84%|████████▎ | 887/1060 [40:10<03:27,  1.20s/it]"
     ]
    },
    {
     "name": "stdout",
     "output_type": "stream",
     "text": [
      "===== 调试信息：服务器返回 =====\n",
      "{\"id\":\"0194dc7d1ecf53c8250bed0ab12861ea\",\"object\":\"chat.completion\",\"created\":1738865974,\"model\":\"Qwen/Qwen2.5-32B-Instruct\",\"choices\":[{\"index\":0,\"message\":{\"role\":\"assistant\",\"content\":\"{\\n  \\\"classification\\\": \\\"国际政治\\\",\\n  \\\"sentiment\\\": \\\"neutral\\\"\\n}\"},\"finish_reason\":\"stop\"}],\"usage\":{\"prompt_tokens\":1696,\"completion_tokens\":18,\"total_tokens\":1714},\"system_fingerprint\":\"\"}\n",
      "=============================\n",
      "\n"
     ]
    },
    {
     "name": "stderr",
     "output_type": "stream",
     "text": [
      "Processing:  84%|████████▍ | 888/1060 [40:12<03:25,  1.20s/it]"
     ]
    },
    {
     "name": "stdout",
     "output_type": "stream",
     "text": [
      "===== 调试信息：服务器返回 =====\n",
      "{\"id\":\"0194dc7d23610a0c31506051e2ccdff6\",\"object\":\"chat.completion\",\"created\":1738865976,\"model\":\"Qwen/Qwen2.5-32B-Instruct\",\"choices\":[{\"index\":0,\"message\":{\"role\":\"assistant\",\"content\":\"{\\n  \\\"classification\\\": \\\"经济\\\",\\n  \\\"sentiment\\\": \\\"negative\\\"\\n}\"},\"finish_reason\":\"stop\"}],\"usage\":{\"prompt_tokens\":599,\"completion_tokens\":17,\"total_tokens\":616},\"system_fingerprint\":\"\"}\n",
      "=============================\n",
      "\n"
     ]
    },
    {
     "name": "stderr",
     "output_type": "stream",
     "text": [
      "Processing:  84%|████████▍ | 889/1060 [40:13<03:18,  1.16s/it]"
     ]
    },
    {
     "name": "stdout",
     "output_type": "stream",
     "text": [
      "===== 调试信息：服务器返回 =====\n",
      "{\"id\":\"0194dc7d27d2248783c3d97848bffa81\",\"object\":\"chat.completion\",\"created\":1738865977,\"model\":\"Qwen/Qwen2.5-32B-Instruct\",\"choices\":[{\"index\":0,\"message\":{\"role\":\"assistant\",\"content\":\"{\\n  \\\"classification\\\": \\\"科技\\\",\\n  \\\"sentiment\\\": \\\"positive\\\"\\n}\"},\"finish_reason\":\"stop\"}],\"usage\":{\"prompt_tokens\":3471,\"completion_tokens\":17,\"total_tokens\":3488},\"system_fingerprint\":\"\"}\n",
      "=============================\n",
      "\n"
     ]
    },
    {
     "name": "stderr",
     "output_type": "stream",
     "text": [
      "Processing:  84%|████████▍ | 890/1060 [40:14<03:35,  1.27s/it]"
     ]
    },
    {
     "name": "stdout",
     "output_type": "stream",
     "text": [
      "===== 调试信息：服务器返回 =====\n",
      "{\"id\":\"0194dc7d2d8793fd934c647681122573\",\"object\":\"chat.completion\",\"created\":1738865978,\"model\":\"Qwen/Qwen2.5-32B-Instruct\",\"choices\":[{\"index\":0,\"message\":{\"role\":\"assistant\",\"content\":\"{\\n  \\\"classification\\\": \\\"文化活动\\\",\\n  \\\"sentiment\\\": \\\"pleasure\\\"\\n}\"},\"finish_reason\":\"stop\"}],\"usage\":{\"prompt_tokens\":1315,\"completion_tokens\":19,\"total_tokens\":1334},\"system_fingerprint\":\"\"}\n",
      "=============================\n",
      "\n"
     ]
    },
    {
     "name": "stderr",
     "output_type": "stream",
     "text": [
      "Processing:  84%|████████▍ | 891/1060 [40:15<03:27,  1.23s/it]"
     ]
    },
    {
     "name": "stdout",
     "output_type": "stream",
     "text": [
      "===== 调试信息：服务器返回 =====\n",
      "{\"id\":\"0194dc7d320e41044af15c630505b1d0\",\"object\":\"chat.completion\",\"created\":1738865979,\"model\":\"Qwen/Qwen2.5-32B-Instruct\",\"choices\":[{\"index\":0,\"message\":{\"role\":\"assistant\",\"content\":\"{\\n  \\\"classification\\\": \\\"灾害\\\",\\n  \\\"sentiment\\\": \\\"pain\\\"\\n}\"},\"finish_reason\":\"stop\"}],\"usage\":{\"prompt_tokens\":1401,\"completion_tokens\":17,\"total_tokens\":1418},\"system_fingerprint\":\"\"}\n",
      "=============================\n",
      "\n"
     ]
    },
    {
     "name": "stderr",
     "output_type": "stream",
     "text": [
      "Processing:  84%|████████▍ | 892/1060 [40:16<03:23,  1.21s/it]"
     ]
    },
    {
     "name": "stdout",
     "output_type": "stream",
     "text": [
      "===== 调试信息：服务器返回 =====\n",
      "{\"id\":\"0194dc7d36bdfc1a3b7fadbb724f2555\",\"object\":\"chat.completion\",\"created\":1738865981,\"model\":\"Qwen/Qwen2.5-32B-Instruct\",\"choices\":[{\"index\":0,\"message\":{\"role\":\"assistant\",\"content\":\"{\\n  \\\"classification\\\": \\\"国际政治\\\",\\n  \\\"sentiment\\\": \\\"negative\\\"\\n}\"},\"finish_reason\":\"stop\"}],\"usage\":{\"prompt_tokens\":1960,\"completion_tokens\":18,\"total_tokens\":1978},\"system_fingerprint\":\"\"}\n",
      "=============================\n",
      "\n"
     ]
    },
    {
     "name": "stderr",
     "output_type": "stream",
     "text": [
      "Processing:  84%|████████▍ | 893/1060 [40:18<03:26,  1.23s/it]"
     ]
    },
    {
     "name": "stdout",
     "output_type": "stream",
     "text": [
      "===== 调试信息：服务器返回 =====\n",
      "{\"id\":\"0194dc7d3ba66e8c3fb310c25a688e90\",\"object\":\"chat.completion\",\"created\":1738865982,\"model\":\"Qwen/Qwen2.5-32B-Instruct\",\"choices\":[{\"index\":0,\"message\":{\"role\":\"assistant\",\"content\":\"{\\n  \\\"classification\\\": \\\"国际政治\\\",\\n  \\\"sentiment\\\": \\\"negative\\\"\\n}\"},\"finish_reason\":\"stop\"}],\"usage\":{\"prompt_tokens\":2296,\"completion_tokens\":18,\"total_tokens\":2314},\"system_fingerprint\":\"\"}\n",
      "=============================\n",
      "\n"
     ]
    },
    {
     "name": "stderr",
     "output_type": "stream",
     "text": [
      "Processing:  84%|████████▍ | 894/1060 [40:19<03:28,  1.26s/it]"
     ]
    },
    {
     "name": "stdout",
     "output_type": "stream",
     "text": [
      "===== 调试信息：服务器返回 =====\n",
      "{\"id\":\"0194dc7d40ef07f1ce5efa305e507943\",\"object\":\"chat.completion\",\"created\":1738865983,\"model\":\"Qwen/Qwen2.5-32B-Instruct\",\"choices\":[{\"index\":0,\"message\":{\"role\":\"assistant\",\"content\":\"{\\n  \\\"classification\\\": \\\"经济\\\",\\n  \\\"sentiment\\\": \\\"neutral\\\"\\n}\"},\"finish_reason\":\"stop\"}],\"usage\":{\"prompt_tokens\":1609,\"completion_tokens\":17,\"total_tokens\":1626},\"system_fingerprint\":\"\"}\n",
      "=============================\n",
      "\n"
     ]
    },
    {
     "name": "stderr",
     "output_type": "stream",
     "text": [
      "Processing:  84%|████████▍ | 895/1060 [40:20<03:26,  1.25s/it]"
     ]
    },
    {
     "name": "stdout",
     "output_type": "stream",
     "text": [
      "触发速率限制 (HTTP 429)，等待60秒后重试...\n",
      "===== 调试信息：服务器返回 =====\n",
      "{\"id\":\"0194dc7e307850499cf0a1411ee3b6a4\",\"object\":\"chat.completion\",\"created\":1738866045,\"model\":\"Qwen/Qwen2.5-32B-Instruct\",\"choices\":[{\"index\":0,\"message\":{\"role\":\"assistant\",\"content\":\"{\\n  \\\"classification\\\": \\\"环境\\\",\\n  \\\"sentiment\\\": \\\"negative\\\"\\n}\"},\"finish_reason\":\"stop\"}],\"usage\":{\"prompt_tokens\":2419,\"completion_tokens\":17,\"total_tokens\":2436},\"system_fingerprint\":\"\"}\n",
      "=============================\n",
      "\n"
     ]
    },
    {
     "name": "stderr",
     "output_type": "stream",
     "text": [
      "Processing:  85%|████████▍ | 896/1060 [41:22<52:48, 19.32s/it]"
     ]
    },
    {
     "name": "stdout",
     "output_type": "stream",
     "text": [
      "===== 调试信息：服务器返回 =====\n",
      "{\"id\":\"0194dc7e35c7432d9b98f4bcc83a6c0f\",\"object\":\"chat.completion\",\"created\":1738866046,\"model\":\"Qwen/Qwen2.5-32B-Instruct\",\"choices\":[{\"index\":0,\"message\":{\"role\":\"assistant\",\"content\":\"{\\n  \\\"classification\\\": \\\"文化活动\\\",\\n  \\\"sentiment\\\": \\\"pleasure\\\"\\n}\"},\"finish_reason\":\"stop\"}],\"usage\":{\"prompt_tokens\":1499,\"completion_tokens\":19,\"total_tokens\":1518},\"system_fingerprint\":\"\"}\n",
      "=============================\n",
      "\n"
     ]
    },
    {
     "name": "stderr",
     "output_type": "stream",
     "text": [
      "Processing:  85%|████████▍ | 897/1060 [41:23<37:48, 13.92s/it]"
     ]
    },
    {
     "name": "stdout",
     "output_type": "stream",
     "text": [
      "===== 调试信息：服务器返回 =====\n",
      "{\"id\":\"0194dc7e3ad6c6cf4777d2641a500abf\",\"object\":\"chat.completion\",\"created\":1738866047,\"model\":\"Qwen/Qwen2.5-32B-Instruct\",\"choices\":[{\"index\":0,\"message\":{\"role\":\"assistant\",\"content\":\"{\\n  \\\"classification\\\": \\\"国际政治\\\",\\n  \\\"sentiment\\\": \\\"neutral\\\"\\n}\"},\"finish_reason\":\"stop\"}],\"usage\":{\"prompt_tokens\":1513,\"completion_tokens\":18,\"total_tokens\":1531},\"system_fingerprint\":\"\"}\n",
      "=============================\n",
      "\n"
     ]
    },
    {
     "name": "stderr",
     "output_type": "stream",
     "text": [
      "Processing:  85%|████████▍ | 898/1060 [41:25<27:28, 10.18s/it]"
     ]
    },
    {
     "name": "stdout",
     "output_type": "stream",
     "text": [
      "===== 调试信息：服务器返回 =====\n",
      "{\"id\":\"0194dc7e407824f33f6f9f792528c28b\",\"object\":\"chat.completion\",\"created\":1738866049,\"model\":\"Qwen/Qwen2.5-32B-Instruct\",\"choices\":[{\"index\":0,\"message\":{\"role\":\"assistant\",\"content\":\"{\\n  \\\"classification\\\": \\\"体育\\\",\\n  \\\"sentiment\\\": \\\"pleasure\\\"\\n}\"},\"finish_reason\":\"stop\"}],\"usage\":{\"prompt_tokens\":1739,\"completion_tokens\":18,\"total_tokens\":1757},\"system_fingerprint\":\"\"}\n",
      "=============================\n",
      "\n"
     ]
    },
    {
     "name": "stderr",
     "output_type": "stream",
     "text": [
      "Processing:  85%|████████▍ | 899/1060 [41:26<20:04,  7.48s/it]"
     ]
    },
    {
     "name": "stdout",
     "output_type": "stream",
     "text": [
      "===== 调试信息：服务器返回 =====\n",
      "{\"id\":\"0194dc7e45363d762e3c76acb7d69800\",\"object\":\"chat.completion\",\"created\":1738866050,\"model\":\"Qwen/Qwen2.5-32B-Instruct\",\"choices\":[{\"index\":0,\"message\":{\"role\":\"assistant\",\"content\":\"{\\n  \\\"classification\\\": \\\"文化活动\\\",\\n  \\\"sentiment\\\": \\\"pleasure\\\"\\n}\"},\"finish_reason\":\"stop\"}],\"usage\":{\"prompt_tokens\":1545,\"completion_tokens\":19,\"total_tokens\":1564},\"system_fingerprint\":\"\"}\n",
      "=============================\n",
      "\n"
     ]
    },
    {
     "name": "stderr",
     "output_type": "stream",
     "text": [
      "Processing:  85%|████████▍ | 900/1060 [41:27<14:54,  5.59s/it]"
     ]
    },
    {
     "name": "stdout",
     "output_type": "stream",
     "text": [
      "===== 调试信息：服务器返回 =====\n",
      "{\"id\":\"0194dc7e49d5fce48f2e7bd12ae791a4\",\"object\":\"chat.completion\",\"created\":1738866051,\"model\":\"Qwen/Qwen2.5-32B-Instruct\",\"choices\":[{\"index\":0,\"message\":{\"role\":\"assistant\",\"content\":\"{\\n  \\\"classification\\\": \\\"国内政治\\\",\\n  \\\"sentiment\\\": \\\"negative\\\"\\n}\"},\"finish_reason\":\"stop\"}],\"usage\":{\"prompt_tokens\":2230,\"completion_tokens\":18,\"total_tokens\":2248},\"system_fingerprint\":\"\"}\n",
      "=============================\n",
      "\n"
     ]
    },
    {
     "name": "stderr",
     "output_type": "stream",
     "text": [
      "Processing:  85%|████████▌ | 901/1060 [41:28<11:24,  4.30s/it]"
     ]
    },
    {
     "name": "stdout",
     "output_type": "stream",
     "text": [
      "===== 调试信息：服务器返回 =====\n",
      "{\"id\":\"0194dc7e4ee830e70476a6e4d4fad226\",\"object\":\"chat.completion\",\"created\":1738866052,\"model\":\"Qwen/Qwen2.5-32B-Instruct\",\"choices\":[{\"index\":0,\"message\":{\"role\":\"assistant\",\"content\":\"{\\n  \\\"classification\\\": \\\"国际政治\\\",\\n  \\\"sentiment\\\": \\\"neutral\\\"\\n}\"},\"finish_reason\":\"stop\"}],\"usage\":{\"prompt_tokens\":2825,\"completion_tokens\":18,\"total_tokens\":2843},\"system_fingerprint\":\"\"}\n",
      "=============================\n",
      "\n"
     ]
    },
    {
     "name": "stderr",
     "output_type": "stream",
     "text": [
      "Processing:  85%|████████▌ | 902/1060 [41:30<09:03,  3.44s/it]"
     ]
    },
    {
     "name": "stdout",
     "output_type": "stream",
     "text": [
      "===== 调试信息：服务器返回 =====\n",
      "{\"id\":\"0194dc7e546863f6b2a43f92bea51249\",\"object\":\"chat.completion\",\"created\":1738866054,\"model\":\"Qwen/Qwen2.5-32B-Instruct\",\"choices\":[{\"index\":0,\"message\":{\"role\":\"assistant\",\"content\":\"{\\n  \\\"classification\\\": \\\"经济\\\",\\n  \\\"sentiment\\\": \\\"neutral\\\"\\n}\"},\"finish_reason\":\"stop\"}],\"usage\":{\"prompt_tokens\":1561,\"completion_tokens\":17,\"total_tokens\":1578},\"system_fingerprint\":\"\"}\n",
      "=============================\n",
      "\n"
     ]
    },
    {
     "name": "stderr",
     "output_type": "stream",
     "text": [
      "Processing:  85%|████████▌ | 903/1060 [41:31<07:11,  2.75s/it]"
     ]
    },
    {
     "name": "stdout",
     "output_type": "stream",
     "text": [
      "===== 调试信息：服务器返回 =====\n",
      "{\"id\":\"0194dc7e58ed8ad0b64b05f741d0106d\",\"object\":\"chat.completion\",\"created\":1738866055,\"model\":\"Qwen/Qwen2.5-32B-Instruct\",\"choices\":[{\"index\":0,\"message\":{\"role\":\"assistant\",\"content\":\"{\\n  \\\"classification\\\": \\\"经济\\\",\\n  \\\"sentiment\\\": \\\"positive\\\"\\n}\"},\"finish_reason\":\"stop\"}],\"usage\":{\"prompt_tokens\":2350,\"completion_tokens\":17,\"total_tokens\":2367},\"system_fingerprint\":\"\"}\n",
      "=============================\n",
      "\n"
     ]
    },
    {
     "name": "stderr",
     "output_type": "stream",
     "text": [
      "Processing:  85%|████████▌ | 904/1060 [41:32<06:01,  2.32s/it]"
     ]
    },
    {
     "name": "stdout",
     "output_type": "stream",
     "text": [
      "===== 调试信息：服务器返回 =====\n",
      "{\"id\":\"0194dc7e5dfca715cd56cbaaa83fc3b7\",\"object\":\"chat.completion\",\"created\":1738866056,\"model\":\"Qwen/Qwen2.5-32B-Instruct\",\"choices\":[{\"index\":0,\"message\":{\"role\":\"assistant\",\"content\":\"{\\n  \\\"classification\\\": \\\"国际政治\\\",\\n  \\\"sentiment\\\": \\\"negative\\\"\\n}\"},\"finish_reason\":\"stop\"}],\"usage\":{\"prompt_tokens\":1383,\"completion_tokens\":18,\"total_tokens\":1401},\"system_fingerprint\":\"\"}\n",
      "=============================\n",
      "\n"
     ]
    },
    {
     "name": "stderr",
     "output_type": "stream",
     "text": [
      "Processing:  85%|████████▌ | 905/1060 [41:33<05:05,  1.97s/it]"
     ]
    },
    {
     "name": "stdout",
     "output_type": "stream",
     "text": [
      "===== 调试信息：服务器返回 =====\n",
      "{\"id\":\"0194dc7e62a34be6b2e2fe42ad45d748\",\"object\":\"chat.completion\",\"created\":1738866057,\"model\":\"Qwen/Qwen2.5-32B-Instruct\",\"choices\":[{\"index\":0,\"message\":{\"role\":\"assistant\",\"content\":\"{\\n  \\\"classification\\\": \\\"商务活动\\\",\\n  \\\"sentiment\\\": \\\"positive\\\"\\n}\"},\"finish_reason\":\"stop\"}],\"usage\":{\"prompt_tokens\":1257,\"completion_tokens\":18,\"total_tokens\":1275},\"system_fingerprint\":\"\"}\n",
      "=============================\n",
      "\n"
     ]
    },
    {
     "name": "stderr",
     "output_type": "stream",
     "text": [
      "Processing:  85%|████████▌ | 906/1060 [41:35<04:40,  1.82s/it]"
     ]
    },
    {
     "name": "stdout",
     "output_type": "stream",
     "text": [
      "===== 调试信息：服务器返回 =====\n",
      "{\"id\":\"0194dc7e684488651286a9e1d0ec7286\",\"object\":\"chat.completion\",\"created\":1738866059,\"model\":\"Qwen/Qwen2.5-32B-Instruct\",\"choices\":[{\"index\":0,\"message\":{\"role\":\"assistant\",\"content\":\"{\\n  \\\"classification\\\": \\\"商务活动\\\",\\n  \\\"sentiment\\\": \\\"negative\\\"\\n}\"},\"finish_reason\":\"stop\"}],\"usage\":{\"prompt_tokens\":1338,\"completion_tokens\":18,\"total_tokens\":1356},\"system_fingerprint\":\"\"}\n",
      "=============================\n",
      "\n"
     ]
    },
    {
     "name": "stderr",
     "output_type": "stream",
     "text": [
      "Processing:  86%|████████▌ | 907/1060 [41:36<04:06,  1.61s/it]"
     ]
    },
    {
     "name": "stdout",
     "output_type": "stream",
     "text": [
      "===== 调试信息：服务器返回 =====\n",
      "{\"id\":\"0194dc7e6cb6e0c9c9690b1149d7dc08\",\"object\":\"chat.completion\",\"created\":1738866060,\"model\":\"Qwen/Qwen2.5-32B-Instruct\",\"choices\":[{\"index\":0,\"message\":{\"role\":\"assistant\",\"content\":\"{\\n  \\\"classification\\\": \\\"商务活动\\\",\\n  \\\"sentiment\\\": \\\"negative\\\"\\n}\"},\"finish_reason\":\"stop\"}],\"usage\":{\"prompt_tokens\":2048,\"completion_tokens\":18,\"total_tokens\":2066},\"system_fingerprint\":\"\"}\n",
      "=============================\n",
      "\n"
     ]
    },
    {
     "name": "stderr",
     "output_type": "stream",
     "text": [
      "Processing:  86%|████████▌ | 908/1060 [41:37<03:48,  1.50s/it]"
     ]
    },
    {
     "name": "stdout",
     "output_type": "stream",
     "text": [
      "===== 调试信息：服务器返回 =====\n",
      "{\"id\":\"0194dc7e719622ae763eb8f465553640\",\"object\":\"chat.completion\",\"created\":1738866061,\"model\":\"Qwen/Qwen2.5-32B-Instruct\",\"choices\":[{\"index\":0,\"message\":{\"role\":\"assistant\",\"content\":\"{\\n  \\\"classification\\\": \\\"商务活动\\\",\\n  \\\"sentiment\\\": \\\"pleasure\\\"\\n}\"},\"finish_reason\":\"stop\"}],\"usage\":{\"prompt_tokens\":1317,\"completion_tokens\":19,\"total_tokens\":1336},\"system_fingerprint\":\"\"}\n",
      "=============================\n",
      "\n"
     ]
    },
    {
     "name": "stderr",
     "output_type": "stream",
     "text": [
      "Processing:  86%|████████▌ | 909/1060 [41:38<03:32,  1.41s/it]"
     ]
    },
    {
     "name": "stdout",
     "output_type": "stream",
     "text": [
      "===== 调试信息：服务器返回 =====\n",
      "{\"id\":\"0194dc7e76599d29d97c801aa7ef5890\",\"object\":\"chat.completion\",\"created\":1738866062,\"model\":\"Qwen/Qwen2.5-32B-Instruct\",\"choices\":[{\"index\":0,\"message\":{\"role\":\"assistant\",\"content\":\"{\\n  \\\"classification\\\": \\\"国际政治\\\",\\n  \\\"sentiment\\\": \\\"neutral\\\"\\n}\"},\"finish_reason\":\"stop\"}],\"usage\":{\"prompt_tokens\":1838,\"completion_tokens\":18,\"total_tokens\":1856},\"system_fingerprint\":\"\"}\n",
      "=============================\n",
      "\n"
     ]
    },
    {
     "name": "stderr",
     "output_type": "stream",
     "text": [
      "Processing:  86%|████████▌ | 910/1060 [41:40<03:24,  1.36s/it]"
     ]
    },
    {
     "name": "stdout",
     "output_type": "stream",
     "text": [
      "===== 调试信息：服务器返回 =====\n",
      "{\"id\":\"0194dc7e7b3dc0dfdf29999a3c7fe04a\",\"object\":\"chat.completion\",\"created\":1738866064,\"model\":\"Qwen/Qwen2.5-32B-Instruct\",\"choices\":[{\"index\":0,\"message\":{\"role\":\"assistant\",\"content\":\"{\\n  \\\"classification\\\": \\\"庆典\\\",\\n  \\\"sentiment\\\": \\\"pleasure\\\"\\n}\"},\"finish_reason\":\"stop\"}],\"usage\":{\"prompt_tokens\":1417,\"completion_tokens\":18,\"total_tokens\":1435},\"system_fingerprint\":\"\"}\n",
      "=============================\n",
      "\n"
     ]
    },
    {
     "name": "stderr",
     "output_type": "stream",
     "text": [
      "Processing:  86%|████████▌ | 911/1060 [41:41<03:15,  1.31s/it]"
     ]
    },
    {
     "name": "stdout",
     "output_type": "stream",
     "text": [
      "===== 调试信息：服务器返回 =====\n",
      "{\"id\":\"0194dc7e7fd521853f799d8214599785\",\"object\":\"chat.completion\",\"created\":1738866065,\"model\":\"Qwen/Qwen2.5-32B-Instruct\",\"choices\":[{\"index\":0,\"message\":{\"role\":\"assistant\",\"content\":\"{\\n  \\\"classification\\\": \\\"经济\\\",\\n  \\\"sentiment\\\": \\\"negative\\\"\\n}\"},\"finish_reason\":\"stop\"}],\"usage\":{\"prompt_tokens\":1370,\"completion_tokens\":17,\"total_tokens\":1387},\"system_fingerprint\":\"\"}\n",
      "=============================\n",
      "\n"
     ]
    },
    {
     "name": "stderr",
     "output_type": "stream",
     "text": [
      "Processing:  86%|████████▌ | 912/1060 [41:42<03:07,  1.27s/it]"
     ]
    },
    {
     "name": "stdout",
     "output_type": "stream",
     "text": [
      "===== 调试信息：服务器返回 =====\n",
      "{\"id\":\"0194dc7e846213c50b0aaa5f52e637ec\",\"object\":\"chat.completion\",\"created\":1738866066,\"model\":\"Qwen/Qwen2.5-32B-Instruct\",\"choices\":[{\"index\":0,\"message\":{\"role\":\"assistant\",\"content\":\"{\\n  \\\"classification\\\": \\\"国际政治\\\",\\n  \\\"sentiment\\\": \\\"neutral\\\"\\n}\"},\"finish_reason\":\"stop\"}],\"usage\":{\"prompt_tokens\":2224,\"completion_tokens\":18,\"total_tokens\":2242},\"system_fingerprint\":\"\"}\n",
      "=============================\n",
      "\n"
     ]
    },
    {
     "name": "stderr",
     "output_type": "stream",
     "text": [
      "Processing:  86%|████████▌ | 913/1060 [41:43<03:08,  1.28s/it]"
     ]
    },
    {
     "name": "stdout",
     "output_type": "stream",
     "text": [
      "===== 调试信息：服务器返回 =====\n",
      "{\"id\":\"0194dc7e8977fe5794dea33f6b53d711\",\"object\":\"chat.completion\",\"created\":1738866067,\"model\":\"Qwen/Qwen2.5-32B-Instruct\",\"choices\":[{\"index\":0,\"message\":{\"role\":\"assistant\",\"content\":\"{\\n  \\\"classification\\\": \\\"国际政治\\\",\\n  \\\"sentiment\\\": \\\"negative\\\"\\n}\"},\"finish_reason\":\"stop\"}],\"usage\":{\"prompt_tokens\":2338,\"completion_tokens\":18,\"total_tokens\":2356},\"system_fingerprint\":\"\"}\n",
      "=============================\n",
      "\n"
     ]
    },
    {
     "name": "stderr",
     "output_type": "stream",
     "text": [
      "Processing:  86%|████████▌ | 914/1060 [41:45<03:08,  1.29s/it]"
     ]
    },
    {
     "name": "stdout",
     "output_type": "stream",
     "text": [
      "===== 调试信息：服务器返回 =====\n",
      "{\"id\":\"0194dc7e8eb05fd2ee43165a0b7ab1e6\",\"object\":\"chat.completion\",\"created\":1738866069,\"model\":\"Qwen/Qwen2.5-32B-Instruct\",\"choices\":[{\"index\":0,\"message\":{\"role\":\"assistant\",\"content\":\"{\\n  \\\"classification\\\": \\\"经济\\\",\\n  \\\"sentiment\\\": \\\"negative\\\"\\n}\"},\"finish_reason\":\"stop\"}],\"usage\":{\"prompt_tokens\":1964,\"completion_tokens\":17,\"total_tokens\":1981},\"system_fingerprint\":\"\"}\n",
      "=============================\n",
      "\n"
     ]
    },
    {
     "name": "stderr",
     "output_type": "stream",
     "text": [
      "Processing:  86%|████████▋ | 915/1060 [41:46<03:05,  1.28s/it]"
     ]
    },
    {
     "name": "stdout",
     "output_type": "stream",
     "text": [
      "===== 调试信息：服务器返回 =====\n",
      "{\"id\":\"0194dc7e938316c0368f5d3b352a1f26\",\"object\":\"chat.completion\",\"created\":1738866070,\"model\":\"Qwen/Qwen2.5-32B-Instruct\",\"choices\":[{\"index\":0,\"message\":{\"role\":\"assistant\",\"content\":\"{\\n  \\\"classification\\\": \\\"国际政治\\\",\\n  \\\"sentiment\\\": \\\"neutral\\\"\\n}\"},\"finish_reason\":\"stop\"}],\"usage\":{\"prompt_tokens\":2326,\"completion_tokens\":18,\"total_tokens\":2344},\"system_fingerprint\":\"\"}\n",
      "=============================\n",
      "\n"
     ]
    },
    {
     "name": "stderr",
     "output_type": "stream",
     "text": [
      "Processing:  86%|████████▋ | 916/1060 [41:47<03:05,  1.29s/it]"
     ]
    },
    {
     "name": "stdout",
     "output_type": "stream",
     "text": [
      "===== 调试信息：服务器返回 =====\n",
      "{\"id\":\"0194dc7e989764267d7ac1de7f26f51a\",\"object\":\"chat.completion\",\"created\":1738866071,\"model\":\"Qwen/Qwen2.5-32B-Instruct\",\"choices\":[{\"index\":0,\"message\":{\"role\":\"assistant\",\"content\":\"{\\n  \\\"classification\\\": \\\"体育\\\",\\n  \\\"sentiment\\\": \\\"positive\\\"\\n}\"},\"finish_reason\":\"stop\"}],\"usage\":{\"prompt_tokens\":1087,\"completion_tokens\":17,\"total_tokens\":1104},\"system_fingerprint\":\"\"}\n",
      "=============================\n",
      "\n"
     ]
    },
    {
     "name": "stderr",
     "output_type": "stream",
     "text": [
      "Processing:  87%|████████▋ | 917/1060 [41:48<02:55,  1.23s/it]"
     ]
    },
    {
     "name": "stdout",
     "output_type": "stream",
     "text": [
      "===== 调试信息：服务器返回 =====\n",
      "{\"id\":\"0194dc7e9cec8646092d75d992090eb1\",\"object\":\"chat.completion\",\"created\":1738866072,\"model\":\"Qwen/Qwen2.5-32B-Instruct\",\"choices\":[{\"index\":0,\"message\":{\"role\":\"assistant\",\"content\":\"{\\n  \\\"classification\\\": \\\"国际政治\\\",\\n  \\\"sentiment\\\": \\\"positive\\\"\\n}\"},\"finish_reason\":\"stop\"}],\"usage\":{\"prompt_tokens\":1374,\"completion_tokens\":18,\"total_tokens\":1392},\"system_fingerprint\":\"\"}\n",
      "=============================\n",
      "\n"
     ]
    },
    {
     "name": "stderr",
     "output_type": "stream",
     "text": [
      "Processing:  87%|████████▋ | 918/1060 [41:49<02:51,  1.20s/it]"
     ]
    },
    {
     "name": "stdout",
     "output_type": "stream",
     "text": [
      "===== 调试信息：服务器返回 =====\n",
      "{\"id\":\"0194dc7ea152c1050b0c2134da05c490\",\"object\":\"chat.completion\",\"created\":1738866073,\"model\":\"Qwen/Qwen2.5-32B-Instruct\",\"choices\":[{\"index\":0,\"message\":{\"role\":\"assistant\",\"content\":\"{\\n  \\\"classification\\\": \\\"交通\\\",\\n  \\\"sentiment\\\": \\\"positive\\\"\\n}\"},\"finish_reason\":\"stop\"}],\"usage\":{\"prompt_tokens\":2272,\"completion_tokens\":17,\"total_tokens\":2289},\"system_fingerprint\":\"\"}\n",
      "=============================\n",
      "\n"
     ]
    },
    {
     "name": "stderr",
     "output_type": "stream",
     "text": [
      "Processing:  87%|████████▋ | 919/1060 [41:51<02:52,  1.22s/it]"
     ]
    },
    {
     "name": "stdout",
     "output_type": "stream",
     "text": [
      "===== 调试信息：服务器返回 =====\n",
      "{\"id\":\"0194dc7ea668d64bc9c8f4af1b03369b\",\"object\":\"chat.completion\",\"created\":1738866075,\"model\":\"Qwen/Qwen2.5-32B-Instruct\",\"choices\":[{\"index\":0,\"message\":{\"role\":\"assistant\",\"content\":\"{\\n  \\\"classification\\\": \\\"经济\\\",\\n  \\\"sentiment\\\": \\\"negative\\\"\\n}\"},\"finish_reason\":\"stop\"}],\"usage\":{\"prompt_tokens\":1630,\"completion_tokens\":17,\"total_tokens\":1647},\"system_fingerprint\":\"\"}\n",
      "=============================\n",
      "\n"
     ]
    },
    {
     "name": "stderr",
     "output_type": "stream",
     "text": [
      "Processing:  87%|████████▋ | 920/1060 [41:52<02:58,  1.28s/it]"
     ]
    },
    {
     "name": "stdout",
     "output_type": "stream",
     "text": [
      "===== 调试信息：服务器返回 =====\n",
      "{\"id\":\"0194dc7eabc7a0db704e936c8e4b7559\",\"object\":\"chat.completion\",\"created\":1738866076,\"model\":\"Qwen/Qwen2.5-32B-Instruct\",\"choices\":[{\"index\":0,\"message\":{\"role\":\"assistant\",\"content\":\"{\\n  \\\"classification\\\": \\\"科技\\\",\\n  \\\"sentiment\\\": \\\"neutral\\\"\\n}\"},\"finish_reason\":\"stop\"}],\"usage\":{\"prompt_tokens\":1838,\"completion_tokens\":17,\"total_tokens\":1855},\"system_fingerprint\":\"\"}\n",
      "=============================\n",
      "\n"
     ]
    },
    {
     "name": "stderr",
     "output_type": "stream",
     "text": [
      "Processing:  87%|████████▋ | 921/1060 [41:53<02:53,  1.25s/it]"
     ]
    },
    {
     "name": "stdout",
     "output_type": "stream",
     "text": [
      "===== 调试信息：服务器返回 =====\n",
      "{\"id\":\"0194dc7eb090305838a5f4fffa085622\",\"object\":\"chat.completion\",\"created\":1738866077,\"model\":\"Qwen/Qwen2.5-32B-Instruct\",\"choices\":[{\"index\":0,\"message\":{\"role\":\"assistant\",\"content\":\"{\\n  \\\"classification\\\": \\\"军事和防御\\\",\\n  \\\"sentiment\\\": \\\"hostile\\\"\\n}\"},\"finish_reason\":\"stop\"}],\"usage\":{\"prompt_tokens\":2054,\"completion_tokens\":20,\"total_tokens\":2074},\"system_fingerprint\":\"\"}\n",
      "=============================\n",
      "\n"
     ]
    },
    {
     "name": "stderr",
     "output_type": "stream",
     "text": [
      "Processing:  87%|████████▋ | 922/1060 [41:55<02:55,  1.27s/it]"
     ]
    },
    {
     "name": "stdout",
     "output_type": "stream",
     "text": [
      "===== 调试信息：服务器返回 =====\n",
      "{\"id\":\"0194dc7eb58cbd35ee7c8c58e0872ebc\",\"object\":\"chat.completion\",\"created\":1738866079,\"model\":\"Qwen/Qwen2.5-32B-Instruct\",\"choices\":[{\"index\":0,\"message\":{\"role\":\"assistant\",\"content\":\"{\\n  \\\"classification\\\": \\\"国际政治\\\",\\n  \\\"sentiment\\\": \\\"neutral\\\"\\n}\"},\"finish_reason\":\"stop\"}],\"usage\":{\"prompt_tokens\":1542,\"completion_tokens\":18,\"total_tokens\":1560},\"system_fingerprint\":\"\"}\n",
      "=============================\n",
      "\n"
     ]
    },
    {
     "name": "stderr",
     "output_type": "stream",
     "text": [
      "Processing:  87%|████████▋ | 923/1060 [41:56<02:50,  1.24s/it]"
     ]
    },
    {
     "name": "stdout",
     "output_type": "stream",
     "text": [
      "===== 调试信息：服务器返回 =====\n",
      "{\"id\":\"0194dc7eba2c83382270c72952bf3ab0\",\"object\":\"chat.completion\",\"created\":1738866080,\"model\":\"Qwen/Qwen2.5-32B-Instruct\",\"choices\":[{\"index\":0,\"message\":{\"role\":\"assistant\",\"content\":\"{\\n  \\\"classification\\\": \\\"国内秩序\\\",\\n  \\\"sentiment\\\": \\\"negative\\\"\\n}\"},\"finish_reason\":\"stop\"}],\"usage\":{\"prompt_tokens\":2009,\"completion_tokens\":18,\"total_tokens\":2027},\"system_fingerprint\":\"\"}\n",
      "=============================\n",
      "\n"
     ]
    },
    {
     "name": "stderr",
     "output_type": "stream",
     "text": [
      "Processing:  87%|████████▋ | 924/1060 [41:57<02:49,  1.25s/it]"
     ]
    },
    {
     "name": "stdout",
     "output_type": "stream",
     "text": [
      "===== 调试信息：服务器返回 =====\n",
      "{\"id\":\"0194dc7ebf1145e1309992a35201cef8\",\"object\":\"chat.completion\",\"created\":1738866081,\"model\":\"Qwen/Qwen2.5-32B-Instruct\",\"choices\":[{\"index\":0,\"message\":{\"role\":\"assistant\",\"content\":\"{\\n  \\\"classification\\\": \\\"军事和防御\\\",\\n  \\\"sentiment\\\": \\\"negative\\\"\\n}\"},\"finish_reason\":\"stop\"}],\"usage\":{\"prompt_tokens\":2469,\"completion_tokens\":19,\"total_tokens\":2488},\"system_fingerprint\":\"\"}\n",
      "=============================\n",
      "\n"
     ]
    },
    {
     "name": "stderr",
     "output_type": "stream",
     "text": [
      "Processing:  87%|████████▋ | 925/1060 [41:58<02:52,  1.28s/it]"
     ]
    },
    {
     "name": "stdout",
     "output_type": "stream",
     "text": [
      "===== 调试信息：服务器返回 =====\n",
      "{\"id\":\"0194dc7ec47687b81efe46ed815b7322\",\"object\":\"chat.completion\",\"created\":1738866082,\"model\":\"Qwen/Qwen2.5-32B-Instruct\",\"choices\":[{\"index\":0,\"message\":{\"role\":\"assistant\",\"content\":\"{\\n  \\\"classification\\\": \\\"国际政治\\\",\\n  \\\"sentiment\\\": \\\"neutral\\\"\\n}\"},\"finish_reason\":\"stop\"}],\"usage\":{\"prompt_tokens\":1298,\"completion_tokens\":18,\"total_tokens\":1316},\"system_fingerprint\":\"\"}\n",
      "=============================\n",
      "\n"
     ]
    },
    {
     "name": "stderr",
     "output_type": "stream",
     "text": [
      "Processing:  87%|████████▋ | 926/1060 [41:59<02:46,  1.24s/it]"
     ]
    },
    {
     "name": "stdout",
     "output_type": "stream",
     "text": [
      "===== 调试信息：服务器返回 =====\n",
      "{\"id\":\"0194dc7ec8f9a74a66f791e8f68fe3e8\",\"object\":\"chat.completion\",\"created\":1738866084,\"model\":\"Qwen/Qwen2.5-32B-Instruct\",\"choices\":[{\"index\":0,\"message\":{\"role\":\"assistant\",\"content\":\"{\\n  \\\"classification\\\": \\\"经济\\\",\\n  \\\"sentiment\\\": \\\"negative\\\"\\n}\"},\"finish_reason\":\"stop\"}],\"usage\":{\"prompt_tokens\":2218,\"completion_tokens\":17,\"total_tokens\":2235},\"system_fingerprint\":\"\"}\n",
      "=============================\n",
      "\n"
     ]
    },
    {
     "name": "stderr",
     "output_type": "stream",
     "text": [
      "Processing:  87%|████████▋ | 927/1060 [42:01<03:00,  1.36s/it]"
     ]
    },
    {
     "name": "stdout",
     "output_type": "stream",
     "text": [
      "===== 调试信息：服务器返回 =====\n",
      "{\"id\":\"0194dc7ecf46d63d42f3e4a95fa84339\",\"object\":\"chat.completion\",\"created\":1738866085,\"model\":\"Qwen/Qwen2.5-32B-Instruct\",\"choices\":[{\"index\":0,\"message\":{\"role\":\"assistant\",\"content\":\"{\\n  \\\"classification\\\": \\\"商务活动\\\",\\n  \\\"sentiment\\\": \\\"negative\\\"\\n}\"},\"finish_reason\":\"stop\"}],\"usage\":{\"prompt_tokens\":1536,\"completion_tokens\":18,\"total_tokens\":1554},\"system_fingerprint\":\"\"}\n",
      "=============================\n",
      "\n"
     ]
    },
    {
     "name": "stderr",
     "output_type": "stream",
     "text": [
      "Processing:  88%|████████▊ | 928/1060 [42:02<02:53,  1.31s/it]"
     ]
    },
    {
     "name": "stdout",
     "output_type": "stream",
     "text": [
      "===== 调试信息：服务器返回 =====\n",
      "{\"id\":\"0194dc7ed427815586314da0060819a8\",\"object\":\"chat.completion\",\"created\":1738866086,\"model\":\"Qwen/Qwen2.5-32B-Instruct\",\"choices\":[{\"index\":0,\"message\":{\"role\":\"assistant\",\"content\":\"{\\n  \\\"classification\\\": \\\"国际政治\\\",\\n  \\\"sentiment\\\": \\\"negative\\\"\\n}\"},\"finish_reason\":\"stop\"}],\"usage\":{\"prompt_tokens\":868,\"completion_tokens\":18,\"total_tokens\":886},\"system_fingerprint\":\"\"}\n",
      "=============================\n",
      "\n"
     ]
    },
    {
     "name": "stderr",
     "output_type": "stream",
     "text": [
      "Processing:  88%|████████▊ | 929/1060 [42:03<02:46,  1.27s/it]"
     ]
    },
    {
     "name": "stdout",
     "output_type": "stream",
     "text": [
      "===== 调试信息：服务器返回 =====\n",
      "{\"id\":\"0194dc7ed8bd57a4f08e5152c3275f8b\",\"object\":\"chat.completion\",\"created\":1738866088,\"model\":\"Qwen/Qwen2.5-32B-Instruct\",\"choices\":[{\"index\":0,\"message\":{\"role\":\"assistant\",\"content\":\"{\\n  \\\"classification\\\": \\\"国际政治\\\",\\n  \\\"sentiment\\\": \\\"negative\\\"\\n}\"},\"finish_reason\":\"stop\"}],\"usage\":{\"prompt_tokens\":2520,\"completion_tokens\":18,\"total_tokens\":2538},\"system_fingerprint\":\"\"}\n",
      "=============================\n",
      "\n"
     ]
    },
    {
     "name": "stderr",
     "output_type": "stream",
     "text": [
      "Processing:  88%|████████▊ | 930/1060 [42:05<02:50,  1.31s/it]"
     ]
    },
    {
     "name": "stdout",
     "output_type": "stream",
     "text": [
      "===== 调试信息：服务器返回 =====\n",
      "{\"id\":\"0194dc7ede5e48280cb22bfd07ab4b59\",\"object\":\"chat.completion\",\"created\":1738866089,\"model\":\"Qwen/Qwen2.5-32B-Instruct\",\"choices\":[{\"index\":0,\"message\":{\"role\":\"assistant\",\"content\":\"{\\n  \\\"classification\\\": \\\"国际政治\\\",\\n  \\\"sentiment\\\": \\\"negative\\\"\\n}\"},\"finish_reason\":\"stop\"}],\"usage\":{\"prompt_tokens\":1847,\"completion_tokens\":18,\"total_tokens\":1865},\"system_fingerprint\":\"\"}\n",
      "=============================\n",
      "\n"
     ]
    },
    {
     "name": "stderr",
     "output_type": "stream",
     "text": [
      "Processing:  88%|████████▊ | 931/1060 [42:06<02:53,  1.34s/it]"
     ]
    },
    {
     "name": "stdout",
     "output_type": "stream",
     "text": [
      "===== 调试信息：服务器返回 =====\n",
      "{\"id\":\"0194dc7ee3d2a45a900cdb54e9cf1e77\",\"object\":\"chat.completion\",\"created\":1738866090,\"model\":\"Qwen/Qwen2.5-32B-Instruct\",\"choices\":[{\"index\":0,\"message\":{\"role\":\"assistant\",\"content\":\"{\\n  \\\"classification\\\": \\\"经济\\\",\\n  \\\"sentiment\\\": \\\"negative\\\"\\n}\"},\"finish_reason\":\"stop\"}],\"usage\":{\"prompt_tokens\":5842,\"completion_tokens\":17,\"total_tokens\":5859},\"system_fingerprint\":\"\"}\n",
      "=============================\n",
      "\n"
     ]
    },
    {
     "name": "stderr",
     "output_type": "stream",
     "text": [
      "Processing:  88%|████████▊ | 932/1060 [42:08<03:15,  1.53s/it]"
     ]
    },
    {
     "name": "stdout",
     "output_type": "stream",
     "text": [
      "触发速率限制 (HTTP 429)，等待60秒后重试...\n",
      "===== 调试信息：服务器返回 =====\n",
      "{\"id\":\"0194dc7fd63266c8c10ad8eddc2cb3ec\",\"object\":\"chat.completion\",\"created\":1738866153,\"model\":\"Qwen/Qwen2.5-32B-Instruct\",\"choices\":[{\"index\":0,\"message\":{\"role\":\"assistant\",\"content\":\"{\\n  \\\"classification\\\": \\\"商务活动\\\",\\n  \\\"sentiment\\\": \\\"neutral\\\"\\n}\"},\"finish_reason\":\"stop\"}],\"usage\":{\"prompt_tokens\":1235,\"completion_tokens\":18,\"total_tokens\":1253},\"system_fingerprint\":\"\"}\n",
      "=============================\n",
      "\n"
     ]
    },
    {
     "name": "stderr",
     "output_type": "stream",
     "text": [
      "Processing:  88%|████████▊ | 933/1060 [43:10<41:11, 19.46s/it]"
     ]
    },
    {
     "name": "stdout",
     "output_type": "stream",
     "text": [
      "===== 调试信息：服务器返回 =====\n",
      "{\"id\":\"0194dc7fdad9cce390cd741ce2bf3b7c\",\"object\":\"chat.completion\",\"created\":1738866154,\"model\":\"Qwen/Qwen2.5-32B-Instruct\",\"choices\":[{\"index\":0,\"message\":{\"role\":\"assistant\",\"content\":\"{\\n  \\\"classification\\\": \\\"国际政治\\\",\\n  \\\"sentiment\\\": \\\"negative\\\"\\n}\"},\"finish_reason\":\"stop\"}],\"usage\":{\"prompt_tokens\":1708,\"completion_tokens\":18,\"total_tokens\":1726},\"system_fingerprint\":\"\"}\n",
      "=============================\n",
      "\n"
     ]
    },
    {
     "name": "stderr",
     "output_type": "stream",
     "text": [
      "Processing:  88%|████████▊ | 934/1060 [43:11<29:23, 13.99s/it]"
     ]
    },
    {
     "name": "stdout",
     "output_type": "stream",
     "text": [
      "===== 调试信息：服务器返回 =====\n",
      "{\"id\":\"0194dc7fdf7e9b88d46576d2d6086b41\",\"object\":\"chat.completion\",\"created\":1738866155,\"model\":\"Qwen/Qwen2.5-32B-Instruct\",\"choices\":[{\"index\":0,\"message\":{\"role\":\"assistant\",\"content\":\"{\\n  \\\"classification\\\": \\\"经济\\\",\\n  \\\"sentiment\\\": \\\"negative\\\"\\n}\"},\"finish_reason\":\"stop\"}],\"usage\":{\"prompt_tokens\":1672,\"completion_tokens\":17,\"total_tokens\":1689},\"system_fingerprint\":\"\"}\n",
      "=============================\n",
      "\n"
     ]
    },
    {
     "name": "stderr",
     "output_type": "stream",
     "text": [
      "Processing:  88%|████████▊ | 935/1060 [43:12<21:08, 10.15s/it]"
     ]
    },
    {
     "name": "stdout",
     "output_type": "stream",
     "text": [
      "===== 调试信息：服务器返回 =====\n",
      "{\"id\":\"0194dc7fe44598a4aed1bd5d57e7bba4\",\"object\":\"chat.completion\",\"created\":1738866156,\"model\":\"Qwen/Qwen2.5-32B-Instruct\",\"choices\":[{\"index\":0,\"message\":{\"role\":\"assistant\",\"content\":\"{\\n  \\\"classification\\\": \\\"军事和防御\\\",\\n  \\\"sentiment\\\": \\\"neutral\\\"\\n}\"},\"finish_reason\":\"stop\"}],\"usage\":{\"prompt_tokens\":1332,\"completion_tokens\":19,\"total_tokens\":1351},\"system_fingerprint\":\"\"}\n",
      "=============================\n",
      "\n"
     ]
    },
    {
     "name": "stderr",
     "output_type": "stream",
     "text": [
      "Processing:  88%|████████▊ | 936/1060 [43:13<15:25,  7.47s/it]"
     ]
    },
    {
     "name": "stdout",
     "output_type": "stream",
     "text": [
      "===== 调试信息：服务器返回 =====\n",
      "{\"id\":\"0194dc7fe8e416cd01db73edf3ce9b99\",\"object\":\"chat.completion\",\"created\":1738866157,\"model\":\"Qwen/Qwen2.5-32B-Instruct\",\"choices\":[{\"index\":0,\"message\":{\"role\":\"assistant\",\"content\":\"{\\n  \\\"classification\\\": \\\"军事和防御\\\",\\n  \\\"sentiment\\\": \\\"neutral\\\"\\n}\"},\"finish_reason\":\"stop\"}],\"usage\":{\"prompt_tokens\":1480,\"completion_tokens\":19,\"total_tokens\":1499},\"system_fingerprint\":\"\"}\n",
      "=============================\n",
      "\n"
     ]
    },
    {
     "name": "stderr",
     "output_type": "stream",
     "text": [
      "Processing:  88%|████████▊ | 937/1060 [43:14<11:27,  5.59s/it]"
     ]
    },
    {
     "name": "stdout",
     "output_type": "stream",
     "text": [
      "===== 调试信息：服务器返回 =====\n",
      "{\"id\":\"0194dc7feda6b38f21283da6bdb51938\",\"object\":\"chat.completion\",\"created\":1738866159,\"model\":\"Qwen/Qwen2.5-32B-Instruct\",\"choices\":[{\"index\":0,\"message\":{\"role\":\"assistant\",\"content\":\"{\\n  \\\"classification\\\": \\\"科技\\\",\\n  \\\"sentiment\\\": \\\"neutral\\\"\\n}\"},\"finish_reason\":\"stop\"}],\"usage\":{\"prompt_tokens\":3096,\"completion_tokens\":17,\"total_tokens\":3113},\"system_fingerprint\":\"\"}\n",
      "=============================\n",
      "\n"
     ]
    },
    {
     "name": "stderr",
     "output_type": "stream",
     "text": [
      "Processing:  88%|████████▊ | 938/1060 [43:16<08:50,  4.35s/it]"
     ]
    },
    {
     "name": "stdout",
     "output_type": "stream",
     "text": [
      "===== 调试信息：服务器返回 =====\n",
      "{\"id\":\"0194dc7ff3570f3df87bc905f52f170b\",\"object\":\"chat.completion\",\"created\":1738866160,\"model\":\"Qwen/Qwen2.5-32B-Instruct\",\"choices\":[{\"index\":0,\"message\":{\"role\":\"assistant\",\"content\":\"{\\n  \\\"classification\\\": \\\"国际政治\\\",\\n  \\\"sentiment\\\": \\\"negative\\\"\\n}\"},\"finish_reason\":\"stop\"}],\"usage\":{\"prompt_tokens\":1651,\"completion_tokens\":18,\"total_tokens\":1669},\"system_fingerprint\":\"\"}\n",
      "=============================\n",
      "\n"
     ]
    },
    {
     "name": "stderr",
     "output_type": "stream",
     "text": [
      "Processing:  89%|████████▊ | 939/1060 [43:17<06:53,  3.42s/it]"
     ]
    },
    {
     "name": "stdout",
     "output_type": "stream",
     "text": [
      "===== 调试信息：服务器返回 =====\n",
      "{\"id\":\"0194dc7ff8c8ba33f5aaf9b997961b30\",\"object\":\"chat.completion\",\"created\":1738866161,\"model\":\"Qwen/Qwen2.5-32B-Instruct\",\"choices\":[{\"index\":0,\"message\":{\"role\":\"assistant\",\"content\":\"{\\n  \\\"classification\\\": \\\"时尚\\\",\\n  \\\"sentiment\\\": \\\"positive\\\"\\n}\"},\"finish_reason\":\"stop\"}],\"usage\":{\"prompt_tokens\":1494,\"completion_tokens\":17,\"total_tokens\":1511},\"system_fingerprint\":\"\"}\n",
      "=============================\n",
      "\n"
     ]
    },
    {
     "name": "stderr",
     "output_type": "stream",
     "text": [
      "Processing:  89%|████████▊ | 940/1060 [43:18<05:34,  2.79s/it]"
     ]
    },
    {
     "name": "stdout",
     "output_type": "stream",
     "text": [
      "===== 调试信息：服务器返回 =====\n",
      "{\"id\":\"0194dc7ffde0c9a54e36a2227e85227b\",\"object\":\"chat.completion\",\"created\":1738866163,\"model\":\"Qwen/Qwen2.5-32B-Instruct\",\"choices\":[{\"index\":0,\"message\":{\"role\":\"assistant\",\"content\":\"{\\n  \\\"classification\\\": \\\"商务活动\\\",\\n  \\\"sentiment\\\": \\\"negative\\\"\\n}\"},\"finish_reason\":\"stop\"}],\"usage\":{\"prompt_tokens\":1445,\"completion_tokens\":18,\"total_tokens\":1463},\"system_fingerprint\":\"\"}\n",
      "=============================\n",
      "\n"
     ]
    },
    {
     "name": "stderr",
     "output_type": "stream",
     "text": [
      "Processing:  89%|████████▉ | 941/1060 [43:20<04:39,  2.35s/it]"
     ]
    },
    {
     "name": "stdout",
     "output_type": "stream",
     "text": [
      "===== 调试信息：服务器返回 =====\n",
      "{\"id\":\"0194dc8002ce5b3d7bc1591bdf0ed4d2\",\"object\":\"chat.completion\",\"created\":1738866164,\"model\":\"Qwen/Qwen2.5-32B-Instruct\",\"choices\":[{\"index\":0,\"message\":{\"role\":\"assistant\",\"content\":\"{\\n  \\\"classification\\\": \\\"科技\\\",\\n  \\\"sentiment\\\": \\\"negative\\\"\\n}\"},\"finish_reason\":\"stop\"}],\"usage\":{\"prompt_tokens\":1435,\"completion_tokens\":17,\"total_tokens\":1452},\"system_fingerprint\":\"\"}\n",
      "=============================\n",
      "\n"
     ]
    },
    {
     "name": "stderr",
     "output_type": "stream",
     "text": [
      "Processing:  89%|████████▉ | 942/1060 [43:21<03:57,  2.02s/it]"
     ]
    },
    {
     "name": "stdout",
     "output_type": "stream",
     "text": [
      "===== 调试信息：服务器返回 =====\n",
      "{\"id\":\"0194dc8007ab7c02a3236106a6bfa6b1\",\"object\":\"chat.completion\",\"created\":1738866165,\"model\":\"Qwen/Qwen2.5-32B-Instruct\",\"choices\":[{\"index\":0,\"message\":{\"role\":\"assistant\",\"content\":\"{\\n  \\\"classification\\\": \\\"经济\\\",\\n  \\\"sentiment\\\": \\\"negative\\\"\\n}\"},\"finish_reason\":\"stop\"}],\"usage\":{\"prompt_tokens\":1591,\"completion_tokens\":17,\"total_tokens\":1608},\"system_fingerprint\":\"\"}\n",
      "=============================\n",
      "\n"
     ]
    },
    {
     "name": "stderr",
     "output_type": "stream",
     "text": [
      "Processing:  89%|████████▉ | 943/1060 [43:22<03:29,  1.79s/it]"
     ]
    },
    {
     "name": "stdout",
     "output_type": "stream",
     "text": [
      "===== 调试信息：服务器返回 =====\n",
      "{\"id\":\"0194dc800c40a735c7a184abe8ceff4c\",\"object\":\"chat.completion\",\"created\":1738866166,\"model\":\"Qwen/Qwen2.5-32B-Instruct\",\"choices\":[{\"index\":0,\"message\":{\"role\":\"assistant\",\"content\":\"{\\n  \\\"classification\\\": \\\"灾害\\\",\\n  \\\"sentiment\\\": \\\"negative\\\"\\n}\"},\"finish_reason\":\"stop\"}],\"usage\":{\"prompt_tokens\":1052,\"completion_tokens\":17,\"total_tokens\":1069},\"system_fingerprint\":\"\"}\n",
      "=============================\n",
      "\n"
     ]
    },
    {
     "name": "stderr",
     "output_type": "stream",
     "text": [
      "Processing:  89%|████████▉ | 944/1060 [43:23<03:03,  1.58s/it]"
     ]
    },
    {
     "name": "stdout",
     "output_type": "stream",
     "text": [
      "===== 调试信息：服务器返回 =====\n",
      "{\"id\":\"0194dc801090a23804095002a6d593cf\",\"object\":\"chat.completion\",\"created\":1738866167,\"model\":\"Qwen/Qwen2.5-32B-Instruct\",\"choices\":[{\"index\":0,\"message\":{\"role\":\"assistant\",\"content\":\"{\\n  \\\"classification\\\": \\\"国际政治\\\",\\n  \\\"sentiment\\\": \\\"neutral\\\"\\n}\"},\"finish_reason\":\"stop\"}],\"usage\":{\"prompt_tokens\":2037,\"completion_tokens\":18,\"total_tokens\":2055},\"system_fingerprint\":\"\"}\n",
      "=============================\n",
      "\n"
     ]
    },
    {
     "name": "stderr",
     "output_type": "stream",
     "text": [
      "Processing:  89%|████████▉ | 945/1060 [43:25<02:52,  1.50s/it]"
     ]
    },
    {
     "name": "stdout",
     "output_type": "stream",
     "text": [
      "===== 调试信息：服务器返回 =====\n",
      "{\"id\":\"0194dc8015dc60cdb46406166598d78f\",\"object\":\"chat.completion\",\"created\":1738866169,\"model\":\"Qwen/Qwen2.5-32B-Instruct\",\"choices\":[{\"index\":0,\"message\":{\"role\":\"assistant\",\"content\":\"{\\n  \\\"classification\\\": \\\"国际政治\\\",\\n  \\\"sentiment\\\": \\\"negative\\\"\\n}\"},\"finish_reason\":\"stop\"}],\"usage\":{\"prompt_tokens\":1922,\"completion_tokens\":18,\"total_tokens\":1940},\"system_fingerprint\":\"\"}\n",
      "=============================\n",
      "\n"
     ]
    },
    {
     "name": "stderr",
     "output_type": "stream",
     "text": [
      "Processing:  89%|████████▉ | 946/1060 [43:26<02:43,  1.44s/it]"
     ]
    },
    {
     "name": "stdout",
     "output_type": "stream",
     "text": [
      "===== 调试信息：服务器返回 =====\n",
      "{\"id\":\"0194dc801ac03d472d369395ad38989e\",\"object\":\"chat.completion\",\"created\":1738866170,\"model\":\"Qwen/Qwen2.5-32B-Instruct\",\"choices\":[{\"index\":0,\"message\":{\"role\":\"assistant\",\"content\":\"{\\n  \\\"classification\\\": \\\"奥运\\\",\\n  \\\"sentiment\\\": \\\"pleasure\\\"\\n}\"},\"finish_reason\":\"stop\"}],\"usage\":{\"prompt_tokens\":1516,\"completion_tokens\":18,\"total_tokens\":1534},\"system_fingerprint\":\"\"}\n",
      "=============================\n",
      "\n"
     ]
    },
    {
     "name": "stderr",
     "output_type": "stream",
     "text": [
      "Processing:  89%|████████▉ | 947/1060 [43:27<02:33,  1.36s/it]"
     ]
    },
    {
     "name": "stdout",
     "output_type": "stream",
     "text": [
      "===== 调试信息：服务器返回 =====\n",
      "{\"id\":\"0194dc801f917b0a102c1006b6f7d35c\",\"object\":\"chat.completion\",\"created\":1738866171,\"model\":\"Qwen/Qwen2.5-32B-Instruct\",\"choices\":[{\"index\":0,\"message\":{\"role\":\"assistant\",\"content\":\"{\\n  \\\"classification\\\": \\\"社会关系\\\",\\n  \\\"sentiment\\\": \\\"pain\\\"\\n}\"},\"finish_reason\":\"stop\"}],\"usage\":{\"prompt_tokens\":1212,\"completion_tokens\":18,\"total_tokens\":1230},\"system_fingerprint\":\"\"}\n",
      "=============================\n",
      "\n"
     ]
    },
    {
     "name": "stderr",
     "output_type": "stream",
     "text": [
      "Processing:  89%|████████▉ | 948/1060 [43:28<02:30,  1.35s/it]"
     ]
    },
    {
     "name": "stdout",
     "output_type": "stream",
     "text": [
      "===== 调试信息：服务器返回 =====\n",
      "{\"id\":\"0194dc8024698f6828107ab591748e36\",\"object\":\"chat.completion\",\"created\":1738866173,\"model\":\"Qwen/Qwen2.5-32B-Instruct\",\"choices\":[{\"index\":0,\"message\":{\"role\":\"assistant\",\"content\":\"{\\n  \\\"classification\\\": \\\"奥运\\\",\\n  \\\"sentiment\\\": \\\"neutral\\\"\\n}\"},\"finish_reason\":\"stop\"}],\"usage\":{\"prompt_tokens\":574,\"completion_tokens\":17,\"total_tokens\":591},\"system_fingerprint\":\"\"}\n",
      "=============================\n",
      "\n"
     ]
    },
    {
     "name": "stderr",
     "output_type": "stream",
     "text": [
      "Processing:  90%|████████▉ | 949/1060 [43:29<02:18,  1.25s/it]"
     ]
    },
    {
     "name": "stdout",
     "output_type": "stream",
     "text": [
      "===== 调试信息：服务器返回 =====\n",
      "{\"id\":\"0194dc80285c66b7c39736024542ef2f\",\"object\":\"chat.completion\",\"created\":1738866174,\"model\":\"Qwen/Qwen2.5-32B-Instruct\",\"choices\":[{\"index\":0,\"message\":{\"role\":\"assistant\",\"content\":\"{\\n  \\\"classification\\\": \\\"科技\\\",\\n  \\\"sentiment\\\": \\\"positive\\\"\\n}\"},\"finish_reason\":\"stop\"}],\"usage\":{\"prompt_tokens\":1253,\"completion_tokens\":17,\"total_tokens\":1270},\"system_fingerprint\":\"\"}\n",
      "=============================\n",
      "\n"
     ]
    },
    {
     "name": "stderr",
     "output_type": "stream",
     "text": [
      "Processing:  90%|████████▉ | 950/1060 [43:31<02:12,  1.21s/it]"
     ]
    },
    {
     "name": "stdout",
     "output_type": "stream",
     "text": [
      "===== 调试信息：服务器返回 =====\n",
      "{\"id\":\"0194dc802cbd54b02a9f2e8154d687c4\",\"object\":\"chat.completion\",\"created\":1738866175,\"model\":\"Qwen/Qwen2.5-32B-Instruct\",\"choices\":[{\"index\":0,\"message\":{\"role\":\"assistant\",\"content\":\"{\\n  \\\"classification\\\": \\\"灾害\\\",\\n  \\\"sentiment\\\": \\\"negative\\\"\\n}\"},\"finish_reason\":\"stop\"}],\"usage\":{\"prompt_tokens\":1752,\"completion_tokens\":17,\"total_tokens\":1769},\"system_fingerprint\":\"\"}\n",
      "=============================\n",
      "\n"
     ]
    },
    {
     "name": "stderr",
     "output_type": "stream",
     "text": [
      "Processing:  90%|████████▉ | 951/1060 [43:32<02:11,  1.20s/it]"
     ]
    },
    {
     "name": "stdout",
     "output_type": "stream",
     "text": [
      "===== 调试信息：服务器返回 =====\n",
      "{\"id\":\"0194dc8031619041c62ed8b1199b75d6\",\"object\":\"chat.completion\",\"created\":1738866176,\"model\":\"Qwen/Qwen2.5-32B-Instruct\",\"choices\":[{\"index\":0,\"message\":{\"role\":\"assistant\",\"content\":\"{\\n  \\\"classification\\\": \\\"商务活动\\\",\\n  \\\"sentiment\\\": \\\"neutral\\\"\\n}\"},\"finish_reason\":\"stop\"}],\"usage\":{\"prompt_tokens\":1895,\"completion_tokens\":18,\"total_tokens\":1913},\"system_fingerprint\":\"\"}\n",
      "=============================\n",
      "\n"
     ]
    },
    {
     "name": "stderr",
     "output_type": "stream",
     "text": [
      "Processing:  90%|████████▉ | 952/1060 [43:33<02:11,  1.22s/it]"
     ]
    },
    {
     "name": "stdout",
     "output_type": "stream",
     "text": [
      "===== 调试信息：服务器返回 =====\n",
      "{\"id\":\"0194dc8036408b5397e328fece11df1f\",\"object\":\"chat.completion\",\"created\":1738866177,\"model\":\"Qwen/Qwen2.5-32B-Instruct\",\"choices\":[{\"index\":0,\"message\":{\"role\":\"assistant\",\"content\":\"{\\n  \\\"classification\\\": \\\"国际政治\\\",\\n  \\\"sentiment\\\": \\\"negative\\\"\\n}\"},\"finish_reason\":\"stop\"}],\"usage\":{\"prompt_tokens\":1580,\"completion_tokens\":18,\"total_tokens\":1598},\"system_fingerprint\":\"\"}\n",
      "=============================\n",
      "\n"
     ]
    },
    {
     "name": "stderr",
     "output_type": "stream",
     "text": [
      "Processing:  90%|████████▉ | 953/1060 [43:34<02:08,  1.20s/it]"
     ]
    },
    {
     "name": "stdout",
     "output_type": "stream",
     "text": [
      "===== 调试信息：服务器返回 =====\n",
      "{\"id\":\"0194dc803b5b9505cd38e53be4627a0b\",\"object\":\"chat.completion\",\"created\":1738866178,\"model\":\"Qwen/Qwen2.5-32B-Instruct\",\"choices\":[{\"index\":0,\"message\":{\"role\":\"assistant\",\"content\":\"{\\n  \\\"classification\\\": \\\"劳动关系\\\",\\n  \\\"sentiment\\\": \\\"negative\\\"\\n}\"},\"finish_reason\":\"stop\"}],\"usage\":{\"prompt_tokens\":7395,\"completion_tokens\":18,\"total_tokens\":7413},\"system_fingerprint\":\"\"}\n",
      "=============================\n",
      "\n"
     ]
    },
    {
     "name": "stderr",
     "output_type": "stream",
     "text": [
      "Processing:  90%|█████████ | 954/1060 [43:36<02:42,  1.53s/it]"
     ]
    },
    {
     "name": "stdout",
     "output_type": "stream",
     "text": [
      "===== 调试信息：服务器返回 =====\n",
      "{\"id\":\"0194dc8043ece72b502921c54bfe0def\",\"object\":\"chat.completion\",\"created\":1738866181,\"model\":\"Qwen/Qwen2.5-32B-Instruct\",\"choices\":[{\"index\":0,\"message\":{\"role\":\"assistant\",\"content\":\"{\\n  \\\"classification\\\": \\\"国际政治\\\",\\n  \\\"sentiment\\\": \\\"negative\\\"\\n}\"},\"finish_reason\":\"stop\"}],\"usage\":{\"prompt_tokens\":1751,\"completion_tokens\":18,\"total_tokens\":1769},\"system_fingerprint\":\"\"}\n",
      "=============================\n",
      "\n"
     ]
    },
    {
     "name": "stderr",
     "output_type": "stream",
     "text": [
      "Processing:  90%|█████████ | 955/1060 [43:38<02:31,  1.45s/it]"
     ]
    },
    {
     "name": "stdout",
     "output_type": "stream",
     "text": [
      "===== 调试信息：服务器返回 =====\n",
      "{\"id\":\"0194dc8048ca067da8a5566e25dc2090\",\"object\":\"chat.completion\",\"created\":1738866182,\"model\":\"Qwen/Qwen2.5-32B-Instruct\",\"choices\":[{\"index\":0,\"message\":{\"role\":\"assistant\",\"content\":\"{\\n  \\\"classification\\\": \\\"经济\\\",\\n  \\\"sentiment\\\": \\\"neutral\\\"\\n}\"},\"finish_reason\":\"stop\"}],\"usage\":{\"prompt_tokens\":1164,\"completion_tokens\":17,\"total_tokens\":1181},\"system_fingerprint\":\"\"}\n",
      "=============================\n",
      "\n"
     ]
    },
    {
     "name": "stderr",
     "output_type": "stream",
     "text": [
      "Processing:  90%|█████████ | 956/1060 [43:39<02:20,  1.35s/it]"
     ]
    },
    {
     "name": "stdout",
     "output_type": "stream",
     "text": [
      "===== 调试信息：服务器返回 =====\n",
      "{\"id\":\"0194dc804d04a3c604bdc95e8c5f574b\",\"object\":\"chat.completion\",\"created\":1738866183,\"model\":\"Qwen/Qwen2.5-32B-Instruct\",\"choices\":[{\"index\":0,\"message\":{\"role\":\"assistant\",\"content\":\"{\\n  \\\"classification\\\": \\\"军事和防御\\\",\\n  \\\"sentiment\\\": \\\"negative\\\"\\n}\"},\"finish_reason\":\"stop\"}],\"usage\":{\"prompt_tokens\":1895,\"completion_tokens\":19,\"total_tokens\":1914},\"system_fingerprint\":\"\"}\n",
      "=============================\n",
      "\n"
     ]
    },
    {
     "name": "stderr",
     "output_type": "stream",
     "text": [
      "Processing:  90%|█████████ | 957/1060 [43:41<02:34,  1.50s/it]"
     ]
    },
    {
     "name": "stdout",
     "output_type": "stream",
     "text": [
      "===== 调试信息：服务器返回 =====\n",
      "{\"id\":\"0194dc8054baf41c3f7c50c8d50d6845\",\"object\":\"chat.completion\",\"created\":1738866185,\"model\":\"Qwen/Qwen2.5-32B-Instruct\",\"choices\":[{\"index\":0,\"message\":{\"role\":\"assistant\",\"content\":\"{\\n  \\\"classification\\\": \\\"商务活动\\\",\\n  \\\"sentiment\\\": \\\"positive\\\"\\n}\"},\"finish_reason\":\"stop\"}],\"usage\":{\"prompt_tokens\":1999,\"completion_tokens\":18,\"total_tokens\":2017},\"system_fingerprint\":\"\"}\n",
      "=============================\n",
      "\n"
     ]
    },
    {
     "name": "stderr",
     "output_type": "stream",
     "text": [
      "Processing:  90%|█████████ | 958/1060 [43:42<02:28,  1.45s/it]"
     ]
    },
    {
     "name": "stdout",
     "output_type": "stream",
     "text": [
      "===== 调试信息：服务器返回 =====\n",
      "{\"id\":\"0194dc805987c77895034095359462f6\",\"object\":\"chat.completion\",\"created\":1738866186,\"model\":\"Qwen/Qwen2.5-32B-Instruct\",\"choices\":[{\"index\":0,\"message\":{\"role\":\"assistant\",\"content\":\"{\\n  \\\"classification\\\": \\\"国内政治\\\",\\n  \\\"sentiment\\\": \\\"negative\\\"\\n}\"},\"finish_reason\":\"stop\"}],\"usage\":{\"prompt_tokens\":617,\"completion_tokens\":18,\"total_tokens\":635},\"system_fingerprint\":\"\"}\n",
      "=============================\n",
      "\n"
     ]
    },
    {
     "name": "stderr",
     "output_type": "stream",
     "text": [
      "Processing:  90%|█████████ | 959/1060 [43:43<02:16,  1.35s/it]"
     ]
    },
    {
     "name": "stdout",
     "output_type": "stream",
     "text": [
      "===== 调试信息：服务器返回 =====\n",
      "{\"id\":\"0194dc805e3e5caa0600bde406e056d0\",\"object\":\"chat.completion\",\"created\":1738866187,\"model\":\"Qwen/Qwen2.5-32B-Instruct\",\"choices\":[{\"index\":0,\"message\":{\"role\":\"assistant\",\"content\":\"{\\n  \\\"classification\\\": \\\"国际政治\\\",\\n  \\\"sentiment\\\": \\\"neutral\\\"\\n}\"},\"finish_reason\":\"stop\"}],\"usage\":{\"prompt_tokens\":2809,\"completion_tokens\":18,\"total_tokens\":2827},\"system_fingerprint\":\"\"}\n",
      "=============================\n",
      "\n"
     ]
    },
    {
     "name": "stderr",
     "output_type": "stream",
     "text": [
      "Processing:  91%|█████████ | 960/1060 [43:45<02:25,  1.45s/it]"
     ]
    },
    {
     "name": "stdout",
     "output_type": "stream",
     "text": [
      "===== 调试信息：服务器返回 =====\n",
      "{\"id\":\"0194dc806480534413cf35e6747f90b2\",\"object\":\"chat.completion\",\"created\":1738866189,\"model\":\"Qwen/Qwen2.5-32B-Instruct\",\"choices\":[{\"index\":0,\"message\":{\"role\":\"assistant\",\"content\":\"{\\n  \\\"classification\\\": \\\"社会关系\\\",\\n  \\\"sentiment\\\": \\\"negative\\\"\\n}\"},\"finish_reason\":\"stop\"}],\"usage\":{\"prompt_tokens\":2935,\"completion_tokens\":18,\"total_tokens\":2953},\"system_fingerprint\":\"\"}\n",
      "=============================\n",
      "\n"
     ]
    },
    {
     "name": "stderr",
     "output_type": "stream",
     "text": [
      "Processing:  91%|█████████ | 961/1060 [43:46<02:22,  1.44s/it]"
     ]
    },
    {
     "name": "stdout",
     "output_type": "stream",
     "text": [
      "===== 调试信息：服务器返回 =====\n",
      "{\"id\":\"0194dc806a36aba1626aa5db1cb28862\",\"object\":\"chat.completion\",\"created\":1738866190,\"model\":\"Qwen/Qwen2.5-32B-Instruct\",\"choices\":[{\"index\":0,\"message\":{\"role\":\"assistant\",\"content\":\"{\\n  \\\"classification\\\": \\\"科技\\\",\\n  \\\"sentiment\\\": \\\"negative\\\"\\n}\"},\"finish_reason\":\"stop\"}],\"usage\":{\"prompt_tokens\":1751,\"completion_tokens\":17,\"total_tokens\":1768},\"system_fingerprint\":\"\"}\n",
      "=============================\n",
      "\n"
     ]
    },
    {
     "name": "stderr",
     "output_type": "stream",
     "text": [
      "Processing:  91%|█████████ | 962/1060 [43:48<02:22,  1.45s/it]"
     ]
    },
    {
     "name": "stdout",
     "output_type": "stream",
     "text": [
      "===== 调试信息：服务器返回 =====\n",
      "{\"id\":\"0194dc806fd2f39744ac7bdc995ed7d7\",\"object\":\"chat.completion\",\"created\":1738866192,\"model\":\"Qwen/Qwen2.5-32B-Instruct\",\"choices\":[{\"index\":0,\"message\":{\"role\":\"assistant\",\"content\":\"{\\n  \\\"classification\\\": \\\"能源\\\",\\n  \\\"sentiment\\\": \\\"neutral\\\"\\n}\"},\"finish_reason\":\"stop\"}],\"usage\":{\"prompt_tokens\":1664,\"completion_tokens\":17,\"total_tokens\":1681},\"system_fingerprint\":\"\"}\n",
      "=============================\n",
      "\n"
     ]
    },
    {
     "name": "stderr",
     "output_type": "stream",
     "text": [
      "Processing:  91%|█████████ | 963/1060 [43:49<02:14,  1.39s/it]"
     ]
    },
    {
     "name": "stdout",
     "output_type": "stream",
     "text": [
      "===== 调试信息：服务器返回 =====\n",
      "{\"id\":\"0194dc8074993648c90fc10c4d1629cf\",\"object\":\"chat.completion\",\"created\":1738866193,\"model\":\"Qwen/Qwen2.5-32B-Instruct\",\"choices\":[{\"index\":0,\"message\":{\"role\":\"assistant\",\"content\":\"{\\n  \\\"classification\\\": \\\"经济\\\",\\n  \\\"sentiment\\\": \\\"negative\\\"\\n}\"},\"finish_reason\":\"stop\"}],\"usage\":{\"prompt_tokens\":1602,\"completion_tokens\":17,\"total_tokens\":1619},\"system_fingerprint\":\"\"}\n",
      "=============================\n",
      "\n"
     ]
    },
    {
     "name": "stderr",
     "output_type": "stream",
     "text": [
      "Processing:  91%|█████████ | 964/1060 [43:50<02:06,  1.32s/it]"
     ]
    },
    {
     "name": "stdout",
     "output_type": "stream",
     "text": [
      "===== 调试信息：服务器返回 =====\n",
      "{\"id\":\"0194dc80793d2559ea0c6fd28454e566\",\"object\":\"chat.completion\",\"created\":1738866194,\"model\":\"Qwen/Qwen2.5-32B-Instruct\",\"choices\":[{\"index\":0,\"message\":{\"role\":\"assistant\",\"content\":\"{\\n  \\\"classification\\\": \\\"国内政治\\\",\\n  \\\"sentiment\\\": \\\"neutral\\\"\\n}\"},\"finish_reason\":\"stop\"}],\"usage\":{\"prompt_tokens\":2664,\"completion_tokens\":18,\"total_tokens\":2682},\"system_fingerprint\":\"\"}\n",
      "=============================\n",
      "\n"
     ]
    },
    {
     "name": "stderr",
     "output_type": "stream",
     "text": [
      "Processing:  91%|█████████ | 965/1060 [43:52<02:08,  1.36s/it]"
     ]
    },
    {
     "name": "stdout",
     "output_type": "stream",
     "text": [
      "===== 调试信息：服务器返回 =====\n",
      "{\"id\":\"0194dc807ec57e4b8a96e189358b53fd\",\"object\":\"chat.completion\",\"created\":1738866196,\"model\":\"Qwen/Qwen2.5-32B-Instruct\",\"choices\":[{\"index\":0,\"message\":{\"role\":\"assistant\",\"content\":\"{\\n  \\\"classification\\\": \\\"国内政治\\\",\\n  \\\"sentiment\\\": \\\"negative\\\"\\n}\"},\"finish_reason\":\"stop\"}],\"usage\":{\"prompt_tokens\":2112,\"completion_tokens\":18,\"total_tokens\":2130},\"system_fingerprint\":\"\"}\n",
      "=============================\n",
      "\n"
     ]
    },
    {
     "name": "stderr",
     "output_type": "stream",
     "text": [
      "Processing:  91%|█████████ | 966/1060 [43:53<02:04,  1.32s/it]"
     ]
    },
    {
     "name": "stdout",
     "output_type": "stream",
     "text": [
      "===== 调试信息：服务器返回 =====\n",
      "{\"id\":\"0194dc8083dbffbb53560419cceace14\",\"object\":\"chat.completion\",\"created\":1738866197,\"model\":\"Qwen/Qwen2.5-32B-Instruct\",\"choices\":[{\"index\":0,\"message\":{\"role\":\"assistant\",\"content\":\"{\\n  \\\"classification\\\": \\\"国内政治\\\",\\n  \\\"sentiment\\\": \\\"negative\\\"\\n}\"},\"finish_reason\":\"stop\"}],\"usage\":{\"prompt_tokens\":1946,\"completion_tokens\":18,\"total_tokens\":1964},\"system_fingerprint\":\"\"}\n",
      "=============================\n",
      "\n"
     ]
    },
    {
     "name": "stderr",
     "output_type": "stream",
     "text": [
      "Processing:  91%|█████████ | 967/1060 [43:54<02:01,  1.31s/it]"
     ]
    },
    {
     "name": "stdout",
     "output_type": "stream",
     "text": [
      "===== 调试信息：服务器返回 =====\n",
      "{\"id\":\"0194dc8088a6766b9030095d0f241d00\",\"object\":\"chat.completion\",\"created\":1738866198,\"model\":\"Qwen/Qwen2.5-32B-Instruct\",\"choices\":[{\"index\":0,\"message\":{\"role\":\"assistant\",\"content\":\"{\\n  \\\"classification\\\": \\\"国际政治\\\",\\n  \\\"sentiment\\\": \\\"neutral\\\"\\n}\"},\"finish_reason\":\"stop\"}],\"usage\":{\"prompt_tokens\":2265,\"completion_tokens\":18,\"total_tokens\":2283},\"system_fingerprint\":\"\"}\n",
      "=============================\n",
      "\n"
     ]
    },
    {
     "name": "stderr",
     "output_type": "stream",
     "text": [
      "Processing:  91%|█████████▏| 968/1060 [43:55<02:00,  1.31s/it]"
     ]
    },
    {
     "name": "stdout",
     "output_type": "stream",
     "text": [
      "===== 调试信息：服务器返回 =====\n",
      "{\"id\":\"0194dc808db9436ca9c832ec1b4cac13\",\"object\":\"chat.completion\",\"created\":1738866200,\"model\":\"Qwen/Qwen2.5-32B-Instruct\",\"choices\":[{\"index\":0,\"message\":{\"role\":\"assistant\",\"content\":\"{\\n  \\\"classification\\\": \\\"国内政治\\\",\\n  \\\"sentiment\\\": \\\"neutral\\\"\\n}\"},\"finish_reason\":\"stop\"}],\"usage\":{\"prompt_tokens\":1805,\"completion_tokens\":18,\"total_tokens\":1823},\"system_fingerprint\":\"\"}\n",
      "=============================\n",
      "\n"
     ]
    },
    {
     "name": "stderr",
     "output_type": "stream",
     "text": [
      "Processing:  91%|█████████▏| 969/1060 [43:57<01:57,  1.29s/it]"
     ]
    },
    {
     "name": "stdout",
     "output_type": "stream",
     "text": [
      "===== 调试信息：服务器返回 =====\n",
      "{\"id\":\"0194dc8092b57f547676865d1886e5a2\",\"object\":\"chat.completion\",\"created\":1738866201,\"model\":\"Qwen/Qwen2.5-32B-Instruct\",\"choices\":[{\"index\":0,\"message\":{\"role\":\"assistant\",\"content\":\"{\\n  \\\"classification\\\": \\\"国际政治\\\",\\n  \\\"sentiment\\\": \\\"negative\\\"\\n}\"},\"finish_reason\":\"stop\"}],\"usage\":{\"prompt_tokens\":1665,\"completion_tokens\":18,\"total_tokens\":1683},\"system_fingerprint\":\"\"}\n",
      "=============================\n",
      "\n"
     ]
    },
    {
     "name": "stderr",
     "output_type": "stream",
     "text": [
      "Processing:  92%|█████████▏| 970/1060 [43:58<01:55,  1.28s/it]"
     ]
    },
    {
     "name": "stdout",
     "output_type": "stream",
     "text": [
      "===== 调试信息：服务器返回 =====\n",
      "{\"id\":\"0194dc8097c0988f6eff966bcc0c41ef\",\"object\":\"chat.completion\",\"created\":1738866202,\"model\":\"Qwen/Qwen2.5-32B-Instruct\",\"choices\":[{\"index\":0,\"message\":{\"role\":\"assistant\",\"content\":\"{\\n  \\\"classification\\\": \\\"国际政治\\\",\\n  \\\"sentiment\\\": \\\"negative\\\"\\n}\"},\"finish_reason\":\"stop\"}],\"usage\":{\"prompt_tokens\":2196,\"completion_tokens\":18,\"total_tokens\":2214},\"system_fingerprint\":\"\"}\n",
      "=============================\n",
      "\n"
     ]
    },
    {
     "name": "stderr",
     "output_type": "stream",
     "text": [
      "Processing:  92%|█████████▏| 971/1060 [43:59<01:55,  1.30s/it]"
     ]
    },
    {
     "name": "stdout",
     "output_type": "stream",
     "text": [
      "触发速率限制 (HTTP 429)，等待60秒后重试...\n",
      "===== 调试信息：服务器返回 =====\n",
      "{\"id\":\"0194dc8188f38b204e3e7969bae0e8d9\",\"object\":\"chat.completion\",\"created\":1738866264,\"model\":\"Qwen/Qwen2.5-32B-Instruct\",\"choices\":[{\"index\":0,\"message\":{\"role\":\"assistant\",\"content\":\"{\\n  \\\"classification\\\": \\\"国内政治\\\",\\n  \\\"sentiment\\\": \\\"neutral\\\"\\n}\"},\"finish_reason\":\"stop\"}],\"usage\":{\"prompt_tokens\":2448,\"completion_tokens\":18,\"total_tokens\":2466},\"system_fingerprint\":\"\"}\n",
      "=============================\n",
      "\n"
     ]
    },
    {
     "name": "stderr",
     "output_type": "stream",
     "text": [
      "Processing:  92%|█████████▏| 972/1060 [45:01<28:32, 19.46s/it]"
     ]
    },
    {
     "name": "stdout",
     "output_type": "stream",
     "text": [
      "===== 调试信息：服务器返回 =====\n",
      "{\"id\":\"0194dc818e79d472c676aca22e7caeae\",\"object\":\"chat.completion\",\"created\":1738866265,\"model\":\"Qwen/Qwen2.5-32B-Instruct\",\"choices\":[{\"index\":0,\"message\":{\"role\":\"assistant\",\"content\":\"{\\n  \\\"classification\\\": \\\"环境\\\",\\n  \\\"sentiment\\\": \\\"positive\\\"\\n}\"},\"finish_reason\":\"stop\"}],\"usage\":{\"prompt_tokens\":2352,\"completion_tokens\":17,\"total_tokens\":2369},\"system_fingerprint\":\"\"}\n",
      "=============================\n",
      "\n"
     ]
    },
    {
     "name": "stderr",
     "output_type": "stream",
     "text": [
      "Processing:  92%|█████████▏| 973/1060 [45:02<20:21, 14.04s/it]"
     ]
    },
    {
     "name": "stdout",
     "output_type": "stream",
     "text": [
      "===== 调试信息：服务器返回 =====\n",
      "{\"id\":\"0194dc81945a18cb393a950c01a5ff4f\",\"object\":\"chat.completion\",\"created\":1738866267,\"model\":\"Qwen/Qwen2.5-32B-Instruct\",\"choices\":[{\"index\":0,\"message\":{\"role\":\"assistant\",\"content\":\"{\\n  \\\"classification\\\": \\\"国际政治\\\",\\n  \\\"sentiment\\\": \\\"neutral\\\"\\n}\"},\"finish_reason\":\"stop\"}],\"usage\":{\"prompt_tokens\":990,\"completion_tokens\":18,\"total_tokens\":1008},\"system_fingerprint\":\"\"}\n",
      "=============================\n",
      "\n"
     ]
    },
    {
     "name": "stderr",
     "output_type": "stream",
     "text": [
      "Processing:  92%|█████████▏| 974/1060 [45:04<14:38, 10.21s/it]"
     ]
    },
    {
     "name": "stdout",
     "output_type": "stream",
     "text": [
      "===== 调试信息：服务器返回 =====\n",
      "{\"id\":\"0194dc8198d2043d9fdad16afa0290c0\",\"object\":\"chat.completion\",\"created\":1738866268,\"model\":\"Qwen/Qwen2.5-32B-Instruct\",\"choices\":[{\"index\":0,\"message\":{\"role\":\"assistant\",\"content\":\"{\\n  \\\"classification\\\": \\\"国际政治\\\",\\n  \\\"sentiment\\\": \\\"negative\\\"\\n}\"},\"finish_reason\":\"stop\"}],\"usage\":{\"prompt_tokens\":2443,\"completion_tokens\":18,\"total_tokens\":2461},\"system_fingerprint\":\"\"}\n",
      "=============================\n",
      "\n"
     ]
    },
    {
     "name": "stderr",
     "output_type": "stream",
     "text": [
      "Processing:  92%|█████████▏| 975/1060 [45:05<10:42,  7.56s/it]"
     ]
    },
    {
     "name": "stdout",
     "output_type": "stream",
     "text": [
      "===== 调试信息：服务器返回 =====\n",
      "{\"id\":\"0194dc819ea31a00dc2994e917669777\",\"object\":\"chat.completion\",\"created\":1738866269,\"model\":\"Qwen/Qwen2.5-32B-Instruct\",\"choices\":[{\"index\":0,\"message\":{\"role\":\"assistant\",\"content\":\"{\\n  \\\"classification\\\": \\\"军事和防御\\\",\\n  \\\"sentiment\\\": \\\"negative\\\"\\n}\"},\"finish_reason\":\"stop\"}],\"usage\":{\"prompt_tokens\":1091,\"completion_tokens\":19,\"total_tokens\":1110},\"system_fingerprint\":\"\"}\n",
      "=============================\n",
      "\n"
     ]
    },
    {
     "name": "stderr",
     "output_type": "stream",
     "text": [
      "Processing:  92%|█████████▏| 976/1060 [45:06<07:57,  5.68s/it]"
     ]
    },
    {
     "name": "stdout",
     "output_type": "stream",
     "text": [
      "===== 调试信息：服务器返回 =====\n",
      "{\"id\":\"0194dc81a521f84603163fde24451b22\",\"object\":\"chat.completion\",\"created\":1738866271,\"model\":\"Qwen/Qwen2.5-32B-Instruct\",\"choices\":[{\"index\":0,\"message\":{\"role\":\"assistant\",\"content\":\"{\\n  \\\"classification\\\": \\\"国际政治\\\",\\n  \\\"sentiment\\\": \\\"negative\\\"\\n}\"},\"finish_reason\":\"stop\"}],\"usage\":{\"prompt_tokens\":887,\"completion_tokens\":18,\"total_tokens\":905},\"system_fingerprint\":\"\"}\n",
      "=============================\n",
      "\n"
     ]
    },
    {
     "name": "stderr",
     "output_type": "stream",
     "text": [
      "Processing:  92%|█████████▏| 977/1060 [45:08<06:11,  4.48s/it]"
     ]
    },
    {
     "name": "stdout",
     "output_type": "stream",
     "text": [
      "===== 调试信息：服务器返回 =====\n",
      "{\"id\":\"0194dc81aa5ad56d6f1970abf034f7fc\",\"object\":\"chat.completion\",\"created\":1738866272,\"model\":\"Qwen/Qwen2.5-32B-Instruct\",\"choices\":[{\"index\":0,\"message\":{\"role\":\"assistant\",\"content\":\"{\\n  \\\"classification\\\": \\\"国际政治\\\",\\n  \\\"sentiment\\\": \\\"neutral\\\"\\n}\"},\"finish_reason\":\"stop\"}],\"usage\":{\"prompt_tokens\":2005,\"completion_tokens\":18,\"total_tokens\":2023},\"system_fingerprint\":\"\"}\n",
      "=============================\n",
      "\n"
     ]
    },
    {
     "name": "stderr",
     "output_type": "stream",
     "text": [
      "Processing:  92%|█████████▏| 978/1060 [45:10<04:52,  3.57s/it]"
     ]
    },
    {
     "name": "stdout",
     "output_type": "stream",
     "text": [
      "===== 调试信息：服务器返回 =====\n",
      "{\"id\":\"0194dc81b03496276aa0b429b468cb54\",\"object\":\"chat.completion\",\"created\":1738866274,\"model\":\"Qwen/Qwen2.5-32B-Instruct\",\"choices\":[{\"index\":0,\"message\":{\"role\":\"assistant\",\"content\":\"{\\n  \\\"classification\\\": \\\"国际政治\\\",\\n  \\\"sentiment\\\": \\\"neutral\\\"\\n}\"},\"finish_reason\":\"stop\"}],\"usage\":{\"prompt_tokens\":1728,\"completion_tokens\":18,\"total_tokens\":1746},\"system_fingerprint\":\"\"}\n",
      "=============================\n",
      "\n"
     ]
    },
    {
     "name": "stderr",
     "output_type": "stream",
     "text": [
      "Processing:  92%|█████████▏| 979/1060 [45:11<03:57,  2.93s/it]"
     ]
    },
    {
     "name": "stdout",
     "output_type": "stream",
     "text": [
      "===== 调试信息：服务器返回 =====\n",
      "{\"id\":\"0194dc81b5140eb1732912e94c0cc5bd\",\"object\":\"chat.completion\",\"created\":1738866275,\"model\":\"Qwen/Qwen2.5-32B-Instruct\",\"choices\":[{\"index\":0,\"message\":{\"role\":\"assistant\",\"content\":\"{\\n  \\\"classification\\\": \\\"卫生福利\\\",\\n  \\\"sentiment\\\": \\\"negative\\\"\\n}\"},\"finish_reason\":\"stop\"}],\"usage\":{\"prompt_tokens\":728,\"completion_tokens\":18,\"total_tokens\":746},\"system_fingerprint\":\"\"}\n",
      "=============================\n",
      "\n"
     ]
    },
    {
     "name": "stderr",
     "output_type": "stream",
     "text": [
      "Processing:  92%|█████████▏| 980/1060 [45:12<03:13,  2.42s/it]"
     ]
    },
    {
     "name": "stdout",
     "output_type": "stream",
     "text": [
      "===== 调试信息：服务器返回 =====\n",
      "{\"id\":\"0194dc81bac46475a9f6d197ef6eab2d\",\"object\":\"chat.completion\",\"created\":1738866277,\"model\":\"Qwen/Qwen2.5-32B-Instruct\",\"choices\":[{\"index\":0,\"message\":{\"role\":\"assistant\",\"content\":\"{\\n  \\\"classification\\\": \\\"科技\\\",\\n  \\\"sentiment\\\": \\\"neutral\\\"\\n}\"},\"finish_reason\":\"stop\"}],\"usage\":{\"prompt_tokens\":1727,\"completion_tokens\":17,\"total_tokens\":1744},\"system_fingerprint\":\"\"}\n",
      "=============================\n",
      "\n"
     ]
    },
    {
     "name": "stderr",
     "output_type": "stream",
     "text": [
      "Processing:  93%|█████████▎| 981/1060 [45:14<02:50,  2.16s/it]"
     ]
    },
    {
     "name": "stdout",
     "output_type": "stream",
     "text": [
      "===== 调试信息：服务器返回 =====\n",
      "{\"id\":\"0194dc81c07e20bfa8fd741208681e19\",\"object\":\"chat.completion\",\"created\":1738866278,\"model\":\"Qwen/Qwen2.5-32B-Instruct\",\"choices\":[{\"index\":0,\"message\":{\"role\":\"assistant\",\"content\":\"{\\n  \\\"classification\\\": \\\"文化活动\\\",\\n  \\\"sentiment\\\": \\\"pleasure\\\"\\n}\"},\"finish_reason\":\"stop\"}],\"usage\":{\"prompt_tokens\":4991,\"completion_tokens\":19,\"total_tokens\":5010},\"system_fingerprint\":\"\"}\n",
      "=============================\n",
      "\n"
     ]
    },
    {
     "name": "stderr",
     "output_type": "stream",
     "text": [
      "Processing:  93%|█████████▎| 982/1060 [45:16<02:55,  2.25s/it]"
     ]
    },
    {
     "name": "stdout",
     "output_type": "stream",
     "text": [
      "===== 调试信息：服务器返回 =====\n",
      "{\"id\":\"0194dc81ca6a2934da5f83312ce3004b\",\"object\":\"chat.completion\",\"created\":1738866281,\"model\":\"Qwen/Qwen2.5-32B-Instruct\",\"choices\":[{\"index\":0,\"message\":{\"role\":\"assistant\",\"content\":\"{\\n  \\\"classification\\\": \\\"军事和防御\\\",\\n  \\\"sentiment\\\": \\\"negative\\\"\\n}\"},\"finish_reason\":\"stop\"}],\"usage\":{\"prompt_tokens\":5230,\"completion_tokens\":19,\"total_tokens\":5249},\"system_fingerprint\":\"\"}\n",
      "=============================\n",
      "\n"
     ]
    },
    {
     "name": "stderr",
     "output_type": "stream",
     "text": [
      "Processing:  93%|█████████▎| 983/1060 [45:19<03:00,  2.35s/it]"
     ]
    },
    {
     "name": "stdout",
     "output_type": "stream",
     "text": [
      "===== 调试信息：服务器返回 =====\n",
      "{\"id\":\"0194dc81d3b71a735e124bdf7abdb72d\",\"object\":\"chat.completion\",\"created\":1738866283,\"model\":\"Qwen/Qwen2.5-32B-Instruct\",\"choices\":[{\"index\":0,\"message\":{\"role\":\"assistant\",\"content\":\"{\\n  \\\"classification\\\": \\\"科技\\\",\\n  \\\"sentiment\\\": \\\"negative\\\"\\n}\"},\"finish_reason\":\"stop\"}],\"usage\":{\"prompt_tokens\":2053,\"completion_tokens\":17,\"total_tokens\":2070},\"system_fingerprint\":\"\"}\n",
      "=============================\n",
      "\n"
     ]
    },
    {
     "name": "stderr",
     "output_type": "stream",
     "text": [
      "Processing:  93%|█████████▎| 984/1060 [45:20<02:33,  2.02s/it]"
     ]
    },
    {
     "name": "stdout",
     "output_type": "stream",
     "text": [
      "===== 调试信息：服务器返回 =====\n",
      "{\"id\":\"0194dc81d88e072e2180039132822831\",\"object\":\"chat.completion\",\"created\":1738866284,\"model\":\"Qwen/Qwen2.5-32B-Instruct\",\"choices\":[{\"index\":0,\"message\":{\"role\":\"assistant\",\"content\":\"{\\n  \\\"classification\\\": \\\"体育\\\",\\n  \\\"sentiment\\\": \\\"positive\\\"\\n}\"},\"finish_reason\":\"stop\"}],\"usage\":{\"prompt_tokens\":1254,\"completion_tokens\":17,\"total_tokens\":1271},\"system_fingerprint\":\"\"}\n",
      "=============================\n",
      "\n"
     ]
    },
    {
     "name": "stderr",
     "output_type": "stream",
     "text": [
      "Processing:  93%|█████████▎| 985/1060 [45:21<02:11,  1.75s/it]"
     ]
    },
    {
     "name": "stdout",
     "output_type": "stream",
     "text": [
      "===== 调试信息：服务器返回 =====\n",
      "{\"id\":\"0194dc81dddda152b999d065713bbb63\",\"object\":\"chat.completion\",\"created\":1738866286,\"model\":\"Qwen/Qwen2.5-32B-Instruct\",\"choices\":[{\"index\":0,\"message\":{\"role\":\"assistant\",\"content\":\"{\\n  \\\"classification\\\": \\\"经济\\\",\\n  \\\"sentiment\\\": \\\"neutral\\\"\\n}\"},\"finish_reason\":\"stop\"}],\"usage\":{\"prompt_tokens\":3535,\"completion_tokens\":17,\"total_tokens\":3552},\"system_fingerprint\":\"\"}\n",
      "=============================\n",
      "\n"
     ]
    },
    {
     "name": "stderr",
     "output_type": "stream",
     "text": [
      "Processing:  93%|█████████▎| 986/1060 [45:23<02:09,  1.75s/it]"
     ]
    },
    {
     "name": "stdout",
     "output_type": "stream",
     "text": [
      "===== 调试信息：服务器返回 =====\n",
      "{\"id\":\"0194dc81e41806c5fb6cd6104afe21d3\",\"object\":\"chat.completion\",\"created\":1738866287,\"model\":\"Qwen/Qwen2.5-32B-Instruct\",\"choices\":[{\"index\":0,\"message\":{\"role\":\"assistant\",\"content\":\"{\\n  \\\"classification\\\": \\\"国际政治\\\",\\n  \\\"sentiment\\\": \\\"negative\\\"\\n}\"},\"finish_reason\":\"stop\"}],\"usage\":{\"prompt_tokens\":1867,\"completion_tokens\":18,\"total_tokens\":1885},\"system_fingerprint\":\"\"}\n",
      "=============================\n",
      "\n"
     ]
    },
    {
     "name": "stderr",
     "output_type": "stream",
     "text": [
      "Processing:  93%|█████████▎| 987/1060 [45:24<02:01,  1.66s/it]"
     ]
    },
    {
     "name": "stdout",
     "output_type": "stream",
     "text": [
      "===== 调试信息：服务器返回 =====\n",
      "{\"id\":\"0194dc81e95fc6b2b34b92bface17201\",\"object\":\"chat.completion\",\"created\":1738866289,\"model\":\"Qwen/Qwen2.5-32B-Instruct\",\"choices\":[{\"index\":0,\"message\":{\"role\":\"assistant\",\"content\":\"{\\n  \\\"classification\\\": \\\"国际政治\\\",\\n  \\\"sentiment\\\": \\\"neutral\\\"\\n}\"},\"finish_reason\":\"stop\"}],\"usage\":{\"prompt_tokens\":1892,\"completion_tokens\":18,\"total_tokens\":1910},\"system_fingerprint\":\"\"}\n",
      "=============================\n",
      "\n"
     ]
    },
    {
     "name": "stderr",
     "output_type": "stream",
     "text": [
      "Processing:  93%|█████████▎| 988/1060 [45:26<01:50,  1.53s/it]"
     ]
    },
    {
     "name": "stdout",
     "output_type": "stream",
     "text": [
      "===== 调试信息：服务器返回 =====\n",
      "{\"id\":\"0194dc81ee1d709e1186adfb119aec4f\",\"object\":\"chat.completion\",\"created\":1738866290,\"model\":\"Qwen/Qwen2.5-32B-Instruct\",\"choices\":[{\"index\":0,\"message\":{\"role\":\"assistant\",\"content\":\"{\\n  \\\"classification\\\": \\\"文化活动\\\",\\n  \\\"sentiment\\\": \\\"pleasure\\\"\\n}\"},\"finish_reason\":\"stop\"}],\"usage\":{\"prompt_tokens\":669,\"completion_tokens\":19,\"total_tokens\":688},\"system_fingerprint\":\"\"}\n",
      "=============================\n",
      "\n"
     ]
    },
    {
     "name": "stderr",
     "output_type": "stream",
     "text": [
      "Processing:  93%|█████████▎| 989/1060 [45:27<01:39,  1.40s/it]"
     ]
    },
    {
     "name": "stdout",
     "output_type": "stream",
     "text": [
      "===== 调试信息：服务器返回 =====\n",
      "{\"id\":\"0194dc81f298eef298c7c168992f3702\",\"object\":\"chat.completion\",\"created\":1738866291,\"model\":\"Qwen/Qwen2.5-32B-Instruct\",\"choices\":[{\"index\":0,\"message\":{\"role\":\"assistant\",\"content\":\"{\\n  \\\"classification\\\": \\\"商务活动\\\",\\n  \\\"sentiment\\\": \\\"negative\\\"\\n}\"},\"finish_reason\":\"stop\"}],\"usage\":{\"prompt_tokens\":2058,\"completion_tokens\":18,\"total_tokens\":2076},\"system_fingerprint\":\"\"}\n",
      "=============================\n",
      "\n"
     ]
    },
    {
     "name": "stderr",
     "output_type": "stream",
     "text": [
      "Processing:  93%|█████████▎| 990/1060 [45:28<01:35,  1.37s/it]"
     ]
    },
    {
     "name": "stdout",
     "output_type": "stream",
     "text": [
      "===== 调试信息：服务器返回 =====\n",
      "{\"id\":\"0194dc81f794389a0266fa1a88f9af99\",\"object\":\"chat.completion\",\"created\":1738866292,\"model\":\"Qwen/Qwen2.5-32B-Instruct\",\"choices\":[{\"index\":0,\"message\":{\"role\":\"assistant\",\"content\":\"{\\n  \\\"classification\\\": \\\"国内秩序\\\",\\n  \\\"sentiment\\\": \\\"negative\\\"\\n}\"},\"finish_reason\":\"stop\"}],\"usage\":{\"prompt_tokens\":1497,\"completion_tokens\":18,\"total_tokens\":1515},\"system_fingerprint\":\"\"}\n",
      "=============================\n",
      "\n"
     ]
    },
    {
     "name": "stderr",
     "output_type": "stream",
     "text": [
      "Processing:  93%|█████████▎| 991/1060 [45:29<01:33,  1.35s/it]"
     ]
    },
    {
     "name": "stdout",
     "output_type": "stream",
     "text": [
      "===== 调试信息：服务器返回 =====\n",
      "{\"id\":\"0194dc81fca8120478febda4ecdb281e\",\"object\":\"chat.completion\",\"created\":1738866293,\"model\":\"Qwen/Qwen2.5-32B-Instruct\",\"choices\":[{\"index\":0,\"message\":{\"role\":\"assistant\",\"content\":\"{\\n  \\\"classification\\\": \\\"军事和防御\\\",\\n  \\\"sentiment\\\": \\\"neutral\\\"\\n}\"},\"finish_reason\":\"stop\"}],\"usage\":{\"prompt_tokens\":2326,\"completion_tokens\":19,\"total_tokens\":2345},\"system_fingerprint\":\"\"}\n",
      "=============================\n",
      "\n"
     ]
    },
    {
     "name": "stderr",
     "output_type": "stream",
     "text": [
      "Processing:  94%|█████████▎| 992/1060 [45:31<01:32,  1.37s/it]"
     ]
    },
    {
     "name": "stdout",
     "output_type": "stream",
     "text": [
      "===== 调试信息：服务器返回 =====\n",
      "{\"id\":\"0194dc82026ec0ceff553c4da1d7ed23\",\"object\":\"chat.completion\",\"created\":1738866295,\"model\":\"Qwen/Qwen2.5-32B-Instruct\",\"choices\":[{\"index\":0,\"message\":{\"role\":\"assistant\",\"content\":\"{\\n  \\\"classification\\\": \\\"劳动关系\\\",\\n  \\\"sentiment\\\": \\\"negative\\\"\\n}\"},\"finish_reason\":\"stop\"}],\"usage\":{\"prompt_tokens\":1851,\"completion_tokens\":18,\"total_tokens\":1869},\"system_fingerprint\":\"\"}\n",
      "=============================\n",
      "\n"
     ]
    },
    {
     "name": "stderr",
     "output_type": "stream",
     "text": [
      "Processing:  94%|█████████▎| 993/1060 [45:32<01:33,  1.39s/it]"
     ]
    },
    {
     "name": "stdout",
     "output_type": "stream",
     "text": [
      "===== 调试信息：服务器返回 =====\n",
      "{\"id\":\"0194dc8207bfc9b3f0b9eef0790c632f\",\"object\":\"chat.completion\",\"created\":1738866296,\"model\":\"Qwen/Qwen2.5-32B-Instruct\",\"choices\":[{\"index\":0,\"message\":{\"role\":\"assistant\",\"content\":\"{\\n  \\\"classification\\\": \\\"教育\\\",\\n  \\\"sentiment\\\": \\\"negative\\\"\\n}\"},\"finish_reason\":\"stop\"}],\"usage\":{\"prompt_tokens\":1132,\"completion_tokens\":17,\"total_tokens\":1149},\"system_fingerprint\":\"\"}\n",
      "=============================\n",
      "\n"
     ]
    },
    {
     "name": "stderr",
     "output_type": "stream",
     "text": [
      "Processing:  94%|█████████▍| 994/1060 [45:33<01:25,  1.30s/it]"
     ]
    },
    {
     "name": "stdout",
     "output_type": "stream",
     "text": [
      "===== 调试信息：服务器返回 =====\n",
      "{\"id\":\"0194dc820c00017a2a27fe8233386797\",\"object\":\"chat.completion\",\"created\":1738866297,\"model\":\"Qwen/Qwen2.5-32B-Instruct\",\"choices\":[{\"index\":0,\"message\":{\"role\":\"assistant\",\"content\":\"{\\n  \\\"classification\\\": \\\"经济\\\",\\n  \\\"sentiment\\\": \\\"neutral\\\"\\n}\"},\"finish_reason\":\"stop\"}],\"usage\":{\"prompt_tokens\":3353,\"completion_tokens\":17,\"total_tokens\":3370},\"system_fingerprint\":\"\"}\n",
      "=============================\n",
      "\n"
     ]
    },
    {
     "name": "stderr",
     "output_type": "stream",
     "text": [
      "Processing:  94%|█████████▍| 995/1060 [45:35<01:28,  1.36s/it]"
     ]
    },
    {
     "name": "stdout",
     "output_type": "stream",
     "text": [
      "===== 调试信息：服务器返回 =====\n",
      "{\"id\":\"0194dc8211d4581cf4993f9e0940da4f\",\"object\":\"chat.completion\",\"created\":1738866299,\"model\":\"Qwen/Qwen2.5-32B-Instruct\",\"choices\":[{\"index\":0,\"message\":{\"role\":\"assistant\",\"content\":\"{\\n  \\\"classification\\\": \\\"经济\\\",\\n  \\\"sentiment\\\": \\\"negative\\\"\\n}\"},\"finish_reason\":\"stop\"}],\"usage\":{\"prompt_tokens\":3114,\"completion_tokens\":17,\"total_tokens\":3131},\"system_fingerprint\":\"\"}\n",
      "=============================\n",
      "\n"
     ]
    },
    {
     "name": "stderr",
     "output_type": "stream",
     "text": [
      "Processing:  94%|█████████▍| 996/1060 [45:36<01:27,  1.37s/it]"
     ]
    },
    {
     "name": "stdout",
     "output_type": "stream",
     "text": [
      "===== 调试信息：服务器返回 =====\n",
      "{\"id\":\"0194dc82174e1bd420b5375756c61184\",\"object\":\"chat.completion\",\"created\":1738866300,\"model\":\"Qwen/Qwen2.5-32B-Instruct\",\"choices\":[{\"index\":0,\"message\":{\"role\":\"assistant\",\"content\":\"{\\n  \\\"classification\\\": \\\"国际政治\\\",\\n  \\\"sentiment\\\": \\\"negative\\\"\\n}\"},\"finish_reason\":\"stop\"}],\"usage\":{\"prompt_tokens\":2037,\"completion_tokens\":18,\"total_tokens\":2055},\"system_fingerprint\":\"\"}\n",
      "=============================\n",
      "\n"
     ]
    },
    {
     "name": "stderr",
     "output_type": "stream",
     "text": [
      "Processing:  94%|█████████▍| 997/1060 [45:37<01:24,  1.34s/it]"
     ]
    },
    {
     "name": "stdout",
     "output_type": "stream",
     "text": [
      "===== 调试信息：服务器返回 =====\n",
      "{\"id\":\"0194dc821e30046844bcc29c0b8604e8\",\"object\":\"chat.completion\",\"created\":1738866302,\"model\":\"Qwen/Qwen2.5-32B-Instruct\",\"choices\":[{\"index\":0,\"message\":{\"role\":\"assistant\",\"content\":\"{\\n  \\\"classification\\\": \\\"经济\\\",\\n  \\\"sentiment\\\": \\\"positive\\\"\\n}\"},\"finish_reason\":\"stop\"}],\"usage\":{\"prompt_tokens\":1692,\"completion_tokens\":17,\"total_tokens\":1709},\"system_fingerprint\":\"\"}\n",
      "=============================\n",
      "\n"
     ]
    },
    {
     "name": "stderr",
     "output_type": "stream",
     "text": [
      "Processing:  94%|█████████▍| 998/1060 [45:39<01:30,  1.46s/it]"
     ]
    },
    {
     "name": "stdout",
     "output_type": "stream",
     "text": [
      "===== 调试信息：服务器返回 =====\n",
      "{\"id\":\"0194dc8223778b1b50ec7900705acbb6\",\"object\":\"chat.completion\",\"created\":1738866303,\"model\":\"Qwen/Qwen2.5-32B-Instruct\",\"choices\":[{\"index\":0,\"message\":{\"role\":\"assistant\",\"content\":\"{\\n  \\\"classification\\\": \\\"商务活动\\\",\\n  \\\"sentiment\\\": \\\"negative\\\"\\n}\"},\"finish_reason\":\"stop\"}],\"usage\":{\"prompt_tokens\":1280,\"completion_tokens\":18,\"total_tokens\":1298},\"system_fingerprint\":\"\"}\n",
      "=============================\n",
      "\n"
     ]
    },
    {
     "name": "stderr",
     "output_type": "stream",
     "text": [
      "Processing:  94%|█████████▍| 999/1060 [45:40<01:25,  1.40s/it]"
     ]
    },
    {
     "name": "stdout",
     "output_type": "stream",
     "text": [
      "===== 调试信息：服务器返回 =====\n",
      "{\"id\":\"0194dc8227f472c3cbc2413d6295867c\",\"object\":\"chat.completion\",\"created\":1738866305,\"model\":\"Qwen/Qwen2.5-32B-Instruct\",\"choices\":[{\"index\":0,\"message\":{\"role\":\"assistant\",\"content\":\"{\\n  \\\"classification\\\": \\\"时尚\\\",\\n  \\\"sentiment\\\": \\\"pleasure\\\"\\n}\"},\"finish_reason\":\"stop\"}],\"usage\":{\"prompt_tokens\":1925,\"completion_tokens\":18,\"total_tokens\":1943},\"system_fingerprint\":\"\"}\n",
      "=============================\n",
      "\n"
     ]
    },
    {
     "name": "stderr",
     "output_type": "stream",
     "text": [
      "Processing:  94%|█████████▍| 1000/1060 [45:42<01:20,  1.34s/it]"
     ]
    },
    {
     "name": "stdout",
     "output_type": "stream",
     "text": [
      "===== 调试信息：服务器返回 =====\n",
      "{\"id\":\"0194dc822cb472266ad5d33e28263444\",\"object\":\"chat.completion\",\"created\":1738866306,\"model\":\"Qwen/Qwen2.5-32B-Instruct\",\"choices\":[{\"index\":0,\"message\":{\"role\":\"assistant\",\"content\":\"{\\n  \\\"classification\\\": \\\"经济\\\",\\n  \\\"sentiment\\\": \\\"neutral\\\"\\n}\"},\"finish_reason\":\"stop\"}],\"usage\":{\"prompt_tokens\":1524,\"completion_tokens\":17,\"total_tokens\":1541},\"system_fingerprint\":\"\"}\n",
      "=============================\n",
      "\n"
     ]
    },
    {
     "name": "stderr",
     "output_type": "stream",
     "text": [
      "Processing:  94%|█████████▍| 1001/1060 [45:43<01:15,  1.29s/it]"
     ]
    },
    {
     "name": "stdout",
     "output_type": "stream",
     "text": [
      "===== 调试信息：服务器返回 =====\n",
      "{\"id\":\"0194dc82311fd284cef99759296340c6\",\"object\":\"chat.completion\",\"created\":1738866307,\"model\":\"Qwen/Qwen2.5-32B-Instruct\",\"choices\":[{\"index\":0,\"message\":{\"role\":\"assistant\",\"content\":\"{\\n  \\\"classification\\\": \\\"军事和防御\\\",\\n  \\\"sentiment\\\": \\\"negative\\\"\\n}\"},\"finish_reason\":\"stop\"}],\"usage\":{\"prompt_tokens\":760,\"completion_tokens\":19,\"total_tokens\":779},\"system_fingerprint\":\"\"}\n",
      "=============================\n",
      "\n"
     ]
    },
    {
     "name": "stderr",
     "output_type": "stream",
     "text": [
      "Processing:  95%|█████████▍| 1002/1060 [45:44<01:13,  1.26s/it]"
     ]
    },
    {
     "name": "stdout",
     "output_type": "stream",
     "text": [
      "===== 调试信息：服务器返回 =====\n",
      "{\"id\":\"0194dc8236779b1e465f06dc766a1653\",\"object\":\"chat.completion\",\"created\":1738866308,\"model\":\"Qwen/Qwen2.5-32B-Instruct\",\"choices\":[{\"index\":0,\"message\":{\"role\":\"assistant\",\"content\":\"{\\n  \\\"classification\\\": \\\"国际政治\\\",\\n  \\\"sentiment\\\": \\\"neutral\\\"\\n}\"},\"finish_reason\":\"stop\"}],\"usage\":{\"prompt_tokens\":1647,\"completion_tokens\":18,\"total_tokens\":1665},\"system_fingerprint\":\"\"}\n",
      "=============================\n",
      "\n"
     ]
    },
    {
     "name": "stderr",
     "output_type": "stream",
     "text": [
      "Processing:  95%|█████████▍| 1003/1060 [45:45<01:13,  1.29s/it]"
     ]
    },
    {
     "name": "stdout",
     "output_type": "stream",
     "text": [
      "===== 调试信息：服务器返回 =====\n",
      "{\"id\":\"0194dc823b44eddedaca80025d53705c\",\"object\":\"chat.completion\",\"created\":1738866309,\"model\":\"Qwen/Qwen2.5-32B-Instruct\",\"choices\":[{\"index\":0,\"message\":{\"role\":\"assistant\",\"content\":\"{\\n  \\\"classification\\\": \\\"国际政治\\\",\\n  \\\"sentiment\\\": \\\"negative\\\"\\n}\"},\"finish_reason\":\"stop\"}],\"usage\":{\"prompt_tokens\":1196,\"completion_tokens\":18,\"total_tokens\":1214},\"system_fingerprint\":\"\"}\n",
      "=============================\n",
      "\n"
     ]
    },
    {
     "name": "stderr",
     "output_type": "stream",
     "text": [
      "Processing:  95%|█████████▍| 1004/1060 [45:46<01:10,  1.25s/it]"
     ]
    },
    {
     "name": "stdout",
     "output_type": "stream",
     "text": [
      "===== 调试信息：服务器返回 =====\n",
      "{\"id\":\"0194dc823fc991f9df2469bae3f03241\",\"object\":\"chat.completion\",\"created\":1738866311,\"model\":\"Qwen/Qwen2.5-32B-Instruct\",\"choices\":[{\"index\":0,\"message\":{\"role\":\"assistant\",\"content\":\"{\\n  \\\"classification\\\": \\\"商务活动\\\",\\n  \\\"sentiment\\\": \\\"positive\\\"\\n}\"},\"finish_reason\":\"stop\"}],\"usage\":{\"prompt_tokens\":632,\"completion_tokens\":18,\"total_tokens\":650},\"system_fingerprint\":\"\"}\n",
      "=============================\n",
      "\n"
     ]
    },
    {
     "name": "stderr",
     "output_type": "stream",
     "text": [
      "Processing:  95%|█████████▍| 1005/1060 [45:48<01:07,  1.22s/it]"
     ]
    },
    {
     "name": "stdout",
     "output_type": "stream",
     "text": [
      "===== 调试信息：服务器返回 =====\n",
      "{\"id\":\"0194dc82447922706ded66908c76bd2b\",\"object\":\"chat.completion\",\"created\":1738866312,\"model\":\"Qwen/Qwen2.5-32B-Instruct\",\"choices\":[{\"index\":0,\"message\":{\"role\":\"assistant\",\"content\":\"{\\n  \\\"classification\\\": \\\"商务活动\\\",\\n  \\\"sentiment\\\": \\\"neutral\\\"\\n}\"},\"finish_reason\":\"stop\"}],\"usage\":{\"prompt_tokens\":961,\"completion_tokens\":18,\"total_tokens\":979},\"system_fingerprint\":\"\"}\n",
      "=============================\n",
      "\n"
     ]
    },
    {
     "name": "stderr",
     "output_type": "stream",
     "text": [
      "Processing:  95%|█████████▍| 1006/1060 [45:49<01:05,  1.22s/it]"
     ]
    },
    {
     "name": "stdout",
     "output_type": "stream",
     "text": [
      "===== 调试信息：服务器返回 =====\n",
      "{\"id\":\"0194dc824908d77a19338f79e74069dd\",\"object\":\"chat.completion\",\"created\":1738866313,\"model\":\"Qwen/Qwen2.5-32B-Instruct\",\"choices\":[{\"index\":0,\"message\":{\"role\":\"assistant\",\"content\":\"{\\n  \\\"classification\\\": \\\"国内政治\\\",\\n  \\\"sentiment\\\": \\\"negative\\\"\\n}\"},\"finish_reason\":\"stop\"}],\"usage\":{\"prompt_tokens\":1475,\"completion_tokens\":18,\"total_tokens\":1493},\"system_fingerprint\":\"\"}\n",
      "=============================\n",
      "\n"
     ]
    },
    {
     "name": "stderr",
     "output_type": "stream",
     "text": [
      "Processing:  95%|█████████▌| 1007/1060 [45:50<01:03,  1.21s/it]"
     ]
    },
    {
     "name": "stdout",
     "output_type": "stream",
     "text": [
      "===== 调试信息：服务器返回 =====\n",
      "{\"id\":\"0194dc824d9e220612a7cc9d2c8fc751\",\"object\":\"chat.completion\",\"created\":1738866314,\"model\":\"Qwen/Qwen2.5-32B-Instruct\",\"choices\":[{\"index\":0,\"message\":{\"role\":\"assistant\",\"content\":\"{\\n  \\\"classification\\\": \\\"文化活动\\\",\\n  \\\"sentiment\\\": \\\"pleasure\\\"\\n}\"},\"finish_reason\":\"stop\"}],\"usage\":{\"prompt_tokens\":3173,\"completion_tokens\":19,\"total_tokens\":3192},\"system_fingerprint\":\"\"}\n",
      "=============================\n",
      "\n"
     ]
    },
    {
     "name": "stderr",
     "output_type": "stream",
     "text": [
      "Processing:  95%|█████████▌| 1008/1060 [45:52<01:07,  1.30s/it]"
     ]
    },
    {
     "name": "stdout",
     "output_type": "stream",
     "text": [
      "===== 调试信息：服务器返回 =====\n",
      "{\"id\":\"0194dc825392e9dbf8b8a106175c31a0\",\"object\":\"chat.completion\",\"created\":1738866316,\"model\":\"Qwen/Qwen2.5-32B-Instruct\",\"choices\":[{\"index\":0,\"message\":{\"role\":\"assistant\",\"content\":\"{\\n  \\\"classification\\\": \\\"国际政治\\\",\\n  \\\"sentiment\\\": \\\"neutral\\\"\\n}\"},\"finish_reason\":\"stop\"}],\"usage\":{\"prompt_tokens\":1738,\"completion_tokens\":18,\"total_tokens\":1756},\"system_fingerprint\":\"\"}\n",
      "=============================\n",
      "\n"
     ]
    },
    {
     "name": "stderr",
     "output_type": "stream",
     "text": [
      "Processing:  95%|█████████▌| 1009/1060 [45:53<01:05,  1.28s/it]"
     ]
    },
    {
     "name": "stdout",
     "output_type": "stream",
     "text": [
      "===== 调试信息：服务器返回 =====\n",
      "{\"id\":\"0194dc8259a18b9d654b5aef761b47d4\",\"object\":\"chat.completion\",\"created\":1738866317,\"model\":\"Qwen/Qwen2.5-32B-Instruct\",\"choices\":[{\"index\":0,\"message\":{\"role\":\"assistant\",\"content\":\"{\\n  \\\"classification\\\": \\\"能源\\\",\\n  \\\"sentiment\\\": \\\"negative\\\"\\n}\"},\"finish_reason\":\"stop\"}],\"usage\":{\"prompt_tokens\":1544,\"completion_tokens\":17,\"total_tokens\":1561},\"system_fingerprint\":\"\"}\n",
      "=============================\n",
      "\n"
     ]
    },
    {
     "name": "stderr",
     "output_type": "stream",
     "text": [
      "Processing:  95%|█████████▌| 1010/1060 [45:54<01:07,  1.36s/it]"
     ]
    },
    {
     "name": "stdout",
     "output_type": "stream",
     "text": [
      "===== 调试信息：服务器返回 =====\n",
      "{\"id\":\"0194dc825e4342f5f92b359f2d831b5f\",\"object\":\"chat.completion\",\"created\":1738866318,\"model\":\"Qwen/Qwen2.5-32B-Instruct\",\"choices\":[{\"index\":0,\"message\":{\"role\":\"assistant\",\"content\":\"{\\n  \\\"classification\\\": \\\"旅游\\\",\\n  \\\"sentiment\\\": \\\"pleasure\\\"\\n}\\n\\n注：给定的分类列表中没有\\\"旅游\\\"这一项，因此这里选择最接近的\\\"文化活动\\\"作为分类。\\n{\\n  \\\"classification\\\": \\\"文化活动\\\",\\n  \\\"sentiment\\\": \\\"pleasure\\\"\\n}\"},\"finish_reason\":\"stop\"}],\"usage\":{\"prompt_tokens\":1558,\"completion_tokens\":65,\"total_tokens\":1623},\"system_fingerprint\":\"\"}\n",
      "=============================\n",
      "\n",
      "请求或解析时出现异常：Extra data: line 6 column 1 (char 57)，等待10秒后重试...\n",
      "===== 调试信息：服务器返回 =====\n",
      "{\"id\":\"0194dc828b1c866870b9d6eb76cf99be\",\"object\":\"chat.completion\",\"created\":1738866330,\"model\":\"Qwen/Qwen2.5-32B-Instruct\",\"choices\":[{\"index\":0,\"message\":{\"role\":\"assistant\",\"content\":\"{\\n  \\\"classification\\\": \\\"旅游\\\",\\n  \\\"sentiment\\\": \\\"pleasure\\\"\\n}\\n\\n注：分类\\\"旅游\\\"在提供的类别中对应\\\"商务活动\\\"，因为旅游推荐通常与旅行和探索新地方的商务活动相关。但如果必须严格按照提供的类别选择，应选择\\\"其他\\\"。由于文章内容积极推荐旅行目的地，故情感倾向为\\\"pleasure\\\"。若需严格匹配分类，请将classification改为\\\"其他\\\"。\"},\"finish_reason\":\"stop\"}],\"usage\":{\"prompt_tokens\":1558,\"completion_tokens\":92,\"total_tokens\":1650},\"system_fingerprint\":\"\"}\n",
      "=============================\n",
      "\n",
      "请求或解析时出现异常：Extra data: line 6 column 1 (char 57)，等待10秒后重试...\n",
      "===== 调试信息：服务器返回 =====\n",
      "{\"id\":\"0194dc82b95dacc4b238317238c20ed6\",\"object\":\"chat.completion\",\"created\":1738866342,\"model\":\"Qwen/Qwen2.5-32B-Instruct\",\"choices\":[{\"index\":0,\"message\":{\"role\":\"assistant\",\"content\":\"{\\n  \\\"classification\\\": \\\"旅游\\\",\\n  \\\"sentiment\\\": \\\"pleasure\\\"\\n}\\n\\n注：分类\\\"旅游\\\"不在给定的类别列表中，因此应选择最接近的类别。在给定的列表中，\\\"文化活动\\\"可能是最接近的选择，因为旅行通常涉及文化体验。但根据要求，我将选择\\\"其他\\\"作为分类。\\n\\n修正后：\\n{\\n  \\\"classification\\\": \\\"其他\\\",\\n  \\\"sentiment\\\": \\\"pleasure\\\"\\n}\"},\"finish_reason\":\"stop\"}],\"usage\":{\"prompt_tokens\":1558,\"completion_tokens\":97,\"total_tokens\":1655},\"system_fingerprint\":\"\"}\n",
      "=============================\n",
      "\n",
      "请求或解析时出现异常：Extra data: line 6 column 1 (char 57)，等待10秒后重试...\n",
      "===== 调试信息：服务器返回 =====\n",
      "{\"id\":\"0194dc82e752a5b927b11afaed9f4bc5\",\"object\":\"chat.completion\",\"created\":1738866354,\"model\":\"Qwen/Qwen2.5-32B-Instruct\",\"choices\":[{\"index\":0,\"message\":{\"role\":\"assistant\",\"content\":\"{\\n  \\\"classification\\\": \\\"旅游\\\",\\n  \\\"sentiment\\\": \\\"pleasure\\\"\\n}\\n\\n注：分类\\\"旅游\\\"未在给定的类别列表中，最接近的类别是\\\"文化活动\\\"，因此如果必须从给定的类别中选择的话，应选择\\\"文化活动\\\"。\\n{\\n  \\\"classification\\\": \\\"文化活动\\\",\\n  \\\"sentiment\\\": \\\"pleasure\\\"\\n}\"},\"finish_reason\":\"stop\"}],\"usage\":{\"prompt_tokens\":1558,\"completion_tokens\":81,\"total_tokens\":1639},\"system_fingerprint\":\"\"}\n",
      "=============================\n",
      "\n",
      "请求或解析时出现异常：Extra data: line 6 column 1 (char 57)，等待10秒后重试...\n",
      "===== 调试信息：服务器返回 =====\n",
      "{\"id\":\"0194dc83146dea281838097696b62227\",\"object\":\"chat.completion\",\"created\":1738866365,\"model\":\"Qwen/Qwen2.5-32B-Instruct\",\"choices\":[{\"index\":0,\"message\":{\"role\":\"assistant\",\"content\":\"{\\n  \\\"classification\\\": \\\"旅游\\\",\\n  \\\"sentiment\\\": \\\"pleasure\\\"\\n}\\n\\n注：在提供的分类选项中，没有\\\"旅游\\\"这一项，因此选择了最接近的\\\"文化活动\\\"作为分类。\\n{\\n  \\\"classification\\\": \\\"文化活动\\\",\\n  \\\"sentiment\\\": \\\"pleasure\\\"\\n}\"},\"finish_reason\":\"stop\"}],\"usage\":{\"prompt_tokens\":1558,\"completion_tokens\":64,\"total_tokens\":1622},\"system_fingerprint\":\"\"}\n",
      "=============================\n",
      "\n",
      "请求或解析时出现异常：Extra data: line 6 column 1 (char 57)，等待10秒后重试...\n",
      "达到最大重试次数，返回默认值\n"
     ]
    },
    {
     "name": "stderr",
     "output_type": "stream",
     "text": [
      "Processing:  95%|█████████▌| 1011/1060 [46:53<15:05, 18.47s/it]"
     ]
    },
    {
     "name": "stdout",
     "output_type": "stream",
     "text": [
      "===== 调试信息：服务器返回 =====\n",
      "{\"id\":\"0194dc8342a5d8aa75d7411eaae50115\",\"object\":\"chat.completion\",\"created\":1738866377,\"model\":\"Qwen/Qwen2.5-32B-Instruct\",\"choices\":[{\"index\":0,\"message\":{\"role\":\"assistant\",\"content\":\"{\\n  \\\"classification\\\": \\\"国际政治\\\",\\n  \\\"sentiment\\\": \\\"negative\\\"\\n}\"},\"finish_reason\":\"stop\"}],\"usage\":{\"prompt_tokens\":2211,\"completion_tokens\":18,\"total_tokens\":2229},\"system_fingerprint\":\"\"}\n",
      "=============================\n",
      "\n"
     ]
    },
    {
     "name": "stderr",
     "output_type": "stream",
     "text": [
      "Processing:  95%|█████████▌| 1012/1060 [46:54<10:39, 13.33s/it]"
     ]
    },
    {
     "name": "stdout",
     "output_type": "stream",
     "text": [
      "===== 调试信息：服务器返回 =====\n",
      "{\"id\":\"0194dc8347c9bd97cf87b010f44147f3\",\"object\":\"chat.completion\",\"created\":1738866378,\"model\":\"Qwen/Qwen2.5-32B-Instruct\",\"choices\":[{\"index\":0,\"message\":{\"role\":\"assistant\",\"content\":\"{\\n  \\\"classification\\\": \\\"文化活动\\\",\\n  \\\"sentiment\\\": \\\"pleasure\\\"\\n}\"},\"finish_reason\":\"stop\"}],\"usage\":{\"prompt_tokens\":1103,\"completion_tokens\":19,\"total_tokens\":1122},\"system_fingerprint\":\"\"}\n",
      "=============================\n",
      "\n"
     ]
    },
    {
     "name": "stderr",
     "output_type": "stream",
     "text": [
      "Processing:  96%|█████████▌| 1013/1060 [46:55<07:35,  9.69s/it]"
     ]
    },
    {
     "name": "stdout",
     "output_type": "stream",
     "text": [
      "===== 调试信息：服务器返回 =====\n",
      "{\"id\":\"0194dc834c6d6c9cf0b15d9e88a64c8b\",\"object\":\"chat.completion\",\"created\":1738866379,\"model\":\"Qwen/Qwen2.5-32B-Instruct\",\"choices\":[{\"index\":0,\"message\":{\"role\":\"assistant\",\"content\":\"{\\n  \\\"classification\\\": \\\"交通\\\",\\n  \\\"sentiment\\\": \\\"positive\\\"\\n}\"},\"finish_reason\":\"stop\"}],\"usage\":{\"prompt_tokens\":2315,\"completion_tokens\":17,\"total_tokens\":2332},\"system_fingerprint\":\"\"}\n",
      "=============================\n",
      "\n"
     ]
    },
    {
     "name": "stderr",
     "output_type": "stream",
     "text": [
      "Processing:  96%|█████████▌| 1014/1060 [46:57<05:34,  7.28s/it]"
     ]
    },
    {
     "name": "stdout",
     "output_type": "stream",
     "text": [
      "===== 调试信息：服务器返回 =====\n",
      "{\"id\":\"0194dc8352fd9ad8261bf775f73b242c\",\"object\":\"chat.completion\",\"created\":1738866381,\"model\":\"Qwen/Qwen2.5-32B-Instruct\",\"choices\":[{\"index\":0,\"message\":{\"role\":\"assistant\",\"content\":\"{\\n  \\\"classification\\\": \\\"经济\\\",\\n  \\\"sentiment\\\": \\\"negative\\\"\\n}\"},\"finish_reason\":\"stop\"}],\"usage\":{\"prompt_tokens\":2740,\"completion_tokens\":17,\"total_tokens\":2757},\"system_fingerprint\":\"\"}\n",
      "=============================\n",
      "\n"
     ]
    },
    {
     "name": "stderr",
     "output_type": "stream",
     "text": [
      "Processing:  96%|█████████▌| 1015/1060 [46:59<04:11,  5.60s/it]"
     ]
    },
    {
     "name": "stdout",
     "output_type": "stream",
     "text": [
      "===== 调试信息：服务器返回 =====\n",
      "{\"id\":\"0194dc83595ff2ad02e204f8ef64f936\",\"object\":\"chat.completion\",\"created\":1738866383,\"model\":\"Qwen/Qwen2.5-32B-Instruct\",\"choices\":[{\"index\":0,\"message\":{\"role\":\"assistant\",\"content\":\"{\\n  \\\"classification\\\": \\\"司法\\\",\\n  \\\"sentiment\\\": \\\"neutral\\\"\\n}\\n\\n注：提供的分类选项中没有\\\"司法\\\"，因此根据最接近的内容选择了\\\"其他\\\"。但由于JSON格式要求严格，这里直接给出最接近的分类。\\n\\n{\\n  \\\"classification\\\": \\\"其他\\\",\\n  \\\"sentiment\\\": \\\"neutral\\\"\\n}\"},\"finish_reason\":\"stop\"}],\"usage\":{\"prompt_tokens\":2089,\"completion_tokens\":69,\"total_tokens\":2158},\"system_fingerprint\":\"\"}\n",
      "=============================\n",
      "\n",
      "请求或解析时出现异常：Extra data: line 6 column 1 (char 56)，等待10秒后重试...\n",
      "===== 调试信息：服务器返回 =====\n",
      "{\"id\":\"0194dc838b9c788563f5cff8da0a0e21\",\"object\":\"chat.completion\",\"created\":1738866396,\"model\":\"Qwen/Qwen2.5-32B-Instruct\",\"choices\":[{\"index\":0,\"message\":{\"role\":\"assistant\",\"content\":\"{\\n  \\\"classification\\\": \\\"司法\\\",\\n  \\\"sentiment\\\": \\\"neutral\\\"\\n}\\n\\n注：提供的分类选项中没有\\\"司法\\\"类别，因此如果必须从给定的分类中选择，这篇文章最接近的是\\\"法律和秩序\\\"相关的主题，但由于选项中没有直接对应的类别，选择了最接近的\\\"国内秩序\\\"。但由于表述要求严格按给定选项，且无\\\"司法\\\"或直接对应类别，故此处标记为\\\"其他\\\"。\\n\\n修正后：\\n{\\n  \\\"classification\\\": \\\"其他\\\",\\n  \\\"sentiment\\\": \\\"neutral\\\"\\n}\"},\"finish_reason\":\"stop\"}],\"usage\":{\"prompt_tokens\":2089,\"completion_tokens\":116,\"total_tokens\":2205},\"system_fingerprint\":\"\"}\n",
      "=============================\n",
      "\n",
      "请求或解析时出现异常：Extra data: line 6 column 1 (char 56)，等待10秒后重试...\n",
      "===== 调试信息：服务器返回 =====\n",
      "{\"id\":\"0194dc83bad8dc9ea760481a6e6ecb62\",\"object\":\"chat.completion\",\"created\":1738866408,\"model\":\"Qwen/Qwen2.5-32B-Instruct\",\"choices\":[{\"index\":0,\"message\":{\"role\":\"assistant\",\"content\":\"{\\n  \\\"classification\\\": \\\"司法\\\",\\n  \\\"sentiment\\\": \\\"neutral\\\"\\n}\\n\\n注：提供的分类选项中没有“司法”类别，因此如果必须从给定的分类中选择的话，最接近的可能是“法律”相关的“国内秩序”。但由于“国内秩序”并不能完全准确描述文章内容，根据要求将分类设为\\\"其他\\\"。\\n\\n{\\n  \\\"classification\\\": \\\"其他\\\",\\n  \\\"sentiment\\\": \\\"neutral\\\"\\n}\"},\"finish_reason\":\"stop\"}],\"usage\":{\"prompt_tokens\":2089,\"completion_tokens\":92,\"total_tokens\":2181},\"system_fingerprint\":\"\"}\n",
      "=============================\n",
      "\n",
      "请求或解析时出现异常：Extra data: line 6 column 1 (char 56)，等待10秒后重试...\n",
      "===== 调试信息：服务器返回 =====\n",
      "{\"id\":\"0194dc83e8b9a9a180fe0eb9a71b2687\",\"object\":\"chat.completion\",\"created\":1738866419,\"model\":\"Qwen/Qwen2.5-32B-Instruct\",\"choices\":[{\"index\":0,\"message\":{\"role\":\"assistant\",\"content\":\"{\\n  \\\"classification\\\": \\\"司法\\\",\\n  \\\"sentiment\\\": \\\"neutral\\\"\\n}\\n\\n注：提供的分类选项中没有“司法”类别，因此如果必须从给定的选项中选择，可以考虑将其归类为“法律”相关的“商务活动”或“国际政治”，但由于没有直接相关的分类，故归为“其他”。同时，由于文章内容较为中立，描述了法律案件的过程和结果，情感倾向为中立（neutral），但根据要求只能从给定的情感选项中选择，因此选择最接近的“neutral”的情感倾向。但由于提供的选项中没有“neutral”，所以这里不作情感倾向的选择。\\n\\n若严格遵循要求，则：\\n{\\n  \\\"classification\\\": \\\"其他\\\",\\n  \\\"sentiment\\\": \\\"neutral\\\"\\n} \\n\\n但请注意，“neutral”并不在给定的情感选项列表中。\"},\"finish_reason\":\"stop\"}],\"usage\":{\"prompt_tokens\":2089,\"completion_tokens\":173,\"total_tokens\":2262},\"system_fingerprint\":\"\"}\n",
      "=============================\n",
      "\n",
      "请求或解析时出现异常：Extra data: line 6 column 1 (char 56)，等待10秒后重试...\n",
      "===== 调试信息：服务器返回 =====\n",
      "{\"id\":\"0194dc841cdd3413b7a5f9435de6efce\",\"object\":\"chat.completion\",\"created\":1738866433,\"model\":\"Qwen/Qwen2.5-32B-Instruct\",\"choices\":[{\"index\":0,\"message\":{\"role\":\"assistant\",\"content\":\"{\\n  \\\"classification\\\": \\\"司法\\\",\\n  \\\"sentiment\\\": \\\"neutral\\\"\\n}\\n\\n注：提供的分类选项中没有“司法”类别，因此最接近的选项是“其他”。若必须从给定选项中选择，则应选“其他”。\\n{\\n  \\\"classification\\\": \\\"其他\\\",\\n  \\\"sentiment\\\": \\\"neutral\\\"\\n}\"},\"finish_reason\":\"stop\"}],\"usage\":{\"prompt_tokens\":2089,\"completion_tokens\":70,\"total_tokens\":2159},\"system_fingerprint\":\"\"}\n",
      "=============================\n",
      "\n",
      "请求或解析时出现异常：Extra data: line 6 column 1 (char 56)，等待10秒后重试...\n",
      "达到最大重试次数，返回默认值\n"
     ]
    },
    {
     "name": "stderr",
     "output_type": "stream",
     "text": [
      "Processing:  96%|█████████▌| 1016/1060 [48:01<16:31, 22.54s/it]"
     ]
    },
    {
     "name": "stdout",
     "output_type": "stream",
     "text": [
      "===== 调试信息：服务器返回 =====\n",
      "{\"id\":\"0194dc844bca1723a240ee0e36166905\",\"object\":\"chat.completion\",\"created\":1738866445,\"model\":\"Qwen/Qwen2.5-32B-Instruct\",\"choices\":[{\"index\":0,\"message\":{\"role\":\"assistant\",\"content\":\"{\\n  \\\"classification\\\": \\\"商务活动\\\",\\n  \\\"sentiment\\\": \\\"positive\\\"\\n}\"},\"finish_reason\":\"stop\"}],\"usage\":{\"prompt_tokens\":570,\"completion_tokens\":18,\"total_tokens\":588},\"system_fingerprint\":\"\"}\n",
      "=============================\n",
      "\n"
     ]
    },
    {
     "name": "stderr",
     "output_type": "stream",
     "text": [
      "Processing:  96%|█████████▌| 1017/1060 [48:02<11:33, 16.12s/it]"
     ]
    },
    {
     "name": "stdout",
     "output_type": "stream",
     "text": [
      "===== 调试信息：服务器返回 =====\n",
      "{\"id\":\"0194dc84506f5605c936d03045c85f0e\",\"object\":\"chat.completion\",\"created\":1738866446,\"model\":\"Qwen/Qwen2.5-32B-Instruct\",\"choices\":[{\"index\":0,\"message\":{\"role\":\"assistant\",\"content\":\"{\\n  \\\"classification\\\": \\\"商务活动\\\",\\n  \\\"sentiment\\\": \\\"neutral\\\"\\n}\"},\"finish_reason\":\"stop\"}],\"usage\":{\"prompt_tokens\":1058,\"completion_tokens\":18,\"total_tokens\":1076},\"system_fingerprint\":\"\"}\n",
      "=============================\n",
      "\n"
     ]
    },
    {
     "name": "stderr",
     "output_type": "stream",
     "text": [
      "Processing:  96%|█████████▌| 1018/1060 [48:03<08:08, 11.63s/it]"
     ]
    },
    {
     "name": "stdout",
     "output_type": "stream",
     "text": [
      "===== 调试信息：服务器返回 =====\n",
      "{\"id\":\"0194dc8454c747e329eb7a24c6a48251\",\"object\":\"chat.completion\",\"created\":1738866447,\"model\":\"Qwen/Qwen2.5-32B-Instruct\",\"choices\":[{\"index\":0,\"message\":{\"role\":\"assistant\",\"content\":\"{\\n  \\\"classification\\\": \\\"科技\\\",\\n  \\\"sentiment\\\": \\\"positive\\\"\\n}\"},\"finish_reason\":\"stop\"}],\"usage\":{\"prompt_tokens\":628,\"completion_tokens\":17,\"total_tokens\":645},\"system_fingerprint\":\"\"}\n",
      "=============================\n",
      "\n"
     ]
    },
    {
     "name": "stderr",
     "output_type": "stream",
     "text": [
      "Processing:  96%|█████████▌| 1019/1060 [48:04<05:47,  8.47s/it]"
     ]
    },
    {
     "name": "stdout",
     "output_type": "stream",
     "text": [
      "===== 调试信息：服务器返回 =====\n",
      "{\"id\":\"0194dc84591b652e4fa26e23f9f3d961\",\"object\":\"chat.completion\",\"created\":1738866448,\"model\":\"Qwen/Qwen2.5-32B-Instruct\",\"choices\":[{\"index\":0,\"message\":{\"role\":\"assistant\",\"content\":\"{\\n  \\\"classification\\\": \\\"传播\\\",\\n  \\\"sentiment\\\": \\\"negative\\\"\\n}\"},\"finish_reason\":\"stop\"}],\"usage\":{\"prompt_tokens\":1031,\"completion_tokens\":17,\"total_tokens\":1048},\"system_fingerprint\":\"\"}\n",
      "=============================\n",
      "\n"
     ]
    },
    {
     "name": "stderr",
     "output_type": "stream",
     "text": [
      "Processing:  96%|█████████▌| 1020/1060 [48:05<04:11,  6.29s/it]"
     ]
    },
    {
     "name": "stdout",
     "output_type": "stream",
     "text": [
      "===== 调试信息：服务器返回 =====\n",
      "{\"id\":\"0194dc845ddcc063d2f7926507aa7726\",\"object\":\"chat.completion\",\"created\":1738866449,\"model\":\"Qwen/Qwen2.5-32B-Instruct\",\"choices\":[{\"index\":0,\"message\":{\"role\":\"assistant\",\"content\":\"{\\n  \\\"classification\\\": \\\"庆典\\\",\\n  \\\"sentiment\\\": \\\"pleasure\\\"\\n}\"},\"finish_reason\":\"stop\"}],\"usage\":{\"prompt_tokens\":2623,\"completion_tokens\":18,\"total_tokens\":2641},\"system_fingerprint\":\"\"}\n",
      "=============================\n",
      "\n"
     ]
    },
    {
     "name": "stderr",
     "output_type": "stream",
     "text": [
      "Processing:  96%|█████████▋| 1021/1060 [48:07<03:09,  4.85s/it]"
     ]
    },
    {
     "name": "stdout",
     "output_type": "stream",
     "text": [
      "===== 调试信息：服务器返回 =====\n",
      "{\"id\":\"0194dc84644da7ffdaec23f80ca30a93\",\"object\":\"chat.completion\",\"created\":1738866451,\"model\":\"Qwen/Qwen2.5-32B-Instruct\",\"choices\":[{\"index\":0,\"message\":{\"role\":\"assistant\",\"content\":\"{\\n  \\\"classification\\\": \\\"国际政治\\\",\\n  \\\"sentiment\\\": \\\"negative\\\"\\n}\"},\"finish_reason\":\"stop\"}],\"usage\":{\"prompt_tokens\":1133,\"completion_tokens\":18,\"total_tokens\":1151},\"system_fingerprint\":\"\"}\n",
      "=============================\n",
      "\n"
     ]
    },
    {
     "name": "stderr",
     "output_type": "stream",
     "text": [
      "Processing:  96%|█████████▋| 1022/1060 [48:08<02:24,  3.80s/it]"
     ]
    },
    {
     "name": "stdout",
     "output_type": "stream",
     "text": [
      "===== 调试信息：服务器返回 =====\n",
      "{\"id\":\"0194dc8468ef12d01ab96832d0dc806f\",\"object\":\"chat.completion\",\"created\":1738866452,\"model\":\"Qwen/Qwen2.5-32B-Instruct\",\"choices\":[{\"index\":0,\"message\":{\"role\":\"assistant\",\"content\":\"{\\n  \\\"classification\\\": \\\"环境\\\",\\n  \\\"sentiment\\\": \\\"neutral\\\"\\n}\"},\"finish_reason\":\"stop\"}],\"usage\":{\"prompt_tokens\":2549,\"completion_tokens\":17,\"total_tokens\":2566},\"system_fingerprint\":\"\"}\n",
      "=============================\n",
      "\n"
     ]
    },
    {
     "name": "stderr",
     "output_type": "stream",
     "text": [
      "Processing:  97%|█████████▋| 1023/1060 [48:09<01:53,  3.08s/it]"
     ]
    },
    {
     "name": "stdout",
     "output_type": "stream",
     "text": [
      "===== 调试信息：服务器返回 =====\n",
      "{\"id\":\"0194dc846e6bc9d44cc73ece019c8f82\",\"object\":\"chat.completion\",\"created\":1738866454,\"model\":\"Qwen/Qwen2.5-32B-Instruct\",\"choices\":[{\"index\":0,\"message\":{\"role\":\"assistant\",\"content\":\"{\\n  \\\"classification\\\": \\\"文化活动\\\",\\n  \\\"sentiment\\\": \\\"pleasure\\\"\\n}\"},\"finish_reason\":\"stop\"}],\"usage\":{\"prompt_tokens\":2431,\"completion_tokens\":19,\"total_tokens\":2450},\"system_fingerprint\":\"\"}\n",
      "=============================\n",
      "\n"
     ]
    },
    {
     "name": "stderr",
     "output_type": "stream",
     "text": [
      "Processing:  97%|█████████▋| 1024/1060 [48:11<01:32,  2.58s/it]"
     ]
    },
    {
     "name": "stdout",
     "output_type": "stream",
     "text": [
      "===== 调试信息：服务器返回 =====\n",
      "{\"id\":\"0194dc847476d8362e12407cea1650ad\",\"object\":\"chat.completion\",\"created\":1738866455,\"model\":\"Qwen/Qwen2.5-32B-Instruct\",\"choices\":[{\"index\":0,\"message\":{\"role\":\"assistant\",\"content\":\"{\\n  \\\"classification\\\": \\\"国际政治\\\",\\n  \\\"sentiment\\\": \\\"positive\\\"\\n}\"},\"finish_reason\":\"stop\"}],\"usage\":{\"prompt_tokens\":2551,\"completion_tokens\":18,\"total_tokens\":2569},\"system_fingerprint\":\"\"}\n",
      "=============================\n",
      "\n"
     ]
    },
    {
     "name": "stderr",
     "output_type": "stream",
     "text": [
      "Processing:  97%|█████████▋| 1025/1060 [48:12<01:19,  2.26s/it]"
     ]
    },
    {
     "name": "stdout",
     "output_type": "stream",
     "text": [
      "===== 调试信息：服务器返回 =====\n",
      "{\"id\":\"0194dc8479b66e149df8301a4dfa76eb\",\"object\":\"chat.completion\",\"created\":1738866457,\"model\":\"Qwen/Qwen2.5-32B-Instruct\",\"choices\":[{\"index\":0,\"message\":{\"role\":\"assistant\",\"content\":\"{\\n  \\\"classification\\\": \\\"体育\\\",\\n  \\\"sentiment\\\": \\\"negative\\\"\\n}\"},\"finish_reason\":\"stop\"}],\"usage\":{\"prompt_tokens\":1575,\"completion_tokens\":17,\"total_tokens\":1592},\"system_fingerprint\":\"\"}\n",
      "=============================\n",
      "\n"
     ]
    },
    {
     "name": "stderr",
     "output_type": "stream",
     "text": [
      "Processing:  97%|█████████▋| 1026/1060 [48:14<01:05,  1.93s/it]"
     ]
    },
    {
     "name": "stdout",
     "output_type": "stream",
     "text": [
      "===== 调试信息：服务器返回 =====\n",
      "{\"id\":\"0194dc847e548b392ce15dae5ddccd9d\",\"object\":\"chat.completion\",\"created\":1738866458,\"model\":\"Qwen/Qwen2.5-32B-Instruct\",\"choices\":[{\"index\":0,\"message\":{\"role\":\"assistant\",\"content\":\"{\\n  \\\"classification\\\": \\\"军事和防御\\\",\\n  \\\"sentiment\\\": \\\"neutral\\\"\\n}\"},\"finish_reason\":\"stop\"}],\"usage\":{\"prompt_tokens\":2870,\"completion_tokens\":19,\"total_tokens\":2889},\"system_fingerprint\":\"\"}\n",
      "=============================\n",
      "\n"
     ]
    },
    {
     "name": "stderr",
     "output_type": "stream",
     "text": [
      "Processing:  97%|█████████▋| 1027/1060 [48:15<00:59,  1.80s/it]"
     ]
    },
    {
     "name": "stdout",
     "output_type": "stream",
     "text": [
      "===== 调试信息：服务器返回 =====\n",
      "{\"id\":\"0194dc8485122fe7575cab56d421ad90\",\"object\":\"chat.completion\",\"created\":1738866459,\"model\":\"Qwen/Qwen2.5-32B-Instruct\",\"choices\":[{\"index\":0,\"message\":{\"role\":\"assistant\",\"content\":\"{\\n  \\\"classification\\\": \\\"文化活动\\\",\\n  \\\"sentiment\\\": \\\"pleasure\\\"\\n}\"},\"finish_reason\":\"stop\"}],\"usage\":{\"prompt_tokens\":1398,\"completion_tokens\":19,\"total_tokens\":1417},\"system_fingerprint\":\"\"}\n",
      "=============================\n",
      "\n"
     ]
    },
    {
     "name": "stderr",
     "output_type": "stream",
     "text": [
      "Processing:  97%|█████████▋| 1028/1060 [48:16<00:53,  1.68s/it]"
     ]
    },
    {
     "name": "stdout",
     "output_type": "stream",
     "text": [
      "===== 调试信息：服务器返回 =====\n",
      "{\"id\":\"0194dc8489ab2ecf52365ee7da101836\",\"object\":\"chat.completion\",\"created\":1738866461,\"model\":\"Qwen/Qwen2.5-32B-Instruct\",\"choices\":[{\"index\":0,\"message\":{\"role\":\"assistant\",\"content\":\"{\\n  \\\"classification\\\": \\\"社会关系\\\",\\n  \\\"sentiment\\\": \\\"positive\\\"\\n}\"},\"finish_reason\":\"stop\"}],\"usage\":{\"prompt_tokens\":1353,\"completion_tokens\":18,\"total_tokens\":1371},\"system_fingerprint\":\"\"}\n",
      "=============================\n",
      "\n"
     ]
    },
    {
     "name": "stderr",
     "output_type": "stream",
     "text": [
      "Processing:  97%|█████████▋| 1029/1060 [48:18<00:47,  1.52s/it]"
     ]
    },
    {
     "name": "stdout",
     "output_type": "stream",
     "text": [
      "===== 调试信息：服务器返回 =====\n",
      "{\"id\":\"0194dc848e32c84a8d06a1da4ba34983\",\"object\":\"chat.completion\",\"created\":1738866462,\"model\":\"Qwen/Qwen2.5-32B-Instruct\",\"choices\":[{\"index\":0,\"message\":{\"role\":\"assistant\",\"content\":\"{\\n  \\\"classification\\\": \\\"国内政治\\\",\\n  \\\"sentiment\\\": \\\"neutral\\\"\\n}\"},\"finish_reason\":\"stop\"}],\"usage\":{\"prompt_tokens\":1296,\"completion_tokens\":18,\"total_tokens\":1314},\"system_fingerprint\":\"\"}\n",
      "=============================\n",
      "\n"
     ]
    },
    {
     "name": "stderr",
     "output_type": "stream",
     "text": [
      "Processing:  97%|█████████▋| 1030/1060 [48:19<00:42,  1.43s/it]"
     ]
    },
    {
     "name": "stdout",
     "output_type": "stream",
     "text": [
      "===== 调试信息：服务器返回 =====\n",
      "{\"id\":\"0194dc84938ba3432911fe0d25a80945\",\"object\":\"chat.completion\",\"created\":1738866463,\"model\":\"Qwen/Qwen2.5-32B-Instruct\",\"choices\":[{\"index\":0,\"message\":{\"role\":\"assistant\",\"content\":\"{\\n  \\\"classification\\\": \\\"文化活动\\\",\\n  \\\"sentiment\\\": \\\"pleasure\\\"\\n}\"},\"finish_reason\":\"stop\"}],\"usage\":{\"prompt_tokens\":1523,\"completion_tokens\":19,\"total_tokens\":1542},\"system_fingerprint\":\"\"}\n",
      "=============================\n",
      "\n"
     ]
    },
    {
     "name": "stderr",
     "output_type": "stream",
     "text": [
      "Processing:  97%|█████████▋| 1031/1060 [48:20<00:41,  1.42s/it]"
     ]
    },
    {
     "name": "stdout",
     "output_type": "stream",
     "text": [
      "===== 调试信息：服务器返回 =====\n",
      "{\"id\":\"0194dc8498d6d05f792f164faef7957a\",\"object\":\"chat.completion\",\"created\":1738866465,\"model\":\"Qwen/Qwen2.5-32B-Instruct\",\"choices\":[{\"index\":0,\"message\":{\"role\":\"assistant\",\"content\":\"{\\n  \\\"classification\\\": \\\"文化活动\\\",\\n  \\\"sentiment\\\": \\\"pleasure\\\"\\n}\"},\"finish_reason\":\"stop\"}],\"usage\":{\"prompt_tokens\":8004,\"completion_tokens\":19,\"total_tokens\":8023},\"system_fingerprint\":\"\"}\n",
      "=============================\n",
      "\n"
     ]
    },
    {
     "name": "stderr",
     "output_type": "stream",
     "text": [
      "Processing:  97%|█████████▋| 1032/1060 [48:23<00:48,  1.73s/it]"
     ]
    },
    {
     "name": "stdout",
     "output_type": "stream",
     "text": [
      "===== 调试信息：服务器返回 =====\n",
      "{\"id\":\"0194dc84a2115ede15b61a5ccf242738\",\"object\":\"chat.completion\",\"created\":1738866467,\"model\":\"Qwen/Qwen2.5-32B-Instruct\",\"choices\":[{\"index\":0,\"message\":{\"role\":\"assistant\",\"content\":\"{\\n  \\\"classification\\\": \\\"其他\\\",\\n  \\\"sentiment\\\": \\\"neutral\\\"\\n}\"},\"finish_reason\":\"stop\"}],\"usage\":{\"prompt_tokens\":1183,\"completion_tokens\":17,\"total_tokens\":1200},\"system_fingerprint\":\"\"}\n",
      "=============================\n",
      "\n"
     ]
    },
    {
     "name": "stderr",
     "output_type": "stream",
     "text": [
      "Processing:  97%|█████████▋| 1033/1060 [48:24<00:41,  1.55s/it]"
     ]
    },
    {
     "name": "stdout",
     "output_type": "stream",
     "text": [
      "===== 调试信息：服务器返回 =====\n",
      "{\"id\":\"0194dc84a65e512b8ec66abd0dc6933b\",\"object\":\"chat.completion\",\"created\":1738866468,\"model\":\"Qwen/Qwen2.5-32B-Instruct\",\"choices\":[{\"index\":0,\"message\":{\"role\":\"assistant\",\"content\":\"{\\n  \\\"classification\\\": \\\"国际政治\\\",\\n  \\\"sentiment\\\": \\\"negative\\\"\\n}\"},\"finish_reason\":\"stop\"}],\"usage\":{\"prompt_tokens\":1566,\"completion_tokens\":18,\"total_tokens\":1584},\"system_fingerprint\":\"\"}\n",
      "=============================\n",
      "\n"
     ]
    },
    {
     "name": "stderr",
     "output_type": "stream",
     "text": [
      "Processing:  98%|█████████▊| 1034/1060 [48:25<00:37,  1.45s/it]"
     ]
    },
    {
     "name": "stdout",
     "output_type": "stream",
     "text": [
      "===== 调试信息：服务器返回 =====\n",
      "{\"id\":\"0194dc84abf7362b4ff04ab3a301a493\",\"object\":\"chat.completion\",\"created\":1738866469,\"model\":\"Qwen/Qwen2.5-32B-Instruct\",\"choices\":[{\"index\":0,\"message\":{\"role\":\"assistant\",\"content\":\"{\\n  \\\"classification\\\": \\\"体育\\\",\\n  \\\"sentiment\\\": \\\"positive\\\"\\n}\"},\"finish_reason\":\"stop\"}],\"usage\":{\"prompt_tokens\":2031,\"completion_tokens\":17,\"total_tokens\":2048},\"system_fingerprint\":\"\"}\n",
      "=============================\n",
      "\n"
     ]
    },
    {
     "name": "stderr",
     "output_type": "stream",
     "text": [
      "Processing:  98%|█████████▊| 1035/1060 [48:27<00:36,  1.46s/it]"
     ]
    },
    {
     "name": "stdout",
     "output_type": "stream",
     "text": [
      "===== 调试信息：服务器返回 =====\n",
      "{\"id\":\"0194dc84b0e4f00e9e346d7219d701d3\",\"object\":\"chat.completion\",\"created\":1738866471,\"model\":\"Qwen/Qwen2.5-32B-Instruct\",\"choices\":[{\"index\":0,\"message\":{\"role\":\"assistant\",\"content\":\"{\\n  \\\"classification\\\": \\\"经济\\\",\\n  \\\"sentiment\\\": \\\"negative\\\"\\n}\"},\"finish_reason\":\"stop\"}],\"usage\":{\"prompt_tokens\":1329,\"completion_tokens\":17,\"total_tokens\":1346},\"system_fingerprint\":\"\"}\n",
      "=============================\n",
      "\n"
     ]
    },
    {
     "name": "stderr",
     "output_type": "stream",
     "text": [
      "Processing:  98%|█████████▊| 1036/1060 [48:28<00:32,  1.37s/it]"
     ]
    },
    {
     "name": "stdout",
     "output_type": "stream",
     "text": [
      "===== 调试信息：服务器返回 =====\n",
      "{\"id\":\"0194dc84b55f3392c631009e1d626dbd\",\"object\":\"chat.completion\",\"created\":1738866472,\"model\":\"Qwen/Qwen2.5-32B-Instruct\",\"choices\":[{\"index\":0,\"message\":{\"role\":\"assistant\",\"content\":\"{\\n  \\\"classification\\\": \\\"科技\\\",\\n  \\\"sentiment\\\": \\\"positive\\\"\\n}\"},\"finish_reason\":\"stop\"}],\"usage\":{\"prompt_tokens\":850,\"completion_tokens\":17,\"total_tokens\":867},\"system_fingerprint\":\"\"}\n",
      "=============================\n",
      "\n"
     ]
    },
    {
     "name": "stderr",
     "output_type": "stream",
     "text": [
      "Processing:  98%|█████████▊| 1037/1060 [48:29<00:29,  1.29s/it]"
     ]
    },
    {
     "name": "stdout",
     "output_type": "stream",
     "text": [
      "===== 调试信息：服务器返回 =====\n",
      "{\"id\":\"0194dc84ba324d4dd52dd2e1b0f040e0\",\"object\":\"chat.completion\",\"created\":1738866473,\"model\":\"Qwen/Qwen2.5-32B-Instruct\",\"choices\":[{\"index\":0,\"message\":{\"role\":\"assistant\",\"content\":\"{\\n  \\\"classification\\\": \\\"经济\\\",\\n  \\\"sentiment\\\": \\\"neutral\\\"\\n}\"},\"finish_reason\":\"stop\"}],\"usage\":{\"prompt_tokens\":2547,\"completion_tokens\":17,\"total_tokens\":2564},\"system_fingerprint\":\"\"}\n",
      "=============================\n",
      "\n"
     ]
    },
    {
     "name": "stderr",
     "output_type": "stream",
     "text": [
      "Processing:  98%|█████████▊| 1038/1060 [48:30<00:30,  1.39s/it]"
     ]
    },
    {
     "name": "stdout",
     "output_type": "stream",
     "text": [
      "===== 调试信息：服务器返回 =====\n",
      "{\"id\":\"0194dc84c07bf5a299a28cb47eadd911\",\"object\":\"chat.completion\",\"created\":1738866475,\"model\":\"Qwen/Qwen2.5-32B-Instruct\",\"choices\":[{\"index\":0,\"message\":{\"role\":\"assistant\",\"content\":\"{\\n  \\\"classification\\\": \\\"国际政治\\\",\\n  \\\"sentiment\\\": \\\"neutral\\\"\\n}\"},\"finish_reason\":\"stop\"}],\"usage\":{\"prompt_tokens\":833,\"completion_tokens\":18,\"total_tokens\":851},\"system_fingerprint\":\"\"}\n",
      "=============================\n",
      "\n"
     ]
    },
    {
     "name": "stderr",
     "output_type": "stream",
     "text": [
      "Processing:  98%|█████████▊| 1039/1060 [48:32<00:28,  1.34s/it]"
     ]
    },
    {
     "name": "stdout",
     "output_type": "stream",
     "text": [
      "===== 调试信息：服务器返回 =====\n",
      "{\"id\":\"0194dc84c4ffda05ddcc1c8446974478\",\"object\":\"chat.completion\",\"created\":1738866476,\"model\":\"Qwen/Qwen2.5-32B-Instruct\",\"choices\":[{\"index\":0,\"message\":{\"role\":\"assistant\",\"content\":\"{\\n  \\\"classification\\\": \\\"商务活动\\\",\\n  \\\"sentiment\\\": \\\"neutral\\\"\\n}\"},\"finish_reason\":\"stop\"}],\"usage\":{\"prompt_tokens\":1632,\"completion_tokens\":18,\"total_tokens\":1650},\"system_fingerprint\":\"\"}\n",
      "=============================\n",
      "\n"
     ]
    },
    {
     "name": "stderr",
     "output_type": "stream",
     "text": [
      "Processing:  98%|█████████▊| 1040/1060 [48:33<00:28,  1.44s/it]"
     ]
    },
    {
     "name": "stdout",
     "output_type": "stream",
     "text": [
      "===== 调试信息：服务器返回 =====\n",
      "{\"id\":\"0194dc84cbad3f0edbe92eff949006f7\",\"object\":\"chat.completion\",\"created\":1738866478,\"model\":\"Qwen/Qwen2.5-32B-Instruct\",\"choices\":[{\"index\":0,\"message\":{\"role\":\"assistant\",\"content\":\"{\\n  \\\"classification\\\": \\\"经济\\\",\\n  \\\"sentiment\\\": \\\"negative\\\"\\n}\"},\"finish_reason\":\"stop\"}],\"usage\":{\"prompt_tokens\":1346,\"completion_tokens\":17,\"total_tokens\":1363},\"system_fingerprint\":\"\"}\n",
      "=============================\n",
      "\n"
     ]
    },
    {
     "name": "stderr",
     "output_type": "stream",
     "text": [
      "Processing:  98%|█████████▊| 1041/1060 [48:35<00:28,  1.48s/it]"
     ]
    },
    {
     "name": "stdout",
     "output_type": "stream",
     "text": [
      "===== 调试信息：服务器返回 =====\n",
      "{\"id\":\"0194dc84d1a449b7b65a423356e793b4\",\"object\":\"chat.completion\",\"created\":1738866479,\"model\":\"Qwen/Qwen2.5-32B-Instruct\",\"choices\":[{\"index\":0,\"message\":{\"role\":\"assistant\",\"content\":\"{\\n  \\\"classification\\\": \\\"灾害\\\",\\n  \\\"sentiment\\\": \\\"negative\\\"\\n}\"},\"finish_reason\":\"stop\"}],\"usage\":{\"prompt_tokens\":1852,\"completion_tokens\":17,\"total_tokens\":1869},\"system_fingerprint\":\"\"}\n",
      "=============================\n",
      "\n"
     ]
    },
    {
     "name": "stderr",
     "output_type": "stream",
     "text": [
      "Processing:  98%|█████████▊| 1042/1060 [48:36<00:25,  1.41s/it]"
     ]
    },
    {
     "name": "stdout",
     "output_type": "stream",
     "text": [
      "===== 调试信息：服务器返回 =====\n",
      "{\"id\":\"0194dc84d6b073905430a907cba73bcc\",\"object\":\"chat.completion\",\"created\":1738866480,\"model\":\"Qwen/Qwen2.5-32B-Instruct\",\"choices\":[{\"index\":0,\"message\":{\"role\":\"assistant\",\"content\":\"{\\n  \\\"classification\\\": \\\"环境\\\",\\n  \\\"sentiment\\\": \\\"negative\\\"\\n}\"},\"finish_reason\":\"stop\"}],\"usage\":{\"prompt_tokens\":2675,\"completion_tokens\":17,\"total_tokens\":2692},\"system_fingerprint\":\"\"}\n",
      "=============================\n",
      "\n"
     ]
    },
    {
     "name": "stderr",
     "output_type": "stream",
     "text": [
      "Processing:  98%|█████████▊| 1043/1060 [48:38<00:24,  1.43s/it]"
     ]
    },
    {
     "name": "stdout",
     "output_type": "stream",
     "text": [
      "===== 调试信息：服务器返回 =====\n",
      "{\"id\":\"0194dc84ddc856dfa86c764487959a5f\",\"object\":\"chat.completion\",\"created\":1738866482,\"model\":\"Qwen/Qwen2.5-32B-Instruct\",\"choices\":[{\"index\":0,\"message\":{\"role\":\"assistant\",\"content\":\"{\\n  \\\"classification\\\": \\\"环境\\\",\\n  \\\"sentiment\\\": \\\"negative\\\"\\n}\"},\"finish_reason\":\"stop\"}],\"usage\":{\"prompt_tokens\":3343,\"completion_tokens\":17,\"total_tokens\":3360},\"system_fingerprint\":\"\"}\n",
      "=============================\n",
      "\n"
     ]
    },
    {
     "name": "stderr",
     "output_type": "stream",
     "text": [
      "Processing:  98%|█████████▊| 1044/1060 [48:40<00:25,  1.59s/it]"
     ]
    },
    {
     "name": "stdout",
     "output_type": "stream",
     "text": [
      "===== 调试信息：服务器返回 =====\n",
      "{\"id\":\"0194dc84e42845fa561370f50bfcc62e\",\"object\":\"chat.completion\",\"created\":1738866484,\"model\":\"Qwen/Qwen2.5-32B-Instruct\",\"choices\":[{\"index\":0,\"message\":{\"role\":\"assistant\",\"content\":\"{\\n  \\\"classification\\\": \\\"体育\\\",\\n  \\\"sentiment\\\": \\\"negative\\\"\\n}\"},\"finish_reason\":\"stop\"}],\"usage\":{\"prompt_tokens\":965,\"completion_tokens\":17,\"total_tokens\":982},\"system_fingerprint\":\"\"}\n",
      "=============================\n",
      "\n"
     ]
    },
    {
     "name": "stderr",
     "output_type": "stream",
     "text": [
      "Processing:  99%|█████████▊| 1045/1060 [48:41<00:21,  1.46s/it]"
     ]
    },
    {
     "name": "stdout",
     "output_type": "stream",
     "text": [
      "===== 调试信息：服务器返回 =====\n",
      "{\"id\":\"0194dc84e85c297cd05445ca02dda2bb\",\"object\":\"chat.completion\",\"created\":1738866485,\"model\":\"Qwen/Qwen2.5-32B-Instruct\",\"choices\":[{\"index\":0,\"message\":{\"role\":\"assistant\",\"content\":\"{\\n  \\\"classification\\\": \\\"科技\\\",\\n  \\\"sentiment\\\": \\\"pleasure\\\"\\n}\"},\"finish_reason\":\"stop\"}],\"usage\":{\"prompt_tokens\":2241,\"completion_tokens\":18,\"total_tokens\":2259},\"system_fingerprint\":\"\"}\n",
      "=============================\n",
      "\n"
     ]
    },
    {
     "name": "stderr",
     "output_type": "stream",
     "text": [
      "Processing:  99%|█████████▊| 1046/1060 [48:42<00:19,  1.41s/it]"
     ]
    },
    {
     "name": "stdout",
     "output_type": "stream",
     "text": [
      "===== 调试信息：服务器返回 =====\n",
      "{\"id\":\"0194dc84ee6676b0c450e7f5ea922cb7\",\"object\":\"chat.completion\",\"created\":1738866486,\"model\":\"Qwen/Qwen2.5-32B-Instruct\",\"choices\":[{\"index\":0,\"message\":{\"role\":\"assistant\",\"content\":\"{\\n  \\\"classification\\\": \\\"国际政治\\\",\\n  \\\"sentiment\\\": \\\"negative\\\"\\n}\"},\"finish_reason\":\"stop\"}],\"usage\":{\"prompt_tokens\":4542,\"completion_tokens\":18,\"total_tokens\":4560},\"system_fingerprint\":\"\"}\n",
      "=============================\n",
      "\n"
     ]
    },
    {
     "name": "stderr",
     "output_type": "stream",
     "text": [
      "Processing:  99%|█████████▉| 1047/1060 [48:44<00:20,  1.58s/it]"
     ]
    },
    {
     "name": "stdout",
     "output_type": "stream",
     "text": [
      "===== 调试信息：服务器返回 =====\n",
      "{\"id\":\"0194dc84f622f4807bc7755fc97bd5ca\",\"object\":\"chat.completion\",\"created\":1738866488,\"model\":\"Qwen/Qwen2.5-32B-Instruct\",\"choices\":[{\"index\":0,\"message\":{\"role\":\"assistant\",\"content\":\"{\\n  \\\"classification\\\": \\\"国内政治\\\",\\n  \\\"sentiment\\\": \\\"neutral\\\"\\n}\"},\"finish_reason\":\"stop\"}],\"usage\":{\"prompt_tokens\":1866,\"completion_tokens\":18,\"total_tokens\":1884},\"system_fingerprint\":\"\"}\n",
      "=============================\n",
      "\n"
     ]
    },
    {
     "name": "stderr",
     "output_type": "stream",
     "text": [
      "Processing:  99%|█████████▉| 1048/1060 [48:45<00:18,  1.55s/it]"
     ]
    },
    {
     "name": "stdout",
     "output_type": "stream",
     "text": [
      "===== 调试信息：服务器返回 =====\n",
      "{\"id\":\"0194dc84fb800db723d9a4c7fb2ae377\",\"object\":\"chat.completion\",\"created\":1738866490,\"model\":\"Qwen/Qwen2.5-32B-Instruct\",\"choices\":[{\"index\":0,\"message\":{\"role\":\"assistant\",\"content\":\"{\\n  \\\"classification\\\": \\\"国际政治\\\",\\n  \\\"sentiment\\\": \\\"negative\\\"\\n}\"},\"finish_reason\":\"stop\"}],\"usage\":{\"prompt_tokens\":1502,\"completion_tokens\":18,\"total_tokens\":1520},\"system_fingerprint\":\"\"}\n",
      "=============================\n",
      "\n"
     ]
    },
    {
     "name": "stderr",
     "output_type": "stream",
     "text": [
      "Processing:  99%|█████████▉| 1049/1060 [48:47<00:16,  1.53s/it]"
     ]
    },
    {
     "name": "stdout",
     "output_type": "stream",
     "text": [
      "===== 调试信息：服务器返回 =====\n",
      "{\"id\":\"0194dc85010e704e027282cd2afac416\",\"object\":\"chat.completion\",\"created\":1738866491,\"model\":\"Qwen/Qwen2.5-32B-Instruct\",\"choices\":[{\"index\":0,\"message\":{\"role\":\"assistant\",\"content\":\"{\\n  \\\"classification\\\": \\\"科技\\\",\\n  \\\"sentiment\\\": \\\"pleasure\\\"\\n}\"},\"finish_reason\":\"stop\"}],\"usage\":{\"prompt_tokens\":1266,\"completion_tokens\":18,\"total_tokens\":1284},\"system_fingerprint\":\"\"}\n",
      "=============================\n",
      "\n"
     ]
    },
    {
     "name": "stderr",
     "output_type": "stream",
     "text": [
      "Processing:  99%|█████████▉| 1050/1060 [48:48<00:14,  1.44s/it]"
     ]
    },
    {
     "name": "stdout",
     "output_type": "stream",
     "text": [
      "===== 调试信息：服务器返回 =====\n",
      "{\"id\":\"0194dc85058400968ef8c94961105f97\",\"object\":\"chat.completion\",\"created\":1738866492,\"model\":\"Qwen/Qwen2.5-32B-Instruct\",\"choices\":[{\"index\":0,\"message\":{\"role\":\"assistant\",\"content\":\"{\\n  \\\"classification\\\": \\\"军事和防御\\\",\\n  \\\"sentiment\\\": \\\"neutral\\\"\\n}\"},\"finish_reason\":\"stop\"}],\"usage\":{\"prompt_tokens\":1600,\"completion_tokens\":19,\"total_tokens\":1619},\"system_fingerprint\":\"\"}\n",
      "=============================\n",
      "\n"
     ]
    },
    {
     "name": "stderr",
     "output_type": "stream",
     "text": [
      "Processing:  99%|█████████▉| 1051/1060 [48:49<00:12,  1.37s/it]"
     ]
    },
    {
     "name": "stdout",
     "output_type": "stream",
     "text": [
      "===== 调试信息：服务器返回 =====\n",
      "{\"id\":\"0194dc850a830de73c551aa8eb9fef10\",\"object\":\"chat.completion\",\"created\":1738866494,\"model\":\"Qwen/Qwen2.5-32B-Instruct\",\"choices\":[{\"index\":0,\"message\":{\"role\":\"assistant\",\"content\":\"{\\n  \\\"classification\\\": \\\"国内政治\\\",\\n  \\\"sentiment\\\": \\\"negative\\\"\\n}\"},\"finish_reason\":\"stop\"}],\"usage\":{\"prompt_tokens\":1673,\"completion_tokens\":18,\"total_tokens\":1691},\"system_fingerprint\":\"\"}\n",
      "=============================\n",
      "\n"
     ]
    },
    {
     "name": "stderr",
     "output_type": "stream",
     "text": [
      "Processing:  99%|█████████▉| 1052/1060 [48:51<00:10,  1.35s/it]"
     ]
    },
    {
     "name": "stdout",
     "output_type": "stream",
     "text": [
      "===== 调试信息：服务器返回 =====\n",
      "{\"id\":\"0194dc850f98c97b87d6f5050262cafc\",\"object\":\"chat.completion\",\"created\":1738866495,\"model\":\"Qwen/Qwen2.5-32B-Instruct\",\"choices\":[{\"index\":0,\"message\":{\"role\":\"assistant\",\"content\":\"{\\n  \\\"classification\\\": \\\"文化活动\\\",\\n  \\\"sentiment\\\": \\\"pain\\\"\\n}\"},\"finish_reason\":\"stop\"}],\"usage\":{\"prompt_tokens\":2033,\"completion_tokens\":18,\"total_tokens\":2051},\"system_fingerprint\":\"\"}\n",
      "=============================\n",
      "\n"
     ]
    },
    {
     "name": "stderr",
     "output_type": "stream",
     "text": [
      "Processing:  99%|█████████▉| 1053/1060 [48:52<00:09,  1.35s/it]"
     ]
    },
    {
     "name": "stdout",
     "output_type": "stream",
     "text": [
      "===== 调试信息：服务器返回 =====\n",
      "{\"id\":\"0194dc8514b1df03c388d2cadb10eaeb\",\"object\":\"chat.completion\",\"created\":1738866496,\"model\":\"Qwen/Qwen2.5-32B-Instruct\",\"choices\":[{\"index\":0,\"message\":{\"role\":\"assistant\",\"content\":\"{\\n  \\\"classification\\\": \\\"国际政治\\\",\\n  \\\"sentiment\\\": \\\"negative\\\"\\n}\"},\"finish_reason\":\"stop\"}],\"usage\":{\"prompt_tokens\":1109,\"completion_tokens\":18,\"total_tokens\":1127},\"system_fingerprint\":\"\"}\n",
      "=============================\n",
      "\n"
     ]
    },
    {
     "name": "stderr",
     "output_type": "stream",
     "text": [
      "Processing:  99%|█████████▉| 1054/1060 [48:53<00:07,  1.31s/it]"
     ]
    },
    {
     "name": "stdout",
     "output_type": "stream",
     "text": [
      "===== 调试信息：服务器返回 =====\n",
      "{\"id\":\"0194dc8519d85236e19a5a521d0ff88c\",\"object\":\"chat.completion\",\"created\":1738866498,\"model\":\"Qwen/Qwen2.5-32B-Instruct\",\"choices\":[{\"index\":0,\"message\":{\"role\":\"assistant\",\"content\":\"{\\n  \\\"classification\\\": \\\"经济\\\",\\n  \\\"sentiment\\\": \\\"positive\\\"\\n}\"},\"finish_reason\":\"stop\"}],\"usage\":{\"prompt_tokens\":1628,\"completion_tokens\":17,\"total_tokens\":1645},\"system_fingerprint\":\"\"}\n",
      "=============================\n",
      "\n"
     ]
    },
    {
     "name": "stderr",
     "output_type": "stream",
     "text": [
      "Processing: 100%|█████████▉| 1055/1060 [48:55<00:06,  1.33s/it]"
     ]
    },
    {
     "name": "stdout",
     "output_type": "stream",
     "text": [
      "===== 调试信息：服务器返回 =====\n",
      "{\"id\":\"0194dc851fef791f3c04b7be6b7e5686\",\"object\":\"chat.completion\",\"created\":1738866499,\"model\":\"Qwen/Qwen2.5-32B-Instruct\",\"choices\":[{\"index\":0,\"message\":{\"role\":\"assistant\",\"content\":\"{\\n  \\\"classification\\\": \\\"国际政治\\\",\\n  \\\"sentiment\\\": \\\"neutral\\\"\\n}\"},\"finish_reason\":\"stop\"}],\"usage\":{\"prompt_tokens\":874,\"completion_tokens\":18,\"total_tokens\":892},\"system_fingerprint\":\"\"}\n",
      "=============================\n",
      "\n"
     ]
    },
    {
     "name": "stderr",
     "output_type": "stream",
     "text": [
      "Processing: 100%|█████████▉| 1056/1060 [48:56<00:05,  1.35s/it]"
     ]
    },
    {
     "name": "stdout",
     "output_type": "stream",
     "text": [
      "===== 调试信息：服务器返回 =====\n",
      "{\"id\":\"0194dc852451f9cc2d36b7cfd94b1e9a\",\"object\":\"chat.completion\",\"created\":1738866500,\"model\":\"Qwen/Qwen2.5-32B-Instruct\",\"choices\":[{\"index\":0,\"message\":{\"role\":\"assistant\",\"content\":\"{\\n  \\\"classification\\\": \\\"卫生福利\\\",\\n  \\\"sentiment\\\": \\\"negative\\\"\\n}\"},\"finish_reason\":\"stop\"}],\"usage\":{\"prompt_tokens\":1050,\"completion_tokens\":18,\"total_tokens\":1068},\"system_fingerprint\":\"\"}\n",
      "=============================\n",
      "\n"
     ]
    },
    {
     "name": "stderr",
     "output_type": "stream",
     "text": [
      "Processing: 100%|█████████▉| 1057/1060 [48:57<00:03,  1.29s/it]"
     ]
    },
    {
     "name": "stdout",
     "output_type": "stream",
     "text": [
      "===== 调试信息：服务器返回 =====\n",
      "{\"id\":\"0194dc852965bdb887acbc2e9b84af36\",\"object\":\"chat.completion\",\"created\":1738866501,\"model\":\"Qwen/Qwen2.5-32B-Instruct\",\"choices\":[{\"index\":0,\"message\":{\"role\":\"assistant\",\"content\":\"{\\n  \\\"classification\\\": \\\"卫生福利\\\",\\n  \\\"sentiment\\\": \\\"positive\\\"\\n}\"},\"finish_reason\":\"stop\"}],\"usage\":{\"prompt_tokens\":1622,\"completion_tokens\":18,\"total_tokens\":1640},\"system_fingerprint\":\"\"}\n",
      "=============================\n",
      "\n"
     ]
    },
    {
     "name": "stderr",
     "output_type": "stream",
     "text": [
      "Processing: 100%|█████████▉| 1058/1060 [48:59<00:02,  1.32s/it]"
     ]
    },
    {
     "name": "stdout",
     "output_type": "stream",
     "text": [
      "===== 调试信息：服务器返回 =====\n",
      "{\"id\":\"0194dc852e46cc1d51b6b5984cb8e436\",\"object\":\"chat.completion\",\"created\":1738866503,\"model\":\"Qwen/Qwen2.5-32B-Instruct\",\"choices\":[{\"index\":0,\"message\":{\"role\":\"assistant\",\"content\":\"{\\n  \\\"classification\\\": \\\"交通\\\",\\n  \\\"sentiment\\\": \\\"negative\\\"\\n}\"},\"finish_reason\":\"stop\"}],\"usage\":{\"prompt_tokens\":889,\"completion_tokens\":17,\"total_tokens\":906},\"system_fingerprint\":\"\"}\n",
      "=============================\n",
      "\n"
     ]
    },
    {
     "name": "stderr",
     "output_type": "stream",
     "text": [
      "Processing: 100%|█████████▉| 1059/1060 [49:00<00:01,  1.27s/it]"
     ]
    },
    {
     "name": "stdout",
     "output_type": "stream",
     "text": [
      "===== 调试信息：服务器返回 =====\n",
      "{\"id\":\"0194dc8532da15522cbbad56ba35d488\",\"object\":\"chat.completion\",\"created\":1738866504,\"model\":\"Qwen/Qwen2.5-32B-Instruct\",\"choices\":[{\"index\":0,\"message\":{\"role\":\"assistant\",\"content\":\"{\\n  \\\"classification\\\": \\\"卫生福利\\\",\\n  \\\"sentiment\\\": \\\"positive\\\"\\n}\"},\"finish_reason\":\"stop\"}],\"usage\":{\"prompt_tokens\":3245,\"completion_tokens\":18,\"total_tokens\":3263},\"system_fingerprint\":\"\"}\n",
      "=============================\n",
      "\n"
     ]
    },
    {
     "name": "stderr",
     "output_type": "stream",
     "text": [
      "Processing: 100%|██████████| 1060/1060 [49:01<00:00,  2.78s/it]\n"
     ]
    }
   ],
   "source": [
    "# ========== 3. 主流程 ==========\n",
    "df = pd.read_excel(INPUT_EXCEL)\n",
    "results = []\n",
    "for idx, row in tqdm(df.iterrows(), total=df.shape[0], desc=\"Processing\"):\n",
    "    art_id = row['id']\n",
    "    title = row['title']\n",
    "    text = row['text']\n",
    "\n",
    "    category, sentiment = get_classification_and_sentiment(title, text)\n",
    "    results.append({\n",
    "        'id': art_id,\n",
    "        'title': title,\n",
    "        'text': text,\n",
    "        'classification': category,\n",
    "        'sentiment': sentiment\n",
    "    })\n",
    "\n",
    "        # 为了避免频繁请求导致触发速率限制，每次请求间等待一定时间\n",
    "    time.sleep(0.5)"
   ]
  },
  {
   "cell_type": "code",
   "execution_count": 4,
   "id": "02ee9df1",
   "metadata": {},
   "outputs": [
    {
     "name": "stdout",
     "output_type": "stream",
     "text": [
      "处理完成，结果已保存到：output_file.xlsx\n"
     ]
    }
   ],
   "source": [
    "result_df = pd.DataFrame(results).sort_values(by='id')\n",
    "result_df.to_excel(OUTPUT_EXCEL, index=False)\n",
    "print(f\"处理完成，结果已保存到：{OUTPUT_EXCEL}\")"
   ]
  },
  {
   "cell_type": "code",
   "execution_count": null,
   "id": "c9fb1161",
   "metadata": {},
   "outputs": [],
   "source": []
  }
 ],
 "metadata": {
  "kernelspec": {
   "display_name": "ArticleANA",
   "language": "python",
   "name": "python3"
  },
  "language_info": {
   "codemirror_mode": {
    "name": "ipython",
    "version": 3
   },
   "file_extension": ".py",
   "mimetype": "text/x-python",
   "name": "python",
   "nbconvert_exporter": "python",
   "pygments_lexer": "ipython3",
   "version": "3.8.20"
  }
 },
 "nbformat": 4,
 "nbformat_minor": 5
}
